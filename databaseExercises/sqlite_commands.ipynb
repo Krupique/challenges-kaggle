{
 "cells": [
  {
   "cell_type": "markdown",
   "metadata": {},
   "source": [
    "# SQLite 3 Basic commands"
   ]
  },
  {
   "cell_type": "code",
   "execution_count": null,
   "metadata": {},
   "outputs": [],
   "source": [
    "#!pip install sqlite3 #Install SQLite 3 on Phyton"
   ]
  },
  {
   "cell_type": "code",
   "execution_count": 1,
   "metadata": {},
   "outputs": [],
   "source": [
    "# Remove the file with SQLite database (if exists)\n",
    "import os\n",
    "os.remove(\"marvel.db\") if os.path.exists(\"marvel.db\") else None"
   ]
  },
  {
   "cell_type": "code",
   "execution_count": 2,
   "metadata": {},
   "outputs": [],
   "source": [
    "import sqlite3"
   ]
  },
  {
   "cell_type": "markdown",
   "metadata": {},
   "source": [
    "#### Create connection\n",
    "Creation of connection and cursos"
   ]
  },
  {
   "cell_type": "code",
   "execution_count": 3,
   "metadata": {},
   "outputs": [],
   "source": [
    "# Crieate connection\n",
    "conn = sqlite3.connect('marvel.db')   \n",
    "\n",
    "# Criate cursor\n",
    "c = conn.cursor()"
   ]
  },
  {
   "cell_type": "markdown",
   "metadata": {},
   "source": [
    "#### Create table\n",
    "\n",
    "Creation of table T_ACTORS. The table contains:\n",
    "* ACT_ID: data identifier\n",
    "* ACT_NAME: Actor or Actress name\n",
    "* ACT_AGE: Actor or Actress age\n",
    "* ACT_GEN: Actor or Actress gender\n",
    "* ACT_CHARACTER: Character played by the actor "
   ]
  },
  {
   "cell_type": "code",
   "execution_count": 4,
   "metadata": {},
   "outputs": [],
   "source": [
    "def create_table():\n",
    "    c.execute('CREATE TABLE IF NOT EXISTS T_ACTORS(ACT_ID INTEGER PRIMARY KEY AUTOINCREMENT NOT NULL, ACT_NAME TEXT, '\\\n",
    "              'ACT_AGE INTEGER, ACT_GEN CHAR, ACT_CHARACTER)')"
   ]
  },
  {
   "cell_type": "markdown",
   "metadata": {},
   "source": [
    "#### Insert function"
   ]
  },
  {
   "cell_type": "code",
   "execution_count": 5,
   "metadata": {},
   "outputs": [],
   "source": [
    "def data_insert(actor):\n",
    "    c.execute(\"INSERT INTO T_ACTORS VALUES('{}','{}', '{}', '{}', '{}')\".\n",
    "              format(actor['ACT_ID'],\n",
    "                     actor['ACT_NAME'], \n",
    "                     actor['ACT_AGE'],\n",
    "                     actor['ACT_GEN'], \n",
    "                     actor['ACT_CHARACTER']))\n",
    "    conn.commit()\n",
    "    #c.close()\n",
    "    #conn.close()"
   ]
  },
  {
   "cell_type": "markdown",
   "metadata": {},
   "source": [
    "#### Read function"
   ]
  },
  {
   "cell_type": "code",
   "execution_count": 6,
   "metadata": {},
   "outputs": [],
   "source": [
    "# Leitura de dados\n",
    "def read_all():\n",
    "    c.execute(\"SELECT * FROM T_ACTORS\")\n",
    "    for linha in c.fetchall():\n",
    "        print(linha)"
   ]
  },
  {
   "cell_type": "code",
   "execution_count": 7,
   "metadata": {},
   "outputs": [],
   "source": [
    "def read_where(where):\n",
    "    c.execute(\"SELECT * FROM T_ACTORS WHERE {}\".format(where))\n",
    "    for linha in c.fetchall():\n",
    "        print(linha)   "
   ]
  },
  {
   "cell_type": "markdown",
   "metadata": {},
   "source": [
    "#### Update function"
   ]
  },
  {
   "cell_type": "code",
   "execution_count": 8,
   "metadata": {},
   "outputs": [],
   "source": [
    "def update(actor):\n",
    "    c.execute(\"UPDATE T_ACTORS SET ACT_NAME = '{}', ACT_AGE = {}, ACT_GEN = '{}', ACT_CHARACTER = '{}' WHERE ACT_ID = {}\".\n",
    "    format(actor['ACT_NAME'], \n",
    "            actor['ACT_AGE'], \n",
    "            actor['ACT_GEN'], \n",
    "            actor['ACT_CHARACTER'], \n",
    "            actor['ACT_ID']))\n",
    "    conn.commit()"
   ]
  },
  {
   "cell_type": "markdown",
   "metadata": {},
   "source": [
    "#### Delete function"
   ]
  },
  {
   "cell_type": "code",
   "execution_count": 9,
   "metadata": {},
   "outputs": [],
   "source": [
    "def delete(id):\n",
    "    c.execute(\"DELETE FROM T_ACTORS WHERE ACT_ID = {}\".format(id))\n",
    "    conn.commit()"
   ]
  },
  {
   "cell_type": "markdown",
   "metadata": {},
   "source": [
    "#### Insert some data"
   ]
  },
  {
   "cell_type": "code",
   "execution_count": 12,
   "metadata": {},
   "outputs": [],
   "source": [
    "create_table()"
   ]
  },
  {
   "cell_type": "code",
   "execution_count": 13,
   "metadata": {},
   "outputs": [],
   "source": [
    "actorsList = [{ 'ACT_ID': 1, 'ACT_NAME': 'Robert Downey Jr.', 'ACT_AGE': 56, 'ACT_GEN': 'M', 'ACT_CHARACTER': 'Iron Man'},\n",
    "              { 'ACT_ID': 2, 'ACT_NAME': 'Chris Evans', 'ACT_AGE': 40, 'ACT_GEN': 'M', 'ACT_CHARACTER': 'Capitain America'},\n",
    "              { 'ACT_ID': 3, 'ACT_NAME': 'Chris Hemsworth', 'ACT_AGE': 38, 'ACT_GEN': 'M', 'ACT_CHARACTER': 'Thor'},\n",
    "              { 'ACT_ID': 4, 'ACT_NAME': 'Chris Pratt', 'ACT_AGE': 42, 'ACT_GEN': 'M', 'ACT_CHARACTER': 'Peter Quill'},\n",
    "              { 'ACT_ID': 5, 'ACT_NAME': 'Paul Rudd', 'ACT_AGE': 52, 'ACT_GEN': 'M', 'ACT_CHARACTER': 'Ant man'},\n",
    "              { 'ACT_ID': 6, 'ACT_NAME': 'Benedict Cumberbatch', 'ACT_AGE': 45, 'ACT_GEN': 'M', 'ACT_CHARACTER': 'Dr. Strange'},\n",
    "              { 'ACT_ID': 7, 'ACT_NAME': 'Tom Holland', 'ACT_AGE': 25, 'ACT_GEN': 'M', 'ACT_CHARACTER': 'Spider Man'},\n",
    "              { 'ACT_ID': 8, 'ACT_NAME': 'Scarlet Johansson', 'ACT_AGE': 43, 'ACT_GEN': 'M', 'ACT_CHARACTER': 'Black Panther'},\n",
    "              { 'ACT_ID': 9, 'ACT_NAME': 'Chadwich Boseman', 'ACT_AGE': 37, 'ACT_GEN': 'F', 'ACT_CHARACTER': 'Black Widow'},\n",
    "              { 'ACT_ID': 10, 'ACT_NAME': 'Elizabeth Olsen', 'ACT_AGE': 32, 'ACT_GEN': 'F', 'ACT_CHARACTER': 'Wanda Maximoff'}]"
   ]
  },
  {
   "cell_type": "code",
   "execution_count": 14,
   "metadata": {},
   "outputs": [],
   "source": [
    "for actor in actorsList:\n",
    "    data_insert(actor)"
   ]
  },
  {
   "cell_type": "markdown",
   "metadata": {},
   "source": [
    "#### Testing functions"
   ]
  },
  {
   "cell_type": "code",
   "execution_count": 18,
   "metadata": {},
   "outputs": [],
   "source": [
    "actor = {\n",
    "    'ACT_ID': 5,\n",
    "    'ACT_NAME': 'Mark Ruffalo',\n",
    "    'ACT_AGE': 54,\n",
    "    'ACT_GEN': 'M',\n",
    "    'ACT_CHARACTER': 'Hulk'\n",
    "}"
   ]
  },
  {
   "cell_type": "code",
   "execution_count": 22,
   "metadata": {},
   "outputs": [
    {
     "name": "stdout",
     "output_type": "stream",
     "text": [
      "(1, 'Robert Downey Jr.', 56, 'M', 'Iron Man')\n",
      "(2, 'Chris Evans', 40, 'M', 'Capitain America')\n",
      "(3, 'Chris Hemsworth', 38, 'M', 'Thor')\n",
      "(4, 'Chris Pratt', 42, 'M', 'Peter Quill')\n",
      "(5, 'Mark Ruffalo', 54, 'M', 'Hulk')\n",
      "(6, 'Benedict Cumberbatch', 45, 'M', 'Dr. Strange')\n",
      "(8, 'Scarlet Johansson', 43, 'M', 'Black Panther')\n",
      "(9, 'Chadwich Boseman', 37, 'F', 'Black Widow')\n",
      "(10, 'Elizabeth Olsen', 32, 'F', 'Wanda Maximoff')\n"
     ]
    }
   ],
   "source": [
    "read_all()"
   ]
  },
  {
   "cell_type": "code",
   "execution_count": 17,
   "metadata": {},
   "outputs": [
    {
     "name": "stdout",
     "output_type": "stream",
     "text": [
      "(2, 'Chris Evans', 40, 'M', 'Capitain America')\n",
      "(3, 'Chris Hemsworth', 38, 'M', 'Thor')\n",
      "(4, 'Chris Pratt', 42, 'M', 'Peter Quill')\n"
     ]
    }
   ],
   "source": [
    "read_where(\"ACT_NAME like '%Chris%'\")"
   ]
  },
  {
   "cell_type": "code",
   "execution_count": 19,
   "metadata": {},
   "outputs": [],
   "source": [
    "update(actor)"
   ]
  },
  {
   "cell_type": "code",
   "execution_count": 21,
   "metadata": {},
   "outputs": [],
   "source": [
    "delete(7)"
   ]
  },
  {
   "cell_type": "code",
   "execution_count": null,
   "metadata": {},
   "outputs": [],
   "source": []
  }
 ],
 "metadata": {
  "kernelspec": {
   "display_name": "Python 3",
   "language": "python",
   "name": "python3"
  },
  "language_info": {
   "codemirror_mode": {
    "name": "ipython",
    "version": 3
   },
   "file_extension": ".py",
   "mimetype": "text/x-python",
   "name": "python",
   "nbconvert_exporter": "python",
   "pygments_lexer": "ipython3",
   "version": "3.8.5"
  }
 },
 "nbformat": 4,
 "nbformat_minor": 4
}

{
 "cells": [
  {
   "cell_type": "code",
   "execution_count": 2,
   "metadata": {},
   "outputs": [],
   "source": [
    "import IPython\n",
    "from IPython.display import Image, Audio, Video\n",
    "import music21 as ms\n",
    "from midi2audio import FluidSynth\n",
    "import tensorflow \n",
    "import numpy as np \n",
    "import pandas as pd \n",
    "from collections import Counter\n",
    "import sys\n",
    "from sklearn.model_selection import train_test_split\n",
    "import warnings\n",
    "import os\n",
    "import matplotlib.pyplot as plt\n",
    "from tensorflow.keras.layers import LSTM, Dense, Dropout\n",
    "from tensorflow.keras.optimizers import Adamax\n",
    "import seaborn as sns\n",
    "from tensorflow.keras.callbacks import ModelCheckpoint\n",
    "import time"
   ]
  },
  {
   "cell_type": "markdown",
   "metadata": {},
   "source": [
    "Referências:<br/>\n",
    "https://web.mit.edu/music21/doc/usersGuide/usersGuide_15_key.html<br/>\n",
    "https://www.kaggle.com/code/karnikakapoor/music-generation-lstm#LOADING-DATA"
   ]
  },
  {
   "cell_type": "markdown",
   "metadata": {},
   "source": [
    "## Introdução ao pacote music21"
   ]
  },
  {
   "cell_type": "code",
   "execution_count": null,
   "metadata": {},
   "outputs": [],
   "source": [
    "ms.environment.set('musescoreDirectPNGPath', 'C:/Program Files/MuseScore 3/bin/MuseScore3.exe')\n",
    "ms.environment.UserSettings()['lilypondPath'] = 'C:/Program Files (x86)/LilyPond/usr/bin'"
   ]
  },
  {
   "cell_type": "code",
   "execution_count": null,
   "metadata": {},
   "outputs": [],
   "source": [
    "n = ms.note.Note('A#3')\n",
    "n.duration.type = 'half'\n",
    "n.show()"
   ]
  },
  {
   "cell_type": "code",
   "execution_count": null,
   "metadata": {},
   "outputs": [],
   "source": [
    "n.duration, n.name, n.octave, n.pitch, n.pitch.frequency"
   ]
  },
  {
   "cell_type": "code",
   "execution_count": null,
   "metadata": {},
   "outputs": [],
   "source": [
    "n.pitch.accidental, n.pitch.alter, n.pitch.midi"
   ]
  },
  {
   "cell_type": "code",
   "execution_count": null,
   "metadata": {},
   "outputs": [],
   "source": [
    "n.myAttribute = \"step by step we'll still play Chopin\""
   ]
  },
  {
   "cell_type": "code",
   "execution_count": null,
   "metadata": {},
   "outputs": [],
   "source": [
    "print(n.myAttribute)"
   ]
  },
  {
   "cell_type": "code",
   "execution_count": null,
   "metadata": {},
   "outputs": [],
   "source": [
    "r = ms.note.Rest()"
   ]
  },
  {
   "cell_type": "code",
   "execution_count": null,
   "metadata": {},
   "outputs": [],
   "source": [
    "r.duration.type = 'half'"
   ]
  },
  {
   "cell_type": "code",
   "execution_count": null,
   "metadata": {},
   "outputs": [],
   "source": [
    "r.show()"
   ]
  },
  {
   "cell_type": "code",
   "execution_count": null,
   "metadata": {},
   "outputs": [],
   "source": [
    "p1 = ms.pitch.Pitch('F#5')"
   ]
  },
  {
   "cell_type": "code",
   "execution_count": null,
   "metadata": {},
   "outputs": [],
   "source": [
    "print(p1.octave)\n",
    "print(p1.name)\n",
    "print(p1.nameWithOctave)\n",
    "print(p1.accidental)\n",
    "print(p1.midi)\n",
    "print(p1.spanish)\n",
    "print(p1.getEnharmonic())"
   ]
  },
  {
   "cell_type": "code",
   "execution_count": null,
   "metadata": {},
   "outputs": [],
   "source": [
    "n = ms.note.Note('A#3')\n",
    "print('whole')\n",
    "n.duration.type = 'whole'\n",
    "n.show()\n",
    "\n",
    "print('half')\n",
    "n.duration.type = 'half'\n",
    "n.show()\n",
    "\n",
    "print('quarter')\n",
    "n.duration.type = 'quarter'\n",
    "n.show()\n",
    "\n",
    "print('eighth')\n",
    "n.duration.type = 'eighth'\n",
    "n.show()"
   ]
  },
  {
   "cell_type": "code",
   "execution_count": null,
   "metadata": {},
   "outputs": [],
   "source": [
    "n = ms.note.Note('F-3')\n",
    "n.duration = ms.duration.Duration(0.5)\n",
    "print(n.duration.type)\n",
    "n.show()\n",
    "\n",
    "n.duration = ms.duration.Duration(1)\n",
    "print(n.duration.type)\n",
    "n.show()\n",
    "\n",
    "n.duration = ms.duration.Duration(2)\n",
    "print(n.duration.type)\n",
    "n.show()\n",
    "\n",
    "n.duration = ms.duration.Duration(4)\n",
    "print(n.duration.type)\n",
    "n.show()\n"
   ]
  },
  {
   "cell_type": "code",
   "execution_count": null,
   "metadata": {},
   "outputs": [],
   "source": [
    "n.addLyric('Lyric')\n",
    "n.show()"
   ]
  },
  {
   "cell_type": "markdown",
   "metadata": {},
   "source": [
    "### Notes lists, streams and outputs"
   ]
  },
  {
   "cell_type": "code",
   "execution_count": null,
   "metadata": {},
   "outputs": [],
   "source": [
    "n1 = ms.note.Note(nameWithOctave='c3', duration=ms.duration.Duration(1))\n",
    "n2 = ms.note.Note(nameWithOctave='d#3', duration=ms.duration.Duration(2))\n",
    "n3 = ms.note.Note(nameWithOctave='g3', duration=ms.duration.Duration(1))\n",
    "n4 = ms.note.Note(nameWithOctave='a3', duration=ms.duration.Duration(4))\n",
    "noteList = [n1, n2, n3]\n",
    "print(noteList)"
   ]
  },
  {
   "cell_type": "code",
   "execution_count": null,
   "metadata": {},
   "outputs": [],
   "source": [
    "noteList.append(n4)\n",
    "for note in noteList:\n",
    "    print(note.name)"
   ]
  },
  {
   "cell_type": "code",
   "execution_count": null,
   "metadata": {},
   "outputs": [],
   "source": [
    "stream1 = ms.stream.Stream()\n",
    "stream1.append(n1)\n",
    "stream1.append(n2)\n",
    "stream1.append(n3)\n",
    "stream1.repeatAppend(n4, 3)\n",
    "\n",
    "print('Stream length: {}'.format(len(stream1)))\n",
    "stream1.show('text')\n",
    "stream1.show()\n",
    "stream1.show('midi')"
   ]
  },
  {
   "cell_type": "code",
   "execution_count": null,
   "metadata": {},
   "outputs": [],
   "source": [
    "for note in stream1:\n",
    "    print(note.nameWithOctave)"
   ]
  },
  {
   "cell_type": "code",
   "execution_count": null,
   "metadata": {},
   "outputs": [],
   "source": [
    "n1 = ms.note.Note(nameWithOctave='g3', duration=ms.duration.Duration(2))\n",
    "n2 = ms.note.Note(nameWithOctave='b3', duration=ms.duration.Duration(2))\n",
    "n3 = ms.note.Note(nameWithOctave='d4', duration=ms.duration.Duration(2))\n",
    "n4 = ms.note.Note(nameWithOctave='g4', duration=ms.duration.Duration(2))\n",
    "r1 = ms.note.Rest(duration=ms.duration.Duration(2))\n",
    "r2 = ms.note.Rest(duration=ms.duration.Duration(2))\n",
    "\n",
    "stream2 = ms.stream.Stream([n1, n2])\n",
    "stream2.append(r1)\n",
    "stream2.append([n3, n4])\n",
    "stream2.append(r2)\n",
    "\n",
    "stream2[0].offset = 0.0\n",
    "stream2[1].offset = 0.0\n",
    "stream2[2].offset = 2.0\n",
    "stream2[3].offset = 4.0\n",
    "stream2[4].offset = 4.0\n",
    "stream2[5].offset = 6.0\n",
    "\n",
    "print('Stream length: {}'.format(len(stream1)))\n",
    "stream2.show('text')\n",
    "stream2.show()\n",
    "stream2.show('midi')"
   ]
  },
  {
   "cell_type": "code",
   "execution_count": null,
   "metadata": {},
   "outputs": [],
   "source": [
    "stream2.analyze('ambitus')"
   ]
  },
  {
   "cell_type": "code",
   "execution_count": null,
   "metadata": {},
   "outputs": [],
   "source": [
    "stream2.lowestOffset, stream2.highestOffset, stream2.highestTime"
   ]
  },
  {
   "cell_type": "code",
   "execution_count": null,
   "metadata": {},
   "outputs": [],
   "source": [
    "ms.defaults.meterNumerator = 3\n",
    "ms.defaults.meterDenominatorBeatType = 6\n",
    "stream2.show()"
   ]
  },
  {
   "cell_type": "code",
   "execution_count": null,
   "metadata": {},
   "outputs": [],
   "source": [
    "s = ms.stream.Score(id='mainScore')\n",
    "p0 = ms.stream.Part(id='part0')\n",
    "p1 = ms.stream.Part(id='part1')\n",
    "p2 = ms.stream.Part(id='part2')\n",
    "\n",
    "m01 = ms.stream.Measure(number=1)\n",
    "m01.append(ms.note.Note('C-3', type=\"whole\"))\n",
    "m01.append(ms.note.Note('E#4', type=\"whole\"))\n",
    "m02 = ms.stream.Measure(number=2)\n",
    "m02.append(ms.note.Note('D5', type=\"whole\"))\n",
    "p0.append([m01, m02])\n",
    "\n",
    "m11 = ms.stream.Measure(number=1)\n",
    "m11.append(ms.note.Note('E2', type=\"whole\"))\n",
    "m12 = ms.stream.Measure(number=2)\n",
    "m12.append(ms.note.Note('F3', type=\"whole\"))\n",
    "p1.append([m11, m12])\n",
    "\n",
    "m20 = ms.stream.Measure(number=1)\n",
    "m20.append(ms.note.Note('E#3', type=\"whole\"))\n",
    "p2.append(m20)\n",
    "\n",
    "s.insert(0, p0)\n",
    "s.insert(0, p1)\n",
    "s.insert(0, p2)\n",
    "s.show('text')\n",
    "s.show()\n",
    "s.show('midi')"
   ]
  },
  {
   "cell_type": "code",
   "execution_count": null,
   "metadata": {},
   "outputs": [],
   "source": [
    "for el in s.recurse():\n",
    "    if isinstance(el, ms.note.Note):\n",
    "        print(el.offset, el, el.activeSite)"
   ]
  },
  {
   "cell_type": "code",
   "execution_count": null,
   "metadata": {},
   "outputs": [],
   "source": [
    "print('1st treble clef')\n",
    "for measure in s[0]:\n",
    "    for note in measure:\n",
    "        print('offset:{} - name{}'.format(note.offset, note.nameWithOctave))\n",
    "        \n",
    "print('2nd treble clef') #bassclef     \n",
    "for measure in s[1]:\n",
    "    for note in measure:\n",
    "        print('offset:{} - name{}'.format(note.offset, note.nameWithOctave))"
   ]
  },
  {
   "cell_type": "code",
   "execution_count": null,
   "metadata": {},
   "outputs": [],
   "source": [
    "for measure in s:\n",
    "    print(s.flatten())"
   ]
  },
  {
   "cell_type": "markdown",
   "metadata": {},
   "source": [
    "### Chords"
   ]
  },
  {
   "cell_type": "code",
   "execution_count": null,
   "metadata": {},
   "outputs": [],
   "source": [
    "cMinor = ms.chord.Chord([\"C5\",\"G4\",\"E-5\"])\n",
    "cMinor.duration = ms.duration.Duration(4)\n",
    "cMinor.show()"
   ]
  },
  {
   "cell_type": "code",
   "execution_count": null,
   "metadata": {},
   "outputs": [],
   "source": [
    "for pitch in cMinor.pitches:\n",
    "    print(pitch.nameWithOctave)"
   ]
  },
  {
   "cell_type": "code",
   "execution_count": null,
   "metadata": {},
   "outputs": [],
   "source": [
    "cMinor.isMajorTriad(), cMinor.isMinorTriad()"
   ]
  },
  {
   "cell_type": "code",
   "execution_count": null,
   "metadata": {},
   "outputs": [],
   "source": [
    "cMinor.isMajorTriad()"
   ]
  },
  {
   "cell_type": "code",
   "execution_count": null,
   "metadata": {},
   "outputs": [],
   "source": [
    "print('is chord?: {}'.format(cMinor.isChord))\n",
    "print('Common name: {}'.format(cMinor.commonName))\n",
    "print('Full name: {}'.format(cMinor.fullName))\n",
    "print('Pitch common name: {}'.format(cMinor.pitchedCommonName))\n",
    "print('inversion: {}'.format(cMinor.inversion()))\n",
    "print('chord root: {}'.format(cMinor.root()))\n",
    "print('chord third: {}'.format(cMinor.third))\n",
    "print('chord fifth: {}'.format(cMinor.fifth))\n",
    "print('chord seventh: {}'.format(cMinor.seventh))\n",
    "print('chord bass: {}'.format(cMinor.bass()))"
   ]
  },
  {
   "cell_type": "code",
   "execution_count": null,
   "metadata": {},
   "outputs": [],
   "source": [
    "cMinor.add('c6')\n",
    "cMinor.show()"
   ]
  },
  {
   "cell_type": "code",
   "execution_count": null,
   "metadata": {},
   "outputs": [],
   "source": [
    "cClosed = cMinor.closedPosition()\n",
    "cClosed.show()"
   ]
  },
  {
   "cell_type": "code",
   "execution_count": null,
   "metadata": {},
   "outputs": [],
   "source": [
    "streamC = ms.stream.Stream()\n",
    "streamC.append(cMinor)\n",
    "streamC.append(ms.chord.Chord(['g4', 'b-4', 'd5']))\n",
    "streamC.append(ms.chord.Chord(['a3', 'c4', 'e4']))\n",
    "streamC.show()"
   ]
  },
  {
   "cell_type": "code",
   "execution_count": null,
   "metadata": {},
   "outputs": [],
   "source": [
    "rest1 = ms.note.Rest()\n",
    "rest1.quarterLength = 0.5\n",
    "noteASharp = ms.note.Note('A#5')\n",
    "noteASharp.quarterLength = 1.5\n",
    "\n",
    "stream2 = ms.stream.Stream()\n",
    "stream2.append(cMinor)\n",
    "stream2.append(rest1)\n",
    "stream2.append(noteASharp)\n",
    "stream2.show()"
   ]
  },
  {
   "cell_type": "code",
   "execution_count": null,
   "metadata": {},
   "outputs": [],
   "source": [
    "#Load from midi file\n",
    "song = ms.converter.parse('data/debussy/DEB_CLAI.mid')\n",
    "\n",
    "score = ms.stream.Stream()\n",
    "score.append(song)\n",
    "\n",
    "print('Show sheet and midi player')\n",
    "song.show(), song.show('midi') "
   ]
  },
  {
   "cell_type": "code",
   "execution_count": null,
   "metadata": {},
   "outputs": [],
   "source": [
    "songTemp = ms.stream.Stream([song[0], song[1]]) #just treble and bass clefs\n",
    "\n",
    "songTemp.show('text')"
   ]
  },
  {
   "cell_type": "code",
   "execution_count": null,
   "metadata": {},
   "outputs": [],
   "source": [
    "songChordify = song.chordify()\n",
    "print('Show sheet and midi player')\n",
    "song.show(), song.show('midi') "
   ]
  },
  {
   "cell_type": "code",
   "execution_count": null,
   "metadata": {},
   "outputs": [],
   "source": [
    "#Twinkle Twinkle Little Star\n",
    "littleMelody = converter.parse('tinynotation: 4/4 c4 c4 g4 g4 a4 a4 g2 f4 f4 e4 e4 d4 d4 c2')\n",
    "#Symphony 5 1st Movement\n",
    "littleMelody = converter.parse('tinynotation: 2/4 g8 g8 g8 e-1 f8 f8 f8 d1 g8 g8 g8 e-8 a-8 a-8 a-8 g8 e-8 e-8 e-8 c1')\n",
    "#Load from midi file\n",
    "#littleMelody = converter.parse('data/mozart/mz_545_1.mid')\n",
    "\n",
    "score = stream.Stream()\n",
    "score.append(note.Rest())\n",
    "score.append(littleMelody)\n",
    "print('Show sheet and midi player')\n",
    "littleMelody.show(), littleMelody.show('midi') "
   ]
  },
  {
   "cell_type": "code",
   "execution_count": null,
   "metadata": {},
   "outputs": [],
   "source": [
    "#Salvar arquivo para formato musicxml\n",
    "stream.Stream.write(littleMelody, fp='output')"
   ]
  },
  {
   "cell_type": "code",
   "execution_count": null,
   "metadata": {},
   "outputs": [],
   "source": [
    "#Exibir somente trecho específico do arquivo.\n",
    "littleMelody.measures(1, 5).show()"
   ]
  },
  {
   "cell_type": "code",
   "execution_count": null,
   "metadata": {},
   "outputs": [],
   "source": [
    "#Converter arquivo midi para outros formatos (wav ou mp3)\n",
    "fs = FluidSynth(sound_font='FluidR3_GM.sf2')\n",
    "file = 'data/bach/bach_846.mid'\n",
    "fs.midi_to_audio(file, 'bach_846.wav')\n",
    "IPython.display.Audio(\"bach_846.wav\") "
   ]
  },
  {
   "cell_type": "markdown",
   "metadata": {},
   "source": [
    "## Loading Files"
   ]
  },
  {
   "cell_type": "code",
   "execution_count": 3,
   "metadata": {},
   "outputs": [
    {
     "name": "stderr",
     "output_type": "stream",
     "text": [
      "C:\\ProgramData\\Anaconda3\\lib\\site-packages\\music21\\midi\\translate.py:883: TranslateWarning: Unable to determine instrument from <music21.midi.MidiEvent SEQUENCE_TRACK_NAME, track=5, channel=None, data=b'Copyright \\xa9 2010 by Bernd Krueger'>; getting generic Instrument\n",
      "  warnings.warn(\n",
      "C:\\ProgramData\\Anaconda3\\lib\\site-packages\\music21\\midi\\translate.py:883: TranslateWarning: Unable to determine instrument from <music21.midi.MidiEvent SEQUENCE_TRACK_NAME, track=5, channel=None, data=b'Copyright \\xa9 1998 by Bernd Kr\\xfcger'>; getting generic Instrument\n",
      "  warnings.warn(\n",
      "C:\\ProgramData\\Anaconda3\\lib\\site-packages\\music21\\midi\\translate.py:883: TranslateWarning: Unable to determine instrument from <music21.midi.MidiEvent SEQUENCE_TRACK_NAME, track=4, channel=None, data=b'Copyright \\xa9 1998 by Bernd Kr\\xfcger'>; getting generic Instrument\n",
      "  warnings.warn(\n"
     ]
    }
   ],
   "source": [
    "#Loading the list of chopin's midi files as stream \n",
    "filepath = \"data/debussy/\"\n",
    "#Getting midi files\n",
    "all_midis= []\n",
    "for i in os.listdir(filepath):\n",
    "    if i.endswith(\".mid\"):\n",
    "        tr = filepath+i\n",
    "        midi = ms.converter.parse(tr)\n",
    "        all_midis.append(midi)"
   ]
  },
  {
   "cell_type": "code",
   "execution_count": 6,
   "metadata": {},
   "outputs": [
    {
     "data": {
      "text/plain": [
       "7"
      ]
     },
     "execution_count": 6,
     "metadata": {},
     "output_type": "execute_result"
    }
   ],
   "source": [
    "len(all_midis)"
   ]
  },
  {
   "cell_type": "code",
   "execution_count": 8,
   "metadata": {},
   "outputs": [
    {
     "data": {
      "text/html": [
       "\n",
       "                <div id='midiPlayerDiv469825'></div>\n",
       "                <link rel=\"stylesheet\" href=\"//cuthbertLab.github.io/music21j/css/m21.css\"\n",
       "                    type=\"text/css\" />\n",
       "                \n",
       "                <script>\n",
       "                require.config({\n",
       "                    paths: {'music21': '//cuthbertLab.github.io/music21j/src/music21'}\n",
       "                });\n",
       "                require(['music21'], function() {\n",
       "                               mp = new music21.miditools.MidiPlayer();\n",
       "                               mp.addPlayer('#midiPlayerDiv469825');\n",
       "                               mp.base64Load('data:audio/midi;base64,TVRoZAAAAAYAAQADBABNVHJrAAAWNAD/UQMG3qYA/1kCBAAA/1gEAwIYCJgA/1EDBqtnAP9RAwarZ4JV/1EDBssTAP9RAwbLE4JW/1EDBsSlAP9RAwbEpYJV/1EDBr5EAP9RAwa+RIIA/1EDBrfuAP9RAwa37oIA/1EDBrGlAP9RAwaxpYEr/1EDBqtnAP9RAwarZ4JV/1EDBqU0AP9RAwalNIgA/1EDBp8OAP9RAwafDogA/1EDBnU1AP9RAwZ1NYgA/1EDBqtnAP9RAwarZ4gA/1EDBr5EAP9RAwa+RJAA/1EDBpjyAP9RAwaY8ogA/1EDBqtnAP9RAwarZ5AA/1EDBt6mAP9RAwbepogA/1EDBp8OAP9RAwafDpgA/1EDBqtnlAD/UQMHAEWCAP9RAwarZ4IA/1EDBrGlkgD/UQMHAEWEAP9RAwaxpYIA/1EDBp8OiAD/UQMGdTWIAP9RAwarZ4YA/1EDBp8OggD/UQMGvkSGAP9RAwZ1NYgA/1EDBqtnggD/UQMGmPKGAP9RAwa+RIIA/1EDBp8OiAD/UQMGdTWGAP9RAwaY8oIA/1EDBqtnhgD/UQMGnw6CAP9RAwa+RIYA/1EDBnU1iAD/UQMGq2eCAP9RAwaY8oYA/1EDBqtnAP9RAwa+RIIA/1EDBvKriAD/UQMGsaWGAP9RAwaY8oIA/1EDBpjyhAD/UQMGq2eCAP9RAwbyq4IA/1EDBrGlhgD/UQMGsaWIAP9RAwaY8ogA/1EDBrGligD/UQMGnw6MAP9RAwb5cYQA/1EDBp8OhgD/UQMGnw6MAP9RAwb5cYIA/1EDBuvyggD/UQMGnw6CAP9RAwafDpIA/1EDBuvyhAD/UQMGnw6KAP9RAwZ7D4gA/1EDBqU0iAD/UQMGnw6GAP9RAwZ7D4gA/1EDBqU0hgD/UQMG6/KCAP9RAwafDoIA/1EDBoDziAD/UQMGmPKKAP9RAwbr8oQA/1EDBoDzggD/UQMGgPOGAP9RAwaY8oIA/1EDBpjyjAD/UQMG6/KCAP9RAwaA84IA/1EDBoDzhgD/UQMGmPKCAP9RAwaS4ooA/1EDBuvyggD/UQMG0Y2CAP9RAwaA84IA/1EDBpLihgD/UQMGkuKCAP9RAwarZ4gA/1EDBsSlggD/UQMG0Y2CAP9RAwdAJIIA/1EDBpLiggD/UQMGgPOGAP9RAwarZ4IA/1EDBpjyhgD/UQMGxKWEAP9RAwdAJIIA/1EDBtGNggD/UQMGgPOCAP9RAwafDoYA/1EDBpjyjAD/UQMG0Y2EAP9RAwafDoIA/1EDBoDzhAD/UQMGWI+EAP9RAwaY8owA/1EDBtGNggD/UQMGgPOCAP9RAwafDoIA/1EDBliPggD/UQMG2BOCAP9RAwaY8oIA/1EDBqU0igD/UQMG0Y2CAP9RAwcxj4IA/1EDBp8OggD/UQMG2BOCAP9RAwbYE4IA/1EDBqU0ggD/UQMGpTSCAP9RAwbepooA/1EDBzGPggD/UQMHhLyCAP9RAwbYE4IA/1EDB1Z1ggD/UQMGpTSCAP9RAwecvoIA/1EDBt6mggD/UQMHZaKKAP9RAweEvIIA/1EDCBUsggD/UQMHVnWCAP9RAwdlooIA/1EDB5y+hAD/UQMHZaKCAP9RAwcVEYoA/1EDCBUshAD/UQMHZaKCAP9RAwbyq4YA/1EDBxURggD/UQMGt+6MAP9RAwcjM4IA/1EDBvKrggD/UQMG6/KGAP9RAwa37oIA/1EDBssTiAD/UQMGsaWCAP9RAwcjM4IA/1EDB0eFggD/UQMG6/KCAP9RAwblRYYA/1EDBssTiAD/UQMGsaWEAP9RAwdHhYQA/1EDBuVFggD/UQMG0Y2UAP9RAwcxj4IA/1EDBtGNggD/UQMG5UWSAP9RAwcxj4IA/1EDB0eFggD/UQMG5UWCAP9RAwbeppIA/1EDB0eFggD/UQMHR4WCAP9RAwbepoIA/1EDBuvykgD/UQMHR4WCAP9RAwdHhYIA/1EDBuvyggD/UQMG6/KSAP9RAwdHhYIA/1EDB071ggD/UQMG6/KCAP9RAwbyq4gA/1EDBrfuhAD/UQMHONKEAP9RAwbyq4IA/1EDB071hAD/UQMG8quCAP9RAwbyq4YA/1EDBrfuggD/UQMGt+6CAP9RAwc40oIA/1EDB0AkggD/UQMG8quCAP9RAwbyq4YA/1EDBvKriAD/UQMGt+6CAP9RAwa+RIIA/1EDB0AkggD/UQMHQCSCAP9RAwbyq4IA/1EDBvKriAD/UQMHTvWGAP9RAwa+RIIA/1EDBxwbggD/UQMHQCSEAP9RAwbyq4IA/1EDB60UhgD/UQMHTvWCAP9RAwbepoJV/1EDBtgTglb/UQMG0Y1V/1EDBxwbggD/UQMGyxOEAP9RAwbEpYIA/1EDBr5EAP9RAwetFIQA/1EDBrfuhAD/UQMG3qaCVf9RAwbYE4JW/1EDBtGNglX/UQMGyxOCAP9RAwafDoIA/1EDBsSlggD/UQMGvkSEAP9RAwa37oQA/1EDBvlxhAD/UQMG3qaGAP9RAwafDoIA/1EDBqtnhAD/UQMG3qaEAP9RAwbepoIA/1EDBvlxhAD/UQMG3qaIAP9RAwarZ4IA/1EDBnsPggD/UQMG3qaEAP9RAwbepoIA/1EDBqU0hAD/UQMHnL6EAP9RAwbepoQA/1EDBsSlggD/UQMGew+IAP9RAwalNIIA/1EDBt6mggD/UQMHnL6EAP9RAwbepoQA/1EDBsSlhgD/UQMGew+GAP9RAwbepoIA/1EDBqU0hAD/UQMHHBuEAP9RAwbepoYA/1EDBnsPggD/UQMGq2eEAP9RAwbepoIA/1EDBqU0ggD/UQMG3qaCAP9RAwccG4QA/1EDBt6miAD/UQMGq2eCAP9RAwZ7D4IA/1EDBt6mhAD/UQMG3qaCAP9RAwalNIQA/1EDB5y+hAD/UQMG3qaEAP9RAwbEpYIA/1EDBnsPiAD/UQMGpTSCAP9RAwbepoIA/1EDB5y+hAD/UQMG3qaEAP9RAwbEpYYA/1EDBnsPhgD/UQMG3qaCAP9RAwalNIQA/1EDBxwbhAD/UQMG3qYA/1kCAACGAP9RAwZ7D4IA/1EDBqtnhAD/UQMG3qaCAP9RAwalNIIA/1EDBt6mggD/UQMHHBuEAP9RAwbepgD/WQIAAIgA/1EDBqtnggD/UQMGew+CAP9RAwbepoQA/1EDBt6mggD/UQMGpTSEAP9RAwecvoQA/1EDBt6mhgD/UQMGew+CAP9RAwarZ4QA/1EDBt6mggD/UQMGpTSCAP9RAwbepoIA/1EDB5y+hAD/UQMG3qaIAP9RAwarZ4IA/1EDBnsPggD/UQMG3qaEAP9RAwbepoIA/1EDBqU0hAD/UQMHnL6EAP9RAwbepoYA/1EDBnsPggD/UQMGq2eEAP9RAwbepoIA/1EDBqU0ggD/UQMG3qaCAP9RAwecvoQA/1EDBt6miAD/UQMGq2eCAP9RAwZ7D4IA/1EDBt6mhAD/UQMG3qaCAP9RAwalNIQA/1EDB5y+hAD/UQMG3qaGAP9RAwZ7D4IA/1EDBqtnhAD/UQMG3qaCAP9RAwalNIIA/1EDBt6mggD/UQMHnL6EAP9RAwbepogA/1EDBqtnggD/UQMGew+CAP9RAwbepoQA/1EDBt6mggD/UQMGpTSEAP9RAwecvoQA/1EDBvKrhgD/UQMGew+CAP9RAwbYE4QA/1EDBrGlggD/UQMGpTSEAP9RAwecvoQA/1EDBvKrggD/UQMGvkSGAP9RAwbYE4IA/1EDBssTggD/UQMGsaWKAP9RAwdlooIA/1EDBr5EggD/UQMG2BOGAP9RAwbLE4IA/1EDBwcmigD/UQMHZaKCAP9RAwd1D4IA/1EDBtgTggD/UQMHDhSEAP9RAweEvIIA/1EDBwcmggD/UQMIFSyIAP9RAwfofYIA/1EDB3UPhAD/UQMHDhSCAP9RAwbepoIA/1EDB4S8hAD/UQMIFSyIAP9RAwfofYgA/1EDBt6mggD/UQMG0Y2IAP9RAwa+RI4A/1EDBtGNiAD/UQMGvkSCAP9RAwarZ5AA/1EDBqtnhgD/UQMGq2eKAP9RAwa37oYA/1EDBqtnggD/UQMGpTSEAP9RAwbyq4QA/1EDBrfuhgD/UQMGt+6IAP9RAwalNIIA/1EDBqU0ggD/UQMG8quCAP9RAwbyq4IA/1EDBrfuggD/UQMGt+6OAP9RAwalNIIA/1EDBqU0ggD/UQMG8quEAP9RAwa37oYA/1EDBpLihAD/UQMGb2WEAP9RAwbr8oIA/1EDBqU0ggD/UQMGew+EAP9RAwalNIQA/1EDBrfuggD/UQMGkuKCAP9RAwcqWoIA/1EDBm9lggD/UQMGt+6CAP9RAwbr8oQA/1EDBnsPggD/UQMGq2eCAP9RAwalNIQA/1EDBrfuggD/UQMGmPKCAP9RAwcqWoIA/1EDBt6mggD/UQMGt+6CAP9RAwa37oYA/1EDBqtnggD/UQMGq2eGAP9RAwaY8oIA/1EDBpjyggD/UQMG3qaCAP9RAwbepoIA/1EDBrfuggD/UQMGt+6EAP9RAwcARYIA/1EDBqtnggD/UQMGq2eGAP9RAwaY8oIA/1EDBpLiggD/UQMG3qaCAP9RAwZ1NYIA/1EDBrfuhAD/UQMHAEWCAP9RAwbr8oIA/1EDBqtnggD/UQMGpTSEAP9RAwalNIIA/1EDBpLiggD/UQMGt+6CAP9RAwZ1NYIA/1EDBypahAD/UQMGt+6CAP9RAwbr8oQA/1EDBqU0ggD/UQMGpTSCAP9RAwalNIIA/1EDBqU0ggD/UQMGt+6CAP9RAwaG4oIA/1EDBypahAD/UQMGt+6CAP9RAwcjM4YA/1EDBqU0ggD/UQMGew+CAP9RAwalNIQA/1EDBobiggD/UQMGpTSGAP9RAwcjM4gA/1EDBnsPggD/UQMGq2eGAP9RAwalNIIA/1EDBpLihAD/UQMGb2WIAP9RAwblRYIA/1EDBqtnggD/UQMGew+GAP9RAwaS4oIA/1EDBqU0ggD/UQMGb2WIAP9RAwblRYQA/1EDBpLiAP9RAwZ7D4IA/1EDBnsPhgD/UQMGpTSCAP9RAwalNIwA/1EDBpLiggD/UQMGkuIA/1EDBnsPggD/UQMGew+GAP9RAwalNIIA/1EDBqU0jAD/UQMHXgQA/1EDBpLiggD/UQMGew+CAP9RAwcARYYA/1EDBqU0ggD/UQMHjKyIAP9RAwdeBIIA/1EDB14EhAD/UQMHAEWCAP9RAwbyqwD/WQIEAIYA/1EDB4ysiAD/UQMHXgSCAP9RAwbEpYYA/1EDBvKrAP9ZAgQAggD/UQMG8quIAP9RAwbYE4YA/1EDBsSlggD/UQMG6/KGAP9RAwbyq4IA/1EDBtGNhgD/UQMG2BOCAP9RAwa+RIYA/1EDBuvyggD/UQMG0Y2GAP9RAwbRjYIA/1EDBrGlhgD/UQMGvkSCAP9RAwbyq4YA/1EDBtGNggD/UQMHHBuGAP9RAwaxpYIA/1EDBuvyhgD/UQMG8quIAP9RAwccG4gA/1EDBuvyggD/UQMHDhSIAP9RAweEvIgA/1EDB9/IhgD/UQMHDhSCAP9RAwbEpYYA/1EDB4S8iAD/UQMH38iIAP9RAwbEpYIA/1EDBssTiAD/UQMG3qaIAP9RAwbyq4YA/1EDBssTggD/UQMHONKGAP9RAwbepoIA/1EDB5SshgD/UQMG8quCAP9RAwfxRYYA/1EDBzjSggD/UQMG6/KGAP9RAweUrIgA/1EDB/FFiAD/UQMG6/KWAP9RAwc40oQA/1EDBuVFkgD/UQMHONKCAP9RAwc40oIA/1EDBuVFggD/UQMG3qaKVf9RAwbRjYJW/1EDBssTglX/UQMGxKWCAP9RAwa+RAD/UQMHONKCAP9RAwa37oEr/1EDBrGlVf9RAwbepoIA/1EDBqtnhAD/UQMHXgSEAP9RAweMrFX/UQMG0Y2CVv9RAwbLE4JV/1EDBsSlggD/UQMGvkSCAP9RAwa37oEr/1EDBrGlglX/UQMGq2eCAP9RAwbr8oIA/1EDB14EhAD/UQMHjKyOAP9RAwc40oIA/1EDBuvyggD/UQMG5UWSAP9RAwc40oIA/1EDBzjSggD/UQMG5UWCAP9RAwbepopV/1EDBtGNglb/UQMGyxOCVf9RAwbEpYIA/1EDBr5EAP9RAwc40oIA/1EDBrfugSv/UQMGsaVV/1EDBt6mggD/UQMGq2eEAP9RAwdeBIQA/1EDB4ysVf9RAwbRjYJW/1EDBssTglX/UQMGxKWCAP9RAwa+RIIA/1EDBrfugSv/UQMGsaWCVf9RAwarZ4QA/1EDB14EhAD/UQMHjKyCAP9RAwb5cYgA/1EDBsSlggD/UQMGvkSCAP9RAwa37oEr/1EDBrGlglX/UQMGq2eEAP9RAwdeBIIA/1EDBvlxggD/UQMHjKyGAP9RAwbEpYIA/1EDBr5EggD/UQMGt+6BK/9RAwaxpYJV/1EDBqtnhAD/UQMHXgSEAP9RAweMrIIA/1EDBvlxiAD/UQMGxKWCAP9RAwa+RIIA/1EDBrfugSv/UQMGsaWCVf9RAwarZ4QA/1EDB14EggD/UQMG+XGCAP9RAwfXJ4YA/1EDBsSlggD/UQMHhLwA/1EDBr5EggD/UQMGt+6BK/9RAwaxpYJV/1EDBqtnhAD/UQMHXgSEAP9RAwfXJ4IA/1EDBnU1hgD/UQMHhLyCAP9RAwarZ4gA/1EDBozdhgD/UQMGdTWCAP9RAwZ1NYYA/1EDBqtnggD/UQMGq2eGAP9RAwaM3YIA/1EDBpLihgD/UQMGdTWCAP9RAwZ1NYYA/1EDBqtnggD/UQMGq2eGAP9RAwaS4oIA/1EDBozdhgD/UQMGdTWCAP9RAwZ1NYYA/1EDBqtnggD/UQMGq2eGAP9RAwaM3YIA/1EDBpLihgD/UQMGdTWCAP9RAwZ1NYYA/1EDBqtnggD/UQMGq2eGAP9RAwaS4oIA/1EDBozdhgD/UQMGdTWCAP9RAwZ1NYYA/1EDBqtnggD/UQMGgPOGAP9RAwaM3YIA/1EDBozdhgD/UQMGdTWCAP9RAwZeNYYA/1EDBoDzggD/UQMGq2eGAP9RAwaM3YIA/1EDBozdhgD/UQMGXjWCAP9RAwZ1NYYA/1EDBqtnggD/UQMGgPOGAP9RAwaM3YIA/1EDBozdhgD/UQMGdTWCAP9RAwZeNYYA/1EDBoDzggD/UQMGq2eGAP9RAwaM3YIA/1EDBnU1hgD/UQMGXjWCAP9RAwZpoIYA/1EDBqtniAD/UQMGdTWCAP9RAwZvZYYA/1EDBmmgigD/UQMGmPKEAP9RAwd83YIA/1EDBm9lggD/UQMGnw6IAP9RAwZvZYYA/1EDBpjyhAD/UQMHfN2EAP9RAwafDoIA/1EDBliPhgD/UQMGb2WCAP9RAwZvZY4A/1EDBliPggD/UQMGb2WGAP9RAwZvZZAA/1EDBm9lmgD/UQMGb2WIAP9RAwZj5ogA/1EDBlLzhAD/UQMG2BMA/1EDBmPmggD/UQMGb2WCAP9RAwZj5oYA/1EDBmPmiAD/UQMGUvOEAP9RAwbYE4gA/y8ATVRyawAAGdcA/wMLUGlhbm8gcmlnaHQAwAAA4ABAAMAAAMAAjACQQBMAkEcXggCAQAAAgEcAhgCQQBMAkEcXggCAQAAAgEcAhgCQQBMAkEcXggCAQAAAgEcAhgCQQBMAkEcXggCAQAAAgEcAhgCQQBMAkEcXggCAQAAAgEcAhgCQQBMAkEcXggCAQAAAgEcAggCQQB2CAIBAAIIAkEATAJBHF4IAgEAAAIBHAIYAkEATAJBHF4IAgEAAAIBHAIYAkEATAJBHF4IAgEAAAIBHAIIAkEAdggCAQACCAJBAEwCQRxeCAIBAAACARwCGAJBAEwCQRxeCAIBAAACARwCGAJBAEwCQRxeCAIBAAACARwCGAJBAEwCQRxeCAIBAAACARwCGAJBAEwCQRxeCAIBAAACARwCGAJBAEwCQRxeCAIBAAACARwCCAJBAHYIAgEAAggCQQBMAkEcXggCAQAAAgEcAhgCQQBMAkEcXggCAQAAAgEcAhgCQQBMAkEcXggCAQAAAgEcAhgCQRxYAkEAShACARwAAgEAAhACQRxYAkEAShACARwAAgEAAhACQRxYAkEASggCARwAAgEAAggCQOyWCAIA7AIIAkEciAJBAHIIAgEcAAIBAAIYAkEAYAJBHHYIAgEAAAIBHAIYAkEAYAJBHHYIAgEAAAIBHAIgAkEYmAJBLM4IAgEYAAIBLAIYAkEsnAJBQNoIAgEsAAIBQAIYAkEQmggCARAAAkEk1jgCQRiYAkEszggCASQAAgEYAAIBLAIJVkD8fAJBEK4IAgD8AAIBEAIErkEQmAJBJNYIAgEQAAIBJAIYAkEYoAJBLN4IAgEYAAIBLAIYAkEstAJBQO4IAgEsAAIBQAIYAkEQvggCARAAAkEk5jgCQPyoAkEQxggCASQCEAIA/AACARACCAJA9MwCQQj6GAIA9AACAQgCCAJA/JwCQRC6QAIA/AACARACCAJA7JYIAgDsAggCQRyIAkEIcggCARwAAgEIAhgCQOxgAkEIYAJBHHYIAgDsAAIBCAACARwCGAJA7GACQQhgAkEcdggCAOwAAgEIAAIBHAIYAkDsYAJBCGACQRx2CAIA7AACAQgAAgEcAhgCQRx0AkD0YAJBCGIIAgEcAAIA9AACAQgCGAJBAGACQQhgAkEcdggCAQAAAgEIAAIBHAIYAkD8YAJBCGACQRx2CAIA/AACAQgAAgEcAhgCQRx0AkD8YAJBCGIIAgEcAAIA/AACAQgCGAJA+GACQQhgAkEcdggCAPgAAgEIAAIBHAIYAkD0YAJBCGACQRx2CAIA9AACAQgAAgEcAhgCQPRgAkEIYAJBHHYIAgD0AAIBCAACARwCGAJA9GACQQhgAkEcdggCAPQAAgEIAAIBHAIYAkD0YAJBCGACQRx2CAIA9AACAQgAAgEcAhgCQPxgAkEIYAJBHHYIAgD8AAIBCAACARwCGAJBCGACQRx2CAIBCAACARwCGAJBEGACQRx2CAIBEAACARwCGAJBHHQCQRBiCAIBHAACARACGAJBEGACQRx2CAIBEAACARwCGAJA/GACQRBgAkEcdggCAPwAAgEQAAIBHAIYAkD8YAJBEGACQRx2CAIA/AACARAAAgEcAhgCQPxkAkEQZAJBHHoIAgD8AAIBEAACARwCGAJBBGQCQRBkAkEceggCAQQAAgEQAAIBHAIYAkEEaAJBEGgCQRx+CAIBBAACARAAAgEcAhgCQQRoAkEQaAJBHH4IAgEEAAIBEAACARwCGAJA/GwCQRBsAkEcgggCAPwAAgEQAAIBHAIYAkD8bAJBEGwCQRyCCAIA/AACARAAAgEcAhgCQPxwAkEQcAJBHIYIAgD8AAIBEAACARwCGAJBBHACQRBwAkEciggCAQQAAgEQAAIBHAIYAkEEdAJBEHQCQRyOCAIBBAACARAAAgEcAhgCQQR0AkEQdAJBHI4IAgEEAAIBEAACARwCGAJBHKQCQRCKCAIBHAACARACGAJBEIgCQRyiCAIBEAACARwCGAJBEIgCQRyiCAIBEAACARwCGAJBEIgCQRyiCAIBEAACARwCGAJBHJgCQRCCCAIBHAACARACGAJBHJgCQRCCCAIBHAACARACGAJBHKQCQRCKCAIBHAACARACGAJBEIgCQRyiCAIBEAACARwCGAJBEIgCQRyiCAIBEAACARwCGAJBEIgCQRyiCAIBEAACARwCGAJBHJgCQRCCCAIBHAACARACGAJBHJgCQRCCCAIBHAACARACGAJBHIIIAgEcAhgCQRyGCAIBHAIYAkEceggCARwCGAJBHG4IAgEcAhgCQRxeCAIBHAIYAkEcaggCARwAAkDsZAJBAKIQAgDsAAIBAAIIAkEchhACARwAAkEsdAJBQKoQAgEsAAIBQAACQSyMAkEQYhACASwAAgEQAAJBQIgCQVTCEAIBQAACAVQAAkEsaAJBQJYQAgEsAAIBQAACQTisAkEkrggCASQCCAJBCFgCQSSCGAIBCAACASQCCAJBJIACQQhaCAIBJAACAQgCCAIBOAACQSxwAkFAohACASwAAgFAAAJBEHACQSSiEAIBEAACASQAAkE4sAJBJH4QAgE4AAIBJAACQQhwAkEkohACAQgAAgEkAAJBQKQCQSxyEAIBQAACASwAAkEQcAJBLKIQAgEQAAIBLAACQUCIAkFUxhACAUAAAgFUAAJBQKQCQSxyEAIBQAACASwAAkE4zAJBJM4IAgEkAggCQSSIAkEIXhgCASQAAgEIAggCQSSAAkEIWhgCASQAAgEIAggCQSSIAkEIXggCASQAAgEIAggCATgAAkFAtAJBLIIQAgEsAAJBLFwCQRBeEAIBQAACASwAAgEQAAJBJHACQTiiEAIBJAACQSRUAkEIVhACATgAAgEkAAIBCAACQUCgAkEschACASwAAkEsWAJBEFoQAgFAAAIBLAACARAAAkEAaAJBEGgCQSTGMAIBJAACQSyWEAIBLAACQSSWIAIBAAACARAAAgEkAAJBAGgCQQxoAkEssjACASwAAkEkmhACASQAAkEsmiACAQAAAgEMAAIBLAACQQBoAkEccAJBJKowAgEkAAJBLJYQAgEsAAJBJJYgAgEAAAIBHAACASQAAkEAaAJBGGgCQSymMAIBLAACQSSiEAIBJAACQSyiIAIBAAACARgAAgEsAhACQRBcAkEASAJA7EoQAgEQAAIBAAACAOwCEAJBEFwCQQBIAkDsShACARAAAgEAAAIA7AIQAkEQXAJBAEgCQOxKEAIBEAACAQAAAgDsAhACQQxcAkEASAJA7EoQAgEMAAIBAAACAOwCEAJBDFwCQQBIAkDsShACAQwAAgEAAAIA7AIQAkEMXAJBAEgCQOxKEAIBDAACAQAAAgDsAhACQQhcAkEASAJA7EoQAgEIAAIBAAACAOwCEAJBCFwCQQBIAkDsShACAQgAAgEAAAIA7AIQAkEIXAJBAEgCQOxKEAIBCAACAQAAAgDsAhACQQhcAkEASAJA6EoQAgEIAAIBAAACAOgCEAJBCFwCQQBIAkDoShACAQgAAgEAAAIA6AIQAkEIXAJBAEgCQOhKEAIBCAACAQAAAgDoAAJA7IoQAgDsAAJBHHQCQQh2CAIBHAACAQgCGAJBCGACQOxgAkEcdggCAQgAAgDsAAIBHAIYAkDsYAJBHHQCQQhiCAIA7AACARwAAgEIAhgCQOxgAkEIYAJBHHYIAgDsAAIBCAACARwCGAJA7GACQQhgAkEcdggCAOwAAgEIAAIBHAIYAkDsYAJBCGACQRx2CAIA7AACAQgAAgEcAhgCQRxkAkEIVggCARwAAgEIAhgCQQhYAkEcaggCAQgAAgEcAhgCQRxsAkEIWggCARwAAgEIAhgCQQhcAkEccggCAQgAAgEcAhgCQQhgAkEcdggCAQgAAgEcAhgCQRx8AkEIaggCARwAAgEIAhgCQRx8AkEMaggCARwAAgEMAhgCQQxkAkEceggCAQwAAgEcAhgCQRx0AkEMYggCARwAAgEMAhgCQQxcAkEccggCAQwAAgEcAhgCQQxYAkEcbggCAQwAAgEcAhgCQRxoAkEMWggCARwAAgEMAhgCQRxkAkEIVggCARwAAgEIAhgCQQhYAkEcaggCAQgAAgEcAhgCQRxsAkEIWggCARwAAgEIAhgCQQhcAkEccggCAQgAAgEcAhgCQQhgAkEcdggCAQgAAgEcAhgCQRx8AkEIaggCARwAAgEIAhgCQRx8AkEUaggCARwAAgEUAhgCQRRkAkEceggCARQAAgEcAhgCQRx0AkEMYggCARwAAgEMAhgCQQxcAkEccggCAQwAAgEcAhgCQQRYAkEcbggCAQQAAgEcAhgCQQxoAkEEWggCAQwAAgEEAhgCQQxkAkEEVggCAQwAAgEEAhgCQQRYAkEMaggCAQQAAgEMAhgCQQxsAkEEWggCAQwAAgEEAhgCQQBcAkEUcggCAQAAAgEUAhgCQRRoAkEAWggCARQAAgEAAhgCQQBUAkEUZggCAQAAAgEUAhgCQQxkAkEEVggCAQwAAgEEAhgCQQRYAkEMaggCAQQAAgEMAhgCQQxsAkEEWggCAQwAAgEEAhgCQRR8AkEAaggCARQAAgEAAhgCQRSQAkEEdggCARQAAgEEAhgCQQyUAkEUsggCAQwAAgEUAhgCQRhkAkEQVggCARgAAgEQAhgCQRBYAkEYaggCARAAAgEYAhgCQRhsAkEQWggCARgAAgEQAhgCQQxcAkEgcggCAQwAAgEgAhgCQSBoAkEMWggCASAAAgEMAhgCQQxUAkEgZggCAQwAAgEgAhgCQRhkAkEQVggCARgAAgEQAhgCQRBYAkEYaggCARAAAgEYAhgCQRhsAkEQWggCARgAAgEQAhgCQSB8AkEMaggCASAAAgEMAhgCQSCQAkEQdggCASAAAgEQAhgCQRiUAkEgsggCARgAAgEgAigCQSCqCAIBIAIIAkEsmggCASwCCAJBKKoIAgEoAggCQSCWCAIBIAIIAkEYqggCARgCCAJBEJYIAgEQAggCQQymCAIBDAIIAkEEmggCAQQCCAJA/KYIAgD8AggCQPiGCAIA+AIIAkDwqhACAPAAAkD8mhACAPwAAkD8fAJBDJYIAgD8AAIBDAIYAkD8ZAJBDHoIAgD8AAIBDAIYAkDwqhACAPAAAkD8lhACAPwAAkD8YAJBDHYIAgD8AAIBDAIYAkD4SAJBDFoIAgD4AAIBDAOYAkDwcAJA/JoIAgDwAAIA/AIIAkEIphACQRi6GAJA8FACQPxuCAIA8AACAPwCIAIBCAACARgAAkD4cAJBBJoIAgD4AAIBBAIIAkEQphACQSC6GAJA+FACQQRuCAIA+AACAQQCIAIBEAACASAAAkDwcAJA/JoQAkEIphACAQgAAkEYuhACAPAAAgD8AAIBGAACQPBwAkD8mhACQQimEAIBCAACQRi6EAIA8AACAPwAAgEYAAJA+HACQQSaCAIA+AACAQQCCAJBEKYQAkEguggCARAAAgEgAhACQPiwAkEEuAJBELwCQSDKCAIA+AACAQQAAgEQAAIBIAJAAkD4cAJBBJoQAkEQphACQSC6IAIA+AACAQQAAgEQAAIBIAIgAkEAcAJBDJoQAkEYphACQSi6IAIBAAACAQwAAgEYAAIBKAACQPhwAkEEmhACQRCmEAIBEAACQSC6EAIA+AACAQQAAgEgAAJA+HACQQSaEAJBEKYQAgEQAAJBILoQAgD4AAIBBAACASAAAkEAcAJBDJoIAgEAAAIBDAIIAkEYphACQSi6CAIBGAACASgCEAJBALACQQy4AkEYvAJBKMoIAgEAAAIBDAACARgAAgEoAiACQQBwAkEMmggCAQAAAgEMAggCQRimEAJBKLoIAgEYAAIBKAIYAkEMpAJBGKgCQTS2CAIBDAACARgAAgE0AhACQRi4AkEkvAJBQMoIAgEYAAIBJAACAUACYAJBAHACQQyaEAJBGKoQAgEYAAJBKMYQAgEAAAIBDAACASgAAkEMeAJBGKYQAgEYAAJBJLoQAgEkAAJBNNoIAkEYuAJBJLwCQUDJVgE0AgSuAQwAAgEYAAIBJAACAUACWAJBGLgCQSS8AkFAyggCARgAAgEkAAIBQAJYAkEYpAJBJKgCQUC2CAIBGAACASQAAgFAAqACQUC2EAIBQAACQVSSEAIBVAACQSSIAkE4sggCASQCGAJBJIoIAgEkAhgCATgAAkEkiAJBQIYQAgEkAAIBQAACQVSiEAIBVAACQTigAkEkiggCATgAAgEkAhgCQUCgAkEkiggCAUAAAgEkAhgCQSSKCAIBJAIYAkEkjAJBOKoIAgEkAhgCQSSaCAIBJAIYAkEkmggCASQCGAIBOAACQSCAAkFAmggCASAAAgFAAhgCQSSIAkE4pggCASQAAgE4AhgCQSikAkFAxggCASgAAgFAAhgCQSSgAkEQiggCARACGAJBEIoIAgEQAhgCQRCKCAIBEAIYAgEkAAJBDJwCQSy+CAIBDAACASwCGAJBEIwCQSSqCAIBEAACASQCGAJBFIgCQSymCAIBFAACASwCGAJA9QwCQQEUAkERLggCAPQAAgEAAAIBEAIYAkD1DAJBARQCQREuCAIA9AACAQAAAgEQAhgCQPUMAkEBFAJBES4IAgD0AAIBAAACARACGAJA9PwCQQEIAkERHggCAPQAAgEAAAIBEAIYAkD09AJBAPwCQRESCAIA9AACAQAAAgEQAhgCQPTkAkEA7AJBEQIIAgD0AAIBAAACARACGAJA9JgCQPycAkEQrggCAPQAAgD8AAIBEAIYAkD0jAJA/JACQRCiCAIA9AACAPwAAgEQAhgCQPSAAkD8hAJBEJIIAgD0AAIA/AACARACGAJA5GwCQOyCCAIA5AACAOwCGAJA5GwCQOyCCAIA5AACAOwCGAJA5GwCQOyCCAIA5AACAOwCGAJA4GwCQOxsAkD0gggCAOAAAgDsAAIA9AIYAkDgbAJA7GwCQPSCCAIA4AACAOwAAgD0AhgCQOBsAkDsbAJA9IIIAgDgAAIA7AACAPQCGAJA4GwCQOxsAkD0gggCAOAAAgDsAAIA9AIYAkDgbAJA7GwCQPSCCAIA4AACAOwAAgD0AhgCQOBsAkDsbAJA9IIIAgDgAAIA7AACAPQCGAJA3GwCQOhsAkD4gggCANwAAgDoAAIA+AIYAkDcbAJA6GwCQPiCCAIA3AACAOgAAgD4AjgCQNzGEAIA3AACQOTeEAIA5AACQOiGCAIA6AIYAkDwhggCAPACGAJA4GwCQOxsAkD0gggCAOAAAgDsAAIA9AIYAkDgbAJA7GwCQPSCCAIA4AACAOwAAgD0AhgCQOBsAkDsbAJA9IIIAgDgAAIA7AACAPQCGAJA4GwCQOxsAkD0gggCAOAAAgDsAAIA9AIYAkDgbAJA7GwCQPSCCAIA4AACAOwAAgD0AhgCQOBsAkDsbAJA9IIIAgDgAAIA7AACAPQCGAJA3GwCQOhsAkD4gggCANwAAgDoAAIA+AIYAkDcbAJA6GwCQPiCCAIA3AACAOgAAgD4AjgCQNzGEAIA3AACQOTeEAIA5AACQOiGCAIA6AIYAkDwhggCAPACeAJBDMYQAgEMAAJBFN4QAgEUAAJBGIYIAgEYAhgCQSCGCAIBIAJ4AkE8xhACATwAAkFE3hACAUQAAkFIhggCAUgCGAJBHLQCQSy4AkE4yAJBTNoQAgEcAAIBLAACATgAAgFMAogCQPyAAkEQoggCAPwAAgEQAhgCQRCQAkEkvggCARAAAgEkAhgCQPSWCAIA9AACQQi2YAIBCAIYAkEYgAJBLKIIAgEYAAIBLAIYAkEskAJBQL4IAgEsAAIBQAIYAkEQlggCARAAAkEktmACASQCGAJA/IACQRCiCAIA/AACARACGAJBEJACQSS+CAIBEAACASQCGAJA9JQCQQiyCAIA9AACAQgCGAJBGKQCQSzGCAIBGAACASwCGAJBLLgCQUDuCAIBLAACAUACGAJBEJQCQSSyCAIBEAACASQCGAJA/IACQRCiCAIA/AACARACGAJBEJACQSS+CAIBEAACASQCGAJA9JQCQQiyCAIA9AACAQgCGAJBGKQCQSzGCAIBGAACASwCGAJBLLgCQUDuCAIBLAACAUACIAJBJIQCQRBqEAIBJAACARAAAkEARAJBHFoQAgEAAAIBHAACQPxkAkEQghACAPwAAgEQAAJBAEQCQRxaEAIBAAACARwAAkEQaAJBJIYQAgEQAAIBJAACQQBIAkEcXhACAQAAAgEcAAJBEIQCQPxqEAIBEAACAPwAAkEARAJBHFoQAgEAAAIBHAACQRBkAkEkghACARAAAgEkAAJBAEQCQRxaEAIBAAACARwAAkD8aAJBEIYQAgD8AAIBEAACQQBIAkEcXhACAQAAAgEcAAJBJHACQRBaEAIBJAACARAAAkEAOAJBHEoQAgEAAAIBHAACQPxUAkEQbhACAPwAAgEQAAJBADgCQRxKEAIBAAACARwAAkEQWAJBJHIQAgEQAAIBJAACQQA8AkEcThACAQAAAgEcAAJBEHACQPxaEAIBEAACAPwAAkEAOAJBHEoQAgEAAAIBHAACQRBUAkEkbhACARAAAgEkAAJBADgCQRxKEAIBAAACARwAAkD8WAJBEHIQAgD8AAIBEAACQQA8AkEcThACAQAAAgEcAAJBEHACQPxaEAIBEAACAPwCUAJA/FwCQRBcAkEcXhACAPwAAgEQAAIBHAJwAkEAUhACAQAAAkEQWhACARAAAkEwZhACATAAAkFAZhACAUAAAkFgdhACAWACUAJBkIIQAgGQAiAD/LwBNVHJrAAARvwD/AwpQaWFubyBsZWZ0AMAAAOAAQADAAADAAIgAkEAdggCAQACGAJBAHoIAgEAAhgCQQB6CAIBAAIYAkEAdggCAQACGAJBAHoIAgEAAhgCQQB6CAIBAAIwAkD8eAJBEJ4IAgD8AAIBEAIYAkEQfAJBJKoIAgEQAAIBJAIYAkD0eggCAPQAAkEIkjgCQPx4AkEQkggCAQgAAgD8AAIBEAIJVkEQfAJBJKIIAgEQAAIBJAIErkD0eAJBCK4IAgD0AAIBCAIYAkD8eAJBEJIIAgD8AAIBEAIYAkDgfAJA9KIIAgDgAAIA9AIYAkD0eAJBCJJgAgD0AAIBCAACQPx4AkEQkmACAPwAAgEQAmACQKDmIAIAoAACQQC+CAIBAAIYAkEAsggCAQACGAJBAJYIAgEAAggCQQBgAkEcdggCAQAAAgEcAhgCQQBgAkEcdggCAQAAAgEcAhgCQQBgAkEcdggCAQAAAgEcAhgCQQBgAkEcdggCAQAAAgEcAhgCQQBgAkEcdggCAQAAAgEcAhgCQQBgAkEcdggCAQAAAgEcAhgCQQBkAkEceggCAQAAAgEcAhgCQQBsAkEcgggCAQAAAgEcAhgCQQB0AkEcjggCAQAAAgEcAhgCQQBwAkEciggCAQAAAgEcAhgCQQBsAkEcgggCAQAAAgEcAhgCQQBgAkEcdggCAQAAAgEcAhgCQQB8AkEclggCAQAAAgEcAhgCQQBgAkEcdggCAQAAAgEcAhgCQQBUAkEcZggCAQAAAgEcAAJAvMQCQNjmEAIAvAACANgCGAJA7L4IAgDsAhgCQOyyCAIA7AIYAkDsvhACAOwCEAJA9LYQAgD0AhACQQC2EAIBAAIQAkD8vglWAPwCNK5A+KYJVgD4AhSuQPS8AkDgvglWAPQCFK5A9HoJVgD0AhSuQPR6CVYA9AIUrkD0eglWAPQCFK5A/MoJVgD8AhSuQQjKCVYBCAIUrgDgAAJBBL5AAgEEAAJBAKYQAgEAAhACQPy8AkDgvglWAPwCNK5A9LoQAgD0AhACQQR+CVYBBAIUrkD0vhACAPQCEAJBBMIJVgEEAhSuAOAAAkD8zAJA4M4JVgD8AjSuQPTWEAIA9AIQAkEEjglWAQQCFK5A9NoQAgD0AhACQQTaCVYBBAIUrgDgAAJBEOZAAgEQAAJBDMYgAgEMAAJBCMpAAgEIAAJBBLogAgEEAAJBEOYgAkEsxhACASwCEAIBEAACQQzGIAIBDAACQQjKIAJBQMYQAgFAAhACAQgAAkEEuiACAQQAAkEQqiACQSiSEAIBKAIQAgEQAAJBDJIgAgEMAAJBCKYgAkEsfhACASwCEAIBCAACQQRmIAIBBAACQKBkAkDQhhACAKAAAgDQAhACQQBQAkEcYAJA/HYJVgEAAAIBHAIErkEAUAJBHGIYAgEAAAIBHAIIAkEAUAJBHGIIAgEAAAIBHAIIAgD8AAJBAGACQRR0AkD0cglWAQAAAgEUAgSuQQBQAkEUYhgCAQAAAgEUAggCQQBQAkEUYggCAQAAAgEUAggCAPQAAkEAYAJBHHQCQPxWIAIBAAACARwAAgD8AAJBAGACQRR0AkD0ciACAQAAAgEUAAIA9AACQQBQAkEcYAJA/F4JVgEAAAIBHAIErkEAUAJBHGIYAgEAAAIBHAIIAkEAUAJBHGIIAgEAAAIBHAIIAgD8AAJBAGACQRR0AkD0dglWAQAAAgEUAgSuQQBQAkEUYhgCAQAAAgEUAggCQQBQAkEUYhgCAQAAAgEUAggCQQBQAkEUYggCAQAAAgEUAggCAPQAAkEAUAJBHGACQPxWIAIBAAACARwAAgD8AAJBAFACQRRgAkD0SiACAQAAAgEUAAIA9AACQQBQAkEcYAJA/FYgAgEAAAIBHAACAPwAAkD0XAJA7F4QAgD0AAJA9F4gAgD0AAJA9F4gAgD0AAJA9F4QAgDsAAJA6F4QAgD0AAJA9F4gAgD0AAJA9F4gAgD0AAJA9F4ErgDoAglWQOBeEAIA9AACQPReIAIA9AACQPReIAIA9AACQPReEAIA4AACQNxeEAIA9AACQPReIAIA9AACQPReIAIA9AACQPReEAIA3AIgAkD8jggCAPwCCAJA9IoIAgD0AggCQPyaIAIA/AACQPSgAkDYXiACAPQAAgD0AAJA/H4IAgD8AggCQPRqCAIA9AIIAkD8giACANgAAgD8AAJA2FwCQPSWIAIA9AACQPxqCAIA/AIIAkD0bggCAPQCCAJA/IogAgD8AAJA9JYgAgDYAAIA9AACQMxeIAIAzAACQMReIAIAxAACQLyiEAIAvAIQAkDshggCAOwCGAJA7IYIAgDsAhgCQOyGCAIA7AIYAkDshggCAOwCGAJA7IYIAgDsAhgCQPScAkDsnjACAPQAAkD4bhACAPgAAkEAjiACAQAAAkD0siACAPQAAkD4iiACAPgAAkEAiiACAOwAAgEAAAJBBLQCQOzOQAIBBAIgAkDsziACQPiCIAIA7AIgAgDsAAIA+AACQPScAkDsnjACAPQAAkD4bhACAPgAAkEAjiACAQAAAkD0siACAPQAAkD4iiACAPgAAkEAiiACAOwAAgEAAAJBBLQCQNzOQAIBBAIgAkDcziACQPiCIAIA3AIgAgDcAAIA+AACQPicAkDonjACAPgAAkEAbhACAQAAAkD4jiACAPgAAkD0smACAOgAAgD0AAJA+JwCQOieMAIA+AACQQCOEAIBAAACQPi6IAIA+AACQPSqIAIA9AACQPi+IAIA+AACQOTMAkEAziACAOgAAgDkAAIBAAACQQScAkD0njACAQQAAkEMbhACAQwAAkEEjiACAQQAAkEAsmACAPQAAgEAAAJBBJwCQPSeMAIBBAACQQyOEAIBDAACQQS6IAIBBAACQQCqIAIBAAACQQS+IAIBBAACQPDMAkEMziACAPQAAgDwAAIBDAACQQSOCAIBBAIIAkEQhggCARACyAJA8JIIAgDwAhgCQOhwAkD4hggCAOgAAgD4AjgCQOBMAkDwcggCAOAAAgDwAhgCQNxAAkDoYggCANwAAgDoApACQOBoAkDohggCAOAAAgDoAhgCQOBgAkDogggCAOAAAgDoAhgCQOBgAkDofggCAOAAAgDoAhgCQOBgAkDoeggCAOAAAgDoAhgCQOBYAkDodggCAOAAAgDoAhgCQOBYAkDodggCAOAAAgDoAhgCQOBYAkDocggCAOAAAgDoAhgCQOBQAkDobggCAOAAAgDoAiACQOBYAkDodggCAOAAAgDoAhgCQOBQAkDobggCAOAAAgDoAhACQOBQAkDobggCAOAAAgDoAiACQOBYAkDodggCAOAAAgDoAhgCQOBQAkDobggCAOAAAgDoAhACQOBQAkDobggCAOAAAgDoAiACQOBYAkDodggCAOAAAgDoAhgCQOBQAkDobggCAOAAAgDoAhgCQOBQAkDobggCAOAAAgDoAhgCQOBYAkDodggCAOAAAgDoAhgCQOBQAkDobggCAOAAAgDoAhACQOBkAkDogggCAOAAAgDoAiACQOhYAkDwdggCAOgAAgDwAhgCQOhQAkDwbggCAOgAAgDwAhgCQOhQAkDwbggCAOgAAgDwAhgCQOhYAkDwdggCAOgAAgDwAhgCQOhQAkDwbggCAOgAAgDwAhgCQPBsAkDoUggCAPAAAgDoAhgCQOhYAkDwdggCAOgAAgDwAhgCQOhQAkDwbggCAOgAAgDwAhgCQPBsAkDoUggCAPAAAgDoAhgCQOhYAkDwdggCAOgAAgDwAhgCQPBsAkDoUggCAPAAAgDoAhACQOhkAkDwgggCAOgAAgDwAkACQPBsAkDoUggCAPAAAgDoAhgCQPRYAkD8cggCAPQAAgD8AhACQPxkAkEIgggCAPwAAgEIAiACQPSCCAIA9AIYAkDYgggCANgCOAJA8HACQOhWCAIA8AACAOgCGAJA/HgCQPRaCAIA/AACAPQCEAJA/GQCQQiCCAIA/AACAQgCIAJA9IIIAgD0AhgCQNiCCAIA2AIQAkD8ZAJBCIIIAgD8AAIBCAIgAkD0gggCAPQCGAJA2IIIAgDYAhACQPxYAkEIcggCAPwAAgEIAiACQPRyCAIA9AIYAkDYcggCANgCGAJBAGYIAgEAAhgCQPRmCAIA9AIYAkDYZggCANgCEAJBAEwCQQhAAkEUTggCAQAAAgEIAAIBFAIYAkEAQAJBCEACQRROCAIBAAACAQgAAgEUAhgCQQBAAkEIQAJBFE4IAgEAAAIBCAACARQCGAJBAEACQQhAAkEUTggCAQAAAgEIAAIBFAIYAkEAQAJBCEACQRROCAIBAAACAQgAAgEUAhgCQQBAAkEIQAJBFE4IAgEAAAIBCAACARQCIAJBAEACQQhAAkEUTggCAQAAAgEIAAIBFAIYAkEAQAJBCEACQRROCAIBAAACAQgAAgEUAhgCQQBAAkEIQAJBFE4IAgEAAAIBCAACARQCGAJA/EACQQhAAkEUTggCAPwAAgEIAAIBFAIYAkD0RAJBCEQCQRRSCAIA9AACAQgAAgEUAhgCQPBEAkEIRAJBFFYIAgDwAAIBCAACARQCGAJA7EACQPRAAkEETggCAOwAAgD0AAIBBAIYAkDsQAJA9EACQQROCAIA7AACAPQAAgEEAhgCQOxAAkD0QAJBBE4IAgDsAAIA9AACAQQCGAJA6EACQPRAAkEATggCAOgAAgD0AAIBAAIYAkDgOAJA9DgCQQBGCAIA4AACAPQAAgEAAhgCQNw0AkD0NAJBAEYIAgDcAAIA9AACAQACGAJA2OQCQOjqCVYA2AACAOgCFK5A2OQCQOjqCVYA2AACAOgCFK5A2OQCQOjqCVYA2AACAOgCFK5A2NwCQOjeCVYA2AACAOgCFK5A2NACQOjWCVYA2AACAOgCFK5A2MQCQOjKCVYA2AACAOgCFK5A2IACQOSGCVYA2AACAOQCFK5A2HgCQOR6CVYA2AACAOQCFK5A2GwCQORyCVYA2AACAOQCFK5AvJawAkDEhhACAMQAAkDMoAJAoGpQAgC8AAIAzAACQMSGEAIAoAACAMQAAkDAoAJAoGowAgDAAAJAyKIQAgDIAAJA0KYQAgDQAAJA2LYQAgCgAAIA2AJgAkC8oAJAoGpQAgC8AAJAxIYQAgDEAAJAzKJQAgDMAAJAxIYQAgCgAAIAxAACQMCgAkCgajACAMAAAkDIohACAMgAAkDQphACANAAAkDYthACAKAAAgDYAoACQPC2EAIA8AACQPimEAIA+AACQQCmEAIBAAACQQi2EAIBCAKAAkEgthACASAAAkEophACASgAAkEwphACATAAAkE4thACATgCQAJBFMACQQjAAkDswhACARQAAgEIAAIA7AIwAkEAZhACAQAAAkEcZhACARwAAkEAchACAQAAAkEcchACARwAAkEAYhACAQAAAkEcYhACARwAAkEAVhACAQAAAkEcVhACARwAAkEAXhACAQAAAkEcXhACARwAAkEAUhACAQAAAkEcUhACARwAAkEAVhACAQAAAkEcVhACARwAAkEAXhACAQAAAkEcXhACARwAAkEAUhACAQAAAkEcUhACARwAAkEAVhACAQAAAkEcVhACARwAAkEAXhACAQAAAkEcXhACARwAAkEAUhACAQAAAkEcUhACARwAAkEAVhACAQAAAkEcVhACARwAAkEAXhACAQAAAkEcXhACARwAAkEAUhACAQAAAkEcUhACARwAAkEAVhACAQAAAkEcVhACARwAAkEAXhACAQAAAkEcXhACARwAAkEAUhACAQAAAkEcUhACARwAAkEAVhACAQAAAkEcVhACARwAAkEAXhACAQAAAkEcXhACARwAAkEAUhACAQAAAkEcUhACARwAAkEAVhACAQAAAkEcVhACARwAAkEAXhACAQAAAkEcXhACARwAAkEAUhACAQAAAkEcUhACARwAAkEAVhACAQAAAkEcVhACARwAAkEAXhACAQAAAkEcXhACARwD4AJA4EACQOxCEAIA4AACAOwCUAJA0FIQAgDQAAJA7EIQAgDsAiAD/LwA=');\n",
       "                        });\n",
       "                </script>"
      ],
      "text/plain": [
       "<IPython.core.display.HTML object>"
      ]
     },
     "metadata": {},
     "output_type": "display_data"
    }
   ],
   "source": [
    "all_midis[2].show('midi')"
   ]
  },
  {
   "cell_type": "code",
   "execution_count": 9,
   "metadata": {},
   "outputs": [
    {
     "name": "stdout",
     "output_type": "stream",
     "text": [
      "<music21.stream.Score 0x21b502c9be0>\n",
      "<music21.stream.Score 0x21b50b0b370>\n",
      "<music21.stream.Score 0x21b50aa7b50>\n",
      "<music21.stream.Score 0x21b51502af0>\n",
      "<music21.stream.Score 0x21b51a4b6d0>\n",
      "<music21.stream.Score 0x21b53f1ad30>\n",
      "<music21.stream.Score 0x21b54202760>\n",
      "Total notes in all the midis in the dataset: 7551\n"
     ]
    }
   ],
   "source": [
    "#Helping function        \n",
    "def extract_notes(file):\n",
    "    notes = []\n",
    "    pick = None\n",
    "    for song in file:\n",
    "        #songs = ms.instrument.partitionByInstrument(j)\n",
    "        \n",
    "        for part in song.parts:\n",
    "            pick = part.recurse()\n",
    "            for element in pick:\n",
    "                if isinstance(element, ms.note.Note):\n",
    "                    notes.append(str(element.pitch))\n",
    "                elif isinstance(element, ms.chord.Chord):\n",
    "                    notes.append(\".\".join(str(n) for n in element.normalOrder))\n",
    "        \n",
    "        print(song)\n",
    "    return notes\n",
    "#Getting the list of notes as Corpus\n",
    "Corpus= extract_notes(all_midis)\n",
    "print(\"Total notes in all the midis in the dataset:\", len(Corpus))"
   ]
  },
  {
   "cell_type": "code",
   "execution_count": 14,
   "metadata": {},
   "outputs": [
    {
     "name": "stdout",
     "output_type": "stream",
     "text": [
      "['G3', 'C4', 'D4', 'E4', 'G3', 'C4', 'E4', 'D4', 'F3', 'C4', 'D4', 'F4', 'A3', 'B3', 'F4', 'E4', 'G3', 'C4', 'E4', 'G4', 'B3', 'C4', 'G4', 'F4', 'A3', 'C4', 'F4', 'A4', 'B3', 'F4', 'A4', 'G4', 'C4', 'E4', 'G4', 'C5', 'E4', 'G4', 'C5', 'D5', 'E4', 'G4', 'D5', 'C5', 'E4', 'G4', 'C5', 'B4', 'E4', 'G4', 'B4', 'A4', 'E4', 'G4', 'A4', 'G4', 'C4', 'E4', 'G4', 'F4', 'C4', 'E4', 'F4', 'E4', 'B3', 'C4', 'E4', 'D4', 'A3', 'C4', 'D4', 'G4', 'B3', 'E4', 'G4', 'A4', 'C4', 'E4', 'A4', 'E4', 'A3', 'C4', 'E4', 'D4', 'A3', 'C4', 'D4', 'C4', 'G3', 'A3', 'C4', 'B3', 'F3', 'G3', 'B3', 'E3', 'G#3', 'G#3', 'B3', 'B3', 'E4', 'E4', 'G#4', 'A4', 'F4', 'D4', 'F4', 'D4', 'B3', 'A4', 'F4', 'D4', 'F4', 'D4', 'B3', 'C5', 'A4', 'F4', 'A4', 'F4', 'D4', 'F4', 'D4', 'B3', 'D4', 'B3', 'G3', 'A4', 'F4', 'D4', 'F4', 'D4', 'B3', 'A4', 'F4', 'D4', 'F4', 'D4', 'B3', 'C5', 'A4', 'F4', 'A4', 'F4', 'D4', 'F4', 'D4', 'B3', 'D4', 'B3']\n"
     ]
    }
   ],
   "source": [
    "print(Corpus[0:150])"
   ]
  },
  {
   "cell_type": "code",
   "execution_count": 11,
   "metadata": {},
   "outputs": [
    {
     "data": {
      "text/plain": [
       "<music21.chord.Chord C3 E3 C2 G3>"
      ]
     },
     "execution_count": 11,
     "metadata": {},
     "output_type": "execute_result"
    }
   ],
   "source": [
    "chord = ms.chord.Chord([\"C3\",\"E3\",\"C2\", \"G3\"])\n",
    "chord"
   ]
  },
  {
   "cell_type": "code",
   "execution_count": 12,
   "metadata": {},
   "outputs": [
    {
     "data": {
      "text/plain": [
       "[0, 4, 7]"
      ]
     },
     "execution_count": 12,
     "metadata": {},
     "output_type": "execute_result"
    }
   ],
   "source": [
    "chord.normalOrder"
   ]
  },
  {
   "cell_type": "code",
   "execution_count": 13,
   "metadata": {},
   "outputs": [
    {
     "data": {
      "text/plain": [
       "<music21.note.Note C>"
      ]
     },
     "execution_count": 13,
     "metadata": {},
     "output_type": "execute_result"
    }
   ],
   "source": [
    "chord.notes[0] #nameWithOctave"
   ]
  },
  {
   "cell_type": "markdown",
   "metadata": {},
   "source": [
    "## Data Exploration"
   ]
  },
  {
   "cell_type": "code",
   "execution_count": 15,
   "metadata": {},
   "outputs": [],
   "source": [
    "#First Lets write some functions that we need to look into the data\n",
    "def show(music):\n",
    "    display(Image(str(music.write(\"lily.png\"))))\n",
    "    \n",
    "def chords_n_notes(Snippet):\n",
    "    Melody = []\n",
    "    offset = 0 #Incremental\n",
    "    for i in Snippet:\n",
    "        #If it is chord\n",
    "        if (\".\" in i or i.isdigit()):\n",
    "            chord_notes = i.split(\".\") #Seperating the notes in chord\n",
    "            notes = [] \n",
    "            for j in chord_notes:\n",
    "                inst_note=int(j)\n",
    "                note_snip = ms.note.Note(inst_note)            \n",
    "                notes.append(note_snip)\n",
    "                chord_snip = ms.chord.Chord(notes)\n",
    "                chord_snip.offset = offset\n",
    "                Melody.append(chord_snip)\n",
    "        # pattern is a note\n",
    "        else: \n",
    "            note_snip = ms.note.Note(i)\n",
    "            note_snip.offset = offset\n",
    "            Melody.append(note_snip)\n",
    "        # increase offset each iteration so that notes do not stack\n",
    "        offset += 1\n",
    "    Melody_midi = ms.stream.Stream(Melody)   \n",
    "    return Melody_midi\n",
    "\n",
    "Melody_Snippet = chords_n_notes(Corpus[:100])\n",
    "#show(Melody_Snippet)"
   ]
  },
  {
   "cell_type": "code",
   "execution_count": 16,
   "metadata": {},
   "outputs": [
    {
     "data": {
      "text/html": [
       "\n",
       "                <div id='midiPlayerDiv470334'></div>\n",
       "                <link rel=\"stylesheet\" href=\"//cuthbertLab.github.io/music21j/css/m21.css\"\n",
       "                    type=\"text/css\" />\n",
       "                \n",
       "                <script>\n",
       "                require.config({\n",
       "                    paths: {'music21': '//cuthbertLab.github.io/music21j/src/music21'}\n",
       "                });\n",
       "                require(['music21'], function() {\n",
       "                               mp = new music21.miditools.MidiPlayer();\n",
       "                               mp.addPlayer('#midiPlayerDiv470334');\n",
       "                               mp.base64Load('data:audio/midi;base64,TVRoZAAAAAYAAQACBABNVHJrAAAAFAD/UQMHoSAA/1gEBAIYCIgA/y8ATVRyawAAA5IA/wMAAOAAQIgAkDdaiACANwAAkDxaiACAPAAAkD5aiACAPgAAkEBaiACAQAAAkDdaiACANwAAkDxaiACAPAAAkEBaiACAQAAAkD5aiACAPgAAkDVaiACANQAAkDxaiACAPAAAkD5aiACAPgAAkEFaiACAQQAAkDlaiACAOQAAkDtaiACAOwAAkEFaiACAQQAAkEBaiACAQAAAkDdaiACANwAAkDxaiACAPAAAkEBaiACAQAAAkENaiACAQwAAkDtaiACAOwAAkDxaiACAPAAAkENaiACAQwAAkEFaiACAQQAAkDlaiACAOQAAkDxaiACAPAAAkEFaiACAQQAAkEVaiACARQAAkDtaiACAOwAAkEFaiACAQQAAkEVaiACARQAAkENaiACAQwAAkDxaiACAPAAAkEBaiACAQAAAkENaiACAQwAAkEhaiACASAAAkEBaiACAQAAAkENaiACAQwAAkEhaiACASAAAkEpaiACASgAAkEBaiACAQAAAkENaiACAQwAAkEpaiACASgAAkEhaiACASAAAkEBaiACAQAAAkENaiACAQwAAkEhaiACASAAAkEdaiACARwAAkEBaiACAQAAAkENaiACAQwAAkEdaiACARwAAkEVaiACARQAAkEBaiACAQAAAkENaiACAQwAAkEVaiACARQAAkENaiACAQwAAkDxaiACAPAAAkEBaiACAQAAAkENaiACAQwAAkEFaiACAQQAAkDxaiACAPAAAkEBaiACAQAAAkEFaiACAQQAAkEBaiACAQAAAkDtaiACAOwAAkDxaiACAPAAAkEBaiACAQAAAkD5aiACAPgAAkDlaiACAOQAAkDxaiACAPAAAkD5aiACAPgAAkENaiACAQwAAkDtaiACAOwAAkEBaiACAQAAAkENaiACAQwAAkEVaiACARQAAkDxaiACAPAAAkEBaiACAQAAAkEVaiACARQAAkEBaiACAQAAAkDlaiACAOQAAkDxaiACAPAAAkEBaiACAQAAAkD5aiACAPgAAkDlaiACAOQAAkDxaiACAPAAAkD5aiACAPgAAkDxaiACAPAAAkDdaiACANwAAkDlaiACAOQAAkDxaiACAPAAAkDtaiACAOwAAkDVaiACANQAAkDdaiACANwAAkDtaiACAOwAAkDRaiACANAAAkDhaiACAOAAAkDhaiACAOAAAkDtaiACAOwAAkDtaiACAOwCIAP8vAA==');\n",
       "                        });\n",
       "                </script>"
      ],
      "text/plain": [
       "<IPython.core.display.HTML object>"
      ]
     },
     "metadata": {},
     "output_type": "display_data"
    },
    {
     "data": {
      "image/png": "[encoded data removed]",
      "text/plain": [
       "<IPython.core.display.Image object>"
      ]
     },
     "metadata": {
      "image/png": {
       "height": 329,
       "width": 753
      }
     },
     "output_type": "display_data"
    }
   ],
   "source": [
    "Melody_Snippet.show('midi')\n",
    "Melody_Snippet.show()"
   ]
  },
  {
   "cell_type": "code",
   "execution_count": 17,
   "metadata": {},
   "outputs": [
    {
     "name": "stdout",
     "output_type": "stream",
     "text": [
      "Total unique notes in the Corpus: 235\n"
     ]
    }
   ],
   "source": [
    "#Creating a count dictionary\n",
    "count_num = Counter(Corpus)\n",
    "print(\"Total unique notes in the Corpus:\", len(count_num))"
   ]
  },
  {
   "cell_type": "code",
   "execution_count": 18,
   "metadata": {},
   "outputs": [
    {
     "name": "stdout",
     "output_type": "stream",
     "text": [
      "Average recurrenc for a note in Corpus: 32.13191489361702\n",
      "Most frequent note in Corpus appeared: 293 times\n",
      "Least frequent note in Corpus appeared: 1 time\n"
     ]
    }
   ],
   "source": [
    "#Exploring the notes dictionary\n",
    "Notes = list(count_num.keys())\n",
    "Recurrence = list(count_num.values())\n",
    "#Average recurrenc for a note in Corpus\n",
    "def Average(lst):\n",
    "    return sum(lst) / len(lst)\n",
    "print(\"Average recurrenc for a note in Corpus:\", Average(Recurrence))\n",
    "print(\"Most frequent note in Corpus appeared:\", max(Recurrence), \"times\")\n",
    "print(\"Least frequent note in Corpus appeared:\", min(Recurrence), \"time\")"
   ]
  },
  {
   "cell_type": "code",
   "execution_count": 19,
   "metadata": {},
   "outputs": [
    {
     "data": {
      "image/png": "[encoded data removed]",
      "text/plain": [
       "<Figure size 1296x216 with 1 Axes>"
      ]
     },
     "metadata": {
      "image/png": {
       "height": 222,
       "width": 1058
      }
     },
     "output_type": "display_data"
    }
   ],
   "source": [
    "# Plotting the distribution of Notes\n",
    "plt.figure(figsize=(18,3),facecolor=\"#97BACB\")\n",
    "bins = np.arange(0,(max(Recurrence)), 50) \n",
    "plt.hist(Recurrence, bins=bins, color=\"#97BACB\")\n",
    "plt.axvline(x=100,color=\"#DBACC1\")\n",
    "plt.title(\"Frequency Distribution Of Notes In The Corpus\")\n",
    "plt.xlabel(\"Frequency Of Chords in Corpus\")\n",
    "plt.ylabel(\"Number Of Chords\")\n",
    "plt.show()"
   ]
  },
  {
   "cell_type": "markdown",
   "metadata": {},
   "source": [
    "I have decided, I will be taking out the notes that were played less than 100 times. I mean, if Chopin liked them he would have played it a lot more often. So I create a list of rare notes in the next section."
   ]
  },
  {
   "cell_type": "code",
   "execution_count": 20,
   "metadata": {},
   "outputs": [
    {
     "name": "stdout",
     "output_type": "stream",
     "text": [
      "Total number of notes that occur less than 100 times: 211\n"
     ]
    }
   ],
   "source": [
    "#Getting a list of rare chords\n",
    "rare_note = []\n",
    "for index, (key, value) in enumerate(count_num.items()):\n",
    "    if value < 100:\n",
    "        m =  key\n",
    "        rare_note.append(m)\n",
    "        \n",
    "print(\"Total number of notes that occur less than 100 times:\", len(rare_note))"
   ]
  },
  {
   "cell_type": "code",
   "execution_count": 21,
   "metadata": {},
   "outputs": [
    {
     "name": "stdout",
     "output_type": "stream",
     "text": [
      "Length of Corpus after elemination the rare notes: 5526\n"
     ]
    }
   ],
   "source": [
    "#Eleminating the rare notes\n",
    "for element in Corpus:\n",
    "    if element in rare_note:\n",
    "        Corpus.remove(element)\n",
    "\n",
    "print(\"Length of Corpus after elemination the rare notes:\", len(Corpus))"
   ]
  },
  {
   "cell_type": "code",
   "execution_count": 22,
   "metadata": {},
   "outputs": [
    {
     "data": {
      "text/plain": [
       "5526"
      ]
     },
     "execution_count": 22,
     "metadata": {},
     "output_type": "execute_result"
    }
   ],
   "source": [
    "len(Corpus)"
   ]
  },
  {
   "cell_type": "markdown",
   "metadata": {},
   "source": [
    "## Data Preprocessing"
   ]
  },
  {
   "cell_type": "code",
   "execution_count": 23,
   "metadata": {},
   "outputs": [
    {
     "name": "stdout",
     "output_type": "stream",
     "text": [
      "Total number of characters: 5526\n",
      "Number of unique characters: 192\n"
     ]
    }
   ],
   "source": [
    "# Storing all the unique characters present in my corpus to built a mapping dic. \n",
    "symb = sorted(list(set(Corpus)))\n",
    "\n",
    "L_corpus = len(Corpus) #length of corpus\n",
    "L_symb = len(symb) #length of total unique characters\n",
    "\n",
    "#Building dictionary to access the vocabulary from indices and vice versa\n",
    "mapping = dict((c, i) for i, c in enumerate(symb))\n",
    "reverse_mapping = dict((i, c) for i, c in enumerate(symb))\n",
    "\n",
    "print(\"Total number of characters:\", L_corpus)\n",
    "print(\"Number of unique characters:\", L_symb)"
   ]
  },
  {
   "cell_type": "code",
   "execution_count": 24,
   "metadata": {
    "collapsed": true
   },
   "outputs": [
    {
     "data": {
      "text/plain": [
       "['0',\n",
       " '0.2',\n",
       " '0.2.4',\n",
       " '0.2.7',\n",
       " '0.3',\n",
       " '0.3.7',\n",
       " '0.4',\n",
       " '0.4.6',\n",
       " '0.4.7',\n",
       " '0.5',\n",
       " '0.6',\n",
       " '1.3',\n",
       " '1.3.8',\n",
       " '1.4',\n",
       " '1.4.8',\n",
       " '1.5',\n",
       " '1.5.8',\n",
       " '1.5.9',\n",
       " '1.6',\n",
       " '10',\n",
       " '10.0',\n",
       " '10.0.1',\n",
       " '10.1',\n",
       " '10.1.3',\n",
       " '10.2',\n",
       " '10.2.3',\n",
       " '10.2.4',\n",
       " '10.2.5',\n",
       " '10.3',\n",
       " '11.0',\n",
       " '11.0.1',\n",
       " '11.0.2',\n",
       " '11.0.3',\n",
       " '11.1',\n",
       " '11.1.5',\n",
       " '11.1.6',\n",
       " '11.2',\n",
       " '11.2.3',\n",
       " '11.2.4',\n",
       " '11.2.5',\n",
       " '11.2.6',\n",
       " '11.3',\n",
       " '11.3.4',\n",
       " '11.3.6',\n",
       " '11.4',\n",
       " '2.4',\n",
       " '2.4.5',\n",
       " '2.4.5.7',\n",
       " '2.5',\n",
       " '2.5.7',\n",
       " '2.5.9',\n",
       " '2.6',\n",
       " '2.6.8',\n",
       " '2.6.9',\n",
       " '2.7',\n",
       " '2.8',\n",
       " '3',\n",
       " '3.5',\n",
       " '3.6',\n",
       " '3.6.10',\n",
       " '3.6.8.11',\n",
       " '3.7',\n",
       " '3.7.10',\n",
       " '3.8',\n",
       " '4',\n",
       " '4.5',\n",
       " '4.6',\n",
       " '4.6.10',\n",
       " '4.6.11',\n",
       " '4.6.9',\n",
       " '4.7',\n",
       " '4.7.10',\n",
       " '4.7.11',\n",
       " '4.8',\n",
       " '4.8.11',\n",
       " '4.9',\n",
       " '5',\n",
       " '5.10',\n",
       " '5.7',\n",
       " '5.7.10',\n",
       " '5.8',\n",
       " '5.8.0',\n",
       " '5.8.11',\n",
       " '5.8.9.0',\n",
       " '5.9',\n",
       " '5.9.0',\n",
       " '5.9.11',\n",
       " '6.10',\n",
       " '6.10.1',\n",
       " '6.11',\n",
       " '6.7',\n",
       " '6.8.1',\n",
       " '6.9',\n",
       " '6.9.1',\n",
       " '6.9.11',\n",
       " '7',\n",
       " '7.0',\n",
       " '7.10',\n",
       " '7.10.0',\n",
       " '7.10.2',\n",
       " '7.11',\n",
       " '7.11.2',\n",
       " '7.8.11',\n",
       " '7.9',\n",
       " '7.9.2',\n",
       " '8',\n",
       " '8.0',\n",
       " '8.0.3',\n",
       " '8.1',\n",
       " '8.10',\n",
       " '8.10.1',\n",
       " '8.11',\n",
       " '8.11.1',\n",
       " '8.11.2',\n",
       " '8.11.3',\n",
       " '9',\n",
       " '9.0',\n",
       " '9.0.3',\n",
       " '9.0.4',\n",
       " '9.1',\n",
       " '9.1.2',\n",
       " '9.1.4',\n",
       " '9.10',\n",
       " '9.10.1',\n",
       " '9.11',\n",
       " '9.2',\n",
       " 'A1',\n",
       " 'A2',\n",
       " 'A3',\n",
       " 'A4',\n",
       " 'A5',\n",
       " 'A6',\n",
       " 'B-0',\n",
       " 'B-1',\n",
       " 'B-2',\n",
       " 'B-3',\n",
       " 'B-4',\n",
       " 'B-5',\n",
       " 'B1',\n",
       " 'B2',\n",
       " 'B3',\n",
       " 'B4',\n",
       " 'B5',\n",
       " 'C#2',\n",
       " 'C#3',\n",
       " 'C#4',\n",
       " 'C#5',\n",
       " 'C#6',\n",
       " 'C1',\n",
       " 'C2',\n",
       " 'C3',\n",
       " 'C4',\n",
       " 'C5',\n",
       " 'C6',\n",
       " 'D1',\n",
       " 'D2',\n",
       " 'D3',\n",
       " 'D4',\n",
       " 'D5',\n",
       " 'D6',\n",
       " 'E-2',\n",
       " 'E-3',\n",
       " 'E-4',\n",
       " 'E-5',\n",
       " 'E-6',\n",
       " 'E2',\n",
       " 'E3',\n",
       " 'E4',\n",
       " 'E5',\n",
       " 'E6',\n",
       " 'F#1',\n",
       " 'F#2',\n",
       " 'F#3',\n",
       " 'F#4',\n",
       " 'F#5',\n",
       " 'F#6',\n",
       " 'F1',\n",
       " 'F2',\n",
       " 'F3',\n",
       " 'F4',\n",
       " 'F5',\n",
       " 'G#1',\n",
       " 'G#2',\n",
       " 'G#3',\n",
       " 'G#4',\n",
       " 'G#5',\n",
       " 'G1',\n",
       " 'G2',\n",
       " 'G3',\n",
       " 'G4',\n",
       " 'G5',\n",
       " 'G6']"
      ]
     },
     "execution_count": 24,
     "metadata": {},
     "output_type": "execute_result"
    }
   ],
   "source": [
    "symb"
   ]
  },
  {
   "cell_type": "code",
   "execution_count": 25,
   "metadata": {},
   "outputs": [
    {
     "data": {
      "text/plain": [
       "{'0': 0,\n",
       " '0.2': 1,\n",
       " '0.2.4': 2,\n",
       " '0.2.7': 3,\n",
       " '0.3': 4,\n",
       " '0.3.7': 5,\n",
       " '0.4': 6,\n",
       " '0.4.6': 7,\n",
       " '0.4.7': 8,\n",
       " '0.5': 9,\n",
       " '0.6': 10,\n",
       " '1.3': 11,\n",
       " '1.3.8': 12,\n",
       " '1.4': 13,\n",
       " '1.4.8': 14,\n",
       " '1.5': 15,\n",
       " '1.5.8': 16,\n",
       " '1.5.9': 17,\n",
       " '1.6': 18,\n",
       " '10': 19,\n",
       " '10.0': 20,\n",
       " '10.0.1': 21,\n",
       " '10.1': 22,\n",
       " '10.1.3': 23,\n",
       " '10.2': 24,\n",
       " '10.2.3': 25,\n",
       " '10.2.4': 26,\n",
       " '10.2.5': 27,\n",
       " '10.3': 28,\n",
       " '11.0': 29,\n",
       " '11.0.1': 30,\n",
       " '11.0.2': 31,\n",
       " '11.0.3': 32,\n",
       " '11.1': 33,\n",
       " '11.1.5': 34,\n",
       " '11.1.6': 35,\n",
       " '11.2': 36,\n",
       " '11.2.3': 37,\n",
       " '11.2.4': 38,\n",
       " '11.2.5': 39,\n",
       " '11.2.6': 40,\n",
       " '11.3': 41,\n",
       " '11.3.4': 42,\n",
       " '11.3.6': 43,\n",
       " '11.4': 44,\n",
       " '2.4': 45,\n",
       " '2.4.5': 46,\n",
       " '2.4.5.7': 47,\n",
       " '2.5': 48,\n",
       " '2.5.7': 49,\n",
       " '2.5.9': 50,\n",
       " '2.6': 51,\n",
       " '2.6.8': 52,\n",
       " '2.6.9': 53,\n",
       " '2.7': 54,\n",
       " '2.8': 55,\n",
       " '3': 56,\n",
       " '3.5': 57,\n",
       " '3.6': 58,\n",
       " '3.6.10': 59,\n",
       " '3.6.8.11': 60,\n",
       " '3.7': 61,\n",
       " '3.7.10': 62,\n",
       " '3.8': 63,\n",
       " '4': 64,\n",
       " '4.5': 65,\n",
       " '4.6': 66,\n",
       " '4.6.10': 67,\n",
       " '4.6.11': 68,\n",
       " '4.6.9': 69,\n",
       " '4.7': 70,\n",
       " '4.7.10': 71,\n",
       " '4.7.11': 72,\n",
       " '4.8': 73,\n",
       " '4.8.11': 74,\n",
       " '4.9': 75,\n",
       " '5': 76,\n",
       " '5.10': 77,\n",
       " '5.7': 78,\n",
       " '5.7.10': 79,\n",
       " '5.8': 80,\n",
       " '5.8.0': 81,\n",
       " '5.8.11': 82,\n",
       " '5.8.9.0': 83,\n",
       " '5.9': 84,\n",
       " '5.9.0': 85,\n",
       " '5.9.11': 86,\n",
       " '6.10': 87,\n",
       " '6.10.1': 88,\n",
       " '6.11': 89,\n",
       " '6.7': 90,\n",
       " '6.8.1': 91,\n",
       " '6.9': 92,\n",
       " '6.9.1': 93,\n",
       " '6.9.11': 94,\n",
       " '7': 95,\n",
       " '7.0': 96,\n",
       " '7.10': 97,\n",
       " '7.10.0': 98,\n",
       " '7.10.2': 99,\n",
       " '7.11': 100,\n",
       " '7.11.2': 101,\n",
       " '7.8.11': 102,\n",
       " '7.9': 103,\n",
       " '7.9.2': 104,\n",
       " '8': 105,\n",
       " '8.0': 106,\n",
       " '8.0.3': 107,\n",
       " '8.1': 108,\n",
       " '8.10': 109,\n",
       " '8.10.1': 110,\n",
       " '8.11': 111,\n",
       " '8.11.1': 112,\n",
       " '8.11.2': 113,\n",
       " '8.11.3': 114,\n",
       " '9': 115,\n",
       " '9.0': 116,\n",
       " '9.0.3': 117,\n",
       " '9.0.4': 118,\n",
       " '9.1': 119,\n",
       " '9.1.2': 120,\n",
       " '9.1.4': 121,\n",
       " '9.10': 122,\n",
       " '9.10.1': 123,\n",
       " '9.11': 124,\n",
       " '9.2': 125,\n",
       " 'A1': 126,\n",
       " 'A2': 127,\n",
       " 'A3': 128,\n",
       " 'A4': 129,\n",
       " 'A5': 130,\n",
       " 'A6': 131,\n",
       " 'B-0': 132,\n",
       " 'B-1': 133,\n",
       " 'B-2': 134,\n",
       " 'B-3': 135,\n",
       " 'B-4': 136,\n",
       " 'B-5': 137,\n",
       " 'B1': 138,\n",
       " 'B2': 139,\n",
       " 'B3': 140,\n",
       " 'B4': 141,\n",
       " 'B5': 142,\n",
       " 'C#2': 143,\n",
       " 'C#3': 144,\n",
       " 'C#4': 145,\n",
       " 'C#5': 146,\n",
       " 'C#6': 147,\n",
       " 'C1': 148,\n",
       " 'C2': 149,\n",
       " 'C3': 150,\n",
       " 'C4': 151,\n",
       " 'C5': 152,\n",
       " 'C6': 153,\n",
       " 'D1': 154,\n",
       " 'D2': 155,\n",
       " 'D3': 156,\n",
       " 'D4': 157,\n",
       " 'D5': 158,\n",
       " 'D6': 159,\n",
       " 'E-2': 160,\n",
       " 'E-3': 161,\n",
       " 'E-4': 162,\n",
       " 'E-5': 163,\n",
       " 'E-6': 164,\n",
       " 'E2': 165,\n",
       " 'E3': 166,\n",
       " 'E4': 167,\n",
       " 'E5': 168,\n",
       " 'E6': 169,\n",
       " 'F#1': 170,\n",
       " 'F#2': 171,\n",
       " 'F#3': 172,\n",
       " 'F#4': 173,\n",
       " 'F#5': 174,\n",
       " 'F#6': 175,\n",
       " 'F1': 176,\n",
       " 'F2': 177,\n",
       " 'F3': 178,\n",
       " 'F4': 179,\n",
       " 'F5': 180,\n",
       " 'G#1': 181,\n",
       " 'G#2': 182,\n",
       " 'G#3': 183,\n",
       " 'G#4': 184,\n",
       " 'G#5': 185,\n",
       " 'G1': 186,\n",
       " 'G2': 187,\n",
       " 'G3': 188,\n",
       " 'G4': 189,\n",
       " 'G5': 190,\n",
       " 'G6': 191}"
      ]
     },
     "execution_count": 25,
     "metadata": {},
     "output_type": "execute_result"
    }
   ],
   "source": [
    "mapping"
   ]
  },
  {
   "cell_type": "code",
   "execution_count": 26,
   "metadata": {},
   "outputs": [
    {
     "name": "stdout",
     "output_type": "stream",
     "text": [
      "Total number of sequences in the Corpus: 5486\n"
     ]
    }
   ],
   "source": [
    "#Splitting the Corpus in equal length of strings and output target\n",
    "length = 40\n",
    "features = []\n",
    "targets = []\n",
    "for i in range(0, L_corpus - length, 1):\n",
    "    feature = Corpus[i:i + length]\n",
    "    target = Corpus[i + length]\n",
    "    features.append([mapping[j] for j in feature])\n",
    "    targets.append(mapping[target])\n",
    "    \n",
    "    \n",
    "L_datapoints = len(targets)\n",
    "print(\"Total number of sequences in the Corpus:\", L_datapoints)"
   ]
  },
  {
   "cell_type": "code",
   "execution_count": 27,
   "metadata": {},
   "outputs": [
    {
     "data": {
      "text/plain": [
       "167"
      ]
     },
     "execution_count": 27,
     "metadata": {},
     "output_type": "execute_result"
    }
   ],
   "source": [
    "mapping[Corpus[40]] #Que é justamente o nosso target"
   ]
  },
  {
   "cell_type": "code",
   "execution_count": 28,
   "metadata": {},
   "outputs": [
    {
     "data": {
      "text/html": [
       "<div>\n",
       "<style scoped>\n",
       "    .dataframe tbody tr th:only-of-type {\n",
       "        vertical-align: middle;\n",
       "    }\n",
       "\n",
       "    .dataframe tbody tr th {\n",
       "        vertical-align: top;\n",
       "    }\n",
       "\n",
       "    .dataframe thead th {\n",
       "        text-align: right;\n",
       "    }\n",
       "</style>\n",
       "<table border=\"1\" class=\"dataframe\">\n",
       "  <thead>\n",
       "    <tr style=\"text-align: right;\">\n",
       "      <th></th>\n",
       "      <th>0</th>\n",
       "      <th>1</th>\n",
       "      <th>2</th>\n",
       "      <th>3</th>\n",
       "      <th>4</th>\n",
       "      <th>5</th>\n",
       "      <th>6</th>\n",
       "      <th>7</th>\n",
       "      <th>8</th>\n",
       "      <th>9</th>\n",
       "      <th>...</th>\n",
       "      <th>30</th>\n",
       "      <th>31</th>\n",
       "      <th>32</th>\n",
       "      <th>33</th>\n",
       "      <th>34</th>\n",
       "      <th>35</th>\n",
       "      <th>36</th>\n",
       "      <th>37</th>\n",
       "      <th>38</th>\n",
       "      <th>39</th>\n",
       "    </tr>\n",
       "  </thead>\n",
       "  <tbody>\n",
       "    <tr>\n",
       "      <th>0</th>\n",
       "      <td>151</td>\n",
       "      <td>157</td>\n",
       "      <td>167</td>\n",
       "      <td>151</td>\n",
       "      <td>167</td>\n",
       "      <td>157</td>\n",
       "      <td>151</td>\n",
       "      <td>157</td>\n",
       "      <td>179</td>\n",
       "      <td>128</td>\n",
       "      <td>...</td>\n",
       "      <td>189</td>\n",
       "      <td>152</td>\n",
       "      <td>167</td>\n",
       "      <td>189</td>\n",
       "      <td>152</td>\n",
       "      <td>158</td>\n",
       "      <td>167</td>\n",
       "      <td>189</td>\n",
       "      <td>158</td>\n",
       "      <td>152</td>\n",
       "    </tr>\n",
       "    <tr>\n",
       "      <th>1</th>\n",
       "      <td>157</td>\n",
       "      <td>167</td>\n",
       "      <td>151</td>\n",
       "      <td>167</td>\n",
       "      <td>157</td>\n",
       "      <td>151</td>\n",
       "      <td>157</td>\n",
       "      <td>179</td>\n",
       "      <td>128</td>\n",
       "      <td>140</td>\n",
       "      <td>...</td>\n",
       "      <td>152</td>\n",
       "      <td>167</td>\n",
       "      <td>189</td>\n",
       "      <td>152</td>\n",
       "      <td>158</td>\n",
       "      <td>167</td>\n",
       "      <td>189</td>\n",
       "      <td>158</td>\n",
       "      <td>152</td>\n",
       "      <td>167</td>\n",
       "    </tr>\n",
       "    <tr>\n",
       "      <th>2</th>\n",
       "      <td>167</td>\n",
       "      <td>151</td>\n",
       "      <td>167</td>\n",
       "      <td>157</td>\n",
       "      <td>151</td>\n",
       "      <td>157</td>\n",
       "      <td>179</td>\n",
       "      <td>128</td>\n",
       "      <td>140</td>\n",
       "      <td>179</td>\n",
       "      <td>...</td>\n",
       "      <td>167</td>\n",
       "      <td>189</td>\n",
       "      <td>152</td>\n",
       "      <td>158</td>\n",
       "      <td>167</td>\n",
       "      <td>189</td>\n",
       "      <td>158</td>\n",
       "      <td>152</td>\n",
       "      <td>167</td>\n",
       "      <td>189</td>\n",
       "    </tr>\n",
       "    <tr>\n",
       "      <th>3</th>\n",
       "      <td>151</td>\n",
       "      <td>167</td>\n",
       "      <td>157</td>\n",
       "      <td>151</td>\n",
       "      <td>157</td>\n",
       "      <td>179</td>\n",
       "      <td>128</td>\n",
       "      <td>140</td>\n",
       "      <td>179</td>\n",
       "      <td>167</td>\n",
       "      <td>...</td>\n",
       "      <td>189</td>\n",
       "      <td>152</td>\n",
       "      <td>158</td>\n",
       "      <td>167</td>\n",
       "      <td>189</td>\n",
       "      <td>158</td>\n",
       "      <td>152</td>\n",
       "      <td>167</td>\n",
       "      <td>189</td>\n",
       "      <td>152</td>\n",
       "    </tr>\n",
       "    <tr>\n",
       "      <th>4</th>\n",
       "      <td>167</td>\n",
       "      <td>157</td>\n",
       "      <td>151</td>\n",
       "      <td>157</td>\n",
       "      <td>179</td>\n",
       "      <td>128</td>\n",
       "      <td>140</td>\n",
       "      <td>179</td>\n",
       "      <td>167</td>\n",
       "      <td>151</td>\n",
       "      <td>...</td>\n",
       "      <td>152</td>\n",
       "      <td>158</td>\n",
       "      <td>167</td>\n",
       "      <td>189</td>\n",
       "      <td>158</td>\n",
       "      <td>152</td>\n",
       "      <td>167</td>\n",
       "      <td>189</td>\n",
       "      <td>152</td>\n",
       "      <td>141</td>\n",
       "    </tr>\n",
       "    <tr>\n",
       "      <th>...</th>\n",
       "      <td>...</td>\n",
       "      <td>...</td>\n",
       "      <td>...</td>\n",
       "      <td>...</td>\n",
       "      <td>...</td>\n",
       "      <td>...</td>\n",
       "      <td>...</td>\n",
       "      <td>...</td>\n",
       "      <td>...</td>\n",
       "      <td>...</td>\n",
       "      <td>...</td>\n",
       "      <td>...</td>\n",
       "      <td>...</td>\n",
       "      <td>...</td>\n",
       "      <td>...</td>\n",
       "      <td>...</td>\n",
       "      <td>...</td>\n",
       "      <td>...</td>\n",
       "      <td>...</td>\n",
       "      <td>...</td>\n",
       "      <td>...</td>\n",
       "    </tr>\n",
       "    <tr>\n",
       "      <th>5481</th>\n",
       "      <td>158</td>\n",
       "      <td>152</td>\n",
       "      <td>136</td>\n",
       "      <td>190</td>\n",
       "      <td>158</td>\n",
       "      <td>152</td>\n",
       "      <td>136</td>\n",
       "      <td>76</td>\n",
       "      <td>150</td>\n",
       "      <td>116</td>\n",
       "      <td>...</td>\n",
       "      <td>97</td>\n",
       "      <td>157</td>\n",
       "      <td>128</td>\n",
       "      <td>135</td>\n",
       "      <td>188</td>\n",
       "      <td>128</td>\n",
       "      <td>135</td>\n",
       "      <td>151</td>\n",
       "      <td>157</td>\n",
       "      <td>179</td>\n",
       "    </tr>\n",
       "    <tr>\n",
       "      <th>5482</th>\n",
       "      <td>152</td>\n",
       "      <td>136</td>\n",
       "      <td>190</td>\n",
       "      <td>158</td>\n",
       "      <td>152</td>\n",
       "      <td>136</td>\n",
       "      <td>76</td>\n",
       "      <td>150</td>\n",
       "      <td>116</td>\n",
       "      <td>84</td>\n",
       "      <td>...</td>\n",
       "      <td>157</td>\n",
       "      <td>128</td>\n",
       "      <td>135</td>\n",
       "      <td>188</td>\n",
       "      <td>128</td>\n",
       "      <td>135</td>\n",
       "      <td>151</td>\n",
       "      <td>157</td>\n",
       "      <td>179</td>\n",
       "      <td>188</td>\n",
       "    </tr>\n",
       "    <tr>\n",
       "      <th>5483</th>\n",
       "      <td>136</td>\n",
       "      <td>190</td>\n",
       "      <td>158</td>\n",
       "      <td>152</td>\n",
       "      <td>136</td>\n",
       "      <td>76</td>\n",
       "      <td>150</td>\n",
       "      <td>116</td>\n",
       "      <td>84</td>\n",
       "      <td>167</td>\n",
       "      <td>...</td>\n",
       "      <td>128</td>\n",
       "      <td>135</td>\n",
       "      <td>188</td>\n",
       "      <td>128</td>\n",
       "      <td>135</td>\n",
       "      <td>151</td>\n",
       "      <td>157</td>\n",
       "      <td>179</td>\n",
       "      <td>188</td>\n",
       "      <td>178</td>\n",
       "    </tr>\n",
       "    <tr>\n",
       "      <th>5484</th>\n",
       "      <td>190</td>\n",
       "      <td>158</td>\n",
       "      <td>152</td>\n",
       "      <td>136</td>\n",
       "      <td>76</td>\n",
       "      <td>150</td>\n",
       "      <td>116</td>\n",
       "      <td>84</td>\n",
       "      <td>167</td>\n",
       "      <td>157</td>\n",
       "      <td>...</td>\n",
       "      <td>135</td>\n",
       "      <td>188</td>\n",
       "      <td>128</td>\n",
       "      <td>135</td>\n",
       "      <td>151</td>\n",
       "      <td>157</td>\n",
       "      <td>179</td>\n",
       "      <td>188</td>\n",
       "      <td>178</td>\n",
       "      <td>85</td>\n",
       "    </tr>\n",
       "    <tr>\n",
       "      <th>5485</th>\n",
       "      <td>158</td>\n",
       "      <td>152</td>\n",
       "      <td>136</td>\n",
       "      <td>76</td>\n",
       "      <td>150</td>\n",
       "      <td>116</td>\n",
       "      <td>84</td>\n",
       "      <td>167</td>\n",
       "      <td>157</td>\n",
       "      <td>150</td>\n",
       "      <td>...</td>\n",
       "      <td>188</td>\n",
       "      <td>128</td>\n",
       "      <td>135</td>\n",
       "      <td>151</td>\n",
       "      <td>157</td>\n",
       "      <td>179</td>\n",
       "      <td>188</td>\n",
       "      <td>178</td>\n",
       "      <td>85</td>\n",
       "      <td>85</td>\n",
       "    </tr>\n",
       "  </tbody>\n",
       "</table>\n",
       "<p>5486 rows × 40 columns</p>\n",
       "</div>"
      ],
      "text/plain": [
       "       0    1    2    3    4    5    6    7    8    9   ...   30   31   32  \\\n",
       "0     151  157  167  151  167  157  151  157  179  128  ...  189  152  167   \n",
       "1     157  167  151  167  157  151  157  179  128  140  ...  152  167  189   \n",
       "2     167  151  167  157  151  157  179  128  140  179  ...  167  189  152   \n",
       "3     151  167  157  151  157  179  128  140  179  167  ...  189  152  158   \n",
       "4     167  157  151  157  179  128  140  179  167  151  ...  152  158  167   \n",
       "...   ...  ...  ...  ...  ...  ...  ...  ...  ...  ...  ...  ...  ...  ...   \n",
       "5481  158  152  136  190  158  152  136   76  150  116  ...   97  157  128   \n",
       "5482  152  136  190  158  152  136   76  150  116   84  ...  157  128  135   \n",
       "5483  136  190  158  152  136   76  150  116   84  167  ...  128  135  188   \n",
       "5484  190  158  152  136   76  150  116   84  167  157  ...  135  188  128   \n",
       "5485  158  152  136   76  150  116   84  167  157  150  ...  188  128  135   \n",
       "\n",
       "       33   34   35   36   37   38   39  \n",
       "0     189  152  158  167  189  158  152  \n",
       "1     152  158  167  189  158  152  167  \n",
       "2     158  167  189  158  152  167  189  \n",
       "3     167  189  158  152  167  189  152  \n",
       "4     189  158  152  167  189  152  141  \n",
       "...   ...  ...  ...  ...  ...  ...  ...  \n",
       "5481  135  188  128  135  151  157  179  \n",
       "5482  188  128  135  151  157  179  188  \n",
       "5483  128  135  151  157  179  188  178  \n",
       "5484  135  151  157  179  188  178   85  \n",
       "5485  151  157  179  188  178   85   85  \n",
       "\n",
       "[5486 rows x 40 columns]"
      ]
     },
     "execution_count": 28,
     "metadata": {},
     "output_type": "execute_result"
    }
   ],
   "source": [
    "pd.DataFrame(features)"
   ]
  },
  {
   "cell_type": "code",
   "execution_count": 29,
   "metadata": {},
   "outputs": [
    {
     "data": {
      "text/html": [
       "<div>\n",
       "<style scoped>\n",
       "    .dataframe tbody tr th:only-of-type {\n",
       "        vertical-align: middle;\n",
       "    }\n",
       "\n",
       "    .dataframe tbody tr th {\n",
       "        vertical-align: top;\n",
       "    }\n",
       "\n",
       "    .dataframe thead th {\n",
       "        text-align: right;\n",
       "    }\n",
       "</style>\n",
       "<table border=\"1\" class=\"dataframe\">\n",
       "  <thead>\n",
       "    <tr style=\"text-align: right;\">\n",
       "      <th></th>\n",
       "      <th>0</th>\n",
       "    </tr>\n",
       "  </thead>\n",
       "  <tbody>\n",
       "    <tr>\n",
       "      <th>0</th>\n",
       "      <td>167</td>\n",
       "    </tr>\n",
       "    <tr>\n",
       "      <th>1</th>\n",
       "      <td>189</td>\n",
       "    </tr>\n",
       "    <tr>\n",
       "      <th>2</th>\n",
       "      <td>152</td>\n",
       "    </tr>\n",
       "    <tr>\n",
       "      <th>3</th>\n",
       "      <td>141</td>\n",
       "    </tr>\n",
       "    <tr>\n",
       "      <th>4</th>\n",
       "      <td>167</td>\n",
       "    </tr>\n",
       "    <tr>\n",
       "      <th>...</th>\n",
       "      <td>...</td>\n",
       "    </tr>\n",
       "    <tr>\n",
       "      <th>5481</th>\n",
       "      <td>188</td>\n",
       "    </tr>\n",
       "    <tr>\n",
       "      <th>5482</th>\n",
       "      <td>178</td>\n",
       "    </tr>\n",
       "    <tr>\n",
       "      <th>5483</th>\n",
       "      <td>85</td>\n",
       "    </tr>\n",
       "    <tr>\n",
       "      <th>5484</th>\n",
       "      <td>85</td>\n",
       "    </tr>\n",
       "    <tr>\n",
       "      <th>5485</th>\n",
       "      <td>9</td>\n",
       "    </tr>\n",
       "  </tbody>\n",
       "</table>\n",
       "<p>5486 rows × 1 columns</p>\n",
       "</div>"
      ],
      "text/plain": [
       "        0\n",
       "0     167\n",
       "1     189\n",
       "2     152\n",
       "3     141\n",
       "4     167\n",
       "...   ...\n",
       "5481  188\n",
       "5482  178\n",
       "5483   85\n",
       "5484   85\n",
       "5485    9\n",
       "\n",
       "[5486 rows x 1 columns]"
      ]
     },
     "execution_count": 29,
     "metadata": {},
     "output_type": "execute_result"
    }
   ],
   "source": [
    "pd.DataFrame(targets)"
   ]
  },
  {
   "cell_type": "code",
   "execution_count": 31,
   "metadata": {},
   "outputs": [],
   "source": [
    "# reshape X and normalize\n",
    "X = (np.reshape(features, (L_datapoints, length, 1)))/ float(L_symb)\n",
    "# one hot encode the output variable\n",
    "y = tensorflow.keras.utils.to_categorical(targets) "
   ]
  },
  {
   "cell_type": "code",
   "execution_count": null,
   "metadata": {},
   "outputs": [],
   "source": [
    "y"
   ]
  },
  {
   "cell_type": "code",
   "execution_count": null,
   "metadata": {},
   "outputs": [],
   "source": [
    "#Taking out a subset of data to be used as seed\n",
    "X_train, X_seed, y_train, y_seed = train_test_split(X, y, test_size=0.1, random_state=42)"
   ]
  },
  {
   "cell_type": "code",
   "execution_count": null,
   "metadata": {},
   "outputs": [],
   "source": [
    "len(X), len(X_train), len(X_seed)"
   ]
  },
  {
   "cell_type": "code",
   "execution_count": null,
   "metadata": {},
   "outputs": [],
   "source": [
    "X.shape, X_train.shape, X_seed.shape"
   ]
  },
  {
   "cell_type": "markdown",
   "metadata": {},
   "source": [
    "## Model Building"
   ]
  },
  {
   "cell_type": "code",
   "execution_count": null,
   "metadata": {},
   "outputs": [],
   "source": [
    "#Initialising the Model\n",
    "model = tensorflow.keras.Sequential()\n",
    "#Adding layers\n",
    "model.add(LSTM(512, input_shape=(X.shape[1], X.shape[2]), return_sequences=True))\n",
    "model.add(Dropout(0.1))\n",
    "model.add(LSTM(256))\n",
    "model.add(Dense(256))\n",
    "model.add(Dropout(0.1))\n",
    "model.add(Dense(y.shape[1], activation='softmax'))\n",
    "#Compiling the model for training  \n",
    "opt = Adamax(learning_rate=0.01)\n",
    "model.compile(loss='categorical_crossentropy', optimizer=opt, metrics=['accuracy'])"
   ]
  },
  {
   "cell_type": "code",
   "execution_count": null,
   "metadata": {},
   "outputs": [],
   "source": [
    "#Model's Summary               \n",
    "model.summary()"
   ]
  },
  {
   "cell_type": "code",
   "execution_count": null,
   "metadata": {},
   "outputs": [],
   "source": [
    "# Load checkpoint weights and re-evaluate\n",
    "#model.load_weights(\"modelo/modeloV1.h5\")"
   ]
  },
  {
   "cell_type": "code",
   "execution_count": null,
   "metadata": {},
   "outputs": [],
   "source": [
    "checkpoint = ModelCheckpoint(\n",
    "    'modelV1.h5', \n",
    "    monitor = 'val_loss', \n",
    "    verbose = 1, \n",
    "    save_best_only = True\n",
    ")\n",
    "\n",
    "#Training the Model\n",
    "history = model.fit(X_train, y_train, batch_size=256, epochs=200, callbacks = [checkpoint])"
   ]
  },
  {
   "cell_type": "markdown",
   "metadata": {},
   "source": [
    "## Evaluating Model"
   ]
  },
  {
   "cell_type": "code",
   "execution_count": null,
   "metadata": {},
   "outputs": [],
   "source": [
    "#Plotting the learnings \n",
    "history_df = pd.DataFrame(history.history)\n",
    "fig = plt.figure(figsize=(15,4), facecolor=\"#97BACB\")\n",
    "fig.suptitle(\"Learning Plot of Model for Loss\")\n",
    "pl=sns.lineplot(data=history_df[\"loss\"],color=\"#444160\")\n",
    "pl.set(ylabel =\"Training Loss\")\n",
    "pl.set(xlabel =\"Epochs\")"
   ]
  },
  {
   "cell_type": "code",
   "execution_count": null,
   "metadata": {},
   "outputs": [],
   "source": [
    "def Melody_Generator(Note_Count):\n",
    "    seed = X_seed[np.random.randint(0,len(X_seed)-1)]\n",
    "    Music = \"\"\n",
    "    Notes_Generated=[]\n",
    "    for i in range(Note_Count):\n",
    "        seed = seed.reshape(1,length,1)\n",
    "        prediction = model.predict(seed, verbose=0)[0]\n",
    "        prediction = np.log(prediction) / 1.0 #diversity\n",
    "        exp_preds = np.exp(prediction)\n",
    "        prediction = exp_preds / np.sum(exp_preds)\n",
    "        index = np.argmax(prediction)\n",
    "        index_N = index/ float(L_symb)   \n",
    "        Notes_Generated.append(index)\n",
    "        Music = [reverse_mapping[char] for char in Notes_Generated]\n",
    "        seed = np.insert(seed[0],len(seed[0]),index_N)\n",
    "        seed = seed[1:]\n",
    "    #Now, we have music in form or a list of chords and notes and we want to be a midi file.\n",
    "    Melody = chords_n_notes(Music)\n",
    "    Melody_midi = ms.stream.Stream(Melody)   \n",
    "    return Music,Melody_midi\n",
    "\n",
    "\n",
    "\n",
    "#show(Melody)"
   ]
  },
  {
   "cell_type": "code",
   "execution_count": null,
   "metadata": {},
   "outputs": [],
   "source": [
    "#getting the Notes and Melody created by the model\n",
    "Music_notes, Melody = Melody_Generator(150)\n",
    "Melody.show('midi')\n",
    "Melody.show()"
   ]
  },
  {
   "cell_type": "code",
   "execution_count": null,
   "metadata": {},
   "outputs": [],
   "source": [
    "seed = X_seed[np.random.randint(0,len(X_seed)-1)]"
   ]
  },
  {
   "cell_type": "code",
   "execution_count": null,
   "metadata": {},
   "outputs": [],
   "source": [
    "timestr = time.strftime(\"%Y%m%d-%H%M%S\")\n",
    "nameFile = 'output-' + timestr + '.mid'\n",
    "outputFolder = 'output/'\n",
    "Melody.write('midi', fp=os.path.join(outputFolder, nameFile))"
   ]
  },
  {
   "cell_type": "code",
   "execution_count": null,
   "metadata": {},
   "outputs": [],
   "source": [
    "nameFile"
   ]
  },
  {
   "cell_type": "code",
   "execution_count": null,
   "metadata": {},
   "outputs": [],
   "source": [
    "fs = FluidSynth(sound_font='FluidR3_GM.sf2')\n",
    "file = 'output/' + nameFile\n",
    "#'output-20220521-170412'\n",
    "fs.midi_to_audio(file, 'output.wav')\n",
    "IPython.display.Audio('output.wav') "
   ]
  },
  {
   "cell_type": "code",
   "execution_count": null,
   "metadata": {},
   "outputs": [],
   "source": []
  }
 ],
 "metadata": {
  "interpreter": {
   "hash": "ad2bdc8ecc057115af97d19610ffacc2b4e99fae6737bb82f5d7fb13d2f2c186"
  },
  "kernelspec": {
   "display_name": "Python 3 (ipykernel)",
   "language": "python",
   "name": "python3"
  },
  "language_info": {
   "codemirror_mode": {
    "name": "ipython",
    "version": 3
   },
   "file_extension": ".py",
   "mimetype": "text/x-python",
   "name": "python",
   "nbconvert_exporter": "python",
   "pygments_lexer": "ipython3",
   "version": "3.9.7"
  }
 },
 "nbformat": 4,
 "nbformat_minor": 4
}

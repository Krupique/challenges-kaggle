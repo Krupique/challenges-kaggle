{
 "cells": [
  {
   "cell_type": "markdown",
   "metadata": {},
   "source": [
    "# <font color='blue'>Data Science Academy</font>\n",
    "# <font color='blue'>Deploy de Modelos de Machine Learning</font>\n",
    "\n",
    "# <font color='blue'>Amazon SageMaker</font>\n",
    "## <font color='blue'>Lab</font>\n",
    "### <font color='blue'>Deploy de Modelo Para Previsão de Doenças Usando Regsitros Médicos Eletrônicos</font>"
   ]
  },
  {
   "cell_type": "markdown",
   "metadata": {},
   "source": [
    "## Parte 6 - Parallel Hyper Parameter Optimization (HPO) com SageMaker Tuning\n",
    "\n",
    "O treinamento de um modelo de Machine Learning é governando por hiperprâmetros do algoritmo escolhido. Não temos como saber previamente quais são os valores ideais para os hiperparâmetros pois cada modelo pode requerer um conjunto diferente.\n",
    "\n",
    "Visando aumemntar a performance de um modelo podemos realizar a otimização de hiperparâmetros a fim de buscar a combinação ideal para conseguir a melhor performance possível.\n",
    "\n",
    "Neste jupyter notebook você encontra um exemplo completo de como realizar a otimização de hiperparâmetros com o SageMaker Tuning."
   ]
  },
  {
   "cell_type": "code",
   "execution_count": 1,
   "metadata": {},
   "outputs": [
    {
     "name": "stdout",
     "output_type": "stream",
     "text": [
      "Versão da Linguagem Python Usada Neste Jupyter Notebook: 3.7.10\n"
     ]
    }
   ],
   "source": [
    "# Versão da Linguagem Python\n",
    "from platform import python_version\n",
    "print('Versão da Linguagem Python Usada Neste Jupyter Notebook:', python_version())"
   ]
  },
  {
   "cell_type": "markdown",
   "metadata": {},
   "source": [
    "### Imports "
   ]
  },
  {
   "cell_type": "code",
   "execution_count": 2,
   "metadata": {},
   "outputs": [],
   "source": [
    "# ML Imports \n",
    "import os\n",
    "import json\n",
    "import numpy as np\n",
    "import pandas as pd\n",
    "from sklearn.preprocessing import LabelEncoder, MinMaxScaler\n",
    "from sklearn.model_selection import train_test_split\n",
    "\n",
    "# AWS Imports \n",
    "import boto3\n",
    "import sagemaker\n",
    "from sagemaker.tuner import IntegerParameter, CategoricalParameter, ContinuousParameter, HyperparameterTuner\n",
    "from sagemaker.serializers import CSVSerializer\n",
    "from sagemaker.inputs import TrainingInput\n",
    "from sagemaker import get_execution_role"
   ]
  },
  {
   "cell_type": "markdown",
   "metadata": {},
   "source": [
    "## Carrega os Dados e Define Parâmetros"
   ]
  },
  {
   "cell_type": "code",
   "execution_count": 3,
   "metadata": {},
   "outputs": [
    {
     "name": "stderr",
     "output_type": "stream",
     "text": [
      "Couldn't call 'get_role' to get Role ARN from role name AmazonSageMaker-ExecutionRole-20210330T151228 to get Role path.\n",
      "Assuming role was created in SageMaker AWS console, as the name contains `AmazonSageMaker-ExecutionRole`. Defaulting to Role ARN with service-role in path. If this Role ARN is incorrect, please add IAM read permissions to your role or supply the Role Arn directly.\n"
     ]
    },
    {
     "name": "stdout",
     "output_type": "stream",
     "text": [
      "Role = arn:aws:iam::879456481532:role/service-role/AmazonSageMaker-ExecutionRole-20210330T151228\n"
     ]
    }
   ],
   "source": [
    "# Parâmetros\n",
    "sagemaker_execution_role = get_execution_role()\n",
    "print('Role = {}'.format(sagemaker_execution_role))\n",
    "session = boto3.Session()\n",
    "\n",
    "# Clients e Resources\n",
    "s3 = session.resource('s3')\n",
    "sagemaker_session = sagemaker.Session()\n",
    "sagemaker_client = boto3.client('sagemaker')\n",
    "\n",
    "BUCKET = sagemaker_session.default_bucket()\n",
    "PREFIX = 'xgboost-clf'"
   ]
  },
  {
   "cell_type": "code",
   "execution_count": 4,
   "metadata": {},
   "outputs": [],
   "source": [
    "# Altere para o nome do seu bucket\n",
    "s3_bucket = 'dsa-deploy-app'\n",
    "prefix = 'dados'"
   ]
  },
  {
   "cell_type": "code",
   "execution_count": 5,
   "metadata": {},
   "outputs": [
    {
     "name": "stdout",
     "output_type": "stream",
     "text": [
      "s3://dsa-deploy-app/dados/\n"
     ]
    }
   ],
   "source": [
    "raiz = 's3://{}/{}/'.format(s3_bucket, prefix)\n",
    "print(raiz)"
   ]
  },
  {
   "cell_type": "code",
   "execution_count": 6,
   "metadata": {},
   "outputs": [],
   "source": [
    "dados_treino = TrainingInput(s3_data = raiz + 'treino.csv', content_type = 'csv')\n",
    "dados_teste = TrainingInput(s3_data = raiz + 'teste.csv', content_type = 'csv')"
   ]
  },
  {
   "cell_type": "code",
   "execution_count": 7,
   "metadata": {},
   "outputs": [
    {
     "name": "stdout",
     "output_type": "stream",
     "text": [
      "{\n",
      "  \"config\": {\n",
      "    \"DataSource\": {\n",
      "      \"S3DataSource\": {\n",
      "        \"S3DataType\": \"S3Prefix\",\n",
      "        \"S3Uri\": \"s3://dsa-deploy-app/dados/treino.csv\",\n",
      "        \"S3DataDistributionType\": \"FullyReplicated\"\n",
      "      }\n",
      "    },\n",
      "    \"ContentType\": \"csv\"\n",
      "  }\n",
      "}\n"
     ]
    }
   ],
   "source": [
    "print(json.dumps(dados_treino.__dict__, indent = 2))"
   ]
  },
  {
   "cell_type": "markdown",
   "metadata": {},
   "source": [
    "## Treinando o Modelo com SageMaker e Algoritmo XgBoost "
   ]
  },
  {
   "cell_type": "code",
   "execution_count": 8,
   "metadata": {},
   "outputs": [],
   "source": [
    "# Image URI\n",
    "container_uri = sagemaker.image_uris.retrieve(region = session.region_name, \n",
    "                                              framework = 'xgboost', \n",
    "                                              version = '1.0-1', \n",
    "                                              image_scope = 'training')"
   ]
  },
  {
   "cell_type": "code",
   "execution_count": 9,
   "metadata": {},
   "outputs": [],
   "source": [
    "# Estimador\n",
    "xgb = sagemaker.estimator.Estimator(image_uri = container_uri,\n",
    "                                    role = sagemaker_execution_role, \n",
    "                                    instance_count = 1, \n",
    "                                    instance_type = 'ml.m5.large',\n",
    "                                    output_path='s3://{}/artefatos'.format(s3_bucket, prefix),\n",
    "                                    sagemaker_session = sagemaker_session,\n",
    "                                    base_job_name = 'clf-xgboost')"
   ]
  },
  {
   "cell_type": "code",
   "execution_count": 10,
   "metadata": {},
   "outputs": [],
   "source": [
    "# Define os hiperparâmetros básicos\n",
    "xgb.set_hyperparameters(objective='binary:logistic', num_round = 100)"
   ]
  },
  {
   "cell_type": "code",
   "execution_count": 11,
   "metadata": {},
   "outputs": [],
   "source": [
    "# Dicionário com hiperparâmetros que serão usados na otimização\n",
    "hyperparameter_ranges = {'eta': ContinuousParameter(0, 1),\n",
    "                         'min_child_weight': ContinuousParameter(1, 10),\n",
    "                         'alpha': ContinuousParameter(0, 2),\n",
    "                         'max_depth': IntegerParameter(1, 10)}"
   ]
  },
  {
   "cell_type": "code",
   "execution_count": 12,
   "metadata": {},
   "outputs": [],
   "source": [
    "# Métrica\n",
    "objective_metric_name = 'validation:accuracy'"
   ]
  },
  {
   "cell_type": "code",
   "execution_count": 13,
   "metadata": {},
   "outputs": [],
   "source": [
    "# Cria o objeto para otimização de hiiperparâmetros\n",
    "tuner = HyperparameterTuner(xgb, objective_metric_name, hyperparameter_ranges, max_jobs = 10, max_parallel_jobs = 5)"
   ]
  },
  {
   "cell_type": "code",
   "execution_count": 14,
   "metadata": {},
   "outputs": [
    {
     "name": "stdout",
     "output_type": "stream",
     "text": [
      "................................................................................................!\n"
     ]
    }
   ],
   "source": [
    "# Treinamento\n",
    "tuner.fit({'train': dados_treino, 'validation': dados_teste}, include_cls_metadata = False)"
   ]
  },
  {
   "cell_type": "code",
   "execution_count": 15,
   "metadata": {},
   "outputs": [
    {
     "data": {
      "text/plain": [
       "'sagemaker-xgboost-210402-1950'"
      ]
     },
     "execution_count": 15,
     "metadata": {},
     "output_type": "execute_result"
    }
   ],
   "source": [
    "# Nome do job\n",
    "hpo_job_name = tuner.latest_tuning_job.job_name\n",
    "hpo_job_name"
   ]
  },
  {
   "cell_type": "code",
   "execution_count": 16,
   "metadata": {},
   "outputs": [
    {
     "data": {
      "text/plain": [
       "'Completed'"
      ]
     },
     "execution_count": 16,
     "metadata": {},
     "output_type": "execute_result"
    }
   ],
   "source": [
    "# Resultados da otimização\n",
    "tuning_job_results = sagemaker_client.describe_hyper_parameter_tuning_job(HyperParameterTuningJobName = hpo_job_name)\n",
    "status = tuning_job_results['HyperParameterTuningJobStatus']\n",
    "status"
   ]
  },
  {
   "cell_type": "code",
   "execution_count": 17,
   "metadata": {},
   "outputs": [
    {
     "data": {
      "text/plain": [
       "{'TrainingJobName': 'sagemaker-xgboost-210402-1950-008-4c50c2df',\n",
       " 'TrainingJobArn': 'arn:aws:sagemaker:us-east-2:879456481532:training-job/sagemaker-xgboost-210402-1950-008-4c50c2df',\n",
       " 'CreationTime': datetime.datetime(2021, 4, 2, 19, 54, 54, tzinfo=tzlocal()),\n",
       " 'TrainingStartTime': datetime.datetime(2021, 4, 2, 19, 57, 19, tzinfo=tzlocal()),\n",
       " 'TrainingEndTime': datetime.datetime(2021, 4, 2, 19, 58, 32, tzinfo=tzlocal()),\n",
       " 'TrainingJobStatus': 'Completed',\n",
       " 'TunedHyperParameters': {'alpha': '1.8647070752210735',\n",
       "  'eta': '0.6177407010490166',\n",
       "  'max_depth': '2',\n",
       "  'min_child_weight': '8.540440581373812'},\n",
       " 'FinalHyperParameterTuningJobObjectiveMetric': {'MetricName': 'validation:accuracy',\n",
       "  'Value': 0.7961400151252747},\n",
       " 'ObjectiveStatus': 'Succeeded'}"
      ]
     },
     "execution_count": 17,
     "metadata": {},
     "output_type": "execute_result"
    }
   ],
   "source": [
    "# Melhor resultado da otimização\n",
    "best_training_job = tuning_job_results['BestTrainingJob']\n",
    "best_training_job"
   ]
  },
  {
   "cell_type": "markdown",
   "metadata": {},
   "source": [
    "## Avaliação\n",
    "\n",
    "Podemos listar hiperparâmetros e métricas objetivas de todos os jobs de treinamento e escolher o job de treinamento com a melhor métrica objetiva."
   ]
  },
  {
   "cell_type": "code",
   "execution_count": 18,
   "metadata": {},
   "outputs": [],
   "source": [
    "tuner = sagemaker.HyperparameterTuningJobAnalytics(hpo_job_name)\n",
    "hpo_results_df = tuner.dataframe()"
   ]
  },
  {
   "cell_type": "code",
   "execution_count": 19,
   "metadata": {},
   "outputs": [
    {
     "data": {
      "text/html": [
       "<div>\n",
       "<style scoped>\n",
       "    .dataframe tbody tr th:only-of-type {\n",
       "        vertical-align: middle;\n",
       "    }\n",
       "\n",
       "    .dataframe tbody tr th {\n",
       "        vertical-align: top;\n",
       "    }\n",
       "\n",
       "    .dataframe thead th {\n",
       "        text-align: right;\n",
       "    }\n",
       "</style>\n",
       "<table border=\"1\" class=\"dataframe\">\n",
       "  <thead>\n",
       "    <tr style=\"text-align: right;\">\n",
       "      <th></th>\n",
       "      <th>alpha</th>\n",
       "      <th>eta</th>\n",
       "      <th>max_depth</th>\n",
       "      <th>min_child_weight</th>\n",
       "      <th>TrainingJobName</th>\n",
       "      <th>TrainingJobStatus</th>\n",
       "      <th>FinalObjectiveValue</th>\n",
       "      <th>TrainingStartTime</th>\n",
       "      <th>TrainingEndTime</th>\n",
       "      <th>TrainingElapsedTimeSeconds</th>\n",
       "    </tr>\n",
       "  </thead>\n",
       "  <tbody>\n",
       "    <tr>\n",
       "      <th>0</th>\n",
       "      <td>1.852622</td>\n",
       "      <td>0.595463</td>\n",
       "      <td>3.0</td>\n",
       "      <td>9.340844</td>\n",
       "      <td>sagemaker-xgboost-210402-1950-010-aa78fc81</td>\n",
       "      <td>Completed</td>\n",
       "      <td>0.79332</td>\n",
       "      <td>2021-04-02 19:56:59+00:00</td>\n",
       "      <td>2021-04-02 19:58:18+00:00</td>\n",
       "      <td>79.0</td>\n",
       "    </tr>\n",
       "    <tr>\n",
       "      <th>1</th>\n",
       "      <td>1.813682</td>\n",
       "      <td>0.344181</td>\n",
       "      <td>1.0</td>\n",
       "      <td>4.495148</td>\n",
       "      <td>sagemaker-xgboost-210402-1950-009-992d9c92</td>\n",
       "      <td>Completed</td>\n",
       "      <td>0.79614</td>\n",
       "      <td>2021-04-02 19:57:11+00:00</td>\n",
       "      <td>2021-04-02 19:58:32+00:00</td>\n",
       "      <td>81.0</td>\n",
       "    </tr>\n",
       "    <tr>\n",
       "      <th>2</th>\n",
       "      <td>1.864707</td>\n",
       "      <td>0.617741</td>\n",
       "      <td>2.0</td>\n",
       "      <td>8.540441</td>\n",
       "      <td>sagemaker-xgboost-210402-1950-008-4c50c2df</td>\n",
       "      <td>Completed</td>\n",
       "      <td>0.79614</td>\n",
       "      <td>2021-04-02 19:57:19+00:00</td>\n",
       "      <td>2021-04-02 19:58:32+00:00</td>\n",
       "      <td>73.0</td>\n",
       "    </tr>\n",
       "    <tr>\n",
       "      <th>3</th>\n",
       "      <td>0.211060</td>\n",
       "      <td>0.568119</td>\n",
       "      <td>2.0</td>\n",
       "      <td>8.852875</td>\n",
       "      <td>sagemaker-xgboost-210402-1950-007-619d3a67</td>\n",
       "      <td>Completed</td>\n",
       "      <td>0.79574</td>\n",
       "      <td>2021-04-02 19:56:55+00:00</td>\n",
       "      <td>2021-04-02 19:58:14+00:00</td>\n",
       "      <td>79.0</td>\n",
       "    </tr>\n",
       "    <tr>\n",
       "      <th>4</th>\n",
       "      <td>1.931602</td>\n",
       "      <td>0.615543</td>\n",
       "      <td>2.0</td>\n",
       "      <td>5.755280</td>\n",
       "      <td>sagemaker-xgboost-210402-1950-006-aa796bd2</td>\n",
       "      <td>Completed</td>\n",
       "      <td>0.79574</td>\n",
       "      <td>2021-04-02 19:56:49+00:00</td>\n",
       "      <td>2021-04-02 19:58:11+00:00</td>\n",
       "      <td>82.0</td>\n",
       "    </tr>\n",
       "    <tr>\n",
       "      <th>5</th>\n",
       "      <td>1.505116</td>\n",
       "      <td>0.595216</td>\n",
       "      <td>2.0</td>\n",
       "      <td>4.233900</td>\n",
       "      <td>sagemaker-xgboost-210402-1950-005-6663b100</td>\n",
       "      <td>Completed</td>\n",
       "      <td>0.79534</td>\n",
       "      <td>2021-04-02 19:53:20+00:00</td>\n",
       "      <td>2021-04-02 19:54:39+00:00</td>\n",
       "      <td>79.0</td>\n",
       "    </tr>\n",
       "    <tr>\n",
       "      <th>6</th>\n",
       "      <td>1.166638</td>\n",
       "      <td>0.490399</td>\n",
       "      <td>10.0</td>\n",
       "      <td>1.127587</td>\n",
       "      <td>sagemaker-xgboost-210402-1950-004-c3f169e9</td>\n",
       "      <td>Completed</td>\n",
       "      <td>0.76076</td>\n",
       "      <td>2021-04-02 19:53:01+00:00</td>\n",
       "      <td>2021-04-02 19:54:20+00:00</td>\n",
       "      <td>79.0</td>\n",
       "    </tr>\n",
       "    <tr>\n",
       "      <th>7</th>\n",
       "      <td>1.548065</td>\n",
       "      <td>0.814118</td>\n",
       "      <td>2.0</td>\n",
       "      <td>8.613298</td>\n",
       "      <td>sagemaker-xgboost-210402-1950-003-6911455e</td>\n",
       "      <td>Completed</td>\n",
       "      <td>0.79614</td>\n",
       "      <td>2021-04-02 19:53:00+00:00</td>\n",
       "      <td>2021-04-02 19:54:19+00:00</td>\n",
       "      <td>79.0</td>\n",
       "    </tr>\n",
       "    <tr>\n",
       "      <th>8</th>\n",
       "      <td>0.686665</td>\n",
       "      <td>0.781193</td>\n",
       "      <td>9.0</td>\n",
       "      <td>2.576308</td>\n",
       "      <td>sagemaker-xgboost-210402-1950-002-ac2c1162</td>\n",
       "      <td>Completed</td>\n",
       "      <td>0.74347</td>\n",
       "      <td>2021-04-02 19:52:53+00:00</td>\n",
       "      <td>2021-04-02 19:54:10+00:00</td>\n",
       "      <td>77.0</td>\n",
       "    </tr>\n",
       "    <tr>\n",
       "      <th>9</th>\n",
       "      <td>0.559307</td>\n",
       "      <td>0.736994</td>\n",
       "      <td>9.0</td>\n",
       "      <td>4.475460</td>\n",
       "      <td>sagemaker-xgboost-210402-1950-001-10c37320</td>\n",
       "      <td>Completed</td>\n",
       "      <td>0.75231</td>\n",
       "      <td>2021-04-02 19:52:47+00:00</td>\n",
       "      <td>2021-04-02 19:54:10+00:00</td>\n",
       "      <td>83.0</td>\n",
       "    </tr>\n",
       "  </tbody>\n",
       "</table>\n",
       "</div>"
      ],
      "text/plain": [
       "      alpha       eta  max_depth  min_child_weight  \\\n",
       "0  1.852622  0.595463        3.0          9.340844   \n",
       "1  1.813682  0.344181        1.0          4.495148   \n",
       "2  1.864707  0.617741        2.0          8.540441   \n",
       "3  0.211060  0.568119        2.0          8.852875   \n",
       "4  1.931602  0.615543        2.0          5.755280   \n",
       "5  1.505116  0.595216        2.0          4.233900   \n",
       "6  1.166638  0.490399       10.0          1.127587   \n",
       "7  1.548065  0.814118        2.0          8.613298   \n",
       "8  0.686665  0.781193        9.0          2.576308   \n",
       "9  0.559307  0.736994        9.0          4.475460   \n",
       "\n",
       "                              TrainingJobName TrainingJobStatus  \\\n",
       "0  sagemaker-xgboost-210402-1950-010-aa78fc81         Completed   \n",
       "1  sagemaker-xgboost-210402-1950-009-992d9c92         Completed   \n",
       "2  sagemaker-xgboost-210402-1950-008-4c50c2df         Completed   \n",
       "3  sagemaker-xgboost-210402-1950-007-619d3a67         Completed   \n",
       "4  sagemaker-xgboost-210402-1950-006-aa796bd2         Completed   \n",
       "5  sagemaker-xgboost-210402-1950-005-6663b100         Completed   \n",
       "6  sagemaker-xgboost-210402-1950-004-c3f169e9         Completed   \n",
       "7  sagemaker-xgboost-210402-1950-003-6911455e         Completed   \n",
       "8  sagemaker-xgboost-210402-1950-002-ac2c1162         Completed   \n",
       "9  sagemaker-xgboost-210402-1950-001-10c37320         Completed   \n",
       "\n",
       "   FinalObjectiveValue         TrainingStartTime           TrainingEndTime  \\\n",
       "0              0.79332 2021-04-02 19:56:59+00:00 2021-04-02 19:58:18+00:00   \n",
       "1              0.79614 2021-04-02 19:57:11+00:00 2021-04-02 19:58:32+00:00   \n",
       "2              0.79614 2021-04-02 19:57:19+00:00 2021-04-02 19:58:32+00:00   \n",
       "3              0.79574 2021-04-02 19:56:55+00:00 2021-04-02 19:58:14+00:00   \n",
       "4              0.79574 2021-04-02 19:56:49+00:00 2021-04-02 19:58:11+00:00   \n",
       "5              0.79534 2021-04-02 19:53:20+00:00 2021-04-02 19:54:39+00:00   \n",
       "6              0.76076 2021-04-02 19:53:01+00:00 2021-04-02 19:54:20+00:00   \n",
       "7              0.79614 2021-04-02 19:53:00+00:00 2021-04-02 19:54:19+00:00   \n",
       "8              0.74347 2021-04-02 19:52:53+00:00 2021-04-02 19:54:10+00:00   \n",
       "9              0.75231 2021-04-02 19:52:47+00:00 2021-04-02 19:54:10+00:00   \n",
       "\n",
       "   TrainingElapsedTimeSeconds  \n",
       "0                        79.0  \n",
       "1                        81.0  \n",
       "2                        73.0  \n",
       "3                        79.0  \n",
       "4                        82.0  \n",
       "5                        79.0  \n",
       "6                        79.0  \n",
       "7                        79.0  \n",
       "8                        77.0  \n",
       "9                        83.0  "
      ]
     },
     "execution_count": 19,
     "metadata": {},
     "output_type": "execute_result"
    }
   ],
   "source": [
    "hpo_results_df"
   ]
  },
  {
   "cell_type": "markdown",
   "metadata": {},
   "source": [
    "# Fim"
   ]
  }
 ],
 "metadata": {
  "instance_type": "ml.t3.medium",
  "kernelspec": {
   "display_name": "Python 3 (Data Science)",
   "language": "python",
   "name": "python3__SAGEMAKER_INTERNAL__arn:aws:sagemaker:us-east-2:429704687514:image/datascience-1.0"
  },
  "language_info": {
   "codemirror_mode": {
    "name": "ipython",
    "version": 3
   },
   "file_extension": ".py",
   "mimetype": "text/x-python",
   "name": "python",
   "nbconvert_exporter": "python",
   "pygments_lexer": "ipython3",
   "version": "3.7.10"
  }
 },
 "nbformat": 4,
 "nbformat_minor": 4
}

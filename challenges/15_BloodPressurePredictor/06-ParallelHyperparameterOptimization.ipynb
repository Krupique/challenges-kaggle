{
 "cells": [
  {
   "cell_type": "markdown",
   "metadata": {},
   "source": [
    "# Modelo Para Previsão de Doenças Usando Registros Médicos Eletrônicos - Parte 6"
   ]
  },
  {
   "cell_type": "markdown",
   "metadata": {},
   "source": [
    "## Parte 6 - Parallel Hyper Parameter Optimization (HPO) com SageMaker Tuning\n",
    "\n",
    "O treinamento de um modelo de Machine Learning é governando por hiperprâmetros do algoritmo escolhido. Não temos como saber previamente quais são os valores ideais para os hiperparâmetros pois cada modelo pode requerer um conjunto diferente.\n",
    "\n",
    "Visando aumemntar a performance de um modelo podemos realizar a otimização de hiperparâmetros a fim de buscar a combinação ideal para conseguir a melhor performance possível.\n",
    "\n",
    "Neste jupyter notebook você encontra um exemplo completo de como realizar a otimização de hiperparâmetros com o SageMaker Tuning."
   ]
  },
  {
   "cell_type": "markdown",
   "metadata": {},
   "source": [
    "### Imports "
   ]
  },
  {
   "cell_type": "code",
   "execution_count": 1,
   "metadata": {},
   "outputs": [],
   "source": [
    "# ML Imports \n",
    "import os\n",
    "import json\n",
    "import numpy as np\n",
    "import pandas as pd\n",
    "from sklearn.preprocessing import LabelEncoder, MinMaxScaler\n",
    "from sklearn.model_selection import train_test_split\n",
    "\n",
    "# AWS Imports \n",
    "import boto3\n",
    "import sagemaker\n",
    "from sagemaker.tuner import IntegerParameter, CategoricalParameter, ContinuousParameter, HyperparameterTuner\n",
    "from sagemaker.serializers import CSVSerializer\n",
    "from sagemaker.inputs import TrainingInput\n",
    "from sagemaker import get_execution_role"
   ]
  },
  {
   "cell_type": "markdown",
   "metadata": {},
   "source": [
    "## Carrega os Dados e Define Parâmetros"
   ]
  },
  {
   "cell_type": "code",
   "execution_count": 2,
   "metadata": {},
   "outputs": [
    {
     "name": "stdout",
     "output_type": "stream",
     "text": [
      "Role = arn:aws:iam::351371806175:role/service-role/AmazonSageMaker-ExecutionRole-20220722T092670\n"
     ]
    }
   ],
   "source": [
    "# Parâmetros\n",
    "sagemaker_execution_role = get_execution_role()\n",
    "print('Role = {}'.format(sagemaker_execution_role))\n",
    "session = boto3.Session()\n",
    "\n",
    "# Clients e Resources\n",
    "s3 = session.resource('s3')\n",
    "sagemaker_session = sagemaker.Session()\n",
    "sagemaker_client = boto3.client('sagemaker')\n",
    "\n",
    "BUCKET = sagemaker_session.default_bucket()\n",
    "PREFIX = 'xgboost-clf'"
   ]
  },
  {
   "cell_type": "code",
   "execution_count": 3,
   "metadata": {},
   "outputs": [],
   "source": [
    "# Altere para o nome do seu bucket\n",
    "s3_bucket = 'krupck-bucket-bloodpressure'\n",
    "prefix = 'dados'"
   ]
  },
  {
   "cell_type": "code",
   "execution_count": 4,
   "metadata": {},
   "outputs": [
    {
     "name": "stdout",
     "output_type": "stream",
     "text": [
      "s3://krupck-bucket-bloodpressure/dados/\n"
     ]
    }
   ],
   "source": [
    "raiz = 's3://{}/{}/'.format(s3_bucket, prefix)\n",
    "print(raiz)"
   ]
  },
  {
   "cell_type": "code",
   "execution_count": 5,
   "metadata": {},
   "outputs": [],
   "source": [
    "dados_treino = TrainingInput(s3_data = raiz + 'treino.csv', content_type = 'csv')\n",
    "dados_teste = TrainingInput(s3_data = raiz + 'teste.csv', content_type = 'csv')"
   ]
  },
  {
   "cell_type": "code",
   "execution_count": 6,
   "metadata": {},
   "outputs": [
    {
     "name": "stdout",
     "output_type": "stream",
     "text": [
      "{\n",
      "  \"config\": {\n",
      "    \"DataSource\": {\n",
      "      \"S3DataSource\": {\n",
      "        \"S3DataType\": \"S3Prefix\",\n",
      "        \"S3Uri\": \"s3://krupck-bucket-bloodpressure/dados/treino.csv\",\n",
      "        \"S3DataDistributionType\": \"FullyReplicated\"\n",
      "      }\n",
      "    },\n",
      "    \"ContentType\": \"csv\"\n",
      "  }\n",
      "}\n"
     ]
    }
   ],
   "source": [
    "print(json.dumps(dados_treino.__dict__, indent = 2))"
   ]
  },
  {
   "cell_type": "markdown",
   "metadata": {},
   "source": [
    "## Treinando o Modelo com SageMaker e Algoritmo XgBoost "
   ]
  },
  {
   "cell_type": "code",
   "execution_count": 7,
   "metadata": {},
   "outputs": [],
   "source": [
    "# Image URI\n",
    "container_uri = sagemaker.image_uris.retrieve(region = session.region_name, \n",
    "                                              framework = 'xgboost', \n",
    "                                              version = '1.0-1', \n",
    "                                              image_scope = 'training')"
   ]
  },
  {
   "cell_type": "code",
   "execution_count": 8,
   "metadata": {},
   "outputs": [],
   "source": [
    "# Estimador\n",
    "xgb = sagemaker.estimator.Estimator(image_uri = container_uri,\n",
    "                                    role = sagemaker_execution_role, \n",
    "                                    instance_count = 1, \n",
    "                                    instance_type = 'ml.m5.large',\n",
    "                                    output_path='s3://{}/artefatos'.format(s3_bucket, prefix),\n",
    "                                    sagemaker_session = sagemaker_session,\n",
    "                                    base_job_name = 'clf-xgboost')"
   ]
  },
  {
   "cell_type": "code",
   "execution_count": 9,
   "metadata": {},
   "outputs": [],
   "source": [
    "# Define os hiperparâmetros básicos\n",
    "xgb.set_hyperparameters(objective='binary:logistic', num_round = 100)"
   ]
  },
  {
   "cell_type": "code",
   "execution_count": 10,
   "metadata": {},
   "outputs": [],
   "source": [
    "# Dicionário com hiperparâmetros que serão usados na otimização\n",
    "hyperparameter_ranges = {'eta': ContinuousParameter(0, 1),\n",
    "                         'min_child_weight': ContinuousParameter(1, 10),\n",
    "                         'alpha': ContinuousParameter(0, 2),\n",
    "                         'max_depth': IntegerParameter(1, 10)}"
   ]
  },
  {
   "cell_type": "code",
   "execution_count": 11,
   "metadata": {},
   "outputs": [],
   "source": [
    "# Métrica\n",
    "objective_metric_name = 'validation:accuracy'"
   ]
  },
  {
   "cell_type": "code",
   "execution_count": 12,
   "metadata": {},
   "outputs": [],
   "source": [
    "# Cria o objeto para otimização de hiiperparâmetros\n",
    "tuner = HyperparameterTuner(xgb, objective_metric_name, hyperparameter_ranges, max_jobs = 10, max_parallel_jobs = 5)"
   ]
  },
  {
   "cell_type": "code",
   "execution_count": 13,
   "metadata": {},
   "outputs": [
    {
     "name": "stderr",
     "output_type": "stream",
     "text": [
      "No finished training job found associated with this estimator. Please make sure this estimator is only used for building workflow config\n",
      "No finished training job found associated with this estimator. Please make sure this estimator is only used for building workflow config\n"
     ]
    },
    {
     "name": "stdout",
     "output_type": "stream",
     "text": [
      "...................................................................................................!\n"
     ]
    }
   ],
   "source": [
    "# Treinamento\n",
    "tuner.fit({'train': dados_treino, 'validation': dados_teste}, include_cls_metadata = False)"
   ]
  },
  {
   "cell_type": "code",
   "execution_count": 14,
   "metadata": {},
   "outputs": [
    {
     "data": {
      "text/plain": [
       "'sagemaker-xgboost-220722-1440'"
      ]
     },
     "execution_count": 14,
     "metadata": {},
     "output_type": "execute_result"
    }
   ],
   "source": [
    "# Nome do job\n",
    "hpo_job_name = tuner.latest_tuning_job.job_name\n",
    "hpo_job_name"
   ]
  },
  {
   "cell_type": "code",
   "execution_count": 15,
   "metadata": {},
   "outputs": [
    {
     "data": {
      "text/plain": [
       "'Completed'"
      ]
     },
     "execution_count": 15,
     "metadata": {},
     "output_type": "execute_result"
    }
   ],
   "source": [
    "# Resultados da otimização\n",
    "tuning_job_results = sagemaker_client.describe_hyper_parameter_tuning_job(HyperParameterTuningJobName = hpo_job_name)\n",
    "status = tuning_job_results['HyperParameterTuningJobStatus']\n",
    "status"
   ]
  },
  {
   "cell_type": "code",
   "execution_count": 16,
   "metadata": {},
   "outputs": [
    {
     "data": {
      "text/plain": [
       "{'TrainingJobName': 'sagemaker-xgboost-220722-1440-006-094bd182',\n",
       " 'TrainingJobArn': 'arn:aws:sagemaker:us-east-2:351371806175:training-job/sagemaker-xgboost-220722-1440-006-094bd182',\n",
       " 'CreationTime': datetime.datetime(2022, 7, 22, 14, 43, 52, tzinfo=tzlocal()),\n",
       " 'TrainingStartTime': datetime.datetime(2022, 7, 22, 14, 45, 31, tzinfo=tzlocal()),\n",
       " 'TrainingEndTime': datetime.datetime(2022, 7, 22, 14, 47, 28, tzinfo=tzlocal()),\n",
       " 'TrainingJobStatus': 'Completed',\n",
       " 'TunedHyperParameters': {'alpha': '1.5198635096218103',\n",
       "  'eta': '0.46553827054181685',\n",
       "  'max_depth': '1',\n",
       "  'min_child_weight': '4.651519262461322'},\n",
       " 'FinalHyperParameterTuningJobObjectiveMetric': {'MetricName': 'validation:accuracy',\n",
       "  'Value': 0.8166700005531311},\n",
       " 'ObjectiveStatus': 'Succeeded'}"
      ]
     },
     "execution_count": 16,
     "metadata": {},
     "output_type": "execute_result"
    }
   ],
   "source": [
    "# Melhor resultado da otimização\n",
    "best_training_job = tuning_job_results['BestTrainingJob']\n",
    "best_training_job"
   ]
  },
  {
   "cell_type": "markdown",
   "metadata": {},
   "source": [
    "## Avaliação\n",
    "\n",
    "Podemos listar hiperparâmetros e métricas objetivas de todos os jobs de treinamento e escolher o job de treinamento com a melhor métrica objetiva."
   ]
  },
  {
   "cell_type": "code",
   "execution_count": 17,
   "metadata": {},
   "outputs": [],
   "source": [
    "tuner = sagemaker.HyperparameterTuningJobAnalytics(hpo_job_name)\n",
    "hpo_results_df = tuner.dataframe()"
   ]
  },
  {
   "cell_type": "code",
   "execution_count": 18,
   "metadata": {},
   "outputs": [
    {
     "data": {
      "text/html": [
       "<div>\n",
       "<style scoped>\n",
       "    .dataframe tbody tr th:only-of-type {\n",
       "        vertical-align: middle;\n",
       "    }\n",
       "\n",
       "    .dataframe tbody tr th {\n",
       "        vertical-align: top;\n",
       "    }\n",
       "\n",
       "    .dataframe thead th {\n",
       "        text-align: right;\n",
       "    }\n",
       "</style>\n",
       "<table border=\"1\" class=\"dataframe\">\n",
       "  <thead>\n",
       "    <tr style=\"text-align: right;\">\n",
       "      <th></th>\n",
       "      <th>alpha</th>\n",
       "      <th>eta</th>\n",
       "      <th>max_depth</th>\n",
       "      <th>min_child_weight</th>\n",
       "      <th>TrainingJobName</th>\n",
       "      <th>TrainingJobStatus</th>\n",
       "      <th>FinalObjectiveValue</th>\n",
       "      <th>TrainingStartTime</th>\n",
       "      <th>TrainingEndTime</th>\n",
       "      <th>TrainingElapsedTimeSeconds</th>\n",
       "    </tr>\n",
       "  </thead>\n",
       "  <tbody>\n",
       "    <tr>\n",
       "      <th>0</th>\n",
       "      <td>1.882727</td>\n",
       "      <td>0.000000</td>\n",
       "      <td>10.0</td>\n",
       "      <td>1.981523</td>\n",
       "      <td>sagemaker-xgboost-220722-1440-010-52cc0ddd</td>\n",
       "      <td>Completed</td>\n",
       "      <td>0.81667</td>\n",
       "      <td>2022-07-22 14:45:30+00:00</td>\n",
       "      <td>2022-07-22 14:47:37+00:00</td>\n",
       "      <td>127.0</td>\n",
       "    </tr>\n",
       "    <tr>\n",
       "      <th>1</th>\n",
       "      <td>0.918899</td>\n",
       "      <td>0.117683</td>\n",
       "      <td>10.0</td>\n",
       "      <td>2.796062</td>\n",
       "      <td>sagemaker-xgboost-220722-1440-009-08c33dc9</td>\n",
       "      <td>Completed</td>\n",
       "      <td>0.80750</td>\n",
       "      <td>2022-07-22 14:45:20+00:00</td>\n",
       "      <td>2022-07-22 14:47:22+00:00</td>\n",
       "      <td>122.0</td>\n",
       "    </tr>\n",
       "    <tr>\n",
       "      <th>2</th>\n",
       "      <td>0.575891</td>\n",
       "      <td>0.000000</td>\n",
       "      <td>10.0</td>\n",
       "      <td>3.725771</td>\n",
       "      <td>sagemaker-xgboost-220722-1440-008-f61c8293</td>\n",
       "      <td>Completed</td>\n",
       "      <td>0.81667</td>\n",
       "      <td>2022-07-22 14:45:26+00:00</td>\n",
       "      <td>2022-07-22 14:47:38+00:00</td>\n",
       "      <td>132.0</td>\n",
       "    </tr>\n",
       "    <tr>\n",
       "      <th>3</th>\n",
       "      <td>0.212223</td>\n",
       "      <td>0.397208</td>\n",
       "      <td>1.0</td>\n",
       "      <td>1.495000</td>\n",
       "      <td>sagemaker-xgboost-220722-1440-007-536fbc8c</td>\n",
       "      <td>Completed</td>\n",
       "      <td>0.81667</td>\n",
       "      <td>2022-07-22 14:45:25+00:00</td>\n",
       "      <td>2022-07-22 14:47:39+00:00</td>\n",
       "      <td>134.0</td>\n",
       "    </tr>\n",
       "    <tr>\n",
       "      <th>4</th>\n",
       "      <td>1.519864</td>\n",
       "      <td>0.465538</td>\n",
       "      <td>1.0</td>\n",
       "      <td>4.651519</td>\n",
       "      <td>sagemaker-xgboost-220722-1440-006-094bd182</td>\n",
       "      <td>Completed</td>\n",
       "      <td>0.81667</td>\n",
       "      <td>2022-07-22 14:45:31+00:00</td>\n",
       "      <td>2022-07-22 14:47:28+00:00</td>\n",
       "      <td>117.0</td>\n",
       "    </tr>\n",
       "    <tr>\n",
       "      <th>5</th>\n",
       "      <td>0.999369</td>\n",
       "      <td>0.481301</td>\n",
       "      <td>5.0</td>\n",
       "      <td>6.598410</td>\n",
       "      <td>sagemaker-xgboost-220722-1440-005-963207a2</td>\n",
       "      <td>Completed</td>\n",
       "      <td>0.80333</td>\n",
       "      <td>2022-07-22 14:41:34+00:00</td>\n",
       "      <td>2022-07-22 14:43:37+00:00</td>\n",
       "      <td>123.0</td>\n",
       "    </tr>\n",
       "    <tr>\n",
       "      <th>6</th>\n",
       "      <td>0.947670</td>\n",
       "      <td>0.459445</td>\n",
       "      <td>3.0</td>\n",
       "      <td>7.052626</td>\n",
       "      <td>sagemaker-xgboost-220722-1440-004-013d346a</td>\n",
       "      <td>Completed</td>\n",
       "      <td>0.81292</td>\n",
       "      <td>2022-07-22 14:41:43+00:00</td>\n",
       "      <td>2022-07-22 14:43:45+00:00</td>\n",
       "      <td>122.0</td>\n",
       "    </tr>\n",
       "    <tr>\n",
       "      <th>7</th>\n",
       "      <td>1.929878</td>\n",
       "      <td>0.044551</td>\n",
       "      <td>10.0</td>\n",
       "      <td>2.063586</td>\n",
       "      <td>sagemaker-xgboost-220722-1440-003-41392c20</td>\n",
       "      <td>Completed</td>\n",
       "      <td>0.81667</td>\n",
       "      <td>2022-07-22 14:41:33+00:00</td>\n",
       "      <td>2022-07-22 14:43:35+00:00</td>\n",
       "      <td>122.0</td>\n",
       "    </tr>\n",
       "    <tr>\n",
       "      <th>8</th>\n",
       "      <td>1.738540</td>\n",
       "      <td>0.515396</td>\n",
       "      <td>5.0</td>\n",
       "      <td>3.944418</td>\n",
       "      <td>sagemaker-xgboost-220722-1440-002-ed8f5043</td>\n",
       "      <td>Completed</td>\n",
       "      <td>0.79542</td>\n",
       "      <td>2022-07-22 14:41:35+00:00</td>\n",
       "      <td>2022-07-22 14:43:37+00:00</td>\n",
       "      <td>122.0</td>\n",
       "    </tr>\n",
       "    <tr>\n",
       "      <th>9</th>\n",
       "      <td>1.171897</td>\n",
       "      <td>0.466366</td>\n",
       "      <td>1.0</td>\n",
       "      <td>2.883897</td>\n",
       "      <td>sagemaker-xgboost-220722-1440-001-8afa49e0</td>\n",
       "      <td>Completed</td>\n",
       "      <td>0.81667</td>\n",
       "      <td>2022-07-22 14:41:29+00:00</td>\n",
       "      <td>2022-07-22 14:43:21+00:00</td>\n",
       "      <td>112.0</td>\n",
       "    </tr>\n",
       "  </tbody>\n",
       "</table>\n",
       "</div>"
      ],
      "text/plain": [
       "      alpha       eta  max_depth  min_child_weight  \\\n",
       "0  1.882727  0.000000       10.0          1.981523   \n",
       "1  0.918899  0.117683       10.0          2.796062   \n",
       "2  0.575891  0.000000       10.0          3.725771   \n",
       "3  0.212223  0.397208        1.0          1.495000   \n",
       "4  1.519864  0.465538        1.0          4.651519   \n",
       "5  0.999369  0.481301        5.0          6.598410   \n",
       "6  0.947670  0.459445        3.0          7.052626   \n",
       "7  1.929878  0.044551       10.0          2.063586   \n",
       "8  1.738540  0.515396        5.0          3.944418   \n",
       "9  1.171897  0.466366        1.0          2.883897   \n",
       "\n",
       "                              TrainingJobName TrainingJobStatus  \\\n",
       "0  sagemaker-xgboost-220722-1440-010-52cc0ddd         Completed   \n",
       "1  sagemaker-xgboost-220722-1440-009-08c33dc9         Completed   \n",
       "2  sagemaker-xgboost-220722-1440-008-f61c8293         Completed   \n",
       "3  sagemaker-xgboost-220722-1440-007-536fbc8c         Completed   \n",
       "4  sagemaker-xgboost-220722-1440-006-094bd182         Completed   \n",
       "5  sagemaker-xgboost-220722-1440-005-963207a2         Completed   \n",
       "6  sagemaker-xgboost-220722-1440-004-013d346a         Completed   \n",
       "7  sagemaker-xgboost-220722-1440-003-41392c20         Completed   \n",
       "8  sagemaker-xgboost-220722-1440-002-ed8f5043         Completed   \n",
       "9  sagemaker-xgboost-220722-1440-001-8afa49e0         Completed   \n",
       "\n",
       "   FinalObjectiveValue         TrainingStartTime           TrainingEndTime  \\\n",
       "0              0.81667 2022-07-22 14:45:30+00:00 2022-07-22 14:47:37+00:00   \n",
       "1              0.80750 2022-07-22 14:45:20+00:00 2022-07-22 14:47:22+00:00   \n",
       "2              0.81667 2022-07-22 14:45:26+00:00 2022-07-22 14:47:38+00:00   \n",
       "3              0.81667 2022-07-22 14:45:25+00:00 2022-07-22 14:47:39+00:00   \n",
       "4              0.81667 2022-07-22 14:45:31+00:00 2022-07-22 14:47:28+00:00   \n",
       "5              0.80333 2022-07-22 14:41:34+00:00 2022-07-22 14:43:37+00:00   \n",
       "6              0.81292 2022-07-22 14:41:43+00:00 2022-07-22 14:43:45+00:00   \n",
       "7              0.81667 2022-07-22 14:41:33+00:00 2022-07-22 14:43:35+00:00   \n",
       "8              0.79542 2022-07-22 14:41:35+00:00 2022-07-22 14:43:37+00:00   \n",
       "9              0.81667 2022-07-22 14:41:29+00:00 2022-07-22 14:43:21+00:00   \n",
       "\n",
       "   TrainingElapsedTimeSeconds  \n",
       "0                       127.0  \n",
       "1                       122.0  \n",
       "2                       132.0  \n",
       "3                       134.0  \n",
       "4                       117.0  \n",
       "5                       123.0  \n",
       "6                       122.0  \n",
       "7                       122.0  \n",
       "8                       122.0  \n",
       "9                       112.0  "
      ]
     },
     "execution_count": 18,
     "metadata": {},
     "output_type": "execute_result"
    }
   ],
   "source": [
    "hpo_results_df"
   ]
  }
 ],
 "metadata": {
  "instance_type": "ml.t3.medium",
  "kernelspec": {
   "display_name": "Python 3 (Data Science)",
   "language": "python",
   "name": "python3__SAGEMAKER_INTERNAL__arn:aws:sagemaker:us-east-2:429704687514:image/datascience-1.0"
  },
  "language_info": {
   "codemirror_mode": {
    "name": "ipython",
    "version": 3
   },
   "file_extension": ".py",
   "mimetype": "text/x-python",
   "name": "python",
   "nbconvert_exporter": "python",
   "pygments_lexer": "ipython3",
   "version": "3.7.10"
  }
 },
 "nbformat": 4,
 "nbformat_minor": 4
}

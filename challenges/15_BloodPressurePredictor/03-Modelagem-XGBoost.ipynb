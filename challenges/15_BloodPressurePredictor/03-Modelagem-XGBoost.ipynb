{
 "cells": [
  {
   "cell_type": "markdown",
   "metadata": {},
   "source": [
    "# Amazon SageMaker\n",
    "### <font color='blue'>Deploy de Modelo Para Previsão de Doenças Usando Regsitros Médicos Eletrônicos</font>"
   ]
  },
  {
   "cell_type": "markdown",
   "metadata": {},
   "source": [
    "## Parte 3 - Segunda Versão do Modelo e Criação do Endpoint"
   ]
  },
  {
   "cell_type": "markdown",
   "metadata": {},
   "source": [
    "## Imports "
   ]
  },
  {
   "cell_type": "markdown",
   "metadata": {},
   "source": [
    "https://pypi.org/project/boto/\n",
    "\n",
    "https://sagemaker.readthedocs.io/en/stable/"
   ]
  },
  {
   "cell_type": "code",
   "execution_count": null,
   "metadata": {},
   "outputs": [],
   "source": [
    "# Imports\n",
    "import os\n",
    "import json\n",
    "import sagemaker\n",
    "import boto3\n",
    "import numpy as np\n",
    "import pandas as pd\n",
    "from sagemaker.serializers import CSVSerializer\n",
    "from sagemaker.inputs import TrainingInput\n",
    "from sagemaker.predictor import Predictor\n",
    "from sagemaker import get_execution_role"
   ]
  },
  {
   "cell_type": "code",
   "execution_count": null,
   "metadata": {},
   "outputs": [],
   "source": [
    "sagemaker.__version__"
   ]
  },
  {
   "cell_type": "markdown",
   "metadata": {},
   "source": [
    "## Carrega os Dados"
   ]
  },
  {
   "cell_type": "code",
   "execution_count": null,
   "metadata": {},
   "outputs": [],
   "source": [
    "# Obtém a sessão do SageMaker\n",
    "session = boto3.Session()"
   ]
  },
  {
   "cell_type": "code",
   "execution_count": null,
   "metadata": {},
   "outputs": [],
   "source": [
    "s3 = session.resource('s3')"
   ]
  },
  {
   "cell_type": "code",
   "execution_count": null,
   "metadata": {},
   "outputs": [],
   "source": [
    "s3"
   ]
  },
  {
   "cell_type": "code",
   "execution_count": null,
   "metadata": {},
   "outputs": [],
   "source": [
    "from sagemaker import get_execution_role\n",
    "role = get_execution_role()\n",
    "print(role)"
   ]
  },
  {
   "cell_type": "code",
   "execution_count": null,
   "metadata": {},
   "outputs": [],
   "source": [
    "# Altere para o nome do seu bucket\n",
    "s3_bucket = 'dsa-deploy-app'\n",
    "prefix = 'dados'"
   ]
  },
  {
   "cell_type": "code",
   "execution_count": null,
   "metadata": {},
   "outputs": [],
   "source": [
    "raiz = 's3://{}/{}/'.format(s3_bucket, prefix)\n",
    "print(raiz)"
   ]
  },
  {
   "cell_type": "code",
   "execution_count": null,
   "metadata": {},
   "outputs": [],
   "source": [
    "dados_treino = TrainingInput(s3_data = raiz + 'treino.csv', content_type = 'csv')\n",
    "dados_teste = TrainingInput(s3_data = raiz + 'teste.csv', content_type = 'csv')"
   ]
  },
  {
   "cell_type": "code",
   "execution_count": null,
   "metadata": {},
   "outputs": [],
   "source": [
    "print(json.dumps(dados_treino.__dict__, indent = 2))"
   ]
  },
  {
   "cell_type": "code",
   "execution_count": null,
   "metadata": {},
   "outputs": [],
   "source": [
    "print(json.dumps(dados_teste.__dict__, indent = 2))"
   ]
  },
  {
   "cell_type": "markdown",
   "metadata": {},
   "source": [
    "## Construção e Treinamento do Modelo"
   ]
  },
  {
   "cell_type": "code",
   "execution_count": null,
   "metadata": {},
   "outputs": [],
   "source": [
    "# Criação do Container\n",
    "# https://sagemaker.readthedocs.io/en/stable/api/utility/image_uris.html\n",
    "container_uri = sagemaker.image_uris.retrieve(region = session.region_name, \n",
    "                                              framework = 'xgboost', \n",
    "                                              version = '1.0-1', \n",
    "                                              image_scope = 'training')"
   ]
  },
  {
   "cell_type": "code",
   "execution_count": null,
   "metadata": {},
   "outputs": [],
   "source": [
    "# Argumentos do estimador\n",
    "sagemaker_execution_role = role\n",
    "sagemaker_session = sagemaker.Session()"
   ]
  },
  {
   "cell_type": "code",
   "execution_count": null,
   "metadata": {},
   "outputs": [],
   "source": [
    "# Criação do Estimador\n",
    "# https://sagemaker.readthedocs.io/en/stable/api/training/estimators.html\n",
    "xgb = sagemaker.estimator.Estimator(image_uri = container_uri,\n",
    "                                    role = sagemaker_execution_role, \n",
    "                                    instance_count = 2, \n",
    "                                    instance_type = 'ml.m5.large',\n",
    "                                    output_path = 's3://{}/artefatos'.format(s3_bucket),\n",
    "                                    sagemaker_session = sagemaker_session,\n",
    "                                    base_job_name = 'classifier')"
   ]
  },
  {
   "cell_type": "code",
   "execution_count": null,
   "metadata": {},
   "outputs": [],
   "source": [
    "# Definição dos Hiperparâmetros\n",
    "# https://docs.aws.amazon.com/pt_br/sagemaker/latest/dg/xgboost_hyperparameters.html\n",
    "xgb.set_hyperparameters(objective = 'binary:logistic', num_round = 100)"
   ]
  },
  {
   "cell_type": "code",
   "execution_count": null,
   "metadata": {},
   "outputs": [],
   "source": [
    "# Treinamento\n",
    "xgb.fit({'train': dados_treino, 'validation': dados_teste})"
   ]
  },
  {
   "cell_type": "markdown",
   "metadata": {},
   "source": [
    "## Gerando o Endpoint a Partir do Modelo"
   ]
  },
  {
   "cell_type": "code",
   "execution_count": null,
   "metadata": {},
   "outputs": [],
   "source": [
    "# Deploy do modelo treinado criando o endpoint\n",
    "# https://docs.aws.amazon.com/pt_br/sagemaker/latest/dg/xgboost.html\n",
    "xgb_predictor = xgb.deploy(initial_instance_count = 2, instance_type = 'ml.m5.large')"
   ]
  },
  {
   "cell_type": "markdown",
   "metadata": {},
   "source": [
    "## Previsões a Partir do Endpoint"
   ]
  },
  {
   "cell_type": "code",
   "execution_count": null,
   "metadata": {},
   "outputs": [],
   "source": [
    "csv_serializer = CSVSerializer()"
   ]
  },
  {
   "cell_type": "code",
   "execution_count": null,
   "metadata": {},
   "outputs": [],
   "source": [
    "predictor = Predictor(endpoint_name = xgb_predictor.endpoint_name, serializer = csv_serializer)"
   ]
  },
  {
   "cell_type": "code",
   "execution_count": null,
   "metadata": {},
   "outputs": [],
   "source": [
    "df_teste = pd.read_csv(raiz + 'teste.csv', names = ['class', 'bmi', 'diastolic_bp_change', 'systolic_bp_change', 'respiratory_rate'])"
   ]
  },
  {
   "cell_type": "code",
   "execution_count": null,
   "metadata": {},
   "outputs": [],
   "source": [
    "df_teste.head()"
   ]
  },
  {
   "cell_type": "code",
   "execution_count": null,
   "metadata": {},
   "outputs": [],
   "source": [
    "X = df_teste.sample(1)\n",
    "X"
   ]
  },
  {
   "cell_type": "code",
   "execution_count": null,
   "metadata": {},
   "outputs": [],
   "source": [
    "X = X.values[0]\n",
    "X[1:]"
   ]
  },
  {
   "cell_type": "code",
   "execution_count": null,
   "metadata": {},
   "outputs": [],
   "source": [
    "paciente = X[1:]\n",
    "paciente"
   ]
  },
  {
   "cell_type": "code",
   "execution_count": null,
   "metadata": {},
   "outputs": [],
   "source": [
    "# Faz a previsão de um paciente\n",
    "predicted_class_prob = predictor.predict(paciente).decode('utf-8')\n",
    "if float(predicted_class_prob) < 0.5:\n",
    "    print('Previsão = Não Diabético')\n",
    "else:\n",
    "    print('Previsão = Diabético')\n",
    "print()"
   ]
  },
  {
   "cell_type": "markdown",
   "metadata": {},
   "source": [
    "## Avaliando o Modelo"
   ]
  },
  {
   "cell_type": "code",
   "execution_count": null,
   "metadata": {},
   "outputs": [],
   "source": [
    "# Previsão de todos os pacientes no dataset de teste\n",
    "predictions = []\n",
    "expected = []\n",
    "correct = 0\n",
    "for row in df_teste.values:\n",
    "    expected_class = row[0]\n",
    "    payload = row[1:]\n",
    "    predicted_class_prob = predictor.predict(payload).decode('utf-8')\n",
    "    predicted_class = 1\n",
    "    if float(predicted_class_prob) < 0.5:\n",
    "        predicted_class = 0  \n",
    "    if predicted_class == expected_class:\n",
    "        correct += 1\n",
    "    predictions.append(predicted_class)\n",
    "    expected.append(expected_class)"
   ]
  },
  {
   "cell_type": "code",
   "execution_count": null,
   "metadata": {},
   "outputs": [],
   "source": [
    "print('Acurácia = {:.2f}%'.format(correct/len(predictions) * 100))"
   ]
  },
  {
   "cell_type": "markdown",
   "metadata": {},
   "source": [
    "#### Confusion Matrix"
   ]
  },
  {
   "cell_type": "code",
   "execution_count": null,
   "metadata": {},
   "outputs": [],
   "source": [
    "expected = pd.Series(np.array(expected))\n",
    "predictions = pd.Series(np.array(predictions))\n",
    "pd.crosstab(expected, predictions, rownames = ['Actual'], colnames = ['Predicted'], margins = True)"
   ]
  }
 ],
 "metadata": {
  "instance_type": "ml.t3.medium",
  "kernelspec": {
   "display_name": "Python 3.8.9 64-bit",
   "language": "python",
   "name": "python3"
  },
  "language_info": {
   "codemirror_mode": {
    "name": "ipython",
    "version": 3
   },
   "file_extension": ".py",
   "mimetype": "text/x-python",
   "name": "python",
   "nbconvert_exporter": "python",
   "pygments_lexer": "ipython3",
   "version": "3.8.9"
  },
  "vscode": {
   "interpreter": {
    "hash": "b081a66ee97bd2b6a16f43955f1d810b7ea816d6eaeb65e157ef9e038445f0c6"
   }
  }
 },
 "nbformat": 4,
 "nbformat_minor": 4
}

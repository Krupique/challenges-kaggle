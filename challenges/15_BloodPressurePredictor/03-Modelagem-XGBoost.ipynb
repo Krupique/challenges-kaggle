{
 "cells": [
  {
   "cell_type": "markdown",
   "metadata": {},
   "source": [
    "# Modelo Para Previsão de Doenças Usando Registros Médicos Eletrônicos - Parte 3"
   ]
  },
  {
   "cell_type": "markdown",
   "metadata": {},
   "source": [
    "<h2>Criação do Endpoint a partir dos serviços em Nuvem</h2>"
   ]
  },
  {
   "cell_type": "markdown",
   "metadata": {},
   "source": [
    "## Imports "
   ]
  },
  {
   "cell_type": "markdown",
   "metadata": {},
   "source": [
    "https://sagemaker.readthedocs.io/en/stable/"
   ]
  },
  {
   "cell_type": "code",
   "execution_count": 2,
   "metadata": {},
   "outputs": [],
   "source": [
    "# Imports\n",
    "import os\n",
    "import json\n",
    "import sagemaker\n",
    "import boto3\n",
    "import numpy as np\n",
    "import pandas as pd\n",
    "from sagemaker.serializers import CSVSerializer\n",
    "from sagemaker.inputs import TrainingInput\n",
    "from sagemaker.predictor import Predictor\n",
    "from sagemaker import get_execution_role"
   ]
  },
  {
   "cell_type": "code",
   "execution_count": 3,
   "metadata": {},
   "outputs": [
    {
     "data": {
      "text/plain": [
       "'2.95.0'"
      ]
     },
     "execution_count": 3,
     "metadata": {},
     "output_type": "execute_result"
    }
   ],
   "source": [
    "sagemaker.__version__"
   ]
  },
  {
   "cell_type": "code",
   "execution_count": 4,
   "metadata": {},
   "outputs": [
    {
     "data": {
      "text/plain": [
       "'1.24.12'"
      ]
     },
     "execution_count": 4,
     "metadata": {},
     "output_type": "execute_result"
    }
   ],
   "source": [
    "boto3.__version__"
   ]
  },
  {
   "cell_type": "markdown",
   "metadata": {},
   "source": [
    "Agora irei utilizar uma serie de outras funções disponíveis pelo SageMaker.\n",
    "* **TrainingInput**: Essa função serve para carregar os dados em um formato serializado que servirá de entrada para o modelo criado a partir do SageMaker.\n",
    "\n",
    "O boto3 é um pacote que provê interface para interagir via python com os serviços da AWS. \n",
    "> Link oficial do pacote: https://pypi.org/project/boto/"
   ]
  },
  {
   "cell_type": "markdown",
   "metadata": {},
   "source": [
    "## Carrega os Dados"
   ]
  },
  {
   "cell_type": "code",
   "execution_count": 5,
   "metadata": {},
   "outputs": [
    {
     "data": {
      "text/plain": [
       "s3.ServiceResource()"
      ]
     },
     "execution_count": 5,
     "metadata": {},
     "output_type": "execute_result"
    }
   ],
   "source": [
    "# Obtém a sessão do SageMaker\n",
    "session = boto3.Session()\n",
    "\n",
    "s3 = session.resource('s3')\n",
    "s3"
   ]
  },
  {
   "cell_type": "code",
   "execution_count": 6,
   "metadata": {},
   "outputs": [
    {
     "name": "stdout",
     "output_type": "stream",
     "text": [
      "arn:aws:iam::351371806175:role/service-role/AmazonSageMaker-ExecutionRole-20220722T092670\n"
     ]
    }
   ],
   "source": [
    "from sagemaker import get_execution_role\n",
    "role = get_execution_role()\n",
    "print(role)"
   ]
  },
  {
   "cell_type": "code",
   "execution_count": 7,
   "metadata": {},
   "outputs": [],
   "source": [
    "s3_bucket = 'krupck-bucket-bloodpressure'\n",
    "prefix = 'dados'"
   ]
  },
  {
   "cell_type": "code",
   "execution_count": 8,
   "metadata": {},
   "outputs": [
    {
     "name": "stdout",
     "output_type": "stream",
     "text": [
      "s3://krupck-bucket-bloodpressure/dados/\n"
     ]
    }
   ],
   "source": [
    "raiz = 's3://{}/{}/'.format(s3_bucket, prefix)\n",
    "print(raiz)"
   ]
  },
  {
   "cell_type": "code",
   "execution_count": 9,
   "metadata": {},
   "outputs": [],
   "source": [
    "dados_treino = TrainingInput(s3_data = raiz + 'treino.csv', content_type = 'csv')\n",
    "dados_teste = TrainingInput(s3_data = raiz + 'teste.csv', content_type = 'csv')"
   ]
  },
  {
   "cell_type": "code",
   "execution_count": 10,
   "metadata": {},
   "outputs": [
    {
     "name": "stdout",
     "output_type": "stream",
     "text": [
      "{\n",
      "  \"config\": {\n",
      "    \"DataSource\": {\n",
      "      \"S3DataSource\": {\n",
      "        \"S3DataType\": \"S3Prefix\",\n",
      "        \"S3Uri\": \"s3://krupck-bucket-bloodpressure/dados/treino.csv\",\n",
      "        \"S3DataDistributionType\": \"FullyReplicated\"\n",
      "      }\n",
      "    },\n",
      "    \"ContentType\": \"csv\"\n",
      "  }\n",
      "}\n"
     ]
    }
   ],
   "source": [
    "print(json.dumps(dados_treino.__dict__, indent = 2))"
   ]
  },
  {
   "cell_type": "code",
   "execution_count": 11,
   "metadata": {},
   "outputs": [
    {
     "name": "stdout",
     "output_type": "stream",
     "text": [
      "{\n",
      "  \"config\": {\n",
      "    \"DataSource\": {\n",
      "      \"S3DataSource\": {\n",
      "        \"S3DataType\": \"S3Prefix\",\n",
      "        \"S3Uri\": \"s3://krupck-bucket-bloodpressure/dados/teste.csv\",\n",
      "        \"S3DataDistributionType\": \"FullyReplicated\"\n",
      "      }\n",
      "    },\n",
      "    \"ContentType\": \"csv\"\n",
      "  }\n",
      "}\n"
     ]
    }
   ],
   "source": [
    "print(json.dumps(dados_teste.__dict__, indent = 2))"
   ]
  },
  {
   "cell_type": "markdown",
   "metadata": {},
   "source": [
    "## Construção e Treinamento do Modelo\n",
    "\n",
    "Vamos construir o modelo. Primeiro irei criar um container a partir da função image_uris passando as configurações que eu quero.\n",
    "\n",
    "Um container é basicamente uma máquina virtual super leve criada a partir de uma imagem (template) Docker. Com esse container vamos utilizar uma máquina lá na nuvem da Amazon para realizar o treinamento. Quando acabar o treinamento, o container será destruído.\n",
    "\n",
    "Como parâmetros do template temos:\n",
    "* **region**: região que está configurada no Amazon SageMaker capturada a partid da sessão boto que criamos;\n",
    "* **framework**: Algoritmo que será utilizado para o projeto: XGBoost;\n",
    "* **version**: Versão do algoritmo: 1.0-1;\n",
    "* **escopo do container**: Será um container para treinamento;"
   ]
  },
  {
   "cell_type": "code",
   "execution_count": 12,
   "metadata": {},
   "outputs": [],
   "source": [
    "# Criação do Container\n",
    "# https://sagemaker.readthedocs.io/en/stable/api/utility/image_uris.html\n",
    "container_uri = sagemaker.image_uris.retrieve(region = session.region_name, \n",
    "                                              framework = 'xgboost', \n",
    "                                              version = '1.0-1', \n",
    "                                              image_scope = 'training')"
   ]
  },
  {
   "cell_type": "code",
   "execution_count": 13,
   "metadata": {},
   "outputs": [],
   "source": [
    "# Argumentos do estimador\n",
    "sagemaker_execution_role = role\n",
    "sagemaker_session = sagemaker.Session()"
   ]
  },
  {
   "cell_type": "markdown",
   "metadata": {},
   "source": [
    "Agora iremos criar o estimator que vai efetivamente realizar o treinamento, detalhando cada parâmetro:\n",
    "* **image_uri**: É o container que foi criado anteriormente;\n",
    "* **role**: É a execution role obtida no início do projeto;\n",
    "* **instance_count**: Número de nodes (máquinas) que iremos utilizar para a execução do projeto;\n",
    "* **instance_type**: A capacidade computacional de cada instância: https://aws.amazon.com/pt/sagemaker/pricing/?nc=sn&loc=3&refid=ft_card\n",
    "* **output_path**: Diretório de saída que será armazenado o resultado do modelo;\n",
    "* **base_job_name**: Nome do que iremos fazer "
   ]
  },
  {
   "cell_type": "code",
   "execution_count": 14,
   "metadata": {},
   "outputs": [],
   "source": [
    "# Criação do Estimador\n",
    "# https://sagemaker.readthedocs.io/en/stable/api/training/estimators.html\n",
    "xgb = sagemaker.estimator.Estimator(image_uri = container_uri,\n",
    "                                    role = sagemaker_execution_role, \n",
    "                                    instance_count = 2, \n",
    "                                    instance_type = 'ml.m5.xlarge',\n",
    "                                    output_path = 's3://{}/artefatos'.format(s3_bucket),\n",
    "                                    sagemaker_session = sagemaker_session,\n",
    "                                    base_job_name = 'classifier')"
   ]
  },
  {
   "cell_type": "markdown",
   "metadata": {},
   "source": [
    "**Definição dos Hiperparâmetros**\n",
    "<br/>\n",
    "Agora a definição dos hiperparâmetros. Aqui estamos tratando em nível de algoritmo, vamos configurar os parâmetros para o algoritmo ser executado.\n",
    "\n",
    "Definir a melhor combinação de hiperparâmetros é um grande desafio para o cientista. Testar todas as possibilidades pode levar muito tempo, em contrapartida, deixar de testar mais possibilidades podemos deixar de obter o máximo de precisão que o modelo poderia atingir. É um trade-off.\n",
    "\n",
    "Para esse projeto o intuito é testar a computação em nuvem, portanto não irei me preocupar em testar várias combinações de parâmetros.\n",
    "\n",
    "Link para a documentação: https://docs.aws.amazon.com/pt_br/sagemaker/latest/dg/xgboost_hyperparameters.html"
   ]
  },
  {
   "cell_type": "code",
   "execution_count": 16,
   "metadata": {},
   "outputs": [],
   "source": [
    "# Definição dos Hiperparâmetros\n",
    "xgb.set_hyperparameters(objective = 'binary:logistic', num_round = 100)"
   ]
  },
  {
   "cell_type": "markdown",
   "metadata": {},
   "source": [
    "**Execução do treinamento**\n",
    "\n",
    "Vamos utilizar o próprio método `fit` já velho conhecido de quem já mexe com Machine Learning. Mas aqui temos uma diferença, nós iremos passar 2 pares de chave-valores, passamos `treino` e `validação`."
   ]
  },
  {
   "cell_type": "code",
   "execution_count": 17,
   "metadata": {},
   "outputs": [
    {
     "name": "stdout",
     "output_type": "stream",
     "text": [
      "2022-07-22 13:32:08 Starting - Starting the training job...\n",
      "2022-07-22 13:32:31 Starting - Preparing the instances for trainingProfilerReport-1658496728: InProgress\n",
      "......\n",
      "2022-07-22 13:33:36 Downloading - Downloading input data...\n",
      "2022-07-22 13:34:01 Training - Downloading the training image.....\u001b[35mINFO:sagemaker-containers:Imported framework sagemaker_xgboost_container.training\u001b[0m\n",
      "\u001b[35mINFO:sagemaker-containers:Failed to parse hyperparameter objective value binary:logistic to Json.\u001b[0m\n",
      "\u001b[35mReturning the value itself\u001b[0m\n",
      "\u001b[35mINFO:sagemaker-containers:No GPUs detected (normal if no gpus installed)\u001b[0m\n",
      "\u001b[35mINFO:sagemaker_xgboost_container.training:Running XGBoost Sagemaker in algorithm mode\u001b[0m\n",
      "\u001b[35mINFO:root:Determined delimiter of CSV input is ','\u001b[0m\n",
      "\u001b[35mINFO:root:Determined delimiter of CSV input is ','\u001b[0m\n",
      "\u001b[35mINFO:root:Determined delimiter of CSV input is ','\u001b[0m\n",
      "\u001b[35m[13:34:45] 7199x4 matrix with 28796 entries loaded from /opt/ml/input/data/train?format=csv&label_column=0&delimiter=,\u001b[0m\n",
      "\u001b[35mINFO:root:Determined delimiter of CSV input is ','\u001b[0m\n",
      "\u001b[35m[13:34:45] 2400x4 matrix with 9600 entries loaded from /opt/ml/input/data/validation?format=csv&label_column=0&delimiter=,\u001b[0m\n",
      "\u001b[35mINFO:root:Distributed node training with 2 hosts: ['algo-1', 'algo-2']\u001b[0m\n",
      "\u001b[35mINFO:RabitContextManager:Connected to RabitTracker.\u001b[0m\n",
      "\u001b[35mtask NULL connected to the tracker\u001b[0m\n",
      "\u001b[35mtask NULL got new rank 1\u001b[0m\n",
      "\u001b[35mINFO:RabitContextManager:Failed to connect to RabitTracker on attempt 0\u001b[0m\n",
      "\u001b[35mINFO:RabitContextManager:Sleeping for 3 sec before retrying\u001b[0m\n",
      "\u001b[35mINFO:RabitContextManager:Connected to RabitTracker.\u001b[0m\n",
      "\u001b[35mtask NULL connected to the tracker\u001b[0m\n",
      "\u001b[35mtask NULL got new rank 1\u001b[0m\n",
      "\u001b[35mINFO:root:Train matrix has 7199 rows\u001b[0m\n",
      "\u001b[35mINFO:root:Validation matrix has 2400 rows\u001b[0m\n",
      "\u001b[35m[13:34:49] WARNING: /workspace/src/learner.cc:328: \u001b[0m\n",
      "\u001b[35mParameters: { num_round } might not be used.\n",
      "  This may not be accurate due to some parameters are only used in language bindings but\n",
      "  passed down to XGBoost core.  Or some parameters are not used but slip through this\n",
      "  verification. Please open an issue if you find above cases.\u001b[0m\n",
      "\u001b[35m[13:34:49] WARNING: /workspace/src/gbm/gbtree.cc:128: Tree method is automatically selected to be 'approx' for distributed training.\u001b[0m\n",
      "\u001b[34mINFO:sagemaker-containers:Imported framework sagemaker_xgboost_container.training\u001b[0m\n",
      "\u001b[34mINFO:sagemaker-containers:Failed to parse hyperparameter objective value binary:logistic to Json.\u001b[0m\n",
      "\u001b[34mReturning the value itself\u001b[0m\n",
      "\u001b[34mINFO:sagemaker-containers:No GPUs detected (normal if no gpus installed)\u001b[0m\n",
      "\u001b[34mINFO:sagemaker_xgboost_container.training:Running XGBoost Sagemaker in algorithm mode\u001b[0m\n",
      "\u001b[34mINFO:root:Determined delimiter of CSV input is ','\u001b[0m\n",
      "\u001b[34mINFO:root:Determined delimiter of CSV input is ','\u001b[0m\n",
      "\u001b[34mINFO:root:Determined delimiter of CSV input is ','\u001b[0m\n",
      "\u001b[34m[13:34:45] 7199x4 matrix with 28796 entries loaded from /opt/ml/input/data/train?format=csv&label_column=0&delimiter=,\u001b[0m\n",
      "\u001b[34mINFO:root:Determined delimiter of CSV input is ','\u001b[0m\n",
      "\u001b[34m[13:34:45] 2400x4 matrix with 9600 entries loaded from /opt/ml/input/data/validation?format=csv&label_column=0&delimiter=,\u001b[0m\n",
      "\u001b[34mINFO:root:Distributed node training with 2 hosts: ['algo-1', 'algo-2']\u001b[0m\n",
      "\u001b[34mINFO:RabitTracker:start listen on algo-1:9099\u001b[0m\n",
      "\u001b[34mINFO:RabitContextManager:Rabit slave environment: {'DMLC_TRACKER_URI': 'algo-1', 'DMLC_TRACKER_PORT': 9099}\u001b[0m\n",
      "\u001b[34mINFO:RabitContextManager:Connected to RabitTracker.\u001b[0m\n",
      "\u001b[34mINFO:RabitTracker:No data received from connection ('10.0.127.54', 57256). Closing.\u001b[0m\n",
      "\u001b[34mtask NULL connected to the tracker\u001b[0m\n",
      "\u001b[34mINFO:RabitTracker:No data received from connection ('10.0.79.188', 46186). Closing.\u001b[0m\n",
      "\u001b[34mtask NULL got new rank 0\u001b[0m\n",
      "\u001b[34mINFO:RabitTracker:Recieve start signal from 10.0.127.54; assign rank 0\u001b[0m\n",
      "\u001b[34mINFO:RabitTracker:Recieve start signal from 10.0.79.188; assign rank 1\u001b[0m\n",
      "\u001b[34mINFO:RabitTracker:@tracker All of 2 nodes getting started\u001b[0m\n",
      "\u001b[34mINFO:RabitTracker:@tracker All nodes finishes job\u001b[0m\n",
      "\u001b[34mINFO:RabitTracker:@tracker 0.17241311073303223 secs between node start and job finish\u001b[0m\n",
      "\u001b[34mINFO:RabitTracker:start listen on algo-1:9100\u001b[0m\n",
      "\u001b[34mINFO:RabitContextManager:Rabit slave environment: {'DMLC_TRACKER_URI': 'algo-1', 'DMLC_TRACKER_PORT': 9100}\u001b[0m\n",
      "\u001b[34mINFO:RabitContextManager:Connected to RabitTracker.\u001b[0m\n",
      "\u001b[34mINFO:RabitTracker:No data received from connection ('10.0.127.54', 54162). Closing.\u001b[0m\n",
      "\u001b[34mtask NULL connected to the tracker\u001b[0m\n",
      "\u001b[34mINFO:RabitTracker:No data received from connection ('10.0.79.188', 58912). Closing.\u001b[0m\n",
      "\u001b[34mtask NULL got new rank 0\u001b[0m\n",
      "\u001b[34mINFO:RabitTracker:Recieve start signal from 10.0.127.54; assign rank 0\u001b[0m\n",
      "\u001b[34mINFO:RabitTracker:Recieve start signal from 10.0.79.188; assign rank 1\u001b[0m\n",
      "\u001b[34mINFO:root:Train matrix has 7199 rows\u001b[0m\n",
      "\u001b[34mINFO:RabitTracker:@tracker All of 2 nodes getting started\u001b[0m\n",
      "\u001b[34mINFO:root:Validation matrix has 2400 rows\u001b[0m\n",
      "\u001b[34m[13:34:49] WARNING: /workspace/src/learner.cc:328: \u001b[0m\n",
      "\u001b[34mParameters: { num_round } might not be used.\n",
      "  This may not be accurate due to some parameters are only used in language bindings but\n",
      "  passed down to XGBoost core.  Or some parameters are not used but slip through this\n",
      "  verification. Please open an issue if you find above cases.\u001b[0m\n",
      "\u001b[34m[13:34:49] WARNING: /workspace/src/gbm/gbtree.cc:128: Tree method is automatically selected to be 'approx' for distributed training.\u001b[0m\n",
      "\u001b[34mINFO:RabitTracker:[0]#011train-error:0.19183#011validation-error:0.18833\u001b[0m\n",
      "\u001b[34mINFO:RabitTracker:[1]#011train-error:0.19169#011validation-error:0.18708\u001b[0m\n",
      "\u001b[34mINFO:RabitTracker:[2]#011train-error:0.19211#011validation-error:0.18458\u001b[0m\n",
      "\u001b[34mINFO:RabitTracker:[3]#011train-error:0.19142#011validation-error:0.18458\u001b[0m\n",
      "\u001b[34mINFO:RabitTracker:[4]#011train-error:0.19211#011validation-error:0.18458\u001b[0m\n",
      "\u001b[34mINFO:RabitTracker:[5]#011train-error:0.19197#011validation-error:0.18458\u001b[0m\n",
      "\u001b[34mINFO:RabitTracker:[6]#011train-error:0.19183#011validation-error:0.18500\u001b[0m\n",
      "\u001b[34mINFO:RabitTracker:[7]#011train-error:0.19114#011validation-error:0.18500\u001b[0m\n",
      "\u001b[34mINFO:RabitTracker:[8]#011train-error:0.19086#011validation-error:0.18458\u001b[0m\n",
      "\u001b[34mINFO:RabitTracker:[9]#011train-error:0.19086#011validation-error:0.18458\u001b[0m\n",
      "\n",
      "2022-07-22 13:34:52 Training - Training image download completed. Training in progress.\u001b[34mINFO:RabitTracker:[10]#011train-error:0.19086#011validation-error:0.18500\u001b[0m\n",
      "\u001b[34mINFO:RabitTracker:[11]#011train-error:0.19044#011validation-error:0.18500\u001b[0m\n",
      "\u001b[34mINFO:RabitTracker:[12]#011train-error:0.18947#011validation-error:0.18417\u001b[0m\n",
      "\u001b[34mINFO:RabitTracker:[13]#011train-error:0.18975#011validation-error:0.18500\u001b[0m\n",
      "\u001b[34mINFO:RabitTracker:[14]#011train-error:0.18933#011validation-error:0.18500\u001b[0m\n",
      "\u001b[34mINFO:RabitTracker:[15]#011train-error:0.18808#011validation-error:0.18458\u001b[0m\n",
      "\u001b[34mINFO:RabitTracker:[16]#011train-error:0.18725#011validation-error:0.18625\u001b[0m\n",
      "\u001b[34mINFO:RabitTracker:[17]#011train-error:0.18683#011validation-error:0.18542\u001b[0m\n",
      "\u001b[34mINFO:RabitTracker:[18]#011train-error:0.18655#011validation-error:0.18625\u001b[0m\n",
      "\u001b[34mINFO:RabitTracker:[19]#011train-error:0.18628#011validation-error:0.18708\u001b[0m\n",
      "\u001b[34mINFO:RabitTracker:[20]#011train-error:0.18558#011validation-error:0.18708\u001b[0m\n",
      "\u001b[34mINFO:RabitTracker:[21]#011train-error:0.18405#011validation-error:0.18708\u001b[0m\n",
      "\u001b[34mINFO:RabitTracker:[22]#011train-error:0.18141#011validation-error:0.18875\u001b[0m\n",
      "\u001b[34mINFO:RabitTracker:[23]#011train-error:0.18086#011validation-error:0.19000\u001b[0m\n",
      "\u001b[34mINFO:RabitTracker:[24]#011train-error:0.18030#011validation-error:0.18875\u001b[0m\n",
      "\u001b[34mINFO:RabitTracker:[25]#011train-error:0.17919#011validation-error:0.19042\u001b[0m\n",
      "\u001b[34mINFO:RabitTracker:[26]#011train-error:0.17766#011validation-error:0.19000\u001b[0m\n",
      "\u001b[34mINFO:RabitTracker:[27]#011train-error:0.17739#011validation-error:0.19042\u001b[0m\n",
      "\u001b[34mINFO:RabitTracker:[28]#011train-error:0.17655#011validation-error:0.19083\u001b[0m\n",
      "\u001b[34mINFO:RabitTracker:[29]#011train-error:0.17530#011validation-error:0.19042\u001b[0m\n",
      "\u001b[34mINFO:RabitTracker:[30]#011train-error:0.17447#011validation-error:0.19375\u001b[0m\n",
      "\u001b[34mINFO:RabitTracker:[31]#011train-error:0.17419#011validation-error:0.19417\u001b[0m\n",
      "\u001b[34mINFO:RabitTracker:[32]#011train-error:0.17364#011validation-error:0.19458\u001b[0m\n",
      "\u001b[34mINFO:RabitTracker:[33]#011train-error:0.17280#011validation-error:0.19583\u001b[0m\n",
      "\u001b[34mINFO:RabitTracker:[34]#011train-error:0.17211#011validation-error:0.19750\u001b[0m\n",
      "\u001b[34mINFO:RabitTracker:[35]#011train-error:0.17183#011validation-error:0.19750\u001b[0m\n",
      "\u001b[34mINFO:RabitTracker:[36]#011train-error:0.16905#011validation-error:0.19792\u001b[0m\n",
      "\u001b[34mINFO:RabitTracker:[37]#011train-error:0.16766#011validation-error:0.19750\u001b[0m\n",
      "\u001b[34mINFO:RabitTracker:[38]#011train-error:0.16669#011validation-error:0.19875\u001b[0m\n",
      "\u001b[34mINFO:RabitTracker:[39]#011train-error:0.16516#011validation-error:0.19958\u001b[0m\n",
      "\u001b[34mINFO:RabitTracker:[40]#011train-error:0.16461#011validation-error:0.19958\u001b[0m\n",
      "\u001b[34mINFO:RabitTracker:[41]#011train-error:0.16377#011validation-error:0.19958\u001b[0m\n",
      "\u001b[34mINFO:RabitTracker:[42]#011train-error:0.16322#011validation-error:0.19875\u001b[0m\n",
      "\u001b[34mINFO:RabitTracker:[43]#011train-error:0.16252#011validation-error:0.20083\u001b[0m\n",
      "\u001b[34mINFO:RabitTracker:[44]#011train-error:0.16141#011validation-error:0.20042\u001b[0m\n",
      "\u001b[34mINFO:RabitTracker:[45]#011train-error:0.15988#011validation-error:0.20083\u001b[0m\n",
      "\u001b[34mINFO:RabitTracker:[46]#011train-error:0.15891#011validation-error:0.20042\u001b[0m\n",
      "\u001b[34mINFO:RabitTracker:[47]#011train-error:0.15794#011validation-error:0.20042\u001b[0m\n",
      "\u001b[34mINFO:RabitTracker:[48]#011train-error:0.15738#011validation-error:0.20083\u001b[0m\n",
      "\u001b[34mINFO:RabitTracker:[49]#011train-error:0.15641#011validation-error:0.20125\u001b[0m\n",
      "\u001b[34mINFO:RabitTracker:[50]#011train-error:0.15516#011validation-error:0.20083\u001b[0m\n",
      "\u001b[34mINFO:RabitTracker:[51]#011train-error:0.15405#011validation-error:0.20083\u001b[0m\n",
      "\u001b[34mINFO:RabitTracker:[52]#011train-error:0.15238#011validation-error:0.20125\u001b[0m\n",
      "\u001b[34mINFO:RabitTracker:[53]#011train-error:0.15169#011validation-error:0.20125\u001b[0m\n",
      "\u001b[34mINFO:RabitTracker:[54]#011train-error:0.15099#011validation-error:0.20250\u001b[0m\n",
      "\u001b[34mINFO:RabitTracker:[55]#011train-error:0.14933#011validation-error:0.20167\u001b[0m\n",
      "\u001b[34mINFO:RabitTracker:[56]#011train-error:0.14752#011validation-error:0.20250\u001b[0m\n",
      "\u001b[34mINFO:RabitTracker:[57]#011train-error:0.14613#011validation-error:0.20333\u001b[0m\n",
      "\u001b[34mINFO:RabitTracker:[58]#011train-error:0.14530#011validation-error:0.20292\u001b[0m\n",
      "\u001b[34mINFO:RabitTracker:[59]#011train-error:0.14530#011validation-error:0.20417\u001b[0m\n",
      "\u001b[34mINFO:RabitTracker:[60]#011train-error:0.14294#011validation-error:0.20500\u001b[0m\n",
      "\u001b[34mINFO:RabitTracker:[61]#011train-error:0.14058#011validation-error:0.20500\u001b[0m\n",
      "\u001b[34mINFO:RabitTracker:[62]#011train-error:0.13919#011validation-error:0.20542\u001b[0m\n",
      "\u001b[34mINFO:RabitTracker:[63]#011train-error:0.13849#011validation-error:0.20583\u001b[0m\n",
      "\u001b[34mINFO:RabitTracker:[64]#011train-error:0.13738#011validation-error:0.20583\u001b[0m\n",
      "\u001b[34mINFO:RabitTracker:[65]#011train-error:0.13669#011validation-error:0.20583\u001b[0m\n",
      "\u001b[34mINFO:RabitTracker:[66]#011train-error:0.13571#011validation-error:0.20625\u001b[0m\n",
      "\u001b[34mINFO:RabitTracker:[67]#011train-error:0.13405#011validation-error:0.20458\u001b[0m\n",
      "\u001b[34mINFO:RabitTracker:[68]#011train-error:0.13224#011validation-error:0.20750\u001b[0m\n",
      "\u001b[34mINFO:RabitTracker:[69]#011train-error:0.13196#011validation-error:0.20833\u001b[0m\n",
      "\u001b[34mINFO:RabitTracker:[70]#011train-error:0.13043#011validation-error:0.20958\u001b[0m\n",
      "\u001b[34mINFO:RabitTracker:[71]#011train-error:0.12932#011validation-error:0.21167\u001b[0m\n",
      "\u001b[34mINFO:RabitTracker:[72]#011train-error:0.12738#011validation-error:0.21167\u001b[0m\n",
      "\u001b[34mINFO:RabitTracker:[73]#011train-error:0.12682#011validation-error:0.21208\u001b[0m\n",
      "\u001b[34mINFO:RabitTracker:[74]#011train-error:0.12654#011validation-error:0.21208\u001b[0m\n",
      "\u001b[34mINFO:RabitTracker:[75]#011train-error:0.12474#011validation-error:0.21167\u001b[0m\n",
      "\u001b[34mINFO:RabitTracker:[76]#011train-error:0.12335#011validation-error:0.21333\u001b[0m\n",
      "\u001b[34mINFO:RabitTracker:[77]#011train-error:0.12307#011validation-error:0.21417\u001b[0m\n",
      "\u001b[34mINFO:RabitTracker:[78]#011train-error:0.12238#011validation-error:0.21250\u001b[0m\n",
      "\u001b[34mINFO:RabitTracker:[79]#011train-error:0.12141#011validation-error:0.21417\u001b[0m\n",
      "\u001b[34mINFO:RabitTracker:[80]#011train-error:0.12085#011validation-error:0.21458\u001b[0m\n",
      "\u001b[34mINFO:RabitTracker:[81]#011train-error:0.11877#011validation-error:0.21625\u001b[0m\n",
      "\u001b[34mINFO:RabitTracker:[82]#011train-error:0.11877#011validation-error:0.21583\u001b[0m\n",
      "\u001b[34mINFO:RabitTracker:[83]#011train-error:0.11807#011validation-error:0.21542\u001b[0m\n",
      "\u001b[34mINFO:RabitTracker:[84]#011train-error:0.11682#011validation-error:0.21625\u001b[0m\n",
      "\u001b[34mINFO:RabitTracker:[85]#011train-error:0.11627#011validation-error:0.21458\u001b[0m\n",
      "\u001b[34mINFO:RabitTracker:[86]#011train-error:0.11515#011validation-error:0.21417\u001b[0m\n",
      "\u001b[34mINFO:RabitTracker:[87]#011train-error:0.11432#011validation-error:0.21375\u001b[0m\n",
      "\u001b[34mINFO:RabitTracker:[88]#011train-error:0.11349#011validation-error:0.21208\u001b[0m\n",
      "\u001b[34mINFO:RabitTracker:[89]#011train-error:0.11307#011validation-error:0.21292\u001b[0m\n",
      "\u001b[34mINFO:RabitTracker:[90]#011train-error:0.11238#011validation-error:0.21417\u001b[0m\n",
      "\u001b[34mINFO:RabitTracker:[91]#011train-error:0.11196#011validation-error:0.21542\u001b[0m\n",
      "\n",
      "2022-07-22 13:35:37 Uploading - Uploading generated training model\u001b[34mINFO:RabitTracker:[92]#011train-error:0.11057#011validation-error:0.21292\u001b[0m\n",
      "\u001b[34mINFO:RabitTracker:[93]#011train-error:0.10877#011validation-error:0.21458\u001b[0m\n",
      "\u001b[34mINFO:RabitTracker:[94]#011train-error:0.10751#011validation-error:0.21417\u001b[0m\n",
      "\u001b[34mINFO:RabitTracker:[95]#011train-error:0.10613#011validation-error:0.21625\u001b[0m\n",
      "\u001b[34mINFO:RabitTracker:[96]#011train-error:0.10488#011validation-error:0.21583\u001b[0m\n",
      "\u001b[34mINFO:RabitTracker:[97]#011train-error:0.10432#011validation-error:0.21417\u001b[0m\n",
      "\u001b[34mINFO:RabitTracker:[98]#011train-error:0.10418#011validation-error:0.21500\u001b[0m\n",
      "\u001b[34mINFO:RabitTracker:[99]#011train-error:0.10363#011validation-error:0.21500\u001b[0m\n",
      "\u001b[34mINFO:RabitTracker:@tracker All nodes finishes job\u001b[0m\n",
      "\u001b[34mINFO:RabitTracker:@tracker 43.15209984779358 secs between node start and job finish\u001b[0m\n",
      "\n",
      "2022-07-22 13:35:53 Completed - Training job completed\n",
      "Training seconds: 254\n",
      "Billable seconds: 254\n"
     ]
    }
   ],
   "source": [
    "# Treinamento\n",
    "xgb.fit({'train': dados_treino, 'validation': dados_teste})"
   ]
  },
  {
   "cell_type": "markdown",
   "metadata": {},
   "source": [
    "## Endpoint a Partir do Modelo"
   ]
  },
  {
   "cell_type": "markdown",
   "metadata": {},
   "source": [
    "Vamos gerar o Endpoint a partir do modelo para que possamos utilizá-lo na pratica. Isto é, irei converter o modelo para um formato em que ele possa ser usado no dia a dia. Essa etapa é extremamente necessária para que posssamos utilizar o modelo que treinamos, seja para utilizar o Predictor ou criar uma API.\n",
    "\n",
    "A nomenclatura Endpoint é amplamente utilizada pelo SageMaker, se consultarmos a documentação é exatamente esta nomenclatura que iremos encontrar.\n"
   ]
  },
  {
   "cell_type": "code",
   "execution_count": 18,
   "metadata": {},
   "outputs": [
    {
     "name": "stdout",
     "output_type": "stream",
     "text": [
      "----!"
     ]
    }
   ],
   "source": [
    "# Deploy do modelo treinado criando o endpoint\n",
    "# https://docs.aws.amazon.com/pt_br/sagemaker/latest/dg/xgboost.html\n",
    "xgb_predictor = xgb.deploy(initial_instance_count = 2, instance_type = 'ml.m5.xlarge')"
   ]
  },
  {
   "cell_type": "markdown",
   "metadata": {},
   "source": [
    "## Previsões a Partir do Endpoint"
   ]
  },
  {
   "cell_type": "markdown",
   "metadata": {},
   "source": [
    "Agora que temos o deploy do nosso modelo, podemos realizar previsões. Primeiro temos que criar um objeto da classe CSVSerializer. Este objeto vai permitir que serializamos o modelo para ser executado."
   ]
  },
  {
   "cell_type": "code",
   "execution_count": 19,
   "metadata": {},
   "outputs": [],
   "source": [
    "csv_serializer = CSVSerializer()"
   ]
  },
  {
   "cell_type": "markdown",
   "metadata": {},
   "source": [
    "Agora irei instanciar um objeto da classe Predictor passando como parâmetros o `Endpoint` gerado no tópico anteior e o `CSVSerializer` que foi definido."
   ]
  },
  {
   "cell_type": "code",
   "execution_count": 20,
   "metadata": {},
   "outputs": [],
   "source": [
    "predictor = Predictor(endpoint_name = xgb_predictor.endpoint_name, serializer = csv_serializer)"
   ]
  },
  {
   "cell_type": "markdown",
   "metadata": {},
   "source": [
    "Carregando os dados de teste direto do bucket S3."
   ]
  },
  {
   "cell_type": "code",
   "execution_count": 21,
   "metadata": {},
   "outputs": [],
   "source": [
    "df_teste = pd.read_csv(raiz + 'teste.csv', names = ['class', 'bmi', 'diastolic_bp_change', 'systolic_bp_change', 'respiratory_rate'])"
   ]
  },
  {
   "cell_type": "code",
   "execution_count": 22,
   "metadata": {},
   "outputs": [
    {
     "data": {
      "text/html": [
       "<div>\n",
       "<style scoped>\n",
       "    .dataframe tbody tr th:only-of-type {\n",
       "        vertical-align: middle;\n",
       "    }\n",
       "\n",
       "    .dataframe tbody tr th {\n",
       "        vertical-align: top;\n",
       "    }\n",
       "\n",
       "    .dataframe thead th {\n",
       "        text-align: right;\n",
       "    }\n",
       "</style>\n",
       "<table border=\"1\" class=\"dataframe\">\n",
       "  <thead>\n",
       "    <tr style=\"text-align: right;\">\n",
       "      <th></th>\n",
       "      <th>class</th>\n",
       "      <th>bmi</th>\n",
       "      <th>diastolic_bp_change</th>\n",
       "      <th>systolic_bp_change</th>\n",
       "      <th>respiratory_rate</th>\n",
       "    </tr>\n",
       "  </thead>\n",
       "  <tbody>\n",
       "    <tr>\n",
       "      <th>0</th>\n",
       "      <td>0</td>\n",
       "      <td>0.454357</td>\n",
       "      <td>-0.085644</td>\n",
       "      <td>0.057265</td>\n",
       "      <td>-0.118441</td>\n",
       "    </tr>\n",
       "    <tr>\n",
       "      <th>1</th>\n",
       "      <td>0</td>\n",
       "      <td>-0.664451</td>\n",
       "      <td>0.413848</td>\n",
       "      <td>0.484622</td>\n",
       "      <td>0.909034</td>\n",
       "    </tr>\n",
       "    <tr>\n",
       "      <th>2</th>\n",
       "      <td>1</td>\n",
       "      <td>-1.075770</td>\n",
       "      <td>-1.483066</td>\n",
       "      <td>-1.557970</td>\n",
       "      <td>0.576501</td>\n",
       "    </tr>\n",
       "    <tr>\n",
       "      <th>3</th>\n",
       "      <td>0</td>\n",
       "      <td>0.314809</td>\n",
       "      <td>1.162859</td>\n",
       "      <td>-0.744431</td>\n",
       "      <td>0.962562</td>\n",
       "    </tr>\n",
       "    <tr>\n",
       "      <th>4</th>\n",
       "      <td>0</td>\n",
       "      <td>1.561199</td>\n",
       "      <td>-0.490421</td>\n",
       "      <td>0.019759</td>\n",
       "      <td>-1.230564</td>\n",
       "    </tr>\n",
       "  </tbody>\n",
       "</table>\n",
       "</div>"
      ],
      "text/plain": [
       "   class       bmi  diastolic_bp_change  systolic_bp_change  respiratory_rate\n",
       "0      0  0.454357            -0.085644            0.057265         -0.118441\n",
       "1      0 -0.664451             0.413848            0.484622          0.909034\n",
       "2      1 -1.075770            -1.483066           -1.557970          0.576501\n",
       "3      0  0.314809             1.162859           -0.744431          0.962562\n",
       "4      0  1.561199            -0.490421            0.019759         -1.230564"
      ]
     },
     "execution_count": 22,
     "metadata": {},
     "output_type": "execute_result"
    }
   ],
   "source": [
    "df_teste.head()"
   ]
  },
  {
   "cell_type": "code",
   "execution_count": 23,
   "metadata": {},
   "outputs": [
    {
     "data": {
      "text/html": [
       "<div>\n",
       "<style scoped>\n",
       "    .dataframe tbody tr th:only-of-type {\n",
       "        vertical-align: middle;\n",
       "    }\n",
       "\n",
       "    .dataframe tbody tr th {\n",
       "        vertical-align: top;\n",
       "    }\n",
       "\n",
       "    .dataframe thead th {\n",
       "        text-align: right;\n",
       "    }\n",
       "</style>\n",
       "<table border=\"1\" class=\"dataframe\">\n",
       "  <thead>\n",
       "    <tr style=\"text-align: right;\">\n",
       "      <th></th>\n",
       "      <th>class</th>\n",
       "      <th>bmi</th>\n",
       "      <th>diastolic_bp_change</th>\n",
       "      <th>systolic_bp_change</th>\n",
       "      <th>respiratory_rate</th>\n",
       "    </tr>\n",
       "  </thead>\n",
       "  <tbody>\n",
       "    <tr>\n",
       "      <th>2130</th>\n",
       "      <td>0</td>\n",
       "      <td>0.108698</td>\n",
       "      <td>0.90109</td>\n",
       "      <td>1.861043</td>\n",
       "      <td>-0.125463</td>\n",
       "    </tr>\n",
       "  </tbody>\n",
       "</table>\n",
       "</div>"
      ],
      "text/plain": [
       "      class       bmi  diastolic_bp_change  systolic_bp_change  \\\n",
       "2130      0  0.108698              0.90109            1.861043   \n",
       "\n",
       "      respiratory_rate  \n",
       "2130         -0.125463  "
      ]
     },
     "execution_count": 23,
     "metadata": {},
     "output_type": "execute_result"
    }
   ],
   "source": [
    "X = df_teste.sample(1)\n",
    "X"
   ]
  },
  {
   "cell_type": "code",
   "execution_count": 24,
   "metadata": {},
   "outputs": [
    {
     "data": {
      "text/plain": [
       "array([ 0.10869849,  0.90109004,  1.86104276, -0.1254631 ])"
      ]
     },
     "execution_count": 24,
     "metadata": {},
     "output_type": "execute_result"
    }
   ],
   "source": [
    "X = X.values[0]\n",
    "X[1:]"
   ]
  },
  {
   "cell_type": "code",
   "execution_count": 25,
   "metadata": {},
   "outputs": [
    {
     "data": {
      "text/plain": [
       "array([ 0.10869849,  0.90109004,  1.86104276, -0.1254631 ])"
      ]
     },
     "execution_count": 25,
     "metadata": {},
     "output_type": "execute_result"
    }
   ],
   "source": [
    "paciente = X[1:]\n",
    "paciente"
   ]
  },
  {
   "cell_type": "code",
   "execution_count": 27,
   "metadata": {},
   "outputs": [
    {
     "name": "stdout",
     "output_type": "stream",
     "text": [
      "Previsão = Não tem problema de pressão\n",
      "\n"
     ]
    }
   ],
   "source": [
    "# Faz a previsão de um paciente\n",
    "predicted_class_prob = predictor.predict(paciente).decode('utf-8')\n",
    "if float(predicted_class_prob) < 0.5:\n",
    "    print('Previsão = Não tem problema de pressão')\n",
    "else:\n",
    "    print('Previsão = Tem problema de pressão')\n",
    "print()"
   ]
  },
  {
   "cell_type": "markdown",
   "metadata": {},
   "source": [
    "## Avaliando o Modelo"
   ]
  },
  {
   "cell_type": "markdown",
   "metadata": {},
   "source": [
    "Agora vamos avaliar o modelo. O objeto `predictor` do Amazon SageMaker espera receber como entrada um único registro, portanto, para realizarmos a avaliação do modelo, não podemos simplesmente passar o array de valores como parâmetro.\n",
    "\n",
    "É necessário fazer um loop e prever registro por registro, em seguida, armazenar o resultado em um novo array."
   ]
  },
  {
   "cell_type": "code",
   "execution_count": 28,
   "metadata": {},
   "outputs": [],
   "source": [
    "# Previsão de todos os pacientes no dataset de teste\n",
    "predictions = []\n",
    "expected = []\n",
    "correct = 0\n",
    "for row in df_teste.values:\n",
    "    expected_class = row[0]\n",
    "    payload = row[1:]\n",
    "    predicted_class_prob = predictor.predict(payload).decode('utf-8')\n",
    "    predicted_class = 1\n",
    "    if float(predicted_class_prob) < 0.5:\n",
    "        predicted_class = 0  \n",
    "    if predicted_class == expected_class:\n",
    "        correct += 1\n",
    "    predictions.append(predicted_class)\n",
    "    expected.append(expected_class)"
   ]
  },
  {
   "cell_type": "markdown",
   "metadata": {},
   "source": [
    "Como no notebook anterior chegamos a conclusão de que o dataset é simulado e não representa a realidade, eu irei simplesmente calcular a acurácia simples aqui só para ter um resultado de saída."
   ]
  },
  {
   "cell_type": "code",
   "execution_count": 29,
   "metadata": {},
   "outputs": [
    {
     "name": "stdout",
     "output_type": "stream",
     "text": [
      "Acurácia = 78.50%\n"
     ]
    }
   ],
   "source": [
    "print('Acurácia = {:.2f}%'.format(correct/len(predictions) * 100))"
   ]
  },
  {
   "cell_type": "markdown",
   "metadata": {},
   "source": [
    "#### Confusion Matrix"
   ]
  },
  {
   "cell_type": "markdown",
   "metadata": {},
   "source": [
    "Exibindo o resultado por matriz de confusão."
   ]
  },
  {
   "cell_type": "code",
   "execution_count": 30,
   "metadata": {},
   "outputs": [
    {
     "data": {
      "text/html": [
       "<div>\n",
       "<style scoped>\n",
       "    .dataframe tbody tr th:only-of-type {\n",
       "        vertical-align: middle;\n",
       "    }\n",
       "\n",
       "    .dataframe tbody tr th {\n",
       "        vertical-align: top;\n",
       "    }\n",
       "\n",
       "    .dataframe thead th {\n",
       "        text-align: right;\n",
       "    }\n",
       "</style>\n",
       "<table border=\"1\" class=\"dataframe\">\n",
       "  <thead>\n",
       "    <tr style=\"text-align: right;\">\n",
       "      <th>Predicted</th>\n",
       "      <th>0</th>\n",
       "      <th>1</th>\n",
       "      <th>All</th>\n",
       "    </tr>\n",
       "    <tr>\n",
       "      <th>Actual</th>\n",
       "      <th></th>\n",
       "      <th></th>\n",
       "      <th></th>\n",
       "    </tr>\n",
       "  </thead>\n",
       "  <tbody>\n",
       "    <tr>\n",
       "      <th>0.0</th>\n",
       "      <td>1871</td>\n",
       "      <td>89</td>\n",
       "      <td>1960</td>\n",
       "    </tr>\n",
       "    <tr>\n",
       "      <th>1.0</th>\n",
       "      <td>427</td>\n",
       "      <td>13</td>\n",
       "      <td>440</td>\n",
       "    </tr>\n",
       "    <tr>\n",
       "      <th>All</th>\n",
       "      <td>2298</td>\n",
       "      <td>102</td>\n",
       "      <td>2400</td>\n",
       "    </tr>\n",
       "  </tbody>\n",
       "</table>\n",
       "</div>"
      ],
      "text/plain": [
       "Predicted     0    1   All\n",
       "Actual                    \n",
       "0.0        1871   89  1960\n",
       "1.0         427   13   440\n",
       "All        2298  102  2400"
      ]
     },
     "execution_count": 30,
     "metadata": {},
     "output_type": "execute_result"
    }
   ],
   "source": [
    "expected = pd.Series(np.array(expected))\n",
    "predictions = pd.Series(np.array(predictions))\n",
    "pd.crosstab(expected, predictions, rownames = ['Actual'], colnames = ['Predicted'], margins = True)"
   ]
  },
  {
   "cell_type": "markdown",
   "metadata": {},
   "source": [
    "<h2>Considerações Finais</h2>"
   ]
  },
  {
   "cell_type": "markdown",
   "metadata": {},
   "source": [
    "Nessa etapa carreguei os dados a partir do Bucket S3, depois criei uma imagem Docker chamada de Container para a criação de uma máquina virtual leve.\n",
    "\n",
    "Em seguida criei o Estimador com o algoritmo XGBoost e utilizando as máquinas disponibilizadas pela Amazon para realizar o treinamento. E defini os Hiperparâmetros para a realização do treinamento do modelo.\n",
    "\n",
    "Após realizar o treinamento do modelo, criei o Endpoint para colocar o modelo em produção efetivamente.\n",
    "\n",
    "Na próxima parte irei criar um notebook especificamente para detalhar sobre a criação do Endpoint com o intuito de criar uma API."
   ]
  }
 ],
 "metadata": {
  "instance_type": "ml.t3.medium",
  "kernelspec": {
   "display_name": "Python 3.8.9 64-bit",
   "language": "python",
   "name": "python3"
  },
  "language_info": {
   "codemirror_mode": {
    "name": "ipython",
    "version": 3
   },
   "file_extension": ".py",
   "mimetype": "text/x-python",
   "name": "python",
   "nbconvert_exporter": "python",
   "pygments_lexer": "ipython3",
   "version": "3.8.9"
  },
  "vscode": {
   "interpreter": {
    "hash": "b081a66ee97bd2b6a16f43955f1d810b7ea816d6eaeb65e157ef9e038445f0c6"
   }
  }
 },
 "nbformat": 4,
 "nbformat_minor": 4
}

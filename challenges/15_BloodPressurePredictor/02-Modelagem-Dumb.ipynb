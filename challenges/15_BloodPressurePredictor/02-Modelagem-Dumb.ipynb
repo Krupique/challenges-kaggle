{
 "cells": [
  {
   "cell_type": "markdown",
   "metadata": {},
   "source": [
    "# Modelo Para Previsão de Doenças Usando Registros Médicos Eletrônicos - Parte 2</font>"
   ]
  },
  {
   "cell_type": "markdown",
   "metadata": {},
   "source": [
    "<h2>Primeira Versão do Modelo</h2>\n",
    "\n",
    "Agora que temos os dados devidamente processados, limpos e transformados. É hora de aplicar técnicas de Machine Learning com o objetivo de encontrar o padrão nos dados históricos para conseguir prever o futuro com base nesses padrões.\n",
    "\n",
    "Esta parte 2 tem um caráter mais introdutório aos dados estudados. Vamos aplicar alguns algoritmos sem muitos critérios. O objetivo é realizar uma primeira modelagem e a partir disso tentar melhorar com técnicas mais avançadas.\n",
    "\n",
    "Irei aplicar três técnicas:\n",
    "* **KNN**: Vamos verificar se a relação por proximidade de vizinhança se mostra boa o suficiente;\n",
    "* **Regressão Logística**: Um método linear generalizado. A regressão logística é útil para modelar a probabilidade de um evento ocorrer em função de outros fatores.\n",
    "* **Random Forest**: E também irei utilizar a técnicas de árvores de decisão."
   ]
  },
  {
   "cell_type": "markdown",
   "metadata": {},
   "source": [
    "<h3>Importações das bibliotecas</h3>"
   ]
  },
  {
   "cell_type": "code",
   "execution_count": 1,
   "metadata": {},
   "outputs": [],
   "source": [
    "from sklearn.neighbors import KNeighborsClassifier\n",
    "from sklearn.ensemble import RandomForestClassifier\n",
    "from sklearn.linear_model import LogisticRegression\n",
    "from sklearn.metrics import confusion_matrix, f1_score, accuracy_score\n",
    "import pandas as pd\n",
    "\n",
    "from imblearn.under_sampling import RandomUnderSampler"
   ]
  },
  {
   "cell_type": "markdown",
   "metadata": {},
   "source": [
    "<h3>Carrega os Dados Pré-Processados</h3>\n",
    "\n",
    "Vamos carregar os dados já transformados e padronizados que foram salvos no notebook anterior diretamente do bucket S3."
   ]
  },
  {
   "cell_type": "code",
   "execution_count": null,
   "metadata": {},
   "outputs": [],
   "source": [
    "from sagemaker import get_execution_role\n",
    "role = get_execution_role()\n",
    "print(role)\n",
    "\n",
    "# Altere para o nome do seu bucket\n",
    "s3_bucket = 'dsa-deploy-app'\n",
    "prefix = 'dados'"
   ]
  },
  {
   "cell_type": "code",
   "execution_count": null,
   "metadata": {},
   "outputs": [],
   "source": [
    "raiz = 's3://{}/{}/'.format(s3_bucket, prefix)\n",
    "print(raiz)"
   ]
  },
  {
   "cell_type": "code",
   "execution_count": null,
   "metadata": {},
   "outputs": [],
   "source": [
    "#Dados de treino\n",
    "df_treino = pd.read_csv(raiz + 'treino.csv', names = ['class', 'bmi', 'diastolic_bp_change', 'systolic_bp_change', 'respiratory_rate'])\n",
    "display(df_treino.head())\n",
    "\n",
    "#Dados de teste\n",
    "df_teste = pd.read_csv(raiz + 'teste.csv', names = ['class', 'bmi', 'diastolic_bp_change', 'systolic_bp_change', 'respiratory_rate'])\n",
    "display(df_teste.head())"
   ]
  },
  {
   "cell_type": "markdown",
   "metadata": {},
   "source": [
    "**Carregando os dados de maneira local**"
   ]
  },
  {
   "cell_type": "code",
   "execution_count": 2,
   "metadata": {},
   "outputs": [
    {
     "data": {
      "text/html": [
       "<div>\n",
       "<style scoped>\n",
       "    .dataframe tbody tr th:only-of-type {\n",
       "        vertical-align: middle;\n",
       "    }\n",
       "\n",
       "    .dataframe tbody tr th {\n",
       "        vertical-align: top;\n",
       "    }\n",
       "\n",
       "    .dataframe thead th {\n",
       "        text-align: right;\n",
       "    }\n",
       "</style>\n",
       "<table border=\"1\" class=\"dataframe\">\n",
       "  <thead>\n",
       "    <tr style=\"text-align: right;\">\n",
       "      <th></th>\n",
       "      <th>class</th>\n",
       "      <th>bmi</th>\n",
       "      <th>diastolic_bp_change</th>\n",
       "      <th>systolic_bp_change</th>\n",
       "      <th>respiratory_rate</th>\n",
       "    </tr>\n",
       "  </thead>\n",
       "  <tbody>\n",
       "    <tr>\n",
       "      <th>0</th>\n",
       "      <td>1</td>\n",
       "      <td>-0.086157</td>\n",
       "      <td>-1.336905</td>\n",
       "      <td>1.309491</td>\n",
       "      <td>0.314870</td>\n",
       "    </tr>\n",
       "    <tr>\n",
       "      <th>1</th>\n",
       "      <td>0</td>\n",
       "      <td>-0.368844</td>\n",
       "      <td>-1.336905</td>\n",
       "      <td>-1.376230</td>\n",
       "      <td>0.807519</td>\n",
       "    </tr>\n",
       "    <tr>\n",
       "      <th>2</th>\n",
       "      <td>0</td>\n",
       "      <td>1.215651</td>\n",
       "      <td>0.735390</td>\n",
       "      <td>1.426434</td>\n",
       "      <td>-0.276827</td>\n",
       "    </tr>\n",
       "    <tr>\n",
       "      <th>3</th>\n",
       "      <td>0</td>\n",
       "      <td>-1.485990</td>\n",
       "      <td>-1.336905</td>\n",
       "      <td>-1.376230</td>\n",
       "      <td>-1.195959</td>\n",
       "    </tr>\n",
       "    <tr>\n",
       "      <th>4</th>\n",
       "      <td>0</td>\n",
       "      <td>-1.509101</td>\n",
       "      <td>-1.336905</td>\n",
       "      <td>-1.376230</td>\n",
       "      <td>-0.031728</td>\n",
       "    </tr>\n",
       "  </tbody>\n",
       "</table>\n",
       "</div>"
      ],
      "text/plain": [
       "   class       bmi  diastolic_bp_change  systolic_bp_change  respiratory_rate\n",
       "0      1 -0.086157            -1.336905            1.309491          0.314870\n",
       "1      0 -0.368844            -1.336905           -1.376230          0.807519\n",
       "2      0  1.215651             0.735390            1.426434         -0.276827\n",
       "3      0 -1.485990            -1.336905           -1.376230         -1.195959\n",
       "4      0 -1.509101            -1.336905           -1.376230         -0.031728"
      ]
     },
     "metadata": {},
     "output_type": "display_data"
    },
    {
     "data": {
      "text/html": [
       "<div>\n",
       "<style scoped>\n",
       "    .dataframe tbody tr th:only-of-type {\n",
       "        vertical-align: middle;\n",
       "    }\n",
       "\n",
       "    .dataframe tbody tr th {\n",
       "        vertical-align: top;\n",
       "    }\n",
       "\n",
       "    .dataframe thead th {\n",
       "        text-align: right;\n",
       "    }\n",
       "</style>\n",
       "<table border=\"1\" class=\"dataframe\">\n",
       "  <thead>\n",
       "    <tr style=\"text-align: right;\">\n",
       "      <th></th>\n",
       "      <th>class</th>\n",
       "      <th>bmi</th>\n",
       "      <th>diastolic_bp_change</th>\n",
       "      <th>systolic_bp_change</th>\n",
       "      <th>respiratory_rate</th>\n",
       "    </tr>\n",
       "  </thead>\n",
       "  <tbody>\n",
       "    <tr>\n",
       "      <th>0</th>\n",
       "      <td>0</td>\n",
       "      <td>-1.207477</td>\n",
       "      <td>-0.328664</td>\n",
       "      <td>-1.128684</td>\n",
       "      <td>0.542470</td>\n",
       "    </tr>\n",
       "    <tr>\n",
       "      <th>1</th>\n",
       "      <td>0</td>\n",
       "      <td>1.386485</td>\n",
       "      <td>-0.633929</td>\n",
       "      <td>-0.674439</td>\n",
       "      <td>-0.614477</td>\n",
       "    </tr>\n",
       "    <tr>\n",
       "      <th>2</th>\n",
       "      <td>0</td>\n",
       "      <td>1.013063</td>\n",
       "      <td>-0.054860</td>\n",
       "      <td>-0.096215</td>\n",
       "      <td>-1.195959</td>\n",
       "    </tr>\n",
       "    <tr>\n",
       "      <th>3</th>\n",
       "      <td>0</td>\n",
       "      <td>0.084261</td>\n",
       "      <td>0.480612</td>\n",
       "      <td>-0.732890</td>\n",
       "      <td>0.046293</td>\n",
       "    </tr>\n",
       "    <tr>\n",
       "      <th>4</th>\n",
       "      <td>0</td>\n",
       "      <td>-1.069768</td>\n",
       "      <td>-0.723112</td>\n",
       "      <td>0.199918</td>\n",
       "      <td>-1.195959</td>\n",
       "    </tr>\n",
       "  </tbody>\n",
       "</table>\n",
       "</div>"
      ],
      "text/plain": [
       "   class       bmi  diastolic_bp_change  systolic_bp_change  respiratory_rate\n",
       "0      0 -1.207477            -0.328664           -1.128684          0.542470\n",
       "1      0  1.386485            -0.633929           -0.674439         -0.614477\n",
       "2      0  1.013063            -0.054860           -0.096215         -1.195959\n",
       "3      0  0.084261             0.480612           -0.732890          0.046293\n",
       "4      0 -1.069768            -0.723112            0.199918         -1.195959"
      ]
     },
     "metadata": {},
     "output_type": "display_data"
    }
   ],
   "source": [
    "#Dados de treino\n",
    "df_treino = pd.read_csv('dados/treino.csv', names = ['class', 'bmi', 'diastolic_bp_change', 'systolic_bp_change', 'respiratory_rate'])\n",
    "display(df_treino.head())\n",
    "\n",
    "#Dados de teste\n",
    "df_teste = pd.read_csv('dados/teste.csv', names = ['class', 'bmi', 'diastolic_bp_change', 'systolic_bp_change', 'respiratory_rate'])\n",
    "display(df_teste.head())"
   ]
  },
  {
   "cell_type": "markdown",
   "metadata": {},
   "source": [
    "<h4>Separando variáveis preditoras da variável target</h4>"
   ]
  },
  {
   "cell_type": "code",
   "execution_count": 3,
   "metadata": {},
   "outputs": [
    {
     "data": {
      "text/plain": [
       "0       1\n",
       "1       0\n",
       "2       0\n",
       "3       0\n",
       "4       0\n",
       "       ..\n",
       "7194    1\n",
       "7195    0\n",
       "7196    0\n",
       "7197    0\n",
       "7198    0\n",
       "Name: class, Length: 7199, dtype: int64"
      ]
     },
     "execution_count": 3,
     "metadata": {},
     "output_type": "execute_result"
    }
   ],
   "source": [
    "X_treino = df_treino[['bmi', 'diastolic_bp_change', 'systolic_bp_change', 'respiratory_rate']].values\n",
    "y_treino = df_treino['class']\n",
    "\n",
    "X_teste = df_teste[['bmi', 'diastolic_bp_change', 'systolic_bp_change', 'respiratory_rate']]\n",
    "y_teste = df_teste['class']\n",
    "\n",
    "y_treino"
   ]
  },
  {
   "cell_type": "markdown",
   "metadata": {},
   "source": [
    "<h4>Balanceando o dataset</h4>\n",
    "\n",
    "Como o dataset está bem desbalanceado, isso pode prejudicar nas previsões do modelo, portanto, iremos aplicar técnicas para balancear o dataset com o objetivo de deixá-lo balanceado e dessa forma não prejudicar o modelo."
   ]
  },
  {
   "cell_type": "code",
   "execution_count": 4,
   "metadata": {},
   "outputs": [
    {
     "data": {
      "text/plain": [
       "0    5816\n",
       "1    1383\n",
       "Name: class, dtype: int64"
      ]
     },
     "execution_count": 4,
     "metadata": {},
     "output_type": "execute_result"
    }
   ],
   "source": [
    "y_treino.value_counts()"
   ]
  },
  {
   "cell_type": "code",
   "execution_count": 5,
   "metadata": {},
   "outputs": [],
   "source": [
    "rus = RandomUnderSampler()\n",
    "X_res, y_res = rus.fit_resample(X_treino, y_treino)"
   ]
  },
  {
   "cell_type": "code",
   "execution_count": 6,
   "metadata": {},
   "outputs": [
    {
     "data": {
      "text/plain": [
       "0    1383\n",
       "1    1383\n",
       "Name: class, dtype: int64"
      ]
     },
     "execution_count": 6,
     "metadata": {},
     "output_type": "execute_result"
    }
   ],
   "source": [
    "y_res.value_counts()"
   ]
  },
  {
   "cell_type": "markdown",
   "metadata": {},
   "source": [
    "---\n",
    "<h2>Primeira modalagem</h2>"
   ]
  },
  {
   "cell_type": "markdown",
   "metadata": {},
   "source": [
    "<h3>KNN - K Nearest Neighbors</h3>"
   ]
  },
  {
   "cell_type": "code",
   "execution_count": 7,
   "metadata": {},
   "outputs": [
    {
     "name": "stdout",
     "output_type": "stream",
     "text": [
      "F1 score em Teste = 26.23%\n",
      "Acurácia em Teste = 49.38%\n"
     ]
    },
    {
     "name": "stderr",
     "output_type": "stream",
     "text": [
      "C:\\Users\\krupc\\AppData\\Roaming\\Python\\Python39\\site-packages\\sklearn\\base.py:443: UserWarning: X has feature names, but KNeighborsClassifier was fitted without feature names\n",
      "  warnings.warn(\n"
     ]
    }
   ],
   "source": [
    "knn = KNeighborsClassifier()\n",
    "knn.fit(X_res, y_res)\n",
    "\n",
    "preds = knn.predict(X_teste)\n",
    "f_score = f1_score(preds, y_teste)\n",
    "ac_score = accuracy_score(preds, y_teste)\n",
    "\n",
    "print('F1 score em Teste = {:.2f}%'.format(f_score * 100))\n",
    "print('Acurácia em Teste = {:.2f}%'.format(ac_score * 100))"
   ]
  },
  {
   "cell_type": "markdown",
   "metadata": {},
   "source": [
    "<h3>Logistic Regression</h3>"
   ]
  },
  {
   "cell_type": "code",
   "execution_count": 8,
   "metadata": {},
   "outputs": [
    {
     "name": "stdout",
     "output_type": "stream",
     "text": [
      "F1 score em Teste = 26.22%\n",
      "Acurácia em Teste = 47.25%\n"
     ]
    },
    {
     "name": "stderr",
     "output_type": "stream",
     "text": [
      "C:\\Users\\krupc\\AppData\\Roaming\\Python\\Python39\\site-packages\\sklearn\\base.py:443: UserWarning: X has feature names, but LogisticRegression was fitted without feature names\n",
      "  warnings.warn(\n"
     ]
    }
   ],
   "source": [
    "logisticReg = LogisticRegression()\n",
    "logisticReg.fit(X_res, y_res)\n",
    "\n",
    "preds = logisticReg.predict(X_teste)\n",
    "f_score = f1_score(preds, y_teste)\n",
    "ac_score = accuracy_score(preds, y_teste)\n",
    "\n",
    "print('F1 score em Teste = {:.2f}%'.format(f_score * 100))\n",
    "print('Acurácia em Teste = {:.2f}%'.format(ac_score * 100))"
   ]
  },
  {
   "cell_type": "markdown",
   "metadata": {},
   "source": [
    "<h3>Random Forest</h3>"
   ]
  },
  {
   "cell_type": "code",
   "execution_count": 9,
   "metadata": {},
   "outputs": [
    {
     "name": "stdout",
     "output_type": "stream",
     "text": [
      "F1 score em Teste = 25.55%\n",
      "Acurácia em Teste = 49.00%\n"
     ]
    },
    {
     "name": "stderr",
     "output_type": "stream",
     "text": [
      "C:\\Users\\krupc\\AppData\\Roaming\\Python\\Python39\\site-packages\\sklearn\\base.py:443: UserWarning: X has feature names, but RandomForestClassifier was fitted without feature names\n",
      "  warnings.warn(\n"
     ]
    }
   ],
   "source": [
    "randomForest = RandomForestClassifier()\n",
    "randomForest.fit(X_res, y_res)\n",
    "\n",
    "preds = randomForest.predict(X_teste)\n",
    "f_score = f1_score(preds, y_teste)\n",
    "ac_score = accuracy_score(preds, y_teste)\n",
    "\n",
    "print('F1 score em Teste = {:.2f}%'.format(f_score * 100))\n",
    "print('Acurácia em Teste = {:.2f}%'.format(ac_score * 100))"
   ]
  },
  {
   "cell_type": "markdown",
   "metadata": {},
   "source": [
    "---\n",
    "<h2>Considerações Finais</h2>"
   ]
  },
  {
   "cell_type": "markdown",
   "metadata": {},
   "source": [
    "Vemos que a precisão dos modelos foram horríveis em todos os casos. Se não tivessimos balanceado o dataset, a acurácia teria sido de mais de 80%. Quais são as conclusões até aqui:\n",
    "* Balancear o dataset foi muito importante para entender como os dados realmente se comportam;\n",
    "* Esses dados estão enviesados, após todos os estudos eu chego a conclusão de que ou os dados foram simulados ou o dataset não condizem com a realidade. Baseado em que:\n",
    "    1. A maioria das pessoas possuiam magreza extrema;\n",
    "    2. A relação entre todas as categorias de atributos estavam proporcionalmente balanceados, e isso é bem difícil de acontecer na realidade;\n",
    "    3. Mesmo balanceando o dataset, o modelo não conseguiu aprender a relação entre os dados;"
   ]
  },
  {
   "cell_type": "markdown",
   "metadata": {},
   "source": [
    "---\n",
    "<h2>Continua...</h2>\n",
    "\n",
    "O objetivo nos próximos notebooks será estudar o Amazon SageMaker.\n",
    "* Vamos criar e treinar um modelo no ambiente em nuvem;\n",
    "* Vamos gerar um endpoint para realizar previsões a partir do modelo criado;"
   ]
  }
 ],
 "metadata": {
  "instance_type": "ml.t3.medium",
  "kernelspec": {
   "display_name": "Python 3.9.7 ('base')",
   "language": "python",
   "name": "python3"
  },
  "language_info": {
   "codemirror_mode": {
    "name": "ipython",
    "version": 3
   },
   "file_extension": ".py",
   "mimetype": "text/x-python",
   "name": "python",
   "nbconvert_exporter": "python",
   "pygments_lexer": "ipython3",
   "version": "3.9.7"
  },
  "vscode": {
   "interpreter": {
    "hash": "ad2bdc8ecc057115af97d19610ffacc2b4e99fae6737bb82f5d7fb13d2f2c186"
   }
  }
 },
 "nbformat": 4,
 "nbformat_minor": 4
}

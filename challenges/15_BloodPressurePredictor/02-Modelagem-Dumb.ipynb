{
 "cells": [
  {
   "cell_type": "markdown",
   "metadata": {},
   "source": [
    "# Modelo Para Previsão de Doenças Usando Registros Médicos Eletrônicos - Parte 2"
   ]
  },
  {
   "cell_type": "markdown",
   "metadata": {},
   "source": [
    "<h2>Primeira Versão do Modelo</h2>\n",
    "\n",
    "Agora que temos os dados devidamente processados, limpos e transformados. É hora de aplicar técnicas de Machine Learning com o objetivo de encontrar o padrão nos dados históricos para conseguir prever o futuro com base nesses padrões.\n",
    "\n",
    "Esta parte 2 tem um caráter mais introdutório aos dados estudados. Vamos aplicar alguns algoritmos sem muitos critérios. O objetivo é realizar uma primeira modelagem e a partir disso tentar melhorar com técnicas mais avançadas.\n",
    "\n",
    "Irei aplicar três técnicas:\n",
    "* **KNN**: Vamos verificar se a relação por proximidade de vizinhança se mostra boa o suficiente;\n",
    "* **Regressão Logística**: Um método linear generalizado. A regressão logística é útil para modelar a probabilidade de um evento ocorrer em função de outros fatores.\n",
    "* **Random Forest**: E também irei utilizar a técnicas de árvores de decisão."
   ]
  },
  {
   "cell_type": "markdown",
   "metadata": {},
   "source": [
    "<h3>Importações das bibliotecas</h3>"
   ]
  },
  {
   "cell_type": "code",
   "execution_count": 7,
   "metadata": {},
   "outputs": [],
   "source": [
    "from sklearn.neighbors import KNeighborsClassifier\n",
    "from sklearn.ensemble import RandomForestClassifier\n",
    "from sklearn.linear_model import LogisticRegression\n",
    "from sklearn.metrics import confusion_matrix, f1_score, accuracy_score\n",
    "import pandas as pd\n",
    "\n",
    "#from imblearn.under_sampling import RandomUnderSampler"
   ]
  },
  {
   "cell_type": "markdown",
   "metadata": {},
   "source": [
    "<h3>Carrega os Dados Pré-Processados</h3>\n",
    "\n",
    "Vamos carregar os dados já transformados e padronizados que foram salvos no notebook anterior diretamente do bucket S3."
   ]
  },
  {
   "cell_type": "code",
   "execution_count": 8,
   "metadata": {},
   "outputs": [
    {
     "name": "stdout",
     "output_type": "stream",
     "text": [
      "arn:aws:iam::351371806175:role/service-role/AmazonSageMaker-ExecutionRole-20220722T092670\n"
     ]
    }
   ],
   "source": [
    "from sagemaker import get_execution_role\n",
    "role = get_execution_role()\n",
    "print(role)\n",
    "\n",
    "# Altere para o nome do seu bucket\n",
    "s3_bucket = 'krupck-bucket-bloodpressure'\n",
    "prefix = 'dados'"
   ]
  },
  {
   "cell_type": "code",
   "execution_count": 9,
   "metadata": {},
   "outputs": [
    {
     "name": "stdout",
     "output_type": "stream",
     "text": [
      "s3://krupck-bucket-bloodpressure/dados/\n"
     ]
    }
   ],
   "source": [
    "raiz = 's3://{}/{}/'.format(s3_bucket, prefix)\n",
    "print(raiz)"
   ]
  },
  {
   "cell_type": "code",
   "execution_count": 10,
   "metadata": {},
   "outputs": [
    {
     "data": {
      "text/html": [
       "<div>\n",
       "<style scoped>\n",
       "    .dataframe tbody tr th:only-of-type {\n",
       "        vertical-align: middle;\n",
       "    }\n",
       "\n",
       "    .dataframe tbody tr th {\n",
       "        vertical-align: top;\n",
       "    }\n",
       "\n",
       "    .dataframe thead th {\n",
       "        text-align: right;\n",
       "    }\n",
       "</style>\n",
       "<table border=\"1\" class=\"dataframe\">\n",
       "  <thead>\n",
       "    <tr style=\"text-align: right;\">\n",
       "      <th></th>\n",
       "      <th>class</th>\n",
       "      <th>bmi</th>\n",
       "      <th>diastolic_bp_change</th>\n",
       "      <th>systolic_bp_change</th>\n",
       "      <th>respiratory_rate</th>\n",
       "    </tr>\n",
       "  </thead>\n",
       "  <tbody>\n",
       "    <tr>\n",
       "      <th>0</th>\n",
       "      <td>0</td>\n",
       "      <td>-0.745894</td>\n",
       "      <td>-1.483066</td>\n",
       "      <td>-1.557970</td>\n",
       "      <td>-1.230564</td>\n",
       "    </tr>\n",
       "    <tr>\n",
       "      <th>1</th>\n",
       "      <td>1</td>\n",
       "      <td>1.103977</td>\n",
       "      <td>-1.483066</td>\n",
       "      <td>0.484622</td>\n",
       "      <td>0.839808</td>\n",
       "    </tr>\n",
       "    <tr>\n",
       "      <th>2</th>\n",
       "      <td>0</td>\n",
       "      <td>-1.938942</td>\n",
       "      <td>-1.483066</td>\n",
       "      <td>-1.557970</td>\n",
       "      <td>-0.777549</td>\n",
       "    </tr>\n",
       "    <tr>\n",
       "      <th>3</th>\n",
       "      <td>0</td>\n",
       "      <td>1.315880</td>\n",
       "      <td>-0.490421</td>\n",
       "      <td>1.228612</td>\n",
       "      <td>0.752458</td>\n",
       "    </tr>\n",
       "    <tr>\n",
       "      <th>4</th>\n",
       "      <td>0</td>\n",
       "      <td>0.112748</td>\n",
       "      <td>0.708359</td>\n",
       "      <td>-0.744431</td>\n",
       "      <td>1.523915</td>\n",
       "    </tr>\n",
       "  </tbody>\n",
       "</table>\n",
       "</div>"
      ],
      "text/plain": [
       "   class       bmi  diastolic_bp_change  systolic_bp_change  respiratory_rate\n",
       "0      0 -0.745894            -1.483066           -1.557970         -1.230564\n",
       "1      1  1.103977            -1.483066            0.484622          0.839808\n",
       "2      0 -1.938942            -1.483066           -1.557970         -0.777549\n",
       "3      0  1.315880            -0.490421            1.228612          0.752458\n",
       "4      0  0.112748             0.708359           -0.744431          1.523915"
      ]
     },
     "metadata": {},
     "output_type": "display_data"
    },
    {
     "data": {
      "text/html": [
       "<div>\n",
       "<style scoped>\n",
       "    .dataframe tbody tr th:only-of-type {\n",
       "        vertical-align: middle;\n",
       "    }\n",
       "\n",
       "    .dataframe tbody tr th {\n",
       "        vertical-align: top;\n",
       "    }\n",
       "\n",
       "    .dataframe thead th {\n",
       "        text-align: right;\n",
       "    }\n",
       "</style>\n",
       "<table border=\"1\" class=\"dataframe\">\n",
       "  <thead>\n",
       "    <tr style=\"text-align: right;\">\n",
       "      <th></th>\n",
       "      <th>class</th>\n",
       "      <th>bmi</th>\n",
       "      <th>diastolic_bp_change</th>\n",
       "      <th>systolic_bp_change</th>\n",
       "      <th>respiratory_rate</th>\n",
       "    </tr>\n",
       "  </thead>\n",
       "  <tbody>\n",
       "    <tr>\n",
       "      <th>0</th>\n",
       "      <td>0</td>\n",
       "      <td>0.454357</td>\n",
       "      <td>-0.085644</td>\n",
       "      <td>0.057265</td>\n",
       "      <td>-0.118441</td>\n",
       "    </tr>\n",
       "    <tr>\n",
       "      <th>1</th>\n",
       "      <td>0</td>\n",
       "      <td>-0.664451</td>\n",
       "      <td>0.413848</td>\n",
       "      <td>0.484622</td>\n",
       "      <td>0.909034</td>\n",
       "    </tr>\n",
       "    <tr>\n",
       "      <th>2</th>\n",
       "      <td>1</td>\n",
       "      <td>-1.075770</td>\n",
       "      <td>-1.483066</td>\n",
       "      <td>-1.557970</td>\n",
       "      <td>0.576501</td>\n",
       "    </tr>\n",
       "    <tr>\n",
       "      <th>3</th>\n",
       "      <td>0</td>\n",
       "      <td>0.314809</td>\n",
       "      <td>1.162859</td>\n",
       "      <td>-0.744431</td>\n",
       "      <td>0.962562</td>\n",
       "    </tr>\n",
       "    <tr>\n",
       "      <th>4</th>\n",
       "      <td>0</td>\n",
       "      <td>1.561199</td>\n",
       "      <td>-0.490421</td>\n",
       "      <td>0.019759</td>\n",
       "      <td>-1.230564</td>\n",
       "    </tr>\n",
       "  </tbody>\n",
       "</table>\n",
       "</div>"
      ],
      "text/plain": [
       "   class       bmi  diastolic_bp_change  systolic_bp_change  respiratory_rate\n",
       "0      0  0.454357            -0.085644            0.057265         -0.118441\n",
       "1      0 -0.664451             0.413848            0.484622          0.909034\n",
       "2      1 -1.075770            -1.483066           -1.557970          0.576501\n",
       "3      0  0.314809             1.162859           -0.744431          0.962562\n",
       "4      0  1.561199            -0.490421            0.019759         -1.230564"
      ]
     },
     "metadata": {},
     "output_type": "display_data"
    }
   ],
   "source": [
    "#Dados de treino\n",
    "df_treino = pd.read_csv(raiz + 'treino.csv', names = ['class', 'bmi', 'diastolic_bp_change', 'systolic_bp_change', 'respiratory_rate'])\n",
    "display(df_treino.head())\n",
    "\n",
    "#Dados de teste\n",
    "df_teste = pd.read_csv(raiz + 'teste.csv', names = ['class', 'bmi', 'diastolic_bp_change', 'systolic_bp_change', 'respiratory_rate'])\n",
    "display(df_teste.head())"
   ]
  },
  {
   "cell_type": "markdown",
   "metadata": {},
   "source": [
    "**Carregando os dados de maneira local**"
   ]
  },
  {
   "cell_type": "code",
   "execution_count": null,
   "metadata": {},
   "outputs": [],
   "source": [
    "#Dados de treino\n",
    "df_treino = pd.read_csv('dados/treino.csv', names = ['class', 'bmi', 'diastolic_bp_change', 'systolic_bp_change', 'respiratory_rate'])\n",
    "display(df_treino.head())\n",
    "\n",
    "#Dados de teste\n",
    "df_teste = pd.read_csv('dados/teste.csv', names = ['class', 'bmi', 'diastolic_bp_change', 'systolic_bp_change', 'respiratory_rate'])\n",
    "display(df_teste.head())"
   ]
  },
  {
   "cell_type": "markdown",
   "metadata": {},
   "source": [
    "<h4>Separando variáveis preditoras da variável target</h4>"
   ]
  },
  {
   "cell_type": "code",
   "execution_count": null,
   "metadata": {},
   "outputs": [],
   "source": [
    "X_treino = df_treino[['bmi', 'diastolic_bp_change', 'systolic_bp_change', 'respiratory_rate']].values\n",
    "y_treino = df_treino['class']\n",
    "\n",
    "X_teste = df_teste[['bmi', 'diastolic_bp_change', 'systolic_bp_change', 'respiratory_rate']]\n",
    "y_teste = df_teste['class']\n",
    "\n",
    "y_treino"
   ]
  },
  {
   "cell_type": "markdown",
   "metadata": {},
   "source": [
    "<h4>Balanceando o dataset</h4>\n",
    "\n",
    "Como o dataset está bem desbalanceado, isso pode prejudicar nas previsões do modelo, portanto, iremos aplicar técnicas para balancear o dataset com o objetivo de deixá-lo balanceado e dessa forma não prejudicar o modelo."
   ]
  },
  {
   "cell_type": "code",
   "execution_count": null,
   "metadata": {},
   "outputs": [],
   "source": [
    "y_treino.value_counts()"
   ]
  },
  {
   "cell_type": "code",
   "execution_count": null,
   "metadata": {},
   "outputs": [],
   "source": [
    "rus = RandomUnderSampler()\n",
    "X_res, y_res = rus.fit_resample(X_treino, y_treino)"
   ]
  },
  {
   "cell_type": "code",
   "execution_count": null,
   "metadata": {},
   "outputs": [],
   "source": [
    "y_res.value_counts()"
   ]
  },
  {
   "cell_type": "markdown",
   "metadata": {},
   "source": [
    "---\n",
    "<h2>Primeira modalagem</h2>"
   ]
  },
  {
   "cell_type": "markdown",
   "metadata": {},
   "source": [
    "<h3>KNN - K Nearest Neighbors</h3>"
   ]
  },
  {
   "cell_type": "code",
   "execution_count": null,
   "metadata": {},
   "outputs": [],
   "source": [
    "knn = KNeighborsClassifier()\n",
    "knn.fit(X_res, y_res)\n",
    "\n",
    "preds = knn.predict(X_teste)\n",
    "f_score = f1_score(preds, y_teste)\n",
    "ac_score = accuracy_score(preds, y_teste)\n",
    "\n",
    "print('F1 score em Teste = {:.2f}%'.format(f_score * 100))\n",
    "print('Acurácia em Teste = {:.2f}%'.format(ac_score * 100))"
   ]
  },
  {
   "cell_type": "markdown",
   "metadata": {},
   "source": [
    "<h3>Logistic Regression</h3>"
   ]
  },
  {
   "cell_type": "code",
   "execution_count": null,
   "metadata": {},
   "outputs": [],
   "source": [
    "logisticReg = LogisticRegression()\n",
    "logisticReg.fit(X_res, y_res)\n",
    "\n",
    "preds = logisticReg.predict(X_teste)\n",
    "f_score = f1_score(preds, y_teste)\n",
    "ac_score = accuracy_score(preds, y_teste)\n",
    "\n",
    "print('F1 score em Teste = {:.2f}%'.format(f_score * 100))\n",
    "print('Acurácia em Teste = {:.2f}%'.format(ac_score * 100))"
   ]
  },
  {
   "cell_type": "markdown",
   "metadata": {},
   "source": [
    "<h3>Random Forest</h3>"
   ]
  },
  {
   "cell_type": "code",
   "execution_count": null,
   "metadata": {},
   "outputs": [],
   "source": [
    "randomForest = RandomForestClassifier()\n",
    "randomForest.fit(X_res, y_res)\n",
    "\n",
    "preds = randomForest.predict(X_teste)\n",
    "f_score = f1_score(preds, y_teste)\n",
    "ac_score = accuracy_score(preds, y_teste)\n",
    "\n",
    "print('F1 score em Teste = {:.2f}%'.format(f_score * 100))\n",
    "print('Acurácia em Teste = {:.2f}%'.format(ac_score * 100))"
   ]
  },
  {
   "cell_type": "markdown",
   "metadata": {},
   "source": [
    "---\n",
    "<h2>Considerações Finais</h2>"
   ]
  },
  {
   "cell_type": "markdown",
   "metadata": {},
   "source": [
    "Vemos que a precisão dos modelos foram horríveis em todos os casos. Se não tivessimos balanceado o dataset, a acurácia teria sido de mais de 80%. Quais são as conclusões até aqui:\n",
    "* Balancear o dataset foi muito importante para entender como os dados realmente se comportam;\n",
    "* Esses dados estão enviesados, após todos os estudos eu chego a conclusão de que ou os dados foram simulados ou o dataset não condizem com a realidade. Baseado em que:\n",
    "    1. A maioria das pessoas possuiam magreza extrema;\n",
    "    2. A relação entre todas as categorias de atributos estavam proporcionalmente balanceados, e isso é bem difícil de acontecer na realidade;\n",
    "    3. Mesmo balanceando o dataset, o modelo não conseguiu aprender a relação entre os dados;"
   ]
  },
  {
   "cell_type": "markdown",
   "metadata": {},
   "source": [
    "---\n",
    "<h2>Continua...</h2>\n",
    "\n",
    "O objetivo nos próximos notebooks será estudar o Amazon SageMaker.\n",
    "* Vamos criar e treinar um modelo no ambiente em nuvem;\n",
    "* Vamos gerar um endpoint para realizar previsões a partir do modelo criado;"
   ]
  }
 ],
 "metadata": {
  "instance_type": "ml.t3.medium",
  "kernelspec": {
   "display_name": "Python 3.9.7 ('base')",
   "language": "python",
   "name": "python3"
  },
  "language_info": {
   "codemirror_mode": {
    "name": "ipython",
    "version": 3
   },
   "file_extension": ".py",
   "mimetype": "text/x-python",
   "name": "python",
   "nbconvert_exporter": "python",
   "pygments_lexer": "ipython3",
   "version": "3.9.7"
  },
  "vscode": {
   "interpreter": {
    "hash": "ad2bdc8ecc057115af97d19610ffacc2b4e99fae6737bb82f5d7fb13d2f2c186"
   }
  }
 },
 "nbformat": 4,
 "nbformat_minor": 4
}

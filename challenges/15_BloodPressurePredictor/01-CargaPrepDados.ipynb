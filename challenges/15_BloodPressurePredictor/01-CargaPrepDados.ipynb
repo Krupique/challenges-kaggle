{
 "cells": [
  {
   "cell_type": "markdown",
   "metadata": {},
   "source": [
    "# Modelo Para Previsão de Doenças Usando Registros Médicos Eletrônicos</font>"
   ]
  },
  {
   "cell_type": "markdown",
   "metadata": {},
   "source": [
    "## Sumário"
   ]
  },
  {
   "cell_type": "markdown",
   "metadata": {},
   "source": [
    "<h2>INTRODUÇÃO</h2>"
   ]
  },
  {
   "cell_type": "markdown",
   "metadata": {},
   "source": [
    "**<h3>Definição do problema</h3>**\n",
    "\n",
    "Embora seja um assunto muito comum, a pressão arterial ainda gera muitas dúvidas, principalmente em relação à hipertensão, que é uma condição de saúde em que a pressão exercida nas artérias fica acima do valor de referência considerado normal. Mas para entender essa alteração orgânica, é preciso saber o que é pressão arterial sistólica e diastólica.\n",
    "\n",
    "A medição da pressão arterial identifica a intensidade com que o fluxo de sangue passa pelas suas artérias. Para isso, os valores de referência são representados em milímetros de mercúrio (mmHg), sendo composto por duas medidas, denominadas como sistólica e diastólica.\n",
    "\n",
    "**<h4>O que é pressão arterial?</h4>**\n",
    "É a pressão que o sangue exerce sobre as paredes das artérias. Para entender melhor sobre o funcionamento da pressão arterial, podemos fazer uma analogia com uma mangueira vazia e murcha. Quando abrimos a água, a pressão dentro dela fica elevada e as suas paredes, distendidas. Pelo fato de ter uma saída para a água que entrou, por mais que se abra a torneira, isso impede que a pressão no interior da mangueira fique muito alta.\n",
    "\n",
    "Mas no corpo humano, o sistema circulatório é fechado. Assim, quando a pressão dentro dos vasos fica elevada, a reação do organismo é expandir os vasos sanguíneos para se adaptar ao volume sanguíneo circulante.\n",
    "\n",
    "\n",
    "**<h4>Vasoconstrição e vasodilatação</h4>**\n",
    "Graças a um sistema de autorregulagem, os vasos sanguíneos se dilatam ou se comprimem de acordo com o volume de sangue que circula, com o objetivo de manter a pressão arterial equilibrada. Dessa forma, quando o volume diminui um pouco, os vasos se comprimem, ocorrendo a vasoconstrição e quando ele aumenta um pouco, os vasos se dilatam (vasodilatação).\n",
    "\n",
    "Mas as artérias têm um limite de expansão e constrição. Assim, quando o volume de sangue diminui ou aumenta de maneira excessiva, elas não conseguem manter a pressão arterial equilibrada, podendo ocorrer a hipotensão ou a hipertensão.\n",
    "\n",
    "**<h4>O que é pressão arterial sistólica e diastólica?</h4>**\n",
    "A sístole e a diástole dizem respeito a dois estágios do ciclo cardíaco. A pressão arterial sistólica (PAS), também conhecida como “pressão máxima”, se refere à pressão do sangue no momento que o coração se contrai para impulsionar o sangue para as artérias. Quanto mais o coração se contrai, maior é a pressão sistólica.\n",
    "\n",
    "Já a pressão arterial diastólica (PAD) ou “pressão mínima” ocorre no início do ciclo cardíaco e se refere à capacidade de adaptação ao volume de sangue que o coração ejetou.\n",
    "\n",
    "Como é feita a leitura da pressão arterial?\n",
    "\n",
    "A leitura da pressão arterial é medida por milímetros de mercúrio (mmHg). Dessa forma, se o paciente apresentar uma pressão arterial igual ou maior que 140/90 mmHg, isso significa que a sua pressão máxima sobre a parede da artéria (sistólica) é de 140 mmHg e a pressão mínima (diastólica) é de 90 mmHg, caracterizando uma condição de hipertensão.\n",
    "\n",
    "No que diz respeito aos batimentos cardíacos, que podem ser auscultados por meio de um estetoscópio, o primeiro batimento identifica o início da sístole e o segundo, o início da diástole, que na verdade é representada pela quinta fase de koroctoff.\n",
    "\n",
    "Faixas normais e anormais\n",
    "\n",
    "A medida sistólica normal em crianças é realizada com base em percentis. Já em adultos, pode ficar entre 90 e 120 mmHg e a diastólica pode variar entre 60 e 80 mmHg. Os casos considerados anormais são identificados com medições acima ou abaixo dessas faixas e têm relação direta com o estilo de vida das pessoas.\n",
    "\n",
    "\n",
    "**<h4>O que é hipertensão arterial?</h4>**\n",
    "A hipertensão arterial é o aumento anormal e prolongado da pressão que o sangue faz quando circula pelas artérias do corpo. Por isso, é conhecida como “pressão alta”. Essa condição é identificada por níveis iguais ou superiores a 140 por 90 mmHG. Por isso, é importante que os dois valores não alcancem essa marca ou a ultrapassem.\n",
    "\n",
    "Isso ocorre porque as artérias têm uma programação preestabelecida para trabalhar com determinados valores de pressão. Quando elas ficam muito tempo sujeitas a níveis de pressão elevados, o excesso de tensão exercido sobre suas paredes começa a provocar sérias lesões.\n",
    "\n",
    "Essas placas, além de reduzirem a elasticidade da artéria, também diminuem o calibre interno, contribuindo para a oclusão da circulação por trombos, acidente conhecido como trombose. Além disso, a pressão arterial em excesso força o trabalho do coração, que necessita bombear o sangue e superar uma resistência maior. Ao longo do tempo o coração começa a se dilatar, provocando uma insuficiência cardíaca.\n",
    "\n",
    "\n",
    "**<h4>A pressão sistólica e a diastólica têm a mesma importância para a saúde?</h4>**\n",
    "Segundo estudos, a hipertensão sistólica apresenta uma relação mais direta com problemas cardiovasculares. No entanto, a pressão diastólica não deve ser subestimada, pois também é capaz de identificar resultados negativos. A pesquisa analisou mais de 1,3 milhão de pacientes ambulatoriais.\n",
    "\n",
    "Os resultados apontaram que em longo prazo, tanto a hipertensão sistólica quanto a diastólica se relacionam com problemas cardiovasculares em eventos, como infarto agudo do miocárdio e AVC isquêmico ou hemorrágico.\n",
    "\n",
    "Nesse sentido, a atenção deve ser dirigida para ambas as pressões (máxima e mínima), no diagnóstico e no tratamento da hipertensão, para aumentar as probabilidades de sucesso em terapias que visam a redução de riscos para a população.\n",
    "\n",
    "Como vimos, a sístole e a diástole se referem a dois estágios do ciclo cardíaco que nos leva a entender o que é pressão arterial sistólica e diastólica e como ocorre a hipertensão arterial. Nesse sentido, é fundamental ficarmos atentos às medições e buscar ajuda profissional assim que percebermos qualquer elevação da pressão, já que ela pode estar relacionada ao estresse e diversas doenças como o Diabetes, entre outras.\n",
    "\n",
    "**<h4>Referências:</h4>**\n",
    "* [1] Omron Healthcare. **O que é pressão sistólica e diastólica?**. Disponível em: <https://conteudo.omronbrasil.com/o-que-e-pressao-arterial-sistolica-2/>\n"
   ]
  },
  {
   "cell_type": "markdown",
   "metadata": {},
   "source": [
    "---\n",
    "<h3>Objetivos do modelo final</h3>\n",
    "Dado o contexto sobre pressão arterial sanguínea sitólica e diastólica, o projeto atual tem por objetivo uma análise descritiva sobre o conjunto de dados com intuito de encontrar padrões que levaram os indivíduo a desenvolverem ou não problema de pressão.\n",
    "\n",
    "O projeto também contempla a criação de um modelo de Machine Learning capaz de prever se o indivíduo vai ou não apresentar a doença com base nos dados históricos."
   ]
  },
  {
   "cell_type": "markdown",
   "metadata": {},
   "source": [
    "---\n",
    "<h3>Objetivos do projeto</h3>\n",
    "Contudo, o desenvolvimento deste projeto tem um caráter que vai além da resolução de um problema em específico. O objetivo principal é a implantação deste projeto em um ambiente em nuvem.<br/>\n",
    "\n",
    "O ambiente escolhido foi o ambiente em nuvem da Amazon AWS chamado de SageMaker. O Amazon SageMaker é um serviço que facilita criar, treinar e efetivar modelos de machine learning (ML), de forma rápida e confiável. Ele é totalmente gerenciado pela AWS, que remove o trabalho pesado de cada etapa, para que o usuário possa desenvolver modelos de ML de alta qualidade."
   ]
  },
  {
   "cell_type": "markdown",
   "metadata": {},
   "source": [
    "---\n",
    "<h3>Objetivos pessoais</h3>\n",
    "Como objetivo pessoal, este projeto vai agregar conhecimento sobre o desenvolvimento em Cloud Computing. Tema que está em bastante evidência atualmente e em constante expansão pelo mundo todo. \n",
    "\n",
    "A Amazon é uma das líderes no mercado mundial de Serviços em Nuvem. A Amazon Web Services (AWS) é a plataforma de nuvem mais adotada e mais abrangente do mundo, oferecendo mais de 200 serviços completos de datacenters em todo o mundo. Milhões de clientes, incluindo as startups de crescimento mais rápido, grandes empresas e os maiores órgãos governamentais, estão usando a AWS para reduzirem seus custos, ficarem mais ágeis e inovarem mais rapidamente.\n",
    "\n",
    "Portanto, este projeto tende a agregar bastante no meu conhecimento profissional."
   ]
  },
  {
   "cell_type": "markdown",
   "metadata": {},
   "source": [
    "---\n",
    "<h3>Sobre o Dataset</h3>\n",
    "\n",
    "O conjunto de dados que vamos trabalhar não é um conjunto extenso ou complexo, ele possui apenas cinco atributos, sendo quatro deles variáveis preditoras e uma variável target. O dataset se trata do monitoramento da pressão arterial do indivíduo durante um Teste Ergométrico, portanto as variáveis relacionadas a pressão arterial são as variações de valores quando o paciente estava em repouso e quando exposto a atividade física.\n",
    "Além disso, o dataset possui cerca de 9900 registros. Descrevendo cada variável, temos:\n",
    "<br/>\n",
    "<br/>\n",
    "\n",
    "---\n",
    "**bmi: Body Mass Index (BMI) em português Índice de Massa Corporal (IMC)**:<br/>\n",
    "\n",
    "O IMC (Índice de Massa Corporal) é um cálculo simples que permite avaliar se a pessoa está dentro do peso que é considerado ideal para a sua altura. O IMC é uma fórmula utilizada por vários profissionais de saúde, incluindo médicos, enfermeiros e nutricionistas, para saber, de uma forma rápida, se a pessoa precisa ganhar ou perder peso.\n",
    "\n",
    "Embora seja uma ferramenta muito comum, o IMC não é considerada a forma mais exata de avaliar o peso, já que não leva em consideração a composição corporal. Por isso, é comum que no caso de atletas (que possuem uma maior quantidade de massa muscular) seja aconselhado o uso de outras técnicas, como a bioimpedância, para uma avaliação mais detalhada do peso.\n",
    "\n",
    "Tabela de IMC para adultos:<br/>\n",
    "Este é o peso corporal recomendado pela Organização Mundial da Saúde (OMS) com base nos valores de IMC para adultos. É usado para homens e mulheres, com 18 anos ou mais.\n",
    "\n",
    "| Category          | BMI range - kg/m2 |\n",
    "|-------------------|-------------------|\n",
    "| Severe Thinness   | < 16              |\n",
    "| Moderate Thinness | 16 - 17           |\n",
    "| Mild Thinness     | 17 - 18.5         |\n",
    "| Normal            | 18.5 - 25         |\n",
    "| Overweight        | 25 - 30           |\n",
    "| Obese Class I     | 30 - 35           |\n",
    "| Obese Class II    | 35 - 40           |\n",
    "| Obese Class III   | > 40              |\n",
    "\n",
    "---\n",
    "\n",
    "**diastolic_bp_change: Pressão arterial diastólica**:<br/>\n",
    "Pressão arterial mínima. Tanto as pressões sistólicas quanto diastólicas em crianças são calculadas com base nos percentis. Para a pressão diastólica em adultos os valores considerados normais variam entre: **60 e 80 mmHg**.\n",
    "\n",
    "**systolic_bp_change: Pressão arterial sistólica**:\n",
    "<br/>Pressão arterial máxima. Os valores dentro da normalidade para os adultos estão entre: **90 e 120 mmHg**.\n",
    "\n",
    "---\n",
    "\n",
    "**respiratory_rate: Avaliação respiratória**:<br/>\n",
    "É uma nota determinada com a variação da respiração do paciente quando exposto a atividade física.\n",
    "\n",
    "---\n",
    "\n",
    "**class: classe**:<br/>\n",
    "A classe é a variável target do dataset. Possui dois valores: [**YES** e **NO**] e deterina se o indivíduo possui ou não problema de pressão.\n",
    "\n"
   ]
  },
  {
   "cell_type": "markdown",
   "metadata": {},
   "source": [
    "## Parte 1 - Carga e Preparação dos Dados"
   ]
  },
  {
   "cell_type": "markdown",
   "metadata": {},
   "source": [
    "## Imports"
   ]
  },
  {
   "cell_type": "code",
   "execution_count": 1,
   "metadata": {},
   "outputs": [],
   "source": [
    "# Imports\n",
    "import random\n",
    "#import sagemaker\n",
    "import pandas as pd\n",
    "import pylab as pl\n",
    "import matplotlib.pyplot as plt\n",
    "from matplotlib import cm\n",
    "import seaborn as sns\n",
    "from sklearn.preprocessing import LabelEncoder, StandardScaler\n",
    "from sklearn.model_selection import train_test_split\n",
    "%matplotlib inline\n",
    "import warnings\n",
    "warnings.simplefilter(action=\"ignore\", category=FutureWarning)"
   ]
  },
  {
   "cell_type": "markdown",
   "metadata": {},
   "source": [
    "## Carga e Preparação dos Dados"
   ]
  },
  {
   "cell_type": "markdown",
   "metadata": {},
   "source": [
    "**Importando os dados com o SageMaker Studio**\n",
    "\n",
    "Assistir a aula 12 - Lab - Carregando Dados no Amazon S3"
   ]
  },
  {
   "cell_type": "code",
   "execution_count": null,
   "metadata": {},
   "outputs": [],
   "source": [
    "from sagemaker import get_execution_role\n",
    "role = get_execution_role()\n",
    "print(role)"
   ]
  },
  {
   "cell_type": "code",
   "execution_count": null,
   "metadata": {},
   "outputs": [],
   "source": [
    "# Altere para o nome do seu bucket\n",
    "s3_bucket = 'dsa-deploy-app'\n",
    "prefix = 'dados'"
   ]
  },
  {
   "cell_type": "code",
   "execution_count": null,
   "metadata": {},
   "outputs": [],
   "source": [
    "raiz = 's3://{}/{}/'.format(s3_bucket, prefix)\n",
    "print(raiz)"
   ]
  },
  {
   "cell_type": "code",
   "execution_count": null,
   "metadata": {},
   "outputs": [],
   "source": [
    "df = pd.read_csv(raiz + 'dataset.csv')"
   ]
  },
  {
   "cell_type": "markdown",
   "metadata": {},
   "source": [
    "**Importando os dados de maneira local**"
   ]
  },
  {
   "cell_type": "code",
   "execution_count": 2,
   "metadata": {},
   "outputs": [],
   "source": [
    "df = pd.read_csv('dados/dataset.csv')"
   ]
  },
  {
   "cell_type": "markdown",
   "metadata": {},
   "source": [
    "**Continuando a EDA**"
   ]
  },
  {
   "cell_type": "code",
   "execution_count": 4,
   "metadata": {},
   "outputs": [
    {
     "data": {
      "text/html": [
       "<div>\n",
       "<style scoped>\n",
       "    .dataframe tbody tr th:only-of-type {\n",
       "        vertical-align: middle;\n",
       "    }\n",
       "\n",
       "    .dataframe tbody tr th {\n",
       "        vertical-align: top;\n",
       "    }\n",
       "\n",
       "    .dataframe thead th {\n",
       "        text-align: right;\n",
       "    }\n",
       "</style>\n",
       "<table border=\"1\" class=\"dataframe\">\n",
       "  <thead>\n",
       "    <tr style=\"text-align: right;\">\n",
       "      <th></th>\n",
       "      <th>class</th>\n",
       "      <th>bmi</th>\n",
       "      <th>diastolic_bp_change</th>\n",
       "      <th>systolic_bp_change</th>\n",
       "      <th>respiratory_rate</th>\n",
       "    </tr>\n",
       "  </thead>\n",
       "  <tbody>\n",
       "    <tr>\n",
       "      <th>0</th>\n",
       "      <td>No</td>\n",
       "      <td>16.192875</td>\n",
       "      <td>14.000000</td>\n",
       "      <td>19.000000</td>\n",
       "      <td>2.146700</td>\n",
       "    </tr>\n",
       "    <tr>\n",
       "      <th>1</th>\n",
       "      <td>No</td>\n",
       "      <td>13.383857</td>\n",
       "      <td>4.000000</td>\n",
       "      <td>3.000000</td>\n",
       "      <td>0.000000</td>\n",
       "    </tr>\n",
       "    <tr>\n",
       "      <th>2</th>\n",
       "      <td>No</td>\n",
       "      <td>28.554000</td>\n",
       "      <td>6.000000</td>\n",
       "      <td>12.000000</td>\n",
       "      <td>2.065591</td>\n",
       "    </tr>\n",
       "    <tr>\n",
       "      <th>3</th>\n",
       "      <td>No</td>\n",
       "      <td>3.536667</td>\n",
       "      <td>5.725649</td>\n",
       "      <td>1.635738</td>\n",
       "      <td>0.571832</td>\n",
       "    </tr>\n",
       "    <tr>\n",
       "      <th>4</th>\n",
       "      <td>No</td>\n",
       "      <td>16.561000</td>\n",
       "      <td>11.451297</td>\n",
       "      <td>8.728523</td>\n",
       "      <td>2.099426</td>\n",
       "    </tr>\n",
       "    <tr>\n",
       "      <th>5</th>\n",
       "      <td>Yes</td>\n",
       "      <td>23.607857</td>\n",
       "      <td>0.000000</td>\n",
       "      <td>4.000000</td>\n",
       "      <td>2.043131</td>\n",
       "    </tr>\n",
       "    <tr>\n",
       "      <th>6</th>\n",
       "      <td>No</td>\n",
       "      <td>11.434667</td>\n",
       "      <td>9.000000</td>\n",
       "      <td>27.000000</td>\n",
       "      <td>1.000000</td>\n",
       "    </tr>\n",
       "    <tr>\n",
       "      <th>7</th>\n",
       "      <td>No</td>\n",
       "      <td>7.980333</td>\n",
       "      <td>0.000000</td>\n",
       "      <td>0.000000</td>\n",
       "      <td>0.000000</td>\n",
       "    </tr>\n",
       "    <tr>\n",
       "      <th>8</th>\n",
       "      <td>No</td>\n",
       "      <td>14.244167</td>\n",
       "      <td>12.000000</td>\n",
       "      <td>0.000000</td>\n",
       "      <td>1.919772</td>\n",
       "    </tr>\n",
       "    <tr>\n",
       "      <th>9</th>\n",
       "      <td>No</td>\n",
       "      <td>12.048000</td>\n",
       "      <td>22.000000</td>\n",
       "      <td>14.000000</td>\n",
       "      <td>0.000000</td>\n",
       "    </tr>\n",
       "    <tr>\n",
       "      <th>10</th>\n",
       "      <td>No</td>\n",
       "      <td>16.187000</td>\n",
       "      <td>11.774351</td>\n",
       "      <td>19.635738</td>\n",
       "      <td>1.897182</td>\n",
       "    </tr>\n",
       "    <tr>\n",
       "      <th>11</th>\n",
       "      <td>No</td>\n",
       "      <td>8.796250</td>\n",
       "      <td>3.548703</td>\n",
       "      <td>2.728523</td>\n",
       "      <td>1.270459</td>\n",
       "    </tr>\n",
       "    <tr>\n",
       "      <th>12</th>\n",
       "      <td>No</td>\n",
       "      <td>15.742739</td>\n",
       "      <td>7.000000</td>\n",
       "      <td>2.000000</td>\n",
       "      <td>1.796024</td>\n",
       "    </tr>\n",
       "    <tr>\n",
       "      <th>13</th>\n",
       "      <td>No</td>\n",
       "      <td>3.384133</td>\n",
       "      <td>8.000000</td>\n",
       "      <td>2.000000</td>\n",
       "      <td>1.965373</td>\n",
       "    </tr>\n",
       "    <tr>\n",
       "      <th>14</th>\n",
       "      <td>No</td>\n",
       "      <td>1.291200</td>\n",
       "      <td>2.774351</td>\n",
       "      <td>1.364262</td>\n",
       "      <td>0.000000</td>\n",
       "    </tr>\n",
       "  </tbody>\n",
       "</table>\n",
       "</div>"
      ],
      "text/plain": [
       "   class        bmi  diastolic_bp_change  systolic_bp_change  respiratory_rate\n",
       "0     No  16.192875            14.000000           19.000000          2.146700\n",
       "1     No  13.383857             4.000000            3.000000          0.000000\n",
       "2     No  28.554000             6.000000           12.000000          2.065591\n",
       "3     No   3.536667             5.725649            1.635738          0.571832\n",
       "4     No  16.561000            11.451297            8.728523          2.099426\n",
       "5    Yes  23.607857             0.000000            4.000000          2.043131\n",
       "6     No  11.434667             9.000000           27.000000          1.000000\n",
       "7     No   7.980333             0.000000            0.000000          0.000000\n",
       "8     No  14.244167            12.000000            0.000000          1.919772\n",
       "9     No  12.048000            22.000000           14.000000          0.000000\n",
       "10    No  16.187000            11.774351           19.635738          1.897182\n",
       "11    No   8.796250             3.548703            2.728523          1.270459\n",
       "12    No  15.742739             7.000000            2.000000          1.796024\n",
       "13    No   3.384133             8.000000            2.000000          1.965373\n",
       "14    No   1.291200             2.774351            1.364262          0.000000"
      ]
     },
     "execution_count": 4,
     "metadata": {},
     "output_type": "execute_result"
    }
   ],
   "source": [
    "df[0:15]"
   ]
  },
  {
   "cell_type": "code",
   "execution_count": 7,
   "metadata": {},
   "outputs": [
    {
     "data": {
      "text/plain": [
       "(9948, 5)"
      ]
     },
     "execution_count": 7,
     "metadata": {},
     "output_type": "execute_result"
    }
   ],
   "source": [
    "df.shape"
   ]
  },
  {
   "cell_type": "markdown",
   "metadata": {},
   "source": [
    "## Análise Exploratória"
   ]
  },
  {
   "cell_type": "code",
   "execution_count": 8,
   "metadata": {},
   "outputs": [
    {
     "data": {
      "text/html": [
       "<div>\n",
       "<style scoped>\n",
       "    .dataframe tbody tr th:only-of-type {\n",
       "        vertical-align: middle;\n",
       "    }\n",
       "\n",
       "    .dataframe tbody tr th {\n",
       "        vertical-align: top;\n",
       "    }\n",
       "\n",
       "    .dataframe thead th {\n",
       "        text-align: right;\n",
       "    }\n",
       "</style>\n",
       "<table border=\"1\" class=\"dataframe\">\n",
       "  <thead>\n",
       "    <tr style=\"text-align: right;\">\n",
       "      <th></th>\n",
       "      <th>bmi</th>\n",
       "      <th>diastolic_bp_change</th>\n",
       "      <th>systolic_bp_change</th>\n",
       "      <th>respiratory_rate</th>\n",
       "    </tr>\n",
       "  </thead>\n",
       "  <tbody>\n",
       "    <tr>\n",
       "      <th>count</th>\n",
       "      <td>9948.000000</td>\n",
       "      <td>9948.000000</td>\n",
       "      <td>9948.000000</td>\n",
       "      <td>9948.000000</td>\n",
       "    </tr>\n",
       "    <tr>\n",
       "      <th>mean</th>\n",
       "      <td>15.732258</td>\n",
       "      <td>5.881994</td>\n",
       "      <td>9.591503</td>\n",
       "      <td>1.021472</td>\n",
       "    </tr>\n",
       "    <tr>\n",
       "      <th>std</th>\n",
       "      <td>9.703593</td>\n",
       "      <td>5.896722</td>\n",
       "      <td>10.371288</td>\n",
       "      <td>1.231041</td>\n",
       "    </tr>\n",
       "    <tr>\n",
       "      <th>min</th>\n",
       "      <td>0.122124</td>\n",
       "      <td>0.000000</td>\n",
       "      <td>0.000000</td>\n",
       "      <td>0.000000</td>\n",
       "    </tr>\n",
       "    <tr>\n",
       "      <th>25%</th>\n",
       "      <td>7.455795</td>\n",
       "      <td>1.225649</td>\n",
       "      <td>2.000000</td>\n",
       "      <td>0.000000</td>\n",
       "    </tr>\n",
       "    <tr>\n",
       "      <th>50%</th>\n",
       "      <td>14.613946</td>\n",
       "      <td>4.000000</td>\n",
       "      <td>6.728523</td>\n",
       "      <td>0.836660</td>\n",
       "    </tr>\n",
       "    <tr>\n",
       "      <th>75%</th>\n",
       "      <td>22.918650</td>\n",
       "      <td>9.000000</td>\n",
       "      <td>14.000000</td>\n",
       "      <td>1.634458</td>\n",
       "    </tr>\n",
       "    <tr>\n",
       "      <th>max</th>\n",
       "      <td>50.900000</td>\n",
       "      <td>40.000000</td>\n",
       "      <td>141.000000</td>\n",
       "      <td>29.444864</td>\n",
       "    </tr>\n",
       "  </tbody>\n",
       "</table>\n",
       "</div>"
      ],
      "text/plain": [
       "               bmi  diastolic_bp_change  systolic_bp_change  respiratory_rate\n",
       "count  9948.000000          9948.000000         9948.000000       9948.000000\n",
       "mean     15.732258             5.881994            9.591503          1.021472\n",
       "std       9.703593             5.896722           10.371288          1.231041\n",
       "min       0.122124             0.000000            0.000000          0.000000\n",
       "25%       7.455795             1.225649            2.000000          0.000000\n",
       "50%      14.613946             4.000000            6.728523          0.836660\n",
       "75%      22.918650             9.000000           14.000000          1.634458\n",
       "max      50.900000            40.000000          141.000000         29.444864"
      ]
     },
     "execution_count": 8,
     "metadata": {},
     "output_type": "execute_result"
    }
   ],
   "source": [
    "df.describe()"
   ]
  },
  {
   "cell_type": "code",
   "execution_count": 9,
   "metadata": {},
   "outputs": [
    {
     "data": {
      "image/png": "[encoded data removed]",
      "text/plain": [
       "<Figure size 432x288 with 1 Axes>"
      ]
     },
     "metadata": {
      "needs_background": "light"
     },
     "output_type": "display_data"
    }
   ],
   "source": [
    "sns.countplot(df['class'], label = 'Count')\n",
    "plt.show()"
   ]
  },
  {
   "cell_type": "code",
   "execution_count": 10,
   "metadata": {},
   "outputs": [
    {
     "data": {
      "image/png": "[encoded data removed]",
      "text/plain": [
       "<Figure size 648x648 with 4 Axes>"
      ]
     },
     "metadata": {
      "needs_background": "light"
     },
     "output_type": "display_data"
    }
   ],
   "source": [
    "df.plot(kind = 'box', subplots = True, layout = (2,2), sharex = False, sharey = False, figsize = (9,9), \n",
    "        title = 'Variáveis de Entrada')\n",
    "plt.show()"
   ]
  },
  {
   "cell_type": "code",
   "execution_count": 11,
   "metadata": {},
   "outputs": [
    {
     "data": {
      "image/png": "[encoded data removed]",
      "text/plain": [
       "<Figure size 648x648 with 4 Axes>"
      ]
     },
     "metadata": {
      "needs_background": "light"
     },
     "output_type": "display_data"
    }
   ],
   "source": [
    "df.hist(bins = 30, figsize = (9,9))\n",
    "pl.suptitle(\"Variáveis de Entrada\")\n",
    "plt.show()"
   ]
  },
  {
   "cell_type": "markdown",
   "metadata": {},
   "source": [
    "## Pré-Processamento dos Dados"
   ]
  },
  {
   "cell_type": "code",
   "execution_count": 12,
   "metadata": {},
   "outputs": [],
   "source": [
    "X = df[['bmi', 'diastolic_bp_change', 'systolic_bp_change', 'respiratory_rate']]\n",
    "y = df['class']"
   ]
  },
  {
   "cell_type": "code",
   "execution_count": 13,
   "metadata": {},
   "outputs": [],
   "source": [
    "# Encoder\n",
    "label_encoder = LabelEncoder()\n",
    "label_encoder.fit(['Yes', 'No'])\n",
    "y = label_encoder.transform(y)"
   ]
  },
  {
   "cell_type": "code",
   "execution_count": 14,
   "metadata": {},
   "outputs": [
    {
     "data": {
      "text/plain": [
       "array([0, 0, 0, ..., 0, 0, 0])"
      ]
     },
     "execution_count": 14,
     "metadata": {},
     "output_type": "execute_result"
    }
   ],
   "source": [
    "y"
   ]
  },
  {
   "cell_type": "code",
   "execution_count": 15,
   "metadata": {},
   "outputs": [],
   "source": [
    "# Divisão em dados de treino e teste\n",
    "X_treino, X_teste, y_treino, y_teste = train_test_split(X, y, random_state = 123)"
   ]
  },
  {
   "cell_type": "code",
   "execution_count": 16,
   "metadata": {},
   "outputs": [
    {
     "data": {
      "text/plain": [
       "(7461, 4)"
      ]
     },
     "execution_count": 16,
     "metadata": {},
     "output_type": "execute_result"
    }
   ],
   "source": [
    "X_treino.shape"
   ]
  },
  {
   "cell_type": "code",
   "execution_count": 17,
   "metadata": {},
   "outputs": [
    {
     "data": {
      "text/plain": [
       "(2487, 4)"
      ]
     },
     "execution_count": 17,
     "metadata": {},
     "output_type": "execute_result"
    }
   ],
   "source": [
    "X_teste.shape"
   ]
  },
  {
   "cell_type": "code",
   "execution_count": 18,
   "metadata": {},
   "outputs": [],
   "source": [
    "# Padronização\n",
    "scaler = StandardScaler()\n",
    "X_treino = scaler.fit_transform(X_treino)\n",
    "X_teste = scaler.transform(X_teste)"
   ]
  },
  {
   "cell_type": "code",
   "execution_count": 19,
   "metadata": {},
   "outputs": [
    {
     "data": {
      "text/html": [
       "<div>\n",
       "<style scoped>\n",
       "    .dataframe tbody tr th:only-of-type {\n",
       "        vertical-align: middle;\n",
       "    }\n",
       "\n",
       "    .dataframe tbody tr th {\n",
       "        vertical-align: top;\n",
       "    }\n",
       "\n",
       "    .dataframe thead th {\n",
       "        text-align: right;\n",
       "    }\n",
       "</style>\n",
       "<table border=\"1\" class=\"dataframe\">\n",
       "  <thead>\n",
       "    <tr style=\"text-align: right;\">\n",
       "      <th></th>\n",
       "      <th>class</th>\n",
       "      <th>bmi</th>\n",
       "      <th>diastolic_bp_change</th>\n",
       "      <th>systolic_bp_change</th>\n",
       "      <th>respiratory_rate</th>\n",
       "    </tr>\n",
       "  </thead>\n",
       "  <tbody>\n",
       "    <tr>\n",
       "      <th>0</th>\n",
       "      <td>0</td>\n",
       "      <td>-1.483765</td>\n",
       "      <td>-1.003436</td>\n",
       "      <td>-0.927406</td>\n",
       "      <td>-0.817379</td>\n",
       "    </tr>\n",
       "    <tr>\n",
       "      <th>1</th>\n",
       "      <td>1</td>\n",
       "      <td>0.947850</td>\n",
       "      <td>-1.003436</td>\n",
       "      <td>-0.927406</td>\n",
       "      <td>-0.662177</td>\n",
       "    </tr>\n",
       "    <tr>\n",
       "      <th>2</th>\n",
       "      <td>0</td>\n",
       "      <td>-1.034765</td>\n",
       "      <td>2.206180</td>\n",
       "      <td>2.057467</td>\n",
       "      <td>-0.817379</td>\n",
       "    </tr>\n",
       "    <tr>\n",
       "      <th>3</th>\n",
       "      <td>0</td>\n",
       "      <td>-1.406122</td>\n",
       "      <td>0.179054</td>\n",
       "      <td>-0.445975</td>\n",
       "      <td>-0.817379</td>\n",
       "    </tr>\n",
       "    <tr>\n",
       "      <th>4</th>\n",
       "      <td>0</td>\n",
       "      <td>0.366195</td>\n",
       "      <td>-0.665582</td>\n",
       "      <td>0.228029</td>\n",
       "      <td>-0.431359</td>\n",
       "    </tr>\n",
       "  </tbody>\n",
       "</table>\n",
       "</div>"
      ],
      "text/plain": [
       "   class       bmi  diastolic_bp_change  systolic_bp_change  respiratory_rate\n",
       "0      0 -1.483765            -1.003436           -0.927406         -0.817379\n",
       "1      1  0.947850            -1.003436           -0.927406         -0.662177\n",
       "2      0 -1.034765             2.206180            2.057467         -0.817379\n",
       "3      0 -1.406122             0.179054           -0.445975         -0.817379\n",
       "4      0  0.366195            -0.665582            0.228029         -0.431359"
      ]
     },
     "execution_count": 19,
     "metadata": {},
     "output_type": "execute_result"
    }
   ],
   "source": [
    "# Dataframe de treino\n",
    "X_treino = pd.DataFrame(X_treino, columns = ['bmi', 'diastolic_bp_change', 'systolic_bp_change', 'respiratory_rate'])\n",
    "y_treino = pd.DataFrame(y_treino, columns = ['class'])\n",
    "df_treino = pd.concat([y_treino, X_treino], axis = 1)\n",
    "df_treino.head()"
   ]
  },
  {
   "cell_type": "code",
   "execution_count": 20,
   "metadata": {},
   "outputs": [
    {
     "data": {
      "text/html": [
       "<div>\n",
       "<style scoped>\n",
       "    .dataframe tbody tr th:only-of-type {\n",
       "        vertical-align: middle;\n",
       "    }\n",
       "\n",
       "    .dataframe tbody tr th {\n",
       "        vertical-align: top;\n",
       "    }\n",
       "\n",
       "    .dataframe thead th {\n",
       "        text-align: right;\n",
       "    }\n",
       "</style>\n",
       "<table border=\"1\" class=\"dataframe\">\n",
       "  <thead>\n",
       "    <tr style=\"text-align: right;\">\n",
       "      <th></th>\n",
       "      <th>class</th>\n",
       "      <th>bmi</th>\n",
       "      <th>diastolic_bp_change</th>\n",
       "      <th>systolic_bp_change</th>\n",
       "      <th>respiratory_rate</th>\n",
       "    </tr>\n",
       "  </thead>\n",
       "  <tbody>\n",
       "    <tr>\n",
       "      <th>0</th>\n",
       "      <td>0</td>\n",
       "      <td>-0.940089</td>\n",
       "      <td>-0.403964</td>\n",
       "      <td>-0.279542</td>\n",
       "      <td>-0.817379</td>\n",
       "    </tr>\n",
       "    <tr>\n",
       "      <th>1</th>\n",
       "      <td>0</td>\n",
       "      <td>-0.502614</td>\n",
       "      <td>-0.665582</td>\n",
       "      <td>0.131742</td>\n",
       "      <td>-0.362450</td>\n",
       "    </tr>\n",
       "    <tr>\n",
       "      <th>2</th>\n",
       "      <td>0</td>\n",
       "      <td>1.078473</td>\n",
       "      <td>0.347981</td>\n",
       "      <td>0.228029</td>\n",
       "      <td>-0.817379</td>\n",
       "    </tr>\n",
       "    <tr>\n",
       "      <th>3</th>\n",
       "      <td>1</td>\n",
       "      <td>-0.636164</td>\n",
       "      <td>-0.251491</td>\n",
       "      <td>0.587034</td>\n",
       "      <td>-0.817379</td>\n",
       "    </tr>\n",
       "    <tr>\n",
       "      <th>4</th>\n",
       "      <td>1</td>\n",
       "      <td>-0.528479</td>\n",
       "      <td>2.037253</td>\n",
       "      <td>1.383463</td>\n",
       "      <td>0.185934</td>\n",
       "    </tr>\n",
       "  </tbody>\n",
       "</table>\n",
       "</div>"
      ],
      "text/plain": [
       "   class       bmi  diastolic_bp_change  systolic_bp_change  respiratory_rate\n",
       "0      0 -0.940089            -0.403964           -0.279542         -0.817379\n",
       "1      0 -0.502614            -0.665582            0.131742         -0.362450\n",
       "2      0  1.078473             0.347981            0.228029         -0.817379\n",
       "3      1 -0.636164            -0.251491            0.587034         -0.817379\n",
       "4      1 -0.528479             2.037253            1.383463          0.185934"
      ]
     },
     "execution_count": 20,
     "metadata": {},
     "output_type": "execute_result"
    }
   ],
   "source": [
    "# Dataframe de teste\n",
    "X_teste = pd.DataFrame(X_teste, columns = ['bmi', 'diastolic_bp_change', 'systolic_bp_change', 'respiratory_rate'])\n",
    "y_teste = pd.DataFrame(y_teste, columns = ['class'])\n",
    "df_teste = pd.concat([y_teste, X_teste], axis=1)\n",
    "df_teste.head()"
   ]
  },
  {
   "cell_type": "code",
   "execution_count": 21,
   "metadata": {},
   "outputs": [
    {
     "data": {
      "text/html": [
       "<div>\n",
       "<style scoped>\n",
       "    .dataframe tbody tr th:only-of-type {\n",
       "        vertical-align: middle;\n",
       "    }\n",
       "\n",
       "    .dataframe tbody tr th {\n",
       "        vertical-align: top;\n",
       "    }\n",
       "\n",
       "    .dataframe thead th {\n",
       "        text-align: right;\n",
       "    }\n",
       "</style>\n",
       "<table border=\"1\" class=\"dataframe\">\n",
       "  <thead>\n",
       "    <tr style=\"text-align: right;\">\n",
       "      <th></th>\n",
       "      <th>bmi</th>\n",
       "      <th>diastolic_bp_change</th>\n",
       "      <th>systolic_bp_change</th>\n",
       "      <th>respiratory_rate</th>\n",
       "    </tr>\n",
       "  </thead>\n",
       "  <tbody>\n",
       "    <tr>\n",
       "      <th>0</th>\n",
       "      <td>-0.940089</td>\n",
       "      <td>-0.403964</td>\n",
       "      <td>-0.279542</td>\n",
       "      <td>-0.817379</td>\n",
       "    </tr>\n",
       "    <tr>\n",
       "      <th>1</th>\n",
       "      <td>-0.502614</td>\n",
       "      <td>-0.665582</td>\n",
       "      <td>0.131742</td>\n",
       "      <td>-0.362450</td>\n",
       "    </tr>\n",
       "    <tr>\n",
       "      <th>2</th>\n",
       "      <td>1.078473</td>\n",
       "      <td>0.347981</td>\n",
       "      <td>0.228029</td>\n",
       "      <td>-0.817379</td>\n",
       "    </tr>\n",
       "    <tr>\n",
       "      <th>3</th>\n",
       "      <td>-0.636164</td>\n",
       "      <td>-0.251491</td>\n",
       "      <td>0.587034</td>\n",
       "      <td>-0.817379</td>\n",
       "    </tr>\n",
       "    <tr>\n",
       "      <th>4</th>\n",
       "      <td>-0.528479</td>\n",
       "      <td>2.037253</td>\n",
       "      <td>1.383463</td>\n",
       "      <td>0.185934</td>\n",
       "    </tr>\n",
       "  </tbody>\n",
       "</table>\n",
       "</div>"
      ],
      "text/plain": [
       "        bmi  diastolic_bp_change  systolic_bp_change  respiratory_rate\n",
       "0 -0.940089            -0.403964           -0.279542         -0.817379\n",
       "1 -0.502614            -0.665582            0.131742         -0.362450\n",
       "2  1.078473             0.347981            0.228029         -0.817379\n",
       "3 -0.636164            -0.251491            0.587034         -0.817379\n",
       "4 -0.528479             2.037253            1.383463          0.185934"
      ]
     },
     "execution_count": 21,
     "metadata": {},
     "output_type": "execute_result"
    }
   ],
   "source": [
    "# Dataframe para batch normalization\n",
    "batch_teste_df = df_teste.drop(['class'], axis = 1)\n",
    "batch_teste_df.head()"
   ]
  },
  {
   "cell_type": "markdown",
   "metadata": {},
   "source": [
    "**Salvando arquivos transformados e padronizados no S3**"
   ]
  },
  {
   "cell_type": "code",
   "execution_count": null,
   "metadata": {},
   "outputs": [],
   "source": [
    "# Salva os dados processados no S3\n",
    "df_treino.to_csv(raiz + 'treino.csv', header = False, index = False)\n",
    "df_treino.to_csv(raiz + 'treino_with_header.csv', header = True, index = False)\n",
    "df_teste.to_csv(raiz + 'teste.csv', header = False, index = False)\n",
    "batch_teste_df.to_csv(raiz + 'batch_teste.csv', header = False, index = False)"
   ]
  },
  {
   "cell_type": "markdown",
   "metadata": {},
   "source": [
    "**Salvando arquivos transformados e padronizados localmente**"
   ]
  },
  {
   "cell_type": "code",
   "execution_count": 22,
   "metadata": {},
   "outputs": [],
   "source": [
    "# Salva os dados processados no S3\n",
    "df_treino.to_csv('dados/treino.csv', header = False, index = False)\n",
    "df_treino.to_csv('dados/treino_with_header.csv', header = True, index = False)\n",
    "df_teste.to_csv('dados/teste.csv', header = False, index = False)\n",
    "batch_teste_df.to_csv('dados/batch_teste.csv', header = False, index = False)"
   ]
  },
  {
   "cell_type": "markdown",
   "metadata": {},
   "source": [
    "## Dados Sintéticos Para Simulação"
   ]
  },
  {
   "cell_type": "code",
   "execution_count": 23,
   "metadata": {},
   "outputs": [],
   "source": [
    "def get_random_val():\n",
    "    val = random.uniform(0, 1)\n",
    "    return round(val, 6)"
   ]
  },
  {
   "cell_type": "code",
   "execution_count": 24,
   "metadata": {},
   "outputs": [],
   "source": [
    "def generate_row():\n",
    "    row = []\n",
    "    for _ in range(4):\n",
    "        row.append(get_random_val())\n",
    "    return row  "
   ]
  },
  {
   "cell_type": "code",
   "execution_count": 25,
   "metadata": {},
   "outputs": [],
   "source": [
    "def generate_dataset():\n",
    "    rows = []\n",
    "    for _ in range(20):\n",
    "        rows.append(generate_row())\n",
    "    return rows "
   ]
  },
  {
   "cell_type": "code",
   "execution_count": 26,
   "metadata": {},
   "outputs": [],
   "source": [
    "rows = generate_dataset() "
   ]
  },
  {
   "cell_type": "code",
   "execution_count": 27,
   "metadata": {},
   "outputs": [],
   "source": [
    "df = pd.DataFrame(rows, columns = ['bmi', 'diastolic_bp_change', 'systolic_bp_change', 'respiratory_rate'])"
   ]
  },
  {
   "cell_type": "code",
   "execution_count": 28,
   "metadata": {},
   "outputs": [
    {
     "data": {
      "text/html": [
       "<div>\n",
       "<style scoped>\n",
       "    .dataframe tbody tr th:only-of-type {\n",
       "        vertical-align: middle;\n",
       "    }\n",
       "\n",
       "    .dataframe tbody tr th {\n",
       "        vertical-align: top;\n",
       "    }\n",
       "\n",
       "    .dataframe thead th {\n",
       "        text-align: right;\n",
       "    }\n",
       "</style>\n",
       "<table border=\"1\" class=\"dataframe\">\n",
       "  <thead>\n",
       "    <tr style=\"text-align: right;\">\n",
       "      <th></th>\n",
       "      <th>bmi</th>\n",
       "      <th>diastolic_bp_change</th>\n",
       "      <th>systolic_bp_change</th>\n",
       "      <th>respiratory_rate</th>\n",
       "    </tr>\n",
       "  </thead>\n",
       "  <tbody>\n",
       "    <tr>\n",
       "      <th>0</th>\n",
       "      <td>0.534095</td>\n",
       "      <td>0.187673</td>\n",
       "      <td>0.088736</td>\n",
       "      <td>0.979808</td>\n",
       "    </tr>\n",
       "    <tr>\n",
       "      <th>1</th>\n",
       "      <td>0.352564</td>\n",
       "      <td>0.912306</td>\n",
       "      <td>0.088595</td>\n",
       "      <td>0.847055</td>\n",
       "    </tr>\n",
       "    <tr>\n",
       "      <th>2</th>\n",
       "      <td>0.158597</td>\n",
       "      <td>0.221340</td>\n",
       "      <td>0.422342</td>\n",
       "      <td>0.814707</td>\n",
       "    </tr>\n",
       "    <tr>\n",
       "      <th>3</th>\n",
       "      <td>0.266827</td>\n",
       "      <td>0.297483</td>\n",
       "      <td>0.451536</td>\n",
       "      <td>0.964603</td>\n",
       "    </tr>\n",
       "    <tr>\n",
       "      <th>4</th>\n",
       "      <td>0.373704</td>\n",
       "      <td>0.333055</td>\n",
       "      <td>0.321285</td>\n",
       "      <td>0.180462</td>\n",
       "    </tr>\n",
       "  </tbody>\n",
       "</table>\n",
       "</div>"
      ],
      "text/plain": [
       "        bmi  diastolic_bp_change  systolic_bp_change  respiratory_rate\n",
       "0  0.534095             0.187673            0.088736          0.979808\n",
       "1  0.352564             0.912306            0.088595          0.847055\n",
       "2  0.158597             0.221340            0.422342          0.814707\n",
       "3  0.266827             0.297483            0.451536          0.964603\n",
       "4  0.373704             0.333055            0.321285          0.180462"
      ]
     },
     "execution_count": 28,
     "metadata": {},
     "output_type": "execute_result"
    }
   ],
   "source": [
    "df.head()"
   ]
  },
  {
   "cell_type": "markdown",
   "metadata": {},
   "source": [
    "**Salvando dados sintéticos no ambiente S3**"
   ]
  },
  {
   "cell_type": "code",
   "execution_count": null,
   "metadata": {},
   "outputs": [],
   "source": [
    "df.to_csv(raiz + 'dados_sinteticos.csv', header = False, index = False)"
   ]
  },
  {
   "cell_type": "markdown",
   "metadata": {},
   "source": [
    "**Salvando dados sintéticos no ambiente local**"
   ]
  },
  {
   "cell_type": "code",
   "execution_count": 29,
   "metadata": {},
   "outputs": [],
   "source": [
    "df.to_csv('dados/dados_sinteticos.csv', header = False, index = False)"
   ]
  }
 ],
 "metadata": {
  "instance_type": "ml.t3.medium",
  "kernelspec": {
   "display_name": "Python 3.8.9 64-bit",
   "language": "python",
   "name": "python3"
  },
  "language_info": {
   "codemirror_mode": {
    "name": "ipython",
    "version": 3
   },
   "file_extension": ".py",
   "mimetype": "text/x-python",
   "name": "python",
   "nbconvert_exporter": "python",
   "pygments_lexer": "ipython3",
   "version": "3.8.9"
  },
  "vscode": {
   "interpreter": {
    "hash": "b081a66ee97bd2b6a16f43955f1d810b7ea816d6eaeb65e157ef9e038445f0c6"
   }
  }
 },
 "nbformat": 4,
 "nbformat_minor": 4
}

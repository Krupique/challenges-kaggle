{
 "cells": [
  {
   "cell_type": "markdown",
   "metadata": {},
   "source": [
    "# Store Item Demand Forecasting Challenge\n",
    "#### Predict 3 months of item sales at different stores"
   ]
  },
  {
   "cell_type": "markdown",
   "metadata": {},
   "source": [
    "### 1) Definição do problema\n",
    " **Explicar melhor aqui**\n",
    "&emsp;&emsp;\n",
    "\n",
    "#### 1.1) Objetivos da competição\n",
    "&emsp;&emsp;Esta competição é fornecida como uma forma de explorar diferentes técnicas de séries temporais em um conjunto de dados relativamente simples e limpo. O analista recebe 5 anos de dados de vendas de itens da loja e é solicitado a prever 3 meses de vendas para 50 itens diferentes em 10 lojas diferentes.<br/>\n",
    "&emsp;&emsp;Qual é a melhor maneira de lidar com a sazonalidade? As lojas devem ser modeladas separadamente ou você pode agrupá-las? O aprendizado profundo funciona melhor que o ARIMA? Qualquer um pode vencer o xgboost?</br>\n",
    "&emsp;&emsp;Esta é uma grande competição para explorar diferentes modelos e melhorar as habilidades com previsão. Aqui você encontra o link para a competição: https://www.kaggle.com/competitions/demand-forecasting-kernels-only/overview\n",
    "\n",
    "\n",
    "\n",
    "#### 1.2) Algoritmos utilizados\n",
    " **Explicar melhor aqui**"
   ]
  },
  {
   "cell_type": "markdown",
   "metadata": {},
   "source": [
    "#### 1.3) Import das bibliotecas e carregando os dados de treino e teste\n",
    "O primeiro passo será importar todas as bibliotecas que iremos utilizar. **Explicar melhor aqui**"
   ]
  },
  {
   "cell_type": "code",
   "execution_count": 1,
   "metadata": {},
   "outputs": [],
   "source": [
    "import pandas as pd\n",
    "import numpy as np\n",
    "import matplotlib.pyplot as plt\n",
    "from datetime import datetime\n",
    "import plotly.graph_objs as go"
   ]
  },
  {
   "cell_type": "code",
   "execution_count": 2,
   "metadata": {},
   "outputs": [],
   "source": [
    "df_train = pd.read_csv('data/train.csv')\n",
    "df_test = pd.read_csv('data/test.csv')"
   ]
  },
  {
   "cell_type": "markdown",
   "metadata": {},
   "source": [
    "### 2) Análise exploratória dos dados"
   ]
  },
  {
   "cell_type": "markdown",
   "metadata": {},
   "source": [
    "Vamos começar fazendo uma análise exploratória dos dados, para ter uma ideia de quantas colunas os dados possuem, quantos registros, agrupamentos, se há dados missing/nulos, além de outras análises.<br/>\n",
    "Como primeiro passo, vamos exibir quantos registros e quantas colunas há em ambos os datasets, o de treino e o de teste.\n",
    "\n",
    "##### 2.1) Visão Geral"
   ]
  },
  {
   "cell_type": "code",
   "execution_count": 47,
   "metadata": {},
   "outputs": [
    {
     "name": "stdout",
     "output_type": "stream",
     "text": [
      "Shape Treino: (913000, 4)\n",
      "Shape Teste: (45000, 4)\n"
     ]
    }
   ],
   "source": [
    "print('Shape Treino: {}'.format(df_train.shape))\n",
    "print('Shape Teste: {}'.format(df_test.shape))"
   ]
  },
  {
   "cell_type": "code",
   "execution_count": 4,
   "metadata": {},
   "outputs": [
    {
     "data": {
      "text/html": [
       "<div>\n",
       "<style scoped>\n",
       "    .dataframe tbody tr th:only-of-type {\n",
       "        vertical-align: middle;\n",
       "    }\n",
       "\n",
       "    .dataframe tbody tr th {\n",
       "        vertical-align: top;\n",
       "    }\n",
       "\n",
       "    .dataframe thead th {\n",
       "        text-align: right;\n",
       "    }\n",
       "</style>\n",
       "<table border=\"1\" class=\"dataframe\">\n",
       "  <thead>\n",
       "    <tr style=\"text-align: right;\">\n",
       "      <th></th>\n",
       "      <th>date</th>\n",
       "      <th>store</th>\n",
       "      <th>item</th>\n",
       "      <th>sales</th>\n",
       "    </tr>\n",
       "  </thead>\n",
       "  <tbody>\n",
       "    <tr>\n",
       "      <th>0</th>\n",
       "      <td>2013-01-01</td>\n",
       "      <td>1</td>\n",
       "      <td>1</td>\n",
       "      <td>13</td>\n",
       "    </tr>\n",
       "    <tr>\n",
       "      <th>1</th>\n",
       "      <td>2013-01-02</td>\n",
       "      <td>1</td>\n",
       "      <td>1</td>\n",
       "      <td>11</td>\n",
       "    </tr>\n",
       "    <tr>\n",
       "      <th>2</th>\n",
       "      <td>2013-01-03</td>\n",
       "      <td>1</td>\n",
       "      <td>1</td>\n",
       "      <td>14</td>\n",
       "    </tr>\n",
       "    <tr>\n",
       "      <th>3</th>\n",
       "      <td>2013-01-04</td>\n",
       "      <td>1</td>\n",
       "      <td>1</td>\n",
       "      <td>13</td>\n",
       "    </tr>\n",
       "    <tr>\n",
       "      <th>4</th>\n",
       "      <td>2013-01-05</td>\n",
       "      <td>1</td>\n",
       "      <td>1</td>\n",
       "      <td>10</td>\n",
       "    </tr>\n",
       "  </tbody>\n",
       "</table>\n",
       "</div>"
      ],
      "text/plain": [
       "         date  store  item  sales\n",
       "0  2013-01-01      1     1     13\n",
       "1  2013-01-02      1     1     11\n",
       "2  2013-01-03      1     1     14\n",
       "3  2013-01-04      1     1     13\n",
       "4  2013-01-05      1     1     10"
      ]
     },
     "execution_count": 4,
     "metadata": {},
     "output_type": "execute_result"
    }
   ],
   "source": [
    "df_train.head(5)"
   ]
  },
  {
   "cell_type": "code",
   "execution_count": 5,
   "metadata": {},
   "outputs": [
    {
     "data": {
      "text/html": [
       "<div>\n",
       "<style scoped>\n",
       "    .dataframe tbody tr th:only-of-type {\n",
       "        vertical-align: middle;\n",
       "    }\n",
       "\n",
       "    .dataframe tbody tr th {\n",
       "        vertical-align: top;\n",
       "    }\n",
       "\n",
       "    .dataframe thead th {\n",
       "        text-align: right;\n",
       "    }\n",
       "</style>\n",
       "<table border=\"1\" class=\"dataframe\">\n",
       "  <thead>\n",
       "    <tr style=\"text-align: right;\">\n",
       "      <th></th>\n",
       "      <th>id</th>\n",
       "      <th>date</th>\n",
       "      <th>store</th>\n",
       "      <th>item</th>\n",
       "    </tr>\n",
       "  </thead>\n",
       "  <tbody>\n",
       "    <tr>\n",
       "      <th>0</th>\n",
       "      <td>0</td>\n",
       "      <td>2018-01-01</td>\n",
       "      <td>1</td>\n",
       "      <td>1</td>\n",
       "    </tr>\n",
       "    <tr>\n",
       "      <th>1</th>\n",
       "      <td>1</td>\n",
       "      <td>2018-01-02</td>\n",
       "      <td>1</td>\n",
       "      <td>1</td>\n",
       "    </tr>\n",
       "    <tr>\n",
       "      <th>2</th>\n",
       "      <td>2</td>\n",
       "      <td>2018-01-03</td>\n",
       "      <td>1</td>\n",
       "      <td>1</td>\n",
       "    </tr>\n",
       "    <tr>\n",
       "      <th>3</th>\n",
       "      <td>3</td>\n",
       "      <td>2018-01-04</td>\n",
       "      <td>1</td>\n",
       "      <td>1</td>\n",
       "    </tr>\n",
       "    <tr>\n",
       "      <th>4</th>\n",
       "      <td>4</td>\n",
       "      <td>2018-01-05</td>\n",
       "      <td>1</td>\n",
       "      <td>1</td>\n",
       "    </tr>\n",
       "  </tbody>\n",
       "</table>\n",
       "</div>"
      ],
      "text/plain": [
       "   id        date  store  item\n",
       "0   0  2018-01-01      1     1\n",
       "1   1  2018-01-02      1     1\n",
       "2   2  2018-01-03      1     1\n",
       "3   3  2018-01-04      1     1\n",
       "4   4  2018-01-05      1     1"
      ]
     },
     "execution_count": 5,
     "metadata": {},
     "output_type": "execute_result"
    }
   ],
   "source": [
    "df_test.head(5)"
   ]
  },
  {
   "cell_type": "markdown",
   "metadata": {},
   "source": [
    "Analisando pelo cabeçalho vemos que o dataset de treino possui quantro colunas:\n",
    "* **date**: Data que o item foi vendido;\n",
    "* **store**: Id da loja;\n",
    "* **item**: Id do item;\n",
    "* **sales**: Quantidade de vendas (Nossa variável target)\n",
    "\n",
    "E no conjunto do teste, não temos a quantidade de sales, porém temos um atributo **id** do registro."
   ]
  },
  {
   "cell_type": "code",
   "execution_count": 6,
   "metadata": {},
   "outputs": [
    {
     "data": {
      "text/html": [
       "<div>\n",
       "<style scoped>\n",
       "    .dataframe tbody tr th:only-of-type {\n",
       "        vertical-align: middle;\n",
       "    }\n",
       "\n",
       "    .dataframe tbody tr th {\n",
       "        vertical-align: top;\n",
       "    }\n",
       "\n",
       "    .dataframe thead th {\n",
       "        text-align: right;\n",
       "    }\n",
       "</style>\n",
       "<table border=\"1\" class=\"dataframe\">\n",
       "  <thead>\n",
       "    <tr style=\"text-align: right;\">\n",
       "      <th></th>\n",
       "      <th>store</th>\n",
       "      <th>item</th>\n",
       "      <th>sales</th>\n",
       "    </tr>\n",
       "  </thead>\n",
       "  <tbody>\n",
       "    <tr>\n",
       "      <th>count</th>\n",
       "      <td>913000.000000</td>\n",
       "      <td>913000.000000</td>\n",
       "      <td>913000.000000</td>\n",
       "    </tr>\n",
       "    <tr>\n",
       "      <th>mean</th>\n",
       "      <td>5.500000</td>\n",
       "      <td>25.500000</td>\n",
       "      <td>52.250287</td>\n",
       "    </tr>\n",
       "    <tr>\n",
       "      <th>std</th>\n",
       "      <td>2.872283</td>\n",
       "      <td>14.430878</td>\n",
       "      <td>28.801144</td>\n",
       "    </tr>\n",
       "    <tr>\n",
       "      <th>min</th>\n",
       "      <td>1.000000</td>\n",
       "      <td>1.000000</td>\n",
       "      <td>0.000000</td>\n",
       "    </tr>\n",
       "    <tr>\n",
       "      <th>25%</th>\n",
       "      <td>3.000000</td>\n",
       "      <td>13.000000</td>\n",
       "      <td>30.000000</td>\n",
       "    </tr>\n",
       "    <tr>\n",
       "      <th>50%</th>\n",
       "      <td>5.500000</td>\n",
       "      <td>25.500000</td>\n",
       "      <td>47.000000</td>\n",
       "    </tr>\n",
       "    <tr>\n",
       "      <th>75%</th>\n",
       "      <td>8.000000</td>\n",
       "      <td>38.000000</td>\n",
       "      <td>70.000000</td>\n",
       "    </tr>\n",
       "    <tr>\n",
       "      <th>max</th>\n",
       "      <td>10.000000</td>\n",
       "      <td>50.000000</td>\n",
       "      <td>231.000000</td>\n",
       "    </tr>\n",
       "  </tbody>\n",
       "</table>\n",
       "</div>"
      ],
      "text/plain": [
       "               store           item          sales\n",
       "count  913000.000000  913000.000000  913000.000000\n",
       "mean        5.500000      25.500000      52.250287\n",
       "std         2.872283      14.430878      28.801144\n",
       "min         1.000000       1.000000       0.000000\n",
       "25%         3.000000      13.000000      30.000000\n",
       "50%         5.500000      25.500000      47.000000\n",
       "75%         8.000000      38.000000      70.000000\n",
       "max        10.000000      50.000000     231.000000"
      ]
     },
     "execution_count": 6,
     "metadata": {},
     "output_type": "execute_result"
    }
   ],
   "source": [
    "df_train.describe()"
   ]
  },
  {
   "cell_type": "markdown",
   "metadata": {},
   "source": [
    "Aqui temos algumas informações interessantes. A média de vendas é de 52.25, enquanto que a mediana é de 47. Isso significa que a presença de outliers não está impactando o resultado, dado que a amplitude da variável target é de : 0 vendas a 231 vendas, enquanto que a diferença entre média e mediana é de apenas 5."
   ]
  },
  {
   "cell_type": "code",
   "execution_count": 48,
   "metadata": {},
   "outputs": [
    {
     "name": "stdout",
     "output_type": "stream",
     "text": [
      "Dados nulos conjunto de treino\n",
      "date     0\n",
      "store    0\n",
      "item     0\n",
      "sales    0\n",
      "dtype: int64\n",
      "\n",
      "Dados nulos conjunto de testes\n",
      "id       0\n",
      "date     0\n",
      "store    0\n",
      "item     0\n",
      "dtype: int64\n"
     ]
    }
   ],
   "source": [
    "print('Dados nulos conjunto de treino')\n",
    "print(df_train.isnull().sum())\n",
    "print('\\nDados nulos conjunto de testes')\n",
    "print(df_test.isnull().sum())"
   ]
  },
  {
   "cell_type": "markdown",
   "metadata": {},
   "source": [
    "Esse conjunto de dados está bem limpo, não há registros missing/nulos, portanto não precisaremos realizar esta etapa no pré processamento dos dados."
   ]
  },
  {
   "cell_type": "code",
   "execution_count": 50,
   "metadata": {},
   "outputs": [
    {
     "data": {
      "text/html": [
       "<div>\n",
       "<style scoped>\n",
       "    .dataframe tbody tr th:only-of-type {\n",
       "        vertical-align: middle;\n",
       "    }\n",
       "\n",
       "    .dataframe tbody tr th {\n",
       "        vertical-align: top;\n",
       "    }\n",
       "\n",
       "    .dataframe thead th {\n",
       "        text-align: right;\n",
       "    }\n",
       "</style>\n",
       "<table border=\"1\" class=\"dataframe\">\n",
       "  <thead>\n",
       "    <tr style=\"text-align: right;\">\n",
       "      <th></th>\n",
       "      <th>Grupo</th>\n",
       "      <th>Porcentagem</th>\n",
       "    </tr>\n",
       "  </thead>\n",
       "  <tbody>\n",
       "    <tr>\n",
       "      <th>0</th>\n",
       "      <td>(-1, 50]</td>\n",
       "      <td>54.59</td>\n",
       "    </tr>\n",
       "    <tr>\n",
       "      <th>1</th>\n",
       "      <td>(50, 100]</td>\n",
       "      <td>38.39</td>\n",
       "    </tr>\n",
       "    <tr>\n",
       "      <th>2</th>\n",
       "      <td>(100, 150]</td>\n",
       "      <td>6.71</td>\n",
       "    </tr>\n",
       "    <tr>\n",
       "      <th>3</th>\n",
       "      <td>(150, 200]</td>\n",
       "      <td>0.31</td>\n",
       "    </tr>\n",
       "    <tr>\n",
       "      <th>4</th>\n",
       "      <td>(200, 250]</td>\n",
       "      <td>0.00</td>\n",
       "    </tr>\n",
       "    <tr>\n",
       "      <th>5</th>\n",
       "      <td>(250, 300]</td>\n",
       "      <td>0.00</td>\n",
       "    </tr>\n",
       "  </tbody>\n",
       "</table>\n",
       "</div>"
      ],
      "text/plain": [
       "        Grupo  Porcentagem\n",
       "0    (-1, 50]        54.59\n",
       "1   (50, 100]        38.39\n",
       "2  (100, 150]         6.71\n",
       "3  (150, 200]         0.31\n",
       "4  (200, 250]         0.00\n",
       "5  (250, 300]         0.00"
      ]
     },
     "execution_count": 50,
     "metadata": {},
     "output_type": "execute_result"
    }
   ],
   "source": [
    "df_sales = df_train.copy()\n",
    "df_sales['bins_sales'] = pd.cut(df_sales['sales'], [-1, 50, 100, 150, 200, 250, 300])\n",
    "total_sales = df_sales.shape[0]\n",
    "df_percent = pd.DataFrame(pd.value_counts(df_sales['bins_sales']).apply(lambda s: round((s/total_sales)*100, 2)))\n",
    "df_percent.reset_index(inplace=True)\n",
    "df_percent.columns = ['Grupo', 'Porcentagem']\n",
    "df_percent"
   ]
  },
  {
   "cell_type": "markdown",
   "metadata": {},
   "source": [
    "Aqui geramos um dataset temporário para agrupar as vendas por grupos e exibir a porcentagem correspondente a cada grupo:\n",
    "* 0-50 vendas: 54.59% dos dados estão agrupados neste grupo.\n",
    "* 50-100 vendas: 38.39% dos dados estão agrupados aqui.\n",
    "* 100-250 vendas: Somente 7% dos dados compõem o restante dos grupos. <br/>\n",
    "\n",
    "Isso implica que os modelos que iremos desenvolver deverão lidar com a assimetria (skewness) dos dados."
   ]
  },
  {
   "cell_type": "markdown",
   "metadata": {},
   "source": [
    "##### 2.2) Variação de vendas entre as lojas\n",
    "Agora vamos observar como as vendas variam entre cada loja e obter uma visão geral da distribuição de vendas em todos os dados."
   ]
  },
  {
   "cell_type": "code",
   "execution_count": 61,
   "metadata": {},
   "outputs": [
    {
     "data": {
      "text/html": [
       "<div>\n",
       "<style scoped>\n",
       "    .dataframe tbody tr th:only-of-type {\n",
       "        vertical-align: middle;\n",
       "    }\n",
       "\n",
       "    .dataframe tbody tr th {\n",
       "        vertical-align: top;\n",
       "    }\n",
       "\n",
       "    .dataframe thead tr th {\n",
       "        text-align: left;\n",
       "    }\n",
       "\n",
       "    .dataframe thead tr:last-of-type th {\n",
       "        text-align: right;\n",
       "    }\n",
       "</style>\n",
       "<table border=\"1\" class=\"dataframe\">\n",
       "  <thead>\n",
       "    <tr>\n",
       "      <th></th>\n",
       "      <th colspan=\"21\" halign=\"left\">sales</th>\n",
       "    </tr>\n",
       "    <tr>\n",
       "      <th>item</th>\n",
       "      <th>1</th>\n",
       "      <th>2</th>\n",
       "      <th>3</th>\n",
       "      <th>4</th>\n",
       "      <th>5</th>\n",
       "      <th>6</th>\n",
       "      <th>7</th>\n",
       "      <th>8</th>\n",
       "      <th>9</th>\n",
       "      <th>10</th>\n",
       "      <th>...</th>\n",
       "      <th>41</th>\n",
       "      <th>42</th>\n",
       "      <th>43</th>\n",
       "      <th>44</th>\n",
       "      <th>45</th>\n",
       "      <th>46</th>\n",
       "      <th>47</th>\n",
       "      <th>48</th>\n",
       "      <th>49</th>\n",
       "      <th>50</th>\n",
       "    </tr>\n",
       "    <tr>\n",
       "      <th>store</th>\n",
       "      <th></th>\n",
       "      <th></th>\n",
       "      <th></th>\n",
       "      <th></th>\n",
       "      <th></th>\n",
       "      <th></th>\n",
       "      <th></th>\n",
       "      <th></th>\n",
       "      <th></th>\n",
       "      <th></th>\n",
       "      <th></th>\n",
       "      <th></th>\n",
       "      <th></th>\n",
       "      <th></th>\n",
       "      <th></th>\n",
       "      <th></th>\n",
       "      <th></th>\n",
       "      <th></th>\n",
       "      <th></th>\n",
       "      <th></th>\n",
       "      <th></th>\n",
       "    </tr>\n",
       "  </thead>\n",
       "  <tbody>\n",
       "    <tr>\n",
       "      <th>1</th>\n",
       "      <td>36468</td>\n",
       "      <td>97050</td>\n",
       "      <td>60638</td>\n",
       "      <td>36440</td>\n",
       "      <td>30335</td>\n",
       "      <td>96889</td>\n",
       "      <td>96383</td>\n",
       "      <td>126856</td>\n",
       "      <td>84918</td>\n",
       "      <td>121163</td>\n",
       "      <td>...</td>\n",
       "      <td>36525</td>\n",
       "      <td>60451</td>\n",
       "      <td>84439</td>\n",
       "      <td>48561</td>\n",
       "      <td>132788</td>\n",
       "      <td>96495</td>\n",
       "      <td>36181</td>\n",
       "      <td>84993</td>\n",
       "      <td>48319</td>\n",
       "      <td>108360</td>\n",
       "    </tr>\n",
       "    <tr>\n",
       "      <th>2</th>\n",
       "      <td>51445</td>\n",
       "      <td>137528</td>\n",
       "      <td>85808</td>\n",
       "      <td>51557</td>\n",
       "      <td>42985</td>\n",
       "      <td>136850</td>\n",
       "      <td>137057</td>\n",
       "      <td>180939</td>\n",
       "      <td>119563</td>\n",
       "      <td>171822</td>\n",
       "      <td>...</td>\n",
       "      <td>51255</td>\n",
       "      <td>86494</td>\n",
       "      <td>120124</td>\n",
       "      <td>68997</td>\n",
       "      <td>188774</td>\n",
       "      <td>137351</td>\n",
       "      <td>51471</td>\n",
       "      <td>120568</td>\n",
       "      <td>68862</td>\n",
       "      <td>154520</td>\n",
       "    </tr>\n",
       "    <tr>\n",
       "      <th>3</th>\n",
       "      <td>45778</td>\n",
       "      <td>121985</td>\n",
       "      <td>76274</td>\n",
       "      <td>45862</td>\n",
       "      <td>38086</td>\n",
       "      <td>122355</td>\n",
       "      <td>121699</td>\n",
       "      <td>159807</td>\n",
       "      <td>106797</td>\n",
       "      <td>152266</td>\n",
       "      <td>...</td>\n",
       "      <td>45630</td>\n",
       "      <td>76322</td>\n",
       "      <td>106269</td>\n",
       "      <td>60963</td>\n",
       "      <td>167720</td>\n",
       "      <td>121882</td>\n",
       "      <td>45870</td>\n",
       "      <td>107188</td>\n",
       "      <td>60732</td>\n",
       "      <td>136874</td>\n",
       "    </tr>\n",
       "    <tr>\n",
       "      <th>4</th>\n",
       "      <td>41886</td>\n",
       "      <td>112692</td>\n",
       "      <td>70389</td>\n",
       "      <td>42156</td>\n",
       "      <td>35653</td>\n",
       "      <td>111880</td>\n",
       "      <td>112528</td>\n",
       "      <td>147577</td>\n",
       "      <td>98684</td>\n",
       "      <td>140689</td>\n",
       "      <td>...</td>\n",
       "      <td>42305</td>\n",
       "      <td>70374</td>\n",
       "      <td>98638</td>\n",
       "      <td>56519</td>\n",
       "      <td>154639</td>\n",
       "      <td>112153</td>\n",
       "      <td>42207</td>\n",
       "      <td>98176</td>\n",
       "      <td>56315</td>\n",
       "      <td>125851</td>\n",
       "    </tr>\n",
       "    <tr>\n",
       "      <th>5</th>\n",
       "      <td>30566</td>\n",
       "      <td>81236</td>\n",
       "      <td>50828</td>\n",
       "      <td>30634</td>\n",
       "      <td>25722</td>\n",
       "      <td>81375</td>\n",
       "      <td>81322</td>\n",
       "      <td>106941</td>\n",
       "      <td>70917</td>\n",
       "      <td>101361</td>\n",
       "      <td>...</td>\n",
       "      <td>30733</td>\n",
       "      <td>50636</td>\n",
       "      <td>71512</td>\n",
       "      <td>40930</td>\n",
       "      <td>112166</td>\n",
       "      <td>81686</td>\n",
       "      <td>30493</td>\n",
       "      <td>71728</td>\n",
       "      <td>40851</td>\n",
       "      <td>91883</td>\n",
       "    </tr>\n",
       "    <tr>\n",
       "      <th>6</th>\n",
       "      <td>30527</td>\n",
       "      <td>81319</td>\n",
       "      <td>50783</td>\n",
       "      <td>30593</td>\n",
       "      <td>25369</td>\n",
       "      <td>81264</td>\n",
       "      <td>81438</td>\n",
       "      <td>106612</td>\n",
       "      <td>72054</td>\n",
       "      <td>101462</td>\n",
       "      <td>...</td>\n",
       "      <td>30325</td>\n",
       "      <td>50933</td>\n",
       "      <td>71277</td>\n",
       "      <td>40761</td>\n",
       "      <td>111647</td>\n",
       "      <td>81330</td>\n",
       "      <td>30510</td>\n",
       "      <td>71310</td>\n",
       "      <td>40503</td>\n",
       "      <td>92243</td>\n",
       "    </tr>\n",
       "    <tr>\n",
       "      <th>7</th>\n",
       "      <td>27681</td>\n",
       "      <td>74351</td>\n",
       "      <td>46620</td>\n",
       "      <td>28044</td>\n",
       "      <td>23252</td>\n",
       "      <td>74325</td>\n",
       "      <td>74336</td>\n",
       "      <td>98100</td>\n",
       "      <td>65557</td>\n",
       "      <td>93412</td>\n",
       "      <td>...</td>\n",
       "      <td>28251</td>\n",
       "      <td>46446</td>\n",
       "      <td>64688</td>\n",
       "      <td>37335</td>\n",
       "      <td>102084</td>\n",
       "      <td>74553</td>\n",
       "      <td>28265</td>\n",
       "      <td>65050</td>\n",
       "      <td>37262</td>\n",
       "      <td>83674</td>\n",
       "    </tr>\n",
       "    <tr>\n",
       "      <th>8</th>\n",
       "      <td>49272</td>\n",
       "      <td>130845</td>\n",
       "      <td>82309</td>\n",
       "      <td>49208</td>\n",
       "      <td>40953</td>\n",
       "      <td>131396</td>\n",
       "      <td>130980</td>\n",
       "      <td>172486</td>\n",
       "      <td>115391</td>\n",
       "      <td>164008</td>\n",
       "      <td>...</td>\n",
       "      <td>49368</td>\n",
       "      <td>82433</td>\n",
       "      <td>115002</td>\n",
       "      <td>66091</td>\n",
       "      <td>180667</td>\n",
       "      <td>131481</td>\n",
       "      <td>49576</td>\n",
       "      <td>114558</td>\n",
       "      <td>65800</td>\n",
       "      <td>147855</td>\n",
       "    </tr>\n",
       "    <tr>\n",
       "      <th>9</th>\n",
       "      <td>42593</td>\n",
       "      <td>112833</td>\n",
       "      <td>70365</td>\n",
       "      <td>42272</td>\n",
       "      <td>35191</td>\n",
       "      <td>112139</td>\n",
       "      <td>112869</td>\n",
       "      <td>148431</td>\n",
       "      <td>98797</td>\n",
       "      <td>140794</td>\n",
       "      <td>...</td>\n",
       "      <td>42347</td>\n",
       "      <td>70563</td>\n",
       "      <td>98883</td>\n",
       "      <td>56548</td>\n",
       "      <td>155381</td>\n",
       "      <td>113232</td>\n",
       "      <td>42004</td>\n",
       "      <td>98562</td>\n",
       "      <td>56702</td>\n",
       "      <td>126557</td>\n",
       "    </tr>\n",
       "    <tr>\n",
       "      <th>10</th>\n",
       "      <td>45168</td>\n",
       "      <td>119725</td>\n",
       "      <td>75073</td>\n",
       "      <td>45141</td>\n",
       "      <td>37684</td>\n",
       "      <td>119808</td>\n",
       "      <td>120165</td>\n",
       "      <td>157359</td>\n",
       "      <td>105701</td>\n",
       "      <td>150156</td>\n",
       "      <td>...</td>\n",
       "      <td>45020</td>\n",
       "      <td>75273</td>\n",
       "      <td>105803</td>\n",
       "      <td>60106</td>\n",
       "      <td>165601</td>\n",
       "      <td>120601</td>\n",
       "      <td>45204</td>\n",
       "      <td>105570</td>\n",
       "      <td>60317</td>\n",
       "      <td>135192</td>\n",
       "    </tr>\n",
       "  </tbody>\n",
       "</table>\n",
       "<p>10 rows × 50 columns</p>\n",
       "</div>"
      ],
      "text/plain": [
       "       sales                                                               \\\n",
       "item      1       2      3      4      5       6       7       8       9    \n",
       "store                                                                       \n",
       "1      36468   97050  60638  36440  30335   96889   96383  126856   84918   \n",
       "2      51445  137528  85808  51557  42985  136850  137057  180939  119563   \n",
       "3      45778  121985  76274  45862  38086  122355  121699  159807  106797   \n",
       "4      41886  112692  70389  42156  35653  111880  112528  147577   98684   \n",
       "5      30566   81236  50828  30634  25722   81375   81322  106941   70917   \n",
       "6      30527   81319  50783  30593  25369   81264   81438  106612   72054   \n",
       "7      27681   74351  46620  28044  23252   74325   74336   98100   65557   \n",
       "8      49272  130845  82309  49208  40953  131396  130980  172486  115391   \n",
       "9      42593  112833  70365  42272  35191  112139  112869  148431   98797   \n",
       "10     45168  119725  75073  45141  37684  119808  120165  157359  105701   \n",
       "\n",
       "               ...                                                      \\\n",
       "item       10  ...     41     42      43     44      45      46     47   \n",
       "store          ...                                                       \n",
       "1      121163  ...  36525  60451   84439  48561  132788   96495  36181   \n",
       "2      171822  ...  51255  86494  120124  68997  188774  137351  51471   \n",
       "3      152266  ...  45630  76322  106269  60963  167720  121882  45870   \n",
       "4      140689  ...  42305  70374   98638  56519  154639  112153  42207   \n",
       "5      101361  ...  30733  50636   71512  40930  112166   81686  30493   \n",
       "6      101462  ...  30325  50933   71277  40761  111647   81330  30510   \n",
       "7       93412  ...  28251  46446   64688  37335  102084   74553  28265   \n",
       "8      164008  ...  49368  82433  115002  66091  180667  131481  49576   \n",
       "9      140794  ...  42347  70563   98883  56548  155381  113232  42004   \n",
       "10     150156  ...  45020  75273  105803  60106  165601  120601  45204   \n",
       "\n",
       "                              \n",
       "item       48     49      50  \n",
       "store                         \n",
       "1       84993  48319  108360  \n",
       "2      120568  68862  154520  \n",
       "3      107188  60732  136874  \n",
       "4       98176  56315  125851  \n",
       "5       71728  40851   91883  \n",
       "6       71310  40503   92243  \n",
       "7       65050  37262   83674  \n",
       "8      114558  65800  147855  \n",
       "9       98562  56702  126557  \n",
       "10     105570  60317  135192  \n",
       "\n",
       "[10 rows x 50 columns]"
      ]
     },
     "metadata": {},
     "output_type": "display_data"
    }
   ],
   "source": [
    "# Vamos entender como as vendas estão distribuídas por lojas, vamos realizar o pivot dos dados e aplicar a função média de vendas por item.\n",
    "df_store = df_train.copy()\n",
    "df_sales_pivoted = pd.pivot_table(df_store, index='store', values=['sales'], columns='item', aggfunc=np.sum)\n",
    "# Dataframe com Pivot\n",
    "display(df_sales_pivoted)"
   ]
  },
  {
   "cell_type": "code",
   "execution_count": 88,
   "metadata": {},
   "outputs": [
    {
     "data": {
      "application/vnd.plotly.v1+json": {
       "config": {
        "plotlyServerURL": "https://plot.ly"
       },
       "data": [
        {
         "type": "bar",
         "x": [
          1,
          2,
          3,
          4,
          5,
          6,
          7,
          8,
          9,
          10,
          11,
          12,
          13,
          14,
          15,
          16,
          17,
          18,
          19,
          20,
          21,
          22,
          23,
          24,
          25,
          26,
          27,
          28,
          29,
          30,
          31,
          32,
          33,
          34,
          35,
          36,
          37,
          38,
          39,
          40,
          41,
          42,
          43,
          44,
          45,
          46,
          47,
          48,
          49,
          50
         ],
         "y": [
          36468,
          97050,
          60638,
          36440,
          30335,
          96889,
          96383,
          126856,
          84918,
          121163,
          115436,
          115465,
          139067,
          97050,
          145497,
          42605,
          54729,
          139407,
          66972,
          78318,
          66058,
          132899,
          48334,
          109560,
          132816,
          78949,
          36613,
          145289,
          115196,
          66317,
          96793,
          72744,
          114592,
          42500,
          108638,
          126560,
          48251,
          133927,
          72483,
          48286,
          36525,
          60451,
          84439,
          48561,
          132788,
          96495,
          36181,
          84993,
          48319,
          108360
         ]
        }
       ],
       "layout": {
        "autosize": false,
        "height": 300,
        "template": {
         "data": {
          "bar": [
           {
            "error_x": {
             "color": "#2a3f5f"
            },
            "error_y": {
             "color": "#2a3f5f"
            },
            "marker": {
             "line": {
              "color": "#E5ECF6",
              "width": 0.5
             },
             "pattern": {
              "fillmode": "overlay",
              "size": 10,
              "solidity": 0.2
             }
            },
            "type": "bar"
           }
          ],
          "barpolar": [
           {
            "marker": {
             "line": {
              "color": "#E5ECF6",
              "width": 0.5
             },
             "pattern": {
              "fillmode": "overlay",
              "size": 10,
              "solidity": 0.2
             }
            },
            "type": "barpolar"
           }
          ],
          "carpet": [
           {
            "aaxis": {
             "endlinecolor": "#2a3f5f",
             "gridcolor": "white",
             "linecolor": "white",
             "minorgridcolor": "white",
             "startlinecolor": "#2a3f5f"
            },
            "baxis": {
             "endlinecolor": "#2a3f5f",
             "gridcolor": "white",
             "linecolor": "white",
             "minorgridcolor": "white",
             "startlinecolor": "#2a3f5f"
            },
            "type": "carpet"
           }
          ],
          "choropleth": [
           {
            "colorbar": {
             "outlinewidth": 0,
             "ticks": ""
            },
            "type": "choropleth"
           }
          ],
          "contour": [
           {
            "colorbar": {
             "outlinewidth": 0,
             "ticks": ""
            },
            "colorscale": [
             [
              0,
              "#0d0887"
             ],
             [
              0.1111111111111111,
              "#46039f"
             ],
             [
              0.2222222222222222,
              "#7201a8"
             ],
             [
              0.3333333333333333,
              "#9c179e"
             ],
             [
              0.4444444444444444,
              "#bd3786"
             ],
             [
              0.5555555555555556,
              "#d8576b"
             ],
             [
              0.6666666666666666,
              "#ed7953"
             ],
             [
              0.7777777777777778,
              "#fb9f3a"
             ],
             [
              0.8888888888888888,
              "#fdca26"
             ],
             [
              1,
              "#f0f921"
             ]
            ],
            "type": "contour"
           }
          ],
          "contourcarpet": [
           {
            "colorbar": {
             "outlinewidth": 0,
             "ticks": ""
            },
            "type": "contourcarpet"
           }
          ],
          "heatmap": [
           {
            "colorbar": {
             "outlinewidth": 0,
             "ticks": ""
            },
            "colorscale": [
             [
              0,
              "#0d0887"
             ],
             [
              0.1111111111111111,
              "#46039f"
             ],
             [
              0.2222222222222222,
              "#7201a8"
             ],
             [
              0.3333333333333333,
              "#9c179e"
             ],
             [
              0.4444444444444444,
              "#bd3786"
             ],
             [
              0.5555555555555556,
              "#d8576b"
             ],
             [
              0.6666666666666666,
              "#ed7953"
             ],
             [
              0.7777777777777778,
              "#fb9f3a"
             ],
             [
              0.8888888888888888,
              "#fdca26"
             ],
             [
              1,
              "#f0f921"
             ]
            ],
            "type": "heatmap"
           }
          ],
          "heatmapgl": [
           {
            "colorbar": {
             "outlinewidth": 0,
             "ticks": ""
            },
            "colorscale": [
             [
              0,
              "#0d0887"
             ],
             [
              0.1111111111111111,
              "#46039f"
             ],
             [
              0.2222222222222222,
              "#7201a8"
             ],
             [
              0.3333333333333333,
              "#9c179e"
             ],
             [
              0.4444444444444444,
              "#bd3786"
             ],
             [
              0.5555555555555556,
              "#d8576b"
             ],
             [
              0.6666666666666666,
              "#ed7953"
             ],
             [
              0.7777777777777778,
              "#fb9f3a"
             ],
             [
              0.8888888888888888,
              "#fdca26"
             ],
             [
              1,
              "#f0f921"
             ]
            ],
            "type": "heatmapgl"
           }
          ],
          "histogram": [
           {
            "marker": {
             "pattern": {
              "fillmode": "overlay",
              "size": 10,
              "solidity": 0.2
             }
            },
            "type": "histogram"
           }
          ],
          "histogram2d": [
           {
            "colorbar": {
             "outlinewidth": 0,
             "ticks": ""
            },
            "colorscale": [
             [
              0,
              "#0d0887"
             ],
             [
              0.1111111111111111,
              "#46039f"
             ],
             [
              0.2222222222222222,
              "#7201a8"
             ],
             [
              0.3333333333333333,
              "#9c179e"
             ],
             [
              0.4444444444444444,
              "#bd3786"
             ],
             [
              0.5555555555555556,
              "#d8576b"
             ],
             [
              0.6666666666666666,
              "#ed7953"
             ],
             [
              0.7777777777777778,
              "#fb9f3a"
             ],
             [
              0.8888888888888888,
              "#fdca26"
             ],
             [
              1,
              "#f0f921"
             ]
            ],
            "type": "histogram2d"
           }
          ],
          "histogram2dcontour": [
           {
            "colorbar": {
             "outlinewidth": 0,
             "ticks": ""
            },
            "colorscale": [
             [
              0,
              "#0d0887"
             ],
             [
              0.1111111111111111,
              "#46039f"
             ],
             [
              0.2222222222222222,
              "#7201a8"
             ],
             [
              0.3333333333333333,
              "#9c179e"
             ],
             [
              0.4444444444444444,
              "#bd3786"
             ],
             [
              0.5555555555555556,
              "#d8576b"
             ],
             [
              0.6666666666666666,
              "#ed7953"
             ],
             [
              0.7777777777777778,
              "#fb9f3a"
             ],
             [
              0.8888888888888888,
              "#fdca26"
             ],
             [
              1,
              "#f0f921"
             ]
            ],
            "type": "histogram2dcontour"
           }
          ],
          "mesh3d": [
           {
            "colorbar": {
             "outlinewidth": 0,
             "ticks": ""
            },
            "type": "mesh3d"
           }
          ],
          "parcoords": [
           {
            "line": {
             "colorbar": {
              "outlinewidth": 0,
              "ticks": ""
             }
            },
            "type": "parcoords"
           }
          ],
          "pie": [
           {
            "automargin": true,
            "type": "pie"
           }
          ],
          "scatter": [
           {
            "fillpattern": {
             "fillmode": "overlay",
             "size": 10,
             "solidity": 0.2
            },
            "type": "scatter"
           }
          ],
          "scatter3d": [
           {
            "line": {
             "colorbar": {
              "outlinewidth": 0,
              "ticks": ""
             }
            },
            "marker": {
             "colorbar": {
              "outlinewidth": 0,
              "ticks": ""
             }
            },
            "type": "scatter3d"
           }
          ],
          "scattercarpet": [
           {
            "marker": {
             "colorbar": {
              "outlinewidth": 0,
              "ticks": ""
             }
            },
            "type": "scattercarpet"
           }
          ],
          "scattergeo": [
           {
            "marker": {
             "colorbar": {
              "outlinewidth": 0,
              "ticks": ""
             }
            },
            "type": "scattergeo"
           }
          ],
          "scattergl": [
           {
            "marker": {
             "colorbar": {
              "outlinewidth": 0,
              "ticks": ""
             }
            },
            "type": "scattergl"
           }
          ],
          "scattermapbox": [
           {
            "marker": {
             "colorbar": {
              "outlinewidth": 0,
              "ticks": ""
             }
            },
            "type": "scattermapbox"
           }
          ],
          "scatterpolar": [
           {
            "marker": {
             "colorbar": {
              "outlinewidth": 0,
              "ticks": ""
             }
            },
            "type": "scatterpolar"
           }
          ],
          "scatterpolargl": [
           {
            "marker": {
             "colorbar": {
              "outlinewidth": 0,
              "ticks": ""
             }
            },
            "type": "scatterpolargl"
           }
          ],
          "scatterternary": [
           {
            "marker": {
             "colorbar": {
              "outlinewidth": 0,
              "ticks": ""
             }
            },
            "type": "scatterternary"
           }
          ],
          "surface": [
           {
            "colorbar": {
             "outlinewidth": 0,
             "ticks": ""
            },
            "colorscale": [
             [
              0,
              "#0d0887"
             ],
             [
              0.1111111111111111,
              "#46039f"
             ],
             [
              0.2222222222222222,
              "#7201a8"
             ],
             [
              0.3333333333333333,
              "#9c179e"
             ],
             [
              0.4444444444444444,
              "#bd3786"
             ],
             [
              0.5555555555555556,
              "#d8576b"
             ],
             [
              0.6666666666666666,
              "#ed7953"
             ],
             [
              0.7777777777777778,
              "#fb9f3a"
             ],
             [
              0.8888888888888888,
              "#fdca26"
             ],
             [
              1,
              "#f0f921"
             ]
            ],
            "type": "surface"
           }
          ],
          "table": [
           {
            "cells": {
             "fill": {
              "color": "#EBF0F8"
             },
             "line": {
              "color": "white"
             }
            },
            "header": {
             "fill": {
              "color": "#C8D4E3"
             },
             "line": {
              "color": "white"
             }
            },
            "type": "table"
           }
          ]
         },
         "layout": {
          "annotationdefaults": {
           "arrowcolor": "#2a3f5f",
           "arrowhead": 0,
           "arrowwidth": 1
          },
          "autotypenumbers": "strict",
          "coloraxis": {
           "colorbar": {
            "outlinewidth": 0,
            "ticks": ""
           }
          },
          "colorscale": {
           "diverging": [
            [
             0,
             "#8e0152"
            ],
            [
             0.1,
             "#c51b7d"
            ],
            [
             0.2,
             "#de77ae"
            ],
            [
             0.3,
             "#f1b6da"
            ],
            [
             0.4,
             "#fde0ef"
            ],
            [
             0.5,
             "#f7f7f7"
            ],
            [
             0.6,
             "#e6f5d0"
            ],
            [
             0.7,
             "#b8e186"
            ],
            [
             0.8,
             "#7fbc41"
            ],
            [
             0.9,
             "#4d9221"
            ],
            [
             1,
             "#276419"
            ]
           ],
           "sequential": [
            [
             0,
             "#0d0887"
            ],
            [
             0.1111111111111111,
             "#46039f"
            ],
            [
             0.2222222222222222,
             "#7201a8"
            ],
            [
             0.3333333333333333,
             "#9c179e"
            ],
            [
             0.4444444444444444,
             "#bd3786"
            ],
            [
             0.5555555555555556,
             "#d8576b"
            ],
            [
             0.6666666666666666,
             "#ed7953"
            ],
            [
             0.7777777777777778,
             "#fb9f3a"
            ],
            [
             0.8888888888888888,
             "#fdca26"
            ],
            [
             1,
             "#f0f921"
            ]
           ],
           "sequentialminus": [
            [
             0,
             "#0d0887"
            ],
            [
             0.1111111111111111,
             "#46039f"
            ],
            [
             0.2222222222222222,
             "#7201a8"
            ],
            [
             0.3333333333333333,
             "#9c179e"
            ],
            [
             0.4444444444444444,
             "#bd3786"
            ],
            [
             0.5555555555555556,
             "#d8576b"
            ],
            [
             0.6666666666666666,
             "#ed7953"
            ],
            [
             0.7777777777777778,
             "#fb9f3a"
            ],
            [
             0.8888888888888888,
             "#fdca26"
            ],
            [
             1,
             "#f0f921"
            ]
           ]
          },
          "colorway": [
           "#636efa",
           "#EF553B",
           "#00cc96",
           "#ab63fa",
           "#FFA15A",
           "#19d3f3",
           "#FF6692",
           "#B6E880",
           "#FF97FF",
           "#FECB52"
          ],
          "font": {
           "color": "#2a3f5f"
          },
          "geo": {
           "bgcolor": "white",
           "lakecolor": "white",
           "landcolor": "#E5ECF6",
           "showlakes": true,
           "showland": true,
           "subunitcolor": "white"
          },
          "hoverlabel": {
           "align": "left"
          },
          "hovermode": "closest",
          "mapbox": {
           "style": "light"
          },
          "paper_bgcolor": "white",
          "plot_bgcolor": "#E5ECF6",
          "polar": {
           "angularaxis": {
            "gridcolor": "white",
            "linecolor": "white",
            "ticks": ""
           },
           "bgcolor": "#E5ECF6",
           "radialaxis": {
            "gridcolor": "white",
            "linecolor": "white",
            "ticks": ""
           }
          },
          "scene": {
           "xaxis": {
            "backgroundcolor": "#E5ECF6",
            "gridcolor": "white",
            "gridwidth": 2,
            "linecolor": "white",
            "showbackground": true,
            "ticks": "",
            "zerolinecolor": "white"
           },
           "yaxis": {
            "backgroundcolor": "#E5ECF6",
            "gridcolor": "white",
            "gridwidth": 2,
            "linecolor": "white",
            "showbackground": true,
            "ticks": "",
            "zerolinecolor": "white"
           },
           "zaxis": {
            "backgroundcolor": "#E5ECF6",
            "gridcolor": "white",
            "gridwidth": 2,
            "linecolor": "white",
            "showbackground": true,
            "ticks": "",
            "zerolinecolor": "white"
           }
          },
          "shapedefaults": {
           "line": {
            "color": "#2a3f5f"
           }
          },
          "ternary": {
           "aaxis": {
            "gridcolor": "white",
            "linecolor": "white",
            "ticks": ""
           },
           "baxis": {
            "gridcolor": "white",
            "linecolor": "white",
            "ticks": ""
           },
           "bgcolor": "#E5ECF6",
           "caxis": {
            "gridcolor": "white",
            "linecolor": "white",
            "ticks": ""
           }
          },
          "title": {
           "x": 0.05
          },
          "xaxis": {
           "automargin": true,
           "gridcolor": "white",
           "linecolor": "white",
           "ticks": "",
           "title": {
            "standoff": 15
           },
           "zerolinecolor": "white",
           "zerolinewidth": 2
          },
          "yaxis": {
           "automargin": true,
           "gridcolor": "white",
           "linecolor": "white",
           "ticks": "",
           "title": {
            "standoff": 15
           },
           "zerolinecolor": "white",
           "zerolinewidth": 2
          }
         }
        },
        "title": {
         "text": "<span>Vendas da loja 0</span>"
        },
        "width": 1200,
        "xaxis": {
         "title": {
          "text": "<span>Itens</span>"
         }
        },
        "yaxis": {
         "title": {
          "text": "<span>Quantidade</span>"
         }
        }
       }
      }
     },
     "metadata": {},
     "output_type": "display_data"
    },
    {
     "data": {
      "application/vnd.plotly.v1+json": {
       "config": {
        "plotlyServerURL": "https://plot.ly"
       },
       "data": [
        {
         "type": "bar",
         "x": [
          1,
          2,
          3,
          4,
          5,
          6,
          7,
          8,
          9,
          10,
          11,
          12,
          13,
          14,
          15,
          16,
          17,
          18,
          19,
          20,
          21,
          22,
          23,
          24,
          25,
          26,
          27,
          28,
          29,
          30,
          31,
          32,
          33,
          34,
          35,
          36,
          37,
          38,
          39,
          40,
          41,
          42,
          43,
          44,
          45,
          46,
          47,
          48,
          49,
          50
         ],
         "y": [
          51445,
          137528,
          85808,
          51557,
          42985,
          136850,
          137057,
          180939,
          119563,
          171822,
          163080,
          163154,
          197031,
          137607,
          205569,
          60167,
          77730,
          197422,
          94623,
          111346,
          94507,
          188096,
          68601,
          154813,
          188856,
          111575,
          51747,
          205677,
          162466,
          94633,
          137455,
          103635,
          163083,
          60425,
          154594,
          180355,
          68218,
          188533,
          102556,
          68604,
          51255,
          86494,
          120124,
          68997,
          188774,
          137351,
          51471,
          120568,
          68862,
          154520
         ]
        }
       ],
       "layout": {
        "autosize": false,
        "height": 300,
        "template": {
         "data": {
          "bar": [
           {
            "error_x": {
             "color": "#2a3f5f"
            },
            "error_y": {
             "color": "#2a3f5f"
            },
            "marker": {
             "line": {
              "color": "#E5ECF6",
              "width": 0.5
             },
             "pattern": {
              "fillmode": "overlay",
              "size": 10,
              "solidity": 0.2
             }
            },
            "type": "bar"
           }
          ],
          "barpolar": [
           {
            "marker": {
             "line": {
              "color": "#E5ECF6",
              "width": 0.5
             },
             "pattern": {
              "fillmode": "overlay",
              "size": 10,
              "solidity": 0.2
             }
            },
            "type": "barpolar"
           }
          ],
          "carpet": [
           {
            "aaxis": {
             "endlinecolor": "#2a3f5f",
             "gridcolor": "white",
             "linecolor": "white",
             "minorgridcolor": "white",
             "startlinecolor": "#2a3f5f"
            },
            "baxis": {
             "endlinecolor": "#2a3f5f",
             "gridcolor": "white",
             "linecolor": "white",
             "minorgridcolor": "white",
             "startlinecolor": "#2a3f5f"
            },
            "type": "carpet"
           }
          ],
          "choropleth": [
           {
            "colorbar": {
             "outlinewidth": 0,
             "ticks": ""
            },
            "type": "choropleth"
           }
          ],
          "contour": [
           {
            "colorbar": {
             "outlinewidth": 0,
             "ticks": ""
            },
            "colorscale": [
             [
              0,
              "#0d0887"
             ],
             [
              0.1111111111111111,
              "#46039f"
             ],
             [
              0.2222222222222222,
              "#7201a8"
             ],
             [
              0.3333333333333333,
              "#9c179e"
             ],
             [
              0.4444444444444444,
              "#bd3786"
             ],
             [
              0.5555555555555556,
              "#d8576b"
             ],
             [
              0.6666666666666666,
              "#ed7953"
             ],
             [
              0.7777777777777778,
              "#fb9f3a"
             ],
             [
              0.8888888888888888,
              "#fdca26"
             ],
             [
              1,
              "#f0f921"
             ]
            ],
            "type": "contour"
           }
          ],
          "contourcarpet": [
           {
            "colorbar": {
             "outlinewidth": 0,
             "ticks": ""
            },
            "type": "contourcarpet"
           }
          ],
          "heatmap": [
           {
            "colorbar": {
             "outlinewidth": 0,
             "ticks": ""
            },
            "colorscale": [
             [
              0,
              "#0d0887"
             ],
             [
              0.1111111111111111,
              "#46039f"
             ],
             [
              0.2222222222222222,
              "#7201a8"
             ],
             [
              0.3333333333333333,
              "#9c179e"
             ],
             [
              0.4444444444444444,
              "#bd3786"
             ],
             [
              0.5555555555555556,
              "#d8576b"
             ],
             [
              0.6666666666666666,
              "#ed7953"
             ],
             [
              0.7777777777777778,
              "#fb9f3a"
             ],
             [
              0.8888888888888888,
              "#fdca26"
             ],
             [
              1,
              "#f0f921"
             ]
            ],
            "type": "heatmap"
           }
          ],
          "heatmapgl": [
           {
            "colorbar": {
             "outlinewidth": 0,
             "ticks": ""
            },
            "colorscale": [
             [
              0,
              "#0d0887"
             ],
             [
              0.1111111111111111,
              "#46039f"
             ],
             [
              0.2222222222222222,
              "#7201a8"
             ],
             [
              0.3333333333333333,
              "#9c179e"
             ],
             [
              0.4444444444444444,
              "#bd3786"
             ],
             [
              0.5555555555555556,
              "#d8576b"
             ],
             [
              0.6666666666666666,
              "#ed7953"
             ],
             [
              0.7777777777777778,
              "#fb9f3a"
             ],
             [
              0.8888888888888888,
              "#fdca26"
             ],
             [
              1,
              "#f0f921"
             ]
            ],
            "type": "heatmapgl"
           }
          ],
          "histogram": [
           {
            "marker": {
             "pattern": {
              "fillmode": "overlay",
              "size": 10,
              "solidity": 0.2
             }
            },
            "type": "histogram"
           }
          ],
          "histogram2d": [
           {
            "colorbar": {
             "outlinewidth": 0,
             "ticks": ""
            },
            "colorscale": [
             [
              0,
              "#0d0887"
             ],
             [
              0.1111111111111111,
              "#46039f"
             ],
             [
              0.2222222222222222,
              "#7201a8"
             ],
             [
              0.3333333333333333,
              "#9c179e"
             ],
             [
              0.4444444444444444,
              "#bd3786"
             ],
             [
              0.5555555555555556,
              "#d8576b"
             ],
             [
              0.6666666666666666,
              "#ed7953"
             ],
             [
              0.7777777777777778,
              "#fb9f3a"
             ],
             [
              0.8888888888888888,
              "#fdca26"
             ],
             [
              1,
              "#f0f921"
             ]
            ],
            "type": "histogram2d"
           }
          ],
          "histogram2dcontour": [
           {
            "colorbar": {
             "outlinewidth": 0,
             "ticks": ""
            },
            "colorscale": [
             [
              0,
              "#0d0887"
             ],
             [
              0.1111111111111111,
              "#46039f"
             ],
             [
              0.2222222222222222,
              "#7201a8"
             ],
             [
              0.3333333333333333,
              "#9c179e"
             ],
             [
              0.4444444444444444,
              "#bd3786"
             ],
             [
              0.5555555555555556,
              "#d8576b"
             ],
             [
              0.6666666666666666,
              "#ed7953"
             ],
             [
              0.7777777777777778,
              "#fb9f3a"
             ],
             [
              0.8888888888888888,
              "#fdca26"
             ],
             [
              1,
              "#f0f921"
             ]
            ],
            "type": "histogram2dcontour"
           }
          ],
          "mesh3d": [
           {
            "colorbar": {
             "outlinewidth": 0,
             "ticks": ""
            },
            "type": "mesh3d"
           }
          ],
          "parcoords": [
           {
            "line": {
             "colorbar": {
              "outlinewidth": 0,
              "ticks": ""
             }
            },
            "type": "parcoords"
           }
          ],
          "pie": [
           {
            "automargin": true,
            "type": "pie"
           }
          ],
          "scatter": [
           {
            "fillpattern": {
             "fillmode": "overlay",
             "size": 10,
             "solidity": 0.2
            },
            "type": "scatter"
           }
          ],
          "scatter3d": [
           {
            "line": {
             "colorbar": {
              "outlinewidth": 0,
              "ticks": ""
             }
            },
            "marker": {
             "colorbar": {
              "outlinewidth": 0,
              "ticks": ""
             }
            },
            "type": "scatter3d"
           }
          ],
          "scattercarpet": [
           {
            "marker": {
             "colorbar": {
              "outlinewidth": 0,
              "ticks": ""
             }
            },
            "type": "scattercarpet"
           }
          ],
          "scattergeo": [
           {
            "marker": {
             "colorbar": {
              "outlinewidth": 0,
              "ticks": ""
             }
            },
            "type": "scattergeo"
           }
          ],
          "scattergl": [
           {
            "marker": {
             "colorbar": {
              "outlinewidth": 0,
              "ticks": ""
             }
            },
            "type": "scattergl"
           }
          ],
          "scattermapbox": [
           {
            "marker": {
             "colorbar": {
              "outlinewidth": 0,
              "ticks": ""
             }
            },
            "type": "scattermapbox"
           }
          ],
          "scatterpolar": [
           {
            "marker": {
             "colorbar": {
              "outlinewidth": 0,
              "ticks": ""
             }
            },
            "type": "scatterpolar"
           }
          ],
          "scatterpolargl": [
           {
            "marker": {
             "colorbar": {
              "outlinewidth": 0,
              "ticks": ""
             }
            },
            "type": "scatterpolargl"
           }
          ],
          "scatterternary": [
           {
            "marker": {
             "colorbar": {
              "outlinewidth": 0,
              "ticks": ""
             }
            },
            "type": "scatterternary"
           }
          ],
          "surface": [
           {
            "colorbar": {
             "outlinewidth": 0,
             "ticks": ""
            },
            "colorscale": [
             [
              0,
              "#0d0887"
             ],
             [
              0.1111111111111111,
              "#46039f"
             ],
             [
              0.2222222222222222,
              "#7201a8"
             ],
             [
              0.3333333333333333,
              "#9c179e"
             ],
             [
              0.4444444444444444,
              "#bd3786"
             ],
             [
              0.5555555555555556,
              "#d8576b"
             ],
             [
              0.6666666666666666,
              "#ed7953"
             ],
             [
              0.7777777777777778,
              "#fb9f3a"
             ],
             [
              0.8888888888888888,
              "#fdca26"
             ],
             [
              1,
              "#f0f921"
             ]
            ],
            "type": "surface"
           }
          ],
          "table": [
           {
            "cells": {
             "fill": {
              "color": "#EBF0F8"
             },
             "line": {
              "color": "white"
             }
            },
            "header": {
             "fill": {
              "color": "#C8D4E3"
             },
             "line": {
              "color": "white"
             }
            },
            "type": "table"
           }
          ]
         },
         "layout": {
          "annotationdefaults": {
           "arrowcolor": "#2a3f5f",
           "arrowhead": 0,
           "arrowwidth": 1
          },
          "autotypenumbers": "strict",
          "coloraxis": {
           "colorbar": {
            "outlinewidth": 0,
            "ticks": ""
           }
          },
          "colorscale": {
           "diverging": [
            [
             0,
             "#8e0152"
            ],
            [
             0.1,
             "#c51b7d"
            ],
            [
             0.2,
             "#de77ae"
            ],
            [
             0.3,
             "#f1b6da"
            ],
            [
             0.4,
             "#fde0ef"
            ],
            [
             0.5,
             "#f7f7f7"
            ],
            [
             0.6,
             "#e6f5d0"
            ],
            [
             0.7,
             "#b8e186"
            ],
            [
             0.8,
             "#7fbc41"
            ],
            [
             0.9,
             "#4d9221"
            ],
            [
             1,
             "#276419"
            ]
           ],
           "sequential": [
            [
             0,
             "#0d0887"
            ],
            [
             0.1111111111111111,
             "#46039f"
            ],
            [
             0.2222222222222222,
             "#7201a8"
            ],
            [
             0.3333333333333333,
             "#9c179e"
            ],
            [
             0.4444444444444444,
             "#bd3786"
            ],
            [
             0.5555555555555556,
             "#d8576b"
            ],
            [
             0.6666666666666666,
             "#ed7953"
            ],
            [
             0.7777777777777778,
             "#fb9f3a"
            ],
            [
             0.8888888888888888,
             "#fdca26"
            ],
            [
             1,
             "#f0f921"
            ]
           ],
           "sequentialminus": [
            [
             0,
             "#0d0887"
            ],
            [
             0.1111111111111111,
             "#46039f"
            ],
            [
             0.2222222222222222,
             "#7201a8"
            ],
            [
             0.3333333333333333,
             "#9c179e"
            ],
            [
             0.4444444444444444,
             "#bd3786"
            ],
            [
             0.5555555555555556,
             "#d8576b"
            ],
            [
             0.6666666666666666,
             "#ed7953"
            ],
            [
             0.7777777777777778,
             "#fb9f3a"
            ],
            [
             0.8888888888888888,
             "#fdca26"
            ],
            [
             1,
             "#f0f921"
            ]
           ]
          },
          "colorway": [
           "#636efa",
           "#EF553B",
           "#00cc96",
           "#ab63fa",
           "#FFA15A",
           "#19d3f3",
           "#FF6692",
           "#B6E880",
           "#FF97FF",
           "#FECB52"
          ],
          "font": {
           "color": "#2a3f5f"
          },
          "geo": {
           "bgcolor": "white",
           "lakecolor": "white",
           "landcolor": "#E5ECF6",
           "showlakes": true,
           "showland": true,
           "subunitcolor": "white"
          },
          "hoverlabel": {
           "align": "left"
          },
          "hovermode": "closest",
          "mapbox": {
           "style": "light"
          },
          "paper_bgcolor": "white",
          "plot_bgcolor": "#E5ECF6",
          "polar": {
           "angularaxis": {
            "gridcolor": "white",
            "linecolor": "white",
            "ticks": ""
           },
           "bgcolor": "#E5ECF6",
           "radialaxis": {
            "gridcolor": "white",
            "linecolor": "white",
            "ticks": ""
           }
          },
          "scene": {
           "xaxis": {
            "backgroundcolor": "#E5ECF6",
            "gridcolor": "white",
            "gridwidth": 2,
            "linecolor": "white",
            "showbackground": true,
            "ticks": "",
            "zerolinecolor": "white"
           },
           "yaxis": {
            "backgroundcolor": "#E5ECF6",
            "gridcolor": "white",
            "gridwidth": 2,
            "linecolor": "white",
            "showbackground": true,
            "ticks": "",
            "zerolinecolor": "white"
           },
           "zaxis": {
            "backgroundcolor": "#E5ECF6",
            "gridcolor": "white",
            "gridwidth": 2,
            "linecolor": "white",
            "showbackground": true,
            "ticks": "",
            "zerolinecolor": "white"
           }
          },
          "shapedefaults": {
           "line": {
            "color": "#2a3f5f"
           }
          },
          "ternary": {
           "aaxis": {
            "gridcolor": "white",
            "linecolor": "white",
            "ticks": ""
           },
           "baxis": {
            "gridcolor": "white",
            "linecolor": "white",
            "ticks": ""
           },
           "bgcolor": "#E5ECF6",
           "caxis": {
            "gridcolor": "white",
            "linecolor": "white",
            "ticks": ""
           }
          },
          "title": {
           "x": 0.05
          },
          "xaxis": {
           "automargin": true,
           "gridcolor": "white",
           "linecolor": "white",
           "ticks": "",
           "title": {
            "standoff": 15
           },
           "zerolinecolor": "white",
           "zerolinewidth": 2
          },
          "yaxis": {
           "automargin": true,
           "gridcolor": "white",
           "linecolor": "white",
           "ticks": "",
           "title": {
            "standoff": 15
           },
           "zerolinecolor": "white",
           "zerolinewidth": 2
          }
         }
        },
        "title": {
         "text": "<span>Vendas da loja 1</span>"
        },
        "width": 1200,
        "xaxis": {
         "title": {
          "text": "<span>Itens</span>"
         }
        },
        "yaxis": {
         "title": {
          "text": "<span>Quantidade</span>"
         }
        }
       }
      }
     },
     "metadata": {},
     "output_type": "display_data"
    },
    {
     "data": {
      "application/vnd.plotly.v1+json": {
       "config": {
        "plotlyServerURL": "https://plot.ly"
       },
       "data": [
        {
         "type": "bar",
         "x": [
          1,
          2,
          3,
          4,
          5,
          6,
          7,
          8,
          9,
          10,
          11,
          12,
          13,
          14,
          15,
          16,
          17,
          18,
          19,
          20,
          21,
          22,
          23,
          24,
          25,
          26,
          27,
          28,
          29,
          30,
          31,
          32,
          33,
          34,
          35,
          36,
          37,
          38,
          39,
          40,
          41,
          42,
          43,
          44,
          45,
          46,
          47,
          48,
          49,
          50
         ],
         "y": [
          45778,
          121985,
          76274,
          45862,
          38086,
          122355,
          121699,
          159807,
          106797,
          152266,
          144786,
          144407,
          175688,
          122052,
          183373,
          53215,
          68937,
          175462,
          83730,
          99049,
          83915,
          167710,
          60970,
          137231,
          167699,
          98960,
          45816,
          182862,
          145499,
          83902,
          122295,
          91372,
          144490,
          53122,
          136262,
          160247,
          61063,
          167758,
          91616,
          61297,
          45630,
          76322,
          106269,
          60963,
          167720,
          121882,
          45870,
          107188,
          60732,
          136874
         ]
        }
       ],
       "layout": {
        "autosize": false,
        "height": 300,
        "template": {
         "data": {
          "bar": [
           {
            "error_x": {
             "color": "#2a3f5f"
            },
            "error_y": {
             "color": "#2a3f5f"
            },
            "marker": {
             "line": {
              "color": "#E5ECF6",
              "width": 0.5
             },
             "pattern": {
              "fillmode": "overlay",
              "size": 10,
              "solidity": 0.2
             }
            },
            "type": "bar"
           }
          ],
          "barpolar": [
           {
            "marker": {
             "line": {
              "color": "#E5ECF6",
              "width": 0.5
             },
             "pattern": {
              "fillmode": "overlay",
              "size": 10,
              "solidity": 0.2
             }
            },
            "type": "barpolar"
           }
          ],
          "carpet": [
           {
            "aaxis": {
             "endlinecolor": "#2a3f5f",
             "gridcolor": "white",
             "linecolor": "white",
             "minorgridcolor": "white",
             "startlinecolor": "#2a3f5f"
            },
            "baxis": {
             "endlinecolor": "#2a3f5f",
             "gridcolor": "white",
             "linecolor": "white",
             "minorgridcolor": "white",
             "startlinecolor": "#2a3f5f"
            },
            "type": "carpet"
           }
          ],
          "choropleth": [
           {
            "colorbar": {
             "outlinewidth": 0,
             "ticks": ""
            },
            "type": "choropleth"
           }
          ],
          "contour": [
           {
            "colorbar": {
             "outlinewidth": 0,
             "ticks": ""
            },
            "colorscale": [
             [
              0,
              "#0d0887"
             ],
             [
              0.1111111111111111,
              "#46039f"
             ],
             [
              0.2222222222222222,
              "#7201a8"
             ],
             [
              0.3333333333333333,
              "#9c179e"
             ],
             [
              0.4444444444444444,
              "#bd3786"
             ],
             [
              0.5555555555555556,
              "#d8576b"
             ],
             [
              0.6666666666666666,
              "#ed7953"
             ],
             [
              0.7777777777777778,
              "#fb9f3a"
             ],
             [
              0.8888888888888888,
              "#fdca26"
             ],
             [
              1,
              "#f0f921"
             ]
            ],
            "type": "contour"
           }
          ],
          "contourcarpet": [
           {
            "colorbar": {
             "outlinewidth": 0,
             "ticks": ""
            },
            "type": "contourcarpet"
           }
          ],
          "heatmap": [
           {
            "colorbar": {
             "outlinewidth": 0,
             "ticks": ""
            },
            "colorscale": [
             [
              0,
              "#0d0887"
             ],
             [
              0.1111111111111111,
              "#46039f"
             ],
             [
              0.2222222222222222,
              "#7201a8"
             ],
             [
              0.3333333333333333,
              "#9c179e"
             ],
             [
              0.4444444444444444,
              "#bd3786"
             ],
             [
              0.5555555555555556,
              "#d8576b"
             ],
             [
              0.6666666666666666,
              "#ed7953"
             ],
             [
              0.7777777777777778,
              "#fb9f3a"
             ],
             [
              0.8888888888888888,
              "#fdca26"
             ],
             [
              1,
              "#f0f921"
             ]
            ],
            "type": "heatmap"
           }
          ],
          "heatmapgl": [
           {
            "colorbar": {
             "outlinewidth": 0,
             "ticks": ""
            },
            "colorscale": [
             [
              0,
              "#0d0887"
             ],
             [
              0.1111111111111111,
              "#46039f"
             ],
             [
              0.2222222222222222,
              "#7201a8"
             ],
             [
              0.3333333333333333,
              "#9c179e"
             ],
             [
              0.4444444444444444,
              "#bd3786"
             ],
             [
              0.5555555555555556,
              "#d8576b"
             ],
             [
              0.6666666666666666,
              "#ed7953"
             ],
             [
              0.7777777777777778,
              "#fb9f3a"
             ],
             [
              0.8888888888888888,
              "#fdca26"
             ],
             [
              1,
              "#f0f921"
             ]
            ],
            "type": "heatmapgl"
           }
          ],
          "histogram": [
           {
            "marker": {
             "pattern": {
              "fillmode": "overlay",
              "size": 10,
              "solidity": 0.2
             }
            },
            "type": "histogram"
           }
          ],
          "histogram2d": [
           {
            "colorbar": {
             "outlinewidth": 0,
             "ticks": ""
            },
            "colorscale": [
             [
              0,
              "#0d0887"
             ],
             [
              0.1111111111111111,
              "#46039f"
             ],
             [
              0.2222222222222222,
              "#7201a8"
             ],
             [
              0.3333333333333333,
              "#9c179e"
             ],
             [
              0.4444444444444444,
              "#bd3786"
             ],
             [
              0.5555555555555556,
              "#d8576b"
             ],
             [
              0.6666666666666666,
              "#ed7953"
             ],
             [
              0.7777777777777778,
              "#fb9f3a"
             ],
             [
              0.8888888888888888,
              "#fdca26"
             ],
             [
              1,
              "#f0f921"
             ]
            ],
            "type": "histogram2d"
           }
          ],
          "histogram2dcontour": [
           {
            "colorbar": {
             "outlinewidth": 0,
             "ticks": ""
            },
            "colorscale": [
             [
              0,
              "#0d0887"
             ],
             [
              0.1111111111111111,
              "#46039f"
             ],
             [
              0.2222222222222222,
              "#7201a8"
             ],
             [
              0.3333333333333333,
              "#9c179e"
             ],
             [
              0.4444444444444444,
              "#bd3786"
             ],
             [
              0.5555555555555556,
              "#d8576b"
             ],
             [
              0.6666666666666666,
              "#ed7953"
             ],
             [
              0.7777777777777778,
              "#fb9f3a"
             ],
             [
              0.8888888888888888,
              "#fdca26"
             ],
             [
              1,
              "#f0f921"
             ]
            ],
            "type": "histogram2dcontour"
           }
          ],
          "mesh3d": [
           {
            "colorbar": {
             "outlinewidth": 0,
             "ticks": ""
            },
            "type": "mesh3d"
           }
          ],
          "parcoords": [
           {
            "line": {
             "colorbar": {
              "outlinewidth": 0,
              "ticks": ""
             }
            },
            "type": "parcoords"
           }
          ],
          "pie": [
           {
            "automargin": true,
            "type": "pie"
           }
          ],
          "scatter": [
           {
            "fillpattern": {
             "fillmode": "overlay",
             "size": 10,
             "solidity": 0.2
            },
            "type": "scatter"
           }
          ],
          "scatter3d": [
           {
            "line": {
             "colorbar": {
              "outlinewidth": 0,
              "ticks": ""
             }
            },
            "marker": {
             "colorbar": {
              "outlinewidth": 0,
              "ticks": ""
             }
            },
            "type": "scatter3d"
           }
          ],
          "scattercarpet": [
           {
            "marker": {
             "colorbar": {
              "outlinewidth": 0,
              "ticks": ""
             }
            },
            "type": "scattercarpet"
           }
          ],
          "scattergeo": [
           {
            "marker": {
             "colorbar": {
              "outlinewidth": 0,
              "ticks": ""
             }
            },
            "type": "scattergeo"
           }
          ],
          "scattergl": [
           {
            "marker": {
             "colorbar": {
              "outlinewidth": 0,
              "ticks": ""
             }
            },
            "type": "scattergl"
           }
          ],
          "scattermapbox": [
           {
            "marker": {
             "colorbar": {
              "outlinewidth": 0,
              "ticks": ""
             }
            },
            "type": "scattermapbox"
           }
          ],
          "scatterpolar": [
           {
            "marker": {
             "colorbar": {
              "outlinewidth": 0,
              "ticks": ""
             }
            },
            "type": "scatterpolar"
           }
          ],
          "scatterpolargl": [
           {
            "marker": {
             "colorbar": {
              "outlinewidth": 0,
              "ticks": ""
             }
            },
            "type": "scatterpolargl"
           }
          ],
          "scatterternary": [
           {
            "marker": {
             "colorbar": {
              "outlinewidth": 0,
              "ticks": ""
             }
            },
            "type": "scatterternary"
           }
          ],
          "surface": [
           {
            "colorbar": {
             "outlinewidth": 0,
             "ticks": ""
            },
            "colorscale": [
             [
              0,
              "#0d0887"
             ],
             [
              0.1111111111111111,
              "#46039f"
             ],
             [
              0.2222222222222222,
              "#7201a8"
             ],
             [
              0.3333333333333333,
              "#9c179e"
             ],
             [
              0.4444444444444444,
              "#bd3786"
             ],
             [
              0.5555555555555556,
              "#d8576b"
             ],
             [
              0.6666666666666666,
              "#ed7953"
             ],
             [
              0.7777777777777778,
              "#fb9f3a"
             ],
             [
              0.8888888888888888,
              "#fdca26"
             ],
             [
              1,
              "#f0f921"
             ]
            ],
            "type": "surface"
           }
          ],
          "table": [
           {
            "cells": {
             "fill": {
              "color": "#EBF0F8"
             },
             "line": {
              "color": "white"
             }
            },
            "header": {
             "fill": {
              "color": "#C8D4E3"
             },
             "line": {
              "color": "white"
             }
            },
            "type": "table"
           }
          ]
         },
         "layout": {
          "annotationdefaults": {
           "arrowcolor": "#2a3f5f",
           "arrowhead": 0,
           "arrowwidth": 1
          },
          "autotypenumbers": "strict",
          "coloraxis": {
           "colorbar": {
            "outlinewidth": 0,
            "ticks": ""
           }
          },
          "colorscale": {
           "diverging": [
            [
             0,
             "#8e0152"
            ],
            [
             0.1,
             "#c51b7d"
            ],
            [
             0.2,
             "#de77ae"
            ],
            [
             0.3,
             "#f1b6da"
            ],
            [
             0.4,
             "#fde0ef"
            ],
            [
             0.5,
             "#f7f7f7"
            ],
            [
             0.6,
             "#e6f5d0"
            ],
            [
             0.7,
             "#b8e186"
            ],
            [
             0.8,
             "#7fbc41"
            ],
            [
             0.9,
             "#4d9221"
            ],
            [
             1,
             "#276419"
            ]
           ],
           "sequential": [
            [
             0,
             "#0d0887"
            ],
            [
             0.1111111111111111,
             "#46039f"
            ],
            [
             0.2222222222222222,
             "#7201a8"
            ],
            [
             0.3333333333333333,
             "#9c179e"
            ],
            [
             0.4444444444444444,
             "#bd3786"
            ],
            [
             0.5555555555555556,
             "#d8576b"
            ],
            [
             0.6666666666666666,
             "#ed7953"
            ],
            [
             0.7777777777777778,
             "#fb9f3a"
            ],
            [
             0.8888888888888888,
             "#fdca26"
            ],
            [
             1,
             "#f0f921"
            ]
           ],
           "sequentialminus": [
            [
             0,
             "#0d0887"
            ],
            [
             0.1111111111111111,
             "#46039f"
            ],
            [
             0.2222222222222222,
             "#7201a8"
            ],
            [
             0.3333333333333333,
             "#9c179e"
            ],
            [
             0.4444444444444444,
             "#bd3786"
            ],
            [
             0.5555555555555556,
             "#d8576b"
            ],
            [
             0.6666666666666666,
             "#ed7953"
            ],
            [
             0.7777777777777778,
             "#fb9f3a"
            ],
            [
             0.8888888888888888,
             "#fdca26"
            ],
            [
             1,
             "#f0f921"
            ]
           ]
          },
          "colorway": [
           "#636efa",
           "#EF553B",
           "#00cc96",
           "#ab63fa",
           "#FFA15A",
           "#19d3f3",
           "#FF6692",
           "#B6E880",
           "#FF97FF",
           "#FECB52"
          ],
          "font": {
           "color": "#2a3f5f"
          },
          "geo": {
           "bgcolor": "white",
           "lakecolor": "white",
           "landcolor": "#E5ECF6",
           "showlakes": true,
           "showland": true,
           "subunitcolor": "white"
          },
          "hoverlabel": {
           "align": "left"
          },
          "hovermode": "closest",
          "mapbox": {
           "style": "light"
          },
          "paper_bgcolor": "white",
          "plot_bgcolor": "#E5ECF6",
          "polar": {
           "angularaxis": {
            "gridcolor": "white",
            "linecolor": "white",
            "ticks": ""
           },
           "bgcolor": "#E5ECF6",
           "radialaxis": {
            "gridcolor": "white",
            "linecolor": "white",
            "ticks": ""
           }
          },
          "scene": {
           "xaxis": {
            "backgroundcolor": "#E5ECF6",
            "gridcolor": "white",
            "gridwidth": 2,
            "linecolor": "white",
            "showbackground": true,
            "ticks": "",
            "zerolinecolor": "white"
           },
           "yaxis": {
            "backgroundcolor": "#E5ECF6",
            "gridcolor": "white",
            "gridwidth": 2,
            "linecolor": "white",
            "showbackground": true,
            "ticks": "",
            "zerolinecolor": "white"
           },
           "zaxis": {
            "backgroundcolor": "#E5ECF6",
            "gridcolor": "white",
            "gridwidth": 2,
            "linecolor": "white",
            "showbackground": true,
            "ticks": "",
            "zerolinecolor": "white"
           }
          },
          "shapedefaults": {
           "line": {
            "color": "#2a3f5f"
           }
          },
          "ternary": {
           "aaxis": {
            "gridcolor": "white",
            "linecolor": "white",
            "ticks": ""
           },
           "baxis": {
            "gridcolor": "white",
            "linecolor": "white",
            "ticks": ""
           },
           "bgcolor": "#E5ECF6",
           "caxis": {
            "gridcolor": "white",
            "linecolor": "white",
            "ticks": ""
           }
          },
          "title": {
           "x": 0.05
          },
          "xaxis": {
           "automargin": true,
           "gridcolor": "white",
           "linecolor": "white",
           "ticks": "",
           "title": {
            "standoff": 15
           },
           "zerolinecolor": "white",
           "zerolinewidth": 2
          },
          "yaxis": {
           "automargin": true,
           "gridcolor": "white",
           "linecolor": "white",
           "ticks": "",
           "title": {
            "standoff": 15
           },
           "zerolinecolor": "white",
           "zerolinewidth": 2
          }
         }
        },
        "title": {
         "text": "<span>Vendas da loja 2</span>"
        },
        "width": 1200,
        "xaxis": {
         "title": {
          "text": "<span>Itens</span>"
         }
        },
        "yaxis": {
         "title": {
          "text": "<span>Quantidade</span>"
         }
        }
       }
      }
     },
     "metadata": {},
     "output_type": "display_data"
    },
    {
     "data": {
      "application/vnd.plotly.v1+json": {
       "config": {
        "plotlyServerURL": "https://plot.ly"
       },
       "data": [
        {
         "type": "bar",
         "x": [
          1,
          2,
          3,
          4,
          5,
          6,
          7,
          8,
          9,
          10,
          11,
          12,
          13,
          14,
          15,
          16,
          17,
          18,
          19,
          20,
          21,
          22,
          23,
          24,
          25,
          26,
          27,
          28,
          29,
          30,
          31,
          32,
          33,
          34,
          35,
          36,
          37,
          38,
          39,
          40,
          41,
          42,
          43,
          44,
          45,
          46,
          47,
          48,
          49,
          50
         ],
         "y": [
          41886,
          112692,
          70389,
          42156,
          35653,
          111880,
          112528,
          147577,
          98684,
          140689,
          134030,
          133486,
          161792,
          112768,
          169186,
          49625,
          63092,
          161604,
          77488,
          91341,
          77230,
          154542,
          56126,
          126212,
          155251,
          91121,
          42202,
          169001,
          133743,
          77584,
          111950,
          84111,
          133989,
          49304,
          125940,
          147955,
          56125,
          154433,
          84303,
          55794,
          42305,
          70374,
          98638,
          56519,
          154639,
          112153,
          42207,
          98176,
          56315,
          125851
         ]
        }
       ],
       "layout": {
        "autosize": false,
        "height": 300,
        "template": {
         "data": {
          "bar": [
           {
            "error_x": {
             "color": "#2a3f5f"
            },
            "error_y": {
             "color": "#2a3f5f"
            },
            "marker": {
             "line": {
              "color": "#E5ECF6",
              "width": 0.5
             },
             "pattern": {
              "fillmode": "overlay",
              "size": 10,
              "solidity": 0.2
             }
            },
            "type": "bar"
           }
          ],
          "barpolar": [
           {
            "marker": {
             "line": {
              "color": "#E5ECF6",
              "width": 0.5
             },
             "pattern": {
              "fillmode": "overlay",
              "size": 10,
              "solidity": 0.2
             }
            },
            "type": "barpolar"
           }
          ],
          "carpet": [
           {
            "aaxis": {
             "endlinecolor": "#2a3f5f",
             "gridcolor": "white",
             "linecolor": "white",
             "minorgridcolor": "white",
             "startlinecolor": "#2a3f5f"
            },
            "baxis": {
             "endlinecolor": "#2a3f5f",
             "gridcolor": "white",
             "linecolor": "white",
             "minorgridcolor": "white",
             "startlinecolor": "#2a3f5f"
            },
            "type": "carpet"
           }
          ],
          "choropleth": [
           {
            "colorbar": {
             "outlinewidth": 0,
             "ticks": ""
            },
            "type": "choropleth"
           }
          ],
          "contour": [
           {
            "colorbar": {
             "outlinewidth": 0,
             "ticks": ""
            },
            "colorscale": [
             [
              0,
              "#0d0887"
             ],
             [
              0.1111111111111111,
              "#46039f"
             ],
             [
              0.2222222222222222,
              "#7201a8"
             ],
             [
              0.3333333333333333,
              "#9c179e"
             ],
             [
              0.4444444444444444,
              "#bd3786"
             ],
             [
              0.5555555555555556,
              "#d8576b"
             ],
             [
              0.6666666666666666,
              "#ed7953"
             ],
             [
              0.7777777777777778,
              "#fb9f3a"
             ],
             [
              0.8888888888888888,
              "#fdca26"
             ],
             [
              1,
              "#f0f921"
             ]
            ],
            "type": "contour"
           }
          ],
          "contourcarpet": [
           {
            "colorbar": {
             "outlinewidth": 0,
             "ticks": ""
            },
            "type": "contourcarpet"
           }
          ],
          "heatmap": [
           {
            "colorbar": {
             "outlinewidth": 0,
             "ticks": ""
            },
            "colorscale": [
             [
              0,
              "#0d0887"
             ],
             [
              0.1111111111111111,
              "#46039f"
             ],
             [
              0.2222222222222222,
              "#7201a8"
             ],
             [
              0.3333333333333333,
              "#9c179e"
             ],
             [
              0.4444444444444444,
              "#bd3786"
             ],
             [
              0.5555555555555556,
              "#d8576b"
             ],
             [
              0.6666666666666666,
              "#ed7953"
             ],
             [
              0.7777777777777778,
              "#fb9f3a"
             ],
             [
              0.8888888888888888,
              "#fdca26"
             ],
             [
              1,
              "#f0f921"
             ]
            ],
            "type": "heatmap"
           }
          ],
          "heatmapgl": [
           {
            "colorbar": {
             "outlinewidth": 0,
             "ticks": ""
            },
            "colorscale": [
             [
              0,
              "#0d0887"
             ],
             [
              0.1111111111111111,
              "#46039f"
             ],
             [
              0.2222222222222222,
              "#7201a8"
             ],
             [
              0.3333333333333333,
              "#9c179e"
             ],
             [
              0.4444444444444444,
              "#bd3786"
             ],
             [
              0.5555555555555556,
              "#d8576b"
             ],
             [
              0.6666666666666666,
              "#ed7953"
             ],
             [
              0.7777777777777778,
              "#fb9f3a"
             ],
             [
              0.8888888888888888,
              "#fdca26"
             ],
             [
              1,
              "#f0f921"
             ]
            ],
            "type": "heatmapgl"
           }
          ],
          "histogram": [
           {
            "marker": {
             "pattern": {
              "fillmode": "overlay",
              "size": 10,
              "solidity": 0.2
             }
            },
            "type": "histogram"
           }
          ],
          "histogram2d": [
           {
            "colorbar": {
             "outlinewidth": 0,
             "ticks": ""
            },
            "colorscale": [
             [
              0,
              "#0d0887"
             ],
             [
              0.1111111111111111,
              "#46039f"
             ],
             [
              0.2222222222222222,
              "#7201a8"
             ],
             [
              0.3333333333333333,
              "#9c179e"
             ],
             [
              0.4444444444444444,
              "#bd3786"
             ],
             [
              0.5555555555555556,
              "#d8576b"
             ],
             [
              0.6666666666666666,
              "#ed7953"
             ],
             [
              0.7777777777777778,
              "#fb9f3a"
             ],
             [
              0.8888888888888888,
              "#fdca26"
             ],
             [
              1,
              "#f0f921"
             ]
            ],
            "type": "histogram2d"
           }
          ],
          "histogram2dcontour": [
           {
            "colorbar": {
             "outlinewidth": 0,
             "ticks": ""
            },
            "colorscale": [
             [
              0,
              "#0d0887"
             ],
             [
              0.1111111111111111,
              "#46039f"
             ],
             [
              0.2222222222222222,
              "#7201a8"
             ],
             [
              0.3333333333333333,
              "#9c179e"
             ],
             [
              0.4444444444444444,
              "#bd3786"
             ],
             [
              0.5555555555555556,
              "#d8576b"
             ],
             [
              0.6666666666666666,
              "#ed7953"
             ],
             [
              0.7777777777777778,
              "#fb9f3a"
             ],
             [
              0.8888888888888888,
              "#fdca26"
             ],
             [
              1,
              "#f0f921"
             ]
            ],
            "type": "histogram2dcontour"
           }
          ],
          "mesh3d": [
           {
            "colorbar": {
             "outlinewidth": 0,
             "ticks": ""
            },
            "type": "mesh3d"
           }
          ],
          "parcoords": [
           {
            "line": {
             "colorbar": {
              "outlinewidth": 0,
              "ticks": ""
             }
            },
            "type": "parcoords"
           }
          ],
          "pie": [
           {
            "automargin": true,
            "type": "pie"
           }
          ],
          "scatter": [
           {
            "fillpattern": {
             "fillmode": "overlay",
             "size": 10,
             "solidity": 0.2
            },
            "type": "scatter"
           }
          ],
          "scatter3d": [
           {
            "line": {
             "colorbar": {
              "outlinewidth": 0,
              "ticks": ""
             }
            },
            "marker": {
             "colorbar": {
              "outlinewidth": 0,
              "ticks": ""
             }
            },
            "type": "scatter3d"
           }
          ],
          "scattercarpet": [
           {
            "marker": {
             "colorbar": {
              "outlinewidth": 0,
              "ticks": ""
             }
            },
            "type": "scattercarpet"
           }
          ],
          "scattergeo": [
           {
            "marker": {
             "colorbar": {
              "outlinewidth": 0,
              "ticks": ""
             }
            },
            "type": "scattergeo"
           }
          ],
          "scattergl": [
           {
            "marker": {
             "colorbar": {
              "outlinewidth": 0,
              "ticks": ""
             }
            },
            "type": "scattergl"
           }
          ],
          "scattermapbox": [
           {
            "marker": {
             "colorbar": {
              "outlinewidth": 0,
              "ticks": ""
             }
            },
            "type": "scattermapbox"
           }
          ],
          "scatterpolar": [
           {
            "marker": {
             "colorbar": {
              "outlinewidth": 0,
              "ticks": ""
             }
            },
            "type": "scatterpolar"
           }
          ],
          "scatterpolargl": [
           {
            "marker": {
             "colorbar": {
              "outlinewidth": 0,
              "ticks": ""
             }
            },
            "type": "scatterpolargl"
           }
          ],
          "scatterternary": [
           {
            "marker": {
             "colorbar": {
              "outlinewidth": 0,
              "ticks": ""
             }
            },
            "type": "scatterternary"
           }
          ],
          "surface": [
           {
            "colorbar": {
             "outlinewidth": 0,
             "ticks": ""
            },
            "colorscale": [
             [
              0,
              "#0d0887"
             ],
             [
              0.1111111111111111,
              "#46039f"
             ],
             [
              0.2222222222222222,
              "#7201a8"
             ],
             [
              0.3333333333333333,
              "#9c179e"
             ],
             [
              0.4444444444444444,
              "#bd3786"
             ],
             [
              0.5555555555555556,
              "#d8576b"
             ],
             [
              0.6666666666666666,
              "#ed7953"
             ],
             [
              0.7777777777777778,
              "#fb9f3a"
             ],
             [
              0.8888888888888888,
              "#fdca26"
             ],
             [
              1,
              "#f0f921"
             ]
            ],
            "type": "surface"
           }
          ],
          "table": [
           {
            "cells": {
             "fill": {
              "color": "#EBF0F8"
             },
             "line": {
              "color": "white"
             }
            },
            "header": {
             "fill": {
              "color": "#C8D4E3"
             },
             "line": {
              "color": "white"
             }
            },
            "type": "table"
           }
          ]
         },
         "layout": {
          "annotationdefaults": {
           "arrowcolor": "#2a3f5f",
           "arrowhead": 0,
           "arrowwidth": 1
          },
          "autotypenumbers": "strict",
          "coloraxis": {
           "colorbar": {
            "outlinewidth": 0,
            "ticks": ""
           }
          },
          "colorscale": {
           "diverging": [
            [
             0,
             "#8e0152"
            ],
            [
             0.1,
             "#c51b7d"
            ],
            [
             0.2,
             "#de77ae"
            ],
            [
             0.3,
             "#f1b6da"
            ],
            [
             0.4,
             "#fde0ef"
            ],
            [
             0.5,
             "#f7f7f7"
            ],
            [
             0.6,
             "#e6f5d0"
            ],
            [
             0.7,
             "#b8e186"
            ],
            [
             0.8,
             "#7fbc41"
            ],
            [
             0.9,
             "#4d9221"
            ],
            [
             1,
             "#276419"
            ]
           ],
           "sequential": [
            [
             0,
             "#0d0887"
            ],
            [
             0.1111111111111111,
             "#46039f"
            ],
            [
             0.2222222222222222,
             "#7201a8"
            ],
            [
             0.3333333333333333,
             "#9c179e"
            ],
            [
             0.4444444444444444,
             "#bd3786"
            ],
            [
             0.5555555555555556,
             "#d8576b"
            ],
            [
             0.6666666666666666,
             "#ed7953"
            ],
            [
             0.7777777777777778,
             "#fb9f3a"
            ],
            [
             0.8888888888888888,
             "#fdca26"
            ],
            [
             1,
             "#f0f921"
            ]
           ],
           "sequentialminus": [
            [
             0,
             "#0d0887"
            ],
            [
             0.1111111111111111,
             "#46039f"
            ],
            [
             0.2222222222222222,
             "#7201a8"
            ],
            [
             0.3333333333333333,
             "#9c179e"
            ],
            [
             0.4444444444444444,
             "#bd3786"
            ],
            [
             0.5555555555555556,
             "#d8576b"
            ],
            [
             0.6666666666666666,
             "#ed7953"
            ],
            [
             0.7777777777777778,
             "#fb9f3a"
            ],
            [
             0.8888888888888888,
             "#fdca26"
            ],
            [
             1,
             "#f0f921"
            ]
           ]
          },
          "colorway": [
           "#636efa",
           "#EF553B",
           "#00cc96",
           "#ab63fa",
           "#FFA15A",
           "#19d3f3",
           "#FF6692",
           "#B6E880",
           "#FF97FF",
           "#FECB52"
          ],
          "font": {
           "color": "#2a3f5f"
          },
          "geo": {
           "bgcolor": "white",
           "lakecolor": "white",
           "landcolor": "#E5ECF6",
           "showlakes": true,
           "showland": true,
           "subunitcolor": "white"
          },
          "hoverlabel": {
           "align": "left"
          },
          "hovermode": "closest",
          "mapbox": {
           "style": "light"
          },
          "paper_bgcolor": "white",
          "plot_bgcolor": "#E5ECF6",
          "polar": {
           "angularaxis": {
            "gridcolor": "white",
            "linecolor": "white",
            "ticks": ""
           },
           "bgcolor": "#E5ECF6",
           "radialaxis": {
            "gridcolor": "white",
            "linecolor": "white",
            "ticks": ""
           }
          },
          "scene": {
           "xaxis": {
            "backgroundcolor": "#E5ECF6",
            "gridcolor": "white",
            "gridwidth": 2,
            "linecolor": "white",
            "showbackground": true,
            "ticks": "",
            "zerolinecolor": "white"
           },
           "yaxis": {
            "backgroundcolor": "#E5ECF6",
            "gridcolor": "white",
            "gridwidth": 2,
            "linecolor": "white",
            "showbackground": true,
            "ticks": "",
            "zerolinecolor": "white"
           },
           "zaxis": {
            "backgroundcolor": "#E5ECF6",
            "gridcolor": "white",
            "gridwidth": 2,
            "linecolor": "white",
            "showbackground": true,
            "ticks": "",
            "zerolinecolor": "white"
           }
          },
          "shapedefaults": {
           "line": {
            "color": "#2a3f5f"
           }
          },
          "ternary": {
           "aaxis": {
            "gridcolor": "white",
            "linecolor": "white",
            "ticks": ""
           },
           "baxis": {
            "gridcolor": "white",
            "linecolor": "white",
            "ticks": ""
           },
           "bgcolor": "#E5ECF6",
           "caxis": {
            "gridcolor": "white",
            "linecolor": "white",
            "ticks": ""
           }
          },
          "title": {
           "x": 0.05
          },
          "xaxis": {
           "automargin": true,
           "gridcolor": "white",
           "linecolor": "white",
           "ticks": "",
           "title": {
            "standoff": 15
           },
           "zerolinecolor": "white",
           "zerolinewidth": 2
          },
          "yaxis": {
           "automargin": true,
           "gridcolor": "white",
           "linecolor": "white",
           "ticks": "",
           "title": {
            "standoff": 15
           },
           "zerolinecolor": "white",
           "zerolinewidth": 2
          }
         }
        },
        "title": {
         "text": "<span>Vendas da loja 3</span>"
        },
        "width": 1200,
        "xaxis": {
         "title": {
          "text": "<span>Itens</span>"
         }
        },
        "yaxis": {
         "title": {
          "text": "<span>Quantidade</span>"
         }
        }
       }
      }
     },
     "metadata": {},
     "output_type": "display_data"
    },
    {
     "data": {
      "application/vnd.plotly.v1+json": {
       "config": {
        "plotlyServerURL": "https://plot.ly"
       },
       "data": [
        {
         "type": "bar",
         "x": [
          1,
          2,
          3,
          4,
          5,
          6,
          7,
          8,
          9,
          10,
          11,
          12,
          13,
          14,
          15,
          16,
          17,
          18,
          19,
          20,
          21,
          22,
          23,
          24,
          25,
          26,
          27,
          28,
          29,
          30,
          31,
          32,
          33,
          34,
          35,
          36,
          37,
          38,
          39,
          40,
          41,
          42,
          43,
          44,
          45,
          46,
          47,
          48,
          49,
          50
         ],
         "y": [
          30566,
          81236,
          50828,
          30634,
          25722,
          81375,
          81322,
          106941,
          70917,
          101361,
          96742,
          96868,
          117587,
          82010,
          122319,
          35405,
          45773,
          117011,
          56067,
          66371,
          55678,
          112095,
          40809,
          91568,
          111752,
          66386,
          30610,
          122307,
          96368,
          56129,
          81619,
          60728,
          97065,
          35878,
          91634,
          106941,
          40700,
          112022,
          60682,
          40372,
          30733,
          50636,
          71512,
          40930,
          112166,
          81686,
          30493,
          71728,
          40851,
          91883
         ]
        }
       ],
       "layout": {
        "autosize": false,
        "height": 300,
        "template": {
         "data": {
          "bar": [
           {
            "error_x": {
             "color": "#2a3f5f"
            },
            "error_y": {
             "color": "#2a3f5f"
            },
            "marker": {
             "line": {
              "color": "#E5ECF6",
              "width": 0.5
             },
             "pattern": {
              "fillmode": "overlay",
              "size": 10,
              "solidity": 0.2
             }
            },
            "type": "bar"
           }
          ],
          "barpolar": [
           {
            "marker": {
             "line": {
              "color": "#E5ECF6",
              "width": 0.5
             },
             "pattern": {
              "fillmode": "overlay",
              "size": 10,
              "solidity": 0.2
             }
            },
            "type": "barpolar"
           }
          ],
          "carpet": [
           {
            "aaxis": {
             "endlinecolor": "#2a3f5f",
             "gridcolor": "white",
             "linecolor": "white",
             "minorgridcolor": "white",
             "startlinecolor": "#2a3f5f"
            },
            "baxis": {
             "endlinecolor": "#2a3f5f",
             "gridcolor": "white",
             "linecolor": "white",
             "minorgridcolor": "white",
             "startlinecolor": "#2a3f5f"
            },
            "type": "carpet"
           }
          ],
          "choropleth": [
           {
            "colorbar": {
             "outlinewidth": 0,
             "ticks": ""
            },
            "type": "choropleth"
           }
          ],
          "contour": [
           {
            "colorbar": {
             "outlinewidth": 0,
             "ticks": ""
            },
            "colorscale": [
             [
              0,
              "#0d0887"
             ],
             [
              0.1111111111111111,
              "#46039f"
             ],
             [
              0.2222222222222222,
              "#7201a8"
             ],
             [
              0.3333333333333333,
              "#9c179e"
             ],
             [
              0.4444444444444444,
              "#bd3786"
             ],
             [
              0.5555555555555556,
              "#d8576b"
             ],
             [
              0.6666666666666666,
              "#ed7953"
             ],
             [
              0.7777777777777778,
              "#fb9f3a"
             ],
             [
              0.8888888888888888,
              "#fdca26"
             ],
             [
              1,
              "#f0f921"
             ]
            ],
            "type": "contour"
           }
          ],
          "contourcarpet": [
           {
            "colorbar": {
             "outlinewidth": 0,
             "ticks": ""
            },
            "type": "contourcarpet"
           }
          ],
          "heatmap": [
           {
            "colorbar": {
             "outlinewidth": 0,
             "ticks": ""
            },
            "colorscale": [
             [
              0,
              "#0d0887"
             ],
             [
              0.1111111111111111,
              "#46039f"
             ],
             [
              0.2222222222222222,
              "#7201a8"
             ],
             [
              0.3333333333333333,
              "#9c179e"
             ],
             [
              0.4444444444444444,
              "#bd3786"
             ],
             [
              0.5555555555555556,
              "#d8576b"
             ],
             [
              0.6666666666666666,
              "#ed7953"
             ],
             [
              0.7777777777777778,
              "#fb9f3a"
             ],
             [
              0.8888888888888888,
              "#fdca26"
             ],
             [
              1,
              "#f0f921"
             ]
            ],
            "type": "heatmap"
           }
          ],
          "heatmapgl": [
           {
            "colorbar": {
             "outlinewidth": 0,
             "ticks": ""
            },
            "colorscale": [
             [
              0,
              "#0d0887"
             ],
             [
              0.1111111111111111,
              "#46039f"
             ],
             [
              0.2222222222222222,
              "#7201a8"
             ],
             [
              0.3333333333333333,
              "#9c179e"
             ],
             [
              0.4444444444444444,
              "#bd3786"
             ],
             [
              0.5555555555555556,
              "#d8576b"
             ],
             [
              0.6666666666666666,
              "#ed7953"
             ],
             [
              0.7777777777777778,
              "#fb9f3a"
             ],
             [
              0.8888888888888888,
              "#fdca26"
             ],
             [
              1,
              "#f0f921"
             ]
            ],
            "type": "heatmapgl"
           }
          ],
          "histogram": [
           {
            "marker": {
             "pattern": {
              "fillmode": "overlay",
              "size": 10,
              "solidity": 0.2
             }
            },
            "type": "histogram"
           }
          ],
          "histogram2d": [
           {
            "colorbar": {
             "outlinewidth": 0,
             "ticks": ""
            },
            "colorscale": [
             [
              0,
              "#0d0887"
             ],
             [
              0.1111111111111111,
              "#46039f"
             ],
             [
              0.2222222222222222,
              "#7201a8"
             ],
             [
              0.3333333333333333,
              "#9c179e"
             ],
             [
              0.4444444444444444,
              "#bd3786"
             ],
             [
              0.5555555555555556,
              "#d8576b"
             ],
             [
              0.6666666666666666,
              "#ed7953"
             ],
             [
              0.7777777777777778,
              "#fb9f3a"
             ],
             [
              0.8888888888888888,
              "#fdca26"
             ],
             [
              1,
              "#f0f921"
             ]
            ],
            "type": "histogram2d"
           }
          ],
          "histogram2dcontour": [
           {
            "colorbar": {
             "outlinewidth": 0,
             "ticks": ""
            },
            "colorscale": [
             [
              0,
              "#0d0887"
             ],
             [
              0.1111111111111111,
              "#46039f"
             ],
             [
              0.2222222222222222,
              "#7201a8"
             ],
             [
              0.3333333333333333,
              "#9c179e"
             ],
             [
              0.4444444444444444,
              "#bd3786"
             ],
             [
              0.5555555555555556,
              "#d8576b"
             ],
             [
              0.6666666666666666,
              "#ed7953"
             ],
             [
              0.7777777777777778,
              "#fb9f3a"
             ],
             [
              0.8888888888888888,
              "#fdca26"
             ],
             [
              1,
              "#f0f921"
             ]
            ],
            "type": "histogram2dcontour"
           }
          ],
          "mesh3d": [
           {
            "colorbar": {
             "outlinewidth": 0,
             "ticks": ""
            },
            "type": "mesh3d"
           }
          ],
          "parcoords": [
           {
            "line": {
             "colorbar": {
              "outlinewidth": 0,
              "ticks": ""
             }
            },
            "type": "parcoords"
           }
          ],
          "pie": [
           {
            "automargin": true,
            "type": "pie"
           }
          ],
          "scatter": [
           {
            "fillpattern": {
             "fillmode": "overlay",
             "size": 10,
             "solidity": 0.2
            },
            "type": "scatter"
           }
          ],
          "scatter3d": [
           {
            "line": {
             "colorbar": {
              "outlinewidth": 0,
              "ticks": ""
             }
            },
            "marker": {
             "colorbar": {
              "outlinewidth": 0,
              "ticks": ""
             }
            },
            "type": "scatter3d"
           }
          ],
          "scattercarpet": [
           {
            "marker": {
             "colorbar": {
              "outlinewidth": 0,
              "ticks": ""
             }
            },
            "type": "scattercarpet"
           }
          ],
          "scattergeo": [
           {
            "marker": {
             "colorbar": {
              "outlinewidth": 0,
              "ticks": ""
             }
            },
            "type": "scattergeo"
           }
          ],
          "scattergl": [
           {
            "marker": {
             "colorbar": {
              "outlinewidth": 0,
              "ticks": ""
             }
            },
            "type": "scattergl"
           }
          ],
          "scattermapbox": [
           {
            "marker": {
             "colorbar": {
              "outlinewidth": 0,
              "ticks": ""
             }
            },
            "type": "scattermapbox"
           }
          ],
          "scatterpolar": [
           {
            "marker": {
             "colorbar": {
              "outlinewidth": 0,
              "ticks": ""
             }
            },
            "type": "scatterpolar"
           }
          ],
          "scatterpolargl": [
           {
            "marker": {
             "colorbar": {
              "outlinewidth": 0,
              "ticks": ""
             }
            },
            "type": "scatterpolargl"
           }
          ],
          "scatterternary": [
           {
            "marker": {
             "colorbar": {
              "outlinewidth": 0,
              "ticks": ""
             }
            },
            "type": "scatterternary"
           }
          ],
          "surface": [
           {
            "colorbar": {
             "outlinewidth": 0,
             "ticks": ""
            },
            "colorscale": [
             [
              0,
              "#0d0887"
             ],
             [
              0.1111111111111111,
              "#46039f"
             ],
             [
              0.2222222222222222,
              "#7201a8"
             ],
             [
              0.3333333333333333,
              "#9c179e"
             ],
             [
              0.4444444444444444,
              "#bd3786"
             ],
             [
              0.5555555555555556,
              "#d8576b"
             ],
             [
              0.6666666666666666,
              "#ed7953"
             ],
             [
              0.7777777777777778,
              "#fb9f3a"
             ],
             [
              0.8888888888888888,
              "#fdca26"
             ],
             [
              1,
              "#f0f921"
             ]
            ],
            "type": "surface"
           }
          ],
          "table": [
           {
            "cells": {
             "fill": {
              "color": "#EBF0F8"
             },
             "line": {
              "color": "white"
             }
            },
            "header": {
             "fill": {
              "color": "#C8D4E3"
             },
             "line": {
              "color": "white"
             }
            },
            "type": "table"
           }
          ]
         },
         "layout": {
          "annotationdefaults": {
           "arrowcolor": "#2a3f5f",
           "arrowhead": 0,
           "arrowwidth": 1
          },
          "autotypenumbers": "strict",
          "coloraxis": {
           "colorbar": {
            "outlinewidth": 0,
            "ticks": ""
           }
          },
          "colorscale": {
           "diverging": [
            [
             0,
             "#8e0152"
            ],
            [
             0.1,
             "#c51b7d"
            ],
            [
             0.2,
             "#de77ae"
            ],
            [
             0.3,
             "#f1b6da"
            ],
            [
             0.4,
             "#fde0ef"
            ],
            [
             0.5,
             "#f7f7f7"
            ],
            [
             0.6,
             "#e6f5d0"
            ],
            [
             0.7,
             "#b8e186"
            ],
            [
             0.8,
             "#7fbc41"
            ],
            [
             0.9,
             "#4d9221"
            ],
            [
             1,
             "#276419"
            ]
           ],
           "sequential": [
            [
             0,
             "#0d0887"
            ],
            [
             0.1111111111111111,
             "#46039f"
            ],
            [
             0.2222222222222222,
             "#7201a8"
            ],
            [
             0.3333333333333333,
             "#9c179e"
            ],
            [
             0.4444444444444444,
             "#bd3786"
            ],
            [
             0.5555555555555556,
             "#d8576b"
            ],
            [
             0.6666666666666666,
             "#ed7953"
            ],
            [
             0.7777777777777778,
             "#fb9f3a"
            ],
            [
             0.8888888888888888,
             "#fdca26"
            ],
            [
             1,
             "#f0f921"
            ]
           ],
           "sequentialminus": [
            [
             0,
             "#0d0887"
            ],
            [
             0.1111111111111111,
             "#46039f"
            ],
            [
             0.2222222222222222,
             "#7201a8"
            ],
            [
             0.3333333333333333,
             "#9c179e"
            ],
            [
             0.4444444444444444,
             "#bd3786"
            ],
            [
             0.5555555555555556,
             "#d8576b"
            ],
            [
             0.6666666666666666,
             "#ed7953"
            ],
            [
             0.7777777777777778,
             "#fb9f3a"
            ],
            [
             0.8888888888888888,
             "#fdca26"
            ],
            [
             1,
             "#f0f921"
            ]
           ]
          },
          "colorway": [
           "#636efa",
           "#EF553B",
           "#00cc96",
           "#ab63fa",
           "#FFA15A",
           "#19d3f3",
           "#FF6692",
           "#B6E880",
           "#FF97FF",
           "#FECB52"
          ],
          "font": {
           "color": "#2a3f5f"
          },
          "geo": {
           "bgcolor": "white",
           "lakecolor": "white",
           "landcolor": "#E5ECF6",
           "showlakes": true,
           "showland": true,
           "subunitcolor": "white"
          },
          "hoverlabel": {
           "align": "left"
          },
          "hovermode": "closest",
          "mapbox": {
           "style": "light"
          },
          "paper_bgcolor": "white",
          "plot_bgcolor": "#E5ECF6",
          "polar": {
           "angularaxis": {
            "gridcolor": "white",
            "linecolor": "white",
            "ticks": ""
           },
           "bgcolor": "#E5ECF6",
           "radialaxis": {
            "gridcolor": "white",
            "linecolor": "white",
            "ticks": ""
           }
          },
          "scene": {
           "xaxis": {
            "backgroundcolor": "#E5ECF6",
            "gridcolor": "white",
            "gridwidth": 2,
            "linecolor": "white",
            "showbackground": true,
            "ticks": "",
            "zerolinecolor": "white"
           },
           "yaxis": {
            "backgroundcolor": "#E5ECF6",
            "gridcolor": "white",
            "gridwidth": 2,
            "linecolor": "white",
            "showbackground": true,
            "ticks": "",
            "zerolinecolor": "white"
           },
           "zaxis": {
            "backgroundcolor": "#E5ECF6",
            "gridcolor": "white",
            "gridwidth": 2,
            "linecolor": "white",
            "showbackground": true,
            "ticks": "",
            "zerolinecolor": "white"
           }
          },
          "shapedefaults": {
           "line": {
            "color": "#2a3f5f"
           }
          },
          "ternary": {
           "aaxis": {
            "gridcolor": "white",
            "linecolor": "white",
            "ticks": ""
           },
           "baxis": {
            "gridcolor": "white",
            "linecolor": "white",
            "ticks": ""
           },
           "bgcolor": "#E5ECF6",
           "caxis": {
            "gridcolor": "white",
            "linecolor": "white",
            "ticks": ""
           }
          },
          "title": {
           "x": 0.05
          },
          "xaxis": {
           "automargin": true,
           "gridcolor": "white",
           "linecolor": "white",
           "ticks": "",
           "title": {
            "standoff": 15
           },
           "zerolinecolor": "white",
           "zerolinewidth": 2
          },
          "yaxis": {
           "automargin": true,
           "gridcolor": "white",
           "linecolor": "white",
           "ticks": "",
           "title": {
            "standoff": 15
           },
           "zerolinecolor": "white",
           "zerolinewidth": 2
          }
         }
        },
        "title": {
         "text": "<span>Vendas da loja 4</span>"
        },
        "width": 1200,
        "xaxis": {
         "title": {
          "text": "<span>Itens</span>"
         }
        },
        "yaxis": {
         "title": {
          "text": "<span>Quantidade</span>"
         }
        }
       }
      }
     },
     "metadata": {},
     "output_type": "display_data"
    },
    {
     "data": {
      "application/vnd.plotly.v1+json": {
       "config": {
        "plotlyServerURL": "https://plot.ly"
       },
       "data": [
        {
         "type": "bar",
         "x": [
          1,
          2,
          3,
          4,
          5,
          6,
          7,
          8,
          9,
          10,
          11,
          12,
          13,
          14,
          15,
          16,
          17,
          18,
          19,
          20,
          21,
          22,
          23,
          24,
          25,
          26,
          27,
          28,
          29,
          30,
          31,
          32,
          33,
          34,
          35,
          36,
          37,
          38,
          39,
          40,
          41,
          42,
          43,
          44,
          45,
          46,
          47,
          48,
          49,
          50
         ],
         "y": [
          30527,
          81319,
          50783,
          30593,
          25369,
          81264,
          81438,
          106612,
          72054,
          101462,
          96836,
          96545,
          117457,
          81468,
          121737,
          35821,
          45757,
          116363,
          55664,
          66095,
          56285,
          111442,
          40622,
          92228,
          112051,
          66024,
          30694,
          121357,
          97238,
          55996,
          81496,
          61067,
          96180,
          35895,
          91248,
          107482,
          40961,
          111967,
          60933,
          40501,
          30325,
          50933,
          71277,
          40761,
          111647,
          81330,
          30510,
          71310,
          40503,
          92243
         ]
        }
       ],
       "layout": {
        "autosize": false,
        "height": 300,
        "template": {
         "data": {
          "bar": [
           {
            "error_x": {
             "color": "#2a3f5f"
            },
            "error_y": {
             "color": "#2a3f5f"
            },
            "marker": {
             "line": {
              "color": "#E5ECF6",
              "width": 0.5
             },
             "pattern": {
              "fillmode": "overlay",
              "size": 10,
              "solidity": 0.2
             }
            },
            "type": "bar"
           }
          ],
          "barpolar": [
           {
            "marker": {
             "line": {
              "color": "#E5ECF6",
              "width": 0.5
             },
             "pattern": {
              "fillmode": "overlay",
              "size": 10,
              "solidity": 0.2
             }
            },
            "type": "barpolar"
           }
          ],
          "carpet": [
           {
            "aaxis": {
             "endlinecolor": "#2a3f5f",
             "gridcolor": "white",
             "linecolor": "white",
             "minorgridcolor": "white",
             "startlinecolor": "#2a3f5f"
            },
            "baxis": {
             "endlinecolor": "#2a3f5f",
             "gridcolor": "white",
             "linecolor": "white",
             "minorgridcolor": "white",
             "startlinecolor": "#2a3f5f"
            },
            "type": "carpet"
           }
          ],
          "choropleth": [
           {
            "colorbar": {
             "outlinewidth": 0,
             "ticks": ""
            },
            "type": "choropleth"
           }
          ],
          "contour": [
           {
            "colorbar": {
             "outlinewidth": 0,
             "ticks": ""
            },
            "colorscale": [
             [
              0,
              "#0d0887"
             ],
             [
              0.1111111111111111,
              "#46039f"
             ],
             [
              0.2222222222222222,
              "#7201a8"
             ],
             [
              0.3333333333333333,
              "#9c179e"
             ],
             [
              0.4444444444444444,
              "#bd3786"
             ],
             [
              0.5555555555555556,
              "#d8576b"
             ],
             [
              0.6666666666666666,
              "#ed7953"
             ],
             [
              0.7777777777777778,
              "#fb9f3a"
             ],
             [
              0.8888888888888888,
              "#fdca26"
             ],
             [
              1,
              "#f0f921"
             ]
            ],
            "type": "contour"
           }
          ],
          "contourcarpet": [
           {
            "colorbar": {
             "outlinewidth": 0,
             "ticks": ""
            },
            "type": "contourcarpet"
           }
          ],
          "heatmap": [
           {
            "colorbar": {
             "outlinewidth": 0,
             "ticks": ""
            },
            "colorscale": [
             [
              0,
              "#0d0887"
             ],
             [
              0.1111111111111111,
              "#46039f"
             ],
             [
              0.2222222222222222,
              "#7201a8"
             ],
             [
              0.3333333333333333,
              "#9c179e"
             ],
             [
              0.4444444444444444,
              "#bd3786"
             ],
             [
              0.5555555555555556,
              "#d8576b"
             ],
             [
              0.6666666666666666,
              "#ed7953"
             ],
             [
              0.7777777777777778,
              "#fb9f3a"
             ],
             [
              0.8888888888888888,
              "#fdca26"
             ],
             [
              1,
              "#f0f921"
             ]
            ],
            "type": "heatmap"
           }
          ],
          "heatmapgl": [
           {
            "colorbar": {
             "outlinewidth": 0,
             "ticks": ""
            },
            "colorscale": [
             [
              0,
              "#0d0887"
             ],
             [
              0.1111111111111111,
              "#46039f"
             ],
             [
              0.2222222222222222,
              "#7201a8"
             ],
             [
              0.3333333333333333,
              "#9c179e"
             ],
             [
              0.4444444444444444,
              "#bd3786"
             ],
             [
              0.5555555555555556,
              "#d8576b"
             ],
             [
              0.6666666666666666,
              "#ed7953"
             ],
             [
              0.7777777777777778,
              "#fb9f3a"
             ],
             [
              0.8888888888888888,
              "#fdca26"
             ],
             [
              1,
              "#f0f921"
             ]
            ],
            "type": "heatmapgl"
           }
          ],
          "histogram": [
           {
            "marker": {
             "pattern": {
              "fillmode": "overlay",
              "size": 10,
              "solidity": 0.2
             }
            },
            "type": "histogram"
           }
          ],
          "histogram2d": [
           {
            "colorbar": {
             "outlinewidth": 0,
             "ticks": ""
            },
            "colorscale": [
             [
              0,
              "#0d0887"
             ],
             [
              0.1111111111111111,
              "#46039f"
             ],
             [
              0.2222222222222222,
              "#7201a8"
             ],
             [
              0.3333333333333333,
              "#9c179e"
             ],
             [
              0.4444444444444444,
              "#bd3786"
             ],
             [
              0.5555555555555556,
              "#d8576b"
             ],
             [
              0.6666666666666666,
              "#ed7953"
             ],
             [
              0.7777777777777778,
              "#fb9f3a"
             ],
             [
              0.8888888888888888,
              "#fdca26"
             ],
             [
              1,
              "#f0f921"
             ]
            ],
            "type": "histogram2d"
           }
          ],
          "histogram2dcontour": [
           {
            "colorbar": {
             "outlinewidth": 0,
             "ticks": ""
            },
            "colorscale": [
             [
              0,
              "#0d0887"
             ],
             [
              0.1111111111111111,
              "#46039f"
             ],
             [
              0.2222222222222222,
              "#7201a8"
             ],
             [
              0.3333333333333333,
              "#9c179e"
             ],
             [
              0.4444444444444444,
              "#bd3786"
             ],
             [
              0.5555555555555556,
              "#d8576b"
             ],
             [
              0.6666666666666666,
              "#ed7953"
             ],
             [
              0.7777777777777778,
              "#fb9f3a"
             ],
             [
              0.8888888888888888,
              "#fdca26"
             ],
             [
              1,
              "#f0f921"
             ]
            ],
            "type": "histogram2dcontour"
           }
          ],
          "mesh3d": [
           {
            "colorbar": {
             "outlinewidth": 0,
             "ticks": ""
            },
            "type": "mesh3d"
           }
          ],
          "parcoords": [
           {
            "line": {
             "colorbar": {
              "outlinewidth": 0,
              "ticks": ""
             }
            },
            "type": "parcoords"
           }
          ],
          "pie": [
           {
            "automargin": true,
            "type": "pie"
           }
          ],
          "scatter": [
           {
            "fillpattern": {
             "fillmode": "overlay",
             "size": 10,
             "solidity": 0.2
            },
            "type": "scatter"
           }
          ],
          "scatter3d": [
           {
            "line": {
             "colorbar": {
              "outlinewidth": 0,
              "ticks": ""
             }
            },
            "marker": {
             "colorbar": {
              "outlinewidth": 0,
              "ticks": ""
             }
            },
            "type": "scatter3d"
           }
          ],
          "scattercarpet": [
           {
            "marker": {
             "colorbar": {
              "outlinewidth": 0,
              "ticks": ""
             }
            },
            "type": "scattercarpet"
           }
          ],
          "scattergeo": [
           {
            "marker": {
             "colorbar": {
              "outlinewidth": 0,
              "ticks": ""
             }
            },
            "type": "scattergeo"
           }
          ],
          "scattergl": [
           {
            "marker": {
             "colorbar": {
              "outlinewidth": 0,
              "ticks": ""
             }
            },
            "type": "scattergl"
           }
          ],
          "scattermapbox": [
           {
            "marker": {
             "colorbar": {
              "outlinewidth": 0,
              "ticks": ""
             }
            },
            "type": "scattermapbox"
           }
          ],
          "scatterpolar": [
           {
            "marker": {
             "colorbar": {
              "outlinewidth": 0,
              "ticks": ""
             }
            },
            "type": "scatterpolar"
           }
          ],
          "scatterpolargl": [
           {
            "marker": {
             "colorbar": {
              "outlinewidth": 0,
              "ticks": ""
             }
            },
            "type": "scatterpolargl"
           }
          ],
          "scatterternary": [
           {
            "marker": {
             "colorbar": {
              "outlinewidth": 0,
              "ticks": ""
             }
            },
            "type": "scatterternary"
           }
          ],
          "surface": [
           {
            "colorbar": {
             "outlinewidth": 0,
             "ticks": ""
            },
            "colorscale": [
             [
              0,
              "#0d0887"
             ],
             [
              0.1111111111111111,
              "#46039f"
             ],
             [
              0.2222222222222222,
              "#7201a8"
             ],
             [
              0.3333333333333333,
              "#9c179e"
             ],
             [
              0.4444444444444444,
              "#bd3786"
             ],
             [
              0.5555555555555556,
              "#d8576b"
             ],
             [
              0.6666666666666666,
              "#ed7953"
             ],
             [
              0.7777777777777778,
              "#fb9f3a"
             ],
             [
              0.8888888888888888,
              "#fdca26"
             ],
             [
              1,
              "#f0f921"
             ]
            ],
            "type": "surface"
           }
          ],
          "table": [
           {
            "cells": {
             "fill": {
              "color": "#EBF0F8"
             },
             "line": {
              "color": "white"
             }
            },
            "header": {
             "fill": {
              "color": "#C8D4E3"
             },
             "line": {
              "color": "white"
             }
            },
            "type": "table"
           }
          ]
         },
         "layout": {
          "annotationdefaults": {
           "arrowcolor": "#2a3f5f",
           "arrowhead": 0,
           "arrowwidth": 1
          },
          "autotypenumbers": "strict",
          "coloraxis": {
           "colorbar": {
            "outlinewidth": 0,
            "ticks": ""
           }
          },
          "colorscale": {
           "diverging": [
            [
             0,
             "#8e0152"
            ],
            [
             0.1,
             "#c51b7d"
            ],
            [
             0.2,
             "#de77ae"
            ],
            [
             0.3,
             "#f1b6da"
            ],
            [
             0.4,
             "#fde0ef"
            ],
            [
             0.5,
             "#f7f7f7"
            ],
            [
             0.6,
             "#e6f5d0"
            ],
            [
             0.7,
             "#b8e186"
            ],
            [
             0.8,
             "#7fbc41"
            ],
            [
             0.9,
             "#4d9221"
            ],
            [
             1,
             "#276419"
            ]
           ],
           "sequential": [
            [
             0,
             "#0d0887"
            ],
            [
             0.1111111111111111,
             "#46039f"
            ],
            [
             0.2222222222222222,
             "#7201a8"
            ],
            [
             0.3333333333333333,
             "#9c179e"
            ],
            [
             0.4444444444444444,
             "#bd3786"
            ],
            [
             0.5555555555555556,
             "#d8576b"
            ],
            [
             0.6666666666666666,
             "#ed7953"
            ],
            [
             0.7777777777777778,
             "#fb9f3a"
            ],
            [
             0.8888888888888888,
             "#fdca26"
            ],
            [
             1,
             "#f0f921"
            ]
           ],
           "sequentialminus": [
            [
             0,
             "#0d0887"
            ],
            [
             0.1111111111111111,
             "#46039f"
            ],
            [
             0.2222222222222222,
             "#7201a8"
            ],
            [
             0.3333333333333333,
             "#9c179e"
            ],
            [
             0.4444444444444444,
             "#bd3786"
            ],
            [
             0.5555555555555556,
             "#d8576b"
            ],
            [
             0.6666666666666666,
             "#ed7953"
            ],
            [
             0.7777777777777778,
             "#fb9f3a"
            ],
            [
             0.8888888888888888,
             "#fdca26"
            ],
            [
             1,
             "#f0f921"
            ]
           ]
          },
          "colorway": [
           "#636efa",
           "#EF553B",
           "#00cc96",
           "#ab63fa",
           "#FFA15A",
           "#19d3f3",
           "#FF6692",
           "#B6E880",
           "#FF97FF",
           "#FECB52"
          ],
          "font": {
           "color": "#2a3f5f"
          },
          "geo": {
           "bgcolor": "white",
           "lakecolor": "white",
           "landcolor": "#E5ECF6",
           "showlakes": true,
           "showland": true,
           "subunitcolor": "white"
          },
          "hoverlabel": {
           "align": "left"
          },
          "hovermode": "closest",
          "mapbox": {
           "style": "light"
          },
          "paper_bgcolor": "white",
          "plot_bgcolor": "#E5ECF6",
          "polar": {
           "angularaxis": {
            "gridcolor": "white",
            "linecolor": "white",
            "ticks": ""
           },
           "bgcolor": "#E5ECF6",
           "radialaxis": {
            "gridcolor": "white",
            "linecolor": "white",
            "ticks": ""
           }
          },
          "scene": {
           "xaxis": {
            "backgroundcolor": "#E5ECF6",
            "gridcolor": "white",
            "gridwidth": 2,
            "linecolor": "white",
            "showbackground": true,
            "ticks": "",
            "zerolinecolor": "white"
           },
           "yaxis": {
            "backgroundcolor": "#E5ECF6",
            "gridcolor": "white",
            "gridwidth": 2,
            "linecolor": "white",
            "showbackground": true,
            "ticks": "",
            "zerolinecolor": "white"
           },
           "zaxis": {
            "backgroundcolor": "#E5ECF6",
            "gridcolor": "white",
            "gridwidth": 2,
            "linecolor": "white",
            "showbackground": true,
            "ticks": "",
            "zerolinecolor": "white"
           }
          },
          "shapedefaults": {
           "line": {
            "color": "#2a3f5f"
           }
          },
          "ternary": {
           "aaxis": {
            "gridcolor": "white",
            "linecolor": "white",
            "ticks": ""
           },
           "baxis": {
            "gridcolor": "white",
            "linecolor": "white",
            "ticks": ""
           },
           "bgcolor": "#E5ECF6",
           "caxis": {
            "gridcolor": "white",
            "linecolor": "white",
            "ticks": ""
           }
          },
          "title": {
           "x": 0.05
          },
          "xaxis": {
           "automargin": true,
           "gridcolor": "white",
           "linecolor": "white",
           "ticks": "",
           "title": {
            "standoff": 15
           },
           "zerolinecolor": "white",
           "zerolinewidth": 2
          },
          "yaxis": {
           "automargin": true,
           "gridcolor": "white",
           "linecolor": "white",
           "ticks": "",
           "title": {
            "standoff": 15
           },
           "zerolinecolor": "white",
           "zerolinewidth": 2
          }
         }
        },
        "title": {
         "text": "<span>Vendas da loja 5</span>"
        },
        "width": 1200,
        "xaxis": {
         "title": {
          "text": "<span>Itens</span>"
         }
        },
        "yaxis": {
         "title": {
          "text": "<span>Quantidade</span>"
         }
        }
       }
      }
     },
     "metadata": {},
     "output_type": "display_data"
    },
    {
     "data": {
      "application/vnd.plotly.v1+json": {
       "config": {
        "plotlyServerURL": "https://plot.ly"
       },
       "data": [
        {
         "type": "bar",
         "x": [
          1,
          2,
          3,
          4,
          5,
          6,
          7,
          8,
          9,
          10,
          11,
          12,
          13,
          14,
          15,
          16,
          17,
          18,
          19,
          20,
          21,
          22,
          23,
          24,
          25,
          26,
          27,
          28,
          29,
          30,
          31,
          32,
          33,
          34,
          35,
          36,
          37,
          38,
          39,
          40,
          41,
          42,
          43,
          44,
          45,
          46,
          47,
          48,
          49,
          50
         ],
         "y": [
          27681,
          74351,
          46620,
          28044,
          23252,
          74325,
          74336,
          98100,
          65557,
          93412,
          88366,
          88650,
          106908,
          74907,
          111640,
          32419,
          41678,
          107270,
          51457,
          60717,
          51513,
          102299,
          36965,
          83530,
          102984,
          60291,
          27780,
          111576,
          88594,
          51274,
          74894,
          56001,
          88260,
          32834,
          84085,
          97792,
          36976,
          101927,
          55895,
          37241,
          28251,
          46446,
          64688,
          37335,
          102084,
          74553,
          28265,
          65050,
          37262,
          83674
         ]
        }
       ],
       "layout": {
        "autosize": false,
        "height": 300,
        "template": {
         "data": {
          "bar": [
           {
            "error_x": {
             "color": "#2a3f5f"
            },
            "error_y": {
             "color": "#2a3f5f"
            },
            "marker": {
             "line": {
              "color": "#E5ECF6",
              "width": 0.5
             },
             "pattern": {
              "fillmode": "overlay",
              "size": 10,
              "solidity": 0.2
             }
            },
            "type": "bar"
           }
          ],
          "barpolar": [
           {
            "marker": {
             "line": {
              "color": "#E5ECF6",
              "width": 0.5
             },
             "pattern": {
              "fillmode": "overlay",
              "size": 10,
              "solidity": 0.2
             }
            },
            "type": "barpolar"
           }
          ],
          "carpet": [
           {
            "aaxis": {
             "endlinecolor": "#2a3f5f",
             "gridcolor": "white",
             "linecolor": "white",
             "minorgridcolor": "white",
             "startlinecolor": "#2a3f5f"
            },
            "baxis": {
             "endlinecolor": "#2a3f5f",
             "gridcolor": "white",
             "linecolor": "white",
             "minorgridcolor": "white",
             "startlinecolor": "#2a3f5f"
            },
            "type": "carpet"
           }
          ],
          "choropleth": [
           {
            "colorbar": {
             "outlinewidth": 0,
             "ticks": ""
            },
            "type": "choropleth"
           }
          ],
          "contour": [
           {
            "colorbar": {
             "outlinewidth": 0,
             "ticks": ""
            },
            "colorscale": [
             [
              0,
              "#0d0887"
             ],
             [
              0.1111111111111111,
              "#46039f"
             ],
             [
              0.2222222222222222,
              "#7201a8"
             ],
             [
              0.3333333333333333,
              "#9c179e"
             ],
             [
              0.4444444444444444,
              "#bd3786"
             ],
             [
              0.5555555555555556,
              "#d8576b"
             ],
             [
              0.6666666666666666,
              "#ed7953"
             ],
             [
              0.7777777777777778,
              "#fb9f3a"
             ],
             [
              0.8888888888888888,
              "#fdca26"
             ],
             [
              1,
              "#f0f921"
             ]
            ],
            "type": "contour"
           }
          ],
          "contourcarpet": [
           {
            "colorbar": {
             "outlinewidth": 0,
             "ticks": ""
            },
            "type": "contourcarpet"
           }
          ],
          "heatmap": [
           {
            "colorbar": {
             "outlinewidth": 0,
             "ticks": ""
            },
            "colorscale": [
             [
              0,
              "#0d0887"
             ],
             [
              0.1111111111111111,
              "#46039f"
             ],
             [
              0.2222222222222222,
              "#7201a8"
             ],
             [
              0.3333333333333333,
              "#9c179e"
             ],
             [
              0.4444444444444444,
              "#bd3786"
             ],
             [
              0.5555555555555556,
              "#d8576b"
             ],
             [
              0.6666666666666666,
              "#ed7953"
             ],
             [
              0.7777777777777778,
              "#fb9f3a"
             ],
             [
              0.8888888888888888,
              "#fdca26"
             ],
             [
              1,
              "#f0f921"
             ]
            ],
            "type": "heatmap"
           }
          ],
          "heatmapgl": [
           {
            "colorbar": {
             "outlinewidth": 0,
             "ticks": ""
            },
            "colorscale": [
             [
              0,
              "#0d0887"
             ],
             [
              0.1111111111111111,
              "#46039f"
             ],
             [
              0.2222222222222222,
              "#7201a8"
             ],
             [
              0.3333333333333333,
              "#9c179e"
             ],
             [
              0.4444444444444444,
              "#bd3786"
             ],
             [
              0.5555555555555556,
              "#d8576b"
             ],
             [
              0.6666666666666666,
              "#ed7953"
             ],
             [
              0.7777777777777778,
              "#fb9f3a"
             ],
             [
              0.8888888888888888,
              "#fdca26"
             ],
             [
              1,
              "#f0f921"
             ]
            ],
            "type": "heatmapgl"
           }
          ],
          "histogram": [
           {
            "marker": {
             "pattern": {
              "fillmode": "overlay",
              "size": 10,
              "solidity": 0.2
             }
            },
            "type": "histogram"
           }
          ],
          "histogram2d": [
           {
            "colorbar": {
             "outlinewidth": 0,
             "ticks": ""
            },
            "colorscale": [
             [
              0,
              "#0d0887"
             ],
             [
              0.1111111111111111,
              "#46039f"
             ],
             [
              0.2222222222222222,
              "#7201a8"
             ],
             [
              0.3333333333333333,
              "#9c179e"
             ],
             [
              0.4444444444444444,
              "#bd3786"
             ],
             [
              0.5555555555555556,
              "#d8576b"
             ],
             [
              0.6666666666666666,
              "#ed7953"
             ],
             [
              0.7777777777777778,
              "#fb9f3a"
             ],
             [
              0.8888888888888888,
              "#fdca26"
             ],
             [
              1,
              "#f0f921"
             ]
            ],
            "type": "histogram2d"
           }
          ],
          "histogram2dcontour": [
           {
            "colorbar": {
             "outlinewidth": 0,
             "ticks": ""
            },
            "colorscale": [
             [
              0,
              "#0d0887"
             ],
             [
              0.1111111111111111,
              "#46039f"
             ],
             [
              0.2222222222222222,
              "#7201a8"
             ],
             [
              0.3333333333333333,
              "#9c179e"
             ],
             [
              0.4444444444444444,
              "#bd3786"
             ],
             [
              0.5555555555555556,
              "#d8576b"
             ],
             [
              0.6666666666666666,
              "#ed7953"
             ],
             [
              0.7777777777777778,
              "#fb9f3a"
             ],
             [
              0.8888888888888888,
              "#fdca26"
             ],
             [
              1,
              "#f0f921"
             ]
            ],
            "type": "histogram2dcontour"
           }
          ],
          "mesh3d": [
           {
            "colorbar": {
             "outlinewidth": 0,
             "ticks": ""
            },
            "type": "mesh3d"
           }
          ],
          "parcoords": [
           {
            "line": {
             "colorbar": {
              "outlinewidth": 0,
              "ticks": ""
             }
            },
            "type": "parcoords"
           }
          ],
          "pie": [
           {
            "automargin": true,
            "type": "pie"
           }
          ],
          "scatter": [
           {
            "fillpattern": {
             "fillmode": "overlay",
             "size": 10,
             "solidity": 0.2
            },
            "type": "scatter"
           }
          ],
          "scatter3d": [
           {
            "line": {
             "colorbar": {
              "outlinewidth": 0,
              "ticks": ""
             }
            },
            "marker": {
             "colorbar": {
              "outlinewidth": 0,
              "ticks": ""
             }
            },
            "type": "scatter3d"
           }
          ],
          "scattercarpet": [
           {
            "marker": {
             "colorbar": {
              "outlinewidth": 0,
              "ticks": ""
             }
            },
            "type": "scattercarpet"
           }
          ],
          "scattergeo": [
           {
            "marker": {
             "colorbar": {
              "outlinewidth": 0,
              "ticks": ""
             }
            },
            "type": "scattergeo"
           }
          ],
          "scattergl": [
           {
            "marker": {
             "colorbar": {
              "outlinewidth": 0,
              "ticks": ""
             }
            },
            "type": "scattergl"
           }
          ],
          "scattermapbox": [
           {
            "marker": {
             "colorbar": {
              "outlinewidth": 0,
              "ticks": ""
             }
            },
            "type": "scattermapbox"
           }
          ],
          "scatterpolar": [
           {
            "marker": {
             "colorbar": {
              "outlinewidth": 0,
              "ticks": ""
             }
            },
            "type": "scatterpolar"
           }
          ],
          "scatterpolargl": [
           {
            "marker": {
             "colorbar": {
              "outlinewidth": 0,
              "ticks": ""
             }
            },
            "type": "scatterpolargl"
           }
          ],
          "scatterternary": [
           {
            "marker": {
             "colorbar": {
              "outlinewidth": 0,
              "ticks": ""
             }
            },
            "type": "scatterternary"
           }
          ],
          "surface": [
           {
            "colorbar": {
             "outlinewidth": 0,
             "ticks": ""
            },
            "colorscale": [
             [
              0,
              "#0d0887"
             ],
             [
              0.1111111111111111,
              "#46039f"
             ],
             [
              0.2222222222222222,
              "#7201a8"
             ],
             [
              0.3333333333333333,
              "#9c179e"
             ],
             [
              0.4444444444444444,
              "#bd3786"
             ],
             [
              0.5555555555555556,
              "#d8576b"
             ],
             [
              0.6666666666666666,
              "#ed7953"
             ],
             [
              0.7777777777777778,
              "#fb9f3a"
             ],
             [
              0.8888888888888888,
              "#fdca26"
             ],
             [
              1,
              "#f0f921"
             ]
            ],
            "type": "surface"
           }
          ],
          "table": [
           {
            "cells": {
             "fill": {
              "color": "#EBF0F8"
             },
             "line": {
              "color": "white"
             }
            },
            "header": {
             "fill": {
              "color": "#C8D4E3"
             },
             "line": {
              "color": "white"
             }
            },
            "type": "table"
           }
          ]
         },
         "layout": {
          "annotationdefaults": {
           "arrowcolor": "#2a3f5f",
           "arrowhead": 0,
           "arrowwidth": 1
          },
          "autotypenumbers": "strict",
          "coloraxis": {
           "colorbar": {
            "outlinewidth": 0,
            "ticks": ""
           }
          },
          "colorscale": {
           "diverging": [
            [
             0,
             "#8e0152"
            ],
            [
             0.1,
             "#c51b7d"
            ],
            [
             0.2,
             "#de77ae"
            ],
            [
             0.3,
             "#f1b6da"
            ],
            [
             0.4,
             "#fde0ef"
            ],
            [
             0.5,
             "#f7f7f7"
            ],
            [
             0.6,
             "#e6f5d0"
            ],
            [
             0.7,
             "#b8e186"
            ],
            [
             0.8,
             "#7fbc41"
            ],
            [
             0.9,
             "#4d9221"
            ],
            [
             1,
             "#276419"
            ]
           ],
           "sequential": [
            [
             0,
             "#0d0887"
            ],
            [
             0.1111111111111111,
             "#46039f"
            ],
            [
             0.2222222222222222,
             "#7201a8"
            ],
            [
             0.3333333333333333,
             "#9c179e"
            ],
            [
             0.4444444444444444,
             "#bd3786"
            ],
            [
             0.5555555555555556,
             "#d8576b"
            ],
            [
             0.6666666666666666,
             "#ed7953"
            ],
            [
             0.7777777777777778,
             "#fb9f3a"
            ],
            [
             0.8888888888888888,
             "#fdca26"
            ],
            [
             1,
             "#f0f921"
            ]
           ],
           "sequentialminus": [
            [
             0,
             "#0d0887"
            ],
            [
             0.1111111111111111,
             "#46039f"
            ],
            [
             0.2222222222222222,
             "#7201a8"
            ],
            [
             0.3333333333333333,
             "#9c179e"
            ],
            [
             0.4444444444444444,
             "#bd3786"
            ],
            [
             0.5555555555555556,
             "#d8576b"
            ],
            [
             0.6666666666666666,
             "#ed7953"
            ],
            [
             0.7777777777777778,
             "#fb9f3a"
            ],
            [
             0.8888888888888888,
             "#fdca26"
            ],
            [
             1,
             "#f0f921"
            ]
           ]
          },
          "colorway": [
           "#636efa",
           "#EF553B",
           "#00cc96",
           "#ab63fa",
           "#FFA15A",
           "#19d3f3",
           "#FF6692",
           "#B6E880",
           "#FF97FF",
           "#FECB52"
          ],
          "font": {
           "color": "#2a3f5f"
          },
          "geo": {
           "bgcolor": "white",
           "lakecolor": "white",
           "landcolor": "#E5ECF6",
           "showlakes": true,
           "showland": true,
           "subunitcolor": "white"
          },
          "hoverlabel": {
           "align": "left"
          },
          "hovermode": "closest",
          "mapbox": {
           "style": "light"
          },
          "paper_bgcolor": "white",
          "plot_bgcolor": "#E5ECF6",
          "polar": {
           "angularaxis": {
            "gridcolor": "white",
            "linecolor": "white",
            "ticks": ""
           },
           "bgcolor": "#E5ECF6",
           "radialaxis": {
            "gridcolor": "white",
            "linecolor": "white",
            "ticks": ""
           }
          },
          "scene": {
           "xaxis": {
            "backgroundcolor": "#E5ECF6",
            "gridcolor": "white",
            "gridwidth": 2,
            "linecolor": "white",
            "showbackground": true,
            "ticks": "",
            "zerolinecolor": "white"
           },
           "yaxis": {
            "backgroundcolor": "#E5ECF6",
            "gridcolor": "white",
            "gridwidth": 2,
            "linecolor": "white",
            "showbackground": true,
            "ticks": "",
            "zerolinecolor": "white"
           },
           "zaxis": {
            "backgroundcolor": "#E5ECF6",
            "gridcolor": "white",
            "gridwidth": 2,
            "linecolor": "white",
            "showbackground": true,
            "ticks": "",
            "zerolinecolor": "white"
           }
          },
          "shapedefaults": {
           "line": {
            "color": "#2a3f5f"
           }
          },
          "ternary": {
           "aaxis": {
            "gridcolor": "white",
            "linecolor": "white",
            "ticks": ""
           },
           "baxis": {
            "gridcolor": "white",
            "linecolor": "white",
            "ticks": ""
           },
           "bgcolor": "#E5ECF6",
           "caxis": {
            "gridcolor": "white",
            "linecolor": "white",
            "ticks": ""
           }
          },
          "title": {
           "x": 0.05
          },
          "xaxis": {
           "automargin": true,
           "gridcolor": "white",
           "linecolor": "white",
           "ticks": "",
           "title": {
            "standoff": 15
           },
           "zerolinecolor": "white",
           "zerolinewidth": 2
          },
          "yaxis": {
           "automargin": true,
           "gridcolor": "white",
           "linecolor": "white",
           "ticks": "",
           "title": {
            "standoff": 15
           },
           "zerolinecolor": "white",
           "zerolinewidth": 2
          }
         }
        },
        "title": {
         "text": "<span>Vendas da loja 6</span>"
        },
        "width": 1200,
        "xaxis": {
         "title": {
          "text": "<span>Itens</span>"
         }
        },
        "yaxis": {
         "title": {
          "text": "<span>Quantidade</span>"
         }
        }
       }
      }
     },
     "metadata": {},
     "output_type": "display_data"
    },
    {
     "data": {
      "application/vnd.plotly.v1+json": {
       "config": {
        "plotlyServerURL": "https://plot.ly"
       },
       "data": [
        {
         "type": "bar",
         "x": [
          1,
          2,
          3,
          4,
          5,
          6,
          7,
          8,
          9,
          10,
          11,
          12,
          13,
          14,
          15,
          16,
          17,
          18,
          19,
          20,
          21,
          22,
          23,
          24,
          25,
          26,
          27,
          28,
          29,
          30,
          31,
          32,
          33,
          34,
          35,
          36,
          37,
          38,
          39,
          40,
          41,
          42,
          43,
          44,
          45,
          46,
          47,
          48,
          49,
          50
         ],
         "y": [
          49272,
          130845,
          82309,
          49208,
          40953,
          131396,
          130980,
          172486,
          115391,
          164008,
          156118,
          156386,
          189575,
          130747,
          197295,
          57537,
          73571,
          189576,
          90290,
          105992,
          90667,
          180618,
          65721,
          148284,
          181221,
          107044,
          49383,
          196867,
          155633,
          89876,
          131431,
          98613,
          155840,
          57940,
          147620,
          172312,
          65786,
          180679,
          98140,
          65728,
          49368,
          82433,
          115002,
          66091,
          180667,
          131481,
          49576,
          114558,
          65800,
          147855
         ]
        }
       ],
       "layout": {
        "autosize": false,
        "height": 300,
        "template": {
         "data": {
          "bar": [
           {
            "error_x": {
             "color": "#2a3f5f"
            },
            "error_y": {
             "color": "#2a3f5f"
            },
            "marker": {
             "line": {
              "color": "#E5ECF6",
              "width": 0.5
             },
             "pattern": {
              "fillmode": "overlay",
              "size": 10,
              "solidity": 0.2
             }
            },
            "type": "bar"
           }
          ],
          "barpolar": [
           {
            "marker": {
             "line": {
              "color": "#E5ECF6",
              "width": 0.5
             },
             "pattern": {
              "fillmode": "overlay",
              "size": 10,
              "solidity": 0.2
             }
            },
            "type": "barpolar"
           }
          ],
          "carpet": [
           {
            "aaxis": {
             "endlinecolor": "#2a3f5f",
             "gridcolor": "white",
             "linecolor": "white",
             "minorgridcolor": "white",
             "startlinecolor": "#2a3f5f"
            },
            "baxis": {
             "endlinecolor": "#2a3f5f",
             "gridcolor": "white",
             "linecolor": "white",
             "minorgridcolor": "white",
             "startlinecolor": "#2a3f5f"
            },
            "type": "carpet"
           }
          ],
          "choropleth": [
           {
            "colorbar": {
             "outlinewidth": 0,
             "ticks": ""
            },
            "type": "choropleth"
           }
          ],
          "contour": [
           {
            "colorbar": {
             "outlinewidth": 0,
             "ticks": ""
            },
            "colorscale": [
             [
              0,
              "#0d0887"
             ],
             [
              0.1111111111111111,
              "#46039f"
             ],
             [
              0.2222222222222222,
              "#7201a8"
             ],
             [
              0.3333333333333333,
              "#9c179e"
             ],
             [
              0.4444444444444444,
              "#bd3786"
             ],
             [
              0.5555555555555556,
              "#d8576b"
             ],
             [
              0.6666666666666666,
              "#ed7953"
             ],
             [
              0.7777777777777778,
              "#fb9f3a"
             ],
             [
              0.8888888888888888,
              "#fdca26"
             ],
             [
              1,
              "#f0f921"
             ]
            ],
            "type": "contour"
           }
          ],
          "contourcarpet": [
           {
            "colorbar": {
             "outlinewidth": 0,
             "ticks": ""
            },
            "type": "contourcarpet"
           }
          ],
          "heatmap": [
           {
            "colorbar": {
             "outlinewidth": 0,
             "ticks": ""
            },
            "colorscale": [
             [
              0,
              "#0d0887"
             ],
             [
              0.1111111111111111,
              "#46039f"
             ],
             [
              0.2222222222222222,
              "#7201a8"
             ],
             [
              0.3333333333333333,
              "#9c179e"
             ],
             [
              0.4444444444444444,
              "#bd3786"
             ],
             [
              0.5555555555555556,
              "#d8576b"
             ],
             [
              0.6666666666666666,
              "#ed7953"
             ],
             [
              0.7777777777777778,
              "#fb9f3a"
             ],
             [
              0.8888888888888888,
              "#fdca26"
             ],
             [
              1,
              "#f0f921"
             ]
            ],
            "type": "heatmap"
           }
          ],
          "heatmapgl": [
           {
            "colorbar": {
             "outlinewidth": 0,
             "ticks": ""
            },
            "colorscale": [
             [
              0,
              "#0d0887"
             ],
             [
              0.1111111111111111,
              "#46039f"
             ],
             [
              0.2222222222222222,
              "#7201a8"
             ],
             [
              0.3333333333333333,
              "#9c179e"
             ],
             [
              0.4444444444444444,
              "#bd3786"
             ],
             [
              0.5555555555555556,
              "#d8576b"
             ],
             [
              0.6666666666666666,
              "#ed7953"
             ],
             [
              0.7777777777777778,
              "#fb9f3a"
             ],
             [
              0.8888888888888888,
              "#fdca26"
             ],
             [
              1,
              "#f0f921"
             ]
            ],
            "type": "heatmapgl"
           }
          ],
          "histogram": [
           {
            "marker": {
             "pattern": {
              "fillmode": "overlay",
              "size": 10,
              "solidity": 0.2
             }
            },
            "type": "histogram"
           }
          ],
          "histogram2d": [
           {
            "colorbar": {
             "outlinewidth": 0,
             "ticks": ""
            },
            "colorscale": [
             [
              0,
              "#0d0887"
             ],
             [
              0.1111111111111111,
              "#46039f"
             ],
             [
              0.2222222222222222,
              "#7201a8"
             ],
             [
              0.3333333333333333,
              "#9c179e"
             ],
             [
              0.4444444444444444,
              "#bd3786"
             ],
             [
              0.5555555555555556,
              "#d8576b"
             ],
             [
              0.6666666666666666,
              "#ed7953"
             ],
             [
              0.7777777777777778,
              "#fb9f3a"
             ],
             [
              0.8888888888888888,
              "#fdca26"
             ],
             [
              1,
              "#f0f921"
             ]
            ],
            "type": "histogram2d"
           }
          ],
          "histogram2dcontour": [
           {
            "colorbar": {
             "outlinewidth": 0,
             "ticks": ""
            },
            "colorscale": [
             [
              0,
              "#0d0887"
             ],
             [
              0.1111111111111111,
              "#46039f"
             ],
             [
              0.2222222222222222,
              "#7201a8"
             ],
             [
              0.3333333333333333,
              "#9c179e"
             ],
             [
              0.4444444444444444,
              "#bd3786"
             ],
             [
              0.5555555555555556,
              "#d8576b"
             ],
             [
              0.6666666666666666,
              "#ed7953"
             ],
             [
              0.7777777777777778,
              "#fb9f3a"
             ],
             [
              0.8888888888888888,
              "#fdca26"
             ],
             [
              1,
              "#f0f921"
             ]
            ],
            "type": "histogram2dcontour"
           }
          ],
          "mesh3d": [
           {
            "colorbar": {
             "outlinewidth": 0,
             "ticks": ""
            },
            "type": "mesh3d"
           }
          ],
          "parcoords": [
           {
            "line": {
             "colorbar": {
              "outlinewidth": 0,
              "ticks": ""
             }
            },
            "type": "parcoords"
           }
          ],
          "pie": [
           {
            "automargin": true,
            "type": "pie"
           }
          ],
          "scatter": [
           {
            "fillpattern": {
             "fillmode": "overlay",
             "size": 10,
             "solidity": 0.2
            },
            "type": "scatter"
           }
          ],
          "scatter3d": [
           {
            "line": {
             "colorbar": {
              "outlinewidth": 0,
              "ticks": ""
             }
            },
            "marker": {
             "colorbar": {
              "outlinewidth": 0,
              "ticks": ""
             }
            },
            "type": "scatter3d"
           }
          ],
          "scattercarpet": [
           {
            "marker": {
             "colorbar": {
              "outlinewidth": 0,
              "ticks": ""
             }
            },
            "type": "scattercarpet"
           }
          ],
          "scattergeo": [
           {
            "marker": {
             "colorbar": {
              "outlinewidth": 0,
              "ticks": ""
             }
            },
            "type": "scattergeo"
           }
          ],
          "scattergl": [
           {
            "marker": {
             "colorbar": {
              "outlinewidth": 0,
              "ticks": ""
             }
            },
            "type": "scattergl"
           }
          ],
          "scattermapbox": [
           {
            "marker": {
             "colorbar": {
              "outlinewidth": 0,
              "ticks": ""
             }
            },
            "type": "scattermapbox"
           }
          ],
          "scatterpolar": [
           {
            "marker": {
             "colorbar": {
              "outlinewidth": 0,
              "ticks": ""
             }
            },
            "type": "scatterpolar"
           }
          ],
          "scatterpolargl": [
           {
            "marker": {
             "colorbar": {
              "outlinewidth": 0,
              "ticks": ""
             }
            },
            "type": "scatterpolargl"
           }
          ],
          "scatterternary": [
           {
            "marker": {
             "colorbar": {
              "outlinewidth": 0,
              "ticks": ""
             }
            },
            "type": "scatterternary"
           }
          ],
          "surface": [
           {
            "colorbar": {
             "outlinewidth": 0,
             "ticks": ""
            },
            "colorscale": [
             [
              0,
              "#0d0887"
             ],
             [
              0.1111111111111111,
              "#46039f"
             ],
             [
              0.2222222222222222,
              "#7201a8"
             ],
             [
              0.3333333333333333,
              "#9c179e"
             ],
             [
              0.4444444444444444,
              "#bd3786"
             ],
             [
              0.5555555555555556,
              "#d8576b"
             ],
             [
              0.6666666666666666,
              "#ed7953"
             ],
             [
              0.7777777777777778,
              "#fb9f3a"
             ],
             [
              0.8888888888888888,
              "#fdca26"
             ],
             [
              1,
              "#f0f921"
             ]
            ],
            "type": "surface"
           }
          ],
          "table": [
           {
            "cells": {
             "fill": {
              "color": "#EBF0F8"
             },
             "line": {
              "color": "white"
             }
            },
            "header": {
             "fill": {
              "color": "#C8D4E3"
             },
             "line": {
              "color": "white"
             }
            },
            "type": "table"
           }
          ]
         },
         "layout": {
          "annotationdefaults": {
           "arrowcolor": "#2a3f5f",
           "arrowhead": 0,
           "arrowwidth": 1
          },
          "autotypenumbers": "strict",
          "coloraxis": {
           "colorbar": {
            "outlinewidth": 0,
            "ticks": ""
           }
          },
          "colorscale": {
           "diverging": [
            [
             0,
             "#8e0152"
            ],
            [
             0.1,
             "#c51b7d"
            ],
            [
             0.2,
             "#de77ae"
            ],
            [
             0.3,
             "#f1b6da"
            ],
            [
             0.4,
             "#fde0ef"
            ],
            [
             0.5,
             "#f7f7f7"
            ],
            [
             0.6,
             "#e6f5d0"
            ],
            [
             0.7,
             "#b8e186"
            ],
            [
             0.8,
             "#7fbc41"
            ],
            [
             0.9,
             "#4d9221"
            ],
            [
             1,
             "#276419"
            ]
           ],
           "sequential": [
            [
             0,
             "#0d0887"
            ],
            [
             0.1111111111111111,
             "#46039f"
            ],
            [
             0.2222222222222222,
             "#7201a8"
            ],
            [
             0.3333333333333333,
             "#9c179e"
            ],
            [
             0.4444444444444444,
             "#bd3786"
            ],
            [
             0.5555555555555556,
             "#d8576b"
            ],
            [
             0.6666666666666666,
             "#ed7953"
            ],
            [
             0.7777777777777778,
             "#fb9f3a"
            ],
            [
             0.8888888888888888,
             "#fdca26"
            ],
            [
             1,
             "#f0f921"
            ]
           ],
           "sequentialminus": [
            [
             0,
             "#0d0887"
            ],
            [
             0.1111111111111111,
             "#46039f"
            ],
            [
             0.2222222222222222,
             "#7201a8"
            ],
            [
             0.3333333333333333,
             "#9c179e"
            ],
            [
             0.4444444444444444,
             "#bd3786"
            ],
            [
             0.5555555555555556,
             "#d8576b"
            ],
            [
             0.6666666666666666,
             "#ed7953"
            ],
            [
             0.7777777777777778,
             "#fb9f3a"
            ],
            [
             0.8888888888888888,
             "#fdca26"
            ],
            [
             1,
             "#f0f921"
            ]
           ]
          },
          "colorway": [
           "#636efa",
           "#EF553B",
           "#00cc96",
           "#ab63fa",
           "#FFA15A",
           "#19d3f3",
           "#FF6692",
           "#B6E880",
           "#FF97FF",
           "#FECB52"
          ],
          "font": {
           "color": "#2a3f5f"
          },
          "geo": {
           "bgcolor": "white",
           "lakecolor": "white",
           "landcolor": "#E5ECF6",
           "showlakes": true,
           "showland": true,
           "subunitcolor": "white"
          },
          "hoverlabel": {
           "align": "left"
          },
          "hovermode": "closest",
          "mapbox": {
           "style": "light"
          },
          "paper_bgcolor": "white",
          "plot_bgcolor": "#E5ECF6",
          "polar": {
           "angularaxis": {
            "gridcolor": "white",
            "linecolor": "white",
            "ticks": ""
           },
           "bgcolor": "#E5ECF6",
           "radialaxis": {
            "gridcolor": "white",
            "linecolor": "white",
            "ticks": ""
           }
          },
          "scene": {
           "xaxis": {
            "backgroundcolor": "#E5ECF6",
            "gridcolor": "white",
            "gridwidth": 2,
            "linecolor": "white",
            "showbackground": true,
            "ticks": "",
            "zerolinecolor": "white"
           },
           "yaxis": {
            "backgroundcolor": "#E5ECF6",
            "gridcolor": "white",
            "gridwidth": 2,
            "linecolor": "white",
            "showbackground": true,
            "ticks": "",
            "zerolinecolor": "white"
           },
           "zaxis": {
            "backgroundcolor": "#E5ECF6",
            "gridcolor": "white",
            "gridwidth": 2,
            "linecolor": "white",
            "showbackground": true,
            "ticks": "",
            "zerolinecolor": "white"
           }
          },
          "shapedefaults": {
           "line": {
            "color": "#2a3f5f"
           }
          },
          "ternary": {
           "aaxis": {
            "gridcolor": "white",
            "linecolor": "white",
            "ticks": ""
           },
           "baxis": {
            "gridcolor": "white",
            "linecolor": "white",
            "ticks": ""
           },
           "bgcolor": "#E5ECF6",
           "caxis": {
            "gridcolor": "white",
            "linecolor": "white",
            "ticks": ""
           }
          },
          "title": {
           "x": 0.05
          },
          "xaxis": {
           "automargin": true,
           "gridcolor": "white",
           "linecolor": "white",
           "ticks": "",
           "title": {
            "standoff": 15
           },
           "zerolinecolor": "white",
           "zerolinewidth": 2
          },
          "yaxis": {
           "automargin": true,
           "gridcolor": "white",
           "linecolor": "white",
           "ticks": "",
           "title": {
            "standoff": 15
           },
           "zerolinecolor": "white",
           "zerolinewidth": 2
          }
         }
        },
        "title": {
         "text": "<span>Vendas da loja 7</span>"
        },
        "width": 1200,
        "xaxis": {
         "title": {
          "text": "<span>Itens</span>"
         }
        },
        "yaxis": {
         "title": {
          "text": "<span>Quantidade</span>"
         }
        }
       }
      }
     },
     "metadata": {},
     "output_type": "display_data"
    },
    {
     "data": {
      "application/vnd.plotly.v1+json": {
       "config": {
        "plotlyServerURL": "https://plot.ly"
       },
       "data": [
        {
         "type": "bar",
         "x": [
          1,
          2,
          3,
          4,
          5,
          6,
          7,
          8,
          9,
          10,
          11,
          12,
          13,
          14,
          15,
          16,
          17,
          18,
          19,
          20,
          21,
          22,
          23,
          24,
          25,
          26,
          27,
          28,
          29,
          30,
          31,
          32,
          33,
          34,
          35,
          36,
          37,
          38,
          39,
          40,
          41,
          42,
          43,
          44,
          45,
          46,
          47,
          48,
          49,
          50
         ],
         "y": [
          42593,
          112833,
          70365,
          42272,
          35191,
          112139,
          112869,
          148431,
          98797,
          140794,
          133606,
          134038,
          161622,
          112223,
          170069,
          49298,
          63451,
          161803,
          77765,
          91196,
          77742,
          154960,
          56390,
          126845,
          155460,
          91543,
          42678,
          169430,
          133641,
          77693,
          112489,
          84735,
          133590,
          49437,
          127047,
          148724,
          56329,
          154559,
          84497,
          56053,
          42347,
          70563,
          98883,
          56548,
          155381,
          113232,
          42004,
          98562,
          56702,
          126557
         ]
        }
       ],
       "layout": {
        "autosize": false,
        "height": 300,
        "template": {
         "data": {
          "bar": [
           {
            "error_x": {
             "color": "#2a3f5f"
            },
            "error_y": {
             "color": "#2a3f5f"
            },
            "marker": {
             "line": {
              "color": "#E5ECF6",
              "width": 0.5
             },
             "pattern": {
              "fillmode": "overlay",
              "size": 10,
              "solidity": 0.2
             }
            },
            "type": "bar"
           }
          ],
          "barpolar": [
           {
            "marker": {
             "line": {
              "color": "#E5ECF6",
              "width": 0.5
             },
             "pattern": {
              "fillmode": "overlay",
              "size": 10,
              "solidity": 0.2
             }
            },
            "type": "barpolar"
           }
          ],
          "carpet": [
           {
            "aaxis": {
             "endlinecolor": "#2a3f5f",
             "gridcolor": "white",
             "linecolor": "white",
             "minorgridcolor": "white",
             "startlinecolor": "#2a3f5f"
            },
            "baxis": {
             "endlinecolor": "#2a3f5f",
             "gridcolor": "white",
             "linecolor": "white",
             "minorgridcolor": "white",
             "startlinecolor": "#2a3f5f"
            },
            "type": "carpet"
           }
          ],
          "choropleth": [
           {
            "colorbar": {
             "outlinewidth": 0,
             "ticks": ""
            },
            "type": "choropleth"
           }
          ],
          "contour": [
           {
            "colorbar": {
             "outlinewidth": 0,
             "ticks": ""
            },
            "colorscale": [
             [
              0,
              "#0d0887"
             ],
             [
              0.1111111111111111,
              "#46039f"
             ],
             [
              0.2222222222222222,
              "#7201a8"
             ],
             [
              0.3333333333333333,
              "#9c179e"
             ],
             [
              0.4444444444444444,
              "#bd3786"
             ],
             [
              0.5555555555555556,
              "#d8576b"
             ],
             [
              0.6666666666666666,
              "#ed7953"
             ],
             [
              0.7777777777777778,
              "#fb9f3a"
             ],
             [
              0.8888888888888888,
              "#fdca26"
             ],
             [
              1,
              "#f0f921"
             ]
            ],
            "type": "contour"
           }
          ],
          "contourcarpet": [
           {
            "colorbar": {
             "outlinewidth": 0,
             "ticks": ""
            },
            "type": "contourcarpet"
           }
          ],
          "heatmap": [
           {
            "colorbar": {
             "outlinewidth": 0,
             "ticks": ""
            },
            "colorscale": [
             [
              0,
              "#0d0887"
             ],
             [
              0.1111111111111111,
              "#46039f"
             ],
             [
              0.2222222222222222,
              "#7201a8"
             ],
             [
              0.3333333333333333,
              "#9c179e"
             ],
             [
              0.4444444444444444,
              "#bd3786"
             ],
             [
              0.5555555555555556,
              "#d8576b"
             ],
             [
              0.6666666666666666,
              "#ed7953"
             ],
             [
              0.7777777777777778,
              "#fb9f3a"
             ],
             [
              0.8888888888888888,
              "#fdca26"
             ],
             [
              1,
              "#f0f921"
             ]
            ],
            "type": "heatmap"
           }
          ],
          "heatmapgl": [
           {
            "colorbar": {
             "outlinewidth": 0,
             "ticks": ""
            },
            "colorscale": [
             [
              0,
              "#0d0887"
             ],
             [
              0.1111111111111111,
              "#46039f"
             ],
             [
              0.2222222222222222,
              "#7201a8"
             ],
             [
              0.3333333333333333,
              "#9c179e"
             ],
             [
              0.4444444444444444,
              "#bd3786"
             ],
             [
              0.5555555555555556,
              "#d8576b"
             ],
             [
              0.6666666666666666,
              "#ed7953"
             ],
             [
              0.7777777777777778,
              "#fb9f3a"
             ],
             [
              0.8888888888888888,
              "#fdca26"
             ],
             [
              1,
              "#f0f921"
             ]
            ],
            "type": "heatmapgl"
           }
          ],
          "histogram": [
           {
            "marker": {
             "pattern": {
              "fillmode": "overlay",
              "size": 10,
              "solidity": 0.2
             }
            },
            "type": "histogram"
           }
          ],
          "histogram2d": [
           {
            "colorbar": {
             "outlinewidth": 0,
             "ticks": ""
            },
            "colorscale": [
             [
              0,
              "#0d0887"
             ],
             [
              0.1111111111111111,
              "#46039f"
             ],
             [
              0.2222222222222222,
              "#7201a8"
             ],
             [
              0.3333333333333333,
              "#9c179e"
             ],
             [
              0.4444444444444444,
              "#bd3786"
             ],
             [
              0.5555555555555556,
              "#d8576b"
             ],
             [
              0.6666666666666666,
              "#ed7953"
             ],
             [
              0.7777777777777778,
              "#fb9f3a"
             ],
             [
              0.8888888888888888,
              "#fdca26"
             ],
             [
              1,
              "#f0f921"
             ]
            ],
            "type": "histogram2d"
           }
          ],
          "histogram2dcontour": [
           {
            "colorbar": {
             "outlinewidth": 0,
             "ticks": ""
            },
            "colorscale": [
             [
              0,
              "#0d0887"
             ],
             [
              0.1111111111111111,
              "#46039f"
             ],
             [
              0.2222222222222222,
              "#7201a8"
             ],
             [
              0.3333333333333333,
              "#9c179e"
             ],
             [
              0.4444444444444444,
              "#bd3786"
             ],
             [
              0.5555555555555556,
              "#d8576b"
             ],
             [
              0.6666666666666666,
              "#ed7953"
             ],
             [
              0.7777777777777778,
              "#fb9f3a"
             ],
             [
              0.8888888888888888,
              "#fdca26"
             ],
             [
              1,
              "#f0f921"
             ]
            ],
            "type": "histogram2dcontour"
           }
          ],
          "mesh3d": [
           {
            "colorbar": {
             "outlinewidth": 0,
             "ticks": ""
            },
            "type": "mesh3d"
           }
          ],
          "parcoords": [
           {
            "line": {
             "colorbar": {
              "outlinewidth": 0,
              "ticks": ""
             }
            },
            "type": "parcoords"
           }
          ],
          "pie": [
           {
            "automargin": true,
            "type": "pie"
           }
          ],
          "scatter": [
           {
            "fillpattern": {
             "fillmode": "overlay",
             "size": 10,
             "solidity": 0.2
            },
            "type": "scatter"
           }
          ],
          "scatter3d": [
           {
            "line": {
             "colorbar": {
              "outlinewidth": 0,
              "ticks": ""
             }
            },
            "marker": {
             "colorbar": {
              "outlinewidth": 0,
              "ticks": ""
             }
            },
            "type": "scatter3d"
           }
          ],
          "scattercarpet": [
           {
            "marker": {
             "colorbar": {
              "outlinewidth": 0,
              "ticks": ""
             }
            },
            "type": "scattercarpet"
           }
          ],
          "scattergeo": [
           {
            "marker": {
             "colorbar": {
              "outlinewidth": 0,
              "ticks": ""
             }
            },
            "type": "scattergeo"
           }
          ],
          "scattergl": [
           {
            "marker": {
             "colorbar": {
              "outlinewidth": 0,
              "ticks": ""
             }
            },
            "type": "scattergl"
           }
          ],
          "scattermapbox": [
           {
            "marker": {
             "colorbar": {
              "outlinewidth": 0,
              "ticks": ""
             }
            },
            "type": "scattermapbox"
           }
          ],
          "scatterpolar": [
           {
            "marker": {
             "colorbar": {
              "outlinewidth": 0,
              "ticks": ""
             }
            },
            "type": "scatterpolar"
           }
          ],
          "scatterpolargl": [
           {
            "marker": {
             "colorbar": {
              "outlinewidth": 0,
              "ticks": ""
             }
            },
            "type": "scatterpolargl"
           }
          ],
          "scatterternary": [
           {
            "marker": {
             "colorbar": {
              "outlinewidth": 0,
              "ticks": ""
             }
            },
            "type": "scatterternary"
           }
          ],
          "surface": [
           {
            "colorbar": {
             "outlinewidth": 0,
             "ticks": ""
            },
            "colorscale": [
             [
              0,
              "#0d0887"
             ],
             [
              0.1111111111111111,
              "#46039f"
             ],
             [
              0.2222222222222222,
              "#7201a8"
             ],
             [
              0.3333333333333333,
              "#9c179e"
             ],
             [
              0.4444444444444444,
              "#bd3786"
             ],
             [
              0.5555555555555556,
              "#d8576b"
             ],
             [
              0.6666666666666666,
              "#ed7953"
             ],
             [
              0.7777777777777778,
              "#fb9f3a"
             ],
             [
              0.8888888888888888,
              "#fdca26"
             ],
             [
              1,
              "#f0f921"
             ]
            ],
            "type": "surface"
           }
          ],
          "table": [
           {
            "cells": {
             "fill": {
              "color": "#EBF0F8"
             },
             "line": {
              "color": "white"
             }
            },
            "header": {
             "fill": {
              "color": "#C8D4E3"
             },
             "line": {
              "color": "white"
             }
            },
            "type": "table"
           }
          ]
         },
         "layout": {
          "annotationdefaults": {
           "arrowcolor": "#2a3f5f",
           "arrowhead": 0,
           "arrowwidth": 1
          },
          "autotypenumbers": "strict",
          "coloraxis": {
           "colorbar": {
            "outlinewidth": 0,
            "ticks": ""
           }
          },
          "colorscale": {
           "diverging": [
            [
             0,
             "#8e0152"
            ],
            [
             0.1,
             "#c51b7d"
            ],
            [
             0.2,
             "#de77ae"
            ],
            [
             0.3,
             "#f1b6da"
            ],
            [
             0.4,
             "#fde0ef"
            ],
            [
             0.5,
             "#f7f7f7"
            ],
            [
             0.6,
             "#e6f5d0"
            ],
            [
             0.7,
             "#b8e186"
            ],
            [
             0.8,
             "#7fbc41"
            ],
            [
             0.9,
             "#4d9221"
            ],
            [
             1,
             "#276419"
            ]
           ],
           "sequential": [
            [
             0,
             "#0d0887"
            ],
            [
             0.1111111111111111,
             "#46039f"
            ],
            [
             0.2222222222222222,
             "#7201a8"
            ],
            [
             0.3333333333333333,
             "#9c179e"
            ],
            [
             0.4444444444444444,
             "#bd3786"
            ],
            [
             0.5555555555555556,
             "#d8576b"
            ],
            [
             0.6666666666666666,
             "#ed7953"
            ],
            [
             0.7777777777777778,
             "#fb9f3a"
            ],
            [
             0.8888888888888888,
             "#fdca26"
            ],
            [
             1,
             "#f0f921"
            ]
           ],
           "sequentialminus": [
            [
             0,
             "#0d0887"
            ],
            [
             0.1111111111111111,
             "#46039f"
            ],
            [
             0.2222222222222222,
             "#7201a8"
            ],
            [
             0.3333333333333333,
             "#9c179e"
            ],
            [
             0.4444444444444444,
             "#bd3786"
            ],
            [
             0.5555555555555556,
             "#d8576b"
            ],
            [
             0.6666666666666666,
             "#ed7953"
            ],
            [
             0.7777777777777778,
             "#fb9f3a"
            ],
            [
             0.8888888888888888,
             "#fdca26"
            ],
            [
             1,
             "#f0f921"
            ]
           ]
          },
          "colorway": [
           "#636efa",
           "#EF553B",
           "#00cc96",
           "#ab63fa",
           "#FFA15A",
           "#19d3f3",
           "#FF6692",
           "#B6E880",
           "#FF97FF",
           "#FECB52"
          ],
          "font": {
           "color": "#2a3f5f"
          },
          "geo": {
           "bgcolor": "white",
           "lakecolor": "white",
           "landcolor": "#E5ECF6",
           "showlakes": true,
           "showland": true,
           "subunitcolor": "white"
          },
          "hoverlabel": {
           "align": "left"
          },
          "hovermode": "closest",
          "mapbox": {
           "style": "light"
          },
          "paper_bgcolor": "white",
          "plot_bgcolor": "#E5ECF6",
          "polar": {
           "angularaxis": {
            "gridcolor": "white",
            "linecolor": "white",
            "ticks": ""
           },
           "bgcolor": "#E5ECF6",
           "radialaxis": {
            "gridcolor": "white",
            "linecolor": "white",
            "ticks": ""
           }
          },
          "scene": {
           "xaxis": {
            "backgroundcolor": "#E5ECF6",
            "gridcolor": "white",
            "gridwidth": 2,
            "linecolor": "white",
            "showbackground": true,
            "ticks": "",
            "zerolinecolor": "white"
           },
           "yaxis": {
            "backgroundcolor": "#E5ECF6",
            "gridcolor": "white",
            "gridwidth": 2,
            "linecolor": "white",
            "showbackground": true,
            "ticks": "",
            "zerolinecolor": "white"
           },
           "zaxis": {
            "backgroundcolor": "#E5ECF6",
            "gridcolor": "white",
            "gridwidth": 2,
            "linecolor": "white",
            "showbackground": true,
            "ticks": "",
            "zerolinecolor": "white"
           }
          },
          "shapedefaults": {
           "line": {
            "color": "#2a3f5f"
           }
          },
          "ternary": {
           "aaxis": {
            "gridcolor": "white",
            "linecolor": "white",
            "ticks": ""
           },
           "baxis": {
            "gridcolor": "white",
            "linecolor": "white",
            "ticks": ""
           },
           "bgcolor": "#E5ECF6",
           "caxis": {
            "gridcolor": "white",
            "linecolor": "white",
            "ticks": ""
           }
          },
          "title": {
           "x": 0.05
          },
          "xaxis": {
           "automargin": true,
           "gridcolor": "white",
           "linecolor": "white",
           "ticks": "",
           "title": {
            "standoff": 15
           },
           "zerolinecolor": "white",
           "zerolinewidth": 2
          },
          "yaxis": {
           "automargin": true,
           "gridcolor": "white",
           "linecolor": "white",
           "ticks": "",
           "title": {
            "standoff": 15
           },
           "zerolinecolor": "white",
           "zerolinewidth": 2
          }
         }
        },
        "title": {
         "text": "<span>Vendas da loja 8</span>"
        },
        "width": 1200,
        "xaxis": {
         "title": {
          "text": "<span>Itens</span>"
         }
        },
        "yaxis": {
         "title": {
          "text": "<span>Quantidade</span>"
         }
        }
       }
      }
     },
     "metadata": {},
     "output_type": "display_data"
    },
    {
     "data": {
      "application/vnd.plotly.v1+json": {
       "config": {
        "plotlyServerURL": "https://plot.ly"
       },
       "data": [
        {
         "type": "bar",
         "x": [
          1,
          2,
          3,
          4,
          5,
          6,
          7,
          8,
          9,
          10,
          11,
          12,
          13,
          14,
          15,
          16,
          17,
          18,
          19,
          20,
          21,
          22,
          23,
          24,
          25,
          26,
          27,
          28,
          29,
          30,
          31,
          32,
          33,
          34,
          35,
          36,
          37,
          38,
          39,
          40,
          41,
          42,
          43,
          44,
          45,
          46,
          47,
          48,
          49,
          50
         ],
         "y": [
          45168,
          119725,
          75073,
          45141,
          37684,
          119808,
          120165,
          157359,
          105701,
          150156,
          142925,
          142535,
          172894,
          120699,
          180757,
          52388,
          67768,
          172958,
          82836,
          97216,
          82595,
          165310,
          60441,
          135704,
          165244,
          98088,
          45105,
          180347,
          142862,
          83150,
          120423,
          90101,
          143094,
          52600,
          134473,
          158180,
          59849,
          164525,
          90206,
          60218,
          45020,
          75273,
          105803,
          60106,
          165601,
          120601,
          45204,
          105570,
          60317,
          135192
         ]
        }
       ],
       "layout": {
        "autosize": false,
        "height": 300,
        "template": {
         "data": {
          "bar": [
           {
            "error_x": {
             "color": "#2a3f5f"
            },
            "error_y": {
             "color": "#2a3f5f"
            },
            "marker": {
             "line": {
              "color": "#E5ECF6",
              "width": 0.5
             },
             "pattern": {
              "fillmode": "overlay",
              "size": 10,
              "solidity": 0.2
             }
            },
            "type": "bar"
           }
          ],
          "barpolar": [
           {
            "marker": {
             "line": {
              "color": "#E5ECF6",
              "width": 0.5
             },
             "pattern": {
              "fillmode": "overlay",
              "size": 10,
              "solidity": 0.2
             }
            },
            "type": "barpolar"
           }
          ],
          "carpet": [
           {
            "aaxis": {
             "endlinecolor": "#2a3f5f",
             "gridcolor": "white",
             "linecolor": "white",
             "minorgridcolor": "white",
             "startlinecolor": "#2a3f5f"
            },
            "baxis": {
             "endlinecolor": "#2a3f5f",
             "gridcolor": "white",
             "linecolor": "white",
             "minorgridcolor": "white",
             "startlinecolor": "#2a3f5f"
            },
            "type": "carpet"
           }
          ],
          "choropleth": [
           {
            "colorbar": {
             "outlinewidth": 0,
             "ticks": ""
            },
            "type": "choropleth"
           }
          ],
          "contour": [
           {
            "colorbar": {
             "outlinewidth": 0,
             "ticks": ""
            },
            "colorscale": [
             [
              0,
              "#0d0887"
             ],
             [
              0.1111111111111111,
              "#46039f"
             ],
             [
              0.2222222222222222,
              "#7201a8"
             ],
             [
              0.3333333333333333,
              "#9c179e"
             ],
             [
              0.4444444444444444,
              "#bd3786"
             ],
             [
              0.5555555555555556,
              "#d8576b"
             ],
             [
              0.6666666666666666,
              "#ed7953"
             ],
             [
              0.7777777777777778,
              "#fb9f3a"
             ],
             [
              0.8888888888888888,
              "#fdca26"
             ],
             [
              1,
              "#f0f921"
             ]
            ],
            "type": "contour"
           }
          ],
          "contourcarpet": [
           {
            "colorbar": {
             "outlinewidth": 0,
             "ticks": ""
            },
            "type": "contourcarpet"
           }
          ],
          "heatmap": [
           {
            "colorbar": {
             "outlinewidth": 0,
             "ticks": ""
            },
            "colorscale": [
             [
              0,
              "#0d0887"
             ],
             [
              0.1111111111111111,
              "#46039f"
             ],
             [
              0.2222222222222222,
              "#7201a8"
             ],
             [
              0.3333333333333333,
              "#9c179e"
             ],
             [
              0.4444444444444444,
              "#bd3786"
             ],
             [
              0.5555555555555556,
              "#d8576b"
             ],
             [
              0.6666666666666666,
              "#ed7953"
             ],
             [
              0.7777777777777778,
              "#fb9f3a"
             ],
             [
              0.8888888888888888,
              "#fdca26"
             ],
             [
              1,
              "#f0f921"
             ]
            ],
            "type": "heatmap"
           }
          ],
          "heatmapgl": [
           {
            "colorbar": {
             "outlinewidth": 0,
             "ticks": ""
            },
            "colorscale": [
             [
              0,
              "#0d0887"
             ],
             [
              0.1111111111111111,
              "#46039f"
             ],
             [
              0.2222222222222222,
              "#7201a8"
             ],
             [
              0.3333333333333333,
              "#9c179e"
             ],
             [
              0.4444444444444444,
              "#bd3786"
             ],
             [
              0.5555555555555556,
              "#d8576b"
             ],
             [
              0.6666666666666666,
              "#ed7953"
             ],
             [
              0.7777777777777778,
              "#fb9f3a"
             ],
             [
              0.8888888888888888,
              "#fdca26"
             ],
             [
              1,
              "#f0f921"
             ]
            ],
            "type": "heatmapgl"
           }
          ],
          "histogram": [
           {
            "marker": {
             "pattern": {
              "fillmode": "overlay",
              "size": 10,
              "solidity": 0.2
             }
            },
            "type": "histogram"
           }
          ],
          "histogram2d": [
           {
            "colorbar": {
             "outlinewidth": 0,
             "ticks": ""
            },
            "colorscale": [
             [
              0,
              "#0d0887"
             ],
             [
              0.1111111111111111,
              "#46039f"
             ],
             [
              0.2222222222222222,
              "#7201a8"
             ],
             [
              0.3333333333333333,
              "#9c179e"
             ],
             [
              0.4444444444444444,
              "#bd3786"
             ],
             [
              0.5555555555555556,
              "#d8576b"
             ],
             [
              0.6666666666666666,
              "#ed7953"
             ],
             [
              0.7777777777777778,
              "#fb9f3a"
             ],
             [
              0.8888888888888888,
              "#fdca26"
             ],
             [
              1,
              "#f0f921"
             ]
            ],
            "type": "histogram2d"
           }
          ],
          "histogram2dcontour": [
           {
            "colorbar": {
             "outlinewidth": 0,
             "ticks": ""
            },
            "colorscale": [
             [
              0,
              "#0d0887"
             ],
             [
              0.1111111111111111,
              "#46039f"
             ],
             [
              0.2222222222222222,
              "#7201a8"
             ],
             [
              0.3333333333333333,
              "#9c179e"
             ],
             [
              0.4444444444444444,
              "#bd3786"
             ],
             [
              0.5555555555555556,
              "#d8576b"
             ],
             [
              0.6666666666666666,
              "#ed7953"
             ],
             [
              0.7777777777777778,
              "#fb9f3a"
             ],
             [
              0.8888888888888888,
              "#fdca26"
             ],
             [
              1,
              "#f0f921"
             ]
            ],
            "type": "histogram2dcontour"
           }
          ],
          "mesh3d": [
           {
            "colorbar": {
             "outlinewidth": 0,
             "ticks": ""
            },
            "type": "mesh3d"
           }
          ],
          "parcoords": [
           {
            "line": {
             "colorbar": {
              "outlinewidth": 0,
              "ticks": ""
             }
            },
            "type": "parcoords"
           }
          ],
          "pie": [
           {
            "automargin": true,
            "type": "pie"
           }
          ],
          "scatter": [
           {
            "fillpattern": {
             "fillmode": "overlay",
             "size": 10,
             "solidity": 0.2
            },
            "type": "scatter"
           }
          ],
          "scatter3d": [
           {
            "line": {
             "colorbar": {
              "outlinewidth": 0,
              "ticks": ""
             }
            },
            "marker": {
             "colorbar": {
              "outlinewidth": 0,
              "ticks": ""
             }
            },
            "type": "scatter3d"
           }
          ],
          "scattercarpet": [
           {
            "marker": {
             "colorbar": {
              "outlinewidth": 0,
              "ticks": ""
             }
            },
            "type": "scattercarpet"
           }
          ],
          "scattergeo": [
           {
            "marker": {
             "colorbar": {
              "outlinewidth": 0,
              "ticks": ""
             }
            },
            "type": "scattergeo"
           }
          ],
          "scattergl": [
           {
            "marker": {
             "colorbar": {
              "outlinewidth": 0,
              "ticks": ""
             }
            },
            "type": "scattergl"
           }
          ],
          "scattermapbox": [
           {
            "marker": {
             "colorbar": {
              "outlinewidth": 0,
              "ticks": ""
             }
            },
            "type": "scattermapbox"
           }
          ],
          "scatterpolar": [
           {
            "marker": {
             "colorbar": {
              "outlinewidth": 0,
              "ticks": ""
             }
            },
            "type": "scatterpolar"
           }
          ],
          "scatterpolargl": [
           {
            "marker": {
             "colorbar": {
              "outlinewidth": 0,
              "ticks": ""
             }
            },
            "type": "scatterpolargl"
           }
          ],
          "scatterternary": [
           {
            "marker": {
             "colorbar": {
              "outlinewidth": 0,
              "ticks": ""
             }
            },
            "type": "scatterternary"
           }
          ],
          "surface": [
           {
            "colorbar": {
             "outlinewidth": 0,
             "ticks": ""
            },
            "colorscale": [
             [
              0,
              "#0d0887"
             ],
             [
              0.1111111111111111,
              "#46039f"
             ],
             [
              0.2222222222222222,
              "#7201a8"
             ],
             [
              0.3333333333333333,
              "#9c179e"
             ],
             [
              0.4444444444444444,
              "#bd3786"
             ],
             [
              0.5555555555555556,
              "#d8576b"
             ],
             [
              0.6666666666666666,
              "#ed7953"
             ],
             [
              0.7777777777777778,
              "#fb9f3a"
             ],
             [
              0.8888888888888888,
              "#fdca26"
             ],
             [
              1,
              "#f0f921"
             ]
            ],
            "type": "surface"
           }
          ],
          "table": [
           {
            "cells": {
             "fill": {
              "color": "#EBF0F8"
             },
             "line": {
              "color": "white"
             }
            },
            "header": {
             "fill": {
              "color": "#C8D4E3"
             },
             "line": {
              "color": "white"
             }
            },
            "type": "table"
           }
          ]
         },
         "layout": {
          "annotationdefaults": {
           "arrowcolor": "#2a3f5f",
           "arrowhead": 0,
           "arrowwidth": 1
          },
          "autotypenumbers": "strict",
          "coloraxis": {
           "colorbar": {
            "outlinewidth": 0,
            "ticks": ""
           }
          },
          "colorscale": {
           "diverging": [
            [
             0,
             "#8e0152"
            ],
            [
             0.1,
             "#c51b7d"
            ],
            [
             0.2,
             "#de77ae"
            ],
            [
             0.3,
             "#f1b6da"
            ],
            [
             0.4,
             "#fde0ef"
            ],
            [
             0.5,
             "#f7f7f7"
            ],
            [
             0.6,
             "#e6f5d0"
            ],
            [
             0.7,
             "#b8e186"
            ],
            [
             0.8,
             "#7fbc41"
            ],
            [
             0.9,
             "#4d9221"
            ],
            [
             1,
             "#276419"
            ]
           ],
           "sequential": [
            [
             0,
             "#0d0887"
            ],
            [
             0.1111111111111111,
             "#46039f"
            ],
            [
             0.2222222222222222,
             "#7201a8"
            ],
            [
             0.3333333333333333,
             "#9c179e"
            ],
            [
             0.4444444444444444,
             "#bd3786"
            ],
            [
             0.5555555555555556,
             "#d8576b"
            ],
            [
             0.6666666666666666,
             "#ed7953"
            ],
            [
             0.7777777777777778,
             "#fb9f3a"
            ],
            [
             0.8888888888888888,
             "#fdca26"
            ],
            [
             1,
             "#f0f921"
            ]
           ],
           "sequentialminus": [
            [
             0,
             "#0d0887"
            ],
            [
             0.1111111111111111,
             "#46039f"
            ],
            [
             0.2222222222222222,
             "#7201a8"
            ],
            [
             0.3333333333333333,
             "#9c179e"
            ],
            [
             0.4444444444444444,
             "#bd3786"
            ],
            [
             0.5555555555555556,
             "#d8576b"
            ],
            [
             0.6666666666666666,
             "#ed7953"
            ],
            [
             0.7777777777777778,
             "#fb9f3a"
            ],
            [
             0.8888888888888888,
             "#fdca26"
            ],
            [
             1,
             "#f0f921"
            ]
           ]
          },
          "colorway": [
           "#636efa",
           "#EF553B",
           "#00cc96",
           "#ab63fa",
           "#FFA15A",
           "#19d3f3",
           "#FF6692",
           "#B6E880",
           "#FF97FF",
           "#FECB52"
          ],
          "font": {
           "color": "#2a3f5f"
          },
          "geo": {
           "bgcolor": "white",
           "lakecolor": "white",
           "landcolor": "#E5ECF6",
           "showlakes": true,
           "showland": true,
           "subunitcolor": "white"
          },
          "hoverlabel": {
           "align": "left"
          },
          "hovermode": "closest",
          "mapbox": {
           "style": "light"
          },
          "paper_bgcolor": "white",
          "plot_bgcolor": "#E5ECF6",
          "polar": {
           "angularaxis": {
            "gridcolor": "white",
            "linecolor": "white",
            "ticks": ""
           },
           "bgcolor": "#E5ECF6",
           "radialaxis": {
            "gridcolor": "white",
            "linecolor": "white",
            "ticks": ""
           }
          },
          "scene": {
           "xaxis": {
            "backgroundcolor": "#E5ECF6",
            "gridcolor": "white",
            "gridwidth": 2,
            "linecolor": "white",
            "showbackground": true,
            "ticks": "",
            "zerolinecolor": "white"
           },
           "yaxis": {
            "backgroundcolor": "#E5ECF6",
            "gridcolor": "white",
            "gridwidth": 2,
            "linecolor": "white",
            "showbackground": true,
            "ticks": "",
            "zerolinecolor": "white"
           },
           "zaxis": {
            "backgroundcolor": "#E5ECF6",
            "gridcolor": "white",
            "gridwidth": 2,
            "linecolor": "white",
            "showbackground": true,
            "ticks": "",
            "zerolinecolor": "white"
           }
          },
          "shapedefaults": {
           "line": {
            "color": "#2a3f5f"
           }
          },
          "ternary": {
           "aaxis": {
            "gridcolor": "white",
            "linecolor": "white",
            "ticks": ""
           },
           "baxis": {
            "gridcolor": "white",
            "linecolor": "white",
            "ticks": ""
           },
           "bgcolor": "#E5ECF6",
           "caxis": {
            "gridcolor": "white",
            "linecolor": "white",
            "ticks": ""
           }
          },
          "title": {
           "x": 0.05
          },
          "xaxis": {
           "automargin": true,
           "gridcolor": "white",
           "linecolor": "white",
           "ticks": "",
           "title": {
            "standoff": 15
           },
           "zerolinecolor": "white",
           "zerolinewidth": 2
          },
          "yaxis": {
           "automargin": true,
           "gridcolor": "white",
           "linecolor": "white",
           "ticks": "",
           "title": {
            "standoff": 15
           },
           "zerolinecolor": "white",
           "zerolinewidth": 2
          }
         }
        },
        "title": {
         "text": "<span>Vendas da loja 9</span>"
        },
        "width": 1200,
        "xaxis": {
         "title": {
          "text": "<span>Itens</span>"
         }
        },
        "yaxis": {
         "title": {
          "text": "<span>Quantidade</span>"
         }
        }
       }
      }
     },
     "metadata": {},
     "output_type": "display_data"
    }
   ],
   "source": [
    "\n",
    "for i in range(len(df_sales_pivoted.index)):\n",
    "    fig = go.Figure()\n",
    "    fig.add_trace(go.Bar(\n",
    "        x=np.arange(0, len(df_sales_pivoted.values[i])) + 1,\n",
    "        y=df_sales_pivoted.values[i],\n",
    "    ))\n",
    "\n",
    "    fig.update_layout(\n",
    "        title='<span>Vendas da loja {}</span>'.format(str(i)), \n",
    "        autosize=False,\n",
    "        width=1200,\n",
    "        height=300,\n",
    "        yaxis=dict(title='<span>Quantidade</span>'),\n",
    "        xaxis=dict(title='<span>Itens</span>')\n",
    "        )\n",
    "\n",
    "    fig.show()\n"
   ]
  },
  {
   "cell_type": "markdown",
   "metadata": {},
   "source": [
    "Podemos perceber que a proporção de produtos vendidos para cada loja segue um padrão, por exemplo o produto 1 vende menos que o produto 2 em todas as lojas e assim sucessivamente."
   ]
  },
  {
   "cell_type": "code",
   "execution_count": 129,
   "metadata": {},
   "outputs": [
    {
     "data": {
      "application/vnd.plotly.v1+json": {
       "config": {
        "plotlyServerURL": "https://plot.ly"
       },
       "data": [
        {
         "text": [
          4315603,
          6120128,
          5435144,
          5012639,
          3631016,
          3627670,
          3320009,
          5856169,
          5025976,
          5360158
         ],
         "type": "bar",
         "x": [
          "1",
          "2",
          "3",
          "4",
          "5",
          "6",
          "7",
          "8",
          "9",
          "10"
         ],
         "y": [
          4315603,
          6120128,
          5435144,
          5012639,
          3631016,
          3627670,
          3320009,
          5856169,
          5025976,
          5360158
         ]
        }
       ],
       "layout": {
        "autosize": false,
        "height": 500,
        "template": {
         "data": {
          "bar": [
           {
            "error_x": {
             "color": "#2a3f5f"
            },
            "error_y": {
             "color": "#2a3f5f"
            },
            "marker": {
             "line": {
              "color": "#E5ECF6",
              "width": 0.5
             },
             "pattern": {
              "fillmode": "overlay",
              "size": 10,
              "solidity": 0.2
             }
            },
            "type": "bar"
           }
          ],
          "barpolar": [
           {
            "marker": {
             "line": {
              "color": "#E5ECF6",
              "width": 0.5
             },
             "pattern": {
              "fillmode": "overlay",
              "size": 10,
              "solidity": 0.2
             }
            },
            "type": "barpolar"
           }
          ],
          "carpet": [
           {
            "aaxis": {
             "endlinecolor": "#2a3f5f",
             "gridcolor": "white",
             "linecolor": "white",
             "minorgridcolor": "white",
             "startlinecolor": "#2a3f5f"
            },
            "baxis": {
             "endlinecolor": "#2a3f5f",
             "gridcolor": "white",
             "linecolor": "white",
             "minorgridcolor": "white",
             "startlinecolor": "#2a3f5f"
            },
            "type": "carpet"
           }
          ],
          "choropleth": [
           {
            "colorbar": {
             "outlinewidth": 0,
             "ticks": ""
            },
            "type": "choropleth"
           }
          ],
          "contour": [
           {
            "colorbar": {
             "outlinewidth": 0,
             "ticks": ""
            },
            "colorscale": [
             [
              0,
              "#0d0887"
             ],
             [
              0.1111111111111111,
              "#46039f"
             ],
             [
              0.2222222222222222,
              "#7201a8"
             ],
             [
              0.3333333333333333,
              "#9c179e"
             ],
             [
              0.4444444444444444,
              "#bd3786"
             ],
             [
              0.5555555555555556,
              "#d8576b"
             ],
             [
              0.6666666666666666,
              "#ed7953"
             ],
             [
              0.7777777777777778,
              "#fb9f3a"
             ],
             [
              0.8888888888888888,
              "#fdca26"
             ],
             [
              1,
              "#f0f921"
             ]
            ],
            "type": "contour"
           }
          ],
          "contourcarpet": [
           {
            "colorbar": {
             "outlinewidth": 0,
             "ticks": ""
            },
            "type": "contourcarpet"
           }
          ],
          "heatmap": [
           {
            "colorbar": {
             "outlinewidth": 0,
             "ticks": ""
            },
            "colorscale": [
             [
              0,
              "#0d0887"
             ],
             [
              0.1111111111111111,
              "#46039f"
             ],
             [
              0.2222222222222222,
              "#7201a8"
             ],
             [
              0.3333333333333333,
              "#9c179e"
             ],
             [
              0.4444444444444444,
              "#bd3786"
             ],
             [
              0.5555555555555556,
              "#d8576b"
             ],
             [
              0.6666666666666666,
              "#ed7953"
             ],
             [
              0.7777777777777778,
              "#fb9f3a"
             ],
             [
              0.8888888888888888,
              "#fdca26"
             ],
             [
              1,
              "#f0f921"
             ]
            ],
            "type": "heatmap"
           }
          ],
          "heatmapgl": [
           {
            "colorbar": {
             "outlinewidth": 0,
             "ticks": ""
            },
            "colorscale": [
             [
              0,
              "#0d0887"
             ],
             [
              0.1111111111111111,
              "#46039f"
             ],
             [
              0.2222222222222222,
              "#7201a8"
             ],
             [
              0.3333333333333333,
              "#9c179e"
             ],
             [
              0.4444444444444444,
              "#bd3786"
             ],
             [
              0.5555555555555556,
              "#d8576b"
             ],
             [
              0.6666666666666666,
              "#ed7953"
             ],
             [
              0.7777777777777778,
              "#fb9f3a"
             ],
             [
              0.8888888888888888,
              "#fdca26"
             ],
             [
              1,
              "#f0f921"
             ]
            ],
            "type": "heatmapgl"
           }
          ],
          "histogram": [
           {
            "marker": {
             "pattern": {
              "fillmode": "overlay",
              "size": 10,
              "solidity": 0.2
             }
            },
            "type": "histogram"
           }
          ],
          "histogram2d": [
           {
            "colorbar": {
             "outlinewidth": 0,
             "ticks": ""
            },
            "colorscale": [
             [
              0,
              "#0d0887"
             ],
             [
              0.1111111111111111,
              "#46039f"
             ],
             [
              0.2222222222222222,
              "#7201a8"
             ],
             [
              0.3333333333333333,
              "#9c179e"
             ],
             [
              0.4444444444444444,
              "#bd3786"
             ],
             [
              0.5555555555555556,
              "#d8576b"
             ],
             [
              0.6666666666666666,
              "#ed7953"
             ],
             [
              0.7777777777777778,
              "#fb9f3a"
             ],
             [
              0.8888888888888888,
              "#fdca26"
             ],
             [
              1,
              "#f0f921"
             ]
            ],
            "type": "histogram2d"
           }
          ],
          "histogram2dcontour": [
           {
            "colorbar": {
             "outlinewidth": 0,
             "ticks": ""
            },
            "colorscale": [
             [
              0,
              "#0d0887"
             ],
             [
              0.1111111111111111,
              "#46039f"
             ],
             [
              0.2222222222222222,
              "#7201a8"
             ],
             [
              0.3333333333333333,
              "#9c179e"
             ],
             [
              0.4444444444444444,
              "#bd3786"
             ],
             [
              0.5555555555555556,
              "#d8576b"
             ],
             [
              0.6666666666666666,
              "#ed7953"
             ],
             [
              0.7777777777777778,
              "#fb9f3a"
             ],
             [
              0.8888888888888888,
              "#fdca26"
             ],
             [
              1,
              "#f0f921"
             ]
            ],
            "type": "histogram2dcontour"
           }
          ],
          "mesh3d": [
           {
            "colorbar": {
             "outlinewidth": 0,
             "ticks": ""
            },
            "type": "mesh3d"
           }
          ],
          "parcoords": [
           {
            "line": {
             "colorbar": {
              "outlinewidth": 0,
              "ticks": ""
             }
            },
            "type": "parcoords"
           }
          ],
          "pie": [
           {
            "automargin": true,
            "type": "pie"
           }
          ],
          "scatter": [
           {
            "fillpattern": {
             "fillmode": "overlay",
             "size": 10,
             "solidity": 0.2
            },
            "type": "scatter"
           }
          ],
          "scatter3d": [
           {
            "line": {
             "colorbar": {
              "outlinewidth": 0,
              "ticks": ""
             }
            },
            "marker": {
             "colorbar": {
              "outlinewidth": 0,
              "ticks": ""
             }
            },
            "type": "scatter3d"
           }
          ],
          "scattercarpet": [
           {
            "marker": {
             "colorbar": {
              "outlinewidth": 0,
              "ticks": ""
             }
            },
            "type": "scattercarpet"
           }
          ],
          "scattergeo": [
           {
            "marker": {
             "colorbar": {
              "outlinewidth": 0,
              "ticks": ""
             }
            },
            "type": "scattergeo"
           }
          ],
          "scattergl": [
           {
            "marker": {
             "colorbar": {
              "outlinewidth": 0,
              "ticks": ""
             }
            },
            "type": "scattergl"
           }
          ],
          "scattermapbox": [
           {
            "marker": {
             "colorbar": {
              "outlinewidth": 0,
              "ticks": ""
             }
            },
            "type": "scattermapbox"
           }
          ],
          "scatterpolar": [
           {
            "marker": {
             "colorbar": {
              "outlinewidth": 0,
              "ticks": ""
             }
            },
            "type": "scatterpolar"
           }
          ],
          "scatterpolargl": [
           {
            "marker": {
             "colorbar": {
              "outlinewidth": 0,
              "ticks": ""
             }
            },
            "type": "scatterpolargl"
           }
          ],
          "scatterternary": [
           {
            "marker": {
             "colorbar": {
              "outlinewidth": 0,
              "ticks": ""
             }
            },
            "type": "scatterternary"
           }
          ],
          "surface": [
           {
            "colorbar": {
             "outlinewidth": 0,
             "ticks": ""
            },
            "colorscale": [
             [
              0,
              "#0d0887"
             ],
             [
              0.1111111111111111,
              "#46039f"
             ],
             [
              0.2222222222222222,
              "#7201a8"
             ],
             [
              0.3333333333333333,
              "#9c179e"
             ],
             [
              0.4444444444444444,
              "#bd3786"
             ],
             [
              0.5555555555555556,
              "#d8576b"
             ],
             [
              0.6666666666666666,
              "#ed7953"
             ],
             [
              0.7777777777777778,
              "#fb9f3a"
             ],
             [
              0.8888888888888888,
              "#fdca26"
             ],
             [
              1,
              "#f0f921"
             ]
            ],
            "type": "surface"
           }
          ],
          "table": [
           {
            "cells": {
             "fill": {
              "color": "#EBF0F8"
             },
             "line": {
              "color": "white"
             }
            },
            "header": {
             "fill": {
              "color": "#C8D4E3"
             },
             "line": {
              "color": "white"
             }
            },
            "type": "table"
           }
          ]
         },
         "layout": {
          "annotationdefaults": {
           "arrowcolor": "#2a3f5f",
           "arrowhead": 0,
           "arrowwidth": 1
          },
          "autotypenumbers": "strict",
          "coloraxis": {
           "colorbar": {
            "outlinewidth": 0,
            "ticks": ""
           }
          },
          "colorscale": {
           "diverging": [
            [
             0,
             "#8e0152"
            ],
            [
             0.1,
             "#c51b7d"
            ],
            [
             0.2,
             "#de77ae"
            ],
            [
             0.3,
             "#f1b6da"
            ],
            [
             0.4,
             "#fde0ef"
            ],
            [
             0.5,
             "#f7f7f7"
            ],
            [
             0.6,
             "#e6f5d0"
            ],
            [
             0.7,
             "#b8e186"
            ],
            [
             0.8,
             "#7fbc41"
            ],
            [
             0.9,
             "#4d9221"
            ],
            [
             1,
             "#276419"
            ]
           ],
           "sequential": [
            [
             0,
             "#0d0887"
            ],
            [
             0.1111111111111111,
             "#46039f"
            ],
            [
             0.2222222222222222,
             "#7201a8"
            ],
            [
             0.3333333333333333,
             "#9c179e"
            ],
            [
             0.4444444444444444,
             "#bd3786"
            ],
            [
             0.5555555555555556,
             "#d8576b"
            ],
            [
             0.6666666666666666,
             "#ed7953"
            ],
            [
             0.7777777777777778,
             "#fb9f3a"
            ],
            [
             0.8888888888888888,
             "#fdca26"
            ],
            [
             1,
             "#f0f921"
            ]
           ],
           "sequentialminus": [
            [
             0,
             "#0d0887"
            ],
            [
             0.1111111111111111,
             "#46039f"
            ],
            [
             0.2222222222222222,
             "#7201a8"
            ],
            [
             0.3333333333333333,
             "#9c179e"
            ],
            [
             0.4444444444444444,
             "#bd3786"
            ],
            [
             0.5555555555555556,
             "#d8576b"
            ],
            [
             0.6666666666666666,
             "#ed7953"
            ],
            [
             0.7777777777777778,
             "#fb9f3a"
            ],
            [
             0.8888888888888888,
             "#fdca26"
            ],
            [
             1,
             "#f0f921"
            ]
           ]
          },
          "colorway": [
           "#636efa",
           "#EF553B",
           "#00cc96",
           "#ab63fa",
           "#FFA15A",
           "#19d3f3",
           "#FF6692",
           "#B6E880",
           "#FF97FF",
           "#FECB52"
          ],
          "font": {
           "color": "#2a3f5f"
          },
          "geo": {
           "bgcolor": "white",
           "lakecolor": "white",
           "landcolor": "#E5ECF6",
           "showlakes": true,
           "showland": true,
           "subunitcolor": "white"
          },
          "hoverlabel": {
           "align": "left"
          },
          "hovermode": "closest",
          "mapbox": {
           "style": "light"
          },
          "paper_bgcolor": "white",
          "plot_bgcolor": "#E5ECF6",
          "polar": {
           "angularaxis": {
            "gridcolor": "white",
            "linecolor": "white",
            "ticks": ""
           },
           "bgcolor": "#E5ECF6",
           "radialaxis": {
            "gridcolor": "white",
            "linecolor": "white",
            "ticks": ""
           }
          },
          "scene": {
           "xaxis": {
            "backgroundcolor": "#E5ECF6",
            "gridcolor": "white",
            "gridwidth": 2,
            "linecolor": "white",
            "showbackground": true,
            "ticks": "",
            "zerolinecolor": "white"
           },
           "yaxis": {
            "backgroundcolor": "#E5ECF6",
            "gridcolor": "white",
            "gridwidth": 2,
            "linecolor": "white",
            "showbackground": true,
            "ticks": "",
            "zerolinecolor": "white"
           },
           "zaxis": {
            "backgroundcolor": "#E5ECF6",
            "gridcolor": "white",
            "gridwidth": 2,
            "linecolor": "white",
            "showbackground": true,
            "ticks": "",
            "zerolinecolor": "white"
           }
          },
          "shapedefaults": {
           "line": {
            "color": "#2a3f5f"
           }
          },
          "ternary": {
           "aaxis": {
            "gridcolor": "white",
            "linecolor": "white",
            "ticks": ""
           },
           "baxis": {
            "gridcolor": "white",
            "linecolor": "white",
            "ticks": ""
           },
           "bgcolor": "#E5ECF6",
           "caxis": {
            "gridcolor": "white",
            "linecolor": "white",
            "ticks": ""
           }
          },
          "title": {
           "x": 0.05
          },
          "xaxis": {
           "automargin": true,
           "gridcolor": "white",
           "linecolor": "white",
           "ticks": "",
           "title": {
            "standoff": 15
           },
           "zerolinecolor": "white",
           "zerolinewidth": 2
          },
          "yaxis": {
           "automargin": true,
           "gridcolor": "white",
           "linecolor": "white",
           "ticks": "",
           "title": {
            "standoff": 15
           },
           "zerolinecolor": "white",
           "zerolinewidth": 2
          }
         }
        },
        "title": {
         "text": "<span>Total de vendas por loja</span>"
        },
        "width": 1000,
        "xaxis": {
         "title": {
          "text": "<span>Loja</span>"
         }
        },
        "yaxis": {
         "title": {
          "text": "<span>Quantidade</span>"
         }
        }
       }
      }
     },
     "metadata": {},
     "output_type": "display_data"
    }
   ],
   "source": [
    "sr_sales = df_sales.groupby('store')['sales'].sum()\n",
    "\n",
    "fig = go.Figure()\n",
    "fig.add_trace(go.Bar(\n",
    "    x=sr_sales.index.astype(str), \n",
    "    y=sr_sales.values,\n",
    "    text=sr_sales.values,\n",
    "))\n",
    "\n",
    "fig.update_layout(\n",
    "        title='<span>Total de vendas por loja</span>', \n",
    "        autosize=False,\n",
    "        width=1000,\n",
    "        height=500,\n",
    "        yaxis=dict(title='<span>Quantidade</span>'),\n",
    "        xaxis=dict(title='<span>Loja</span>')\n",
    "    )\n",
    "\n",
    "fig.show()"
   ]
  },
  {
   "cell_type": "markdown",
   "metadata": {},
   "source": [
    "Com os dados que temos podemos notar que a loja 2 é a campeã em vendas, seguida da loja 8, enquanto que as lojas 5, 6 e 7 estão bem atrás na quantidade de itens vendidos."
   ]
  },
  {
   "cell_type": "code",
   "execution_count": 130,
   "metadata": {},
   "outputs": [
    {
     "data": {
      "text/html": [
       "<div>\n",
       "<style scoped>\n",
       "    .dataframe tbody tr th:only-of-type {\n",
       "        vertical-align: middle;\n",
       "    }\n",
       "\n",
       "    .dataframe tbody tr th {\n",
       "        vertical-align: top;\n",
       "    }\n",
       "\n",
       "    .dataframe thead tr th {\n",
       "        text-align: left;\n",
       "    }\n",
       "\n",
       "    .dataframe thead tr:last-of-type th {\n",
       "        text-align: right;\n",
       "    }\n",
       "</style>\n",
       "<table border=\"1\" class=\"dataframe\">\n",
       "  <thead>\n",
       "    <tr>\n",
       "      <th></th>\n",
       "      <th colspan=\"20\" halign=\"left\">sales</th>\n",
       "      <th>avg_sale</th>\n",
       "    </tr>\n",
       "    <tr>\n",
       "      <th>item</th>\n",
       "      <th>1</th>\n",
       "      <th>2</th>\n",
       "      <th>3</th>\n",
       "      <th>4</th>\n",
       "      <th>5</th>\n",
       "      <th>6</th>\n",
       "      <th>7</th>\n",
       "      <th>8</th>\n",
       "      <th>9</th>\n",
       "      <th>10</th>\n",
       "      <th>...</th>\n",
       "      <th>42</th>\n",
       "      <th>43</th>\n",
       "      <th>44</th>\n",
       "      <th>45</th>\n",
       "      <th>46</th>\n",
       "      <th>47</th>\n",
       "      <th>48</th>\n",
       "      <th>49</th>\n",
       "      <th>50</th>\n",
       "      <th></th>\n",
       "    </tr>\n",
       "    <tr>\n",
       "      <th>store</th>\n",
       "      <th></th>\n",
       "      <th></th>\n",
       "      <th></th>\n",
       "      <th></th>\n",
       "      <th></th>\n",
       "      <th></th>\n",
       "      <th></th>\n",
       "      <th></th>\n",
       "      <th></th>\n",
       "      <th></th>\n",
       "      <th></th>\n",
       "      <th></th>\n",
       "      <th></th>\n",
       "      <th></th>\n",
       "      <th></th>\n",
       "      <th></th>\n",
       "      <th></th>\n",
       "      <th></th>\n",
       "      <th></th>\n",
       "      <th></th>\n",
       "      <th></th>\n",
       "    </tr>\n",
       "  </thead>\n",
       "  <tbody>\n",
       "    <tr>\n",
       "      <th>1</th>\n",
       "      <td>19.971522</td>\n",
       "      <td>53.148959</td>\n",
       "      <td>33.208105</td>\n",
       "      <td>19.956188</td>\n",
       "      <td>16.612815</td>\n",
       "      <td>53.060789</td>\n",
       "      <td>52.783680</td>\n",
       "      <td>69.472070</td>\n",
       "      <td>46.504929</td>\n",
       "      <td>66.354326</td>\n",
       "      <td>...</td>\n",
       "      <td>33.105696</td>\n",
       "      <td>46.242607</td>\n",
       "      <td>26.594195</td>\n",
       "      <td>72.720701</td>\n",
       "      <td>52.845016</td>\n",
       "      <td>19.814348</td>\n",
       "      <td>46.546002</td>\n",
       "      <td>26.461665</td>\n",
       "      <td>59.342826</td>\n",
       "      <td>47.268379</td>\n",
       "    </tr>\n",
       "    <tr>\n",
       "      <th>2</th>\n",
       "      <td>28.173604</td>\n",
       "      <td>75.316539</td>\n",
       "      <td>46.992333</td>\n",
       "      <td>28.234940</td>\n",
       "      <td>23.540526</td>\n",
       "      <td>74.945235</td>\n",
       "      <td>75.058598</td>\n",
       "      <td>99.090361</td>\n",
       "      <td>65.478094</td>\n",
       "      <td>94.097481</td>\n",
       "      <td>...</td>\n",
       "      <td>47.368018</td>\n",
       "      <td>65.785323</td>\n",
       "      <td>37.785871</td>\n",
       "      <td>103.381161</td>\n",
       "      <td>75.219606</td>\n",
       "      <td>28.187842</td>\n",
       "      <td>66.028478</td>\n",
       "      <td>37.711939</td>\n",
       "      <td>84.622125</td>\n",
       "      <td>67.033165</td>\n",
       "    </tr>\n",
       "    <tr>\n",
       "      <th>3</th>\n",
       "      <td>25.070099</td>\n",
       "      <td>66.804491</td>\n",
       "      <td>41.771084</td>\n",
       "      <td>25.116101</td>\n",
       "      <td>20.857612</td>\n",
       "      <td>67.007119</td>\n",
       "      <td>66.647864</td>\n",
       "      <td>87.517525</td>\n",
       "      <td>58.486857</td>\n",
       "      <td>83.387733</td>\n",
       "      <td>...</td>\n",
       "      <td>41.797371</td>\n",
       "      <td>58.197700</td>\n",
       "      <td>33.386090</td>\n",
       "      <td>91.851041</td>\n",
       "      <td>66.748083</td>\n",
       "      <td>25.120482</td>\n",
       "      <td>58.700986</td>\n",
       "      <td>33.259584</td>\n",
       "      <td>74.958379</td>\n",
       "      <td>59.530602</td>\n",
       "    </tr>\n",
       "    <tr>\n",
       "      <th>4</th>\n",
       "      <td>22.938664</td>\n",
       "      <td>61.715225</td>\n",
       "      <td>38.548193</td>\n",
       "      <td>23.086528</td>\n",
       "      <td>19.525192</td>\n",
       "      <td>61.270537</td>\n",
       "      <td>61.625411</td>\n",
       "      <td>80.819825</td>\n",
       "      <td>54.043812</td>\n",
       "      <td>77.047645</td>\n",
       "      <td>...</td>\n",
       "      <td>38.539978</td>\n",
       "      <td>54.018620</td>\n",
       "      <td>30.952355</td>\n",
       "      <td>84.687295</td>\n",
       "      <td>61.420044</td>\n",
       "      <td>23.114458</td>\n",
       "      <td>53.765608</td>\n",
       "      <td>30.840635</td>\n",
       "      <td>68.921687</td>\n",
       "      <td>54.902946</td>\n",
       "    </tr>\n",
       "    <tr>\n",
       "      <th>5</th>\n",
       "      <td>16.739321</td>\n",
       "      <td>44.488499</td>\n",
       "      <td>27.835706</td>\n",
       "      <td>16.776561</td>\n",
       "      <td>14.086528</td>\n",
       "      <td>44.564622</td>\n",
       "      <td>44.535597</td>\n",
       "      <td>58.565717</td>\n",
       "      <td>38.837349</td>\n",
       "      <td>55.509858</td>\n",
       "      <td>...</td>\n",
       "      <td>27.730559</td>\n",
       "      <td>39.163198</td>\n",
       "      <td>22.415115</td>\n",
       "      <td>61.427163</td>\n",
       "      <td>44.734940</td>\n",
       "      <td>16.699343</td>\n",
       "      <td>39.281490</td>\n",
       "      <td>22.371851</td>\n",
       "      <td>50.319277</td>\n",
       "      <td>39.770164</td>\n",
       "    </tr>\n",
       "    <tr>\n",
       "      <th>6</th>\n",
       "      <td>16.717963</td>\n",
       "      <td>44.533954</td>\n",
       "      <td>27.811062</td>\n",
       "      <td>16.754107</td>\n",
       "      <td>13.893209</td>\n",
       "      <td>44.503834</td>\n",
       "      <td>44.599124</td>\n",
       "      <td>58.385542</td>\n",
       "      <td>39.460022</td>\n",
       "      <td>55.565170</td>\n",
       "      <td>...</td>\n",
       "      <td>27.893209</td>\n",
       "      <td>39.034502</td>\n",
       "      <td>22.322563</td>\n",
       "      <td>61.142935</td>\n",
       "      <td>44.539978</td>\n",
       "      <td>16.708653</td>\n",
       "      <td>39.052574</td>\n",
       "      <td>22.181271</td>\n",
       "      <td>50.516429</td>\n",
       "      <td>39.733516</td>\n",
       "    </tr>\n",
       "    <tr>\n",
       "      <th>7</th>\n",
       "      <td>15.159365</td>\n",
       "      <td>40.717963</td>\n",
       "      <td>25.531216</td>\n",
       "      <td>15.358160</td>\n",
       "      <td>12.733844</td>\n",
       "      <td>40.703724</td>\n",
       "      <td>40.709748</td>\n",
       "      <td>53.723987</td>\n",
       "      <td>35.901972</td>\n",
       "      <td>51.156627</td>\n",
       "      <td>...</td>\n",
       "      <td>25.435926</td>\n",
       "      <td>35.426068</td>\n",
       "      <td>20.446331</td>\n",
       "      <td>55.905805</td>\n",
       "      <td>40.828587</td>\n",
       "      <td>15.479189</td>\n",
       "      <td>35.624315</td>\n",
       "      <td>20.406353</td>\n",
       "      <td>45.823658</td>\n",
       "      <td>36.363735</td>\n",
       "    </tr>\n",
       "    <tr>\n",
       "      <th>8</th>\n",
       "      <td>26.983571</td>\n",
       "      <td>71.656627</td>\n",
       "      <td>45.076123</td>\n",
       "      <td>26.948521</td>\n",
       "      <td>22.427711</td>\n",
       "      <td>71.958379</td>\n",
       "      <td>71.730559</td>\n",
       "      <td>94.461117</td>\n",
       "      <td>63.193319</td>\n",
       "      <td>89.818182</td>\n",
       "      <td>...</td>\n",
       "      <td>45.144031</td>\n",
       "      <td>62.980285</td>\n",
       "      <td>36.194414</td>\n",
       "      <td>98.941402</td>\n",
       "      <td>72.004929</td>\n",
       "      <td>27.150055</td>\n",
       "      <td>62.737130</td>\n",
       "      <td>36.035049</td>\n",
       "      <td>80.972070</td>\n",
       "      <td>64.142048</td>\n",
       "    </tr>\n",
       "    <tr>\n",
       "      <th>9</th>\n",
       "      <td>23.325849</td>\n",
       "      <td>61.792442</td>\n",
       "      <td>38.535049</td>\n",
       "      <td>23.150055</td>\n",
       "      <td>19.272180</td>\n",
       "      <td>61.412377</td>\n",
       "      <td>61.812158</td>\n",
       "      <td>81.287514</td>\n",
       "      <td>54.105696</td>\n",
       "      <td>77.105148</td>\n",
       "      <td>...</td>\n",
       "      <td>38.643483</td>\n",
       "      <td>54.152793</td>\n",
       "      <td>30.968237</td>\n",
       "      <td>85.093647</td>\n",
       "      <td>62.010953</td>\n",
       "      <td>23.003286</td>\n",
       "      <td>53.976999</td>\n",
       "      <td>31.052574</td>\n",
       "      <td>69.308324</td>\n",
       "      <td>55.049025</td>\n",
       "    </tr>\n",
       "    <tr>\n",
       "      <th>10</th>\n",
       "      <td>24.736035</td>\n",
       "      <td>65.566813</td>\n",
       "      <td>41.113363</td>\n",
       "      <td>24.721249</td>\n",
       "      <td>20.637459</td>\n",
       "      <td>65.612267</td>\n",
       "      <td>65.807777</td>\n",
       "      <td>86.176889</td>\n",
       "      <td>57.886637</td>\n",
       "      <td>82.232202</td>\n",
       "      <td>...</td>\n",
       "      <td>41.222892</td>\n",
       "      <td>57.942497</td>\n",
       "      <td>32.916758</td>\n",
       "      <td>90.690581</td>\n",
       "      <td>66.046550</td>\n",
       "      <td>24.755750</td>\n",
       "      <td>57.814896</td>\n",
       "      <td>33.032311</td>\n",
       "      <td>74.037240</td>\n",
       "      <td>58.709288</td>\n",
       "    </tr>\n",
       "  </tbody>\n",
       "</table>\n",
       "<p>10 rows × 51 columns</p>\n",
       "</div>"
      ],
      "text/plain": [
       "           sales                                                         \\\n",
       "item           1          2          3          4          5          6   \n",
       "store                                                                     \n",
       "1      19.971522  53.148959  33.208105  19.956188  16.612815  53.060789   \n",
       "2      28.173604  75.316539  46.992333  28.234940  23.540526  74.945235   \n",
       "3      25.070099  66.804491  41.771084  25.116101  20.857612  67.007119   \n",
       "4      22.938664  61.715225  38.548193  23.086528  19.525192  61.270537   \n",
       "5      16.739321  44.488499  27.835706  16.776561  14.086528  44.564622   \n",
       "6      16.717963  44.533954  27.811062  16.754107  13.893209  44.503834   \n",
       "7      15.159365  40.717963  25.531216  15.358160  12.733844  40.703724   \n",
       "8      26.983571  71.656627  45.076123  26.948521  22.427711  71.958379   \n",
       "9      23.325849  61.792442  38.535049  23.150055  19.272180  61.412377   \n",
       "10     24.736035  65.566813  41.113363  24.721249  20.637459  65.612267   \n",
       "\n",
       "                                                   ...                        \\\n",
       "item           7          8          9         10  ...         42         43   \n",
       "store                                              ...                         \n",
       "1      52.783680  69.472070  46.504929  66.354326  ...  33.105696  46.242607   \n",
       "2      75.058598  99.090361  65.478094  94.097481  ...  47.368018  65.785323   \n",
       "3      66.647864  87.517525  58.486857  83.387733  ...  41.797371  58.197700   \n",
       "4      61.625411  80.819825  54.043812  77.047645  ...  38.539978  54.018620   \n",
       "5      44.535597  58.565717  38.837349  55.509858  ...  27.730559  39.163198   \n",
       "6      44.599124  58.385542  39.460022  55.565170  ...  27.893209  39.034502   \n",
       "7      40.709748  53.723987  35.901972  51.156627  ...  25.435926  35.426068   \n",
       "8      71.730559  94.461117  63.193319  89.818182  ...  45.144031  62.980285   \n",
       "9      61.812158  81.287514  54.105696  77.105148  ...  38.643483  54.152793   \n",
       "10     65.807777  86.176889  57.886637  82.232202  ...  41.222892  57.942497   \n",
       "\n",
       "                                                                          \\\n",
       "item          44          45         46         47         48         49   \n",
       "store                                                                      \n",
       "1      26.594195   72.720701  52.845016  19.814348  46.546002  26.461665   \n",
       "2      37.785871  103.381161  75.219606  28.187842  66.028478  37.711939   \n",
       "3      33.386090   91.851041  66.748083  25.120482  58.700986  33.259584   \n",
       "4      30.952355   84.687295  61.420044  23.114458  53.765608  30.840635   \n",
       "5      22.415115   61.427163  44.734940  16.699343  39.281490  22.371851   \n",
       "6      22.322563   61.142935  44.539978  16.708653  39.052574  22.181271   \n",
       "7      20.446331   55.905805  40.828587  15.479189  35.624315  20.406353   \n",
       "8      36.194414   98.941402  72.004929  27.150055  62.737130  36.035049   \n",
       "9      30.968237   85.093647  62.010953  23.003286  53.976999  31.052574   \n",
       "10     32.916758   90.690581  66.046550  24.755750  57.814896  33.032311   \n",
       "\n",
       "                   avg_sale  \n",
       "item          50             \n",
       "store                        \n",
       "1      59.342826  47.268379  \n",
       "2      84.622125  67.033165  \n",
       "3      74.958379  59.530602  \n",
       "4      68.921687  54.902946  \n",
       "5      50.319277  39.770164  \n",
       "6      50.516429  39.733516  \n",
       "7      45.823658  36.363735  \n",
       "8      80.972070  64.142048  \n",
       "9      69.308324  55.049025  \n",
       "10     74.037240  58.709288  \n",
       "\n",
       "[10 rows x 51 columns]"
      ]
     },
     "execution_count": 130,
     "metadata": {},
     "output_type": "execute_result"
    }
   ],
   "source": [
    "df_store = df_train.copy()\n",
    "df_sales_pivoted = pd.pivot_table(df_store, index='store', values=['sales'], columns='item', aggfunc=np.mean)\n",
    "df_sales_across_store = df_sales_pivoted.copy()\n",
    "df_sales_across_store['avg_sale'] = df_sales_across_store.apply(lambda r: r.mean(), axis=1)\n",
    "df_sales_across_store"
   ]
  },
  {
   "cell_type": "code",
   "execution_count": 131,
   "metadata": {},
   "outputs": [
    {
     "data": {
      "application/vnd.plotly.v1+json": {
       "config": {
        "plotlyServerURL": "https://plot.ly"
       },
       "data": [
        {
         "marker": {
          "color": [
           47.26837897042716,
           67.03316538882802,
           59.53060240963856,
           54.90294633077766,
           39.77016429353779,
           39.73351588170865,
           36.36373493975904,
           64.14204819277109,
           55.049025191675774,
           58.70928806133627
          ],
          "colorscale": [
           [
            0,
            "#440154"
           ],
           [
            0.1111111111111111,
            "#482878"
           ],
           [
            0.2222222222222222,
            "#3e4989"
           ],
           [
            0.3333333333333333,
            "#31688e"
           ],
           [
            0.4444444444444444,
            "#26828e"
           ],
           [
            0.5555555555555556,
            "#1f9e89"
           ],
           [
            0.6666666666666666,
            "#35b779"
           ],
           [
            0.7777777777777778,
            "#6ece58"
           ],
           [
            0.8888888888888888,
            "#b5de2b"
           ],
           [
            1,
            "#fde725"
           ]
          ],
          "showscale": true,
          "size": [
           47.26837897042716,
           67.03316538882802,
           59.53060240963856,
           54.90294633077766,
           39.77016429353779,
           39.73351588170865,
           36.36373493975904,
           64.14204819277109,
           55.049025191675774,
           58.70928806133627
          ]
         },
         "mode": "markers",
         "text": [
          1,
          2,
          3,
          4,
          5,
          6,
          7,
          8,
          9,
          10
         ],
         "type": "scatter",
         "y": [
          47.26837897042716,
          67.03316538882802,
          59.53060240963856,
          54.90294633077766,
          39.77016429353779,
          39.73351588170865,
          36.36373493975904,
          64.14204819277109,
          55.049025191675774,
          58.70928806133627
         ]
        }
       ],
       "layout": {
        "autosize": false,
        "height": 500,
        "template": {
         "data": {
          "bar": [
           {
            "error_x": {
             "color": "#2a3f5f"
            },
            "error_y": {
             "color": "#2a3f5f"
            },
            "marker": {
             "line": {
              "color": "#E5ECF6",
              "width": 0.5
             },
             "pattern": {
              "fillmode": "overlay",
              "size": 10,
              "solidity": 0.2
             }
            },
            "type": "bar"
           }
          ],
          "barpolar": [
           {
            "marker": {
             "line": {
              "color": "#E5ECF6",
              "width": 0.5
             },
             "pattern": {
              "fillmode": "overlay",
              "size": 10,
              "solidity": 0.2
             }
            },
            "type": "barpolar"
           }
          ],
          "carpet": [
           {
            "aaxis": {
             "endlinecolor": "#2a3f5f",
             "gridcolor": "white",
             "linecolor": "white",
             "minorgridcolor": "white",
             "startlinecolor": "#2a3f5f"
            },
            "baxis": {
             "endlinecolor": "#2a3f5f",
             "gridcolor": "white",
             "linecolor": "white",
             "minorgridcolor": "white",
             "startlinecolor": "#2a3f5f"
            },
            "type": "carpet"
           }
          ],
          "choropleth": [
           {
            "colorbar": {
             "outlinewidth": 0,
             "ticks": ""
            },
            "type": "choropleth"
           }
          ],
          "contour": [
           {
            "colorbar": {
             "outlinewidth": 0,
             "ticks": ""
            },
            "colorscale": [
             [
              0,
              "#0d0887"
             ],
             [
              0.1111111111111111,
              "#46039f"
             ],
             [
              0.2222222222222222,
              "#7201a8"
             ],
             [
              0.3333333333333333,
              "#9c179e"
             ],
             [
              0.4444444444444444,
              "#bd3786"
             ],
             [
              0.5555555555555556,
              "#d8576b"
             ],
             [
              0.6666666666666666,
              "#ed7953"
             ],
             [
              0.7777777777777778,
              "#fb9f3a"
             ],
             [
              0.8888888888888888,
              "#fdca26"
             ],
             [
              1,
              "#f0f921"
             ]
            ],
            "type": "contour"
           }
          ],
          "contourcarpet": [
           {
            "colorbar": {
             "outlinewidth": 0,
             "ticks": ""
            },
            "type": "contourcarpet"
           }
          ],
          "heatmap": [
           {
            "colorbar": {
             "outlinewidth": 0,
             "ticks": ""
            },
            "colorscale": [
             [
              0,
              "#0d0887"
             ],
             [
              0.1111111111111111,
              "#46039f"
             ],
             [
              0.2222222222222222,
              "#7201a8"
             ],
             [
              0.3333333333333333,
              "#9c179e"
             ],
             [
              0.4444444444444444,
              "#bd3786"
             ],
             [
              0.5555555555555556,
              "#d8576b"
             ],
             [
              0.6666666666666666,
              "#ed7953"
             ],
             [
              0.7777777777777778,
              "#fb9f3a"
             ],
             [
              0.8888888888888888,
              "#fdca26"
             ],
             [
              1,
              "#f0f921"
             ]
            ],
            "type": "heatmap"
           }
          ],
          "heatmapgl": [
           {
            "colorbar": {
             "outlinewidth": 0,
             "ticks": ""
            },
            "colorscale": [
             [
              0,
              "#0d0887"
             ],
             [
              0.1111111111111111,
              "#46039f"
             ],
             [
              0.2222222222222222,
              "#7201a8"
             ],
             [
              0.3333333333333333,
              "#9c179e"
             ],
             [
              0.4444444444444444,
              "#bd3786"
             ],
             [
              0.5555555555555556,
              "#d8576b"
             ],
             [
              0.6666666666666666,
              "#ed7953"
             ],
             [
              0.7777777777777778,
              "#fb9f3a"
             ],
             [
              0.8888888888888888,
              "#fdca26"
             ],
             [
              1,
              "#f0f921"
             ]
            ],
            "type": "heatmapgl"
           }
          ],
          "histogram": [
           {
            "marker": {
             "pattern": {
              "fillmode": "overlay",
              "size": 10,
              "solidity": 0.2
             }
            },
            "type": "histogram"
           }
          ],
          "histogram2d": [
           {
            "colorbar": {
             "outlinewidth": 0,
             "ticks": ""
            },
            "colorscale": [
             [
              0,
              "#0d0887"
             ],
             [
              0.1111111111111111,
              "#46039f"
             ],
             [
              0.2222222222222222,
              "#7201a8"
             ],
             [
              0.3333333333333333,
              "#9c179e"
             ],
             [
              0.4444444444444444,
              "#bd3786"
             ],
             [
              0.5555555555555556,
              "#d8576b"
             ],
             [
              0.6666666666666666,
              "#ed7953"
             ],
             [
              0.7777777777777778,
              "#fb9f3a"
             ],
             [
              0.8888888888888888,
              "#fdca26"
             ],
             [
              1,
              "#f0f921"
             ]
            ],
            "type": "histogram2d"
           }
          ],
          "histogram2dcontour": [
           {
            "colorbar": {
             "outlinewidth": 0,
             "ticks": ""
            },
            "colorscale": [
             [
              0,
              "#0d0887"
             ],
             [
              0.1111111111111111,
              "#46039f"
             ],
             [
              0.2222222222222222,
              "#7201a8"
             ],
             [
              0.3333333333333333,
              "#9c179e"
             ],
             [
              0.4444444444444444,
              "#bd3786"
             ],
             [
              0.5555555555555556,
              "#d8576b"
             ],
             [
              0.6666666666666666,
              "#ed7953"
             ],
             [
              0.7777777777777778,
              "#fb9f3a"
             ],
             [
              0.8888888888888888,
              "#fdca26"
             ],
             [
              1,
              "#f0f921"
             ]
            ],
            "type": "histogram2dcontour"
           }
          ],
          "mesh3d": [
           {
            "colorbar": {
             "outlinewidth": 0,
             "ticks": ""
            },
            "type": "mesh3d"
           }
          ],
          "parcoords": [
           {
            "line": {
             "colorbar": {
              "outlinewidth": 0,
              "ticks": ""
             }
            },
            "type": "parcoords"
           }
          ],
          "pie": [
           {
            "automargin": true,
            "type": "pie"
           }
          ],
          "scatter": [
           {
            "fillpattern": {
             "fillmode": "overlay",
             "size": 10,
             "solidity": 0.2
            },
            "type": "scatter"
           }
          ],
          "scatter3d": [
           {
            "line": {
             "colorbar": {
              "outlinewidth": 0,
              "ticks": ""
             }
            },
            "marker": {
             "colorbar": {
              "outlinewidth": 0,
              "ticks": ""
             }
            },
            "type": "scatter3d"
           }
          ],
          "scattercarpet": [
           {
            "marker": {
             "colorbar": {
              "outlinewidth": 0,
              "ticks": ""
             }
            },
            "type": "scattercarpet"
           }
          ],
          "scattergeo": [
           {
            "marker": {
             "colorbar": {
              "outlinewidth": 0,
              "ticks": ""
             }
            },
            "type": "scattergeo"
           }
          ],
          "scattergl": [
           {
            "marker": {
             "colorbar": {
              "outlinewidth": 0,
              "ticks": ""
             }
            },
            "type": "scattergl"
           }
          ],
          "scattermapbox": [
           {
            "marker": {
             "colorbar": {
              "outlinewidth": 0,
              "ticks": ""
             }
            },
            "type": "scattermapbox"
           }
          ],
          "scatterpolar": [
           {
            "marker": {
             "colorbar": {
              "outlinewidth": 0,
              "ticks": ""
             }
            },
            "type": "scatterpolar"
           }
          ],
          "scatterpolargl": [
           {
            "marker": {
             "colorbar": {
              "outlinewidth": 0,
              "ticks": ""
             }
            },
            "type": "scatterpolargl"
           }
          ],
          "scatterternary": [
           {
            "marker": {
             "colorbar": {
              "outlinewidth": 0,
              "ticks": ""
             }
            },
            "type": "scatterternary"
           }
          ],
          "surface": [
           {
            "colorbar": {
             "outlinewidth": 0,
             "ticks": ""
            },
            "colorscale": [
             [
              0,
              "#0d0887"
             ],
             [
              0.1111111111111111,
              "#46039f"
             ],
             [
              0.2222222222222222,
              "#7201a8"
             ],
             [
              0.3333333333333333,
              "#9c179e"
             ],
             [
              0.4444444444444444,
              "#bd3786"
             ],
             [
              0.5555555555555556,
              "#d8576b"
             ],
             [
              0.6666666666666666,
              "#ed7953"
             ],
             [
              0.7777777777777778,
              "#fb9f3a"
             ],
             [
              0.8888888888888888,
              "#fdca26"
             ],
             [
              1,
              "#f0f921"
             ]
            ],
            "type": "surface"
           }
          ],
          "table": [
           {
            "cells": {
             "fill": {
              "color": "#EBF0F8"
             },
             "line": {
              "color": "white"
             }
            },
            "header": {
             "fill": {
              "color": "#C8D4E3"
             },
             "line": {
              "color": "white"
             }
            },
            "type": "table"
           }
          ]
         },
         "layout": {
          "annotationdefaults": {
           "arrowcolor": "#2a3f5f",
           "arrowhead": 0,
           "arrowwidth": 1
          },
          "autotypenumbers": "strict",
          "coloraxis": {
           "colorbar": {
            "outlinewidth": 0,
            "ticks": ""
           }
          },
          "colorscale": {
           "diverging": [
            [
             0,
             "#8e0152"
            ],
            [
             0.1,
             "#c51b7d"
            ],
            [
             0.2,
             "#de77ae"
            ],
            [
             0.3,
             "#f1b6da"
            ],
            [
             0.4,
             "#fde0ef"
            ],
            [
             0.5,
             "#f7f7f7"
            ],
            [
             0.6,
             "#e6f5d0"
            ],
            [
             0.7,
             "#b8e186"
            ],
            [
             0.8,
             "#7fbc41"
            ],
            [
             0.9,
             "#4d9221"
            ],
            [
             1,
             "#276419"
            ]
           ],
           "sequential": [
            [
             0,
             "#0d0887"
            ],
            [
             0.1111111111111111,
             "#46039f"
            ],
            [
             0.2222222222222222,
             "#7201a8"
            ],
            [
             0.3333333333333333,
             "#9c179e"
            ],
            [
             0.4444444444444444,
             "#bd3786"
            ],
            [
             0.5555555555555556,
             "#d8576b"
            ],
            [
             0.6666666666666666,
             "#ed7953"
            ],
            [
             0.7777777777777778,
             "#fb9f3a"
            ],
            [
             0.8888888888888888,
             "#fdca26"
            ],
            [
             1,
             "#f0f921"
            ]
           ],
           "sequentialminus": [
            [
             0,
             "#0d0887"
            ],
            [
             0.1111111111111111,
             "#46039f"
            ],
            [
             0.2222222222222222,
             "#7201a8"
            ],
            [
             0.3333333333333333,
             "#9c179e"
            ],
            [
             0.4444444444444444,
             "#bd3786"
            ],
            [
             0.5555555555555556,
             "#d8576b"
            ],
            [
             0.6666666666666666,
             "#ed7953"
            ],
            [
             0.7777777777777778,
             "#fb9f3a"
            ],
            [
             0.8888888888888888,
             "#fdca26"
            ],
            [
             1,
             "#f0f921"
            ]
           ]
          },
          "colorway": [
           "#636efa",
           "#EF553B",
           "#00cc96",
           "#ab63fa",
           "#FFA15A",
           "#19d3f3",
           "#FF6692",
           "#B6E880",
           "#FF97FF",
           "#FECB52"
          ],
          "font": {
           "color": "#2a3f5f"
          },
          "geo": {
           "bgcolor": "white",
           "lakecolor": "white",
           "landcolor": "#E5ECF6",
           "showlakes": true,
           "showland": true,
           "subunitcolor": "white"
          },
          "hoverlabel": {
           "align": "left"
          },
          "hovermode": "closest",
          "mapbox": {
           "style": "light"
          },
          "paper_bgcolor": "white",
          "plot_bgcolor": "#E5ECF6",
          "polar": {
           "angularaxis": {
            "gridcolor": "white",
            "linecolor": "white",
            "ticks": ""
           },
           "bgcolor": "#E5ECF6",
           "radialaxis": {
            "gridcolor": "white",
            "linecolor": "white",
            "ticks": ""
           }
          },
          "scene": {
           "xaxis": {
            "backgroundcolor": "#E5ECF6",
            "gridcolor": "white",
            "gridwidth": 2,
            "linecolor": "white",
            "showbackground": true,
            "ticks": "",
            "zerolinecolor": "white"
           },
           "yaxis": {
            "backgroundcolor": "#E5ECF6",
            "gridcolor": "white",
            "gridwidth": 2,
            "linecolor": "white",
            "showbackground": true,
            "ticks": "",
            "zerolinecolor": "white"
           },
           "zaxis": {
            "backgroundcolor": "#E5ECF6",
            "gridcolor": "white",
            "gridwidth": 2,
            "linecolor": "white",
            "showbackground": true,
            "ticks": "",
            "zerolinecolor": "white"
           }
          },
          "shapedefaults": {
           "line": {
            "color": "#2a3f5f"
           }
          },
          "ternary": {
           "aaxis": {
            "gridcolor": "white",
            "linecolor": "white",
            "ticks": ""
           },
           "baxis": {
            "gridcolor": "white",
            "linecolor": "white",
            "ticks": ""
           },
           "bgcolor": "#E5ECF6",
           "caxis": {
            "gridcolor": "white",
            "linecolor": "white",
            "ticks": ""
           }
          },
          "title": {
           "x": 0.05
          },
          "xaxis": {
           "automargin": true,
           "gridcolor": "white",
           "linecolor": "white",
           "ticks": "",
           "title": {
            "standoff": 15
           },
           "zerolinecolor": "white",
           "zerolinewidth": 2
          },
          "yaxis": {
           "automargin": true,
           "gridcolor": "white",
           "linecolor": "white",
           "ticks": "",
           "title": {
            "standoff": 15
           },
           "zerolinecolor": "white",
           "zerolinewidth": 2
          }
         }
        },
        "title": {
         "text": "<span>Média de vendas por loja</span>"
        },
        "width": 700,
        "xaxis": {
         "title": {
          "text": "<span>Lojas</span>"
         }
        },
        "yaxis": {
         "title": {
          "text": "<span>Média de vendas</span>"
         }
        }
       }
      }
     },
     "metadata": {},
     "output_type": "display_data"
    }
   ],
   "source": [
    "fig = go.Figure()\n",
    "fig.add_trace(go.Scatter(\n",
    "    y = df_sales_across_store['avg_sale'].values,\n",
    "    mode='markers',\n",
    "    marker=dict(\n",
    "        size = df_sales_across_store['avg_sale'].values,\n",
    "        color = df_sales_across_store['avg_sale'].values,\n",
    "        colorscale = 'Viridis',\n",
    "        showscale = True\n",
    "\n",
    "    ),\n",
    "    text = df_sales_across_store.index.values\n",
    "))\n",
    "\n",
    "fig.update_layout(\n",
    "        title='<span>Média de vendas por loja</span>', \n",
    "        autosize=False,\n",
    "        width=700,\n",
    "        height=500,\n",
    "        yaxis=dict(title='<span>Média de vendas</span>'),\n",
    "        xaxis=dict(title='<span>Lojas</span>')\n",
    "    )\n",
    "\n",
    "fig.show()"
   ]
  },
  {
   "cell_type": "markdown",
   "metadata": {},
   "source": [
    "Outra forma de visualizar a informação que tinhamos visto anteriormente. O gráfico só confirma que as lojas 2 e 8 são as que mais vendem enquanto que as lojas 4, 5 e 6 são as que estão vendendo menos."
   ]
  },
  {
   "cell_type": "markdown",
   "metadata": {},
   "source": [
    "##### 2.3) Variação de vendas entre os itens"
   ]
  },
  {
   "cell_type": "code",
   "execution_count": 254,
   "metadata": {},
   "outputs": [
    {
     "data": {
      "application/vnd.plotly.v1+json": {
       "config": {
        "plotlyServerURL": "https://plot.ly"
       },
       "data": [
        {
         "text": [
          1607442,
          1604713,
          1539621,
          1538876,
          1473334,
          1471467,
          1470330,
          1469971,
          1406548,
          1405108,
          1337133,
          1271925,
          1271534,
          1271240,
          1270183
         ],
         "type": "bar",
         "x": [
          "15",
          "28",
          "13",
          "18",
          "25",
          "45",
          "38",
          "22",
          "36",
          "8",
          "10",
          "11",
          "12",
          "29",
          "33"
         ],
         "y": [
          1607442,
          1604713,
          1539621,
          1538876,
          1473334,
          1471467,
          1470330,
          1469971,
          1406548,
          1405108,
          1337133,
          1271925,
          1271534,
          1271240,
          1270183
         ]
        }
       ],
       "layout": {
        "autosize": false,
        "height": 500,
        "template": {
         "data": {
          "bar": [
           {
            "error_x": {
             "color": "#2a3f5f"
            },
            "error_y": {
             "color": "#2a3f5f"
            },
            "marker": {
             "line": {
              "color": "#E5ECF6",
              "width": 0.5
             },
             "pattern": {
              "fillmode": "overlay",
              "size": 10,
              "solidity": 0.2
             }
            },
            "type": "bar"
           }
          ],
          "barpolar": [
           {
            "marker": {
             "line": {
              "color": "#E5ECF6",
              "width": 0.5
             },
             "pattern": {
              "fillmode": "overlay",
              "size": 10,
              "solidity": 0.2
             }
            },
            "type": "barpolar"
           }
          ],
          "carpet": [
           {
            "aaxis": {
             "endlinecolor": "#2a3f5f",
             "gridcolor": "white",
             "linecolor": "white",
             "minorgridcolor": "white",
             "startlinecolor": "#2a3f5f"
            },
            "baxis": {
             "endlinecolor": "#2a3f5f",
             "gridcolor": "white",
             "linecolor": "white",
             "minorgridcolor": "white",
             "startlinecolor": "#2a3f5f"
            },
            "type": "carpet"
           }
          ],
          "choropleth": [
           {
            "colorbar": {
             "outlinewidth": 0,
             "ticks": ""
            },
            "type": "choropleth"
           }
          ],
          "contour": [
           {
            "colorbar": {
             "outlinewidth": 0,
             "ticks": ""
            },
            "colorscale": [
             [
              0,
              "#0d0887"
             ],
             [
              0.1111111111111111,
              "#46039f"
             ],
             [
              0.2222222222222222,
              "#7201a8"
             ],
             [
              0.3333333333333333,
              "#9c179e"
             ],
             [
              0.4444444444444444,
              "#bd3786"
             ],
             [
              0.5555555555555556,
              "#d8576b"
             ],
             [
              0.6666666666666666,
              "#ed7953"
             ],
             [
              0.7777777777777778,
              "#fb9f3a"
             ],
             [
              0.8888888888888888,
              "#fdca26"
             ],
             [
              1,
              "#f0f921"
             ]
            ],
            "type": "contour"
           }
          ],
          "contourcarpet": [
           {
            "colorbar": {
             "outlinewidth": 0,
             "ticks": ""
            },
            "type": "contourcarpet"
           }
          ],
          "heatmap": [
           {
            "colorbar": {
             "outlinewidth": 0,
             "ticks": ""
            },
            "colorscale": [
             [
              0,
              "#0d0887"
             ],
             [
              0.1111111111111111,
              "#46039f"
             ],
             [
              0.2222222222222222,
              "#7201a8"
             ],
             [
              0.3333333333333333,
              "#9c179e"
             ],
             [
              0.4444444444444444,
              "#bd3786"
             ],
             [
              0.5555555555555556,
              "#d8576b"
             ],
             [
              0.6666666666666666,
              "#ed7953"
             ],
             [
              0.7777777777777778,
              "#fb9f3a"
             ],
             [
              0.8888888888888888,
              "#fdca26"
             ],
             [
              1,
              "#f0f921"
             ]
            ],
            "type": "heatmap"
           }
          ],
          "heatmapgl": [
           {
            "colorbar": {
             "outlinewidth": 0,
             "ticks": ""
            },
            "colorscale": [
             [
              0,
              "#0d0887"
             ],
             [
              0.1111111111111111,
              "#46039f"
             ],
             [
              0.2222222222222222,
              "#7201a8"
             ],
             [
              0.3333333333333333,
              "#9c179e"
             ],
             [
              0.4444444444444444,
              "#bd3786"
             ],
             [
              0.5555555555555556,
              "#d8576b"
             ],
             [
              0.6666666666666666,
              "#ed7953"
             ],
             [
              0.7777777777777778,
              "#fb9f3a"
             ],
             [
              0.8888888888888888,
              "#fdca26"
             ],
             [
              1,
              "#f0f921"
             ]
            ],
            "type": "heatmapgl"
           }
          ],
          "histogram": [
           {
            "marker": {
             "pattern": {
              "fillmode": "overlay",
              "size": 10,
              "solidity": 0.2
             }
            },
            "type": "histogram"
           }
          ],
          "histogram2d": [
           {
            "colorbar": {
             "outlinewidth": 0,
             "ticks": ""
            },
            "colorscale": [
             [
              0,
              "#0d0887"
             ],
             [
              0.1111111111111111,
              "#46039f"
             ],
             [
              0.2222222222222222,
              "#7201a8"
             ],
             [
              0.3333333333333333,
              "#9c179e"
             ],
             [
              0.4444444444444444,
              "#bd3786"
             ],
             [
              0.5555555555555556,
              "#d8576b"
             ],
             [
              0.6666666666666666,
              "#ed7953"
             ],
             [
              0.7777777777777778,
              "#fb9f3a"
             ],
             [
              0.8888888888888888,
              "#fdca26"
             ],
             [
              1,
              "#f0f921"
             ]
            ],
            "type": "histogram2d"
           }
          ],
          "histogram2dcontour": [
           {
            "colorbar": {
             "outlinewidth": 0,
             "ticks": ""
            },
            "colorscale": [
             [
              0,
              "#0d0887"
             ],
             [
              0.1111111111111111,
              "#46039f"
             ],
             [
              0.2222222222222222,
              "#7201a8"
             ],
             [
              0.3333333333333333,
              "#9c179e"
             ],
             [
              0.4444444444444444,
              "#bd3786"
             ],
             [
              0.5555555555555556,
              "#d8576b"
             ],
             [
              0.6666666666666666,
              "#ed7953"
             ],
             [
              0.7777777777777778,
              "#fb9f3a"
             ],
             [
              0.8888888888888888,
              "#fdca26"
             ],
             [
              1,
              "#f0f921"
             ]
            ],
            "type": "histogram2dcontour"
           }
          ],
          "mesh3d": [
           {
            "colorbar": {
             "outlinewidth": 0,
             "ticks": ""
            },
            "type": "mesh3d"
           }
          ],
          "parcoords": [
           {
            "line": {
             "colorbar": {
              "outlinewidth": 0,
              "ticks": ""
             }
            },
            "type": "parcoords"
           }
          ],
          "pie": [
           {
            "automargin": true,
            "type": "pie"
           }
          ],
          "scatter": [
           {
            "fillpattern": {
             "fillmode": "overlay",
             "size": 10,
             "solidity": 0.2
            },
            "type": "scatter"
           }
          ],
          "scatter3d": [
           {
            "line": {
             "colorbar": {
              "outlinewidth": 0,
              "ticks": ""
             }
            },
            "marker": {
             "colorbar": {
              "outlinewidth": 0,
              "ticks": ""
             }
            },
            "type": "scatter3d"
           }
          ],
          "scattercarpet": [
           {
            "marker": {
             "colorbar": {
              "outlinewidth": 0,
              "ticks": ""
             }
            },
            "type": "scattercarpet"
           }
          ],
          "scattergeo": [
           {
            "marker": {
             "colorbar": {
              "outlinewidth": 0,
              "ticks": ""
             }
            },
            "type": "scattergeo"
           }
          ],
          "scattergl": [
           {
            "marker": {
             "colorbar": {
              "outlinewidth": 0,
              "ticks": ""
             }
            },
            "type": "scattergl"
           }
          ],
          "scattermapbox": [
           {
            "marker": {
             "colorbar": {
              "outlinewidth": 0,
              "ticks": ""
             }
            },
            "type": "scattermapbox"
           }
          ],
          "scatterpolar": [
           {
            "marker": {
             "colorbar": {
              "outlinewidth": 0,
              "ticks": ""
             }
            },
            "type": "scatterpolar"
           }
          ],
          "scatterpolargl": [
           {
            "marker": {
             "colorbar": {
              "outlinewidth": 0,
              "ticks": ""
             }
            },
            "type": "scatterpolargl"
           }
          ],
          "scatterternary": [
           {
            "marker": {
             "colorbar": {
              "outlinewidth": 0,
              "ticks": ""
             }
            },
            "type": "scatterternary"
           }
          ],
          "surface": [
           {
            "colorbar": {
             "outlinewidth": 0,
             "ticks": ""
            },
            "colorscale": [
             [
              0,
              "#0d0887"
             ],
             [
              0.1111111111111111,
              "#46039f"
             ],
             [
              0.2222222222222222,
              "#7201a8"
             ],
             [
              0.3333333333333333,
              "#9c179e"
             ],
             [
              0.4444444444444444,
              "#bd3786"
             ],
             [
              0.5555555555555556,
              "#d8576b"
             ],
             [
              0.6666666666666666,
              "#ed7953"
             ],
             [
              0.7777777777777778,
              "#fb9f3a"
             ],
             [
              0.8888888888888888,
              "#fdca26"
             ],
             [
              1,
              "#f0f921"
             ]
            ],
            "type": "surface"
           }
          ],
          "table": [
           {
            "cells": {
             "fill": {
              "color": "#EBF0F8"
             },
             "line": {
              "color": "white"
             }
            },
            "header": {
             "fill": {
              "color": "#C8D4E3"
             },
             "line": {
              "color": "white"
             }
            },
            "type": "table"
           }
          ]
         },
         "layout": {
          "annotationdefaults": {
           "arrowcolor": "#2a3f5f",
           "arrowhead": 0,
           "arrowwidth": 1
          },
          "autotypenumbers": "strict",
          "coloraxis": {
           "colorbar": {
            "outlinewidth": 0,
            "ticks": ""
           }
          },
          "colorscale": {
           "diverging": [
            [
             0,
             "#8e0152"
            ],
            [
             0.1,
             "#c51b7d"
            ],
            [
             0.2,
             "#de77ae"
            ],
            [
             0.3,
             "#f1b6da"
            ],
            [
             0.4,
             "#fde0ef"
            ],
            [
             0.5,
             "#f7f7f7"
            ],
            [
             0.6,
             "#e6f5d0"
            ],
            [
             0.7,
             "#b8e186"
            ],
            [
             0.8,
             "#7fbc41"
            ],
            [
             0.9,
             "#4d9221"
            ],
            [
             1,
             "#276419"
            ]
           ],
           "sequential": [
            [
             0,
             "#0d0887"
            ],
            [
             0.1111111111111111,
             "#46039f"
            ],
            [
             0.2222222222222222,
             "#7201a8"
            ],
            [
             0.3333333333333333,
             "#9c179e"
            ],
            [
             0.4444444444444444,
             "#bd3786"
            ],
            [
             0.5555555555555556,
             "#d8576b"
            ],
            [
             0.6666666666666666,
             "#ed7953"
            ],
            [
             0.7777777777777778,
             "#fb9f3a"
            ],
            [
             0.8888888888888888,
             "#fdca26"
            ],
            [
             1,
             "#f0f921"
            ]
           ],
           "sequentialminus": [
            [
             0,
             "#0d0887"
            ],
            [
             0.1111111111111111,
             "#46039f"
            ],
            [
             0.2222222222222222,
             "#7201a8"
            ],
            [
             0.3333333333333333,
             "#9c179e"
            ],
            [
             0.4444444444444444,
             "#bd3786"
            ],
            [
             0.5555555555555556,
             "#d8576b"
            ],
            [
             0.6666666666666666,
             "#ed7953"
            ],
            [
             0.7777777777777778,
             "#fb9f3a"
            ],
            [
             0.8888888888888888,
             "#fdca26"
            ],
            [
             1,
             "#f0f921"
            ]
           ]
          },
          "colorway": [
           "#636efa",
           "#EF553B",
           "#00cc96",
           "#ab63fa",
           "#FFA15A",
           "#19d3f3",
           "#FF6692",
           "#B6E880",
           "#FF97FF",
           "#FECB52"
          ],
          "font": {
           "color": "#2a3f5f"
          },
          "geo": {
           "bgcolor": "white",
           "lakecolor": "white",
           "landcolor": "#E5ECF6",
           "showlakes": true,
           "showland": true,
           "subunitcolor": "white"
          },
          "hoverlabel": {
           "align": "left"
          },
          "hovermode": "closest",
          "mapbox": {
           "style": "light"
          },
          "paper_bgcolor": "white",
          "plot_bgcolor": "#E5ECF6",
          "polar": {
           "angularaxis": {
            "gridcolor": "white",
            "linecolor": "white",
            "ticks": ""
           },
           "bgcolor": "#E5ECF6",
           "radialaxis": {
            "gridcolor": "white",
            "linecolor": "white",
            "ticks": ""
           }
          },
          "scene": {
           "xaxis": {
            "backgroundcolor": "#E5ECF6",
            "gridcolor": "white",
            "gridwidth": 2,
            "linecolor": "white",
            "showbackground": true,
            "ticks": "",
            "zerolinecolor": "white"
           },
           "yaxis": {
            "backgroundcolor": "#E5ECF6",
            "gridcolor": "white",
            "gridwidth": 2,
            "linecolor": "white",
            "showbackground": true,
            "ticks": "",
            "zerolinecolor": "white"
           },
           "zaxis": {
            "backgroundcolor": "#E5ECF6",
            "gridcolor": "white",
            "gridwidth": 2,
            "linecolor": "white",
            "showbackground": true,
            "ticks": "",
            "zerolinecolor": "white"
           }
          },
          "shapedefaults": {
           "line": {
            "color": "#2a3f5f"
           }
          },
          "ternary": {
           "aaxis": {
            "gridcolor": "white",
            "linecolor": "white",
            "ticks": ""
           },
           "baxis": {
            "gridcolor": "white",
            "linecolor": "white",
            "ticks": ""
           },
           "bgcolor": "#E5ECF6",
           "caxis": {
            "gridcolor": "white",
            "linecolor": "white",
            "ticks": ""
           }
          },
          "title": {
           "x": 0.05
          },
          "xaxis": {
           "automargin": true,
           "gridcolor": "white",
           "linecolor": "white",
           "ticks": "",
           "title": {
            "standoff": 15
           },
           "zerolinecolor": "white",
           "zerolinewidth": 2
          },
          "yaxis": {
           "automargin": true,
           "gridcolor": "white",
           "linecolor": "white",
           "ticks": "",
           "title": {
            "standoff": 15
           },
           "zerolinecolor": "white",
           "zerolinewidth": 2
          }
         }
        },
        "title": {
         "text": "<span>Total de vendas por item</span>"
        },
        "width": 1300,
        "xaxis": {
         "title": {
          "text": "<span>Item</span>"
         }
        },
        "yaxis": {
         "title": {
          "text": "<span>Quantidade</span>"
         }
        }
       }
      }
     },
     "metadata": {},
     "output_type": "display_data"
    }
   ],
   "source": [
    "sr_sales = df_sales.groupby('item')['sales'].sum()\n",
    "sr_sales.sort_values(ascending=False, inplace=True)\n",
    "\n",
    "fig = go.Figure()\n",
    "fig.add_trace(go.Bar(\n",
    "    x=sr_sales.index.astype(str)[0:15], \n",
    "    y=sr_sales.values[0:15],\n",
    "    text=sr_sales.values[0:15],\n",
    "))\n",
    "\n",
    "fig.update_layout(\n",
    "        title='<span>Total de vendas por item</span>', \n",
    "        autosize=False,\n",
    "        width=1300,\n",
    "        height=500,\n",
    "        yaxis=dict(title='<span>Quantidade</span>'),\n",
    "        xaxis=dict(title='<span>Item</span>')\n",
    "    )\n",
    "\n",
    "fig.show()"
   ]
  },
  {
   "cell_type": "markdown",
   "metadata": {},
   "source": [
    "Observamos que os dez produtos mais vendidos são: 15, 28, 13, 18, 25, 45, 38, 22, 36 e 8, respectivamente."
   ]
  },
  {
   "cell_type": "markdown",
   "metadata": {},
   "source": [
    "##### 2.4) Visualização por Time Series"
   ]
  },
  {
   "cell_type": "markdown",
   "metadata": {},
   "source": [
    "Agora que fizemos uma análise para ter uma visão geral sobre o conjunto de dados, além disso, fizemos análises das variações de vendas por lojas e por produtos. Vamos fazer uma análise por Time Series para extrair outras informações."
   ]
  },
  {
   "cell_type": "code",
   "execution_count": 257,
   "metadata": {},
   "outputs": [],
   "source": [
    "from statsmodels.tsa.seasonal import seasonal_decompose"
   ]
  },
  {
   "cell_type": "code",
   "execution_count": 292,
   "metadata": {},
   "outputs": [],
   "source": [
    "def timeSerie(x, y, xaxis = 'x', yaxis = 'y', title = 'default'):\n",
    "    fig = go.Figure()\n",
    "    fig.add_trace(go.Scatter(\n",
    "        x=x,\n",
    "        y=y\n",
    "    ))\n",
    "\n",
    "    fig.update_layout(\n",
    "            title='<span>{}</span>'.format(title), \n",
    "            autosize=False,\n",
    "            width=1300,\n",
    "            height=400,\n",
    "            xaxis=dict(title='<span>{}</span>'.format(xaxis)),\n",
    "            yaxis=dict(title='<span>{}</span>'.format(yaxis))\n",
    "        )\n",
    "\n",
    "    fig.show()\n",
    "    #return fig"
   ]
  },
  {
   "cell_type": "code",
   "execution_count": 346,
   "metadata": {},
   "outputs": [],
   "source": [
    "df_week = df_train.copy()\n",
    "df_week = pd.DataFrame(df_week.groupby(['date', 'store']).sum()['sales']).unstack()\n",
    "df_week.index = pd.to_datetime(df_week.index)\n",
    "df_week = df_week.resample('7D', label='left').sum()\n"
   ]
  },
  {
   "cell_type": "code",
   "execution_count": 348,
   "metadata": {},
   "outputs": [
    {
     "data": {
      "application/vnd.plotly.v1+json": {
       "config": {
        "plotlyServerURL": "https://plot.ly"
       },
       "data": [
        {
         "name": "Loja 1",
         "type": "scatter",
         "x": [
          "2013-01-01T00:00:00",
          "2013-01-08T00:00:00",
          "2013-01-15T00:00:00",
          "2013-01-22T00:00:00",
          "2013-01-29T00:00:00",
          "2013-02-05T00:00:00",
          "2013-02-12T00:00:00",
          "2013-02-19T00:00:00",
          "2013-02-26T00:00:00",
          "2013-03-05T00:00:00",
          "2013-03-12T00:00:00",
          "2013-03-19T00:00:00",
          "2013-03-26T00:00:00",
          "2013-04-02T00:00:00",
          "2013-04-09T00:00:00",
          "2013-04-16T00:00:00",
          "2013-04-23T00:00:00",
          "2013-04-30T00:00:00",
          "2013-05-07T00:00:00",
          "2013-05-14T00:00:00",
          "2013-05-21T00:00:00",
          "2013-05-28T00:00:00",
          "2013-06-04T00:00:00",
          "2013-06-11T00:00:00",
          "2013-06-18T00:00:00",
          "2013-06-25T00:00:00",
          "2013-07-02T00:00:00",
          "2013-07-09T00:00:00",
          "2013-07-16T00:00:00",
          "2013-07-23T00:00:00",
          "2013-07-30T00:00:00",
          "2013-08-06T00:00:00",
          "2013-08-13T00:00:00",
          "2013-08-20T00:00:00",
          "2013-08-27T00:00:00",
          "2013-09-03T00:00:00",
          "2013-09-10T00:00:00",
          "2013-09-17T00:00:00",
          "2013-09-24T00:00:00",
          "2013-10-01T00:00:00",
          "2013-10-08T00:00:00",
          "2013-10-15T00:00:00",
          "2013-10-22T00:00:00",
          "2013-10-29T00:00:00",
          "2013-11-05T00:00:00",
          "2013-11-12T00:00:00",
          "2013-11-19T00:00:00",
          "2013-11-26T00:00:00",
          "2013-12-03T00:00:00",
          "2013-12-10T00:00:00",
          "2013-12-17T00:00:00",
          "2013-12-24T00:00:00",
          "2013-12-31T00:00:00",
          "2014-01-07T00:00:00",
          "2014-01-14T00:00:00",
          "2014-01-21T00:00:00",
          "2014-01-28T00:00:00",
          "2014-02-04T00:00:00",
          "2014-02-11T00:00:00",
          "2014-02-18T00:00:00",
          "2014-02-25T00:00:00",
          "2014-03-04T00:00:00",
          "2014-03-11T00:00:00",
          "2014-03-18T00:00:00",
          "2014-03-25T00:00:00",
          "2014-04-01T00:00:00",
          "2014-04-08T00:00:00",
          "2014-04-15T00:00:00",
          "2014-04-22T00:00:00",
          "2014-04-29T00:00:00",
          "2014-05-06T00:00:00",
          "2014-05-13T00:00:00",
          "2014-05-20T00:00:00",
          "2014-05-27T00:00:00",
          "2014-06-03T00:00:00",
          "2014-06-10T00:00:00",
          "2014-06-17T00:00:00",
          "2014-06-24T00:00:00",
          "2014-07-01T00:00:00",
          "2014-07-08T00:00:00",
          "2014-07-15T00:00:00",
          "2014-07-22T00:00:00",
          "2014-07-29T00:00:00",
          "2014-08-05T00:00:00",
          "2014-08-12T00:00:00",
          "2014-08-19T00:00:00",
          "2014-08-26T00:00:00",
          "2014-09-02T00:00:00",
          "2014-09-09T00:00:00",
          "2014-09-16T00:00:00",
          "2014-09-23T00:00:00",
          "2014-09-30T00:00:00",
          "2014-10-07T00:00:00",
          "2014-10-14T00:00:00",
          "2014-10-21T00:00:00",
          "2014-10-28T00:00:00",
          "2014-11-04T00:00:00",
          "2014-11-11T00:00:00",
          "2014-11-18T00:00:00",
          "2014-11-25T00:00:00",
          "2014-12-02T00:00:00",
          "2014-12-09T00:00:00",
          "2014-12-16T00:00:00",
          "2014-12-23T00:00:00",
          "2014-12-30T00:00:00",
          "2015-01-06T00:00:00",
          "2015-01-13T00:00:00",
          "2015-01-20T00:00:00",
          "2015-01-27T00:00:00",
          "2015-02-03T00:00:00",
          "2015-02-10T00:00:00",
          "2015-02-17T00:00:00",
          "2015-02-24T00:00:00",
          "2015-03-03T00:00:00",
          "2015-03-10T00:00:00",
          "2015-03-17T00:00:00",
          "2015-03-24T00:00:00",
          "2015-03-31T00:00:00",
          "2015-04-07T00:00:00",
          "2015-04-14T00:00:00",
          "2015-04-21T00:00:00",
          "2015-04-28T00:00:00",
          "2015-05-05T00:00:00",
          "2015-05-12T00:00:00",
          "2015-05-19T00:00:00",
          "2015-05-26T00:00:00",
          "2015-06-02T00:00:00",
          "2015-06-09T00:00:00",
          "2015-06-16T00:00:00",
          "2015-06-23T00:00:00",
          "2015-06-30T00:00:00",
          "2015-07-07T00:00:00",
          "2015-07-14T00:00:00",
          "2015-07-21T00:00:00",
          "2015-07-28T00:00:00",
          "2015-08-04T00:00:00",
          "2015-08-11T00:00:00",
          "2015-08-18T00:00:00",
          "2015-08-25T00:00:00",
          "2015-09-01T00:00:00",
          "2015-09-08T00:00:00",
          "2015-09-15T00:00:00",
          "2015-09-22T00:00:00",
          "2015-09-29T00:00:00",
          "2015-10-06T00:00:00",
          "2015-10-13T00:00:00",
          "2015-10-20T00:00:00",
          "2015-10-27T00:00:00",
          "2015-11-03T00:00:00",
          "2015-11-10T00:00:00",
          "2015-11-17T00:00:00",
          "2015-11-24T00:00:00",
          "2015-12-01T00:00:00",
          "2015-12-08T00:00:00",
          "2015-12-15T00:00:00",
          "2015-12-22T00:00:00",
          "2015-12-29T00:00:00",
          "2016-01-05T00:00:00",
          "2016-01-12T00:00:00",
          "2016-01-19T00:00:00",
          "2016-01-26T00:00:00",
          "2016-02-02T00:00:00",
          "2016-02-09T00:00:00",
          "2016-02-16T00:00:00",
          "2016-02-23T00:00:00",
          "2016-03-01T00:00:00",
          "2016-03-08T00:00:00",
          "2016-03-15T00:00:00",
          "2016-03-22T00:00:00",
          "2016-03-29T00:00:00",
          "2016-04-05T00:00:00",
          "2016-04-12T00:00:00",
          "2016-04-19T00:00:00",
          "2016-04-26T00:00:00",
          "2016-05-03T00:00:00",
          "2016-05-10T00:00:00",
          "2016-05-17T00:00:00",
          "2016-05-24T00:00:00",
          "2016-05-31T00:00:00",
          "2016-06-07T00:00:00",
          "2016-06-14T00:00:00",
          "2016-06-21T00:00:00",
          "2016-06-28T00:00:00",
          "2016-07-05T00:00:00",
          "2016-07-12T00:00:00",
          "2016-07-19T00:00:00",
          "2016-07-26T00:00:00",
          "2016-08-02T00:00:00",
          "2016-08-09T00:00:00",
          "2016-08-16T00:00:00",
          "2016-08-23T00:00:00",
          "2016-08-30T00:00:00",
          "2016-09-06T00:00:00",
          "2016-09-13T00:00:00",
          "2016-09-20T00:00:00",
          "2016-09-27T00:00:00",
          "2016-10-04T00:00:00",
          "2016-10-11T00:00:00",
          "2016-10-18T00:00:00",
          "2016-10-25T00:00:00",
          "2016-11-01T00:00:00",
          "2016-11-08T00:00:00",
          "2016-11-15T00:00:00",
          "2016-11-22T00:00:00",
          "2016-11-29T00:00:00",
          "2016-12-06T00:00:00",
          "2016-12-13T00:00:00",
          "2016-12-20T00:00:00",
          "2016-12-27T00:00:00",
          "2017-01-03T00:00:00",
          "2017-01-10T00:00:00",
          "2017-01-17T00:00:00",
          "2017-01-24T00:00:00",
          "2017-01-31T00:00:00",
          "2017-02-07T00:00:00",
          "2017-02-14T00:00:00",
          "2017-02-21T00:00:00",
          "2017-02-28T00:00:00",
          "2017-03-07T00:00:00",
          "2017-03-14T00:00:00",
          "2017-03-21T00:00:00",
          "2017-03-28T00:00:00",
          "2017-04-04T00:00:00",
          "2017-04-11T00:00:00",
          "2017-04-18T00:00:00",
          "2017-04-25T00:00:00",
          "2017-05-02T00:00:00",
          "2017-05-09T00:00:00",
          "2017-05-16T00:00:00",
          "2017-05-23T00:00:00",
          "2017-05-30T00:00:00",
          "2017-06-06T00:00:00",
          "2017-06-13T00:00:00",
          "2017-06-20T00:00:00",
          "2017-06-27T00:00:00",
          "2017-07-04T00:00:00",
          "2017-07-11T00:00:00",
          "2017-07-18T00:00:00",
          "2017-07-25T00:00:00",
          "2017-08-01T00:00:00",
          "2017-08-08T00:00:00",
          "2017-08-15T00:00:00",
          "2017-08-22T00:00:00",
          "2017-08-29T00:00:00",
          "2017-09-05T00:00:00",
          "2017-09-12T00:00:00",
          "2017-09-19T00:00:00",
          "2017-09-26T00:00:00",
          "2017-10-03T00:00:00",
          "2017-10-10T00:00:00",
          "2017-10-17T00:00:00",
          "2017-10-24T00:00:00",
          "2017-10-31T00:00:00",
          "2017-11-07T00:00:00",
          "2017-11-14T00:00:00",
          "2017-11-21T00:00:00",
          "2017-11-28T00:00:00",
          "2017-12-05T00:00:00",
          "2017-12-12T00:00:00",
          "2017-12-19T00:00:00",
          "2017-12-26T00:00:00"
         ],
         "y": [
          9461,
          9325,
          9266,
          9247,
          9967,
          10236,
          10421,
          10373,
          11539,
          12573,
          12360,
          12326,
          12827,
          14476,
          14655,
          14323,
          14425,
          15443,
          15417,
          15699,
          15940,
          15947,
          16583,
          16479,
          16767,
          16384,
          17829,
          17628,
          17702,
          17686,
          16359,
          15648,
          15803,
          15619,
          15197,
          14522,
          14517,
          14602,
          14645,
          13333,
          13408,
          13488,
          13472,
          14045,
          14452,
          14351,
          14465,
          13591,
          10576,
          10422,
          10311,
          10379,
          10642,
          10891,
          10852,
          10733,
          11283,
          11986,
          12030,
          11943,
          12951,
          14490,
          14218,
          14402,
          14265,
          16740,
          16762,
          16637,
          16605,
          17670,
          17998,
          18126,
          17742,
          18604,
          18973,
          19242,
          19190,
          19164,
          20116,
          20223,
          20322,
          20408,
          18835,
          17778,
          18013,
          17659,
          17668,
          16813,
          16744,
          16787,
          16727,
          15742,
          15562,
          15568,
          15569,
          15854,
          16733,
          16847,
          16660,
          16291,
          11901,
          11950,
          12100,
          12018,
          11289,
          11206,
          11124,
          11282,
          11568,
          12373,
          12552,
          12303,
          12997,
          14919,
          15185,
          14939,
          14783,
          17327,
          17388,
          17414,
          17421,
          18308,
          18316,
          18801,
          18525,
          19050,
          19924,
          19950,
          19851,
          20072,
          20964,
          21165,
          21470,
          21082,
          20180,
          18791,
          18725,
          18763,
          18891,
          17458,
          17467,
          17449,
          17411,
          16540,
          16150,
          16431,
          16248,
          16584,
          17280,
          17363,
          17408,
          17412,
          12361,
          12470,
          12449,
          12368,
          12183,
          12222,
          12379,
          11982,
          12408,
          13481,
          13567,
          13651,
          13461,
          16197,
          16295,
          16106,
          16356,
          17868,
          19096,
          18634,
          18883,
          19247,
          20297,
          20445,
          20417,
          20132,
          21421,
          21622,
          21662,
          21457,
          22331,
          23080,
          23134,
          22958,
          22551,
          20261,
          20273,
          20224,
          20187,
          19458,
          18992,
          18860,
          18893,
          18292,
          17485,
          17745,
          17629,
          17900,
          18816,
          19092,
          18925,
          18749,
          14918,
          13561,
          13438,
          13699,
          13222,
          12770,
          12799,
          12697,
          12487,
          13935,
          13910,
          14136,
          14022,
          16377,
          16708,
          16590,
          16853,
          18153,
          19712,
          19518,
          19746,
          19847,
          21138,
          21262,
          21097,
          20940,
          21922,
          22598,
          22508,
          22447,
          22722,
          24053,
          24105,
          23814,
          23720,
          20998,
          21006,
          21054,
          21314,
          20080,
          19729,
          19591,
          19723,
          19064,
          18342,
          18198,
          18386,
          18229,
          19620,
          20021,
          19783,
          19481,
          16256,
          14120,
          14085,
          14073,
          12439
         ]
        },
        {
         "name": "Loja 2",
         "type": "scatter",
         "x": [
          "2013-01-01T00:00:00",
          "2013-01-08T00:00:00",
          "2013-01-15T00:00:00",
          "2013-01-22T00:00:00",
          "2013-01-29T00:00:00",
          "2013-02-05T00:00:00",
          "2013-02-12T00:00:00",
          "2013-02-19T00:00:00",
          "2013-02-26T00:00:00",
          "2013-03-05T00:00:00",
          "2013-03-12T00:00:00",
          "2013-03-19T00:00:00",
          "2013-03-26T00:00:00",
          "2013-04-02T00:00:00",
          "2013-04-09T00:00:00",
          "2013-04-16T00:00:00",
          "2013-04-23T00:00:00",
          "2013-04-30T00:00:00",
          "2013-05-07T00:00:00",
          "2013-05-14T00:00:00",
          "2013-05-21T00:00:00",
          "2013-05-28T00:00:00",
          "2013-06-04T00:00:00",
          "2013-06-11T00:00:00",
          "2013-06-18T00:00:00",
          "2013-06-25T00:00:00",
          "2013-07-02T00:00:00",
          "2013-07-09T00:00:00",
          "2013-07-16T00:00:00",
          "2013-07-23T00:00:00",
          "2013-07-30T00:00:00",
          "2013-08-06T00:00:00",
          "2013-08-13T00:00:00",
          "2013-08-20T00:00:00",
          "2013-08-27T00:00:00",
          "2013-09-03T00:00:00",
          "2013-09-10T00:00:00",
          "2013-09-17T00:00:00",
          "2013-09-24T00:00:00",
          "2013-10-01T00:00:00",
          "2013-10-08T00:00:00",
          "2013-10-15T00:00:00",
          "2013-10-22T00:00:00",
          "2013-10-29T00:00:00",
          "2013-11-05T00:00:00",
          "2013-11-12T00:00:00",
          "2013-11-19T00:00:00",
          "2013-11-26T00:00:00",
          "2013-12-03T00:00:00",
          "2013-12-10T00:00:00",
          "2013-12-17T00:00:00",
          "2013-12-24T00:00:00",
          "2013-12-31T00:00:00",
          "2014-01-07T00:00:00",
          "2014-01-14T00:00:00",
          "2014-01-21T00:00:00",
          "2014-01-28T00:00:00",
          "2014-02-04T00:00:00",
          "2014-02-11T00:00:00",
          "2014-02-18T00:00:00",
          "2014-02-25T00:00:00",
          "2014-03-04T00:00:00",
          "2014-03-11T00:00:00",
          "2014-03-18T00:00:00",
          "2014-03-25T00:00:00",
          "2014-04-01T00:00:00",
          "2014-04-08T00:00:00",
          "2014-04-15T00:00:00",
          "2014-04-22T00:00:00",
          "2014-04-29T00:00:00",
          "2014-05-06T00:00:00",
          "2014-05-13T00:00:00",
          "2014-05-20T00:00:00",
          "2014-05-27T00:00:00",
          "2014-06-03T00:00:00",
          "2014-06-10T00:00:00",
          "2014-06-17T00:00:00",
          "2014-06-24T00:00:00",
          "2014-07-01T00:00:00",
          "2014-07-08T00:00:00",
          "2014-07-15T00:00:00",
          "2014-07-22T00:00:00",
          "2014-07-29T00:00:00",
          "2014-08-05T00:00:00",
          "2014-08-12T00:00:00",
          "2014-08-19T00:00:00",
          "2014-08-26T00:00:00",
          "2014-09-02T00:00:00",
          "2014-09-09T00:00:00",
          "2014-09-16T00:00:00",
          "2014-09-23T00:00:00",
          "2014-09-30T00:00:00",
          "2014-10-07T00:00:00",
          "2014-10-14T00:00:00",
          "2014-10-21T00:00:00",
          "2014-10-28T00:00:00",
          "2014-11-04T00:00:00",
          "2014-11-11T00:00:00",
          "2014-11-18T00:00:00",
          "2014-11-25T00:00:00",
          "2014-12-02T00:00:00",
          "2014-12-09T00:00:00",
          "2014-12-16T00:00:00",
          "2014-12-23T00:00:00",
          "2014-12-30T00:00:00",
          "2015-01-06T00:00:00",
          "2015-01-13T00:00:00",
          "2015-01-20T00:00:00",
          "2015-01-27T00:00:00",
          "2015-02-03T00:00:00",
          "2015-02-10T00:00:00",
          "2015-02-17T00:00:00",
          "2015-02-24T00:00:00",
          "2015-03-03T00:00:00",
          "2015-03-10T00:00:00",
          "2015-03-17T00:00:00",
          "2015-03-24T00:00:00",
          "2015-03-31T00:00:00",
          "2015-04-07T00:00:00",
          "2015-04-14T00:00:00",
          "2015-04-21T00:00:00",
          "2015-04-28T00:00:00",
          "2015-05-05T00:00:00",
          "2015-05-12T00:00:00",
          "2015-05-19T00:00:00",
          "2015-05-26T00:00:00",
          "2015-06-02T00:00:00",
          "2015-06-09T00:00:00",
          "2015-06-16T00:00:00",
          "2015-06-23T00:00:00",
          "2015-06-30T00:00:00",
          "2015-07-07T00:00:00",
          "2015-07-14T00:00:00",
          "2015-07-21T00:00:00",
          "2015-07-28T00:00:00",
          "2015-08-04T00:00:00",
          "2015-08-11T00:00:00",
          "2015-08-18T00:00:00",
          "2015-08-25T00:00:00",
          "2015-09-01T00:00:00",
          "2015-09-08T00:00:00",
          "2015-09-15T00:00:00",
          "2015-09-22T00:00:00",
          "2015-09-29T00:00:00",
          "2015-10-06T00:00:00",
          "2015-10-13T00:00:00",
          "2015-10-20T00:00:00",
          "2015-10-27T00:00:00",
          "2015-11-03T00:00:00",
          "2015-11-10T00:00:00",
          "2015-11-17T00:00:00",
          "2015-11-24T00:00:00",
          "2015-12-01T00:00:00",
          "2015-12-08T00:00:00",
          "2015-12-15T00:00:00",
          "2015-12-22T00:00:00",
          "2015-12-29T00:00:00",
          "2016-01-05T00:00:00",
          "2016-01-12T00:00:00",
          "2016-01-19T00:00:00",
          "2016-01-26T00:00:00",
          "2016-02-02T00:00:00",
          "2016-02-09T00:00:00",
          "2016-02-16T00:00:00",
          "2016-02-23T00:00:00",
          "2016-03-01T00:00:00",
          "2016-03-08T00:00:00",
          "2016-03-15T00:00:00",
          "2016-03-22T00:00:00",
          "2016-03-29T00:00:00",
          "2016-04-05T00:00:00",
          "2016-04-12T00:00:00",
          "2016-04-19T00:00:00",
          "2016-04-26T00:00:00",
          "2016-05-03T00:00:00",
          "2016-05-10T00:00:00",
          "2016-05-17T00:00:00",
          "2016-05-24T00:00:00",
          "2016-05-31T00:00:00",
          "2016-06-07T00:00:00",
          "2016-06-14T00:00:00",
          "2016-06-21T00:00:00",
          "2016-06-28T00:00:00",
          "2016-07-05T00:00:00",
          "2016-07-12T00:00:00",
          "2016-07-19T00:00:00",
          "2016-07-26T00:00:00",
          "2016-08-02T00:00:00",
          "2016-08-09T00:00:00",
          "2016-08-16T00:00:00",
          "2016-08-23T00:00:00",
          "2016-08-30T00:00:00",
          "2016-09-06T00:00:00",
          "2016-09-13T00:00:00",
          "2016-09-20T00:00:00",
          "2016-09-27T00:00:00",
          "2016-10-04T00:00:00",
          "2016-10-11T00:00:00",
          "2016-10-18T00:00:00",
          "2016-10-25T00:00:00",
          "2016-11-01T00:00:00",
          "2016-11-08T00:00:00",
          "2016-11-15T00:00:00",
          "2016-11-22T00:00:00",
          "2016-11-29T00:00:00",
          "2016-12-06T00:00:00",
          "2016-12-13T00:00:00",
          "2016-12-20T00:00:00",
          "2016-12-27T00:00:00",
          "2017-01-03T00:00:00",
          "2017-01-10T00:00:00",
          "2017-01-17T00:00:00",
          "2017-01-24T00:00:00",
          "2017-01-31T00:00:00",
          "2017-02-07T00:00:00",
          "2017-02-14T00:00:00",
          "2017-02-21T00:00:00",
          "2017-02-28T00:00:00",
          "2017-03-07T00:00:00",
          "2017-03-14T00:00:00",
          "2017-03-21T00:00:00",
          "2017-03-28T00:00:00",
          "2017-04-04T00:00:00",
          "2017-04-11T00:00:00",
          "2017-04-18T00:00:00",
          "2017-04-25T00:00:00",
          "2017-05-02T00:00:00",
          "2017-05-09T00:00:00",
          "2017-05-16T00:00:00",
          "2017-05-23T00:00:00",
          "2017-05-30T00:00:00",
          "2017-06-06T00:00:00",
          "2017-06-13T00:00:00",
          "2017-06-20T00:00:00",
          "2017-06-27T00:00:00",
          "2017-07-04T00:00:00",
          "2017-07-11T00:00:00",
          "2017-07-18T00:00:00",
          "2017-07-25T00:00:00",
          "2017-08-01T00:00:00",
          "2017-08-08T00:00:00",
          "2017-08-15T00:00:00",
          "2017-08-22T00:00:00",
          "2017-08-29T00:00:00",
          "2017-09-05T00:00:00",
          "2017-09-12T00:00:00",
          "2017-09-19T00:00:00",
          "2017-09-26T00:00:00",
          "2017-10-03T00:00:00",
          "2017-10-10T00:00:00",
          "2017-10-17T00:00:00",
          "2017-10-24T00:00:00",
          "2017-10-31T00:00:00",
          "2017-11-07T00:00:00",
          "2017-11-14T00:00:00",
          "2017-11-21T00:00:00",
          "2017-11-28T00:00:00",
          "2017-12-05T00:00:00",
          "2017-12-12T00:00:00",
          "2017-12-19T00:00:00",
          "2017-12-26T00:00:00"
         ],
         "y": [
          13209,
          13459,
          13306,
          13286,
          14210,
          14844,
          14861,
          14788,
          16636,
          17616,
          17652,
          17738,
          18379,
          20536,
          20871,
          20706,
          20708,
          22137,
          22099,
          22317,
          22016,
          22994,
          23561,
          23627,
          23494,
          23750,
          24888,
          24964,
          24948,
          25394,
          22789,
          21979,
          22061,
          21935,
          21791,
          20747,
          20590,
          20721,
          20722,
          19142,
          19046,
          19102,
          18949,
          20007,
          20682,
          20797,
          20557,
          18970,
          14471,
          14847,
          14806,
          14579,
          15128,
          15141,
          15160,
          15275,
          16165,
          16937,
          16785,
          16809,
          18641,
          20294,
          20345,
          20331,
          20410,
          23691,
          23934,
          23785,
          23849,
          25082,
          25590,
          25219,
          25310,
          25975,
          26833,
          27432,
          27190,
          27333,
          28857,
          28965,
          28825,
          28616,
          26944,
          25145,
          25308,
          25091,
          25145,
          23591,
          23945,
          23526,
          23556,
          22405,
          21651,
          22127,
          22236,
          22779,
          23638,
          23814,
          23866,
          23071,
          16715,
          16998,
          17015,
          16741,
          16120,
          15998,
          16014,
          15964,
          16379,
          17715,
          17589,
          17918,
          18516,
          21105,
          21136,
          21001,
          21121,
          24264,
          24775,
          25169,
          24721,
          25722,
          26766,
          26379,
          26601,
          26498,
          28341,
          28116,
          28058,
          28229,
          30073,
          29944,
          30151,
          29834,
          28613,
          26537,
          26513,
          26558,
          26583,
          24842,
          24507,
          24609,
          24757,
          23717,
          22966,
          22697,
          23085,
          23654,
          24757,
          24772,
          24555,
          24748,
          17911,
          17822,
          17571,
          17546,
          17380,
          17386,
          17270,
          17305,
          17338,
          19035,
          19135,
          19360,
          19218,
          22981,
          23157,
          23079,
          23070,
          25312,
          26781,
          26615,
          26789,
          27465,
          28972,
          28463,
          28683,
          28505,
          30662,
          30544,
          30661,
          31282,
          31786,
          32624,
          32687,
          32515,
          32330,
          29108,
          28756,
          28560,
          28766,
          27278,
          26609,
          26985,
          26646,
          25923,
          24829,
          25046,
          24969,
          24998,
          26941,
          26903,
          26891,
          26810,
          21321,
          19077,
          19260,
          18948,
          18704,
          18021,
          17745,
          17827,
          17555,
          19824,
          19722,
          19947,
          19959,
          23486,
          23953,
          24087,
          23987,
          25368,
          27711,
          27662,
          27811,
          27976,
          29983,
          29742,
          29914,
          29845,
          31080,
          31876,
          31829,
          31628,
          32691,
          33708,
          33431,
          34013,
          33902,
          29659,
          30032,
          29937,
          30193,
          28400,
          27726,
          28137,
          27770,
          27400,
          25621,
          25953,
          26177,
          25943,
          27540,
          27740,
          27935,
          28239,
          23207,
          19732,
          19957,
          20204,
          17590
         ]
        },
        {
         "name": "Loja 3",
         "type": "scatter",
         "x": [
          "2013-01-01T00:00:00",
          "2013-01-08T00:00:00",
          "2013-01-15T00:00:00",
          "2013-01-22T00:00:00",
          "2013-01-29T00:00:00",
          "2013-02-05T00:00:00",
          "2013-02-12T00:00:00",
          "2013-02-19T00:00:00",
          "2013-02-26T00:00:00",
          "2013-03-05T00:00:00",
          "2013-03-12T00:00:00",
          "2013-03-19T00:00:00",
          "2013-03-26T00:00:00",
          "2013-04-02T00:00:00",
          "2013-04-09T00:00:00",
          "2013-04-16T00:00:00",
          "2013-04-23T00:00:00",
          "2013-04-30T00:00:00",
          "2013-05-07T00:00:00",
          "2013-05-14T00:00:00",
          "2013-05-21T00:00:00",
          "2013-05-28T00:00:00",
          "2013-06-04T00:00:00",
          "2013-06-11T00:00:00",
          "2013-06-18T00:00:00",
          "2013-06-25T00:00:00",
          "2013-07-02T00:00:00",
          "2013-07-09T00:00:00",
          "2013-07-16T00:00:00",
          "2013-07-23T00:00:00",
          "2013-07-30T00:00:00",
          "2013-08-06T00:00:00",
          "2013-08-13T00:00:00",
          "2013-08-20T00:00:00",
          "2013-08-27T00:00:00",
          "2013-09-03T00:00:00",
          "2013-09-10T00:00:00",
          "2013-09-17T00:00:00",
          "2013-09-24T00:00:00",
          "2013-10-01T00:00:00",
          "2013-10-08T00:00:00",
          "2013-10-15T00:00:00",
          "2013-10-22T00:00:00",
          "2013-10-29T00:00:00",
          "2013-11-05T00:00:00",
          "2013-11-12T00:00:00",
          "2013-11-19T00:00:00",
          "2013-11-26T00:00:00",
          "2013-12-03T00:00:00",
          "2013-12-10T00:00:00",
          "2013-12-17T00:00:00",
          "2013-12-24T00:00:00",
          "2013-12-31T00:00:00",
          "2014-01-07T00:00:00",
          "2014-01-14T00:00:00",
          "2014-01-21T00:00:00",
          "2014-01-28T00:00:00",
          "2014-02-04T00:00:00",
          "2014-02-11T00:00:00",
          "2014-02-18T00:00:00",
          "2014-02-25T00:00:00",
          "2014-03-04T00:00:00",
          "2014-03-11T00:00:00",
          "2014-03-18T00:00:00",
          "2014-03-25T00:00:00",
          "2014-04-01T00:00:00",
          "2014-04-08T00:00:00",
          "2014-04-15T00:00:00",
          "2014-04-22T00:00:00",
          "2014-04-29T00:00:00",
          "2014-05-06T00:00:00",
          "2014-05-13T00:00:00",
          "2014-05-20T00:00:00",
          "2014-05-27T00:00:00",
          "2014-06-03T00:00:00",
          "2014-06-10T00:00:00",
          "2014-06-17T00:00:00",
          "2014-06-24T00:00:00",
          "2014-07-01T00:00:00",
          "2014-07-08T00:00:00",
          "2014-07-15T00:00:00",
          "2014-07-22T00:00:00",
          "2014-07-29T00:00:00",
          "2014-08-05T00:00:00",
          "2014-08-12T00:00:00",
          "2014-08-19T00:00:00",
          "2014-08-26T00:00:00",
          "2014-09-02T00:00:00",
          "2014-09-09T00:00:00",
          "2014-09-16T00:00:00",
          "2014-09-23T00:00:00",
          "2014-09-30T00:00:00",
          "2014-10-07T00:00:00",
          "2014-10-14T00:00:00",
          "2014-10-21T00:00:00",
          "2014-10-28T00:00:00",
          "2014-11-04T00:00:00",
          "2014-11-11T00:00:00",
          "2014-11-18T00:00:00",
          "2014-11-25T00:00:00",
          "2014-12-02T00:00:00",
          "2014-12-09T00:00:00",
          "2014-12-16T00:00:00",
          "2014-12-23T00:00:00",
          "2014-12-30T00:00:00",
          "2015-01-06T00:00:00",
          "2015-01-13T00:00:00",
          "2015-01-20T00:00:00",
          "2015-01-27T00:00:00",
          "2015-02-03T00:00:00",
          "2015-02-10T00:00:00",
          "2015-02-17T00:00:00",
          "2015-02-24T00:00:00",
          "2015-03-03T00:00:00",
          "2015-03-10T00:00:00",
          "2015-03-17T00:00:00",
          "2015-03-24T00:00:00",
          "2015-03-31T00:00:00",
          "2015-04-07T00:00:00",
          "2015-04-14T00:00:00",
          "2015-04-21T00:00:00",
          "2015-04-28T00:00:00",
          "2015-05-05T00:00:00",
          "2015-05-12T00:00:00",
          "2015-05-19T00:00:00",
          "2015-05-26T00:00:00",
          "2015-06-02T00:00:00",
          "2015-06-09T00:00:00",
          "2015-06-16T00:00:00",
          "2015-06-23T00:00:00",
          "2015-06-30T00:00:00",
          "2015-07-07T00:00:00",
          "2015-07-14T00:00:00",
          "2015-07-21T00:00:00",
          "2015-07-28T00:00:00",
          "2015-08-04T00:00:00",
          "2015-08-11T00:00:00",
          "2015-08-18T00:00:00",
          "2015-08-25T00:00:00",
          "2015-09-01T00:00:00",
          "2015-09-08T00:00:00",
          "2015-09-15T00:00:00",
          "2015-09-22T00:00:00",
          "2015-09-29T00:00:00",
          "2015-10-06T00:00:00",
          "2015-10-13T00:00:00",
          "2015-10-20T00:00:00",
          "2015-10-27T00:00:00",
          "2015-11-03T00:00:00",
          "2015-11-10T00:00:00",
          "2015-11-17T00:00:00",
          "2015-11-24T00:00:00",
          "2015-12-01T00:00:00",
          "2015-12-08T00:00:00",
          "2015-12-15T00:00:00",
          "2015-12-22T00:00:00",
          "2015-12-29T00:00:00",
          "2016-01-05T00:00:00",
          "2016-01-12T00:00:00",
          "2016-01-19T00:00:00",
          "2016-01-26T00:00:00",
          "2016-02-02T00:00:00",
          "2016-02-09T00:00:00",
          "2016-02-16T00:00:00",
          "2016-02-23T00:00:00",
          "2016-03-01T00:00:00",
          "2016-03-08T00:00:00",
          "2016-03-15T00:00:00",
          "2016-03-22T00:00:00",
          "2016-03-29T00:00:00",
          "2016-04-05T00:00:00",
          "2016-04-12T00:00:00",
          "2016-04-19T00:00:00",
          "2016-04-26T00:00:00",
          "2016-05-03T00:00:00",
          "2016-05-10T00:00:00",
          "2016-05-17T00:00:00",
          "2016-05-24T00:00:00",
          "2016-05-31T00:00:00",
          "2016-06-07T00:00:00",
          "2016-06-14T00:00:00",
          "2016-06-21T00:00:00",
          "2016-06-28T00:00:00",
          "2016-07-05T00:00:00",
          "2016-07-12T00:00:00",
          "2016-07-19T00:00:00",
          "2016-07-26T00:00:00",
          "2016-08-02T00:00:00",
          "2016-08-09T00:00:00",
          "2016-08-16T00:00:00",
          "2016-08-23T00:00:00",
          "2016-08-30T00:00:00",
          "2016-09-06T00:00:00",
          "2016-09-13T00:00:00",
          "2016-09-20T00:00:00",
          "2016-09-27T00:00:00",
          "2016-10-04T00:00:00",
          "2016-10-11T00:00:00",
          "2016-10-18T00:00:00",
          "2016-10-25T00:00:00",
          "2016-11-01T00:00:00",
          "2016-11-08T00:00:00",
          "2016-11-15T00:00:00",
          "2016-11-22T00:00:00",
          "2016-11-29T00:00:00",
          "2016-12-06T00:00:00",
          "2016-12-13T00:00:00",
          "2016-12-20T00:00:00",
          "2016-12-27T00:00:00",
          "2017-01-03T00:00:00",
          "2017-01-10T00:00:00",
          "2017-01-17T00:00:00",
          "2017-01-24T00:00:00",
          "2017-01-31T00:00:00",
          "2017-02-07T00:00:00",
          "2017-02-14T00:00:00",
          "2017-02-21T00:00:00",
          "2017-02-28T00:00:00",
          "2017-03-07T00:00:00",
          "2017-03-14T00:00:00",
          "2017-03-21T00:00:00",
          "2017-03-28T00:00:00",
          "2017-04-04T00:00:00",
          "2017-04-11T00:00:00",
          "2017-04-18T00:00:00",
          "2017-04-25T00:00:00",
          "2017-05-02T00:00:00",
          "2017-05-09T00:00:00",
          "2017-05-16T00:00:00",
          "2017-05-23T00:00:00",
          "2017-05-30T00:00:00",
          "2017-06-06T00:00:00",
          "2017-06-13T00:00:00",
          "2017-06-20T00:00:00",
          "2017-06-27T00:00:00",
          "2017-07-04T00:00:00",
          "2017-07-11T00:00:00",
          "2017-07-18T00:00:00",
          "2017-07-25T00:00:00",
          "2017-08-01T00:00:00",
          "2017-08-08T00:00:00",
          "2017-08-15T00:00:00",
          "2017-08-22T00:00:00",
          "2017-08-29T00:00:00",
          "2017-09-05T00:00:00",
          "2017-09-12T00:00:00",
          "2017-09-19T00:00:00",
          "2017-09-26T00:00:00",
          "2017-10-03T00:00:00",
          "2017-10-10T00:00:00",
          "2017-10-17T00:00:00",
          "2017-10-24T00:00:00",
          "2017-10-31T00:00:00",
          "2017-11-07T00:00:00",
          "2017-11-14T00:00:00",
          "2017-11-21T00:00:00",
          "2017-11-28T00:00:00",
          "2017-12-05T00:00:00",
          "2017-12-12T00:00:00",
          "2017-12-19T00:00:00",
          "2017-12-26T00:00:00"
         ],
         "y": [
          11658,
          11959,
          11633,
          11871,
          12567,
          12973,
          13068,
          13068,
          14359,
          15784,
          15626,
          15649,
          15933,
          18216,
          18429,
          18382,
          18233,
          19546,
          19547,
          19562,
          19583,
          20265,
          20876,
          20863,
          21069,
          21019,
          22277,
          22128,
          22221,
          22204,
          20383,
          19365,
          19812,
          19801,
          19387,
          18345,
          18413,
          18320,
          18263,
          17218,
          16795,
          16896,
          16917,
          17805,
          18234,
          18085,
          18262,
          16793,
          13206,
          13049,
          13142,
          13159,
          13374,
          13596,
          13530,
          13368,
          14143,
          15220,
          14930,
          15162,
          16454,
          18193,
          18081,
          18172,
          17857,
          21145,
          20954,
          21212,
          21345,
          22120,
          22585,
          22669,
          22590,
          22874,
          23934,
          24228,
          24281,
          24056,
          25503,
          25524,
          25545,
          25364,
          23594,
          22551,
          22739,
          22469,
          22168,
          21006,
          21100,
          21019,
          20980,
          19683,
          19543,
          19653,
          19636,
          20341,
          21088,
          21157,
          20983,
          20329,
          14883,
          15087,
          15188,
          15092,
          14289,
          14233,
          14134,
          14056,
          14558,
          15788,
          15938,
          15801,
          16713,
          18847,
          18902,
          18935,
          18721,
          21732,
          22012,
          21757,
          21900,
          22773,
          23236,
          23683,
          23609,
          23708,
          25266,
          25405,
          25174,
          24935,
          26341,
          26763,
          26901,
          26789,
          25324,
          23512,
          23481,
          23527,
          23497,
          22045,
          21968,
          22198,
          21976,
          20743,
          20224,
          20371,
          20321,
          20776,
          21951,
          21881,
          22116,
          22019,
          15703,
          15580,
          15856,
          15805,
          15242,
          15396,
          15215,
          15338,
          15370,
          17082,
          17012,
          16986,
          17071,
          20598,
          20568,
          20744,
          20401,
          22506,
          24187,
          24015,
          23899,
          24546,
          25685,
          25455,
          25428,
          25658,
          27069,
          27168,
          27180,
          27252,
          28285,
          28883,
          29121,
          29247,
          28304,
          25603,
          25578,
          25541,
          25610,
          24411,
          23939,
          23985,
          23872,
          22912,
          22192,
          22104,
          21932,
          21940,
          23684,
          23758,
          23585,
          23673,
          18721,
          16912,
          16790,
          17137,
          16707,
          16001,
          16081,
          16189,
          15937,
          17497,
          17744,
          17710,
          17613,
          20720,
          21290,
          21264,
          21070,
          22774,
          24666,
          24711,
          24755,
          24791,
          26641,
          26721,
          26700,
          26843,
          28138,
          28636,
          28138,
          28242,
          29116,
          29855,
          29952,
          29981,
          30069,
          26642,
          26408,
          26501,
          26402,
          25310,
          24921,
          24650,
          24780,
          23925,
          22897,
          22942,
          22952,
          22902,
          24431,
          24628,
          24601,
          25148,
          20455,
          17683,
          17798,
          17714,
          15823
         ]
        },
        {
         "name": "Loja 4",
         "type": "scatter",
         "x": [
          "2013-01-01T00:00:00",
          "2013-01-08T00:00:00",
          "2013-01-15T00:00:00",
          "2013-01-22T00:00:00",
          "2013-01-29T00:00:00",
          "2013-02-05T00:00:00",
          "2013-02-12T00:00:00",
          "2013-02-19T00:00:00",
          "2013-02-26T00:00:00",
          "2013-03-05T00:00:00",
          "2013-03-12T00:00:00",
          "2013-03-19T00:00:00",
          "2013-03-26T00:00:00",
          "2013-04-02T00:00:00",
          "2013-04-09T00:00:00",
          "2013-04-16T00:00:00",
          "2013-04-23T00:00:00",
          "2013-04-30T00:00:00",
          "2013-05-07T00:00:00",
          "2013-05-14T00:00:00",
          "2013-05-21T00:00:00",
          "2013-05-28T00:00:00",
          "2013-06-04T00:00:00",
          "2013-06-11T00:00:00",
          "2013-06-18T00:00:00",
          "2013-06-25T00:00:00",
          "2013-07-02T00:00:00",
          "2013-07-09T00:00:00",
          "2013-07-16T00:00:00",
          "2013-07-23T00:00:00",
          "2013-07-30T00:00:00",
          "2013-08-06T00:00:00",
          "2013-08-13T00:00:00",
          "2013-08-20T00:00:00",
          "2013-08-27T00:00:00",
          "2013-09-03T00:00:00",
          "2013-09-10T00:00:00",
          "2013-09-17T00:00:00",
          "2013-09-24T00:00:00",
          "2013-10-01T00:00:00",
          "2013-10-08T00:00:00",
          "2013-10-15T00:00:00",
          "2013-10-22T00:00:00",
          "2013-10-29T00:00:00",
          "2013-11-05T00:00:00",
          "2013-11-12T00:00:00",
          "2013-11-19T00:00:00",
          "2013-11-26T00:00:00",
          "2013-12-03T00:00:00",
          "2013-12-10T00:00:00",
          "2013-12-17T00:00:00",
          "2013-12-24T00:00:00",
          "2013-12-31T00:00:00",
          "2014-01-07T00:00:00",
          "2014-01-14T00:00:00",
          "2014-01-21T00:00:00",
          "2014-01-28T00:00:00",
          "2014-02-04T00:00:00",
          "2014-02-11T00:00:00",
          "2014-02-18T00:00:00",
          "2014-02-25T00:00:00",
          "2014-03-04T00:00:00",
          "2014-03-11T00:00:00",
          "2014-03-18T00:00:00",
          "2014-03-25T00:00:00",
          "2014-04-01T00:00:00",
          "2014-04-08T00:00:00",
          "2014-04-15T00:00:00",
          "2014-04-22T00:00:00",
          "2014-04-29T00:00:00",
          "2014-05-06T00:00:00",
          "2014-05-13T00:00:00",
          "2014-05-20T00:00:00",
          "2014-05-27T00:00:00",
          "2014-06-03T00:00:00",
          "2014-06-10T00:00:00",
          "2014-06-17T00:00:00",
          "2014-06-24T00:00:00",
          "2014-07-01T00:00:00",
          "2014-07-08T00:00:00",
          "2014-07-15T00:00:00",
          "2014-07-22T00:00:00",
          "2014-07-29T00:00:00",
          "2014-08-05T00:00:00",
          "2014-08-12T00:00:00",
          "2014-08-19T00:00:00",
          "2014-08-26T00:00:00",
          "2014-09-02T00:00:00",
          "2014-09-09T00:00:00",
          "2014-09-16T00:00:00",
          "2014-09-23T00:00:00",
          "2014-09-30T00:00:00",
          "2014-10-07T00:00:00",
          "2014-10-14T00:00:00",
          "2014-10-21T00:00:00",
          "2014-10-28T00:00:00",
          "2014-11-04T00:00:00",
          "2014-11-11T00:00:00",
          "2014-11-18T00:00:00",
          "2014-11-25T00:00:00",
          "2014-12-02T00:00:00",
          "2014-12-09T00:00:00",
          "2014-12-16T00:00:00",
          "2014-12-23T00:00:00",
          "2014-12-30T00:00:00",
          "2015-01-06T00:00:00",
          "2015-01-13T00:00:00",
          "2015-01-20T00:00:00",
          "2015-01-27T00:00:00",
          "2015-02-03T00:00:00",
          "2015-02-10T00:00:00",
          "2015-02-17T00:00:00",
          "2015-02-24T00:00:00",
          "2015-03-03T00:00:00",
          "2015-03-10T00:00:00",
          "2015-03-17T00:00:00",
          "2015-03-24T00:00:00",
          "2015-03-31T00:00:00",
          "2015-04-07T00:00:00",
          "2015-04-14T00:00:00",
          "2015-04-21T00:00:00",
          "2015-04-28T00:00:00",
          "2015-05-05T00:00:00",
          "2015-05-12T00:00:00",
          "2015-05-19T00:00:00",
          "2015-05-26T00:00:00",
          "2015-06-02T00:00:00",
          "2015-06-09T00:00:00",
          "2015-06-16T00:00:00",
          "2015-06-23T00:00:00",
          "2015-06-30T00:00:00",
          "2015-07-07T00:00:00",
          "2015-07-14T00:00:00",
          "2015-07-21T00:00:00",
          "2015-07-28T00:00:00",
          "2015-08-04T00:00:00",
          "2015-08-11T00:00:00",
          "2015-08-18T00:00:00",
          "2015-08-25T00:00:00",
          "2015-09-01T00:00:00",
          "2015-09-08T00:00:00",
          "2015-09-15T00:00:00",
          "2015-09-22T00:00:00",
          "2015-09-29T00:00:00",
          "2015-10-06T00:00:00",
          "2015-10-13T00:00:00",
          "2015-10-20T00:00:00",
          "2015-10-27T00:00:00",
          "2015-11-03T00:00:00",
          "2015-11-10T00:00:00",
          "2015-11-17T00:00:00",
          "2015-11-24T00:00:00",
          "2015-12-01T00:00:00",
          "2015-12-08T00:00:00",
          "2015-12-15T00:00:00",
          "2015-12-22T00:00:00",
          "2015-12-29T00:00:00",
          "2016-01-05T00:00:00",
          "2016-01-12T00:00:00",
          "2016-01-19T00:00:00",
          "2016-01-26T00:00:00",
          "2016-02-02T00:00:00",
          "2016-02-09T00:00:00",
          "2016-02-16T00:00:00",
          "2016-02-23T00:00:00",
          "2016-03-01T00:00:00",
          "2016-03-08T00:00:00",
          "2016-03-15T00:00:00",
          "2016-03-22T00:00:00",
          "2016-03-29T00:00:00",
          "2016-04-05T00:00:00",
          "2016-04-12T00:00:00",
          "2016-04-19T00:00:00",
          "2016-04-26T00:00:00",
          "2016-05-03T00:00:00",
          "2016-05-10T00:00:00",
          "2016-05-17T00:00:00",
          "2016-05-24T00:00:00",
          "2016-05-31T00:00:00",
          "2016-06-07T00:00:00",
          "2016-06-14T00:00:00",
          "2016-06-21T00:00:00",
          "2016-06-28T00:00:00",
          "2016-07-05T00:00:00",
          "2016-07-12T00:00:00",
          "2016-07-19T00:00:00",
          "2016-07-26T00:00:00",
          "2016-08-02T00:00:00",
          "2016-08-09T00:00:00",
          "2016-08-16T00:00:00",
          "2016-08-23T00:00:00",
          "2016-08-30T00:00:00",
          "2016-09-06T00:00:00",
          "2016-09-13T00:00:00",
          "2016-09-20T00:00:00",
          "2016-09-27T00:00:00",
          "2016-10-04T00:00:00",
          "2016-10-11T00:00:00",
          "2016-10-18T00:00:00",
          "2016-10-25T00:00:00",
          "2016-11-01T00:00:00",
          "2016-11-08T00:00:00",
          "2016-11-15T00:00:00",
          "2016-11-22T00:00:00",
          "2016-11-29T00:00:00",
          "2016-12-06T00:00:00",
          "2016-12-13T00:00:00",
          "2016-12-20T00:00:00",
          "2016-12-27T00:00:00",
          "2017-01-03T00:00:00",
          "2017-01-10T00:00:00",
          "2017-01-17T00:00:00",
          "2017-01-24T00:00:00",
          "2017-01-31T00:00:00",
          "2017-02-07T00:00:00",
          "2017-02-14T00:00:00",
          "2017-02-21T00:00:00",
          "2017-02-28T00:00:00",
          "2017-03-07T00:00:00",
          "2017-03-14T00:00:00",
          "2017-03-21T00:00:00",
          "2017-03-28T00:00:00",
          "2017-04-04T00:00:00",
          "2017-04-11T00:00:00",
          "2017-04-18T00:00:00",
          "2017-04-25T00:00:00",
          "2017-05-02T00:00:00",
          "2017-05-09T00:00:00",
          "2017-05-16T00:00:00",
          "2017-05-23T00:00:00",
          "2017-05-30T00:00:00",
          "2017-06-06T00:00:00",
          "2017-06-13T00:00:00",
          "2017-06-20T00:00:00",
          "2017-06-27T00:00:00",
          "2017-07-04T00:00:00",
          "2017-07-11T00:00:00",
          "2017-07-18T00:00:00",
          "2017-07-25T00:00:00",
          "2017-08-01T00:00:00",
          "2017-08-08T00:00:00",
          "2017-08-15T00:00:00",
          "2017-08-22T00:00:00",
          "2017-08-29T00:00:00",
          "2017-09-05T00:00:00",
          "2017-09-12T00:00:00",
          "2017-09-19T00:00:00",
          "2017-09-26T00:00:00",
          "2017-10-03T00:00:00",
          "2017-10-10T00:00:00",
          "2017-10-17T00:00:00",
          "2017-10-24T00:00:00",
          "2017-10-31T00:00:00",
          "2017-11-07T00:00:00",
          "2017-11-14T00:00:00",
          "2017-11-21T00:00:00",
          "2017-11-28T00:00:00",
          "2017-12-05T00:00:00",
          "2017-12-12T00:00:00",
          "2017-12-19T00:00:00",
          "2017-12-26T00:00:00"
         ],
         "y": [
          10918,
          10859,
          10778,
          10729,
          11743,
          12068,
          12239,
          12249,
          13603,
          14190,
          14512,
          14243,
          14705,
          16771,
          16841,
          17137,
          17089,
          17979,
          18141,
          18042,
          18355,
          18773,
          19051,
          19552,
          19507,
          19459,
          20521,
          20659,
          20642,
          20514,
          18708,
          18019,
          18063,
          18084,
          17903,
          16777,
          17087,
          16832,
          16649,
          15538,
          15589,
          15581,
          15773,
          16428,
          16998,
          17148,
          16907,
          15517,
          12022,
          11922,
          12137,
          11961,
          12467,
          12565,
          12564,
          12645,
          13183,
          13870,
          13865,
          13760,
          15085,
          16580,
          16685,
          16487,
          16602,
          19605,
          19309,
          19363,
          19402,
          20316,
          20599,
          20902,
          21058,
          21193,
          22034,
          22068,
          22359,
          22386,
          23508,
          23439,
          23430,
          23789,
          21937,
          20958,
          20733,
          20698,
          20575,
          19333,
          19461,
          19613,
          19482,
          18531,
          17999,
          17802,
          18219,
          18626,
          19216,
          19342,
          19368,
          18710,
          13885,
          13770,
          13868,
          13894,
          13325,
          13055,
          13012,
          12998,
          13439,
          14408,
          14668,
          14458,
          15350,
          17634,
          17444,
          17544,
          17456,
          19711,
          20117,
          20430,
          20272,
          21335,
          21608,
          21702,
          21605,
          22052,
          23308,
          23427,
          23209,
          23046,
          24511,
          24653,
          24602,
          24466,
          23548,
          21931,
          21895,
          21575,
          21808,
          20499,
          20131,
          20316,
          20125,
          19234,
          18694,
          18615,
          18914,
          19080,
          20452,
          20257,
          20111,
          20209,
          14473,
          14444,
          14731,
          14506,
          14396,
          14129,
          13873,
          14317,
          14409,
          15634,
          15881,
          15639,
          15934,
          18512,
          18985,
          18738,
          18840,
          20394,
          22022,
          21966,
          21835,
          22395,
          23609,
          23564,
          23532,
          23465,
          24710,
          25167,
          25189,
          25113,
          26361,
          26683,
          26685,
          26763,
          26488,
          23417,
          23561,
          23555,
          23621,
          22546,
          21906,
          22013,
          22064,
          21097,
          20319,
          20389,
          20493,
          20237,
          21749,
          22055,
          22089,
          22062,
          17272,
          15799,
          15740,
          15777,
          15269,
          14954,
          14425,
          14831,
          14649,
          16070,
          16361,
          16228,
          16224,
          19029,
          19758,
          19627,
          19484,
          20950,
          22797,
          22604,
          22772,
          23014,
          24651,
          24514,
          24583,
          24372,
          25488,
          26055,
          26091,
          25719,
          26774,
          27613,
          28008,
          27627,
          27748,
          24585,
          24450,
          24335,
          24572,
          23212,
          22915,
          23008,
          22804,
          22542,
          21216,
          21057,
          21312,
          21123,
          22405,
          22704,
          22637,
          22546,
          19043,
          16350,
          16479,
          16362,
          14661
         ]
        },
        {
         "name": "Loja 5",
         "type": "scatter",
         "x": [
          "2013-01-01T00:00:00",
          "2013-01-08T00:00:00",
          "2013-01-15T00:00:00",
          "2013-01-22T00:00:00",
          "2013-01-29T00:00:00",
          "2013-02-05T00:00:00",
          "2013-02-12T00:00:00",
          "2013-02-19T00:00:00",
          "2013-02-26T00:00:00",
          "2013-03-05T00:00:00",
          "2013-03-12T00:00:00",
          "2013-03-19T00:00:00",
          "2013-03-26T00:00:00",
          "2013-04-02T00:00:00",
          "2013-04-09T00:00:00",
          "2013-04-16T00:00:00",
          "2013-04-23T00:00:00",
          "2013-04-30T00:00:00",
          "2013-05-07T00:00:00",
          "2013-05-14T00:00:00",
          "2013-05-21T00:00:00",
          "2013-05-28T00:00:00",
          "2013-06-04T00:00:00",
          "2013-06-11T00:00:00",
          "2013-06-18T00:00:00",
          "2013-06-25T00:00:00",
          "2013-07-02T00:00:00",
          "2013-07-09T00:00:00",
          "2013-07-16T00:00:00",
          "2013-07-23T00:00:00",
          "2013-07-30T00:00:00",
          "2013-08-06T00:00:00",
          "2013-08-13T00:00:00",
          "2013-08-20T00:00:00",
          "2013-08-27T00:00:00",
          "2013-09-03T00:00:00",
          "2013-09-10T00:00:00",
          "2013-09-17T00:00:00",
          "2013-09-24T00:00:00",
          "2013-10-01T00:00:00",
          "2013-10-08T00:00:00",
          "2013-10-15T00:00:00",
          "2013-10-22T00:00:00",
          "2013-10-29T00:00:00",
          "2013-11-05T00:00:00",
          "2013-11-12T00:00:00",
          "2013-11-19T00:00:00",
          "2013-11-26T00:00:00",
          "2013-12-03T00:00:00",
          "2013-12-10T00:00:00",
          "2013-12-17T00:00:00",
          "2013-12-24T00:00:00",
          "2013-12-31T00:00:00",
          "2014-01-07T00:00:00",
          "2014-01-14T00:00:00",
          "2014-01-21T00:00:00",
          "2014-01-28T00:00:00",
          "2014-02-04T00:00:00",
          "2014-02-11T00:00:00",
          "2014-02-18T00:00:00",
          "2014-02-25T00:00:00",
          "2014-03-04T00:00:00",
          "2014-03-11T00:00:00",
          "2014-03-18T00:00:00",
          "2014-03-25T00:00:00",
          "2014-04-01T00:00:00",
          "2014-04-08T00:00:00",
          "2014-04-15T00:00:00",
          "2014-04-22T00:00:00",
          "2014-04-29T00:00:00",
          "2014-05-06T00:00:00",
          "2014-05-13T00:00:00",
          "2014-05-20T00:00:00",
          "2014-05-27T00:00:00",
          "2014-06-03T00:00:00",
          "2014-06-10T00:00:00",
          "2014-06-17T00:00:00",
          "2014-06-24T00:00:00",
          "2014-07-01T00:00:00",
          "2014-07-08T00:00:00",
          "2014-07-15T00:00:00",
          "2014-07-22T00:00:00",
          "2014-07-29T00:00:00",
          "2014-08-05T00:00:00",
          "2014-08-12T00:00:00",
          "2014-08-19T00:00:00",
          "2014-08-26T00:00:00",
          "2014-09-02T00:00:00",
          "2014-09-09T00:00:00",
          "2014-09-16T00:00:00",
          "2014-09-23T00:00:00",
          "2014-09-30T00:00:00",
          "2014-10-07T00:00:00",
          "2014-10-14T00:00:00",
          "2014-10-21T00:00:00",
          "2014-10-28T00:00:00",
          "2014-11-04T00:00:00",
          "2014-11-11T00:00:00",
          "2014-11-18T00:00:00",
          "2014-11-25T00:00:00",
          "2014-12-02T00:00:00",
          "2014-12-09T00:00:00",
          "2014-12-16T00:00:00",
          "2014-12-23T00:00:00",
          "2014-12-30T00:00:00",
          "2015-01-06T00:00:00",
          "2015-01-13T00:00:00",
          "2015-01-20T00:00:00",
          "2015-01-27T00:00:00",
          "2015-02-03T00:00:00",
          "2015-02-10T00:00:00",
          "2015-02-17T00:00:00",
          "2015-02-24T00:00:00",
          "2015-03-03T00:00:00",
          "2015-03-10T00:00:00",
          "2015-03-17T00:00:00",
          "2015-03-24T00:00:00",
          "2015-03-31T00:00:00",
          "2015-04-07T00:00:00",
          "2015-04-14T00:00:00",
          "2015-04-21T00:00:00",
          "2015-04-28T00:00:00",
          "2015-05-05T00:00:00",
          "2015-05-12T00:00:00",
          "2015-05-19T00:00:00",
          "2015-05-26T00:00:00",
          "2015-06-02T00:00:00",
          "2015-06-09T00:00:00",
          "2015-06-16T00:00:00",
          "2015-06-23T00:00:00",
          "2015-06-30T00:00:00",
          "2015-07-07T00:00:00",
          "2015-07-14T00:00:00",
          "2015-07-21T00:00:00",
          "2015-07-28T00:00:00",
          "2015-08-04T00:00:00",
          "2015-08-11T00:00:00",
          "2015-08-18T00:00:00",
          "2015-08-25T00:00:00",
          "2015-09-01T00:00:00",
          "2015-09-08T00:00:00",
          "2015-09-15T00:00:00",
          "2015-09-22T00:00:00",
          "2015-09-29T00:00:00",
          "2015-10-06T00:00:00",
          "2015-10-13T00:00:00",
          "2015-10-20T00:00:00",
          "2015-10-27T00:00:00",
          "2015-11-03T00:00:00",
          "2015-11-10T00:00:00",
          "2015-11-17T00:00:00",
          "2015-11-24T00:00:00",
          "2015-12-01T00:00:00",
          "2015-12-08T00:00:00",
          "2015-12-15T00:00:00",
          "2015-12-22T00:00:00",
          "2015-12-29T00:00:00",
          "2016-01-05T00:00:00",
          "2016-01-12T00:00:00",
          "2016-01-19T00:00:00",
          "2016-01-26T00:00:00",
          "2016-02-02T00:00:00",
          "2016-02-09T00:00:00",
          "2016-02-16T00:00:00",
          "2016-02-23T00:00:00",
          "2016-03-01T00:00:00",
          "2016-03-08T00:00:00",
          "2016-03-15T00:00:00",
          "2016-03-22T00:00:00",
          "2016-03-29T00:00:00",
          "2016-04-05T00:00:00",
          "2016-04-12T00:00:00",
          "2016-04-19T00:00:00",
          "2016-04-26T00:00:00",
          "2016-05-03T00:00:00",
          "2016-05-10T00:00:00",
          "2016-05-17T00:00:00",
          "2016-05-24T00:00:00",
          "2016-05-31T00:00:00",
          "2016-06-07T00:00:00",
          "2016-06-14T00:00:00",
          "2016-06-21T00:00:00",
          "2016-06-28T00:00:00",
          "2016-07-05T00:00:00",
          "2016-07-12T00:00:00",
          "2016-07-19T00:00:00",
          "2016-07-26T00:00:00",
          "2016-08-02T00:00:00",
          "2016-08-09T00:00:00",
          "2016-08-16T00:00:00",
          "2016-08-23T00:00:00",
          "2016-08-30T00:00:00",
          "2016-09-06T00:00:00",
          "2016-09-13T00:00:00",
          "2016-09-20T00:00:00",
          "2016-09-27T00:00:00",
          "2016-10-04T00:00:00",
          "2016-10-11T00:00:00",
          "2016-10-18T00:00:00",
          "2016-10-25T00:00:00",
          "2016-11-01T00:00:00",
          "2016-11-08T00:00:00",
          "2016-11-15T00:00:00",
          "2016-11-22T00:00:00",
          "2016-11-29T00:00:00",
          "2016-12-06T00:00:00",
          "2016-12-13T00:00:00",
          "2016-12-20T00:00:00",
          "2016-12-27T00:00:00",
          "2017-01-03T00:00:00",
          "2017-01-10T00:00:00",
          "2017-01-17T00:00:00",
          "2017-01-24T00:00:00",
          "2017-01-31T00:00:00",
          "2017-02-07T00:00:00",
          "2017-02-14T00:00:00",
          "2017-02-21T00:00:00",
          "2017-02-28T00:00:00",
          "2017-03-07T00:00:00",
          "2017-03-14T00:00:00",
          "2017-03-21T00:00:00",
          "2017-03-28T00:00:00",
          "2017-04-04T00:00:00",
          "2017-04-11T00:00:00",
          "2017-04-18T00:00:00",
          "2017-04-25T00:00:00",
          "2017-05-02T00:00:00",
          "2017-05-09T00:00:00",
          "2017-05-16T00:00:00",
          "2017-05-23T00:00:00",
          "2017-05-30T00:00:00",
          "2017-06-06T00:00:00",
          "2017-06-13T00:00:00",
          "2017-06-20T00:00:00",
          "2017-06-27T00:00:00",
          "2017-07-04T00:00:00",
          "2017-07-11T00:00:00",
          "2017-07-18T00:00:00",
          "2017-07-25T00:00:00",
          "2017-08-01T00:00:00",
          "2017-08-08T00:00:00",
          "2017-08-15T00:00:00",
          "2017-08-22T00:00:00",
          "2017-08-29T00:00:00",
          "2017-09-05T00:00:00",
          "2017-09-12T00:00:00",
          "2017-09-19T00:00:00",
          "2017-09-26T00:00:00",
          "2017-10-03T00:00:00",
          "2017-10-10T00:00:00",
          "2017-10-17T00:00:00",
          "2017-10-24T00:00:00",
          "2017-10-31T00:00:00",
          "2017-11-07T00:00:00",
          "2017-11-14T00:00:00",
          "2017-11-21T00:00:00",
          "2017-11-28T00:00:00",
          "2017-12-05T00:00:00",
          "2017-12-12T00:00:00",
          "2017-12-19T00:00:00",
          "2017-12-26T00:00:00"
         ],
         "y": [
          7704,
          7898,
          7865,
          7782,
          8333,
          8678,
          8835,
          8740,
          9793,
          10453,
          10544,
          10500,
          10660,
          12228,
          12223,
          12173,
          12318,
          12812,
          13099,
          13097,
          13138,
          13460,
          13969,
          14208,
          13950,
          14143,
          14795,
          14936,
          14977,
          14770,
          13592,
          13200,
          12998,
          13062,
          12821,
          12271,
          12454,
          12325,
          12130,
          11403,
          11414,
          11186,
          11277,
          11853,
          12083,
          12191,
          12278,
          11122,
          8748,
          8780,
          8664,
          8710,
          8926,
          8975,
          8958,
          9059,
          9564,
          10084,
          10000,
          10057,
          10913,
          12079,
          12142,
          12053,
          11855,
          14193,
          14172,
          14195,
          14108,
          14924,
          15077,
          15086,
          14997,
          15388,
          16201,
          16232,
          16224,
          16051,
          17056,
          16866,
          17126,
          17145,
          15676,
          15025,
          15056,
          15126,
          15018,
          13974,
          14108,
          14159,
          13957,
          13185,
          13115,
          13009,
          13105,
          13556,
          14097,
          14225,
          14267,
          13621,
          9999,
          10116,
          10034,
          10010,
          9553,
          9447,
          9547,
          9424,
          9800,
          10500,
          10277,
          10419,
          11245,
          12603,
          12589,
          12748,
          12545,
          14315,
          14623,
          14782,
          14598,
          15307,
          15707,
          15865,
          15756,
          15719,
          16963,
          16899,
          16708,
          16578,
          17677,
          18000,
          17854,
          17864,
          17130,
          15690,
          15632,
          15739,
          15661,
          14555,
          14690,
          14842,
          14803,
          13916,
          13482,
          13521,
          13477,
          13752,
          14668,
          14631,
          14797,
          14750,
          10544,
          10471,
          10533,
          10426,
          10387,
          10167,
          10315,
          10345,
          10245,
          11491,
          11242,
          11673,
          11515,
          13721,
          13858,
          13495,
          13641,
          15009,
          15869,
          15820,
          15719,
          16190,
          17180,
          17058,
          17034,
          17102,
          18191,
          18234,
          18207,
          18160,
          18968,
          19301,
          19322,
          19311,
          19003,
          17302,
          17007,
          16820,
          16926,
          16207,
          15811,
          16019,
          15900,
          15582,
          15033,
          14830,
          14871,
          14798,
          16076,
          15910,
          16019,
          15977,
          12486,
          11377,
          11410,
          11362,
          11127,
          10573,
          10712,
          10456,
          10636,
          11568,
          11921,
          11719,
          11984,
          13774,
          14229,
          14196,
          14200,
          15319,
          16631,
          16518,
          16358,
          16677,
          17740,
          17730,
          17744,
          17763,
          18675,
          19007,
          18789,
          18816,
          19558,
          19862,
          20104,
          20149,
          20180,
          17602,
          17752,
          18109,
          17472,
          17005,
          16567,
          16474,
          16591,
          16166,
          15296,
          15455,
          15332,
          15358,
          16579,
          16652,
          16237,
          16403,
          13727,
          11664,
          11836,
          11594,
          10525
         ]
        },
        {
         "name": "Loja 6",
         "type": "scatter",
         "x": [
          "2013-01-01T00:00:00",
          "2013-01-08T00:00:00",
          "2013-01-15T00:00:00",
          "2013-01-22T00:00:00",
          "2013-01-29T00:00:00",
          "2013-02-05T00:00:00",
          "2013-02-12T00:00:00",
          "2013-02-19T00:00:00",
          "2013-02-26T00:00:00",
          "2013-03-05T00:00:00",
          "2013-03-12T00:00:00",
          "2013-03-19T00:00:00",
          "2013-03-26T00:00:00",
          "2013-04-02T00:00:00",
          "2013-04-09T00:00:00",
          "2013-04-16T00:00:00",
          "2013-04-23T00:00:00",
          "2013-04-30T00:00:00",
          "2013-05-07T00:00:00",
          "2013-05-14T00:00:00",
          "2013-05-21T00:00:00",
          "2013-05-28T00:00:00",
          "2013-06-04T00:00:00",
          "2013-06-11T00:00:00",
          "2013-06-18T00:00:00",
          "2013-06-25T00:00:00",
          "2013-07-02T00:00:00",
          "2013-07-09T00:00:00",
          "2013-07-16T00:00:00",
          "2013-07-23T00:00:00",
          "2013-07-30T00:00:00",
          "2013-08-06T00:00:00",
          "2013-08-13T00:00:00",
          "2013-08-20T00:00:00",
          "2013-08-27T00:00:00",
          "2013-09-03T00:00:00",
          "2013-09-10T00:00:00",
          "2013-09-17T00:00:00",
          "2013-09-24T00:00:00",
          "2013-10-01T00:00:00",
          "2013-10-08T00:00:00",
          "2013-10-15T00:00:00",
          "2013-10-22T00:00:00",
          "2013-10-29T00:00:00",
          "2013-11-05T00:00:00",
          "2013-11-12T00:00:00",
          "2013-11-19T00:00:00",
          "2013-11-26T00:00:00",
          "2013-12-03T00:00:00",
          "2013-12-10T00:00:00",
          "2013-12-17T00:00:00",
          "2013-12-24T00:00:00",
          "2013-12-31T00:00:00",
          "2014-01-07T00:00:00",
          "2014-01-14T00:00:00",
          "2014-01-21T00:00:00",
          "2014-01-28T00:00:00",
          "2014-02-04T00:00:00",
          "2014-02-11T00:00:00",
          "2014-02-18T00:00:00",
          "2014-02-25T00:00:00",
          "2014-03-04T00:00:00",
          "2014-03-11T00:00:00",
          "2014-03-18T00:00:00",
          "2014-03-25T00:00:00",
          "2014-04-01T00:00:00",
          "2014-04-08T00:00:00",
          "2014-04-15T00:00:00",
          "2014-04-22T00:00:00",
          "2014-04-29T00:00:00",
          "2014-05-06T00:00:00",
          "2014-05-13T00:00:00",
          "2014-05-20T00:00:00",
          "2014-05-27T00:00:00",
          "2014-06-03T00:00:00",
          "2014-06-10T00:00:00",
          "2014-06-17T00:00:00",
          "2014-06-24T00:00:00",
          "2014-07-01T00:00:00",
          "2014-07-08T00:00:00",
          "2014-07-15T00:00:00",
          "2014-07-22T00:00:00",
          "2014-07-29T00:00:00",
          "2014-08-05T00:00:00",
          "2014-08-12T00:00:00",
          "2014-08-19T00:00:00",
          "2014-08-26T00:00:00",
          "2014-09-02T00:00:00",
          "2014-09-09T00:00:00",
          "2014-09-16T00:00:00",
          "2014-09-23T00:00:00",
          "2014-09-30T00:00:00",
          "2014-10-07T00:00:00",
          "2014-10-14T00:00:00",
          "2014-10-21T00:00:00",
          "2014-10-28T00:00:00",
          "2014-11-04T00:00:00",
          "2014-11-11T00:00:00",
          "2014-11-18T00:00:00",
          "2014-11-25T00:00:00",
          "2014-12-02T00:00:00",
          "2014-12-09T00:00:00",
          "2014-12-16T00:00:00",
          "2014-12-23T00:00:00",
          "2014-12-30T00:00:00",
          "2015-01-06T00:00:00",
          "2015-01-13T00:00:00",
          "2015-01-20T00:00:00",
          "2015-01-27T00:00:00",
          "2015-02-03T00:00:00",
          "2015-02-10T00:00:00",
          "2015-02-17T00:00:00",
          "2015-02-24T00:00:00",
          "2015-03-03T00:00:00",
          "2015-03-10T00:00:00",
          "2015-03-17T00:00:00",
          "2015-03-24T00:00:00",
          "2015-03-31T00:00:00",
          "2015-04-07T00:00:00",
          "2015-04-14T00:00:00",
          "2015-04-21T00:00:00",
          "2015-04-28T00:00:00",
          "2015-05-05T00:00:00",
          "2015-05-12T00:00:00",
          "2015-05-19T00:00:00",
          "2015-05-26T00:00:00",
          "2015-06-02T00:00:00",
          "2015-06-09T00:00:00",
          "2015-06-16T00:00:00",
          "2015-06-23T00:00:00",
          "2015-06-30T00:00:00",
          "2015-07-07T00:00:00",
          "2015-07-14T00:00:00",
          "2015-07-21T00:00:00",
          "2015-07-28T00:00:00",
          "2015-08-04T00:00:00",
          "2015-08-11T00:00:00",
          "2015-08-18T00:00:00",
          "2015-08-25T00:00:00",
          "2015-09-01T00:00:00",
          "2015-09-08T00:00:00",
          "2015-09-15T00:00:00",
          "2015-09-22T00:00:00",
          "2015-09-29T00:00:00",
          "2015-10-06T00:00:00",
          "2015-10-13T00:00:00",
          "2015-10-20T00:00:00",
          "2015-10-27T00:00:00",
          "2015-11-03T00:00:00",
          "2015-11-10T00:00:00",
          "2015-11-17T00:00:00",
          "2015-11-24T00:00:00",
          "2015-12-01T00:00:00",
          "2015-12-08T00:00:00",
          "2015-12-15T00:00:00",
          "2015-12-22T00:00:00",
          "2015-12-29T00:00:00",
          "2016-01-05T00:00:00",
          "2016-01-12T00:00:00",
          "2016-01-19T00:00:00",
          "2016-01-26T00:00:00",
          "2016-02-02T00:00:00",
          "2016-02-09T00:00:00",
          "2016-02-16T00:00:00",
          "2016-02-23T00:00:00",
          "2016-03-01T00:00:00",
          "2016-03-08T00:00:00",
          "2016-03-15T00:00:00",
          "2016-03-22T00:00:00",
          "2016-03-29T00:00:00",
          "2016-04-05T00:00:00",
          "2016-04-12T00:00:00",
          "2016-04-19T00:00:00",
          "2016-04-26T00:00:00",
          "2016-05-03T00:00:00",
          "2016-05-10T00:00:00",
          "2016-05-17T00:00:00",
          "2016-05-24T00:00:00",
          "2016-05-31T00:00:00",
          "2016-06-07T00:00:00",
          "2016-06-14T00:00:00",
          "2016-06-21T00:00:00",
          "2016-06-28T00:00:00",
          "2016-07-05T00:00:00",
          "2016-07-12T00:00:00",
          "2016-07-19T00:00:00",
          "2016-07-26T00:00:00",
          "2016-08-02T00:00:00",
          "2016-08-09T00:00:00",
          "2016-08-16T00:00:00",
          "2016-08-23T00:00:00",
          "2016-08-30T00:00:00",
          "2016-09-06T00:00:00",
          "2016-09-13T00:00:00",
          "2016-09-20T00:00:00",
          "2016-09-27T00:00:00",
          "2016-10-04T00:00:00",
          "2016-10-11T00:00:00",
          "2016-10-18T00:00:00",
          "2016-10-25T00:00:00",
          "2016-11-01T00:00:00",
          "2016-11-08T00:00:00",
          "2016-11-15T00:00:00",
          "2016-11-22T00:00:00",
          "2016-11-29T00:00:00",
          "2016-12-06T00:00:00",
          "2016-12-13T00:00:00",
          "2016-12-20T00:00:00",
          "2016-12-27T00:00:00",
          "2017-01-03T00:00:00",
          "2017-01-10T00:00:00",
          "2017-01-17T00:00:00",
          "2017-01-24T00:00:00",
          "2017-01-31T00:00:00",
          "2017-02-07T00:00:00",
          "2017-02-14T00:00:00",
          "2017-02-21T00:00:00",
          "2017-02-28T00:00:00",
          "2017-03-07T00:00:00",
          "2017-03-14T00:00:00",
          "2017-03-21T00:00:00",
          "2017-03-28T00:00:00",
          "2017-04-04T00:00:00",
          "2017-04-11T00:00:00",
          "2017-04-18T00:00:00",
          "2017-04-25T00:00:00",
          "2017-05-02T00:00:00",
          "2017-05-09T00:00:00",
          "2017-05-16T00:00:00",
          "2017-05-23T00:00:00",
          "2017-05-30T00:00:00",
          "2017-06-06T00:00:00",
          "2017-06-13T00:00:00",
          "2017-06-20T00:00:00",
          "2017-06-27T00:00:00",
          "2017-07-04T00:00:00",
          "2017-07-11T00:00:00",
          "2017-07-18T00:00:00",
          "2017-07-25T00:00:00",
          "2017-08-01T00:00:00",
          "2017-08-08T00:00:00",
          "2017-08-15T00:00:00",
          "2017-08-22T00:00:00",
          "2017-08-29T00:00:00",
          "2017-09-05T00:00:00",
          "2017-09-12T00:00:00",
          "2017-09-19T00:00:00",
          "2017-09-26T00:00:00",
          "2017-10-03T00:00:00",
          "2017-10-10T00:00:00",
          "2017-10-17T00:00:00",
          "2017-10-24T00:00:00",
          "2017-10-31T00:00:00",
          "2017-11-07T00:00:00",
          "2017-11-14T00:00:00",
          "2017-11-21T00:00:00",
          "2017-11-28T00:00:00",
          "2017-12-05T00:00:00",
          "2017-12-12T00:00:00",
          "2017-12-19T00:00:00",
          "2017-12-26T00:00:00"
         ],
         "y": [
          8025,
          7897,
          7851,
          7950,
          8453,
          8705,
          8676,
          8654,
          9970,
          10456,
          10472,
          10442,
          10774,
          12279,
          11942,
          12256,
          12148,
          13060,
          12827,
          13109,
          13044,
          13407,
          14047,
          14087,
          14134,
          14132,
          14877,
          15006,
          14591,
          14830,
          13574,
          13007,
          13165,
          13270,
          12805,
          12267,
          12331,
          12185,
          12244,
          11313,
          11359,
          11426,
          11493,
          11758,
          12471,
          12343,
          12297,
          11092,
          8783,
          8777,
          8617,
          8527,
          8969,
          9034,
          9126,
          9034,
          9510,
          10124,
          9964,
          10203,
          10882,
          12094,
          12137,
          11927,
          12205,
          13976,
          14119,
          14067,
          14037,
          14871,
          15241,
          15041,
          15228,
          15318,
          16031,
          16173,
          16100,
          16078,
          17072,
          17117,
          17017,
          17058,
          15697,
          15140,
          15059,
          14997,
          15070,
          14264,
          13869,
          14102,
          14068,
          13148,
          12960,
          12915,
          13102,
          13529,
          14061,
          13983,
          13869,
          13601,
          10122,
          10230,
          10065,
          10067,
          9696,
          9407,
          9314,
          9544,
          9712,
          10401,
          10517,
          10407,
          10973,
          12687,
          12712,
          12802,
          12605,
          14295,
          14645,
          14609,
          14708,
          15202,
          15731,
          15685,
          15910,
          15772,
          16994,
          16744,
          16723,
          16587,
          17595,
          17940,
          17814,
          18191,
          16869,
          15577,
          15686,
          15756,
          15789,
          14913,
          14585,
          14819,
          14582,
          13853,
          13755,
          13593,
          13701,
          13988,
          14434,
          14917,
          14673,
          14832,
          10550,
          10447,
          10539,
          10623,
          10223,
          10142,
          10287,
          10051,
          10340,
          11310,
          11229,
          11228,
          11357,
          13920,
          13487,
          13534,
          13704,
          15035,
          15947,
          16053,
          16019,
          16290,
          17180,
          16842,
          16922,
          17084,
          17851,
          18167,
          18103,
          18332,
          18722,
          19351,
          19362,
          19268,
          18951,
          16974,
          17130,
          16977,
          16881,
          16300,
          15678,
          15892,
          15992,
          15366,
          14721,
          14730,
          14794,
          14876,
          15772,
          15805,
          15838,
          15741,
          12707,
          11218,
          11587,
          11327,
          10881,
          10550,
          10827,
          10580,
          10554,
          11650,
          11936,
          11700,
          11730,
          13781,
          14093,
          14159,
          14141,
          15088,
          16524,
          16499,
          16473,
          16606,
          17733,
          17455,
          17622,
          17923,
          18382,
          18848,
          19003,
          18868,
          19698,
          20129,
          20239,
          20185,
          19998,
          17670,
          17793,
          17648,
          17720,
          16907,
          16326,
          16436,
          16489,
          16361,
          15346,
          15444,
          15215,
          15357,
          16497,
          16335,
          16706,
          16510,
          13606,
          11719,
          11670,
          11728,
          10456
         ]
        },
        {
         "name": "Loja 7",
         "type": "scatter",
         "x": [
          "2013-01-01T00:00:00",
          "2013-01-08T00:00:00",
          "2013-01-15T00:00:00",
          "2013-01-22T00:00:00",
          "2013-01-29T00:00:00",
          "2013-02-05T00:00:00",
          "2013-02-12T00:00:00",
          "2013-02-19T00:00:00",
          "2013-02-26T00:00:00",
          "2013-03-05T00:00:00",
          "2013-03-12T00:00:00",
          "2013-03-19T00:00:00",
          "2013-03-26T00:00:00",
          "2013-04-02T00:00:00",
          "2013-04-09T00:00:00",
          "2013-04-16T00:00:00",
          "2013-04-23T00:00:00",
          "2013-04-30T00:00:00",
          "2013-05-07T00:00:00",
          "2013-05-14T00:00:00",
          "2013-05-21T00:00:00",
          "2013-05-28T00:00:00",
          "2013-06-04T00:00:00",
          "2013-06-11T00:00:00",
          "2013-06-18T00:00:00",
          "2013-06-25T00:00:00",
          "2013-07-02T00:00:00",
          "2013-07-09T00:00:00",
          "2013-07-16T00:00:00",
          "2013-07-23T00:00:00",
          "2013-07-30T00:00:00",
          "2013-08-06T00:00:00",
          "2013-08-13T00:00:00",
          "2013-08-20T00:00:00",
          "2013-08-27T00:00:00",
          "2013-09-03T00:00:00",
          "2013-09-10T00:00:00",
          "2013-09-17T00:00:00",
          "2013-09-24T00:00:00",
          "2013-10-01T00:00:00",
          "2013-10-08T00:00:00",
          "2013-10-15T00:00:00",
          "2013-10-22T00:00:00",
          "2013-10-29T00:00:00",
          "2013-11-05T00:00:00",
          "2013-11-12T00:00:00",
          "2013-11-19T00:00:00",
          "2013-11-26T00:00:00",
          "2013-12-03T00:00:00",
          "2013-12-10T00:00:00",
          "2013-12-17T00:00:00",
          "2013-12-24T00:00:00",
          "2013-12-31T00:00:00",
          "2014-01-07T00:00:00",
          "2014-01-14T00:00:00",
          "2014-01-21T00:00:00",
          "2014-01-28T00:00:00",
          "2014-02-04T00:00:00",
          "2014-02-11T00:00:00",
          "2014-02-18T00:00:00",
          "2014-02-25T00:00:00",
          "2014-03-04T00:00:00",
          "2014-03-11T00:00:00",
          "2014-03-18T00:00:00",
          "2014-03-25T00:00:00",
          "2014-04-01T00:00:00",
          "2014-04-08T00:00:00",
          "2014-04-15T00:00:00",
          "2014-04-22T00:00:00",
          "2014-04-29T00:00:00",
          "2014-05-06T00:00:00",
          "2014-05-13T00:00:00",
          "2014-05-20T00:00:00",
          "2014-05-27T00:00:00",
          "2014-06-03T00:00:00",
          "2014-06-10T00:00:00",
          "2014-06-17T00:00:00",
          "2014-06-24T00:00:00",
          "2014-07-01T00:00:00",
          "2014-07-08T00:00:00",
          "2014-07-15T00:00:00",
          "2014-07-22T00:00:00",
          "2014-07-29T00:00:00",
          "2014-08-05T00:00:00",
          "2014-08-12T00:00:00",
          "2014-08-19T00:00:00",
          "2014-08-26T00:00:00",
          "2014-09-02T00:00:00",
          "2014-09-09T00:00:00",
          "2014-09-16T00:00:00",
          "2014-09-23T00:00:00",
          "2014-09-30T00:00:00",
          "2014-10-07T00:00:00",
          "2014-10-14T00:00:00",
          "2014-10-21T00:00:00",
          "2014-10-28T00:00:00",
          "2014-11-04T00:00:00",
          "2014-11-11T00:00:00",
          "2014-11-18T00:00:00",
          "2014-11-25T00:00:00",
          "2014-12-02T00:00:00",
          "2014-12-09T00:00:00",
          "2014-12-16T00:00:00",
          "2014-12-23T00:00:00",
          "2014-12-30T00:00:00",
          "2015-01-06T00:00:00",
          "2015-01-13T00:00:00",
          "2015-01-20T00:00:00",
          "2015-01-27T00:00:00",
          "2015-02-03T00:00:00",
          "2015-02-10T00:00:00",
          "2015-02-17T00:00:00",
          "2015-02-24T00:00:00",
          "2015-03-03T00:00:00",
          "2015-03-10T00:00:00",
          "2015-03-17T00:00:00",
          "2015-03-24T00:00:00",
          "2015-03-31T00:00:00",
          "2015-04-07T00:00:00",
          "2015-04-14T00:00:00",
          "2015-04-21T00:00:00",
          "2015-04-28T00:00:00",
          "2015-05-05T00:00:00",
          "2015-05-12T00:00:00",
          "2015-05-19T00:00:00",
          "2015-05-26T00:00:00",
          "2015-06-02T00:00:00",
          "2015-06-09T00:00:00",
          "2015-06-16T00:00:00",
          "2015-06-23T00:00:00",
          "2015-06-30T00:00:00",
          "2015-07-07T00:00:00",
          "2015-07-14T00:00:00",
          "2015-07-21T00:00:00",
          "2015-07-28T00:00:00",
          "2015-08-04T00:00:00",
          "2015-08-11T00:00:00",
          "2015-08-18T00:00:00",
          "2015-08-25T00:00:00",
          "2015-09-01T00:00:00",
          "2015-09-08T00:00:00",
          "2015-09-15T00:00:00",
          "2015-09-22T00:00:00",
          "2015-09-29T00:00:00",
          "2015-10-06T00:00:00",
          "2015-10-13T00:00:00",
          "2015-10-20T00:00:00",
          "2015-10-27T00:00:00",
          "2015-11-03T00:00:00",
          "2015-11-10T00:00:00",
          "2015-11-17T00:00:00",
          "2015-11-24T00:00:00",
          "2015-12-01T00:00:00",
          "2015-12-08T00:00:00",
          "2015-12-15T00:00:00",
          "2015-12-22T00:00:00",
          "2015-12-29T00:00:00",
          "2016-01-05T00:00:00",
          "2016-01-12T00:00:00",
          "2016-01-19T00:00:00",
          "2016-01-26T00:00:00",
          "2016-02-02T00:00:00",
          "2016-02-09T00:00:00",
          "2016-02-16T00:00:00",
          "2016-02-23T00:00:00",
          "2016-03-01T00:00:00",
          "2016-03-08T00:00:00",
          "2016-03-15T00:00:00",
          "2016-03-22T00:00:00",
          "2016-03-29T00:00:00",
          "2016-04-05T00:00:00",
          "2016-04-12T00:00:00",
          "2016-04-19T00:00:00",
          "2016-04-26T00:00:00",
          "2016-05-03T00:00:00",
          "2016-05-10T00:00:00",
          "2016-05-17T00:00:00",
          "2016-05-24T00:00:00",
          "2016-05-31T00:00:00",
          "2016-06-07T00:00:00",
          "2016-06-14T00:00:00",
          "2016-06-21T00:00:00",
          "2016-06-28T00:00:00",
          "2016-07-05T00:00:00",
          "2016-07-12T00:00:00",
          "2016-07-19T00:00:00",
          "2016-07-26T00:00:00",
          "2016-08-02T00:00:00",
          "2016-08-09T00:00:00",
          "2016-08-16T00:00:00",
          "2016-08-23T00:00:00",
          "2016-08-30T00:00:00",
          "2016-09-06T00:00:00",
          "2016-09-13T00:00:00",
          "2016-09-20T00:00:00",
          "2016-09-27T00:00:00",
          "2016-10-04T00:00:00",
          "2016-10-11T00:00:00",
          "2016-10-18T00:00:00",
          "2016-10-25T00:00:00",
          "2016-11-01T00:00:00",
          "2016-11-08T00:00:00",
          "2016-11-15T00:00:00",
          "2016-11-22T00:00:00",
          "2016-11-29T00:00:00",
          "2016-12-06T00:00:00",
          "2016-12-13T00:00:00",
          "2016-12-20T00:00:00",
          "2016-12-27T00:00:00",
          "2017-01-03T00:00:00",
          "2017-01-10T00:00:00",
          "2017-01-17T00:00:00",
          "2017-01-24T00:00:00",
          "2017-01-31T00:00:00",
          "2017-02-07T00:00:00",
          "2017-02-14T00:00:00",
          "2017-02-21T00:00:00",
          "2017-02-28T00:00:00",
          "2017-03-07T00:00:00",
          "2017-03-14T00:00:00",
          "2017-03-21T00:00:00",
          "2017-03-28T00:00:00",
          "2017-04-04T00:00:00",
          "2017-04-11T00:00:00",
          "2017-04-18T00:00:00",
          "2017-04-25T00:00:00",
          "2017-05-02T00:00:00",
          "2017-05-09T00:00:00",
          "2017-05-16T00:00:00",
          "2017-05-23T00:00:00",
          "2017-05-30T00:00:00",
          "2017-06-06T00:00:00",
          "2017-06-13T00:00:00",
          "2017-06-20T00:00:00",
          "2017-06-27T00:00:00",
          "2017-07-04T00:00:00",
          "2017-07-11T00:00:00",
          "2017-07-18T00:00:00",
          "2017-07-25T00:00:00",
          "2017-08-01T00:00:00",
          "2017-08-08T00:00:00",
          "2017-08-15T00:00:00",
          "2017-08-22T00:00:00",
          "2017-08-29T00:00:00",
          "2017-09-05T00:00:00",
          "2017-09-12T00:00:00",
          "2017-09-19T00:00:00",
          "2017-09-26T00:00:00",
          "2017-10-03T00:00:00",
          "2017-10-10T00:00:00",
          "2017-10-17T00:00:00",
          "2017-10-24T00:00:00",
          "2017-10-31T00:00:00",
          "2017-11-07T00:00:00",
          "2017-11-14T00:00:00",
          "2017-11-21T00:00:00",
          "2017-11-28T00:00:00",
          "2017-12-05T00:00:00",
          "2017-12-12T00:00:00",
          "2017-12-19T00:00:00",
          "2017-12-26T00:00:00"
         ],
         "y": [
          7028,
          7316,
          7104,
          7271,
          7536,
          7972,
          8020,
          7965,
          8916,
          9473,
          9799,
          9562,
          9777,
          11168,
          11041,
          11168,
          11325,
          11895,
          12016,
          11823,
          12032,
          12255,
          12799,
          12714,
          12713,
          12923,
          13666,
          13734,
          13520,
          13575,
          12328,
          11948,
          12100,
          11895,
          11993,
          11248,
          11177,
          11242,
          11121,
          10471,
          10529,
          10360,
          10383,
          10927,
          11190,
          10985,
          11131,
          10244,
          7957,
          8024,
          7909,
          7931,
          8351,
          8274,
          8197,
          8486,
          8701,
          9199,
          9045,
          9219,
          9910,
          11109,
          11120,
          11026,
          11239,
          12918,
          12916,
          12791,
          12914,
          13647,
          13962,
          13880,
          13644,
          14238,
          14727,
          14812,
          14757,
          14643,
          15612,
          15568,
          15563,
          15545,
          14297,
          13718,
          13887,
          13706,
          13866,
          12830,
          12769,
          12787,
          12779,
          12036,
          12066,
          11887,
          11982,
          12254,
          12710,
          12769,
          13026,
          12476,
          9353,
          9097,
          9081,
          9213,
          8741,
          8588,
          8855,
          8717,
          8650,
          9600,
          9458,
          9581,
          10138,
          11712,
          11449,
          11530,
          11499,
          13308,
          13492,
          13475,
          13415,
          13962,
          14419,
          14227,
          14352,
          14498,
          15426,
          15687,
          15538,
          15465,
          16146,
          16274,
          16299,
          16039,
          15529,
          14478,
          14263,
          14432,
          14224,
          13481,
          13425,
          13558,
          13399,
          12723,
          12518,
          12406,
          12537,
          12601,
          13521,
          13504,
          13557,
          13735,
          9601,
          9593,
          9621,
          9553,
          9429,
          9336,
          9363,
          9382,
          9540,
          10434,
          10390,
          10398,
          10372,
          12585,
          12511,
          12569,
          12464,
          13741,
          14458,
          14395,
          14434,
          15006,
          15676,
          15598,
          15445,
          15605,
          16544,
          16668,
          16698,
          16654,
          17225,
          17609,
          17564,
          17712,
          17340,
          15474,
          15335,
          15328,
          15440,
          15037,
          14490,
          14621,
          14617,
          14183,
          13527,
          13418,
          13500,
          13528,
          14777,
          14764,
          14699,
          14361,
          11515,
          10336,
          10304,
          10532,
          10021,
          9678,
          9716,
          9678,
          9657,
          10608,
          10799,
          10991,
          10878,
          12531,
          13007,
          12788,
          12947,
          13871,
          14989,
          15045,
          15311,
          15169,
          16240,
          16078,
          16354,
          16301,
          17081,
          17107,
          17632,
          17276,
          17924,
          18251,
          18393,
          18232,
          18430,
          16128,
          16225,
          16127,
          16395,
          15536,
          15100,
          14994,
          15098,
          14772,
          14091,
          13974,
          14262,
          13908,
          15059,
          15187,
          14889,
          15274,
          12642,
          10620,
          10820,
          10714,
          9680
         ]
        },
        {
         "name": "Loja 8",
         "type": "scatter",
         "x": [
          "2013-01-01T00:00:00",
          "2013-01-08T00:00:00",
          "2013-01-15T00:00:00",
          "2013-01-22T00:00:00",
          "2013-01-29T00:00:00",
          "2013-02-05T00:00:00",
          "2013-02-12T00:00:00",
          "2013-02-19T00:00:00",
          "2013-02-26T00:00:00",
          "2013-03-05T00:00:00",
          "2013-03-12T00:00:00",
          "2013-03-19T00:00:00",
          "2013-03-26T00:00:00",
          "2013-04-02T00:00:00",
          "2013-04-09T00:00:00",
          "2013-04-16T00:00:00",
          "2013-04-23T00:00:00",
          "2013-04-30T00:00:00",
          "2013-05-07T00:00:00",
          "2013-05-14T00:00:00",
          "2013-05-21T00:00:00",
          "2013-05-28T00:00:00",
          "2013-06-04T00:00:00",
          "2013-06-11T00:00:00",
          "2013-06-18T00:00:00",
          "2013-06-25T00:00:00",
          "2013-07-02T00:00:00",
          "2013-07-09T00:00:00",
          "2013-07-16T00:00:00",
          "2013-07-23T00:00:00",
          "2013-07-30T00:00:00",
          "2013-08-06T00:00:00",
          "2013-08-13T00:00:00",
          "2013-08-20T00:00:00",
          "2013-08-27T00:00:00",
          "2013-09-03T00:00:00",
          "2013-09-10T00:00:00",
          "2013-09-17T00:00:00",
          "2013-09-24T00:00:00",
          "2013-10-01T00:00:00",
          "2013-10-08T00:00:00",
          "2013-10-15T00:00:00",
          "2013-10-22T00:00:00",
          "2013-10-29T00:00:00",
          "2013-11-05T00:00:00",
          "2013-11-12T00:00:00",
          "2013-11-19T00:00:00",
          "2013-11-26T00:00:00",
          "2013-12-03T00:00:00",
          "2013-12-10T00:00:00",
          "2013-12-17T00:00:00",
          "2013-12-24T00:00:00",
          "2013-12-31T00:00:00",
          "2014-01-07T00:00:00",
          "2014-01-14T00:00:00",
          "2014-01-21T00:00:00",
          "2014-01-28T00:00:00",
          "2014-02-04T00:00:00",
          "2014-02-11T00:00:00",
          "2014-02-18T00:00:00",
          "2014-02-25T00:00:00",
          "2014-03-04T00:00:00",
          "2014-03-11T00:00:00",
          "2014-03-18T00:00:00",
          "2014-03-25T00:00:00",
          "2014-04-01T00:00:00",
          "2014-04-08T00:00:00",
          "2014-04-15T00:00:00",
          "2014-04-22T00:00:00",
          "2014-04-29T00:00:00",
          "2014-05-06T00:00:00",
          "2014-05-13T00:00:00",
          "2014-05-20T00:00:00",
          "2014-05-27T00:00:00",
          "2014-06-03T00:00:00",
          "2014-06-10T00:00:00",
          "2014-06-17T00:00:00",
          "2014-06-24T00:00:00",
          "2014-07-01T00:00:00",
          "2014-07-08T00:00:00",
          "2014-07-15T00:00:00",
          "2014-07-22T00:00:00",
          "2014-07-29T00:00:00",
          "2014-08-05T00:00:00",
          "2014-08-12T00:00:00",
          "2014-08-19T00:00:00",
          "2014-08-26T00:00:00",
          "2014-09-02T00:00:00",
          "2014-09-09T00:00:00",
          "2014-09-16T00:00:00",
          "2014-09-23T00:00:00",
          "2014-09-30T00:00:00",
          "2014-10-07T00:00:00",
          "2014-10-14T00:00:00",
          "2014-10-21T00:00:00",
          "2014-10-28T00:00:00",
          "2014-11-04T00:00:00",
          "2014-11-11T00:00:00",
          "2014-11-18T00:00:00",
          "2014-11-25T00:00:00",
          "2014-12-02T00:00:00",
          "2014-12-09T00:00:00",
          "2014-12-16T00:00:00",
          "2014-12-23T00:00:00",
          "2014-12-30T00:00:00",
          "2015-01-06T00:00:00",
          "2015-01-13T00:00:00",
          "2015-01-20T00:00:00",
          "2015-01-27T00:00:00",
          "2015-02-03T00:00:00",
          "2015-02-10T00:00:00",
          "2015-02-17T00:00:00",
          "2015-02-24T00:00:00",
          "2015-03-03T00:00:00",
          "2015-03-10T00:00:00",
          "2015-03-17T00:00:00",
          "2015-03-24T00:00:00",
          "2015-03-31T00:00:00",
          "2015-04-07T00:00:00",
          "2015-04-14T00:00:00",
          "2015-04-21T00:00:00",
          "2015-04-28T00:00:00",
          "2015-05-05T00:00:00",
          "2015-05-12T00:00:00",
          "2015-05-19T00:00:00",
          "2015-05-26T00:00:00",
          "2015-06-02T00:00:00",
          "2015-06-09T00:00:00",
          "2015-06-16T00:00:00",
          "2015-06-23T00:00:00",
          "2015-06-30T00:00:00",
          "2015-07-07T00:00:00",
          "2015-07-14T00:00:00",
          "2015-07-21T00:00:00",
          "2015-07-28T00:00:00",
          "2015-08-04T00:00:00",
          "2015-08-11T00:00:00",
          "2015-08-18T00:00:00",
          "2015-08-25T00:00:00",
          "2015-09-01T00:00:00",
          "2015-09-08T00:00:00",
          "2015-09-15T00:00:00",
          "2015-09-22T00:00:00",
          "2015-09-29T00:00:00",
          "2015-10-06T00:00:00",
          "2015-10-13T00:00:00",
          "2015-10-20T00:00:00",
          "2015-10-27T00:00:00",
          "2015-11-03T00:00:00",
          "2015-11-10T00:00:00",
          "2015-11-17T00:00:00",
          "2015-11-24T00:00:00",
          "2015-12-01T00:00:00",
          "2015-12-08T00:00:00",
          "2015-12-15T00:00:00",
          "2015-12-22T00:00:00",
          "2015-12-29T00:00:00",
          "2016-01-05T00:00:00",
          "2016-01-12T00:00:00",
          "2016-01-19T00:00:00",
          "2016-01-26T00:00:00",
          "2016-02-02T00:00:00",
          "2016-02-09T00:00:00",
          "2016-02-16T00:00:00",
          "2016-02-23T00:00:00",
          "2016-03-01T00:00:00",
          "2016-03-08T00:00:00",
          "2016-03-15T00:00:00",
          "2016-03-22T00:00:00",
          "2016-03-29T00:00:00",
          "2016-04-05T00:00:00",
          "2016-04-12T00:00:00",
          "2016-04-19T00:00:00",
          "2016-04-26T00:00:00",
          "2016-05-03T00:00:00",
          "2016-05-10T00:00:00",
          "2016-05-17T00:00:00",
          "2016-05-24T00:00:00",
          "2016-05-31T00:00:00",
          "2016-06-07T00:00:00",
          "2016-06-14T00:00:00",
          "2016-06-21T00:00:00",
          "2016-06-28T00:00:00",
          "2016-07-05T00:00:00",
          "2016-07-12T00:00:00",
          "2016-07-19T00:00:00",
          "2016-07-26T00:00:00",
          "2016-08-02T00:00:00",
          "2016-08-09T00:00:00",
          "2016-08-16T00:00:00",
          "2016-08-23T00:00:00",
          "2016-08-30T00:00:00",
          "2016-09-06T00:00:00",
          "2016-09-13T00:00:00",
          "2016-09-20T00:00:00",
          "2016-09-27T00:00:00",
          "2016-10-04T00:00:00",
          "2016-10-11T00:00:00",
          "2016-10-18T00:00:00",
          "2016-10-25T00:00:00",
          "2016-11-01T00:00:00",
          "2016-11-08T00:00:00",
          "2016-11-15T00:00:00",
          "2016-11-22T00:00:00",
          "2016-11-29T00:00:00",
          "2016-12-06T00:00:00",
          "2016-12-13T00:00:00",
          "2016-12-20T00:00:00",
          "2016-12-27T00:00:00",
          "2017-01-03T00:00:00",
          "2017-01-10T00:00:00",
          "2017-01-17T00:00:00",
          "2017-01-24T00:00:00",
          "2017-01-31T00:00:00",
          "2017-02-07T00:00:00",
          "2017-02-14T00:00:00",
          "2017-02-21T00:00:00",
          "2017-02-28T00:00:00",
          "2017-03-07T00:00:00",
          "2017-03-14T00:00:00",
          "2017-03-21T00:00:00",
          "2017-03-28T00:00:00",
          "2017-04-04T00:00:00",
          "2017-04-11T00:00:00",
          "2017-04-18T00:00:00",
          "2017-04-25T00:00:00",
          "2017-05-02T00:00:00",
          "2017-05-09T00:00:00",
          "2017-05-16T00:00:00",
          "2017-05-23T00:00:00",
          "2017-05-30T00:00:00",
          "2017-06-06T00:00:00",
          "2017-06-13T00:00:00",
          "2017-06-20T00:00:00",
          "2017-06-27T00:00:00",
          "2017-07-04T00:00:00",
          "2017-07-11T00:00:00",
          "2017-07-18T00:00:00",
          "2017-07-25T00:00:00",
          "2017-08-01T00:00:00",
          "2017-08-08T00:00:00",
          "2017-08-15T00:00:00",
          "2017-08-22T00:00:00",
          "2017-08-29T00:00:00",
          "2017-09-05T00:00:00",
          "2017-09-12T00:00:00",
          "2017-09-19T00:00:00",
          "2017-09-26T00:00:00",
          "2017-10-03T00:00:00",
          "2017-10-10T00:00:00",
          "2017-10-17T00:00:00",
          "2017-10-24T00:00:00",
          "2017-10-31T00:00:00",
          "2017-11-07T00:00:00",
          "2017-11-14T00:00:00",
          "2017-11-21T00:00:00",
          "2017-11-28T00:00:00",
          "2017-12-05T00:00:00",
          "2017-12-12T00:00:00",
          "2017-12-19T00:00:00",
          "2017-12-26T00:00:00"
         ],
         "y": [
          12684,
          12663,
          12754,
          12726,
          13402,
          14275,
          14055,
          13983,
          15869,
          16798,
          16779,
          17124,
          17254,
          19746,
          19644,
          19917,
          19499,
          21169,
          21040,
          20967,
          21331,
          21742,
          22542,
          22623,
          22575,
          22962,
          23606,
          24273,
          24014,
          24071,
          21980,
          21090,
          20981,
          21148,
          20694,
          19817,
          19928,
          19764,
          19654,
          18494,
          18401,
          18317,
          18163,
          19033,
          19615,
          19525,
          20004,
          17958,
          14199,
          14103,
          13921,
          13926,
          14532,
          14547,
          14581,
          14684,
          15313,
          16372,
          16239,
          16214,
          17597,
          19288,
          19439,
          19352,
          19619,
          22781,
          22318,
          22751,
          22550,
          23964,
          24306,
          24363,
          24253,
          24758,
          25787,
          25821,
          26115,
          25942,
          27786,
          27546,
          27681,
          27675,
          25718,
          24515,
          24025,
          24448,
          24028,
          23059,
          22699,
          22832,
          22629,
          21245,
          21091,
          20859,
          21117,
          21792,
          22702,
          22897,
          22713,
          22064,
          16201,
          16390,
          16086,
          16234,
          15343,
          15291,
          15315,
          15127,
          15805,
          17002,
          16904,
          17225,
          17725,
          20313,
          20174,
          20128,
          20494,
          23103,
          23623,
          23670,
          23777,
          24830,
          25274,
          25498,
          25603,
          25775,
          26707,
          27064,
          27155,
          27222,
          28569,
          28900,
          28870,
          28657,
          27419,
          25271,
          25417,
          25348,
          25581,
          23527,
          23650,
          23922,
          23539,
          22291,
          21718,
          22334,
          21961,
          22461,
          24091,
          23872,
          23517,
          23705,
          16854,
          16902,
          17034,
          16727,
          16898,
          16441,
          16542,
          16612,
          16919,
          18130,
          18603,
          18536,
          18098,
          21946,
          21876,
          22178,
          22100,
          23748,
          25694,
          25719,
          25503,
          26081,
          27831,
          27475,
          27407,
          27495,
          29043,
          29440,
          28897,
          29324,
          30465,
          31204,
          30982,
          31185,
          30897,
          27389,
          27569,
          27897,
          27758,
          25872,
          25561,
          25606,
          25493,
          24878,
          23766,
          23953,
          24011,
          23807,
          25462,
          25514,
          25662,
          25759,
          20272,
          18394,
          18363,
          18250,
          18003,
          17130,
          17065,
          17134,
          17115,
          18845,
          19134,
          19019,
          19461,
          22410,
          22828,
          22545,
          22881,
          24443,
          26732,
          26459,
          26666,
          26928,
          28411,
          28873,
          28602,
          28555,
          29747,
          30511,
          30365,
          30760,
          31319,
          32048,
          32349,
          32544,
          32227,
          28586,
          28396,
          28534,
          28686,
          27670,
          26325,
          26617,
          26594,
          25811,
          24797,
          24853,
          25231,
          24794,
          26508,
          26862,
          26880,
          26710,
          22096,
          18986,
          18953,
          19120,
          16942
         ]
        },
        {
         "name": "Loja 9",
         "type": "scatter",
         "x": [
          "2013-01-01T00:00:00",
          "2013-01-08T00:00:00",
          "2013-01-15T00:00:00",
          "2013-01-22T00:00:00",
          "2013-01-29T00:00:00",
          "2013-02-05T00:00:00",
          "2013-02-12T00:00:00",
          "2013-02-19T00:00:00",
          "2013-02-26T00:00:00",
          "2013-03-05T00:00:00",
          "2013-03-12T00:00:00",
          "2013-03-19T00:00:00",
          "2013-03-26T00:00:00",
          "2013-04-02T00:00:00",
          "2013-04-09T00:00:00",
          "2013-04-16T00:00:00",
          "2013-04-23T00:00:00",
          "2013-04-30T00:00:00",
          "2013-05-07T00:00:00",
          "2013-05-14T00:00:00",
          "2013-05-21T00:00:00",
          "2013-05-28T00:00:00",
          "2013-06-04T00:00:00",
          "2013-06-11T00:00:00",
          "2013-06-18T00:00:00",
          "2013-06-25T00:00:00",
          "2013-07-02T00:00:00",
          "2013-07-09T00:00:00",
          "2013-07-16T00:00:00",
          "2013-07-23T00:00:00",
          "2013-07-30T00:00:00",
          "2013-08-06T00:00:00",
          "2013-08-13T00:00:00",
          "2013-08-20T00:00:00",
          "2013-08-27T00:00:00",
          "2013-09-03T00:00:00",
          "2013-09-10T00:00:00",
          "2013-09-17T00:00:00",
          "2013-09-24T00:00:00",
          "2013-10-01T00:00:00",
          "2013-10-08T00:00:00",
          "2013-10-15T00:00:00",
          "2013-10-22T00:00:00",
          "2013-10-29T00:00:00",
          "2013-11-05T00:00:00",
          "2013-11-12T00:00:00",
          "2013-11-19T00:00:00",
          "2013-11-26T00:00:00",
          "2013-12-03T00:00:00",
          "2013-12-10T00:00:00",
          "2013-12-17T00:00:00",
          "2013-12-24T00:00:00",
          "2013-12-31T00:00:00",
          "2014-01-07T00:00:00",
          "2014-01-14T00:00:00",
          "2014-01-21T00:00:00",
          "2014-01-28T00:00:00",
          "2014-02-04T00:00:00",
          "2014-02-11T00:00:00",
          "2014-02-18T00:00:00",
          "2014-02-25T00:00:00",
          "2014-03-04T00:00:00",
          "2014-03-11T00:00:00",
          "2014-03-18T00:00:00",
          "2014-03-25T00:00:00",
          "2014-04-01T00:00:00",
          "2014-04-08T00:00:00",
          "2014-04-15T00:00:00",
          "2014-04-22T00:00:00",
          "2014-04-29T00:00:00",
          "2014-05-06T00:00:00",
          "2014-05-13T00:00:00",
          "2014-05-20T00:00:00",
          "2014-05-27T00:00:00",
          "2014-06-03T00:00:00",
          "2014-06-10T00:00:00",
          "2014-06-17T00:00:00",
          "2014-06-24T00:00:00",
          "2014-07-01T00:00:00",
          "2014-07-08T00:00:00",
          "2014-07-15T00:00:00",
          "2014-07-22T00:00:00",
          "2014-07-29T00:00:00",
          "2014-08-05T00:00:00",
          "2014-08-12T00:00:00",
          "2014-08-19T00:00:00",
          "2014-08-26T00:00:00",
          "2014-09-02T00:00:00",
          "2014-09-09T00:00:00",
          "2014-09-16T00:00:00",
          "2014-09-23T00:00:00",
          "2014-09-30T00:00:00",
          "2014-10-07T00:00:00",
          "2014-10-14T00:00:00",
          "2014-10-21T00:00:00",
          "2014-10-28T00:00:00",
          "2014-11-04T00:00:00",
          "2014-11-11T00:00:00",
          "2014-11-18T00:00:00",
          "2014-11-25T00:00:00",
          "2014-12-02T00:00:00",
          "2014-12-09T00:00:00",
          "2014-12-16T00:00:00",
          "2014-12-23T00:00:00",
          "2014-12-30T00:00:00",
          "2015-01-06T00:00:00",
          "2015-01-13T00:00:00",
          "2015-01-20T00:00:00",
          "2015-01-27T00:00:00",
          "2015-02-03T00:00:00",
          "2015-02-10T00:00:00",
          "2015-02-17T00:00:00",
          "2015-02-24T00:00:00",
          "2015-03-03T00:00:00",
          "2015-03-10T00:00:00",
          "2015-03-17T00:00:00",
          "2015-03-24T00:00:00",
          "2015-03-31T00:00:00",
          "2015-04-07T00:00:00",
          "2015-04-14T00:00:00",
          "2015-04-21T00:00:00",
          "2015-04-28T00:00:00",
          "2015-05-05T00:00:00",
          "2015-05-12T00:00:00",
          "2015-05-19T00:00:00",
          "2015-05-26T00:00:00",
          "2015-06-02T00:00:00",
          "2015-06-09T00:00:00",
          "2015-06-16T00:00:00",
          "2015-06-23T00:00:00",
          "2015-06-30T00:00:00",
          "2015-07-07T00:00:00",
          "2015-07-14T00:00:00",
          "2015-07-21T00:00:00",
          "2015-07-28T00:00:00",
          "2015-08-04T00:00:00",
          "2015-08-11T00:00:00",
          "2015-08-18T00:00:00",
          "2015-08-25T00:00:00",
          "2015-09-01T00:00:00",
          "2015-09-08T00:00:00",
          "2015-09-15T00:00:00",
          "2015-09-22T00:00:00",
          "2015-09-29T00:00:00",
          "2015-10-06T00:00:00",
          "2015-10-13T00:00:00",
          "2015-10-20T00:00:00",
          "2015-10-27T00:00:00",
          "2015-11-03T00:00:00",
          "2015-11-10T00:00:00",
          "2015-11-17T00:00:00",
          "2015-11-24T00:00:00",
          "2015-12-01T00:00:00",
          "2015-12-08T00:00:00",
          "2015-12-15T00:00:00",
          "2015-12-22T00:00:00",
          "2015-12-29T00:00:00",
          "2016-01-05T00:00:00",
          "2016-01-12T00:00:00",
          "2016-01-19T00:00:00",
          "2016-01-26T00:00:00",
          "2016-02-02T00:00:00",
          "2016-02-09T00:00:00",
          "2016-02-16T00:00:00",
          "2016-02-23T00:00:00",
          "2016-03-01T00:00:00",
          "2016-03-08T00:00:00",
          "2016-03-15T00:00:00",
          "2016-03-22T00:00:00",
          "2016-03-29T00:00:00",
          "2016-04-05T00:00:00",
          "2016-04-12T00:00:00",
          "2016-04-19T00:00:00",
          "2016-04-26T00:00:00",
          "2016-05-03T00:00:00",
          "2016-05-10T00:00:00",
          "2016-05-17T00:00:00",
          "2016-05-24T00:00:00",
          "2016-05-31T00:00:00",
          "2016-06-07T00:00:00",
          "2016-06-14T00:00:00",
          "2016-06-21T00:00:00",
          "2016-06-28T00:00:00",
          "2016-07-05T00:00:00",
          "2016-07-12T00:00:00",
          "2016-07-19T00:00:00",
          "2016-07-26T00:00:00",
          "2016-08-02T00:00:00",
          "2016-08-09T00:00:00",
          "2016-08-16T00:00:00",
          "2016-08-23T00:00:00",
          "2016-08-30T00:00:00",
          "2016-09-06T00:00:00",
          "2016-09-13T00:00:00",
          "2016-09-20T00:00:00",
          "2016-09-27T00:00:00",
          "2016-10-04T00:00:00",
          "2016-10-11T00:00:00",
          "2016-10-18T00:00:00",
          "2016-10-25T00:00:00",
          "2016-11-01T00:00:00",
          "2016-11-08T00:00:00",
          "2016-11-15T00:00:00",
          "2016-11-22T00:00:00",
          "2016-11-29T00:00:00",
          "2016-12-06T00:00:00",
          "2016-12-13T00:00:00",
          "2016-12-20T00:00:00",
          "2016-12-27T00:00:00",
          "2017-01-03T00:00:00",
          "2017-01-10T00:00:00",
          "2017-01-17T00:00:00",
          "2017-01-24T00:00:00",
          "2017-01-31T00:00:00",
          "2017-02-07T00:00:00",
          "2017-02-14T00:00:00",
          "2017-02-21T00:00:00",
          "2017-02-28T00:00:00",
          "2017-03-07T00:00:00",
          "2017-03-14T00:00:00",
          "2017-03-21T00:00:00",
          "2017-03-28T00:00:00",
          "2017-04-04T00:00:00",
          "2017-04-11T00:00:00",
          "2017-04-18T00:00:00",
          "2017-04-25T00:00:00",
          "2017-05-02T00:00:00",
          "2017-05-09T00:00:00",
          "2017-05-16T00:00:00",
          "2017-05-23T00:00:00",
          "2017-05-30T00:00:00",
          "2017-06-06T00:00:00",
          "2017-06-13T00:00:00",
          "2017-06-20T00:00:00",
          "2017-06-27T00:00:00",
          "2017-07-04T00:00:00",
          "2017-07-11T00:00:00",
          "2017-07-18T00:00:00",
          "2017-07-25T00:00:00",
          "2017-08-01T00:00:00",
          "2017-08-08T00:00:00",
          "2017-08-15T00:00:00",
          "2017-08-22T00:00:00",
          "2017-08-29T00:00:00",
          "2017-09-05T00:00:00",
          "2017-09-12T00:00:00",
          "2017-09-19T00:00:00",
          "2017-09-26T00:00:00",
          "2017-10-03T00:00:00",
          "2017-10-10T00:00:00",
          "2017-10-17T00:00:00",
          "2017-10-24T00:00:00",
          "2017-10-31T00:00:00",
          "2017-11-07T00:00:00",
          "2017-11-14T00:00:00",
          "2017-11-21T00:00:00",
          "2017-11-28T00:00:00",
          "2017-12-05T00:00:00",
          "2017-12-12T00:00:00",
          "2017-12-19T00:00:00",
          "2017-12-26T00:00:00"
         ],
         "y": [
          10633,
          10869,
          10798,
          10957,
          11518,
          11987,
          12104,
          12095,
          13383,
          14483,
          14462,
          14529,
          14931,
          16798,
          16980,
          16878,
          16919,
          17942,
          18008,
          18141,
          18080,
          18538,
          19393,
          18935,
          19379,
          19646,
          20393,
          20644,
          20784,
          20681,
          18681,
          18179,
          18118,
          18156,
          17767,
          16903,
          17018,
          17182,
          16919,
          15608,
          15688,
          15728,
          15752,
          16499,
          16894,
          16951,
          17110,
          15578,
          12047,
          12254,
          12115,
          12185,
          12518,
          12414,
          12508,
          12556,
          13201,
          13866,
          13939,
          14132,
          15137,
          16794,
          16952,
          16573,
          16631,
          19237,
          19519,
          19459,
          19349,
          20609,
          20707,
          20930,
          20863,
          21312,
          22196,
          22477,
          22511,
          22271,
          23811,
          23525,
          23710,
          23436,
          21899,
          20831,
          20759,
          20822,
          20822,
          19457,
          19500,
          19661,
          19530,
          18080,
          17860,
          18064,
          17807,
          18668,
          19532,
          19334,
          19509,
          18864,
          13802,
          13766,
          14116,
          13858,
          13249,
          13151,
          12980,
          13164,
          13670,
          14543,
          14433,
          14452,
          15205,
          17230,
          17552,
          17459,
          17416,
          20109,
          20416,
          20411,
          20354,
          20900,
          21944,
          21953,
          21736,
          21921,
          23003,
          23121,
          23105,
          23585,
          24647,
          24676,
          24647,
          25076,
          23409,
          21995,
          21783,
          22009,
          21686,
          20412,
          20567,
          20392,
          20332,
          19368,
          18884,
          18847,
          18728,
          19504,
          20049,
          20649,
          20634,
          20328,
          14670,
          14513,
          14553,
          14454,
          14043,
          14103,
          14111,
          13977,
          14400,
          15759,
          15674,
          15830,
          15805,
          18935,
          18921,
          18861,
          18816,
          20701,
          22009,
          22134,
          22203,
          22623,
          23391,
          23464,
          23687,
          23708,
          24902,
          25451,
          25429,
          25248,
          25959,
          26985,
          26761,
          26852,
          26433,
          23808,
          23421,
          23723,
          23631,
          22657,
          21757,
          22008,
          22123,
          21192,
          20372,
          20489,
          20490,
          20434,
          22214,
          22072,
          21844,
          21992,
          17176,
          15746,
          15600,
          15629,
          15271,
          14859,
          14692,
          14893,
          15035,
          15969,
          16433,
          16440,
          16515,
          19054,
          19324,
          19535,
          19682,
          20955,
          22659,
          22778,
          22899,
          22949,
          24823,
          24492,
          24836,
          24375,
          25503,
          26048,
          26384,
          26168,
          27079,
          27634,
          27729,
          27740,
          27441,
          24566,
          24566,
          24693,
          24572,
          23448,
          23178,
          22767,
          22977,
          22443,
          21077,
          21285,
          21423,
          21320,
          22743,
          22993,
          23075,
          22766,
          19006,
          16284,
          16331,
          16442,
          14496
         ]
        },
        {
         "name": "Loja 10",
         "type": "scatter",
         "x": [
          "2013-01-01T00:00:00",
          "2013-01-08T00:00:00",
          "2013-01-15T00:00:00",
          "2013-01-22T00:00:00",
          "2013-01-29T00:00:00",
          "2013-02-05T00:00:00",
          "2013-02-12T00:00:00",
          "2013-02-19T00:00:00",
          "2013-02-26T00:00:00",
          "2013-03-05T00:00:00",
          "2013-03-12T00:00:00",
          "2013-03-19T00:00:00",
          "2013-03-26T00:00:00",
          "2013-04-02T00:00:00",
          "2013-04-09T00:00:00",
          "2013-04-16T00:00:00",
          "2013-04-23T00:00:00",
          "2013-04-30T00:00:00",
          "2013-05-07T00:00:00",
          "2013-05-14T00:00:00",
          "2013-05-21T00:00:00",
          "2013-05-28T00:00:00",
          "2013-06-04T00:00:00",
          "2013-06-11T00:00:00",
          "2013-06-18T00:00:00",
          "2013-06-25T00:00:00",
          "2013-07-02T00:00:00",
          "2013-07-09T00:00:00",
          "2013-07-16T00:00:00",
          "2013-07-23T00:00:00",
          "2013-07-30T00:00:00",
          "2013-08-06T00:00:00",
          "2013-08-13T00:00:00",
          "2013-08-20T00:00:00",
          "2013-08-27T00:00:00",
          "2013-09-03T00:00:00",
          "2013-09-10T00:00:00",
          "2013-09-17T00:00:00",
          "2013-09-24T00:00:00",
          "2013-10-01T00:00:00",
          "2013-10-08T00:00:00",
          "2013-10-15T00:00:00",
          "2013-10-22T00:00:00",
          "2013-10-29T00:00:00",
          "2013-11-05T00:00:00",
          "2013-11-12T00:00:00",
          "2013-11-19T00:00:00",
          "2013-11-26T00:00:00",
          "2013-12-03T00:00:00",
          "2013-12-10T00:00:00",
          "2013-12-17T00:00:00",
          "2013-12-24T00:00:00",
          "2013-12-31T00:00:00",
          "2014-01-07T00:00:00",
          "2014-01-14T00:00:00",
          "2014-01-21T00:00:00",
          "2014-01-28T00:00:00",
          "2014-02-04T00:00:00",
          "2014-02-11T00:00:00",
          "2014-02-18T00:00:00",
          "2014-02-25T00:00:00",
          "2014-03-04T00:00:00",
          "2014-03-11T00:00:00",
          "2014-03-18T00:00:00",
          "2014-03-25T00:00:00",
          "2014-04-01T00:00:00",
          "2014-04-08T00:00:00",
          "2014-04-15T00:00:00",
          "2014-04-22T00:00:00",
          "2014-04-29T00:00:00",
          "2014-05-06T00:00:00",
          "2014-05-13T00:00:00",
          "2014-05-20T00:00:00",
          "2014-05-27T00:00:00",
          "2014-06-03T00:00:00",
          "2014-06-10T00:00:00",
          "2014-06-17T00:00:00",
          "2014-06-24T00:00:00",
          "2014-07-01T00:00:00",
          "2014-07-08T00:00:00",
          "2014-07-15T00:00:00",
          "2014-07-22T00:00:00",
          "2014-07-29T00:00:00",
          "2014-08-05T00:00:00",
          "2014-08-12T00:00:00",
          "2014-08-19T00:00:00",
          "2014-08-26T00:00:00",
          "2014-09-02T00:00:00",
          "2014-09-09T00:00:00",
          "2014-09-16T00:00:00",
          "2014-09-23T00:00:00",
          "2014-09-30T00:00:00",
          "2014-10-07T00:00:00",
          "2014-10-14T00:00:00",
          "2014-10-21T00:00:00",
          "2014-10-28T00:00:00",
          "2014-11-04T00:00:00",
          "2014-11-11T00:00:00",
          "2014-11-18T00:00:00",
          "2014-11-25T00:00:00",
          "2014-12-02T00:00:00",
          "2014-12-09T00:00:00",
          "2014-12-16T00:00:00",
          "2014-12-23T00:00:00",
          "2014-12-30T00:00:00",
          "2015-01-06T00:00:00",
          "2015-01-13T00:00:00",
          "2015-01-20T00:00:00",
          "2015-01-27T00:00:00",
          "2015-02-03T00:00:00",
          "2015-02-10T00:00:00",
          "2015-02-17T00:00:00",
          "2015-02-24T00:00:00",
          "2015-03-03T00:00:00",
          "2015-03-10T00:00:00",
          "2015-03-17T00:00:00",
          "2015-03-24T00:00:00",
          "2015-03-31T00:00:00",
          "2015-04-07T00:00:00",
          "2015-04-14T00:00:00",
          "2015-04-21T00:00:00",
          "2015-04-28T00:00:00",
          "2015-05-05T00:00:00",
          "2015-05-12T00:00:00",
          "2015-05-19T00:00:00",
          "2015-05-26T00:00:00",
          "2015-06-02T00:00:00",
          "2015-06-09T00:00:00",
          "2015-06-16T00:00:00",
          "2015-06-23T00:00:00",
          "2015-06-30T00:00:00",
          "2015-07-07T00:00:00",
          "2015-07-14T00:00:00",
          "2015-07-21T00:00:00",
          "2015-07-28T00:00:00",
          "2015-08-04T00:00:00",
          "2015-08-11T00:00:00",
          "2015-08-18T00:00:00",
          "2015-08-25T00:00:00",
          "2015-09-01T00:00:00",
          "2015-09-08T00:00:00",
          "2015-09-15T00:00:00",
          "2015-09-22T00:00:00",
          "2015-09-29T00:00:00",
          "2015-10-06T00:00:00",
          "2015-10-13T00:00:00",
          "2015-10-20T00:00:00",
          "2015-10-27T00:00:00",
          "2015-11-03T00:00:00",
          "2015-11-10T00:00:00",
          "2015-11-17T00:00:00",
          "2015-11-24T00:00:00",
          "2015-12-01T00:00:00",
          "2015-12-08T00:00:00",
          "2015-12-15T00:00:00",
          "2015-12-22T00:00:00",
          "2015-12-29T00:00:00",
          "2016-01-05T00:00:00",
          "2016-01-12T00:00:00",
          "2016-01-19T00:00:00",
          "2016-01-26T00:00:00",
          "2016-02-02T00:00:00",
          "2016-02-09T00:00:00",
          "2016-02-16T00:00:00",
          "2016-02-23T00:00:00",
          "2016-03-01T00:00:00",
          "2016-03-08T00:00:00",
          "2016-03-15T00:00:00",
          "2016-03-22T00:00:00",
          "2016-03-29T00:00:00",
          "2016-04-05T00:00:00",
          "2016-04-12T00:00:00",
          "2016-04-19T00:00:00",
          "2016-04-26T00:00:00",
          "2016-05-03T00:00:00",
          "2016-05-10T00:00:00",
          "2016-05-17T00:00:00",
          "2016-05-24T00:00:00",
          "2016-05-31T00:00:00",
          "2016-06-07T00:00:00",
          "2016-06-14T00:00:00",
          "2016-06-21T00:00:00",
          "2016-06-28T00:00:00",
          "2016-07-05T00:00:00",
          "2016-07-12T00:00:00",
          "2016-07-19T00:00:00",
          "2016-07-26T00:00:00",
          "2016-08-02T00:00:00",
          "2016-08-09T00:00:00",
          "2016-08-16T00:00:00",
          "2016-08-23T00:00:00",
          "2016-08-30T00:00:00",
          "2016-09-06T00:00:00",
          "2016-09-13T00:00:00",
          "2016-09-20T00:00:00",
          "2016-09-27T00:00:00",
          "2016-10-04T00:00:00",
          "2016-10-11T00:00:00",
          "2016-10-18T00:00:00",
          "2016-10-25T00:00:00",
          "2016-11-01T00:00:00",
          "2016-11-08T00:00:00",
          "2016-11-15T00:00:00",
          "2016-11-22T00:00:00",
          "2016-11-29T00:00:00",
          "2016-12-06T00:00:00",
          "2016-12-13T00:00:00",
          "2016-12-20T00:00:00",
          "2016-12-27T00:00:00",
          "2017-01-03T00:00:00",
          "2017-01-10T00:00:00",
          "2017-01-17T00:00:00",
          "2017-01-24T00:00:00",
          "2017-01-31T00:00:00",
          "2017-02-07T00:00:00",
          "2017-02-14T00:00:00",
          "2017-02-21T00:00:00",
          "2017-02-28T00:00:00",
          "2017-03-07T00:00:00",
          "2017-03-14T00:00:00",
          "2017-03-21T00:00:00",
          "2017-03-28T00:00:00",
          "2017-04-04T00:00:00",
          "2017-04-11T00:00:00",
          "2017-04-18T00:00:00",
          "2017-04-25T00:00:00",
          "2017-05-02T00:00:00",
          "2017-05-09T00:00:00",
          "2017-05-16T00:00:00",
          "2017-05-23T00:00:00",
          "2017-05-30T00:00:00",
          "2017-06-06T00:00:00",
          "2017-06-13T00:00:00",
          "2017-06-20T00:00:00",
          "2017-06-27T00:00:00",
          "2017-07-04T00:00:00",
          "2017-07-11T00:00:00",
          "2017-07-18T00:00:00",
          "2017-07-25T00:00:00",
          "2017-08-01T00:00:00",
          "2017-08-08T00:00:00",
          "2017-08-15T00:00:00",
          "2017-08-22T00:00:00",
          "2017-08-29T00:00:00",
          "2017-09-05T00:00:00",
          "2017-09-12T00:00:00",
          "2017-09-19T00:00:00",
          "2017-09-26T00:00:00",
          "2017-10-03T00:00:00",
          "2017-10-10T00:00:00",
          "2017-10-17T00:00:00",
          "2017-10-24T00:00:00",
          "2017-10-31T00:00:00",
          "2017-11-07T00:00:00",
          "2017-11-14T00:00:00",
          "2017-11-21T00:00:00",
          "2017-11-28T00:00:00",
          "2017-12-05T00:00:00",
          "2017-12-12T00:00:00",
          "2017-12-19T00:00:00",
          "2017-12-26T00:00:00"
         ],
         "y": [
          11516,
          11634,
          11558,
          11618,
          12448,
          12791,
          12879,
          13051,
          14400,
          15492,
          15359,
          15478,
          15830,
          18146,
          18132,
          18018,
          18027,
          19388,
          19617,
          19282,
          19545,
          20002,
          20723,
          20508,
          20542,
          20779,
          22310,
          21973,
          22053,
          22144,
          20115,
          19288,
          19281,
          19078,
          19156,
          18093,
          17829,
          18005,
          18130,
          16770,
          16866,
          16713,
          16587,
          17611,
          18097,
          18073,
          18104,
          16669,
          12991,
          12984,
          13004,
          12920,
          13276,
          13147,
          13332,
          13255,
          14136,
          14970,
          14889,
          14798,
          16282,
          17961,
          17622,
          17771,
          17717,
          20666,
          20871,
          20831,
          20787,
          21986,
          21934,
          22544,
          22020,
          22449,
          23866,
          23870,
          23659,
          23761,
          25556,
          25164,
          25553,
          25281,
          23640,
          22268,
          22375,
          22067,
          21912,
          20667,
          20993,
          20972,
          20715,
          19465,
          19179,
          19274,
          19244,
          20090,
          20514,
          20956,
          20671,
          20157,
          14956,
          14761,
          14887,
          14868,
          14119,
          13892,
          13911,
          13865,
          14216,
          15815,
          15298,
          15495,
          16581,
          18538,
          18487,
          18741,
          18517,
          21239,
          21691,
          21352,
          21536,
          22387,
          23524,
          23396,
          23487,
          23507,
          24952,
          24841,
          24759,
          24798,
          26192,
          26324,
          25976,
          26149,
          25022,
          23292,
          23328,
          23353,
          23391,
          21621,
          21618,
          21597,
          21713,
          20644,
          20094,
          20189,
          20349,
          20734,
          21735,
          21563,
          21635,
          21869,
          15319,
          15481,
          15405,
          15592,
          15338,
          15150,
          15234,
          15225,
          15336,
          16769,
          16666,
          16572,
          16720,
          20064,
          20075,
          20283,
          20128,
          22228,
          23517,
          23439,
          23587,
          24060,
          24979,
          25308,
          25470,
          25067,
          26734,
          26855,
          26850,
          26772,
          27919,
          28378,
          28543,
          28399,
          28291,
          25197,
          25180,
          25518,
          25235,
          23877,
          23293,
          23127,
          23479,
          23130,
          21898,
          21935,
          22127,
          21526,
          23412,
          23463,
          23593,
          23548,
          18437,
          16854,
          16732,
          16719,
          16376,
          15601,
          15785,
          15583,
          15862,
          17194,
          17502,
          17210,
          17360,
          20407,
          21019,
          20852,
          20995,
          22709,
          24290,
          24314,
          24514,
          24834,
          26175,
          26169,
          26323,
          25971,
          27118,
          27717,
          27719,
          27812,
          28479,
          29441,
          29580,
          29780,
          29824,
          26197,
          26149,
          26333,
          26093,
          25219,
          24368,
          24477,
          24196,
          23725,
          22801,
          22789,
          22545,
          22649,
          24242,
          24255,
          24290,
          23948,
          20203,
          17479,
          17494,
          17302,
          15332
         ]
        }
       ],
       "layout": {
        "autosize": false,
        "height": 400,
        "template": {
         "data": {
          "bar": [
           {
            "error_x": {
             "color": "#2a3f5f"
            },
            "error_y": {
             "color": "#2a3f5f"
            },
            "marker": {
             "line": {
              "color": "#E5ECF6",
              "width": 0.5
             },
             "pattern": {
              "fillmode": "overlay",
              "size": 10,
              "solidity": 0.2
             }
            },
            "type": "bar"
           }
          ],
          "barpolar": [
           {
            "marker": {
             "line": {
              "color": "#E5ECF6",
              "width": 0.5
             },
             "pattern": {
              "fillmode": "overlay",
              "size": 10,
              "solidity": 0.2
             }
            },
            "type": "barpolar"
           }
          ],
          "carpet": [
           {
            "aaxis": {
             "endlinecolor": "#2a3f5f",
             "gridcolor": "white",
             "linecolor": "white",
             "minorgridcolor": "white",
             "startlinecolor": "#2a3f5f"
            },
            "baxis": {
             "endlinecolor": "#2a3f5f",
             "gridcolor": "white",
             "linecolor": "white",
             "minorgridcolor": "white",
             "startlinecolor": "#2a3f5f"
            },
            "type": "carpet"
           }
          ],
          "choropleth": [
           {
            "colorbar": {
             "outlinewidth": 0,
             "ticks": ""
            },
            "type": "choropleth"
           }
          ],
          "contour": [
           {
            "colorbar": {
             "outlinewidth": 0,
             "ticks": ""
            },
            "colorscale": [
             [
              0,
              "#0d0887"
             ],
             [
              0.1111111111111111,
              "#46039f"
             ],
             [
              0.2222222222222222,
              "#7201a8"
             ],
             [
              0.3333333333333333,
              "#9c179e"
             ],
             [
              0.4444444444444444,
              "#bd3786"
             ],
             [
              0.5555555555555556,
              "#d8576b"
             ],
             [
              0.6666666666666666,
              "#ed7953"
             ],
             [
              0.7777777777777778,
              "#fb9f3a"
             ],
             [
              0.8888888888888888,
              "#fdca26"
             ],
             [
              1,
              "#f0f921"
             ]
            ],
            "type": "contour"
           }
          ],
          "contourcarpet": [
           {
            "colorbar": {
             "outlinewidth": 0,
             "ticks": ""
            },
            "type": "contourcarpet"
           }
          ],
          "heatmap": [
           {
            "colorbar": {
             "outlinewidth": 0,
             "ticks": ""
            },
            "colorscale": [
             [
              0,
              "#0d0887"
             ],
             [
              0.1111111111111111,
              "#46039f"
             ],
             [
              0.2222222222222222,
              "#7201a8"
             ],
             [
              0.3333333333333333,
              "#9c179e"
             ],
             [
              0.4444444444444444,
              "#bd3786"
             ],
             [
              0.5555555555555556,
              "#d8576b"
             ],
             [
              0.6666666666666666,
              "#ed7953"
             ],
             [
              0.7777777777777778,
              "#fb9f3a"
             ],
             [
              0.8888888888888888,
              "#fdca26"
             ],
             [
              1,
              "#f0f921"
             ]
            ],
            "type": "heatmap"
           }
          ],
          "heatmapgl": [
           {
            "colorbar": {
             "outlinewidth": 0,
             "ticks": ""
            },
            "colorscale": [
             [
              0,
              "#0d0887"
             ],
             [
              0.1111111111111111,
              "#46039f"
             ],
             [
              0.2222222222222222,
              "#7201a8"
             ],
             [
              0.3333333333333333,
              "#9c179e"
             ],
             [
              0.4444444444444444,
              "#bd3786"
             ],
             [
              0.5555555555555556,
              "#d8576b"
             ],
             [
              0.6666666666666666,
              "#ed7953"
             ],
             [
              0.7777777777777778,
              "#fb9f3a"
             ],
             [
              0.8888888888888888,
              "#fdca26"
             ],
             [
              1,
              "#f0f921"
             ]
            ],
            "type": "heatmapgl"
           }
          ],
          "histogram": [
           {
            "marker": {
             "pattern": {
              "fillmode": "overlay",
              "size": 10,
              "solidity": 0.2
             }
            },
            "type": "histogram"
           }
          ],
          "histogram2d": [
           {
            "colorbar": {
             "outlinewidth": 0,
             "ticks": ""
            },
            "colorscale": [
             [
              0,
              "#0d0887"
             ],
             [
              0.1111111111111111,
              "#46039f"
             ],
             [
              0.2222222222222222,
              "#7201a8"
             ],
             [
              0.3333333333333333,
              "#9c179e"
             ],
             [
              0.4444444444444444,
              "#bd3786"
             ],
             [
              0.5555555555555556,
              "#d8576b"
             ],
             [
              0.6666666666666666,
              "#ed7953"
             ],
             [
              0.7777777777777778,
              "#fb9f3a"
             ],
             [
              0.8888888888888888,
              "#fdca26"
             ],
             [
              1,
              "#f0f921"
             ]
            ],
            "type": "histogram2d"
           }
          ],
          "histogram2dcontour": [
           {
            "colorbar": {
             "outlinewidth": 0,
             "ticks": ""
            },
            "colorscale": [
             [
              0,
              "#0d0887"
             ],
             [
              0.1111111111111111,
              "#46039f"
             ],
             [
              0.2222222222222222,
              "#7201a8"
             ],
             [
              0.3333333333333333,
              "#9c179e"
             ],
             [
              0.4444444444444444,
              "#bd3786"
             ],
             [
              0.5555555555555556,
              "#d8576b"
             ],
             [
              0.6666666666666666,
              "#ed7953"
             ],
             [
              0.7777777777777778,
              "#fb9f3a"
             ],
             [
              0.8888888888888888,
              "#fdca26"
             ],
             [
              1,
              "#f0f921"
             ]
            ],
            "type": "histogram2dcontour"
           }
          ],
          "mesh3d": [
           {
            "colorbar": {
             "outlinewidth": 0,
             "ticks": ""
            },
            "type": "mesh3d"
           }
          ],
          "parcoords": [
           {
            "line": {
             "colorbar": {
              "outlinewidth": 0,
              "ticks": ""
             }
            },
            "type": "parcoords"
           }
          ],
          "pie": [
           {
            "automargin": true,
            "type": "pie"
           }
          ],
          "scatter": [
           {
            "fillpattern": {
             "fillmode": "overlay",
             "size": 10,
             "solidity": 0.2
            },
            "type": "scatter"
           }
          ],
          "scatter3d": [
           {
            "line": {
             "colorbar": {
              "outlinewidth": 0,
              "ticks": ""
             }
            },
            "marker": {
             "colorbar": {
              "outlinewidth": 0,
              "ticks": ""
             }
            },
            "type": "scatter3d"
           }
          ],
          "scattercarpet": [
           {
            "marker": {
             "colorbar": {
              "outlinewidth": 0,
              "ticks": ""
             }
            },
            "type": "scattercarpet"
           }
          ],
          "scattergeo": [
           {
            "marker": {
             "colorbar": {
              "outlinewidth": 0,
              "ticks": ""
             }
            },
            "type": "scattergeo"
           }
          ],
          "scattergl": [
           {
            "marker": {
             "colorbar": {
              "outlinewidth": 0,
              "ticks": ""
             }
            },
            "type": "scattergl"
           }
          ],
          "scattermapbox": [
           {
            "marker": {
             "colorbar": {
              "outlinewidth": 0,
              "ticks": ""
             }
            },
            "type": "scattermapbox"
           }
          ],
          "scatterpolar": [
           {
            "marker": {
             "colorbar": {
              "outlinewidth": 0,
              "ticks": ""
             }
            },
            "type": "scatterpolar"
           }
          ],
          "scatterpolargl": [
           {
            "marker": {
             "colorbar": {
              "outlinewidth": 0,
              "ticks": ""
             }
            },
            "type": "scatterpolargl"
           }
          ],
          "scatterternary": [
           {
            "marker": {
             "colorbar": {
              "outlinewidth": 0,
              "ticks": ""
             }
            },
            "type": "scatterternary"
           }
          ],
          "surface": [
           {
            "colorbar": {
             "outlinewidth": 0,
             "ticks": ""
            },
            "colorscale": [
             [
              0,
              "#0d0887"
             ],
             [
              0.1111111111111111,
              "#46039f"
             ],
             [
              0.2222222222222222,
              "#7201a8"
             ],
             [
              0.3333333333333333,
              "#9c179e"
             ],
             [
              0.4444444444444444,
              "#bd3786"
             ],
             [
              0.5555555555555556,
              "#d8576b"
             ],
             [
              0.6666666666666666,
              "#ed7953"
             ],
             [
              0.7777777777777778,
              "#fb9f3a"
             ],
             [
              0.8888888888888888,
              "#fdca26"
             ],
             [
              1,
              "#f0f921"
             ]
            ],
            "type": "surface"
           }
          ],
          "table": [
           {
            "cells": {
             "fill": {
              "color": "#EBF0F8"
             },
             "line": {
              "color": "white"
             }
            },
            "header": {
             "fill": {
              "color": "#C8D4E3"
             },
             "line": {
              "color": "white"
             }
            },
            "type": "table"
           }
          ]
         },
         "layout": {
          "annotationdefaults": {
           "arrowcolor": "#2a3f5f",
           "arrowhead": 0,
           "arrowwidth": 1
          },
          "autotypenumbers": "strict",
          "coloraxis": {
           "colorbar": {
            "outlinewidth": 0,
            "ticks": ""
           }
          },
          "colorscale": {
           "diverging": [
            [
             0,
             "#8e0152"
            ],
            [
             0.1,
             "#c51b7d"
            ],
            [
             0.2,
             "#de77ae"
            ],
            [
             0.3,
             "#f1b6da"
            ],
            [
             0.4,
             "#fde0ef"
            ],
            [
             0.5,
             "#f7f7f7"
            ],
            [
             0.6,
             "#e6f5d0"
            ],
            [
             0.7,
             "#b8e186"
            ],
            [
             0.8,
             "#7fbc41"
            ],
            [
             0.9,
             "#4d9221"
            ],
            [
             1,
             "#276419"
            ]
           ],
           "sequential": [
            [
             0,
             "#0d0887"
            ],
            [
             0.1111111111111111,
             "#46039f"
            ],
            [
             0.2222222222222222,
             "#7201a8"
            ],
            [
             0.3333333333333333,
             "#9c179e"
            ],
            [
             0.4444444444444444,
             "#bd3786"
            ],
            [
             0.5555555555555556,
             "#d8576b"
            ],
            [
             0.6666666666666666,
             "#ed7953"
            ],
            [
             0.7777777777777778,
             "#fb9f3a"
            ],
            [
             0.8888888888888888,
             "#fdca26"
            ],
            [
             1,
             "#f0f921"
            ]
           ],
           "sequentialminus": [
            [
             0,
             "#0d0887"
            ],
            [
             0.1111111111111111,
             "#46039f"
            ],
            [
             0.2222222222222222,
             "#7201a8"
            ],
            [
             0.3333333333333333,
             "#9c179e"
            ],
            [
             0.4444444444444444,
             "#bd3786"
            ],
            [
             0.5555555555555556,
             "#d8576b"
            ],
            [
             0.6666666666666666,
             "#ed7953"
            ],
            [
             0.7777777777777778,
             "#fb9f3a"
            ],
            [
             0.8888888888888888,
             "#fdca26"
            ],
            [
             1,
             "#f0f921"
            ]
           ]
          },
          "colorway": [
           "#636efa",
           "#EF553B",
           "#00cc96",
           "#ab63fa",
           "#FFA15A",
           "#19d3f3",
           "#FF6692",
           "#B6E880",
           "#FF97FF",
           "#FECB52"
          ],
          "font": {
           "color": "#2a3f5f"
          },
          "geo": {
           "bgcolor": "white",
           "lakecolor": "white",
           "landcolor": "#E5ECF6",
           "showlakes": true,
           "showland": true,
           "subunitcolor": "white"
          },
          "hoverlabel": {
           "align": "left"
          },
          "hovermode": "closest",
          "mapbox": {
           "style": "light"
          },
          "paper_bgcolor": "white",
          "plot_bgcolor": "#E5ECF6",
          "polar": {
           "angularaxis": {
            "gridcolor": "white",
            "linecolor": "white",
            "ticks": ""
           },
           "bgcolor": "#E5ECF6",
           "radialaxis": {
            "gridcolor": "white",
            "linecolor": "white",
            "ticks": ""
           }
          },
          "scene": {
           "xaxis": {
            "backgroundcolor": "#E5ECF6",
            "gridcolor": "white",
            "gridwidth": 2,
            "linecolor": "white",
            "showbackground": true,
            "ticks": "",
            "zerolinecolor": "white"
           },
           "yaxis": {
            "backgroundcolor": "#E5ECF6",
            "gridcolor": "white",
            "gridwidth": 2,
            "linecolor": "white",
            "showbackground": true,
            "ticks": "",
            "zerolinecolor": "white"
           },
           "zaxis": {
            "backgroundcolor": "#E5ECF6",
            "gridcolor": "white",
            "gridwidth": 2,
            "linecolor": "white",
            "showbackground": true,
            "ticks": "",
            "zerolinecolor": "white"
           }
          },
          "shapedefaults": {
           "line": {
            "color": "#2a3f5f"
           }
          },
          "ternary": {
           "aaxis": {
            "gridcolor": "white",
            "linecolor": "white",
            "ticks": ""
           },
           "baxis": {
            "gridcolor": "white",
            "linecolor": "white",
            "ticks": ""
           },
           "bgcolor": "#E5ECF6",
           "caxis": {
            "gridcolor": "white",
            "linecolor": "white",
            "ticks": ""
           }
          },
          "title": {
           "x": 0.05
          },
          "xaxis": {
           "automargin": true,
           "gridcolor": "white",
           "linecolor": "white",
           "ticks": "",
           "title": {
            "standoff": 15
           },
           "zerolinecolor": "white",
           "zerolinewidth": 2
          },
          "yaxis": {
           "automargin": true,
           "gridcolor": "white",
           "linecolor": "white",
           "ticks": "",
           "title": {
            "standoff": 15
           },
           "zerolinecolor": "white",
           "zerolinewidth": 2
          }
         }
        },
        "title": {
         "text": "<span>Vendas totais de produtos por semana ao longo do tempo</span>"
        },
        "width": 1300,
        "xaxis": {
         "title": {
          "text": "<span>Período</span>"
         }
        },
        "yaxis": {
         "title": {
          "text": "<span>Quantidade de vendas</span>"
         }
        }
       }
      }
     },
     "metadata": {},
     "output_type": "display_data"
    }
   ],
   "source": [
    "fig = go.Figure()\n",
    "\n",
    "for i in range(df_week.shape[1]):\n",
    "    fig.add_trace(go.Scatter(\n",
    "        x=df_week.index,\n",
    "        y=df_week[('sales',  i + 1)],\n",
    "        name='Loja ' + str(i + 1)\n",
    "    ))\n",
    "\n",
    "fig.update_layout(\n",
    "    title='<span>Vendas totais de produtos por semana ao longo do tempo</span>', \n",
    "    autosize=False,\n",
    "    width=1300,\n",
    "    height=400,\n",
    "    xaxis=dict(title='<span>Período</span>'),\n",
    "    yaxis=dict(title='<span>Quantidade de vendas</span>')\n",
    ")\n",
    "fig.show()\n"
   ]
  },
  {
   "cell_type": "code",
   "execution_count": 302,
   "metadata": {},
   "outputs": [
    {
     "name": "stderr",
     "output_type": "stream",
     "text": [
      "C:\\Users\\krupc\\AppData\\Local\\Temp/ipykernel_13720/1958817440.py:2: FutureWarning:\n",
      "\n",
      "Indexing with multiple keys (implicitly converted to a tuple of keys) will be deprecated, use a list instead.\n",
      "\n"
     ]
    },
    {
     "data": {
      "application/vnd.plotly.v1+json": {
       "config": {
        "plotlyServerURL": "https://plot.ly"
       },
       "data": [
        {
         "type": "scatter",
         "x": [
          "2013-01-01",
          "2013-01-02",
          "2013-01-03",
          "2013-01-04",
          "2013-01-05",
          "2013-01-06",
          "2013-01-07",
          "2013-01-08",
          "2013-01-09",
          "2013-01-10",
          "2013-01-11",
          "2013-01-12",
          "2013-01-13",
          "2013-01-14",
          "2013-01-15",
          "2013-01-16",
          "2013-01-17",
          "2013-01-18",
          "2013-01-19",
          "2013-01-20",
          "2013-01-21",
          "2013-01-22",
          "2013-01-23",
          "2013-01-24",
          "2013-01-25",
          "2013-01-26",
          "2013-01-27",
          "2013-01-28",
          "2013-01-29",
          "2013-01-30",
          "2013-01-31",
          "2013-02-01",
          "2013-02-02",
          "2013-02-03",
          "2013-02-04",
          "2013-02-05",
          "2013-02-06",
          "2013-02-07",
          "2013-02-08",
          "2013-02-09",
          "2013-02-10",
          "2013-02-11",
          "2013-02-12",
          "2013-02-13",
          "2013-02-14",
          "2013-02-15",
          "2013-02-16",
          "2013-02-17",
          "2013-02-18",
          "2013-02-19",
          "2013-02-20",
          "2013-02-21",
          "2013-02-22",
          "2013-02-23",
          "2013-02-24",
          "2013-02-25",
          "2013-02-26",
          "2013-02-27",
          "2013-02-28",
          "2013-03-01",
          "2013-03-02",
          "2013-03-03",
          "2013-03-04",
          "2013-03-05",
          "2013-03-06",
          "2013-03-07",
          "2013-03-08",
          "2013-03-09",
          "2013-03-10",
          "2013-03-11",
          "2013-03-12",
          "2013-03-13",
          "2013-03-14",
          "2013-03-15",
          "2013-03-16",
          "2013-03-17",
          "2013-03-18",
          "2013-03-19",
          "2013-03-20",
          "2013-03-21",
          "2013-03-22",
          "2013-03-23",
          "2013-03-24",
          "2013-03-25",
          "2013-03-26",
          "2013-03-27",
          "2013-03-28",
          "2013-03-29",
          "2013-03-30",
          "2013-03-31",
          "2013-04-01",
          "2013-04-02",
          "2013-04-03",
          "2013-04-04",
          "2013-04-05",
          "2013-04-06",
          "2013-04-07",
          "2013-04-08",
          "2013-04-09",
          "2013-04-10",
          "2013-04-11",
          "2013-04-12",
          "2013-04-13",
          "2013-04-14",
          "2013-04-15",
          "2013-04-16",
          "2013-04-17",
          "2013-04-18",
          "2013-04-19",
          "2013-04-20",
          "2013-04-21",
          "2013-04-22",
          "2013-04-23",
          "2013-04-24",
          "2013-04-25",
          "2013-04-26",
          "2013-04-27",
          "2013-04-28",
          "2013-04-29",
          "2013-04-30",
          "2013-05-01",
          "2013-05-02",
          "2013-05-03",
          "2013-05-04",
          "2013-05-05",
          "2013-05-06",
          "2013-05-07",
          "2013-05-08",
          "2013-05-09",
          "2013-05-10",
          "2013-05-11",
          "2013-05-12",
          "2013-05-13",
          "2013-05-14",
          "2013-05-15",
          "2013-05-16",
          "2013-05-17",
          "2013-05-18",
          "2013-05-19",
          "2013-05-20",
          "2013-05-21",
          "2013-05-22",
          "2013-05-23",
          "2013-05-24",
          "2013-05-25",
          "2013-05-26",
          "2013-05-27",
          "2013-05-28",
          "2013-05-29",
          "2013-05-30",
          "2013-05-31",
          "2013-06-01",
          "2013-06-02",
          "2013-06-03",
          "2013-06-04",
          "2013-06-05",
          "2013-06-06",
          "2013-06-07",
          "2013-06-08",
          "2013-06-09",
          "2013-06-10",
          "2013-06-11",
          "2013-06-12",
          "2013-06-13",
          "2013-06-14",
          "2013-06-15",
          "2013-06-16",
          "2013-06-17",
          "2013-06-18",
          "2013-06-19",
          "2013-06-20",
          "2013-06-21",
          "2013-06-22",
          "2013-06-23",
          "2013-06-24",
          "2013-06-25",
          "2013-06-26",
          "2013-06-27",
          "2013-06-28",
          "2013-06-29",
          "2013-06-30",
          "2013-07-01",
          "2013-07-02",
          "2013-07-03",
          "2013-07-04",
          "2013-07-05",
          "2013-07-06",
          "2013-07-07",
          "2013-07-08",
          "2013-07-09",
          "2013-07-10",
          "2013-07-11",
          "2013-07-12",
          "2013-07-13",
          "2013-07-14",
          "2013-07-15",
          "2013-07-16",
          "2013-07-17",
          "2013-07-18",
          "2013-07-19",
          "2013-07-20",
          "2013-07-21",
          "2013-07-22",
          "2013-07-23",
          "2013-07-24",
          "2013-07-25",
          "2013-07-26",
          "2013-07-27",
          "2013-07-28",
          "2013-07-29",
          "2013-07-30",
          "2013-07-31",
          "2013-08-01",
          "2013-08-02",
          "2013-08-03",
          "2013-08-04",
          "2013-08-05",
          "2013-08-06",
          "2013-08-07",
          "2013-08-08",
          "2013-08-09",
          "2013-08-10",
          "2013-08-11",
          "2013-08-12",
          "2013-08-13",
          "2013-08-14",
          "2013-08-15",
          "2013-08-16",
          "2013-08-17",
          "2013-08-18",
          "2013-08-19",
          "2013-08-20",
          "2013-08-21",
          "2013-08-22",
          "2013-08-23",
          "2013-08-24",
          "2013-08-25",
          "2013-08-26",
          "2013-08-27",
          "2013-08-28",
          "2013-08-29",
          "2013-08-30",
          "2013-08-31",
          "2013-09-01",
          "2013-09-02",
          "2013-09-03",
          "2013-09-04",
          "2013-09-05",
          "2013-09-06",
          "2013-09-07",
          "2013-09-08",
          "2013-09-09",
          "2013-09-10",
          "2013-09-11",
          "2013-09-12",
          "2013-09-13",
          "2013-09-14",
          "2013-09-15",
          "2013-09-16",
          "2013-09-17",
          "2013-09-18",
          "2013-09-19",
          "2013-09-20",
          "2013-09-21",
          "2013-09-22",
          "2013-09-23",
          "2013-09-24",
          "2013-09-25",
          "2013-09-26",
          "2013-09-27",
          "2013-09-28",
          "2013-09-29",
          "2013-09-30",
          "2013-10-01",
          "2013-10-02",
          "2013-10-03",
          "2013-10-04",
          "2013-10-05",
          "2013-10-06",
          "2013-10-07",
          "2013-10-08",
          "2013-10-09",
          "2013-10-10",
          "2013-10-11",
          "2013-10-12",
          "2013-10-13",
          "2013-10-14",
          "2013-10-15",
          "2013-10-16",
          "2013-10-17",
          "2013-10-18",
          "2013-10-19",
          "2013-10-20",
          "2013-10-21",
          "2013-10-22",
          "2013-10-23",
          "2013-10-24",
          "2013-10-25",
          "2013-10-26",
          "2013-10-27",
          "2013-10-28",
          "2013-10-29",
          "2013-10-30",
          "2013-10-31",
          "2013-11-01",
          "2013-11-02",
          "2013-11-03",
          "2013-11-04",
          "2013-11-05",
          "2013-11-06",
          "2013-11-07",
          "2013-11-08",
          "2013-11-09",
          "2013-11-10",
          "2013-11-11",
          "2013-11-12",
          "2013-11-13",
          "2013-11-14",
          "2013-11-15",
          "2013-11-16",
          "2013-11-17",
          "2013-11-18",
          "2013-11-19",
          "2013-11-20",
          "2013-11-21",
          "2013-11-22",
          "2013-11-23",
          "2013-11-24",
          "2013-11-25",
          "2013-11-26",
          "2013-11-27",
          "2013-11-28",
          "2013-11-29",
          "2013-11-30",
          "2013-12-01",
          "2013-12-02",
          "2013-12-03",
          "2013-12-04",
          "2013-12-05",
          "2013-12-06",
          "2013-12-07",
          "2013-12-08",
          "2013-12-09",
          "2013-12-10",
          "2013-12-11",
          "2013-12-12",
          "2013-12-13",
          "2013-12-14",
          "2013-12-15",
          "2013-12-16",
          "2013-12-17",
          "2013-12-18",
          "2013-12-19",
          "2013-12-20",
          "2013-12-21",
          "2013-12-22",
          "2013-12-23",
          "2013-12-24",
          "2013-12-25",
          "2013-12-26",
          "2013-12-27",
          "2013-12-28",
          "2013-12-29",
          "2013-12-30",
          "2013-12-31",
          "2014-01-01",
          "2014-01-02",
          "2014-01-03",
          "2014-01-04",
          "2014-01-05",
          "2014-01-06",
          "2014-01-07",
          "2014-01-08",
          "2014-01-09",
          "2014-01-10",
          "2014-01-11",
          "2014-01-12",
          "2014-01-13",
          "2014-01-14",
          "2014-01-15",
          "2014-01-16",
          "2014-01-17",
          "2014-01-18",
          "2014-01-19",
          "2014-01-20",
          "2014-01-21",
          "2014-01-22",
          "2014-01-23",
          "2014-01-24",
          "2014-01-25",
          "2014-01-26",
          "2014-01-27",
          "2014-01-28",
          "2014-01-29",
          "2014-01-30",
          "2014-01-31",
          "2014-02-01",
          "2014-02-02",
          "2014-02-03",
          "2014-02-04",
          "2014-02-05",
          "2014-02-06",
          "2014-02-07",
          "2014-02-08",
          "2014-02-09",
          "2014-02-10",
          "2014-02-11",
          "2014-02-12",
          "2014-02-13",
          "2014-02-14",
          "2014-02-15",
          "2014-02-16",
          "2014-02-17",
          "2014-02-18",
          "2014-02-19",
          "2014-02-20",
          "2014-02-21",
          "2014-02-22",
          "2014-02-23",
          "2014-02-24",
          "2014-02-25",
          "2014-02-26",
          "2014-02-27",
          "2014-02-28",
          "2014-03-01",
          "2014-03-02",
          "2014-03-03",
          "2014-03-04",
          "2014-03-05",
          "2014-03-06",
          "2014-03-07",
          "2014-03-08",
          "2014-03-09",
          "2014-03-10",
          "2014-03-11",
          "2014-03-12",
          "2014-03-13",
          "2014-03-14",
          "2014-03-15",
          "2014-03-16",
          "2014-03-17",
          "2014-03-18",
          "2014-03-19",
          "2014-03-20",
          "2014-03-21",
          "2014-03-22",
          "2014-03-23",
          "2014-03-24",
          "2014-03-25",
          "2014-03-26",
          "2014-03-27",
          "2014-03-28",
          "2014-03-29",
          "2014-03-30",
          "2014-03-31",
          "2014-04-01",
          "2014-04-02",
          "2014-04-03",
          "2014-04-04",
          "2014-04-05",
          "2014-04-06",
          "2014-04-07",
          "2014-04-08",
          "2014-04-09",
          "2014-04-10",
          "2014-04-11",
          "2014-04-12",
          "2014-04-13",
          "2014-04-14",
          "2014-04-15",
          "2014-04-16",
          "2014-04-17",
          "2014-04-18",
          "2014-04-19",
          "2014-04-20",
          "2014-04-21",
          "2014-04-22",
          "2014-04-23",
          "2014-04-24",
          "2014-04-25",
          "2014-04-26",
          "2014-04-27",
          "2014-04-28",
          "2014-04-29",
          "2014-04-30",
          "2014-05-01",
          "2014-05-02",
          "2014-05-03",
          "2014-05-04",
          "2014-05-05",
          "2014-05-06",
          "2014-05-07",
          "2014-05-08",
          "2014-05-09",
          "2014-05-10",
          "2014-05-11",
          "2014-05-12",
          "2014-05-13",
          "2014-05-14",
          "2014-05-15",
          "2014-05-16",
          "2014-05-17",
          "2014-05-18",
          "2014-05-19",
          "2014-05-20",
          "2014-05-21",
          "2014-05-22",
          "2014-05-23",
          "2014-05-24",
          "2014-05-25",
          "2014-05-26",
          "2014-05-27",
          "2014-05-28",
          "2014-05-29",
          "2014-05-30",
          "2014-05-31",
          "2014-06-01",
          "2014-06-02",
          "2014-06-03",
          "2014-06-04",
          "2014-06-05",
          "2014-06-06",
          "2014-06-07",
          "2014-06-08",
          "2014-06-09",
          "2014-06-10",
          "2014-06-11",
          "2014-06-12",
          "2014-06-13",
          "2014-06-14",
          "2014-06-15",
          "2014-06-16",
          "2014-06-17",
          "2014-06-18",
          "2014-06-19",
          "2014-06-20",
          "2014-06-21",
          "2014-06-22",
          "2014-06-23",
          "2014-06-24",
          "2014-06-25",
          "2014-06-26",
          "2014-06-27",
          "2014-06-28",
          "2014-06-29",
          "2014-06-30",
          "2014-07-01",
          "2014-07-02",
          "2014-07-03",
          "2014-07-04",
          "2014-07-05",
          "2014-07-06",
          "2014-07-07",
          "2014-07-08",
          "2014-07-09",
          "2014-07-10",
          "2014-07-11",
          "2014-07-12",
          "2014-07-13",
          "2014-07-14",
          "2014-07-15",
          "2014-07-16",
          "2014-07-17",
          "2014-07-18",
          "2014-07-19",
          "2014-07-20",
          "2014-07-21",
          "2014-07-22",
          "2014-07-23",
          "2014-07-24",
          "2014-07-25",
          "2014-07-26",
          "2014-07-27",
          "2014-07-28",
          "2014-07-29",
          "2014-07-30",
          "2014-07-31",
          "2014-08-01",
          "2014-08-02",
          "2014-08-03",
          "2014-08-04",
          "2014-08-05",
          "2014-08-06",
          "2014-08-07",
          "2014-08-08",
          "2014-08-09",
          "2014-08-10",
          "2014-08-11",
          "2014-08-12",
          "2014-08-13",
          "2014-08-14",
          "2014-08-15",
          "2014-08-16",
          "2014-08-17",
          "2014-08-18",
          "2014-08-19",
          "2014-08-20",
          "2014-08-21",
          "2014-08-22",
          "2014-08-23",
          "2014-08-24",
          "2014-08-25",
          "2014-08-26",
          "2014-08-27",
          "2014-08-28",
          "2014-08-29",
          "2014-08-30",
          "2014-08-31",
          "2014-09-01",
          "2014-09-02",
          "2014-09-03",
          "2014-09-04",
          "2014-09-05",
          "2014-09-06",
          "2014-09-07",
          "2014-09-08",
          "2014-09-09",
          "2014-09-10",
          "2014-09-11",
          "2014-09-12",
          "2014-09-13",
          "2014-09-14",
          "2014-09-15",
          "2014-09-16",
          "2014-09-17",
          "2014-09-18",
          "2014-09-19",
          "2014-09-20",
          "2014-09-21",
          "2014-09-22",
          "2014-09-23",
          "2014-09-24",
          "2014-09-25",
          "2014-09-26",
          "2014-09-27",
          "2014-09-28",
          "2014-09-29",
          "2014-09-30",
          "2014-10-01",
          "2014-10-02",
          "2014-10-03",
          "2014-10-04",
          "2014-10-05",
          "2014-10-06",
          "2014-10-07",
          "2014-10-08",
          "2014-10-09",
          "2014-10-10",
          "2014-10-11",
          "2014-10-12",
          "2014-10-13",
          "2014-10-14",
          "2014-10-15",
          "2014-10-16",
          "2014-10-17",
          "2014-10-18",
          "2014-10-19",
          "2014-10-20",
          "2014-10-21",
          "2014-10-22",
          "2014-10-23",
          "2014-10-24",
          "2014-10-25",
          "2014-10-26",
          "2014-10-27",
          "2014-10-28",
          "2014-10-29",
          "2014-10-30",
          "2014-10-31",
          "2014-11-01",
          "2014-11-02",
          "2014-11-03",
          "2014-11-04",
          "2014-11-05",
          "2014-11-06",
          "2014-11-07",
          "2014-11-08",
          "2014-11-09",
          "2014-11-10",
          "2014-11-11",
          "2014-11-12",
          "2014-11-13",
          "2014-11-14",
          "2014-11-15",
          "2014-11-16",
          "2014-11-17",
          "2014-11-18",
          "2014-11-19",
          "2014-11-20",
          "2014-11-21",
          "2014-11-22",
          "2014-11-23",
          "2014-11-24",
          "2014-11-25",
          "2014-11-26",
          "2014-11-27",
          "2014-11-28",
          "2014-11-29",
          "2014-11-30",
          "2014-12-01",
          "2014-12-02",
          "2014-12-03",
          "2014-12-04",
          "2014-12-05",
          "2014-12-06",
          "2014-12-07",
          "2014-12-08",
          "2014-12-09",
          "2014-12-10",
          "2014-12-11",
          "2014-12-12",
          "2014-12-13",
          "2014-12-14",
          "2014-12-15",
          "2014-12-16",
          "2014-12-17",
          "2014-12-18",
          "2014-12-19",
          "2014-12-20",
          "2014-12-21",
          "2014-12-22",
          "2014-12-23",
          "2014-12-24",
          "2014-12-25",
          "2014-12-26",
          "2014-12-27",
          "2014-12-28",
          "2014-12-29",
          "2014-12-30",
          "2014-12-31",
          "2015-01-01",
          "2015-01-02",
          "2015-01-03",
          "2015-01-04",
          "2015-01-05",
          "2015-01-06",
          "2015-01-07",
          "2015-01-08",
          "2015-01-09",
          "2015-01-10",
          "2015-01-11",
          "2015-01-12",
          "2015-01-13",
          "2015-01-14",
          "2015-01-15",
          "2015-01-16",
          "2015-01-17",
          "2015-01-18",
          "2015-01-19",
          "2015-01-20",
          "2015-01-21",
          "2015-01-22",
          "2015-01-23",
          "2015-01-24",
          "2015-01-25",
          "2015-01-26",
          "2015-01-27",
          "2015-01-28",
          "2015-01-29",
          "2015-01-30",
          "2015-01-31",
          "2015-02-01",
          "2015-02-02",
          "2015-02-03",
          "2015-02-04",
          "2015-02-05",
          "2015-02-06",
          "2015-02-07",
          "2015-02-08",
          "2015-02-09",
          "2015-02-10",
          "2015-02-11",
          "2015-02-12",
          "2015-02-13",
          "2015-02-14",
          "2015-02-15",
          "2015-02-16",
          "2015-02-17",
          "2015-02-18",
          "2015-02-19",
          "2015-02-20",
          "2015-02-21",
          "2015-02-22",
          "2015-02-23",
          "2015-02-24",
          "2015-02-25",
          "2015-02-26",
          "2015-02-27",
          "2015-02-28",
          "2015-03-01",
          "2015-03-02",
          "2015-03-03",
          "2015-03-04",
          "2015-03-05",
          "2015-03-06",
          "2015-03-07",
          "2015-03-08",
          "2015-03-09",
          "2015-03-10",
          "2015-03-11",
          "2015-03-12",
          "2015-03-13",
          "2015-03-14",
          "2015-03-15",
          "2015-03-16",
          "2015-03-17",
          "2015-03-18",
          "2015-03-19",
          "2015-03-20",
          "2015-03-21",
          "2015-03-22",
          "2015-03-23",
          "2015-03-24",
          "2015-03-25",
          "2015-03-26",
          "2015-03-27",
          "2015-03-28",
          "2015-03-29",
          "2015-03-30",
          "2015-03-31",
          "2015-04-01",
          "2015-04-02",
          "2015-04-03",
          "2015-04-04",
          "2015-04-05",
          "2015-04-06",
          "2015-04-07",
          "2015-04-08",
          "2015-04-09",
          "2015-04-10",
          "2015-04-11",
          "2015-04-12",
          "2015-04-13",
          "2015-04-14",
          "2015-04-15",
          "2015-04-16",
          "2015-04-17",
          "2015-04-18",
          "2015-04-19",
          "2015-04-20",
          "2015-04-21",
          "2015-04-22",
          "2015-04-23",
          "2015-04-24",
          "2015-04-25",
          "2015-04-26",
          "2015-04-27",
          "2015-04-28",
          "2015-04-29",
          "2015-04-30",
          "2015-05-01",
          "2015-05-02",
          "2015-05-03",
          "2015-05-04",
          "2015-05-05",
          "2015-05-06",
          "2015-05-07",
          "2015-05-08",
          "2015-05-09",
          "2015-05-10",
          "2015-05-11",
          "2015-05-12",
          "2015-05-13",
          "2015-05-14",
          "2015-05-15",
          "2015-05-16",
          "2015-05-17",
          "2015-05-18",
          "2015-05-19",
          "2015-05-20",
          "2015-05-21",
          "2015-05-22",
          "2015-05-23",
          "2015-05-24",
          "2015-05-25",
          "2015-05-26",
          "2015-05-27",
          "2015-05-28",
          "2015-05-29",
          "2015-05-30",
          "2015-05-31",
          "2015-06-01",
          "2015-06-02",
          "2015-06-03",
          "2015-06-04",
          "2015-06-05",
          "2015-06-06",
          "2015-06-07",
          "2015-06-08",
          "2015-06-09",
          "2015-06-10",
          "2015-06-11",
          "2015-06-12",
          "2015-06-13",
          "2015-06-14",
          "2015-06-15",
          "2015-06-16",
          "2015-06-17",
          "2015-06-18",
          "2015-06-19",
          "2015-06-20",
          "2015-06-21",
          "2015-06-22",
          "2015-06-23",
          "2015-06-24",
          "2015-06-25",
          "2015-06-26",
          "2015-06-27",
          "2015-06-28",
          "2015-06-29",
          "2015-06-30",
          "2015-07-01",
          "2015-07-02",
          "2015-07-03",
          "2015-07-04",
          "2015-07-05",
          "2015-07-06",
          "2015-07-07",
          "2015-07-08",
          "2015-07-09",
          "2015-07-10",
          "2015-07-11",
          "2015-07-12",
          "2015-07-13",
          "2015-07-14",
          "2015-07-15",
          "2015-07-16",
          "2015-07-17",
          "2015-07-18",
          "2015-07-19",
          "2015-07-20",
          "2015-07-21",
          "2015-07-22",
          "2015-07-23",
          "2015-07-24",
          "2015-07-25",
          "2015-07-26",
          "2015-07-27",
          "2015-07-28",
          "2015-07-29",
          "2015-07-30",
          "2015-07-31",
          "2015-08-01",
          "2015-08-02",
          "2015-08-03",
          "2015-08-04",
          "2015-08-05",
          "2015-08-06",
          "2015-08-07",
          "2015-08-08",
          "2015-08-09",
          "2015-08-10",
          "2015-08-11",
          "2015-08-12",
          "2015-08-13",
          "2015-08-14",
          "2015-08-15",
          "2015-08-16",
          "2015-08-17",
          "2015-08-18",
          "2015-08-19",
          "2015-08-20",
          "2015-08-21",
          "2015-08-22",
          "2015-08-23",
          "2015-08-24",
          "2015-08-25",
          "2015-08-26",
          "2015-08-27",
          "2015-08-28",
          "2015-08-29",
          "2015-08-30",
          "2015-08-31",
          "2015-09-01",
          "2015-09-02",
          "2015-09-03",
          "2015-09-04",
          "2015-09-05",
          "2015-09-06",
          "2015-09-07",
          "2015-09-08",
          "2015-09-09",
          "2015-09-10",
          "2015-09-11",
          "2015-09-12",
          "2015-09-13",
          "2015-09-14",
          "2015-09-15",
          "2015-09-16",
          "2015-09-17",
          "2015-09-18",
          "2015-09-19",
          "2015-09-20",
          "2015-09-21",
          "2015-09-22",
          "2015-09-23",
          "2015-09-24",
          "2015-09-25",
          "2015-09-26",
          "2015-09-27",
          "2015-09-28",
          "2015-09-29",
          "2015-09-30",
          "2015-10-01",
          "2015-10-02",
          "2015-10-03",
          "2015-10-04",
          "2015-10-05",
          "2015-10-06",
          "2015-10-07",
          "2015-10-08",
          "2015-10-09",
          "2015-10-10",
          "2015-10-11",
          "2015-10-12",
          "2015-10-13",
          "2015-10-14",
          "2015-10-15",
          "2015-10-16",
          "2015-10-17",
          "2015-10-18",
          "2015-10-19",
          "2015-10-20",
          "2015-10-21",
          "2015-10-22",
          "2015-10-23",
          "2015-10-24",
          "2015-10-25",
          "2015-10-26",
          "2015-10-27",
          "2015-10-28",
          "2015-10-29",
          "2015-10-30",
          "2015-10-31",
          "2015-11-01",
          "2015-11-02",
          "2015-11-03",
          "2015-11-04",
          "2015-11-05",
          "2015-11-06",
          "2015-11-07",
          "2015-11-08",
          "2015-11-09",
          "2015-11-10",
          "2015-11-11",
          "2015-11-12",
          "2015-11-13",
          "2015-11-14",
          "2015-11-15",
          "2015-11-16",
          "2015-11-17",
          "2015-11-18",
          "2015-11-19",
          "2015-11-20",
          "2015-11-21",
          "2015-11-22",
          "2015-11-23",
          "2015-11-24",
          "2015-11-25",
          "2015-11-26",
          "2015-11-27",
          "2015-11-28",
          "2015-11-29",
          "2015-11-30",
          "2015-12-01",
          "2015-12-02",
          "2015-12-03",
          "2015-12-04",
          "2015-12-05",
          "2015-12-06",
          "2015-12-07",
          "2015-12-08",
          "2015-12-09",
          "2015-12-10",
          "2015-12-11",
          "2015-12-12",
          "2015-12-13",
          "2015-12-14",
          "2015-12-15",
          "2015-12-16",
          "2015-12-17",
          "2015-12-18",
          "2015-12-19",
          "2015-12-20",
          "2015-12-21",
          "2015-12-22",
          "2015-12-23",
          "2015-12-24",
          "2015-12-25",
          "2015-12-26",
          "2015-12-27",
          "2015-12-28",
          "2015-12-29",
          "2015-12-30",
          "2015-12-31",
          "2016-01-01",
          "2016-01-02",
          "2016-01-03",
          "2016-01-04",
          "2016-01-05",
          "2016-01-06",
          "2016-01-07",
          "2016-01-08",
          "2016-01-09",
          "2016-01-10",
          "2016-01-11",
          "2016-01-12",
          "2016-01-13",
          "2016-01-14",
          "2016-01-15",
          "2016-01-16",
          "2016-01-17",
          "2016-01-18",
          "2016-01-19",
          "2016-01-20",
          "2016-01-21",
          "2016-01-22",
          "2016-01-23",
          "2016-01-24",
          "2016-01-25",
          "2016-01-26",
          "2016-01-27",
          "2016-01-28",
          "2016-01-29",
          "2016-01-30",
          "2016-01-31",
          "2016-02-01",
          "2016-02-02",
          "2016-02-03",
          "2016-02-04",
          "2016-02-05",
          "2016-02-06",
          "2016-02-07",
          "2016-02-08",
          "2016-02-09",
          "2016-02-10",
          "2016-02-11",
          "2016-02-12",
          "2016-02-13",
          "2016-02-14",
          "2016-02-15",
          "2016-02-16",
          "2016-02-17",
          "2016-02-18",
          "2016-02-19",
          "2016-02-20",
          "2016-02-21",
          "2016-02-22",
          "2016-02-23",
          "2016-02-24",
          "2016-02-25",
          "2016-02-26",
          "2016-02-27",
          "2016-02-28",
          "2016-02-29",
          "2016-03-01",
          "2016-03-02",
          "2016-03-03",
          "2016-03-04",
          "2016-03-05",
          "2016-03-06",
          "2016-03-07",
          "2016-03-08",
          "2016-03-09",
          "2016-03-10",
          "2016-03-11",
          "2016-03-12",
          "2016-03-13",
          "2016-03-14",
          "2016-03-15",
          "2016-03-16",
          "2016-03-17",
          "2016-03-18",
          "2016-03-19",
          "2016-03-20",
          "2016-03-21",
          "2016-03-22",
          "2016-03-23",
          "2016-03-24",
          "2016-03-25",
          "2016-03-26",
          "2016-03-27",
          "2016-03-28",
          "2016-03-29",
          "2016-03-30",
          "2016-03-31",
          "2016-04-01",
          "2016-04-02",
          "2016-04-03",
          "2016-04-04",
          "2016-04-05",
          "2016-04-06",
          "2016-04-07",
          "2016-04-08",
          "2016-04-09",
          "2016-04-10",
          "2016-04-11",
          "2016-04-12",
          "2016-04-13",
          "2016-04-14",
          "2016-04-15",
          "2016-04-16",
          "2016-04-17",
          "2016-04-18",
          "2016-04-19",
          "2016-04-20",
          "2016-04-21",
          "2016-04-22",
          "2016-04-23",
          "2016-04-24",
          "2016-04-25",
          "2016-04-26",
          "2016-04-27",
          "2016-04-28",
          "2016-04-29",
          "2016-04-30",
          "2016-05-01",
          "2016-05-02",
          "2016-05-03",
          "2016-05-04",
          "2016-05-05",
          "2016-05-06",
          "2016-05-07",
          "2016-05-08",
          "2016-05-09",
          "2016-05-10",
          "2016-05-11",
          "2016-05-12",
          "2016-05-13",
          "2016-05-14",
          "2016-05-15",
          "2016-05-16",
          "2016-05-17",
          "2016-05-18",
          "2016-05-19",
          "2016-05-20",
          "2016-05-21",
          "2016-05-22",
          "2016-05-23",
          "2016-05-24",
          "2016-05-25",
          "2016-05-26",
          "2016-05-27",
          "2016-05-28",
          "2016-05-29",
          "2016-05-30",
          "2016-05-31",
          "2016-06-01",
          "2016-06-02",
          "2016-06-03",
          "2016-06-04",
          "2016-06-05",
          "2016-06-06",
          "2016-06-07",
          "2016-06-08",
          "2016-06-09",
          "2016-06-10",
          "2016-06-11",
          "2016-06-12",
          "2016-06-13",
          "2016-06-14",
          "2016-06-15",
          "2016-06-16",
          "2016-06-17",
          "2016-06-18",
          "2016-06-19",
          "2016-06-20",
          "2016-06-21",
          "2016-06-22",
          "2016-06-23",
          "2016-06-24",
          "2016-06-25",
          "2016-06-26",
          "2016-06-27",
          "2016-06-28",
          "2016-06-29",
          "2016-06-30",
          "2016-07-01",
          "2016-07-02",
          "2016-07-03",
          "2016-07-04",
          "2016-07-05",
          "2016-07-06",
          "2016-07-07",
          "2016-07-08",
          "2016-07-09",
          "2016-07-10",
          "2016-07-11",
          "2016-07-12",
          "2016-07-13",
          "2016-07-14",
          "2016-07-15",
          "2016-07-16",
          "2016-07-17",
          "2016-07-18",
          "2016-07-19",
          "2016-07-20",
          "2016-07-21",
          "2016-07-22",
          "2016-07-23",
          "2016-07-24",
          "2016-07-25",
          "2016-07-26",
          "2016-07-27",
          "2016-07-28",
          "2016-07-29",
          "2016-07-30",
          "2016-07-31",
          "2016-08-01",
          "2016-08-02",
          "2016-08-03",
          "2016-08-04",
          "2016-08-05",
          "2016-08-06",
          "2016-08-07",
          "2016-08-08",
          "2016-08-09",
          "2016-08-10",
          "2016-08-11",
          "2016-08-12",
          "2016-08-13",
          "2016-08-14",
          "2016-08-15",
          "2016-08-16",
          "2016-08-17",
          "2016-08-18",
          "2016-08-19",
          "2016-08-20",
          "2016-08-21",
          "2016-08-22",
          "2016-08-23",
          "2016-08-24",
          "2016-08-25",
          "2016-08-26",
          "2016-08-27",
          "2016-08-28",
          "2016-08-29",
          "2016-08-30",
          "2016-08-31",
          "2016-09-01",
          "2016-09-02",
          "2016-09-03",
          "2016-09-04",
          "2016-09-05",
          "2016-09-06",
          "2016-09-07",
          "2016-09-08",
          "2016-09-09",
          "2016-09-10",
          "2016-09-11",
          "2016-09-12",
          "2016-09-13",
          "2016-09-14",
          "2016-09-15",
          "2016-09-16",
          "2016-09-17",
          "2016-09-18",
          "2016-09-19",
          "2016-09-20",
          "2016-09-21",
          "2016-09-22",
          "2016-09-23",
          "2016-09-24",
          "2016-09-25",
          "2016-09-26",
          "2016-09-27",
          "2016-09-28",
          "2016-09-29",
          "2016-09-30",
          "2016-10-01",
          "2016-10-02",
          "2016-10-03",
          "2016-10-04",
          "2016-10-05",
          "2016-10-06",
          "2016-10-07",
          "2016-10-08",
          "2016-10-09",
          "2016-10-10",
          "2016-10-11",
          "2016-10-12",
          "2016-10-13",
          "2016-10-14",
          "2016-10-15",
          "2016-10-16",
          "2016-10-17",
          "2016-10-18",
          "2016-10-19",
          "2016-10-20",
          "2016-10-21",
          "2016-10-22",
          "2016-10-23",
          "2016-10-24",
          "2016-10-25",
          "2016-10-26",
          "2016-10-27",
          "2016-10-28",
          "2016-10-29",
          "2016-10-30",
          "2016-10-31",
          "2016-11-01",
          "2016-11-02",
          "2016-11-03",
          "2016-11-04",
          "2016-11-05",
          "2016-11-06",
          "2016-11-07",
          "2016-11-08",
          "2016-11-09",
          "2016-11-10",
          "2016-11-11",
          "2016-11-12",
          "2016-11-13",
          "2016-11-14",
          "2016-11-15",
          "2016-11-16",
          "2016-11-17",
          "2016-11-18",
          "2016-11-19",
          "2016-11-20",
          "2016-11-21",
          "2016-11-22",
          "2016-11-23",
          "2016-11-24",
          "2016-11-25",
          "2016-11-26",
          "2016-11-27",
          "2016-11-28",
          "2016-11-29",
          "2016-11-30",
          "2016-12-01",
          "2016-12-02",
          "2016-12-03",
          "2016-12-04",
          "2016-12-05",
          "2016-12-06",
          "2016-12-07",
          "2016-12-08",
          "2016-12-09",
          "2016-12-10",
          "2016-12-11",
          "2016-12-12",
          "2016-12-13",
          "2016-12-14",
          "2016-12-15",
          "2016-12-16",
          "2016-12-17",
          "2016-12-18",
          "2016-12-19",
          "2016-12-20",
          "2016-12-21",
          "2016-12-22",
          "2016-12-23",
          "2016-12-24",
          "2016-12-25",
          "2016-12-26",
          "2016-12-27",
          "2016-12-28",
          "2016-12-29",
          "2016-12-30",
          "2016-12-31",
          "2017-01-01",
          "2017-01-02",
          "2017-01-03",
          "2017-01-04",
          "2017-01-05",
          "2017-01-06",
          "2017-01-07",
          "2017-01-08",
          "2017-01-09",
          "2017-01-10",
          "2017-01-11",
          "2017-01-12",
          "2017-01-13",
          "2017-01-14",
          "2017-01-15",
          "2017-01-16",
          "2017-01-17",
          "2017-01-18",
          "2017-01-19",
          "2017-01-20",
          "2017-01-21",
          "2017-01-22",
          "2017-01-23",
          "2017-01-24",
          "2017-01-25",
          "2017-01-26",
          "2017-01-27",
          "2017-01-28",
          "2017-01-29",
          "2017-01-30",
          "2017-01-31",
          "2017-02-01",
          "2017-02-02",
          "2017-02-03",
          "2017-02-04",
          "2017-02-05",
          "2017-02-06",
          "2017-02-07",
          "2017-02-08",
          "2017-02-09",
          "2017-02-10",
          "2017-02-11",
          "2017-02-12",
          "2017-02-13",
          "2017-02-14",
          "2017-02-15",
          "2017-02-16",
          "2017-02-17",
          "2017-02-18",
          "2017-02-19",
          "2017-02-20",
          "2017-02-21",
          "2017-02-22",
          "2017-02-23",
          "2017-02-24",
          "2017-02-25",
          "2017-02-26",
          "2017-02-27",
          "2017-02-28",
          "2017-03-01",
          "2017-03-02",
          "2017-03-03",
          "2017-03-04",
          "2017-03-05",
          "2017-03-06",
          "2017-03-07",
          "2017-03-08",
          "2017-03-09",
          "2017-03-10",
          "2017-03-11",
          "2017-03-12",
          "2017-03-13",
          "2017-03-14",
          "2017-03-15",
          "2017-03-16",
          "2017-03-17",
          "2017-03-18",
          "2017-03-19",
          "2017-03-20",
          "2017-03-21",
          "2017-03-22",
          "2017-03-23",
          "2017-03-24",
          "2017-03-25",
          "2017-03-26",
          "2017-03-27",
          "2017-03-28",
          "2017-03-29",
          "2017-03-30",
          "2017-03-31",
          "2017-04-01",
          "2017-04-02",
          "2017-04-03",
          "2017-04-04",
          "2017-04-05",
          "2017-04-06",
          "2017-04-07",
          "2017-04-08",
          "2017-04-09",
          "2017-04-10",
          "2017-04-11",
          "2017-04-12",
          "2017-04-13",
          "2017-04-14",
          "2017-04-15",
          "2017-04-16",
          "2017-04-17",
          "2017-04-18",
          "2017-04-19",
          "2017-04-20",
          "2017-04-21",
          "2017-04-22",
          "2017-04-23",
          "2017-04-24",
          "2017-04-25",
          "2017-04-26",
          "2017-04-27",
          "2017-04-28",
          "2017-04-29",
          "2017-04-30",
          "2017-05-01",
          "2017-05-02",
          "2017-05-03",
          "2017-05-04",
          "2017-05-05",
          "2017-05-06",
          "2017-05-07",
          "2017-05-08",
          "2017-05-09",
          "2017-05-10",
          "2017-05-11",
          "2017-05-12",
          "2017-05-13",
          "2017-05-14",
          "2017-05-15",
          "2017-05-16",
          "2017-05-17",
          "2017-05-18",
          "2017-05-19",
          "2017-05-20",
          "2017-05-21",
          "2017-05-22",
          "2017-05-23",
          "2017-05-24",
          "2017-05-25",
          "2017-05-26",
          "2017-05-27",
          "2017-05-28",
          "2017-05-29",
          "2017-05-30",
          "2017-05-31",
          "2017-06-01",
          "2017-06-02",
          "2017-06-03",
          "2017-06-04",
          "2017-06-05",
          "2017-06-06",
          "2017-06-07",
          "2017-06-08",
          "2017-06-09",
          "2017-06-10",
          "2017-06-11",
          "2017-06-12",
          "2017-06-13",
          "2017-06-14",
          "2017-06-15",
          "2017-06-16",
          "2017-06-17",
          "2017-06-18",
          "2017-06-19",
          "2017-06-20",
          "2017-06-21",
          "2017-06-22",
          "2017-06-23",
          "2017-06-24",
          "2017-06-25",
          "2017-06-26",
          "2017-06-27",
          "2017-06-28",
          "2017-06-29",
          "2017-06-30",
          "2017-07-01",
          "2017-07-02",
          "2017-07-03",
          "2017-07-04",
          "2017-07-05",
          "2017-07-06",
          "2017-07-07",
          "2017-07-08",
          "2017-07-09",
          "2017-07-10",
          "2017-07-11",
          "2017-07-12",
          "2017-07-13",
          "2017-07-14",
          "2017-07-15",
          "2017-07-16",
          "2017-07-17",
          "2017-07-18",
          "2017-07-19",
          "2017-07-20",
          "2017-07-21",
          "2017-07-22",
          "2017-07-23",
          "2017-07-24",
          "2017-07-25",
          "2017-07-26",
          "2017-07-27",
          "2017-07-28",
          "2017-07-29",
          "2017-07-30",
          "2017-07-31",
          "2017-08-01",
          "2017-08-02",
          "2017-08-03",
          "2017-08-04",
          "2017-08-05",
          "2017-08-06",
          "2017-08-07",
          "2017-08-08",
          "2017-08-09",
          "2017-08-10",
          "2017-08-11",
          "2017-08-12",
          "2017-08-13",
          "2017-08-14",
          "2017-08-15",
          "2017-08-16",
          "2017-08-17",
          "2017-08-18",
          "2017-08-19",
          "2017-08-20",
          "2017-08-21",
          "2017-08-22",
          "2017-08-23",
          "2017-08-24",
          "2017-08-25",
          "2017-08-26",
          "2017-08-27",
          "2017-08-28",
          "2017-08-29",
          "2017-08-30",
          "2017-08-31",
          "2017-09-01",
          "2017-09-02",
          "2017-09-03",
          "2017-09-04",
          "2017-09-05",
          "2017-09-06",
          "2017-09-07",
          "2017-09-08",
          "2017-09-09",
          "2017-09-10",
          "2017-09-11",
          "2017-09-12",
          "2017-09-13",
          "2017-09-14",
          "2017-09-15",
          "2017-09-16",
          "2017-09-17",
          "2017-09-18",
          "2017-09-19",
          "2017-09-20",
          "2017-09-21",
          "2017-09-22",
          "2017-09-23",
          "2017-09-24",
          "2017-09-25",
          "2017-09-26",
          "2017-09-27",
          "2017-09-28",
          "2017-09-29",
          "2017-09-30",
          "2017-10-01",
          "2017-10-02",
          "2017-10-03",
          "2017-10-04",
          "2017-10-05",
          "2017-10-06",
          "2017-10-07",
          "2017-10-08",
          "2017-10-09",
          "2017-10-10",
          "2017-10-11",
          "2017-10-12",
          "2017-10-13",
          "2017-10-14",
          "2017-10-15",
          "2017-10-16",
          "2017-10-17",
          "2017-10-18",
          "2017-10-19",
          "2017-10-20",
          "2017-10-21",
          "2017-10-22",
          "2017-10-23",
          "2017-10-24",
          "2017-10-25",
          "2017-10-26",
          "2017-10-27",
          "2017-10-28",
          "2017-10-29",
          "2017-10-30",
          "2017-10-31",
          "2017-11-01",
          "2017-11-02",
          "2017-11-03",
          "2017-11-04",
          "2017-11-05",
          "2017-11-06",
          "2017-11-07",
          "2017-11-08",
          "2017-11-09",
          "2017-11-10",
          "2017-11-11",
          "2017-11-12",
          "2017-11-13",
          "2017-11-14",
          "2017-11-15",
          "2017-11-16",
          "2017-11-17",
          "2017-11-18",
          "2017-11-19",
          "2017-11-20",
          "2017-11-21",
          "2017-11-22",
          "2017-11-23",
          "2017-11-24",
          "2017-11-25",
          "2017-11-26",
          "2017-11-27",
          "2017-11-28",
          "2017-11-29",
          "2017-11-30",
          "2017-12-01",
          "2017-12-02",
          "2017-12-03",
          "2017-12-04",
          "2017-12-05",
          "2017-12-06",
          "2017-12-07",
          "2017-12-08",
          "2017-12-09",
          "2017-12-10",
          "2017-12-11",
          "2017-12-12",
          "2017-12-13",
          "2017-12-14",
          "2017-12-15",
          "2017-12-16",
          "2017-12-17",
          "2017-12-18",
          "2017-12-19",
          "2017-12-20",
          "2017-12-21",
          "2017-12-22",
          "2017-12-23",
          "2017-12-24",
          "2017-12-25",
          "2017-12-26",
          "2017-12-27",
          "2017-12-28",
          "2017-12-29",
          "2017-12-30",
          "2017-12-31"
         ],
         "y": [
          13696,
          13678,
          14488,
          15677,
          16237,
          17291,
          11769,
          13560,
          13878,
          14642,
          15633,
          16679,
          17741,
          11746,
          13625,
          13591,
          14587,
          15495,
          16294,
          17612,
          11709,
          13724,
          13613,
          14472,
          15640,
          16561,
          17579,
          11848,
          13724,
          13391,
          14724,
          17473,
          18323,
          19544,
          12998,
          14956,
          15124,
          16112,
          17450,
          18425,
          19501,
          12961,
          15154,
          15274,
          16379,
          17563,
          18428,
          19502,
          12858,
          15359,
          14909,
          16329,
          17393,
          18436,
          19482,
          13058,
          15184,
          15014,
          16228,
          20978,
          22094,
          23260,
          15710,
          18189,
          18435,
          19310,
          20755,
          22054,
          23252,
          15323,
          18029,
          18413,
          19395,
          20663,
          22144,
          23338,
          15583,
          18235,
          18097,
          19405,
          20812,
          22108,
          23287,
          15647,
          18308,
          18276,
          19742,
          20711,
          22292,
          23537,
          18204,
          21218,
          21125,
          22859,
          24180,
          25805,
          27172,
          18005,
          21176,
          21197,
          22975,
          24183,
          25758,
          27389,
          18080,
          21429,
          21209,
          22838,
          24077,
          25553,
          27437,
          18415,
          21445,
          21422,
          22607,
          24303,
          25379,
          27510,
          18025,
          21299,
          22967,
          24553,
          25996,
          27754,
          29338,
          19464,
          22803,
          22901,
          24404,
          25964,
          27518,
          28968,
          19253,
          22911,
          22831,
          24323,
          25786,
          27575,
          29146,
          19467,
          22750,
          22993,
          24478,
          25950,
          27828,
          29595,
          19470,
          22875,
          22979,
          24310,
          26092,
          29220,
          31279,
          20628,
          24038,
          24326,
          26193,
          27734,
          29487,
          30967,
          20799,
          24653,
          24315,
          25859,
          27635,
          29396,
          31206,
          20532,
          24342,
          24155,
          26128,
          27667,
          29464,
          31470,
          20904,
          24115,
          24449,
          26341,
          27590,
          29449,
          31256,
          21997,
          25802,
          25903,
          27624,
          29418,
          31178,
          32949,
          22288,
          25917,
          25728,
          27977,
          29650,
          31540,
          33113,
          22020,
          25945,
          25664,
          27618,
          29734,
          31281,
          33150,
          22060,
          25682,
          26036,
          27682,
          29585,
          31681,
          33216,
          21987,
          25873,
          25624,
          24052,
          26159,
          27866,
          29301,
          19634,
          22740,
          22455,
          24354,
          25862,
          27482,
          29260,
          19570,
          22645,
          22727,
          24376,
          26232,
          27887,
          29179,
          19336,
          22855,
          22736,
          24523,
          25735,
          27768,
          28990,
          19441,
          22853,
          22831,
          24235,
          26195,
          27482,
          27346,
          18572,
          21395,
          21127,
          22733,
          24393,
          25892,
          27320,
          18130,
          21507,
          21221,
          22751,
          24291,
          25894,
          27255,
          18425,
          20864,
          21368,
          23037,
          24230,
          25981,
          27439,
          18259,
          21223,
          21390,
          22589,
          24295,
          25408,
          27363,
          18209,
          19640,
          19853,
          21059,
          22494,
          23892,
          25318,
          17034,
          19624,
          19519,
          21478,
          22409,
          23836,
          25438,
          16791,
          19615,
          19666,
          21081,
          22378,
          24083,
          25209,
          16765,
          19694,
          19642,
          21126,
          22530,
          23745,
          25247,
          16782,
          19700,
          19854,
          21085,
          24277,
          25569,
          27266,
          18215,
          21255,
          21044,
          22521,
          24466,
          25864,
          27191,
          18375,
          21249,
          21174,
          22555,
          24262,
          25710,
          27248,
          18251,
          21276,
          21413,
          22566,
          24461,
          25820,
          27319,
          18260,
          21145,
          21306,
          22574,
          24308,
          25703,
          19357,
          13141,
          15226,
          15280,
          16227,
          17429,
          18609,
          19287,
          12942,
          15171,
          15230,
          16316,
          17284,
          18335,
          19738,
          13088,
          14975,
          15104,
          16132,
          17173,
          18511,
          19693,
          13038,
          15126,
          15351,
          16214,
          17047,
          18433,
          19148,
          12958,
          15044,
          15556,
          17033,
          17746,
          19184,
          20182,
          13438,
          15664,
          15682,
          16975,
          17957,
          18925,
          19973,
          13408,
          15738,
          15590,
          17015,
          17888,
          18964,
          20093,
          13520,
          15484,
          15725,
          16746,
          18260,
          19179,
          20232,
          13469,
          15725,
          15664,
          16899,
          18073,
          21074,
          22709,
          15055,
          17488,
          17763,
          18836,
          19780,
          21400,
          22544,
          14817,
          17457,
          17386,
          18565,
          19992,
          21063,
          22409,
          14814,
          17407,
          17556,
          18755,
          19872,
          21066,
          22515,
          15126,
          17419,
          17682,
          18602,
          19965,
          25245,
          26956,
          17983,
          21160,
          21097,
          22364,
          24118,
          25273,
          26992,
          17878,
          20909,
          20798,
          22427,
          24076,
          25687,
          26959,
          17885,
          20876,
          20864,
          22165,
          23846,
          25458,
          26990,
          17895,
          20666,
          21021,
          22387,
          23942,
          25452,
          26951,
          17981,
          24103,
          24301,
          26418,
          27696,
          29703,
          31780,
          20951,
          24539,
          24431,
          26201,
          27741,
          29516,
          31455,
          20991,
          24536,
          24438,
          26447,
          27681,
          29683,
          31447,
          20859,
          24655,
          24392,
          25999,
          27897,
          29580,
          31587,
          20836,
          24516,
          24535,
          28151,
          30139,
          31794,
          33676,
          22378,
          26479,
          25984,
          27778,
          29749,
          31806,
          33507,
          22696,
          26378,
          26333,
          28119,
          29776,
          32158,
          33673,
          22323,
          26124,
          26264,
          27950,
          29521,
          31836,
          33514,
          22496,
          26289,
          26186,
          28034,
          30031,
          31735,
          35900,
          23934,
          27617,
          28218,
          29873,
          31662,
          33478,
          35783,
          23951,
          28081,
          27903,
          29754,
          31897,
          34206,
          36461,
          24053,
          28005,
          28032,
          30049,
          32021,
          34410,
          35673,
          24196,
          27551,
          28036,
          30294,
          32013,
          34048,
          35998,
          23745,
          29579,
          29762,
          31782,
          33961,
          36006,
          38209,
          25578,
          29800,
          29318,
          31885,
          33769,
          36069,
          37848,
          25248,
          29718,
          29528,
          31792,
          34170,
          35808,
          38144,
          25612,
          29399,
          29268,
          31646,
          34104,
          36260,
          38318,
          25322,
          29621,
          29711,
          31775,
          29642,
          31897,
          33246,
          22345,
          26079,
          26257,
          27901,
          29827,
          31695,
          33779,
          22391,
          26083,
          26014,
          28076,
          29659,
          31769,
          33894,
          22459,
          26039,
          26100,
          27962,
          29512,
          31607,
          33539,
          22324,
          26317,
          26085,
          27809,
          29959,
          31719,
          33611,
          20772,
          24341,
          24387,
          26218,
          28026,
          29445,
          31581,
          20996,
          24486,
          24514,
          25909,
          27723,
          29808,
          31629,
          21119,
          24443,
          24439,
          26266,
          28130,
          29770,
          31388,
          21022,
          24423,
          24220,
          26262,
          27575,
          29745,
          31266,
          20932,
          24289,
          22672,
          24589,
          25866,
          27581,
          29000,
          19523,
          22345,
          22866,
          24245,
          25736,
          27251,
          29066,
          19517,
          22779,
          22462,
          23929,
          25753,
          27647,
          29173,
          19415,
          22814,
          22864,
          24325,
          25959,
          27547,
          29107,
          19401,
          22657,
          22680,
          24211,
          25903,
          29728,
          31225,
          21085,
          24251,
          24300,
          26394,
          27867,
          29582,
          31175,
          20722,
          24552,
          24561,
          26238,
          28003,
          29736,
          31354,
          20880,
          24357,
          24476,
          26057,
          27690,
          29744,
          31505,
          21103,
          24492,
          24623,
          26079,
          28029,
          29651,
          31324,
          14986,
          17517,
          17328,
          18689,
          19966,
          21245,
          22015,
          15057,
          17656,
          17429,
          18691,
          19874,
          21291,
          22468,
          14756,
          17518,
          17689,
          18733,
          20006,
          20945,
          22497,
          15052,
          17498,
          17274,
          18607,
          19879,
          21317,
          22532,
          14888,
          17407,
          17238,
          17226,
          18719,
          19798,
          21101,
          14235,
          16424,
          16273,
          17687,
          18816,
          19939,
          21161,
          13968,
          16418,
          16542,
          17596,
          18490,
          19967,
          21025,
          14168,
          16309,
          16381,
          17630,
          18720,
          19820,
          21212,
          14069,
          16418,
          16457,
          17272,
          18772,
          19900,
          23395,
          15583,
          18109,
          18129,
          19549,
          20807,
          22209,
          23586,
          15756,
          18379,
          18330,
          19513,
          20586,
          22041,
          23276,
          15509,
          18261,
          18167,
          19773,
          20843,
          22021,
          23501,
          15493,
          18100,
          18161,
          19592,
          20709,
          21939,
          28266,
          18676,
          21866,
          21850,
          23536,
          24881,
          26729,
          28151,
          18575,
          21732,
          21864,
          23506,
          25084,
          26436,
          28128,
          18880,
          21806,
          21819,
          23176,
          25513,
          26611,
          28296,
          18606,
          21887,
          21688,
          23218,
          24810,
          26389,
          28255,
          18910,
          21807,
          25302,
          27441,
          29424,
          30829,
          32725,
          21875,
          25554,
          25013,
          27528,
          29001,
          31027,
          32972,
          21687,
          25281,
          25078,
          27477,
          29424,
          31103,
          33013,
          21693,
          25243,
          25459,
          27391,
          29015,
          30837,
          32965,
          21792,
          25437,
          25375,
          27506,
          31268,
          33053,
          34732,
          23355,
          27256,
          27375,
          29216,
          31214,
          33102,
          35067,
          23295,
          27255,
          27244,
          29545,
          31220,
          33216,
          35300,
          23409,
          27512,
          27574,
          29428,
          30977,
          33135,
          35124,
          23434,
          27535,
          27340,
          29231,
          31379,
          33074,
          35037,
          24904,
          29260,
          29111,
          31413,
          33351,
          35314,
          37528,
          24907,
          29264,
          29056,
          31403,
          33313,
          35597,
          37802,
          24819,
          29246,
          29104,
          31188,
          33201,
          35337,
          37431,
          24773,
          29165,
          29154,
          31048,
          33415,
          35251,
          37410,
          25074,
          29345,
          30703,
          33134,
          35498,
          37776,
          39740,
          26519,
          30916,
          31200,
          32963,
          35418,
          37640,
          39794,
          26708,
          30928,
          31097,
          33179,
          35368,
          37568,
          39667,
          26777,
          30881,
          31013,
          33244,
          35459,
          37608,
          39536,
          26406,
          30946,
          30912,
          33443,
          35309,
          33345,
          35387,
          23701,
          27120,
          27202,
          29477,
          31296,
          33312,
          35331,
          23336,
          27228,
          27069,
          29310,
          31302,
          33119,
          35148,
          23547,
          27094,
          27417,
          29293,
          31598,
          33080,
          35223,
          23355,
          27058,
          27259,
          29414,
          31286,
          33113,
          35404,
          23577,
          25375,
          25486,
          27467,
          29415,
          30808,
          32969,
          21833,
          25362,
          25604,
          27349,
          29173,
          30496,
          32896,
          21728,
          25728,
          25589,
          27367,
          29161,
          30976,
          32869,
          22012,
          25355,
          25368,
          27391,
          29104,
          30867,
          32705,
          21847,
          25587,
          25445,
          25417,
          27127,
          28730,
          30353,
          20370,
          23618,
          23594,
          25260,
          26685,
          28478,
          30534,
          20316,
          23738,
          23548,
          25339,
          26984,
          28702,
          30511,
          20182,
          23680,
          23677,
          25347,
          27057,
          28733,
          30639,
          20188,
          23651,
          23792,
          24999,
          27160,
          28844,
          32817,
          21871,
          25586,
          25555,
          27526,
          29107,
          30781,
          32839,
          21544,
          25442,
          25533,
          27332,
          29194,
          31112,
          32854,
          21942,
          25672,
          25412,
          27287,
          29165,
          31082,
          32732,
          21653,
          25667,
          25490,
          27637,
          29359,
          30957,
          32834,
          21663,
          18016,
          18243,
          19543,
          20652,
          22237,
          23745,
          15550,
          18296,
          18273,
          19299,
          20780,
          22122,
          23290,
          15663,
          18454,
          18517,
          19401,
          20837,
          21835,
          23579,
          15669,
          18008,
          18031,
          19591,
          20877,
          22256,
          23268,
          15569,
          18403,
          18191,
          19377,
          20158,
          21280,
          22911,
          15199,
          17806,
          17789,
          19107,
          20265,
          21309,
          22811,
          15385,
          17721,
          17649,
          19287,
          20354,
          21665,
          22813,
          15100,
          17804,
          17952,
          18975,
          20243,
          21515,
          22774,
          15271,
          17794,
          18023,
          19016,
          20209,
          21535,
          22719,
          17009,
          19801,
          19773,
          20981,
          22494,
          23999,
          25046,
          17031,
          19880,
          19560,
          21257,
          22517,
          24040,
          25234,
          16911,
          19764,
          19858,
          21016,
          22721,
          23977,
          25500,
          17037,
          19798,
          19528,
          21195,
          22588,
          24090,
          25436,
          16916,
          23682,
          23554,
          25696,
          27149,
          28965,
          30323,
          20090,
          23593,
          23866,
          25416,
          27368,
          28715,
          30321,
          20454,
          23707,
          23510,
          25547,
          27266,
          28717,
          30461,
          20379,
          23905,
          23729,
          25420,
          26887,
          28640,
          30491,
          20448,
          23688,
          23769,
          25125,
          31715,
          33021,
          35681,
          23543,
          27601,
          27490,
          29716,
          31612,
          33617,
          35731,
          23813,
          27621,
          27507,
          29504,
          31445,
          33306,
          35747,
          23660,
          27752,
          27627,
          29403,
          31583,
          33316,
          35576,
          23614,
          27858,
          27531,
          29657,
          31920,
          33783,
          37851,
          25303,
          29568,
          29903,
          31698,
          34013,
          35855,
          38319,
          25444,
          29485,
          29448,
          31945,
          33813,
          35516,
          37877,
          25588,
          29539,
          29725,
          31731,
          34089,
          35575,
          37914,
          25452,
          29351,
          29502,
          31527,
          33980,
          36081,
          38372,
          25008,
          29258,
          31697,
          33837,
          35816,
          38188,
          40814,
          27517,
          31647,
          31561,
          33981,
          36021,
          38335,
          40709,
          27062,
          31685,
          31566,
          33888,
          36221,
          38032,
          40460,
          27024,
          31377,
          31960,
          33941,
          36147,
          38364,
          40921,
          26884,
          31539,
          31638,
          33832,
          38583,
          40534,
          43103,
          28792,
          33392,
          33287,
          36191,
          38181,
          40713,
          43427,
          28907,
          33393,
          34001,
          35846,
          38335,
          40583,
          43247,
          28756,
          33862,
          33718,
          36298,
          38543,
          40143,
          42881,
          28765,
          33463,
          33432,
          35905,
          38286,
          40857,
          43294,
          25351,
          29742,
          29510,
          31625,
          33949,
          36430,
          37885,
          25392,
          29602,
          29504,
          31517,
          33722,
          35971,
          38105,
          25389,
          29453,
          29775,
          31562,
          33967,
          35925,
          38057,
          25404,
          29544,
          29693,
          31772,
          33839,
          36008,
          37831,
          25368,
          29538,
          30064,
          29975,
          31635,
          33297,
          35553,
          23581,
          27520,
          27482,
          29337,
          31661,
          33441,
          35101,
          23494,
          27533,
          27435,
          29587,
          31704,
          33381,
          35616,
          23860,
          27579,
          27688,
          29703,
          31618,
          33488,
          35461,
          23542,
          27538,
          27952,
          29555,
          31514,
          30816,
          32994,
          22186,
          25699,
          25604,
          27408,
          29269,
          31431,
          32882,
          21849,
          25931,
          25487,
          27292,
          29283,
          31340,
          33310,
          21996,
          25527,
          25913,
          27742,
          29471,
          31195,
          32925,
          22043,
          25994,
          25314,
          27513,
          29559,
          30979,
          32709,
          21976,
          27652,
          27960,
          29364,
          31490,
          33623,
          35520,
          23294,
          27531,
          27632,
          29539,
          31724,
          33496,
          35753,
          23661,
          27712,
          27701,
          29622,
          31419,
          33511,
          35488,
          23692,
          27435,
          27642,
          29544,
          31638,
          33435,
          35357,
          23621,
          27808,
          27584,
          21195,
          22325,
          23728,
          25298,
          16887,
          19381,
          19614,
          21272,
          22738,
          24086,
          25187,
          16996,
          19766,
          19786,
          21109,
          22586,
          24101,
          25044,
          16832,
          19774,
          19436,
          21408,
          22549,
          24187,
          25195,
          16831,
          19341,
          19560,
          21111,
          22296,
          23792,
          23709,
          15772,
          18650,
          18510,
          19895,
          20994,
          22591,
          23700,
          15797,
          18608,
          18491,
          19684,
          21186,
          22434,
          23701,
          15743,
          18510,
          18645,
          19530,
          21064,
          22591,
          23831,
          15697,
          18524,
          18450,
          19541,
          21116,
          22210,
          23807,
          15839,
          18486,
          20612,
          21875,
          23501,
          25018,
          26084,
          17584,
          20433,
          20292,
          21827,
          23532,
          25311,
          26487,
          17580,
          20486,
          20568,
          21813,
          23519,
          24852,
          26427,
          17435,
          20582,
          20425,
          22127,
          23433,
          25052,
          26577,
          17550,
          20387,
          24581,
          26326,
          28037,
          29513,
          31693,
          21032,
          24412,
          24928,
          25987,
          28048,
          29835,
          31806,
          21193,
          24835,
          24363,
          26248,
          27922,
          29897,
          31483,
          20895,
          24703,
          24748,
          26113,
          27932,
          29977,
          31754,
          21013,
          24693,
          24474,
          26393,
          27833,
          34746,
          36777,
          24714,
          28465,
          28325,
          30666,
          32837,
          35167,
          36603,
          24648,
          28582,
          28609,
          30495,
          32434,
          34787,
          36498,
          24703,
          28529,
          28716,
          30881,
          32758,
          34821,
          37097,
          24503,
          28660,
          28618,
          30710,
          33065,
          34663,
          36785,
          26290,
          31050,
          30765,
          32984,
          35418,
          37493,
          39460,
          26365,
          30909,
          30895,
          33234,
          35052,
          37346,
          39409,
          26191,
          30927,
          30518,
          32960,
          35473,
          37669,
          39874,
          26354,
          30609,
          30747,
          33110,
          35490,
          37321,
          39417,
          26194,
          30299,
          30863,
          34913,
          37273,
          39931,
          42061,
          27794,
          32934,
          33061,
          35401,
          37304,
          39854,
          42022,
          27827,
          32835,
          33052,
          35041,
          37253,
          40100,
          42004,
          28173,
          32800,
          32943,
          34850,
          37426,
          39501,
          42029,
          28187,
          32849,
          32714,
          35310,
          37182,
          42594,
          44936,
          29775,
          34737,
          34681,
          37195,
          39989,
          41659,
          44610,
          29723,
          34949,
          34823,
          37008,
          40125,
          42170,
          44856,
          29959,
          34615,
          34988,
          37258,
          39819,
          42513,
          44831,
          30041,
          34910,
          34978,
          37254,
          39290,
          42111,
          44832,
          30164,
          30725,
          30787,
          32822,
          35134,
          37237,
          39295,
          26633,
          30828,
          30719,
          33110,
          35084,
          37400,
          39492,
          26144,
          30493,
          30721,
          33053,
          35240,
          37554,
          40022,
          26188,
          30902,
          30625,
          32938,
          34884,
          37753,
          39760,
          26557,
          30775,
          30591,
          32937,
          32529,
          34809,
          36521,
          24625,
          28289,
          28568,
          30647,
          33158,
          34686,
          37162,
          24645,
          28537,
          28837,
          30837,
          32591,
          34938,
          36836,
          24575,
          28569,
          28985,
          30687,
          32716,
          34654,
          36615,
          24796,
          28537,
          29056,
          30535,
          32700,
          34623,
          33845,
          22913,
          26854,
          26691,
          28357,
          30225,
          32189,
          34194,
          22974,
          26478,
          26899,
          28540,
          30354,
          32616,
          34123,
          22940,
          26737,
          26743,
          28790,
          30529,
          32690,
          34381,
          22965,
          26494,
          26794,
          28430,
          30466,
          32392,
          34312,
          22695,
          26550,
          28476,
          31036,
          32843,
          35064,
          36903,
          24752,
          28922,
          28739,
          30856,
          32846,
          34476,
          36934,
          24604,
          28764,
          28607,
          30732,
          32771,
          35007,
          36516,
          24636,
          28827,
          28317,
          30935,
          32607,
          34939,
          36973,
          24427,
          28788,
          28721,
          30819,
          23460,
          24538,
          26533,
          17382,
          20177,
          20340,
          21817,
          23471,
          24811,
          26402,
          17619,
          20236,
          20703,
          22037,
          23581,
          24953,
          26167,
          17746,
          20517,
          20545,
          22214,
          23567,
          24763,
          26130,
          17517,
          20738,
          20378,
          21885,
          23535,
          24988,
          26420
         ]
        }
       ],
       "layout": {
        "autosize": false,
        "height": 400,
        "template": {
         "data": {
          "bar": [
           {
            "error_x": {
             "color": "#2a3f5f"
            },
            "error_y": {
             "color": "#2a3f5f"
            },
            "marker": {
             "line": {
              "color": "#E5ECF6",
              "width": 0.5
             },
             "pattern": {
              "fillmode": "overlay",
              "size": 10,
              "solidity": 0.2
             }
            },
            "type": "bar"
           }
          ],
          "barpolar": [
           {
            "marker": {
             "line": {
              "color": "#E5ECF6",
              "width": 0.5
             },
             "pattern": {
              "fillmode": "overlay",
              "size": 10,
              "solidity": 0.2
             }
            },
            "type": "barpolar"
           }
          ],
          "carpet": [
           {
            "aaxis": {
             "endlinecolor": "#2a3f5f",
             "gridcolor": "white",
             "linecolor": "white",
             "minorgridcolor": "white",
             "startlinecolor": "#2a3f5f"
            },
            "baxis": {
             "endlinecolor": "#2a3f5f",
             "gridcolor": "white",
             "linecolor": "white",
             "minorgridcolor": "white",
             "startlinecolor": "#2a3f5f"
            },
            "type": "carpet"
           }
          ],
          "choropleth": [
           {
            "colorbar": {
             "outlinewidth": 0,
             "ticks": ""
            },
            "type": "choropleth"
           }
          ],
          "contour": [
           {
            "colorbar": {
             "outlinewidth": 0,
             "ticks": ""
            },
            "colorscale": [
             [
              0,
              "#0d0887"
             ],
             [
              0.1111111111111111,
              "#46039f"
             ],
             [
              0.2222222222222222,
              "#7201a8"
             ],
             [
              0.3333333333333333,
              "#9c179e"
             ],
             [
              0.4444444444444444,
              "#bd3786"
             ],
             [
              0.5555555555555556,
              "#d8576b"
             ],
             [
              0.6666666666666666,
              "#ed7953"
             ],
             [
              0.7777777777777778,
              "#fb9f3a"
             ],
             [
              0.8888888888888888,
              "#fdca26"
             ],
             [
              1,
              "#f0f921"
             ]
            ],
            "type": "contour"
           }
          ],
          "contourcarpet": [
           {
            "colorbar": {
             "outlinewidth": 0,
             "ticks": ""
            },
            "type": "contourcarpet"
           }
          ],
          "heatmap": [
           {
            "colorbar": {
             "outlinewidth": 0,
             "ticks": ""
            },
            "colorscale": [
             [
              0,
              "#0d0887"
             ],
             [
              0.1111111111111111,
              "#46039f"
             ],
             [
              0.2222222222222222,
              "#7201a8"
             ],
             [
              0.3333333333333333,
              "#9c179e"
             ],
             [
              0.4444444444444444,
              "#bd3786"
             ],
             [
              0.5555555555555556,
              "#d8576b"
             ],
             [
              0.6666666666666666,
              "#ed7953"
             ],
             [
              0.7777777777777778,
              "#fb9f3a"
             ],
             [
              0.8888888888888888,
              "#fdca26"
             ],
             [
              1,
              "#f0f921"
             ]
            ],
            "type": "heatmap"
           }
          ],
          "heatmapgl": [
           {
            "colorbar": {
             "outlinewidth": 0,
             "ticks": ""
            },
            "colorscale": [
             [
              0,
              "#0d0887"
             ],
             [
              0.1111111111111111,
              "#46039f"
             ],
             [
              0.2222222222222222,
              "#7201a8"
             ],
             [
              0.3333333333333333,
              "#9c179e"
             ],
             [
              0.4444444444444444,
              "#bd3786"
             ],
             [
              0.5555555555555556,
              "#d8576b"
             ],
             [
              0.6666666666666666,
              "#ed7953"
             ],
             [
              0.7777777777777778,
              "#fb9f3a"
             ],
             [
              0.8888888888888888,
              "#fdca26"
             ],
             [
              1,
              "#f0f921"
             ]
            ],
            "type": "heatmapgl"
           }
          ],
          "histogram": [
           {
            "marker": {
             "pattern": {
              "fillmode": "overlay",
              "size": 10,
              "solidity": 0.2
             }
            },
            "type": "histogram"
           }
          ],
          "histogram2d": [
           {
            "colorbar": {
             "outlinewidth": 0,
             "ticks": ""
            },
            "colorscale": [
             [
              0,
              "#0d0887"
             ],
             [
              0.1111111111111111,
              "#46039f"
             ],
             [
              0.2222222222222222,
              "#7201a8"
             ],
             [
              0.3333333333333333,
              "#9c179e"
             ],
             [
              0.4444444444444444,
              "#bd3786"
             ],
             [
              0.5555555555555556,
              "#d8576b"
             ],
             [
              0.6666666666666666,
              "#ed7953"
             ],
             [
              0.7777777777777778,
              "#fb9f3a"
             ],
             [
              0.8888888888888888,
              "#fdca26"
             ],
             [
              1,
              "#f0f921"
             ]
            ],
            "type": "histogram2d"
           }
          ],
          "histogram2dcontour": [
           {
            "colorbar": {
             "outlinewidth": 0,
             "ticks": ""
            },
            "colorscale": [
             [
              0,
              "#0d0887"
             ],
             [
              0.1111111111111111,
              "#46039f"
             ],
             [
              0.2222222222222222,
              "#7201a8"
             ],
             [
              0.3333333333333333,
              "#9c179e"
             ],
             [
              0.4444444444444444,
              "#bd3786"
             ],
             [
              0.5555555555555556,
              "#d8576b"
             ],
             [
              0.6666666666666666,
              "#ed7953"
             ],
             [
              0.7777777777777778,
              "#fb9f3a"
             ],
             [
              0.8888888888888888,
              "#fdca26"
             ],
             [
              1,
              "#f0f921"
             ]
            ],
            "type": "histogram2dcontour"
           }
          ],
          "mesh3d": [
           {
            "colorbar": {
             "outlinewidth": 0,
             "ticks": ""
            },
            "type": "mesh3d"
           }
          ],
          "parcoords": [
           {
            "line": {
             "colorbar": {
              "outlinewidth": 0,
              "ticks": ""
             }
            },
            "type": "parcoords"
           }
          ],
          "pie": [
           {
            "automargin": true,
            "type": "pie"
           }
          ],
          "scatter": [
           {
            "fillpattern": {
             "fillmode": "overlay",
             "size": 10,
             "solidity": 0.2
            },
            "type": "scatter"
           }
          ],
          "scatter3d": [
           {
            "line": {
             "colorbar": {
              "outlinewidth": 0,
              "ticks": ""
             }
            },
            "marker": {
             "colorbar": {
              "outlinewidth": 0,
              "ticks": ""
             }
            },
            "type": "scatter3d"
           }
          ],
          "scattercarpet": [
           {
            "marker": {
             "colorbar": {
              "outlinewidth": 0,
              "ticks": ""
             }
            },
            "type": "scattercarpet"
           }
          ],
          "scattergeo": [
           {
            "marker": {
             "colorbar": {
              "outlinewidth": 0,
              "ticks": ""
             }
            },
            "type": "scattergeo"
           }
          ],
          "scattergl": [
           {
            "marker": {
             "colorbar": {
              "outlinewidth": 0,
              "ticks": ""
             }
            },
            "type": "scattergl"
           }
          ],
          "scattermapbox": [
           {
            "marker": {
             "colorbar": {
              "outlinewidth": 0,
              "ticks": ""
             }
            },
            "type": "scattermapbox"
           }
          ],
          "scatterpolar": [
           {
            "marker": {
             "colorbar": {
              "outlinewidth": 0,
              "ticks": ""
             }
            },
            "type": "scatterpolar"
           }
          ],
          "scatterpolargl": [
           {
            "marker": {
             "colorbar": {
              "outlinewidth": 0,
              "ticks": ""
             }
            },
            "type": "scatterpolargl"
           }
          ],
          "scatterternary": [
           {
            "marker": {
             "colorbar": {
              "outlinewidth": 0,
              "ticks": ""
             }
            },
            "type": "scatterternary"
           }
          ],
          "surface": [
           {
            "colorbar": {
             "outlinewidth": 0,
             "ticks": ""
            },
            "colorscale": [
             [
              0,
              "#0d0887"
             ],
             [
              0.1111111111111111,
              "#46039f"
             ],
             [
              0.2222222222222222,
              "#7201a8"
             ],
             [
              0.3333333333333333,
              "#9c179e"
             ],
             [
              0.4444444444444444,
              "#bd3786"
             ],
             [
              0.5555555555555556,
              "#d8576b"
             ],
             [
              0.6666666666666666,
              "#ed7953"
             ],
             [
              0.7777777777777778,
              "#fb9f3a"
             ],
             [
              0.8888888888888888,
              "#fdca26"
             ],
             [
              1,
              "#f0f921"
             ]
            ],
            "type": "surface"
           }
          ],
          "table": [
           {
            "cells": {
             "fill": {
              "color": "#EBF0F8"
             },
             "line": {
              "color": "white"
             }
            },
            "header": {
             "fill": {
              "color": "#C8D4E3"
             },
             "line": {
              "color": "white"
             }
            },
            "type": "table"
           }
          ]
         },
         "layout": {
          "annotationdefaults": {
           "arrowcolor": "#2a3f5f",
           "arrowhead": 0,
           "arrowwidth": 1
          },
          "autotypenumbers": "strict",
          "coloraxis": {
           "colorbar": {
            "outlinewidth": 0,
            "ticks": ""
           }
          },
          "colorscale": {
           "diverging": [
            [
             0,
             "#8e0152"
            ],
            [
             0.1,
             "#c51b7d"
            ],
            [
             0.2,
             "#de77ae"
            ],
            [
             0.3,
             "#f1b6da"
            ],
            [
             0.4,
             "#fde0ef"
            ],
            [
             0.5,
             "#f7f7f7"
            ],
            [
             0.6,
             "#e6f5d0"
            ],
            [
             0.7,
             "#b8e186"
            ],
            [
             0.8,
             "#7fbc41"
            ],
            [
             0.9,
             "#4d9221"
            ],
            [
             1,
             "#276419"
            ]
           ],
           "sequential": [
            [
             0,
             "#0d0887"
            ],
            [
             0.1111111111111111,
             "#46039f"
            ],
            [
             0.2222222222222222,
             "#7201a8"
            ],
            [
             0.3333333333333333,
             "#9c179e"
            ],
            [
             0.4444444444444444,
             "#bd3786"
            ],
            [
             0.5555555555555556,
             "#d8576b"
            ],
            [
             0.6666666666666666,
             "#ed7953"
            ],
            [
             0.7777777777777778,
             "#fb9f3a"
            ],
            [
             0.8888888888888888,
             "#fdca26"
            ],
            [
             1,
             "#f0f921"
            ]
           ],
           "sequentialminus": [
            [
             0,
             "#0d0887"
            ],
            [
             0.1111111111111111,
             "#46039f"
            ],
            [
             0.2222222222222222,
             "#7201a8"
            ],
            [
             0.3333333333333333,
             "#9c179e"
            ],
            [
             0.4444444444444444,
             "#bd3786"
            ],
            [
             0.5555555555555556,
             "#d8576b"
            ],
            [
             0.6666666666666666,
             "#ed7953"
            ],
            [
             0.7777777777777778,
             "#fb9f3a"
            ],
            [
             0.8888888888888888,
             "#fdca26"
            ],
            [
             1,
             "#f0f921"
            ]
           ]
          },
          "colorway": [
           "#636efa",
           "#EF553B",
           "#00cc96",
           "#ab63fa",
           "#FFA15A",
           "#19d3f3",
           "#FF6692",
           "#B6E880",
           "#FF97FF",
           "#FECB52"
          ],
          "font": {
           "color": "#2a3f5f"
          },
          "geo": {
           "bgcolor": "white",
           "lakecolor": "white",
           "landcolor": "#E5ECF6",
           "showlakes": true,
           "showland": true,
           "subunitcolor": "white"
          },
          "hoverlabel": {
           "align": "left"
          },
          "hovermode": "closest",
          "mapbox": {
           "style": "light"
          },
          "paper_bgcolor": "white",
          "plot_bgcolor": "#E5ECF6",
          "polar": {
           "angularaxis": {
            "gridcolor": "white",
            "linecolor": "white",
            "ticks": ""
           },
           "bgcolor": "#E5ECF6",
           "radialaxis": {
            "gridcolor": "white",
            "linecolor": "white",
            "ticks": ""
           }
          },
          "scene": {
           "xaxis": {
            "backgroundcolor": "#E5ECF6",
            "gridcolor": "white",
            "gridwidth": 2,
            "linecolor": "white",
            "showbackground": true,
            "ticks": "",
            "zerolinecolor": "white"
           },
           "yaxis": {
            "backgroundcolor": "#E5ECF6",
            "gridcolor": "white",
            "gridwidth": 2,
            "linecolor": "white",
            "showbackground": true,
            "ticks": "",
            "zerolinecolor": "white"
           },
           "zaxis": {
            "backgroundcolor": "#E5ECF6",
            "gridcolor": "white",
            "gridwidth": 2,
            "linecolor": "white",
            "showbackground": true,
            "ticks": "",
            "zerolinecolor": "white"
           }
          },
          "shapedefaults": {
           "line": {
            "color": "#2a3f5f"
           }
          },
          "ternary": {
           "aaxis": {
            "gridcolor": "white",
            "linecolor": "white",
            "ticks": ""
           },
           "baxis": {
            "gridcolor": "white",
            "linecolor": "white",
            "ticks": ""
           },
           "bgcolor": "#E5ECF6",
           "caxis": {
            "gridcolor": "white",
            "linecolor": "white",
            "ticks": ""
           }
          },
          "title": {
           "x": 0.05
          },
          "xaxis": {
           "automargin": true,
           "gridcolor": "white",
           "linecolor": "white",
           "ticks": "",
           "title": {
            "standoff": 15
           },
           "zerolinecolor": "white",
           "zerolinewidth": 2
          },
          "yaxis": {
           "automargin": true,
           "gridcolor": "white",
           "linecolor": "white",
           "ticks": "",
           "title": {
            "standoff": 15
           },
           "zerolinecolor": "white",
           "zerolinewidth": 2
          }
         }
        },
        "title": {
         "text": "<span>Vendas totais de produtos por dia ao longo do tempo</span>"
        },
        "width": 1300,
        "xaxis": {
         "title": {
          "text": "<span>Período</span>"
         }
        },
        "yaxis": {
         "title": {
          "text": "<span>Quantidade de vendas</span>"
         }
        }
       }
      }
     },
     "metadata": {},
     "output_type": "display_data"
    }
   ],
   "source": [
    "df_date = df_train.copy()\n",
    "df_date = df_date.groupby('date')['date', 'sales'].sum()\n",
    "\n",
    "timeSerie(df_date.index, df_date['sales'], 'Período', 'Quantidade de vendas', 'Vendas totais de produtos por dia ao longo do tempo')\n"
   ]
  },
  {
   "cell_type": "code",
   "execution_count": 296,
   "metadata": {},
   "outputs": [
    {
     "data": {
      "application/vnd.plotly.v1+json": {
       "config": {
        "plotlyServerURL": "https://plot.ly"
       },
       "data": [
        {
         "type": "scatter",
         "x": [
          "2013-01-01",
          "2013-01-02",
          "2013-01-03",
          "2013-01-04",
          "2013-01-05",
          "2013-01-06",
          "2013-01-07",
          "2013-01-08",
          "2013-01-09",
          "2013-01-10",
          "2013-01-11",
          "2013-01-12",
          "2013-01-13",
          "2013-01-14",
          "2013-01-15",
          "2013-01-16",
          "2013-01-17",
          "2013-01-18",
          "2013-01-19",
          "2013-01-20",
          "2013-01-21",
          "2013-01-22",
          "2013-01-23",
          "2013-01-24",
          "2013-01-25",
          "2013-01-26",
          "2013-01-27",
          "2013-01-28",
          "2013-01-29",
          "2013-01-30",
          "2013-01-31",
          "2013-02-01",
          "2013-02-02",
          "2013-02-03",
          "2013-02-04",
          "2013-02-05",
          "2013-02-06",
          "2013-02-07",
          "2013-02-08",
          "2013-02-09",
          "2013-02-10",
          "2013-02-11",
          "2013-02-12",
          "2013-02-13",
          "2013-02-14",
          "2013-02-15",
          "2013-02-16",
          "2013-02-17",
          "2013-02-18",
          "2013-02-19",
          "2013-02-20",
          "2013-02-21",
          "2013-02-22",
          "2013-02-23",
          "2013-02-24",
          "2013-02-25",
          "2013-02-26",
          "2013-02-27",
          "2013-02-28",
          "2013-03-01",
          "2013-03-02",
          "2013-03-03",
          "2013-03-04",
          "2013-03-05",
          "2013-03-06",
          "2013-03-07",
          "2013-03-08",
          "2013-03-09",
          "2013-03-10",
          "2013-03-11",
          "2013-03-12",
          "2013-03-13",
          "2013-03-14",
          "2013-03-15",
          "2013-03-16",
          "2013-03-17",
          "2013-03-18",
          "2013-03-19",
          "2013-03-20",
          "2013-03-21",
          "2013-03-22",
          "2013-03-23",
          "2013-03-24",
          "2013-03-25",
          "2013-03-26",
          "2013-03-27",
          "2013-03-28",
          "2013-03-29",
          "2013-03-30",
          "2013-03-31",
          "2013-04-01",
          "2013-04-02",
          "2013-04-03",
          "2013-04-04",
          "2013-04-05",
          "2013-04-06",
          "2013-04-07",
          "2013-04-08",
          "2013-04-09",
          "2013-04-10",
          "2013-04-11",
          "2013-04-12",
          "2013-04-13",
          "2013-04-14",
          "2013-04-15",
          "2013-04-16",
          "2013-04-17",
          "2013-04-18",
          "2013-04-19",
          "2013-04-20",
          "2013-04-21",
          "2013-04-22",
          "2013-04-23",
          "2013-04-24",
          "2013-04-25",
          "2013-04-26",
          "2013-04-27",
          "2013-04-28",
          "2013-04-29",
          "2013-04-30",
          "2013-05-01",
          "2013-05-02",
          "2013-05-03",
          "2013-05-04",
          "2013-05-05",
          "2013-05-06",
          "2013-05-07",
          "2013-05-08",
          "2013-05-09",
          "2013-05-10",
          "2013-05-11",
          "2013-05-12",
          "2013-05-13",
          "2013-05-14",
          "2013-05-15",
          "2013-05-16",
          "2013-05-17",
          "2013-05-18",
          "2013-05-19",
          "2013-05-20",
          "2013-05-21",
          "2013-05-22",
          "2013-05-23",
          "2013-05-24",
          "2013-05-25",
          "2013-05-26",
          "2013-05-27",
          "2013-05-28",
          "2013-05-29",
          "2013-05-30",
          "2013-05-31",
          "2013-06-01",
          "2013-06-02",
          "2013-06-03",
          "2013-06-04",
          "2013-06-05",
          "2013-06-06",
          "2013-06-07",
          "2013-06-08",
          "2013-06-09",
          "2013-06-10",
          "2013-06-11",
          "2013-06-12",
          "2013-06-13",
          "2013-06-14",
          "2013-06-15",
          "2013-06-16",
          "2013-06-17",
          "2013-06-18",
          "2013-06-19",
          "2013-06-20",
          "2013-06-21",
          "2013-06-22",
          "2013-06-23",
          "2013-06-24",
          "2013-06-25",
          "2013-06-26",
          "2013-06-27",
          "2013-06-28",
          "2013-06-29",
          "2013-06-30",
          "2013-07-01",
          "2013-07-02",
          "2013-07-03",
          "2013-07-04",
          "2013-07-05",
          "2013-07-06",
          "2013-07-07",
          "2013-07-08",
          "2013-07-09",
          "2013-07-10",
          "2013-07-11",
          "2013-07-12",
          "2013-07-13",
          "2013-07-14",
          "2013-07-15",
          "2013-07-16",
          "2013-07-17",
          "2013-07-18",
          "2013-07-19",
          "2013-07-20",
          "2013-07-21",
          "2013-07-22",
          "2013-07-23",
          "2013-07-24",
          "2013-07-25",
          "2013-07-26",
          "2013-07-27",
          "2013-07-28",
          "2013-07-29",
          "2013-07-30",
          "2013-07-31",
          "2013-08-01",
          "2013-08-02",
          "2013-08-03",
          "2013-08-04",
          "2013-08-05",
          "2013-08-06",
          "2013-08-07",
          "2013-08-08",
          "2013-08-09",
          "2013-08-10",
          "2013-08-11",
          "2013-08-12",
          "2013-08-13",
          "2013-08-14",
          "2013-08-15",
          "2013-08-16",
          "2013-08-17",
          "2013-08-18",
          "2013-08-19",
          "2013-08-20",
          "2013-08-21",
          "2013-08-22",
          "2013-08-23",
          "2013-08-24",
          "2013-08-25",
          "2013-08-26",
          "2013-08-27",
          "2013-08-28",
          "2013-08-29",
          "2013-08-30",
          "2013-08-31",
          "2013-09-01",
          "2013-09-02",
          "2013-09-03",
          "2013-09-04",
          "2013-09-05",
          "2013-09-06",
          "2013-09-07",
          "2013-09-08",
          "2013-09-09",
          "2013-09-10",
          "2013-09-11",
          "2013-09-12",
          "2013-09-13",
          "2013-09-14",
          "2013-09-15",
          "2013-09-16",
          "2013-09-17",
          "2013-09-18",
          "2013-09-19",
          "2013-09-20",
          "2013-09-21",
          "2013-09-22",
          "2013-09-23",
          "2013-09-24",
          "2013-09-25",
          "2013-09-26",
          "2013-09-27",
          "2013-09-28",
          "2013-09-29",
          "2013-09-30",
          "2013-10-01",
          "2013-10-02",
          "2013-10-03",
          "2013-10-04",
          "2013-10-05",
          "2013-10-06",
          "2013-10-07",
          "2013-10-08",
          "2013-10-09",
          "2013-10-10",
          "2013-10-11",
          "2013-10-12",
          "2013-10-13",
          "2013-10-14",
          "2013-10-15",
          "2013-10-16",
          "2013-10-17",
          "2013-10-18",
          "2013-10-19",
          "2013-10-20",
          "2013-10-21",
          "2013-10-22",
          "2013-10-23",
          "2013-10-24",
          "2013-10-25",
          "2013-10-26",
          "2013-10-27",
          "2013-10-28",
          "2013-10-29",
          "2013-10-30",
          "2013-10-31",
          "2013-11-01",
          "2013-11-02",
          "2013-11-03",
          "2013-11-04",
          "2013-11-05",
          "2013-11-06",
          "2013-11-07",
          "2013-11-08",
          "2013-11-09",
          "2013-11-10",
          "2013-11-11",
          "2013-11-12",
          "2013-11-13",
          "2013-11-14",
          "2013-11-15",
          "2013-11-16",
          "2013-11-17",
          "2013-11-18",
          "2013-11-19",
          "2013-11-20",
          "2013-11-21",
          "2013-11-22",
          "2013-11-23",
          "2013-11-24",
          "2013-11-25",
          "2013-11-26",
          "2013-11-27",
          "2013-11-28",
          "2013-11-29",
          "2013-11-30",
          "2013-12-01",
          "2013-12-02",
          "2013-12-03",
          "2013-12-04",
          "2013-12-05",
          "2013-12-06",
          "2013-12-07",
          "2013-12-08",
          "2013-12-09",
          "2013-12-10",
          "2013-12-11",
          "2013-12-12",
          "2013-12-13",
          "2013-12-14",
          "2013-12-15",
          "2013-12-16",
          "2013-12-17",
          "2013-12-18",
          "2013-12-19",
          "2013-12-20",
          "2013-12-21",
          "2013-12-22",
          "2013-12-23",
          "2013-12-24",
          "2013-12-25",
          "2013-12-26",
          "2013-12-27",
          "2013-12-28",
          "2013-12-29",
          "2013-12-30",
          "2013-12-31",
          "2014-01-01",
          "2014-01-02",
          "2014-01-03",
          "2014-01-04",
          "2014-01-05",
          "2014-01-06",
          "2014-01-07",
          "2014-01-08",
          "2014-01-09",
          "2014-01-10",
          "2014-01-11",
          "2014-01-12",
          "2014-01-13",
          "2014-01-14",
          "2014-01-15",
          "2014-01-16",
          "2014-01-17",
          "2014-01-18",
          "2014-01-19",
          "2014-01-20",
          "2014-01-21",
          "2014-01-22",
          "2014-01-23",
          "2014-01-24",
          "2014-01-25",
          "2014-01-26",
          "2014-01-27",
          "2014-01-28",
          "2014-01-29",
          "2014-01-30",
          "2014-01-31",
          "2014-02-01",
          "2014-02-02",
          "2014-02-03",
          "2014-02-04",
          "2014-02-05",
          "2014-02-06",
          "2014-02-07",
          "2014-02-08",
          "2014-02-09",
          "2014-02-10",
          "2014-02-11",
          "2014-02-12",
          "2014-02-13",
          "2014-02-14",
          "2014-02-15",
          "2014-02-16",
          "2014-02-17",
          "2014-02-18",
          "2014-02-19",
          "2014-02-20",
          "2014-02-21",
          "2014-02-22",
          "2014-02-23",
          "2014-02-24",
          "2014-02-25",
          "2014-02-26",
          "2014-02-27",
          "2014-02-28",
          "2014-03-01",
          "2014-03-02",
          "2014-03-03",
          "2014-03-04",
          "2014-03-05",
          "2014-03-06",
          "2014-03-07",
          "2014-03-08",
          "2014-03-09",
          "2014-03-10",
          "2014-03-11",
          "2014-03-12",
          "2014-03-13",
          "2014-03-14",
          "2014-03-15",
          "2014-03-16",
          "2014-03-17",
          "2014-03-18",
          "2014-03-19",
          "2014-03-20",
          "2014-03-21",
          "2014-03-22",
          "2014-03-23",
          "2014-03-24",
          "2014-03-25",
          "2014-03-26",
          "2014-03-27",
          "2014-03-28",
          "2014-03-29",
          "2014-03-30",
          "2014-03-31",
          "2014-04-01",
          "2014-04-02",
          "2014-04-03",
          "2014-04-04",
          "2014-04-05",
          "2014-04-06",
          "2014-04-07",
          "2014-04-08",
          "2014-04-09",
          "2014-04-10",
          "2014-04-11",
          "2014-04-12",
          "2014-04-13",
          "2014-04-14",
          "2014-04-15",
          "2014-04-16",
          "2014-04-17",
          "2014-04-18",
          "2014-04-19",
          "2014-04-20",
          "2014-04-21",
          "2014-04-22",
          "2014-04-23",
          "2014-04-24",
          "2014-04-25",
          "2014-04-26",
          "2014-04-27",
          "2014-04-28",
          "2014-04-29",
          "2014-04-30",
          "2014-05-01",
          "2014-05-02",
          "2014-05-03",
          "2014-05-04",
          "2014-05-05",
          "2014-05-06",
          "2014-05-07",
          "2014-05-08",
          "2014-05-09",
          "2014-05-10",
          "2014-05-11",
          "2014-05-12",
          "2014-05-13",
          "2014-05-14",
          "2014-05-15",
          "2014-05-16",
          "2014-05-17",
          "2014-05-18",
          "2014-05-19",
          "2014-05-20",
          "2014-05-21",
          "2014-05-22",
          "2014-05-23",
          "2014-05-24",
          "2014-05-25",
          "2014-05-26",
          "2014-05-27",
          "2014-05-28",
          "2014-05-29",
          "2014-05-30",
          "2014-05-31",
          "2014-06-01",
          "2014-06-02",
          "2014-06-03",
          "2014-06-04",
          "2014-06-05",
          "2014-06-06",
          "2014-06-07",
          "2014-06-08",
          "2014-06-09",
          "2014-06-10",
          "2014-06-11",
          "2014-06-12",
          "2014-06-13",
          "2014-06-14",
          "2014-06-15",
          "2014-06-16",
          "2014-06-17",
          "2014-06-18",
          "2014-06-19",
          "2014-06-20",
          "2014-06-21",
          "2014-06-22",
          "2014-06-23",
          "2014-06-24",
          "2014-06-25",
          "2014-06-26",
          "2014-06-27",
          "2014-06-28",
          "2014-06-29",
          "2014-06-30",
          "2014-07-01",
          "2014-07-02",
          "2014-07-03",
          "2014-07-04",
          "2014-07-05",
          "2014-07-06",
          "2014-07-07",
          "2014-07-08",
          "2014-07-09",
          "2014-07-10",
          "2014-07-11",
          "2014-07-12",
          "2014-07-13",
          "2014-07-14",
          "2014-07-15",
          "2014-07-16",
          "2014-07-17",
          "2014-07-18",
          "2014-07-19",
          "2014-07-20",
          "2014-07-21",
          "2014-07-22",
          "2014-07-23",
          "2014-07-24",
          "2014-07-25",
          "2014-07-26",
          "2014-07-27",
          "2014-07-28",
          "2014-07-29",
          "2014-07-30",
          "2014-07-31",
          "2014-08-01",
          "2014-08-02",
          "2014-08-03",
          "2014-08-04",
          "2014-08-05",
          "2014-08-06",
          "2014-08-07",
          "2014-08-08",
          "2014-08-09",
          "2014-08-10",
          "2014-08-11",
          "2014-08-12",
          "2014-08-13",
          "2014-08-14",
          "2014-08-15",
          "2014-08-16",
          "2014-08-17",
          "2014-08-18",
          "2014-08-19",
          "2014-08-20",
          "2014-08-21",
          "2014-08-22",
          "2014-08-23",
          "2014-08-24",
          "2014-08-25",
          "2014-08-26",
          "2014-08-27",
          "2014-08-28",
          "2014-08-29",
          "2014-08-30",
          "2014-08-31",
          "2014-09-01",
          "2014-09-02",
          "2014-09-03",
          "2014-09-04",
          "2014-09-05",
          "2014-09-06",
          "2014-09-07",
          "2014-09-08",
          "2014-09-09",
          "2014-09-10",
          "2014-09-11",
          "2014-09-12",
          "2014-09-13",
          "2014-09-14",
          "2014-09-15",
          "2014-09-16",
          "2014-09-17",
          "2014-09-18",
          "2014-09-19",
          "2014-09-20",
          "2014-09-21",
          "2014-09-22",
          "2014-09-23",
          "2014-09-24",
          "2014-09-25",
          "2014-09-26",
          "2014-09-27",
          "2014-09-28",
          "2014-09-29",
          "2014-09-30",
          "2014-10-01",
          "2014-10-02",
          "2014-10-03",
          "2014-10-04",
          "2014-10-05",
          "2014-10-06",
          "2014-10-07",
          "2014-10-08",
          "2014-10-09",
          "2014-10-10",
          "2014-10-11",
          "2014-10-12",
          "2014-10-13",
          "2014-10-14",
          "2014-10-15",
          "2014-10-16",
          "2014-10-17",
          "2014-10-18",
          "2014-10-19",
          "2014-10-20",
          "2014-10-21",
          "2014-10-22",
          "2014-10-23",
          "2014-10-24",
          "2014-10-25",
          "2014-10-26",
          "2014-10-27",
          "2014-10-28",
          "2014-10-29",
          "2014-10-30",
          "2014-10-31",
          "2014-11-01",
          "2014-11-02",
          "2014-11-03",
          "2014-11-04",
          "2014-11-05",
          "2014-11-06",
          "2014-11-07",
          "2014-11-08",
          "2014-11-09",
          "2014-11-10",
          "2014-11-11",
          "2014-11-12",
          "2014-11-13",
          "2014-11-14",
          "2014-11-15",
          "2014-11-16",
          "2014-11-17",
          "2014-11-18",
          "2014-11-19",
          "2014-11-20",
          "2014-11-21",
          "2014-11-22",
          "2014-11-23",
          "2014-11-24",
          "2014-11-25",
          "2014-11-26",
          "2014-11-27",
          "2014-11-28",
          "2014-11-29",
          "2014-11-30",
          "2014-12-01",
          "2014-12-02",
          "2014-12-03",
          "2014-12-04",
          "2014-12-05",
          "2014-12-06",
          "2014-12-07",
          "2014-12-08",
          "2014-12-09",
          "2014-12-10",
          "2014-12-11",
          "2014-12-12",
          "2014-12-13",
          "2014-12-14",
          "2014-12-15",
          "2014-12-16",
          "2014-12-17",
          "2014-12-18",
          "2014-12-19",
          "2014-12-20",
          "2014-12-21",
          "2014-12-22",
          "2014-12-23",
          "2014-12-24",
          "2014-12-25",
          "2014-12-26",
          "2014-12-27",
          "2014-12-28",
          "2014-12-29",
          "2014-12-30",
          "2014-12-31",
          "2015-01-01",
          "2015-01-02",
          "2015-01-03",
          "2015-01-04",
          "2015-01-05",
          "2015-01-06",
          "2015-01-07",
          "2015-01-08",
          "2015-01-09",
          "2015-01-10",
          "2015-01-11",
          "2015-01-12",
          "2015-01-13",
          "2015-01-14",
          "2015-01-15",
          "2015-01-16",
          "2015-01-17",
          "2015-01-18",
          "2015-01-19",
          "2015-01-20",
          "2015-01-21",
          "2015-01-22",
          "2015-01-23",
          "2015-01-24",
          "2015-01-25",
          "2015-01-26",
          "2015-01-27",
          "2015-01-28",
          "2015-01-29",
          "2015-01-30",
          "2015-01-31",
          "2015-02-01",
          "2015-02-02",
          "2015-02-03",
          "2015-02-04",
          "2015-02-05",
          "2015-02-06",
          "2015-02-07",
          "2015-02-08",
          "2015-02-09",
          "2015-02-10",
          "2015-02-11",
          "2015-02-12",
          "2015-02-13",
          "2015-02-14",
          "2015-02-15",
          "2015-02-16",
          "2015-02-17",
          "2015-02-18",
          "2015-02-19",
          "2015-02-20",
          "2015-02-21",
          "2015-02-22",
          "2015-02-23",
          "2015-02-24",
          "2015-02-25",
          "2015-02-26",
          "2015-02-27",
          "2015-02-28",
          "2015-03-01",
          "2015-03-02",
          "2015-03-03",
          "2015-03-04",
          "2015-03-05",
          "2015-03-06",
          "2015-03-07",
          "2015-03-08",
          "2015-03-09",
          "2015-03-10",
          "2015-03-11",
          "2015-03-12",
          "2015-03-13",
          "2015-03-14",
          "2015-03-15",
          "2015-03-16",
          "2015-03-17",
          "2015-03-18",
          "2015-03-19",
          "2015-03-20",
          "2015-03-21",
          "2015-03-22",
          "2015-03-23",
          "2015-03-24",
          "2015-03-25",
          "2015-03-26",
          "2015-03-27",
          "2015-03-28",
          "2015-03-29",
          "2015-03-30",
          "2015-03-31",
          "2015-04-01",
          "2015-04-02",
          "2015-04-03",
          "2015-04-04",
          "2015-04-05",
          "2015-04-06",
          "2015-04-07",
          "2015-04-08",
          "2015-04-09",
          "2015-04-10",
          "2015-04-11",
          "2015-04-12",
          "2015-04-13",
          "2015-04-14",
          "2015-04-15",
          "2015-04-16",
          "2015-04-17",
          "2015-04-18",
          "2015-04-19",
          "2015-04-20",
          "2015-04-21",
          "2015-04-22",
          "2015-04-23",
          "2015-04-24",
          "2015-04-25",
          "2015-04-26",
          "2015-04-27",
          "2015-04-28",
          "2015-04-29",
          "2015-04-30",
          "2015-05-01",
          "2015-05-02",
          "2015-05-03",
          "2015-05-04",
          "2015-05-05",
          "2015-05-06",
          "2015-05-07",
          "2015-05-08",
          "2015-05-09",
          "2015-05-10",
          "2015-05-11",
          "2015-05-12",
          "2015-05-13",
          "2015-05-14",
          "2015-05-15",
          "2015-05-16",
          "2015-05-17",
          "2015-05-18",
          "2015-05-19",
          "2015-05-20",
          "2015-05-21",
          "2015-05-22",
          "2015-05-23",
          "2015-05-24",
          "2015-05-25",
          "2015-05-26",
          "2015-05-27",
          "2015-05-28",
          "2015-05-29",
          "2015-05-30",
          "2015-05-31",
          "2015-06-01",
          "2015-06-02",
          "2015-06-03",
          "2015-06-04",
          "2015-06-05",
          "2015-06-06",
          "2015-06-07",
          "2015-06-08",
          "2015-06-09",
          "2015-06-10",
          "2015-06-11",
          "2015-06-12",
          "2015-06-13",
          "2015-06-14",
          "2015-06-15",
          "2015-06-16",
          "2015-06-17",
          "2015-06-18",
          "2015-06-19",
          "2015-06-20",
          "2015-06-21",
          "2015-06-22",
          "2015-06-23",
          "2015-06-24",
          "2015-06-25",
          "2015-06-26",
          "2015-06-27",
          "2015-06-28",
          "2015-06-29",
          "2015-06-30",
          "2015-07-01",
          "2015-07-02",
          "2015-07-03",
          "2015-07-04",
          "2015-07-05",
          "2015-07-06",
          "2015-07-07",
          "2015-07-08",
          "2015-07-09",
          "2015-07-10",
          "2015-07-11",
          "2015-07-12",
          "2015-07-13",
          "2015-07-14",
          "2015-07-15",
          "2015-07-16",
          "2015-07-17",
          "2015-07-18",
          "2015-07-19",
          "2015-07-20",
          "2015-07-21",
          "2015-07-22",
          "2015-07-23",
          "2015-07-24",
          "2015-07-25",
          "2015-07-26",
          "2015-07-27",
          "2015-07-28",
          "2015-07-29",
          "2015-07-30",
          "2015-07-31",
          "2015-08-01",
          "2015-08-02",
          "2015-08-03",
          "2015-08-04",
          "2015-08-05",
          "2015-08-06",
          "2015-08-07",
          "2015-08-08",
          "2015-08-09",
          "2015-08-10",
          "2015-08-11",
          "2015-08-12",
          "2015-08-13",
          "2015-08-14",
          "2015-08-15",
          "2015-08-16",
          "2015-08-17",
          "2015-08-18",
          "2015-08-19",
          "2015-08-20",
          "2015-08-21",
          "2015-08-22",
          "2015-08-23",
          "2015-08-24",
          "2015-08-25",
          "2015-08-26",
          "2015-08-27",
          "2015-08-28",
          "2015-08-29",
          "2015-08-30",
          "2015-08-31",
          "2015-09-01",
          "2015-09-02",
          "2015-09-03",
          "2015-09-04",
          "2015-09-05",
          "2015-09-06",
          "2015-09-07",
          "2015-09-08",
          "2015-09-09",
          "2015-09-10",
          "2015-09-11",
          "2015-09-12",
          "2015-09-13",
          "2015-09-14",
          "2015-09-15",
          "2015-09-16",
          "2015-09-17",
          "2015-09-18",
          "2015-09-19",
          "2015-09-20",
          "2015-09-21",
          "2015-09-22",
          "2015-09-23",
          "2015-09-24",
          "2015-09-25",
          "2015-09-26",
          "2015-09-27",
          "2015-09-28",
          "2015-09-29",
          "2015-09-30",
          "2015-10-01",
          "2015-10-02",
          "2015-10-03",
          "2015-10-04",
          "2015-10-05",
          "2015-10-06",
          "2015-10-07",
          "2015-10-08",
          "2015-10-09",
          "2015-10-10",
          "2015-10-11",
          "2015-10-12",
          "2015-10-13",
          "2015-10-14",
          "2015-10-15",
          "2015-10-16",
          "2015-10-17",
          "2015-10-18",
          "2015-10-19",
          "2015-10-20",
          "2015-10-21",
          "2015-10-22",
          "2015-10-23",
          "2015-10-24",
          "2015-10-25",
          "2015-10-26",
          "2015-10-27",
          "2015-10-28",
          "2015-10-29",
          "2015-10-30",
          "2015-10-31",
          "2015-11-01",
          "2015-11-02",
          "2015-11-03",
          "2015-11-04",
          "2015-11-05",
          "2015-11-06",
          "2015-11-07",
          "2015-11-08",
          "2015-11-09",
          "2015-11-10",
          "2015-11-11",
          "2015-11-12",
          "2015-11-13",
          "2015-11-14",
          "2015-11-15",
          "2015-11-16",
          "2015-11-17",
          "2015-11-18",
          "2015-11-19",
          "2015-11-20",
          "2015-11-21",
          "2015-11-22",
          "2015-11-23",
          "2015-11-24",
          "2015-11-25",
          "2015-11-26",
          "2015-11-27",
          "2015-11-28",
          "2015-11-29",
          "2015-11-30",
          "2015-12-01",
          "2015-12-02",
          "2015-12-03",
          "2015-12-04",
          "2015-12-05",
          "2015-12-06",
          "2015-12-07",
          "2015-12-08",
          "2015-12-09",
          "2015-12-10",
          "2015-12-11",
          "2015-12-12",
          "2015-12-13",
          "2015-12-14",
          "2015-12-15",
          "2015-12-16",
          "2015-12-17",
          "2015-12-18",
          "2015-12-19",
          "2015-12-20",
          "2015-12-21",
          "2015-12-22",
          "2015-12-23",
          "2015-12-24",
          "2015-12-25",
          "2015-12-26",
          "2015-12-27",
          "2015-12-28",
          "2015-12-29",
          "2015-12-30",
          "2015-12-31",
          "2016-01-01",
          "2016-01-02",
          "2016-01-03",
          "2016-01-04",
          "2016-01-05",
          "2016-01-06",
          "2016-01-07",
          "2016-01-08",
          "2016-01-09",
          "2016-01-10",
          "2016-01-11",
          "2016-01-12",
          "2016-01-13",
          "2016-01-14",
          "2016-01-15",
          "2016-01-16",
          "2016-01-17",
          "2016-01-18",
          "2016-01-19",
          "2016-01-20",
          "2016-01-21",
          "2016-01-22",
          "2016-01-23",
          "2016-01-24",
          "2016-01-25",
          "2016-01-26",
          "2016-01-27",
          "2016-01-28",
          "2016-01-29",
          "2016-01-30",
          "2016-01-31",
          "2016-02-01",
          "2016-02-02",
          "2016-02-03",
          "2016-02-04",
          "2016-02-05",
          "2016-02-06",
          "2016-02-07",
          "2016-02-08",
          "2016-02-09",
          "2016-02-10",
          "2016-02-11",
          "2016-02-12",
          "2016-02-13",
          "2016-02-14",
          "2016-02-15",
          "2016-02-16",
          "2016-02-17",
          "2016-02-18",
          "2016-02-19",
          "2016-02-20",
          "2016-02-21",
          "2016-02-22",
          "2016-02-23",
          "2016-02-24",
          "2016-02-25",
          "2016-02-26",
          "2016-02-27",
          "2016-02-28",
          "2016-02-29",
          "2016-03-01",
          "2016-03-02",
          "2016-03-03",
          "2016-03-04",
          "2016-03-05",
          "2016-03-06",
          "2016-03-07",
          "2016-03-08",
          "2016-03-09",
          "2016-03-10",
          "2016-03-11",
          "2016-03-12",
          "2016-03-13",
          "2016-03-14",
          "2016-03-15",
          "2016-03-16",
          "2016-03-17",
          "2016-03-18",
          "2016-03-19",
          "2016-03-20",
          "2016-03-21",
          "2016-03-22",
          "2016-03-23",
          "2016-03-24",
          "2016-03-25",
          "2016-03-26",
          "2016-03-27",
          "2016-03-28",
          "2016-03-29",
          "2016-03-30",
          "2016-03-31",
          "2016-04-01",
          "2016-04-02",
          "2016-04-03",
          "2016-04-04",
          "2016-04-05",
          "2016-04-06",
          "2016-04-07",
          "2016-04-08",
          "2016-04-09",
          "2016-04-10",
          "2016-04-11",
          "2016-04-12",
          "2016-04-13",
          "2016-04-14",
          "2016-04-15",
          "2016-04-16",
          "2016-04-17",
          "2016-04-18",
          "2016-04-19",
          "2016-04-20",
          "2016-04-21",
          "2016-04-22",
          "2016-04-23",
          "2016-04-24",
          "2016-04-25",
          "2016-04-26",
          "2016-04-27",
          "2016-04-28",
          "2016-04-29",
          "2016-04-30",
          "2016-05-01",
          "2016-05-02",
          "2016-05-03",
          "2016-05-04",
          "2016-05-05",
          "2016-05-06",
          "2016-05-07",
          "2016-05-08",
          "2016-05-09",
          "2016-05-10",
          "2016-05-11",
          "2016-05-12",
          "2016-05-13",
          "2016-05-14",
          "2016-05-15",
          "2016-05-16",
          "2016-05-17",
          "2016-05-18",
          "2016-05-19",
          "2016-05-20",
          "2016-05-21",
          "2016-05-22",
          "2016-05-23",
          "2016-05-24",
          "2016-05-25",
          "2016-05-26",
          "2016-05-27",
          "2016-05-28",
          "2016-05-29",
          "2016-05-30",
          "2016-05-31",
          "2016-06-01",
          "2016-06-02",
          "2016-06-03",
          "2016-06-04",
          "2016-06-05",
          "2016-06-06",
          "2016-06-07",
          "2016-06-08",
          "2016-06-09",
          "2016-06-10",
          "2016-06-11",
          "2016-06-12",
          "2016-06-13",
          "2016-06-14",
          "2016-06-15",
          "2016-06-16",
          "2016-06-17",
          "2016-06-18",
          "2016-06-19",
          "2016-06-20",
          "2016-06-21",
          "2016-06-22",
          "2016-06-23",
          "2016-06-24",
          "2016-06-25",
          "2016-06-26",
          "2016-06-27",
          "2016-06-28",
          "2016-06-29",
          "2016-06-30",
          "2016-07-01",
          "2016-07-02",
          "2016-07-03",
          "2016-07-04",
          "2016-07-05",
          "2016-07-06",
          "2016-07-07",
          "2016-07-08",
          "2016-07-09",
          "2016-07-10",
          "2016-07-11",
          "2016-07-12",
          "2016-07-13",
          "2016-07-14",
          "2016-07-15",
          "2016-07-16",
          "2016-07-17",
          "2016-07-18",
          "2016-07-19",
          "2016-07-20",
          "2016-07-21",
          "2016-07-22",
          "2016-07-23",
          "2016-07-24",
          "2016-07-25",
          "2016-07-26",
          "2016-07-27",
          "2016-07-28",
          "2016-07-29",
          "2016-07-30",
          "2016-07-31",
          "2016-08-01",
          "2016-08-02",
          "2016-08-03",
          "2016-08-04",
          "2016-08-05",
          "2016-08-06",
          "2016-08-07",
          "2016-08-08",
          "2016-08-09",
          "2016-08-10",
          "2016-08-11",
          "2016-08-12",
          "2016-08-13",
          "2016-08-14",
          "2016-08-15",
          "2016-08-16",
          "2016-08-17",
          "2016-08-18",
          "2016-08-19",
          "2016-08-20",
          "2016-08-21",
          "2016-08-22",
          "2016-08-23",
          "2016-08-24",
          "2016-08-25",
          "2016-08-26",
          "2016-08-27",
          "2016-08-28",
          "2016-08-29",
          "2016-08-30",
          "2016-08-31",
          "2016-09-01",
          "2016-09-02",
          "2016-09-03",
          "2016-09-04",
          "2016-09-05",
          "2016-09-06",
          "2016-09-07",
          "2016-09-08",
          "2016-09-09",
          "2016-09-10",
          "2016-09-11",
          "2016-09-12",
          "2016-09-13",
          "2016-09-14",
          "2016-09-15",
          "2016-09-16",
          "2016-09-17",
          "2016-09-18",
          "2016-09-19",
          "2016-09-20",
          "2016-09-21",
          "2016-09-22",
          "2016-09-23",
          "2016-09-24",
          "2016-09-25",
          "2016-09-26",
          "2016-09-27",
          "2016-09-28",
          "2016-09-29",
          "2016-09-30",
          "2016-10-01",
          "2016-10-02",
          "2016-10-03",
          "2016-10-04",
          "2016-10-05",
          "2016-10-06",
          "2016-10-07",
          "2016-10-08",
          "2016-10-09",
          "2016-10-10",
          "2016-10-11",
          "2016-10-12",
          "2016-10-13",
          "2016-10-14",
          "2016-10-15",
          "2016-10-16",
          "2016-10-17",
          "2016-10-18",
          "2016-10-19",
          "2016-10-20",
          "2016-10-21",
          "2016-10-22",
          "2016-10-23",
          "2016-10-24",
          "2016-10-25",
          "2016-10-26",
          "2016-10-27",
          "2016-10-28",
          "2016-10-29",
          "2016-10-30",
          "2016-10-31",
          "2016-11-01",
          "2016-11-02",
          "2016-11-03",
          "2016-11-04",
          "2016-11-05",
          "2016-11-06",
          "2016-11-07",
          "2016-11-08",
          "2016-11-09",
          "2016-11-10",
          "2016-11-11",
          "2016-11-12",
          "2016-11-13",
          "2016-11-14",
          "2016-11-15",
          "2016-11-16",
          "2016-11-17",
          "2016-11-18",
          "2016-11-19",
          "2016-11-20",
          "2016-11-21",
          "2016-11-22",
          "2016-11-23",
          "2016-11-24",
          "2016-11-25",
          "2016-11-26",
          "2016-11-27",
          "2016-11-28",
          "2016-11-29",
          "2016-11-30",
          "2016-12-01",
          "2016-12-02",
          "2016-12-03",
          "2016-12-04",
          "2016-12-05",
          "2016-12-06",
          "2016-12-07",
          "2016-12-08",
          "2016-12-09",
          "2016-12-10",
          "2016-12-11",
          "2016-12-12",
          "2016-12-13",
          "2016-12-14",
          "2016-12-15",
          "2016-12-16",
          "2016-12-17",
          "2016-12-18",
          "2016-12-19",
          "2016-12-20",
          "2016-12-21",
          "2016-12-22",
          "2016-12-23",
          "2016-12-24",
          "2016-12-25",
          "2016-12-26",
          "2016-12-27",
          "2016-12-28",
          "2016-12-29",
          "2016-12-30",
          "2016-12-31",
          "2017-01-01",
          "2017-01-02",
          "2017-01-03",
          "2017-01-04",
          "2017-01-05",
          "2017-01-06",
          "2017-01-07",
          "2017-01-08",
          "2017-01-09",
          "2017-01-10",
          "2017-01-11",
          "2017-01-12",
          "2017-01-13",
          "2017-01-14",
          "2017-01-15",
          "2017-01-16",
          "2017-01-17",
          "2017-01-18",
          "2017-01-19",
          "2017-01-20",
          "2017-01-21",
          "2017-01-22",
          "2017-01-23",
          "2017-01-24",
          "2017-01-25",
          "2017-01-26",
          "2017-01-27",
          "2017-01-28",
          "2017-01-29",
          "2017-01-30",
          "2017-01-31",
          "2017-02-01",
          "2017-02-02",
          "2017-02-03",
          "2017-02-04",
          "2017-02-05",
          "2017-02-06",
          "2017-02-07",
          "2017-02-08",
          "2017-02-09",
          "2017-02-10",
          "2017-02-11",
          "2017-02-12",
          "2017-02-13",
          "2017-02-14",
          "2017-02-15",
          "2017-02-16",
          "2017-02-17",
          "2017-02-18",
          "2017-02-19",
          "2017-02-20",
          "2017-02-21",
          "2017-02-22",
          "2017-02-23",
          "2017-02-24",
          "2017-02-25",
          "2017-02-26",
          "2017-02-27",
          "2017-02-28",
          "2017-03-01",
          "2017-03-02",
          "2017-03-03",
          "2017-03-04",
          "2017-03-05",
          "2017-03-06",
          "2017-03-07",
          "2017-03-08",
          "2017-03-09",
          "2017-03-10",
          "2017-03-11",
          "2017-03-12",
          "2017-03-13",
          "2017-03-14",
          "2017-03-15",
          "2017-03-16",
          "2017-03-17",
          "2017-03-18",
          "2017-03-19",
          "2017-03-20",
          "2017-03-21",
          "2017-03-22",
          "2017-03-23",
          "2017-03-24",
          "2017-03-25",
          "2017-03-26",
          "2017-03-27",
          "2017-03-28",
          "2017-03-29",
          "2017-03-30",
          "2017-03-31",
          "2017-04-01",
          "2017-04-02",
          "2017-04-03",
          "2017-04-04",
          "2017-04-05",
          "2017-04-06",
          "2017-04-07",
          "2017-04-08",
          "2017-04-09",
          "2017-04-10",
          "2017-04-11",
          "2017-04-12",
          "2017-04-13",
          "2017-04-14",
          "2017-04-15",
          "2017-04-16",
          "2017-04-17",
          "2017-04-18",
          "2017-04-19",
          "2017-04-20",
          "2017-04-21",
          "2017-04-22",
          "2017-04-23",
          "2017-04-24",
          "2017-04-25",
          "2017-04-26",
          "2017-04-27",
          "2017-04-28",
          "2017-04-29",
          "2017-04-30",
          "2017-05-01",
          "2017-05-02",
          "2017-05-03",
          "2017-05-04",
          "2017-05-05",
          "2017-05-06",
          "2017-05-07",
          "2017-05-08",
          "2017-05-09",
          "2017-05-10",
          "2017-05-11",
          "2017-05-12",
          "2017-05-13",
          "2017-05-14",
          "2017-05-15",
          "2017-05-16",
          "2017-05-17",
          "2017-05-18",
          "2017-05-19",
          "2017-05-20",
          "2017-05-21",
          "2017-05-22",
          "2017-05-23",
          "2017-05-24",
          "2017-05-25",
          "2017-05-26",
          "2017-05-27",
          "2017-05-28",
          "2017-05-29",
          "2017-05-30",
          "2017-05-31",
          "2017-06-01",
          "2017-06-02",
          "2017-06-03",
          "2017-06-04",
          "2017-06-05",
          "2017-06-06",
          "2017-06-07",
          "2017-06-08",
          "2017-06-09",
          "2017-06-10",
          "2017-06-11",
          "2017-06-12",
          "2017-06-13",
          "2017-06-14",
          "2017-06-15",
          "2017-06-16",
          "2017-06-17",
          "2017-06-18",
          "2017-06-19",
          "2017-06-20",
          "2017-06-21",
          "2017-06-22",
          "2017-06-23",
          "2017-06-24",
          "2017-06-25",
          "2017-06-26",
          "2017-06-27",
          "2017-06-28",
          "2017-06-29",
          "2017-06-30",
          "2017-07-01",
          "2017-07-02",
          "2017-07-03",
          "2017-07-04",
          "2017-07-05",
          "2017-07-06",
          "2017-07-07",
          "2017-07-08",
          "2017-07-09",
          "2017-07-10",
          "2017-07-11",
          "2017-07-12",
          "2017-07-13",
          "2017-07-14",
          "2017-07-15",
          "2017-07-16",
          "2017-07-17",
          "2017-07-18",
          "2017-07-19",
          "2017-07-20",
          "2017-07-21",
          "2017-07-22",
          "2017-07-23",
          "2017-07-24",
          "2017-07-25",
          "2017-07-26",
          "2017-07-27",
          "2017-07-28",
          "2017-07-29",
          "2017-07-30",
          "2017-07-31",
          "2017-08-01",
          "2017-08-02",
          "2017-08-03",
          "2017-08-04",
          "2017-08-05",
          "2017-08-06",
          "2017-08-07",
          "2017-08-08",
          "2017-08-09",
          "2017-08-10",
          "2017-08-11",
          "2017-08-12",
          "2017-08-13",
          "2017-08-14",
          "2017-08-15",
          "2017-08-16",
          "2017-08-17",
          "2017-08-18",
          "2017-08-19",
          "2017-08-20",
          "2017-08-21",
          "2017-08-22",
          "2017-08-23",
          "2017-08-24",
          "2017-08-25",
          "2017-08-26",
          "2017-08-27",
          "2017-08-28",
          "2017-08-29",
          "2017-08-30",
          "2017-08-31",
          "2017-09-01",
          "2017-09-02",
          "2017-09-03",
          "2017-09-04",
          "2017-09-05",
          "2017-09-06",
          "2017-09-07",
          "2017-09-08",
          "2017-09-09",
          "2017-09-10",
          "2017-09-11",
          "2017-09-12",
          "2017-09-13",
          "2017-09-14",
          "2017-09-15",
          "2017-09-16",
          "2017-09-17",
          "2017-09-18",
          "2017-09-19",
          "2017-09-20",
          "2017-09-21",
          "2017-09-22",
          "2017-09-23",
          "2017-09-24",
          "2017-09-25",
          "2017-09-26",
          "2017-09-27",
          "2017-09-28",
          "2017-09-29",
          "2017-09-30",
          "2017-10-01",
          "2017-10-02",
          "2017-10-03",
          "2017-10-04",
          "2017-10-05",
          "2017-10-06",
          "2017-10-07",
          "2017-10-08",
          "2017-10-09",
          "2017-10-10",
          "2017-10-11",
          "2017-10-12",
          "2017-10-13",
          "2017-10-14",
          "2017-10-15",
          "2017-10-16",
          "2017-10-17",
          "2017-10-18",
          "2017-10-19",
          "2017-10-20",
          "2017-10-21",
          "2017-10-22",
          "2017-10-23",
          "2017-10-24",
          "2017-10-25",
          "2017-10-26",
          "2017-10-27",
          "2017-10-28",
          "2017-10-29",
          "2017-10-30",
          "2017-10-31",
          "2017-11-01",
          "2017-11-02",
          "2017-11-03",
          "2017-11-04",
          "2017-11-05",
          "2017-11-06",
          "2017-11-07",
          "2017-11-08",
          "2017-11-09",
          "2017-11-10",
          "2017-11-11",
          "2017-11-12",
          "2017-11-13",
          "2017-11-14",
          "2017-11-15",
          "2017-11-16",
          "2017-11-17",
          "2017-11-18",
          "2017-11-19",
          "2017-11-20",
          "2017-11-21",
          "2017-11-22",
          "2017-11-23",
          "2017-11-24",
          "2017-11-25",
          "2017-11-26",
          "2017-11-27",
          "2017-11-28",
          "2017-11-29",
          "2017-11-30",
          "2017-12-01",
          "2017-12-02",
          "2017-12-03",
          "2017-12-04",
          "2017-12-05",
          "2017-12-06",
          "2017-12-07",
          "2017-12-08",
          "2017-12-09",
          "2017-12-10",
          "2017-12-11",
          "2017-12-12",
          "2017-12-13",
          "2017-12-14",
          "2017-12-15",
          "2017-12-16",
          "2017-12-17",
          "2017-12-18",
          "2017-12-19",
          "2017-12-20",
          "2017-12-21",
          "2017-12-22",
          "2017-12-23",
          "2017-12-24",
          "2017-12-25",
          "2017-12-26",
          "2017-12-27",
          "2017-12-28",
          "2017-12-29",
          "2017-12-30",
          "2017-12-31"
         ],
         "y": [
          12852.162232277527,
          12941.285709200603,
          13030.409186123681,
          13119.532663046757,
          13208.656139969835,
          13297.77961689291,
          13386.903093815989,
          13476.026570739064,
          13565.150047662142,
          13654.273524585218,
          13743.397001508296,
          13832.520478431372,
          13921.643955354448,
          14010.767432277526,
          14099.890909200602,
          14189.01438612368,
          14278.137863046755,
          14367.261339969833,
          14456.384816892909,
          14545.508293815987,
          14634.631770739063,
          14723.755247662139,
          14812.878724585216,
          14902.002201508294,
          14991.12567843137,
          15377.890000000001,
          15416.53,
          15472.090000000002,
          15528.730000000001,
          15588.769999999999,
          15578.890000000005,
          15570.71,
          15619.399999999992,
          15657.44000000001,
          15744.3,
          15872.27,
          16002.690000000006,
          16048.19,
          16092.310000000001,
          16204.840000000002,
          16310.13,
          16429.000000000007,
          16556.270000000004,
          16691.440000000002,
          16738.13,
          16778.440000000006,
          16888.53000000001,
          16993.24,
          17112.969999999998,
          17239.92000000001,
          17372.73,
          17420.540000000005,
          17464.45,
          17572.050000000007,
          17675.92000000001,
          17796.940000000002,
          17904.17,
          18000.160000000003,
          18010.830000000005,
          18024.960000000006,
          18111.260000000006,
          18190.640000000003,
          18282.810000000005,
          18377.219999999998,
          18476.760000000002,
          18514.910000000003,
          18584.510000000002,
          18726.79,
          18862.350000000006,
          19016.21000000001,
          19176.640000000003,
          19346.5,
          19418.97,
          19487.18,
          19628.739999999998,
          19767.780000000006,
          19926.979999999996,
          20089.170000000002,
          20262.35,
          20337.859999999993,
          20407.55,
          20551.51000000001,
          20690,
          20846.73000000001,
          20970.969999999994,
          21070.15,
          21075.130000000005,
          21084.030000000006,
          21173.710000000003,
          21247.760000000006,
          21339.41,
          21435.580000000005,
          21536.380000000005,
          21538.670000000002,
          21546.16,
          21655.299999999992,
          21766.079999999998,
          21893.489999999998,
          22030.41,
          22173.260000000002,
          22206.460000000003,
          22239.920000000002,
          22358.78,
          22468.510000000002,
          22597.170000000002,
          22729.820000000003,
          22865.48,
          22893.739999999998,
          22926.039999999997,
          23043.91,
          23149.61,
          23270.52,
          23399.600000000002,
          23536.780000000006,
          23564.62,
          23569.380000000005,
          23632.590000000004,
          23683.870000000003,
          23748.31,
          23815.699999999997,
          23890.079999999998,
          23850.960000000006,
          23822.640000000003,
          23889.370000000003,
          23938.529999999995,
          24000.830000000005,
          24082.370000000003,
          24187.949999999997,
          24175.55,
          24167.52,
          24256.070000000003,
          24334.879999999997,
          24433.679999999997,
          24536.74,
          24644.980000000007,
          24632.739999999998,
          24628.74,
          24719.82,
          24792.890000000003,
          24887.539999999994,
          24988.75,
          25097.95,
          25086.440000000002,
          25079.829999999994,
          25171.56,
          25231.730000000003,
          25294.479999999996,
          25360.300000000007,
          25432.139999999992,
          25384.96,
          25347.130000000005,
          25410.1,
          25460.96,
          25527.22,
          25593.929999999997,
          25666.16,
          25633.829999999998,
          25629.61,
          25725.020000000004,
          25802.869999999995,
          25901.750000000004,
          26006.620000000006,
          26114.28,
          26099.44,
          26095.36,
          26189.640000000003,
          26269.259999999995,
          26370.819999999996,
          26478.44,
          26587.19,
          26564.289999999997,
          26553.29,
          26645.929999999997,
          26720.21000000001,
          26820.840000000007,
          26926.969999999994,
          27018.159999999993,
          26965.270000000008,
          26923.619999999995,
          26994.140000000003,
          27047.68,
          27115.160000000003,
          27188.550000000003,
          27265.309999999998,
          27212.799999999996,
          27173.740000000005,
          27234.190000000006,
          27241.270000000004,
          27241.64,
          27246.95,
          27248.310000000005,
          27131.639999999996,
          27038,
          27041.21000000001,
          27024.33,
          27023.659999999996,
          27019.149999999994,
          27015.26000000001,
          26894.22,
          26792.629999999997,
          26796.159999999996,
          26781.55,
          26779.73,
          26781.61,
          26781.879999999994,
          26659.98,
          26549.360000000004,
          26527.27999999999,
          26482.820000000003,
          26450.13000000001,
          26414.739999999994,
          26376.360000000004,
          26219.39999999999,
          26089.969999999998,
          26064.760000000002,
          26018.97,
          25986.219999999994,
          25946.72,
          25883.100000000002,
          25695.75,
          25544.089999999997,
          25489.66000000001,
          25412.170000000002,
          25350.609999999993,
          25279.940000000002,
          25201.91,
          25012.1,
          24856.37,
          24806.23,
          24728.770000000004,
          24662.010000000002,
          24591.19,
          24510.020000000004,
          24317.850000000002,
          24158.710000000003,
          24102.429999999997,
          24031.509999999995,
          24007.420000000002,
          24007.42,
          24001.369999999995,
          23886.679999999997,
          23792.15,
          23794.539999999997,
          23782.379999999997,
          23783.129999999997,
          23778,
          23772.270000000004,
          23660.569999999996,
          23550.759999999995,
          23523.54,
          23478.940000000006,
          23443.439999999995,
          23401.219999999998,
          23352.13,
          23204.99,
          23086.419999999995,
          23055.940000000002,
          23010,
          22976.279999999995,
          22936.15,
          22893.859999999993,
          22748.569999999996,
          22628.320000000003,
          22598.189999999995,
          22548.82,
          22512.75,
          22473.059999999994,
          22429.21,
          22300.67,
          22206.079999999998,
          22199.77,
          22182.229999999996,
          22180.189999999995,
          22171.680000000004,
          22158.749999999996,
          22046.920000000002,
          21957.239999999994,
          21956.409999999993,
          21938.519999999997,
          21952.419999999995,
          21980.46,
          22006.960000000003,
          21930.279999999995,
          21868.180000000004,
          21898.279999999995,
          21911.60999999999,
          21937.429999999997,
          21968.05999999999,
          21996.499999999996,
          21917.960000000003,
          21857.219999999994,
          21886.629999999994,
          21897.79,
          21926.169999999995,
          21957.049999999996,
          21989.59999999999,
          21916.879999999994,
          21856.429999999997,
          21904.829999999998,
          21949.68999999999,
          22010.83999999999,
          22078.120000000003,
          22145.65,
          22109.33999999999,
          22079.86999999999,
          22137.800000000007,
          22185.16999999999,
          22244.019999999997,
          22305.259999999995,
          22293.409999999993,
          22125.65,
          21987.02999999999,
          21928.029999999995,
          21850.289999999997,
          21779.379999999997,
          21705.169999999995,
          21619.519999999997,
          21448.889999999996,
          21310.279999999995,
          21249.699999999993,
          21171.799999999996,
          21100.12,
          21019.749999999993,
          20937.729999999992,
          20776.069999999996,
          20636.409999999996,
          20572.38,
          20489.199999999993,
          20412.859999999993,
          20316.08,
          20199.659999999996,
          19998.619999999995,
          19825.449999999997,
          19735.519999999997,
          19628.179999999997,
          19525.139999999985,
          19410.069999999996,
          19282.58,
          19073.089999999993,
          18897.45,
          18807.209999999992,
          18708.86999999999,
          18619.37,
          18520.5,
          18414.44,
          18221.06,
          18057.089999999997,
          17975.279999999995,
          17874.960000000003,
          17784.489999999998,
          17683.039999999994,
          17569.209999999985,
          17371.629999999997,
          17207.3,
          17126.529999999995,
          17028.07,
          16938.3,
          16837.999999999996,
          16728.460000000003,
          16613.989999999994,
          16579.049999999996,
          16607.469999999998,
          16627.119999999995,
          16662.109999999993,
          16699.93999999999,
          16733.670000000002,
          16691.719999999998,
          16661.36999999999,
          16694.12999999999,
          16715.75,
          16750.01,
          16805.48,
          16887.119999999995,
          16884.03,
          16881.200000000004,
          16953.079999999994,
          17018.27999999999,
          17092.08,
          17170.829999999998,
          17253.43,
          17244.999999999993,
          17240.43,
          17307.22,
          17361.959999999992,
          17431.880000000005,
          17509.820000000003,
          17589.739999999998,
          17586.159999999993,
          17587.309999999994,
          17656.92,
          17714.030000000006,
          17774.409999999993,
          17836,
          17902.510000000002,
          17885.259999999995,
          17874.51,
          17934.499999999996,
          17983.879999999997,
          18042.979999999996,
          18145.759999999995,
          18298.949999999997,
          18359.36,
          18416.979999999996,
          18548.089999999997,
          18669.41999999999,
          18808.189999999995,
          18953.07,
          19107.2,
          19165.329999999994,
          19217.070000000003,
          19344.1,
          19464.260000000002,
          19604.579999999994,
          19752.149999999994,
          19904.22,
          19958.55,
          20009.14999999999,
          20134.61,
          20251.01,
          20385.49,
          20528.81,
          20661.820000000003,
          20672.839999999993,
          20680.81,
          20772.249999999996,
          20853.820000000003,
          20951.12,
          21058.9,
          21171.129999999997,
          21181.010000000002,
          21228.24,
          21389.539999999997,
          21548.299999999996,
          21729.930000000004,
          21918.34999999999,
          22122.630000000005,
          22215.219999999994,
          22297.890000000007,
          22465.380000000012,
          22622.069999999996,
          22798.379999999994,
          22984.680000000004,
          23185.010000000002,
          23273.660000000003,
          23352.520000000004,
          23516.809999999998,
          23674.65,
          23853.089999999997,
          24041.06,
          24200.260000000002,
          24201.309999999998,
          24207.059999999998,
          24306.1,
          24387.440000000002,
          24491.79,
          24601.739999999998,
          24719.499999999996,
          24721.079999999998,
          24725.9,
          24828.54,
          24938.329999999998,
          25088.980000000003,
          25243.279999999995,
          25400.34999999999,
          25434.43,
          25474.560000000005,
          25611.579999999998,
          25731.800000000003,
          25876.77999999999,
          26032.219999999998,
          26192.31,
          26229.86,
          26271.75,
          26413.25,
          26540.899999999994,
          26685.77,
          26841.819999999996,
          27006.190000000002,
          27042.119999999995,
          27077.269999999993,
          27180.309999999998,
          27238.409999999996,
          27305.929999999997,
          27378.36,
          27457.870000000003,
          27403.140000000007,
          27363.680000000004,
          27433.53,
          27486.029999999995,
          27560.36,
          27638.6,
          27742.379999999997,
          27731.01,
          27722.06,
          27825.140000000003,
          27916.309999999994,
          28022.809999999998,
          28132.930000000004,
          28251.899999999998,
          28237.940000000002,
          28235.2,
          28339.900000000005,
          28426.000000000004,
          28538.599999999995,
          28660.66999999999,
          28792.570000000003,
          28786.04,
          28782.39,
          28889.239999999994,
          28979.539999999997,
          29073.38000000001,
          29154.789999999994,
          29236.29,
          29180.279999999995,
          29137.210000000003,
          29204.509999999995,
          29263.179999999997,
          29348.63,
          29433.970000000005,
          29518.879999999994,
          29463.180000000004,
          29434.39,
          29537.059999999998,
          29625.39,
          29738.3,
          29859.019999999993,
          29981.83,
          29961.38999999999,
          29955.210000000003,
          30061.92,
          30150.069999999996,
          30264.470000000005,
          30388.13999999999,
          30513.74,
          30491.200000000004,
          30480.76,
          30585.369999999995,
          30673.820000000003,
          30791.24,
          30910.37,
          31032.229999999992,
          30993.44,
          30945.210000000003,
          31016.369999999995,
          31067.16,
          31143.750000000004,
          31232.039999999994,
          31326.419999999995,
          31270.209999999995,
          31222.3,
          31295.299999999992,
          31350.319999999996,
          31387.92,
          31386.799999999996,
          31377.199999999997,
          31226.440000000002,
          31105.539999999994,
          31108.320000000007,
          31089.53000000001,
          31085.99999999999,
          31080.51999999999,
          31070.950000000008,
          30931.819999999996,
          30817.87,
          30821.370000000003,
          30806.400000000005,
          30800.450000000008,
          30791.66,
          30787.679999999993,
          30650.750000000004,
          30538.30000000001,
          30526.45,
          30473.659999999996,
          30432.959999999992,
          30386.719999999998,
          30338.509999999995,
          30154.989999999994,
          30003.53000000001,
          29973.770000000004,
          29921.53,
          29887.179999999997,
          29847.420000000002,
          29802.339999999997,
          29607,
          29427.17,
          29364.789999999997,
          29278.380000000005,
          29207.620000000003,
          29122.709999999992,
          29033.19,
          28819.440000000006,
          28636.699999999997,
          28576.59,
          28494.15000000001,
          28421.329999999998,
          28339.140000000007,
          28249.87,
          28031.57,
          27850.790000000005,
          27790.18,
          27703.909999999993,
          27633.01000000001,
          27597.84000000001,
          27594.030000000002,
          27466.699999999997,
          27365.24000000001,
          27367.43,
          27348.89,
          27345.68,
          27341.600000000002,
          27336.489999999998,
          27203.73,
          27094.24,
          27079.11,
          27030.750000000007,
          26994.399999999998,
          26951.520000000004,
          26903.050000000003,
          26731.649999999998,
          26586.799999999996,
          26553.93,
          26503.649999999998,
          26462.84,
          26417.969999999994,
          26369.95,
          26204.320000000007,
          26068.65,
          26034.649999999994,
          25974.539999999997,
          25932.420000000002,
          25888.74,
          25840.16,
          25672.739999999994,
          25551.200000000004,
          25556.850000000006,
          25541.460000000003,
          25538.25,
          25530.869999999995,
          25522.7,
          25397.519999999997,
          25292.33000000001,
          25290.88,
          25269.789999999997,
          25266.7,
          25286.69,
          25320.909999999996,
          25229.640000000007,
          25155.519999999997,
          25185.41,
          25203.529999999995,
          25239.089999999993,
          25269.62,
          25298.190000000002,
          25205.58,
          25134.22,
          25170.899999999994,
          25192.459999999992,
          25230.050000000003,
          25269.07,
          25306.77,
          25218.999999999996,
          25149.389999999996,
          25185.51,
          25221.23,
          25286.089999999997,
          25355.88000000001,
          25433.900000000005,
          25394.170000000002,
          25364.89,
          25437.359999999993,
          25492.27,
          25562.239999999994,
          25639.23,
          25719.11,
          25619.039999999997,
          25458.239999999998,
          25383.730000000003,
          25291.489999999998,
          25214.129999999997,
          25129.419999999995,
          25028.019999999997,
          24830.54,
          24671.79,
          24600.34999999999,
          24504.769999999997,
          24418.530000000006,
          24327.340000000004,
          24229.869999999995,
          24035.569999999996,
          23873.230000000003,
          23804.719999999994,
          23715.570000000003,
          23634.05,
          23542.419999999995,
          23420.53000000001,
          23186.48999999999,
          22988.89,
          22883.25,
          22756.55,
          22634.469999999994,
          22503.820000000003,
          22367.82,
          22134.45,
          21938.429999999997,
          21832.140000000003,
          21685.65,
          21537.109999999997,
          21379.869999999995,
          21211.47,
          20953.930000000004,
          20738.179999999997,
          20612.779999999995,
          20464.05,
          20323.75,
          20173.83,
          20010.489999999994,
          19749.289999999997,
          19527.070000000003,
          19400.72,
          19250.949999999993,
          19104.789999999997,
          18948.280000000006,
          18781.4,
          18523.580000000005,
          18365.249999999993,
          18367.119999999995,
          18358.780000000006,
          18362.11,
          18360.960000000003,
          18359.170000000002,
          18279.38,
          18213.53,
          18215.15000000001,
          18201.589999999997,
          18200.83,
          18201.89999999999,
          18223.2,
          18175.39,
          18140.07,
          18179.710000000003,
          18204.420000000002,
          18243.760000000002,
          18286.53,
          18334.969999999998,
          18293.969999999998,
          18259.83,
          18301.42,
          18332.129999999997,
          18374.309999999994,
          18415.72,
          18456.930000000004,
          18406.289999999997,
          18369.789999999997,
          18411.120000000003,
          18444.07,
          18505.589999999993,
          18574.779999999995,
          18644.83,
          18625.780000000006,
          18608.34999999999,
          18664.37,
          18714.930000000004,
          18778.339999999997,
          18839.79,
          18954.289999999997,
          19012.710000000003,
          19066.840000000007,
          19200.139999999992,
          19324.4,
          19467.190000000006,
          19622.429999999997,
          19786.659999999993,
          19843.999999999996,
          19895.14,
          20026.330000000005,
          20153.129999999994,
          20298.920000000002,
          20450.620000000003,
          20610.859999999993,
          20670.619999999995,
          20724.670000000002,
          20856.05,
          20977.250000000004,
          21126.849999999995,
          21287.649999999994,
          21450.000000000007,
          21486.07,
          21501.22,
          21600.05,
          21686.73,
          21790.23,
          21898.66,
          22014.94,
          22028.640000000007,
          22042.39,
          22172.129999999997,
          22332.469999999998,
          22522.69,
          22724.23,
          22933.499999999996,
          23026.329999999998,
          23112.770000000008,
          23280.739999999998,
          23441.870000000003,
          23627.760000000006,
          23821.88,
          24033.229999999996,
          24124.6,
          24204.339999999997,
          24372.000000000007,
          24534.940000000002,
          24726.420000000002,
          24928.680000000004,
          25143.360000000004,
          25188.370000000006,
          25188.309999999998,
          25289.909999999993,
          25381.250000000007,
          25491.449999999997,
          25605.800000000003,
          25727.719999999994,
          25726.490000000005,
          25731.52000000001,
          25836.569999999996,
          25929.42,
          26063.460000000006,
          26220.770000000008,
          26383.420000000006,
          26418.65000000001,
          26454.68,
          26594.130000000005,
          26723.789999999997,
          26878.140000000003,
          27034.410000000003,
          27194.86,
          27229.41,
          27265.890000000003,
          27405.950000000008,
          27538.090000000007,
          27696.68,
          27860.760000000002,
          28033.929999999997,
          28074.580000000005,
          28112.140000000003,
          28255.83,
          28354.760000000002,
          28431.38,
          28503.84999999999,
          28583.91,
          28533.950000000008,
          28497.640000000003,
          28572.100000000006,
          28632.14,
          28712.83,
          28792.07000000001,
          28872.899999999998,
          28832.320000000003,
          28827.370000000003,
          28941.400000000005,
          29043.050000000003,
          29165.140000000003,
          29282.780000000002,
          29405.93,
          29389.119999999995,
          29383.77,
          29497.610000000004,
          29595.180000000004,
          29713.84,
          29838.880000000005,
          29974.350000000006,
          29962.54,
          29955.62,
          30066.83,
          30161.630000000005,
          30276.710000000006,
          30374.35,
          30458.819999999996,
          30403.010000000002,
          30361.520000000004,
          30438.6,
          30494.309999999998,
          30573.030000000002,
          30655.39,
          30738.84,
          30681.99,
          30642.560000000005,
          30737.540000000005,
          30830.919999999995,
          30949.349999999995,
          31074.440000000006,
          31205.240000000005,
          31182.670000000002,
          31169.929999999997,
          31281.880000000005,
          31372.65000000001,
          31486.439999999995,
          31612.97,
          31746.190000000002,
          31728.620000000003,
          31719.399999999998,
          31829.959999999992,
          31923.97,
          32043.730000000003,
          32166.989999999994,
          32294.810000000005,
          32278.14,
          32255.31,
          32332.609999999997,
          32391.469999999998,
          32473.26,
          32556.290000000005,
          32641.07999999999,
          32572.080000000005,
          32521.250000000004,
          32598.12,
          32658.470000000012,
          32741.39999999999,
          32780.78,
          32779.00000000001,
          32635.89,
          32517.89,
          32520.460000000003,
          32503.749999999996,
          32508.559999999998,
          32510.749999999993,
          32511.8,
          32370.789999999997,
          32254.39,
          32257.980000000003,
          32238.580000000005,
          32242.679999999997,
          32242.260000000002,
          32238.270000000004,
          32098.610000000004,
          31980.179999999993,
          31981.099999999995,
          31947.72,
          31918.260000000002,
          31878.72,
          31829.010000000002,
          31639.629999999997,
          31481.170000000002,
          31449.990000000005,
          31395.559999999987,
          31360.929999999997,
          31321.110000000004,
          31275.699999999997,
          31091.170000000002,
          30915.67,
          30847.920000000006,
          30757.200000000008,
          30683.26,
          30600.019999999993,
          30508.430000000004,
          30284.100000000006,
          30091.61,
          30024.69,
          29935.279999999995,
          29857.930000000004,
          29767.589999999997,
          29670.84,
          29445.640000000007,
          29260.780000000002,
          29200.43,
          29111.41,
          29033.14000000001,
          28946.99,
          28898.900000000005,
          28760.39,
          28643.179999999997,
          28642.200000000004,
          28626.57,
          28624.729999999992,
          28616.710000000003,
          28606.350000000006,
          28465.43999999999,
          28353.110000000004,
          28357.79,
          28323.44,
          28285.09000000001,
          28237.539999999994,
          28184.159999999996,
          28008.720000000005,
          27861.650000000005,
          27827.359999999997,
          27770.790000000005,
          27723.140000000007,
          27665.860000000004,
          27609.2,
          27434.670000000006,
          27289.430000000004,
          27258.159999999993,
          27203.860000000004,
          27160.360000000004,
          27110.22,
          27058.360000000004,
          26880.120000000003,
          26728.930000000004,
          26712.980000000003,
          26694.61,
          26689.120000000003,
          26678.200000000004,
          26669.690000000002,
          26540.19,
          26430.559999999998,
          26433.040000000005,
          26411.29,
          26403.34999999999,
          26398.17,
          26418.09,
          26331.05,
          26259.380000000005,
          26296.23,
          26313.870000000003,
          26350.640000000007,
          26384.239999999998,
          26419.069999999992,
          26324.45,
          26245.500000000007,
          26281.58,
          26303,
          26340.670000000002,
          26378.780000000002,
          26418.729999999996,
          26330.970000000005,
          26261.59,
          26298.089999999997,
          26314.760000000006,
          26370.66,
          26447.69,
          26527.260000000006,
          26480.279999999995,
          26446.250000000004,
          26517.940000000002,
          26577.089999999997,
          26658.510000000002,
          26742.22,
          26828.500000000004,
          26783.35,
          26671.639999999996,
          26593.690000000002,
          26498.690000000002,
          26411.77,
          26317.430000000008,
          26220.39,
          26021.21,
          25852.74,
          25779.809999999998,
          25681.96,
          25592.510000000006,
          25497.489999999998,
          25393.710000000006,
          25189.519999999997,
          25022.419999999995,
          24953.74,
          24858.48999999999,
          24772.960000000003,
          24678.090000000007,
          24572.190000000002,
          24348.059999999998,
          24137.950000000004,
          24023.77,
          23888.58,
          23762.450000000004,
          23627.449999999997,
          23483.810000000005,
          23235.980000000003,
          23031.869999999995,
          22927.950000000004,
          22793.880000000005,
          22660.580000000005,
          22509.699999999993,
          22348.55,
          22089.990000000013,
          21872.079999999998,
          21751.890000000007,
          21610.010000000006,
          21476.740000000005,
          21327.96000000001,
          21166.69,
          20910.510000000002,
          20697.72000000001,
          20578.22,
          20436.010000000002,
          20301.150000000005,
          20151.380000000005,
          19993.000000000007,
          19734.219999999994,
          19518.290000000005,
          19479.060000000012,
          19485.74,
          19500.059999999998,
          19515.690000000002,
          19529.690000000006,
          19450.320000000007,
          19388.02,
          19407.730000000003,
          19412.430000000004,
          19428.96000000001,
          19445.61,
          19459.130000000005,
          19402.29,
          19380.86,
          19435.429999999993,
          19473.26,
          19528.83000000001,
          19591.380000000005,
          19655.110000000004,
          19621.739999999994,
          19598.369999999995,
          19656,
          19703.78000000001,
          19765.300000000003,
          19826.190000000002,
          19887.600000000006,
          19853.81,
          19832.190000000006,
          19888.690000000002,
          19931.489999999998,
          19993.179999999993,
          20064.809999999998,
          20145.200000000004,
          20128.66,
          20115.91,
          20179.120000000003,
          20230.4,
          20299.270000000004,
          20372.33,
          20451.850000000002,
          20434.17,
          20458.190000000002,
          20599.489999999998,
          20738.289999999997,
          20897.380000000005,
          21062.11,
          21234.8,
          21294.15,
          21351.850000000006,
          21497.400000000005,
          21632.659999999996,
          21791.229999999996,
          21959.88,
          22132.66,
          22197.519999999997,
          22258.68,
          22400.200000000008,
          22532.6,
          22690.340000000004,
          22857.919999999995,
          23032.260000000002,
          23098.120000000003,
          23143.679999999997,
          23251.920000000002,
          23347.670000000002,
          23463.2,
          23583.719999999994,
          23710.099999999995,
          23729.039999999997,
          23749.630000000005,
          23855.089999999993,
          23949.630000000005,
          24109.86,
          24319.479999999996,
          24540.92999999999,
          24640.429999999997,
          24730.419999999995,
          24914.58,
          25090.41999999999,
          25294.96,
          25509.880000000005,
          25736.379999999994,
          25837.05,
          25926.019999999997,
          26108.949999999997,
          26285.799999999996,
          26488.06,
          26697.739999999998,
          26921.489999999998,
          27020.3,
          27110.899999999998,
          27258.709999999995,
          27356.64999999999,
          27474.01,
          27594.549999999996,
          27722.329999999998,
          27721.350000000002,
          27731.94,
          27849,
          27946.29,
          28069.24,
          28198.429999999997,
          28353.94,
          28395.119999999995,
          28436.080000000005,
          28589.18,
          28733.020000000004,
          28899.56,
          29070.110000000004,
          29252.020000000008,
          29297.87,
          29338.759999999995,
          29485.250000000007,
          29622.839999999993,
          29788.930000000008,
          29959.149999999998,
          30137.81000000001,
          30181.15000000001,
          30223.029999999995,
          30374.309999999998,
          30514.300000000003,
          30683.560000000005,
          30811.800000000003,
          30899.330000000005,
          30845.969999999998,
          30801.760000000002,
          30878.85,
          30938.23,
          31021.24,
          31108.570000000003,
          31200.81,
          31141.13,
          31088.350000000006,
          31183.56,
          31287.62,
          31414.039999999997,
          31544.589999999997,
          31687.1,
          31679.88,
          31677.450000000004,
          31795.41,
          31897.04,
          32026.759999999995,
          32160.460000000003,
          32301.910000000007,
          32290.699999999997,
          32286.270000000004,
          32404.06,
          32504.709999999995,
          32633.920000000002,
          32760.680000000004,
          32888.57,
          32847.07,
          32799.54,
          32884.200000000004,
          32948.5,
          33033.37,
          33121.369999999995,
          33215.53999999999,
          33151.85,
          33098.450000000004,
          33180.92999999999,
          33246.3,
          33356.520000000004,
          33490.11,
          33633.19,
          33618.21,
          33605.4,
          33720.920000000006,
          33823.060000000005,
          33952.219999999994,
          34082.96,
          34227.72,
          34216.170000000006,
          34205.51,
          34331.42,
          34441.36000000001,
          34572.88,
          34706.990000000005,
          34844.68,
          34820.18,
          34812.56,
          34945.7,
          35036.31,
          35129.380000000005,
          35219.71,
          35309.91,
          35236.35,
          35175.32,
          35252.630000000005,
          35313.92,
          35400.41,
          35491.82,
          35589.770000000004,
          35485.78,
          35358.99999999999,
          35364.05,
          35342.89000000001,
          35344.08999999999,
          35346.79000000001,
          35347.41,
          35195.26,
          35070.35999999999,
          35077.41,
          35054.24999999999,
          35047.630000000005,
          35043.67999999999,
          35039.33,
          34881.420000000006,
          34751.78999999999,
          34759.840000000004,
          34741.43999999999,
          34742.03,
          34716.8,
          34665.45,
          34463.689999999995,
          34294.22,
          34264.74999999999,
          34212.61,
          34173.93999999999,
          34128.689999999995,
          34078.14,
          33868.729999999996,
          33694.45,
          33667.47,
          33593.92,
          33511.55,
          33419.06,
          33318.38,
          33071.41999999999,
          32862.399999999994,
          32786.24,
          32678.629999999997,
          32588.45,
          32491.06,
          32389.619999999995,
          32145.330000000005,
          31939.140000000007,
          31866.53999999999,
          31767.809999999994,
          31687.350000000002,
          31596.289999999994,
          31494.829999999998,
          31248.08,
          31076.020000000008,
          31077.76000000001,
          31059.149999999994,
          31061.009999999995,
          31056.330000000005,
          31042.030000000002,
          30888.91,
          30766.94,
          30771.89999999999,
          30755.91,
          30756.38999999999,
          30727.299999999996,
          30668.47,
          30479.510000000002,
          30323.42,
          30288.029999999995,
          30225.870000000006,
          30179.27,
          30130.98,
          30075.19,
          29882.679999999997,
          29725.87,
          29690.57,
          29625.989999999994,
          29577.089999999997,
          29527.210000000003,
          29475.23999999999,
          29289.910000000003,
          29133.150000000005,
          29098.489999999998,
          29039.020000000008,
          29010.76,
          29001.32,
          28993.200000000004,
          28854.38,
          28743.409999999996,
          28745.480000000003,
          28723.730000000003,
          28726.260000000006,
          28721.659999999993,
          28707.520000000008,
          28568.95,
          28479.279999999988,
          28525.13,
          28548.690000000002,
          28587.009999999995,
          28625.23,
          28665.81,
          28563.980000000003,
          28477.47,
          28514.710000000003,
          28533.75,
          28572.469999999998,
          28611.459999999995,
          28652.89,
          28557.539999999994,
          28481.240000000005,
          28524.57,
          28542.89999999999,
          28578.239999999994,
          28616.850000000002,
          28683.539999999997,
          28637.239999999998,
          28596.709999999995,
          28668.630000000005,
          28727.460000000003,
          28809.159999999993,
          28893.11999999999,
          28974.039999999997,
          28920.690000000006,
          28887.67,
          28963.789999999997,
          28937.399999999998,
          28844.81,
          28739.58999999999,
          28623.620000000006,
          28398.969999999998,
          28208.589999999997,
          28123.309999999998,
          28017.769999999993,
          27921.319999999996,
          27817.43,
          27703.499999999993,
          27484.13,
          27302.07,
          27217.219999999994,
          27113.089999999997,
          27021.769999999993,
          26917.92,
          26803.989999999998,
          26585.86999999999,
          26405.08,
          26300.900000000005,
          26153.219999999998,
          26019.550000000003,
          25878.369999999995,
          25721.059999999998,
          25449.890000000003,
          25223.469999999998,
          25104.23,
          24959.310000000005,
          24821.669999999995,
          24669.920000000006,
          24492.729999999996,
          24195.049999999992,
          23945.13,
          23802.999999999993,
          23632.919999999995,
          23468.580000000005,
          23294.02,
          23107.629999999994,
          22812.610000000004,
          22564.859999999997,
          22424.58,
          22255.559999999998,
          22092.399999999994,
          21916.78,
          21727.4,
          21433.919999999995,
          21186.67,
          21043.930000000004,
          20871.760000000002,
          20789.909999999993,
          20791.259999999995,
          20794.950000000008,
          20699.969999999994,
          20620.329999999998,
          20627.390000000003,
          20617.35,
          20615.06000000001,
          20608.219999999994,
          20600.14999999999,
          20503.88,
          20425.3,
          20448.66,
          20478.010000000006,
          20522.819999999996,
          20571.06,
          20615.209999999992,
          20560.44,
          20521.850000000002,
          20563.039999999994,
          20592.129999999994,
          20637.28,
          20686.14,
          20736.76,
          20683.609999999997,
          20644.010000000002,
          20692.829999999998,
          20727.629999999997,
          20774.239999999998,
          20823.879999999997,
          20875.789999999994,
          20839.4,
          20824.75999999999,
          20890.609999999997,
          20944.53,
          21016.079999999998,
          21092.04,
          21172.479999999992,
          21150.83999999999,
          21135.239999999998,
          21240.87,
          21378.949999999997,
          21540.83,
          21707.629999999997,
          21883.489999999998,
          21949.39,
          22009.389999999996,
          22160.259999999995,
          22297.85999999999,
          22456.46,
          22629.349999999995,
          22809.209999999992,
          22874.979999999996,
          22939.980000000003,
          23089.75,
          23226.120000000003,
          23387.909999999996,
          23559.53,
          23740.07,
          23803.679999999997,
          23863.199999999993,
          24014.459999999992,
          24132.089999999997,
          24247.67,
          24372.999999999993,
          24505.11999999999,
          24521.770000000004,
          24542.149999999994,
          24653.65,
          24755.069999999996,
          24876.14,
          25048.340000000004,
          25275.139999999992,
          25372.069999999992,
          25463.190000000002,
          25650.429999999997,
          25829.799999999996,
          26041.019999999997,
          26267.739999999994,
          26501.729999999996,
          26601.449999999993,
          26695.130000000005,
          26886.870000000003,
          27067.839999999997,
          27271.609999999993,
          27488.219999999994,
          27716.219999999998,
          27811.940000000006,
          27902.98999999999,
          28096.070000000003,
          28242.359999999993,
          28369.67999999999,
          28501.839999999993,
          28645.51999999999,
          28649.459999999992,
          28653.839999999997,
          28772.179999999997,
          28872.059999999998,
          29000.66,
          29137.589999999997,
          29273.239999999998,
          29287.57999999999,
          29330.989999999994,
          29488.859999999997,
          29634.369999999995,
          29812.27999999999,
          29999.69,
          30191.029999999995,
          30235.479999999996,
          30284.439999999995,
          30446.49999999999,
          30593.279999999995,
          30767.529999999995,
          30951.059999999994,
          31139.520000000004,
          31178.209999999995,
          31221.719999999998,
          31379.11,
          31522.219999999994,
          31697.879999999994,
          31887.039999999997,
          32036.679999999993,
          31983.729999999996,
          31938.449999999997,
          32020.219999999994,
          32090.89,
          32186.980000000003,
          32280.060000000005,
          32367.399999999998,
          32305.809999999998,
          32258.230000000003,
          32337.549999999992,
          32423.399999999998,
          32554.219999999994,
          32696.97,
          32844.68000000001,
          32830.38,
          32825.649999999994,
          32953.280000000006,
          33065.45,
          33196.53,
          33331.72,
          33474.689999999995,
          33454,
          33444.619999999995,
          33571.86,
          33680.01,
          33809.67,
          33945.45,
          34089.21,
          34076.5,
          34055.48,
          34139.509999999995,
          34199.28999999999,
          34284.55999999999,
          34369.81,
          34455.99999999999,
          34388.63,
          34340.74,
          34423.63,
          34485.82999999999,
          34569.46,
          34684.36000000001,
          34835.67999999999,
          34815.240000000005,
          34804.359999999986,
          34927.36,
          35031.670000000006,
          35168.729999999996,
          35300.88,
          35432.15,
          35400.04999999999,
          35384.49,
          35512.579999999994,
          35617.329999999994,
          35750.09,
          35887.03999999999,
          36029.18999999999,
          36009.95999999999,
          35999.59,
          36130.689999999995,
          36241.53,
          36354.54,
          36456,
          36557.4,
          36486.2,
          36437.16,
          36528.759999999995,
          36591.13,
          36671.94999999999,
          36758.909999999996,
          36856.76,
          36787.95999999999,
          36698.35999999999,
          36706.86,
          36684.079999999994,
          36682.71,
          36683.479999999996,
          36675.270000000004,
          36513.51,
          36386.35,
          36392.08999999999,
          36372.95,
          36376.96,
          36379.04,
          36378.68999999999,
          36219.75,
          36083.96000000001,
          36085.73999999999,
          36067.85,
          36070.54,
          36073.56,
          36051.55999999999,
          35838.35999999999,
          35662.15,
          35632.30000000001,
          35573.749999999985,
          35533.21,
          35487.74,
          35446.39,
          35246.869999999995,
          35076.86,
          35043.79999999999,
          34981.36,
          34917.70999999999,
          34819.76,
          34710.11,
          34451.30999999999,
          34232.3,
          34155.12999999999,
          34051.24999999999,
          33966.840000000004,
          33874.509999999995,
          33769.67,
          33514.3,
          33297.399999999994,
          33221.63,
          33119.48999999999,
          33031.44999999999,
          32941.3,
          32845.03,
          32589.710000000003,
          32371.190000000002,
          32337.839999999993,
          32319.44,
          32317.38,
          32311.520000000004,
          32300.499999999993,
          32149.289999999997,
          32023.339999999993,
          32024.659999999996,
          32005.099999999995,
          31999.159999999996,
          31990.449999999997,
          31950.29,
          31748.950000000004,
          31590.25999999999,
          31559.339999999993,
          31497.680000000004,
          31445.759999999995,
          31386.969999999998,
          31322.86,
          31118.78,
          30951.200000000008,
          30914.069999999996,
          30853.189999999995,
          30806.500000000004,
          30757.980000000007,
          30699,
          30494.499999999996,
          30328.09999999999,
          30289.58,
          30231.249999999993,
          30189.159999999996,
          30166.69000000001,
          30164.020000000004,
          30024.18,
          29907.31,
          29911.050000000007,
          29894.72,
          29891.529999999995,
          29882.059999999998,
          29870.659999999993,
          29722.25,
          29596.629999999997,
          29615.069999999996,
          29636.45,
          29678.500000000007,
          29723.289999999994,
          29767.670000000006,
          29666.480000000003,
          29589.109999999993,
          29634.280000000002,
          29654.689999999995,
          29694.989999999994,
          29734.180000000004,
          29774.58,
          29677.269999999993,
          29596.840000000007,
          29637.220000000005,
          29654.680000000004,
          29693.799999999996,
          29739.230000000007,
          29781.23,
          29708.069999999996,
          29675.12,
          29748.890000000003,
          29805.960000000003,
          29890.900000000005,
          29980.54,
          30075.520000000004,
          30025.690000000006,
          29986.16,
          30066.730000000003,
          30128.360000000004,
          30116.760000000002,
          30007.799999999996,
          29888.809999999998,
          29660.570000000003,
          29465.53,
          29373.929999999997,
          29260.7,
          29158.250000000004,
          29047.879999999997,
          28927.82,
          28697.320000000003,
          28502.41,
          28417.210000000006,
          28311.729999999996,
          28215.66999999999,
          28112.050000000003,
          27994.670000000002,
          27766.760000000002,
          27579.320000000003,
          27497.489999999998,
          27374.820000000003,
          27237.509999999995,
          27082.020000000008,
          26911.88,
          26628.679999999997,
          26394.679999999997,
          26269.1,
          26115.12,
          25973.370000000003,
          25821.579999999998,
          25662.440000000006,
          26674.032086877793,
          26595.955279637972,
          26517.87847239815,
          26439.80166515833,
          26361.72485791851,
          26283.64805067869,
          26205.57124343887,
          26127.49443619905,
          26049.41762895923,
          25971.34082171941,
          25893.264014479588,
          25815.187207239767,
          25737.110399999947,
          25659.033592760155,
          25580.956785520335,
          25502.879978280514,
          25424.803171040694,
          25346.726363800874,
          25268.649556561053,
          25190.572749321233,
          25112.495942081412,
          25034.41913484159,
          24956.34232760177,
          24878.26552036195,
          24800.18871312213
         ]
        }
       ],
       "layout": {
        "autosize": false,
        "height": 400,
        "template": {
         "data": {
          "bar": [
           {
            "error_x": {
             "color": "#2a3f5f"
            },
            "error_y": {
             "color": "#2a3f5f"
            },
            "marker": {
             "line": {
              "color": "#E5ECF6",
              "width": 0.5
             },
             "pattern": {
              "fillmode": "overlay",
              "size": 10,
              "solidity": 0.2
             }
            },
            "type": "bar"
           }
          ],
          "barpolar": [
           {
            "marker": {
             "line": {
              "color": "#E5ECF6",
              "width": 0.5
             },
             "pattern": {
              "fillmode": "overlay",
              "size": 10,
              "solidity": 0.2
             }
            },
            "type": "barpolar"
           }
          ],
          "carpet": [
           {
            "aaxis": {
             "endlinecolor": "#2a3f5f",
             "gridcolor": "white",
             "linecolor": "white",
             "minorgridcolor": "white",
             "startlinecolor": "#2a3f5f"
            },
            "baxis": {
             "endlinecolor": "#2a3f5f",
             "gridcolor": "white",
             "linecolor": "white",
             "minorgridcolor": "white",
             "startlinecolor": "#2a3f5f"
            },
            "type": "carpet"
           }
          ],
          "choropleth": [
           {
            "colorbar": {
             "outlinewidth": 0,
             "ticks": ""
            },
            "type": "choropleth"
           }
          ],
          "contour": [
           {
            "colorbar": {
             "outlinewidth": 0,
             "ticks": ""
            },
            "colorscale": [
             [
              0,
              "#0d0887"
             ],
             [
              0.1111111111111111,
              "#46039f"
             ],
             [
              0.2222222222222222,
              "#7201a8"
             ],
             [
              0.3333333333333333,
              "#9c179e"
             ],
             [
              0.4444444444444444,
              "#bd3786"
             ],
             [
              0.5555555555555556,
              "#d8576b"
             ],
             [
              0.6666666666666666,
              "#ed7953"
             ],
             [
              0.7777777777777778,
              "#fb9f3a"
             ],
             [
              0.8888888888888888,
              "#fdca26"
             ],
             [
              1,
              "#f0f921"
             ]
            ],
            "type": "contour"
           }
          ],
          "contourcarpet": [
           {
            "colorbar": {
             "outlinewidth": 0,
             "ticks": ""
            },
            "type": "contourcarpet"
           }
          ],
          "heatmap": [
           {
            "colorbar": {
             "outlinewidth": 0,
             "ticks": ""
            },
            "colorscale": [
             [
              0,
              "#0d0887"
             ],
             [
              0.1111111111111111,
              "#46039f"
             ],
             [
              0.2222222222222222,
              "#7201a8"
             ],
             [
              0.3333333333333333,
              "#9c179e"
             ],
             [
              0.4444444444444444,
              "#bd3786"
             ],
             [
              0.5555555555555556,
              "#d8576b"
             ],
             [
              0.6666666666666666,
              "#ed7953"
             ],
             [
              0.7777777777777778,
              "#fb9f3a"
             ],
             [
              0.8888888888888888,
              "#fdca26"
             ],
             [
              1,
              "#f0f921"
             ]
            ],
            "type": "heatmap"
           }
          ],
          "heatmapgl": [
           {
            "colorbar": {
             "outlinewidth": 0,
             "ticks": ""
            },
            "colorscale": [
             [
              0,
              "#0d0887"
             ],
             [
              0.1111111111111111,
              "#46039f"
             ],
             [
              0.2222222222222222,
              "#7201a8"
             ],
             [
              0.3333333333333333,
              "#9c179e"
             ],
             [
              0.4444444444444444,
              "#bd3786"
             ],
             [
              0.5555555555555556,
              "#d8576b"
             ],
             [
              0.6666666666666666,
              "#ed7953"
             ],
             [
              0.7777777777777778,
              "#fb9f3a"
             ],
             [
              0.8888888888888888,
              "#fdca26"
             ],
             [
              1,
              "#f0f921"
             ]
            ],
            "type": "heatmapgl"
           }
          ],
          "histogram": [
           {
            "marker": {
             "pattern": {
              "fillmode": "overlay",
              "size": 10,
              "solidity": 0.2
             }
            },
            "type": "histogram"
           }
          ],
          "histogram2d": [
           {
            "colorbar": {
             "outlinewidth": 0,
             "ticks": ""
            },
            "colorscale": [
             [
              0,
              "#0d0887"
             ],
             [
              0.1111111111111111,
              "#46039f"
             ],
             [
              0.2222222222222222,
              "#7201a8"
             ],
             [
              0.3333333333333333,
              "#9c179e"
             ],
             [
              0.4444444444444444,
              "#bd3786"
             ],
             [
              0.5555555555555556,
              "#d8576b"
             ],
             [
              0.6666666666666666,
              "#ed7953"
             ],
             [
              0.7777777777777778,
              "#fb9f3a"
             ],
             [
              0.8888888888888888,
              "#fdca26"
             ],
             [
              1,
              "#f0f921"
             ]
            ],
            "type": "histogram2d"
           }
          ],
          "histogram2dcontour": [
           {
            "colorbar": {
             "outlinewidth": 0,
             "ticks": ""
            },
            "colorscale": [
             [
              0,
              "#0d0887"
             ],
             [
              0.1111111111111111,
              "#46039f"
             ],
             [
              0.2222222222222222,
              "#7201a8"
             ],
             [
              0.3333333333333333,
              "#9c179e"
             ],
             [
              0.4444444444444444,
              "#bd3786"
             ],
             [
              0.5555555555555556,
              "#d8576b"
             ],
             [
              0.6666666666666666,
              "#ed7953"
             ],
             [
              0.7777777777777778,
              "#fb9f3a"
             ],
             [
              0.8888888888888888,
              "#fdca26"
             ],
             [
              1,
              "#f0f921"
             ]
            ],
            "type": "histogram2dcontour"
           }
          ],
          "mesh3d": [
           {
            "colorbar": {
             "outlinewidth": 0,
             "ticks": ""
            },
            "type": "mesh3d"
           }
          ],
          "parcoords": [
           {
            "line": {
             "colorbar": {
              "outlinewidth": 0,
              "ticks": ""
             }
            },
            "type": "parcoords"
           }
          ],
          "pie": [
           {
            "automargin": true,
            "type": "pie"
           }
          ],
          "scatter": [
           {
            "fillpattern": {
             "fillmode": "overlay",
             "size": 10,
             "solidity": 0.2
            },
            "type": "scatter"
           }
          ],
          "scatter3d": [
           {
            "line": {
             "colorbar": {
              "outlinewidth": 0,
              "ticks": ""
             }
            },
            "marker": {
             "colorbar": {
              "outlinewidth": 0,
              "ticks": ""
             }
            },
            "type": "scatter3d"
           }
          ],
          "scattercarpet": [
           {
            "marker": {
             "colorbar": {
              "outlinewidth": 0,
              "ticks": ""
             }
            },
            "type": "scattercarpet"
           }
          ],
          "scattergeo": [
           {
            "marker": {
             "colorbar": {
              "outlinewidth": 0,
              "ticks": ""
             }
            },
            "type": "scattergeo"
           }
          ],
          "scattergl": [
           {
            "marker": {
             "colorbar": {
              "outlinewidth": 0,
              "ticks": ""
             }
            },
            "type": "scattergl"
           }
          ],
          "scattermapbox": [
           {
            "marker": {
             "colorbar": {
              "outlinewidth": 0,
              "ticks": ""
             }
            },
            "type": "scattermapbox"
           }
          ],
          "scatterpolar": [
           {
            "marker": {
             "colorbar": {
              "outlinewidth": 0,
              "ticks": ""
             }
            },
            "type": "scatterpolar"
           }
          ],
          "scatterpolargl": [
           {
            "marker": {
             "colorbar": {
              "outlinewidth": 0,
              "ticks": ""
             }
            },
            "type": "scatterpolargl"
           }
          ],
          "scatterternary": [
           {
            "marker": {
             "colorbar": {
              "outlinewidth": 0,
              "ticks": ""
             }
            },
            "type": "scatterternary"
           }
          ],
          "surface": [
           {
            "colorbar": {
             "outlinewidth": 0,
             "ticks": ""
            },
            "colorscale": [
             [
              0,
              "#0d0887"
             ],
             [
              0.1111111111111111,
              "#46039f"
             ],
             [
              0.2222222222222222,
              "#7201a8"
             ],
             [
              0.3333333333333333,
              "#9c179e"
             ],
             [
              0.4444444444444444,
              "#bd3786"
             ],
             [
              0.5555555555555556,
              "#d8576b"
             ],
             [
              0.6666666666666666,
              "#ed7953"
             ],
             [
              0.7777777777777778,
              "#fb9f3a"
             ],
             [
              0.8888888888888888,
              "#fdca26"
             ],
             [
              1,
              "#f0f921"
             ]
            ],
            "type": "surface"
           }
          ],
          "table": [
           {
            "cells": {
             "fill": {
              "color": "#EBF0F8"
             },
             "line": {
              "color": "white"
             }
            },
            "header": {
             "fill": {
              "color": "#C8D4E3"
             },
             "line": {
              "color": "white"
             }
            },
            "type": "table"
           }
          ]
         },
         "layout": {
          "annotationdefaults": {
           "arrowcolor": "#2a3f5f",
           "arrowhead": 0,
           "arrowwidth": 1
          },
          "autotypenumbers": "strict",
          "coloraxis": {
           "colorbar": {
            "outlinewidth": 0,
            "ticks": ""
           }
          },
          "colorscale": {
           "diverging": [
            [
             0,
             "#8e0152"
            ],
            [
             0.1,
             "#c51b7d"
            ],
            [
             0.2,
             "#de77ae"
            ],
            [
             0.3,
             "#f1b6da"
            ],
            [
             0.4,
             "#fde0ef"
            ],
            [
             0.5,
             "#f7f7f7"
            ],
            [
             0.6,
             "#e6f5d0"
            ],
            [
             0.7,
             "#b8e186"
            ],
            [
             0.8,
             "#7fbc41"
            ],
            [
             0.9,
             "#4d9221"
            ],
            [
             1,
             "#276419"
            ]
           ],
           "sequential": [
            [
             0,
             "#0d0887"
            ],
            [
             0.1111111111111111,
             "#46039f"
            ],
            [
             0.2222222222222222,
             "#7201a8"
            ],
            [
             0.3333333333333333,
             "#9c179e"
            ],
            [
             0.4444444444444444,
             "#bd3786"
            ],
            [
             0.5555555555555556,
             "#d8576b"
            ],
            [
             0.6666666666666666,
             "#ed7953"
            ],
            [
             0.7777777777777778,
             "#fb9f3a"
            ],
            [
             0.8888888888888888,
             "#fdca26"
            ],
            [
             1,
             "#f0f921"
            ]
           ],
           "sequentialminus": [
            [
             0,
             "#0d0887"
            ],
            [
             0.1111111111111111,
             "#46039f"
            ],
            [
             0.2222222222222222,
             "#7201a8"
            ],
            [
             0.3333333333333333,
             "#9c179e"
            ],
            [
             0.4444444444444444,
             "#bd3786"
            ],
            [
             0.5555555555555556,
             "#d8576b"
            ],
            [
             0.6666666666666666,
             "#ed7953"
            ],
            [
             0.7777777777777778,
             "#fb9f3a"
            ],
            [
             0.8888888888888888,
             "#fdca26"
            ],
            [
             1,
             "#f0f921"
            ]
           ]
          },
          "colorway": [
           "#636efa",
           "#EF553B",
           "#00cc96",
           "#ab63fa",
           "#FFA15A",
           "#19d3f3",
           "#FF6692",
           "#B6E880",
           "#FF97FF",
           "#FECB52"
          ],
          "font": {
           "color": "#2a3f5f"
          },
          "geo": {
           "bgcolor": "white",
           "lakecolor": "white",
           "landcolor": "#E5ECF6",
           "showlakes": true,
           "showland": true,
           "subunitcolor": "white"
          },
          "hoverlabel": {
           "align": "left"
          },
          "hovermode": "closest",
          "mapbox": {
           "style": "light"
          },
          "paper_bgcolor": "white",
          "plot_bgcolor": "#E5ECF6",
          "polar": {
           "angularaxis": {
            "gridcolor": "white",
            "linecolor": "white",
            "ticks": ""
           },
           "bgcolor": "#E5ECF6",
           "radialaxis": {
            "gridcolor": "white",
            "linecolor": "white",
            "ticks": ""
           }
          },
          "scene": {
           "xaxis": {
            "backgroundcolor": "#E5ECF6",
            "gridcolor": "white",
            "gridwidth": 2,
            "linecolor": "white",
            "showbackground": true,
            "ticks": "",
            "zerolinecolor": "white"
           },
           "yaxis": {
            "backgroundcolor": "#E5ECF6",
            "gridcolor": "white",
            "gridwidth": 2,
            "linecolor": "white",
            "showbackground": true,
            "ticks": "",
            "zerolinecolor": "white"
           },
           "zaxis": {
            "backgroundcolor": "#E5ECF6",
            "gridcolor": "white",
            "gridwidth": 2,
            "linecolor": "white",
            "showbackground": true,
            "ticks": "",
            "zerolinecolor": "white"
           }
          },
          "shapedefaults": {
           "line": {
            "color": "#2a3f5f"
           }
          },
          "ternary": {
           "aaxis": {
            "gridcolor": "white",
            "linecolor": "white",
            "ticks": ""
           },
           "baxis": {
            "gridcolor": "white",
            "linecolor": "white",
            "ticks": ""
           },
           "bgcolor": "#E5ECF6",
           "caxis": {
            "gridcolor": "white",
            "linecolor": "white",
            "ticks": ""
           }
          },
          "title": {
           "x": 0.05
          },
          "xaxis": {
           "automargin": true,
           "gridcolor": "white",
           "linecolor": "white",
           "ticks": "",
           "title": {
            "standoff": 15
           },
           "zerolinecolor": "white",
           "zerolinewidth": 2
          },
          "yaxis": {
           "automargin": true,
           "gridcolor": "white",
           "linecolor": "white",
           "ticks": "",
           "title": {
            "standoff": 15
           },
           "zerolinecolor": "white",
           "zerolinewidth": 2
          }
         }
        },
        "title": {
         "text": "<span>Linha de tendência</span>"
        },
        "width": 1300,
        "xaxis": {
         "title": {
          "text": "<span>Período</span>"
         }
        },
        "yaxis": {
         "title": {
          "text": "<span>Quantidade de vendas</span>"
         }
        }
       }
      }
     },
     "metadata": {},
     "output_type": "display_data"
    },
    {
     "data": {
      "application/vnd.plotly.v1+json": {
       "config": {
        "plotlyServerURL": "https://plot.ly"
       },
       "data": [
        {
         "type": "scatter",
         "x": [
          "2013-01-01",
          "2013-01-02",
          "2013-01-03",
          "2013-01-04",
          "2013-01-05",
          "2013-01-06",
          "2013-01-07",
          "2013-01-08",
          "2013-01-09",
          "2013-01-10",
          "2013-01-11",
          "2013-01-12",
          "2013-01-13",
          "2013-01-14",
          "2013-01-15",
          "2013-01-16",
          "2013-01-17",
          "2013-01-18",
          "2013-01-19",
          "2013-01-20",
          "2013-01-21",
          "2013-01-22",
          "2013-01-23",
          "2013-01-24",
          "2013-01-25",
          "2013-01-26",
          "2013-01-27",
          "2013-01-28",
          "2013-01-29",
          "2013-01-30",
          "2013-01-31",
          "2013-02-01",
          "2013-02-02",
          "2013-02-03",
          "2013-02-04",
          "2013-02-05",
          "2013-02-06",
          "2013-02-07",
          "2013-02-08",
          "2013-02-09",
          "2013-02-10",
          "2013-02-11",
          "2013-02-12",
          "2013-02-13",
          "2013-02-14",
          "2013-02-15",
          "2013-02-16",
          "2013-02-17",
          "2013-02-18",
          "2013-02-19",
          "2013-02-20",
          "2013-02-21",
          "2013-02-22",
          "2013-02-23",
          "2013-02-24",
          "2013-02-25",
          "2013-02-26",
          "2013-02-27",
          "2013-02-28",
          "2013-03-01",
          "2013-03-02",
          "2013-03-03",
          "2013-03-04",
          "2013-03-05",
          "2013-03-06",
          "2013-03-07",
          "2013-03-08",
          "2013-03-09",
          "2013-03-10",
          "2013-03-11",
          "2013-03-12",
          "2013-03-13",
          "2013-03-14",
          "2013-03-15",
          "2013-03-16",
          "2013-03-17",
          "2013-03-18",
          "2013-03-19",
          "2013-03-20",
          "2013-03-21",
          "2013-03-22",
          "2013-03-23",
          "2013-03-24",
          "2013-03-25",
          "2013-03-26",
          "2013-03-27",
          "2013-03-28",
          "2013-03-29",
          "2013-03-30",
          "2013-03-31",
          "2013-04-01",
          "2013-04-02",
          "2013-04-03",
          "2013-04-04",
          "2013-04-05",
          "2013-04-06",
          "2013-04-07",
          "2013-04-08",
          "2013-04-09",
          "2013-04-10",
          "2013-04-11",
          "2013-04-12",
          "2013-04-13",
          "2013-04-14",
          "2013-04-15",
          "2013-04-16",
          "2013-04-17",
          "2013-04-18",
          "2013-04-19",
          "2013-04-20",
          "2013-04-21",
          "2013-04-22",
          "2013-04-23",
          "2013-04-24",
          "2013-04-25",
          "2013-04-26",
          "2013-04-27",
          "2013-04-28",
          "2013-04-29",
          "2013-04-30",
          "2013-05-01",
          "2013-05-02",
          "2013-05-03",
          "2013-05-04",
          "2013-05-05",
          "2013-05-06",
          "2013-05-07",
          "2013-05-08",
          "2013-05-09",
          "2013-05-10",
          "2013-05-11",
          "2013-05-12",
          "2013-05-13",
          "2013-05-14",
          "2013-05-15",
          "2013-05-16",
          "2013-05-17",
          "2013-05-18",
          "2013-05-19",
          "2013-05-20",
          "2013-05-21",
          "2013-05-22",
          "2013-05-23",
          "2013-05-24",
          "2013-05-25",
          "2013-05-26",
          "2013-05-27",
          "2013-05-28",
          "2013-05-29",
          "2013-05-30",
          "2013-05-31",
          "2013-06-01",
          "2013-06-02",
          "2013-06-03",
          "2013-06-04",
          "2013-06-05",
          "2013-06-06",
          "2013-06-07",
          "2013-06-08",
          "2013-06-09",
          "2013-06-10",
          "2013-06-11",
          "2013-06-12",
          "2013-06-13",
          "2013-06-14",
          "2013-06-15",
          "2013-06-16",
          "2013-06-17",
          "2013-06-18",
          "2013-06-19",
          "2013-06-20",
          "2013-06-21",
          "2013-06-22",
          "2013-06-23",
          "2013-06-24",
          "2013-06-25",
          "2013-06-26",
          "2013-06-27",
          "2013-06-28",
          "2013-06-29",
          "2013-06-30",
          "2013-07-01",
          "2013-07-02",
          "2013-07-03",
          "2013-07-04",
          "2013-07-05",
          "2013-07-06",
          "2013-07-07",
          "2013-07-08",
          "2013-07-09",
          "2013-07-10",
          "2013-07-11",
          "2013-07-12",
          "2013-07-13",
          "2013-07-14",
          "2013-07-15",
          "2013-07-16",
          "2013-07-17",
          "2013-07-18",
          "2013-07-19",
          "2013-07-20",
          "2013-07-21",
          "2013-07-22",
          "2013-07-23",
          "2013-07-24",
          "2013-07-25",
          "2013-07-26",
          "2013-07-27",
          "2013-07-28",
          "2013-07-29",
          "2013-07-30",
          "2013-07-31",
          "2013-08-01",
          "2013-08-02",
          "2013-08-03",
          "2013-08-04",
          "2013-08-05",
          "2013-08-06",
          "2013-08-07",
          "2013-08-08",
          "2013-08-09",
          "2013-08-10",
          "2013-08-11",
          "2013-08-12",
          "2013-08-13",
          "2013-08-14",
          "2013-08-15",
          "2013-08-16",
          "2013-08-17",
          "2013-08-18",
          "2013-08-19",
          "2013-08-20",
          "2013-08-21",
          "2013-08-22",
          "2013-08-23",
          "2013-08-24",
          "2013-08-25",
          "2013-08-26",
          "2013-08-27",
          "2013-08-28",
          "2013-08-29",
          "2013-08-30",
          "2013-08-31",
          "2013-09-01",
          "2013-09-02",
          "2013-09-03",
          "2013-09-04",
          "2013-09-05",
          "2013-09-06",
          "2013-09-07",
          "2013-09-08",
          "2013-09-09",
          "2013-09-10",
          "2013-09-11",
          "2013-09-12",
          "2013-09-13",
          "2013-09-14",
          "2013-09-15",
          "2013-09-16",
          "2013-09-17",
          "2013-09-18",
          "2013-09-19",
          "2013-09-20",
          "2013-09-21",
          "2013-09-22",
          "2013-09-23",
          "2013-09-24",
          "2013-09-25",
          "2013-09-26",
          "2013-09-27",
          "2013-09-28",
          "2013-09-29",
          "2013-09-30",
          "2013-10-01",
          "2013-10-02",
          "2013-10-03",
          "2013-10-04",
          "2013-10-05",
          "2013-10-06",
          "2013-10-07",
          "2013-10-08",
          "2013-10-09",
          "2013-10-10",
          "2013-10-11",
          "2013-10-12",
          "2013-10-13",
          "2013-10-14",
          "2013-10-15",
          "2013-10-16",
          "2013-10-17",
          "2013-10-18",
          "2013-10-19",
          "2013-10-20",
          "2013-10-21",
          "2013-10-22",
          "2013-10-23",
          "2013-10-24",
          "2013-10-25",
          "2013-10-26",
          "2013-10-27",
          "2013-10-28",
          "2013-10-29",
          "2013-10-30",
          "2013-10-31",
          "2013-11-01",
          "2013-11-02",
          "2013-11-03",
          "2013-11-04",
          "2013-11-05",
          "2013-11-06",
          "2013-11-07",
          "2013-11-08",
          "2013-11-09",
          "2013-11-10",
          "2013-11-11",
          "2013-11-12",
          "2013-11-13",
          "2013-11-14",
          "2013-11-15",
          "2013-11-16",
          "2013-11-17",
          "2013-11-18",
          "2013-11-19",
          "2013-11-20",
          "2013-11-21",
          "2013-11-22",
          "2013-11-23",
          "2013-11-24",
          "2013-11-25",
          "2013-11-26",
          "2013-11-27",
          "2013-11-28",
          "2013-11-29",
          "2013-11-30",
          "2013-12-01",
          "2013-12-02",
          "2013-12-03",
          "2013-12-04",
          "2013-12-05",
          "2013-12-06",
          "2013-12-07",
          "2013-12-08",
          "2013-12-09",
          "2013-12-10",
          "2013-12-11",
          "2013-12-12",
          "2013-12-13",
          "2013-12-14",
          "2013-12-15",
          "2013-12-16",
          "2013-12-17",
          "2013-12-18",
          "2013-12-19",
          "2013-12-20",
          "2013-12-21",
          "2013-12-22",
          "2013-12-23",
          "2013-12-24",
          "2013-12-25",
          "2013-12-26",
          "2013-12-27",
          "2013-12-28",
          "2013-12-29",
          "2013-12-30",
          "2013-12-31",
          "2014-01-01",
          "2014-01-02",
          "2014-01-03",
          "2014-01-04",
          "2014-01-05",
          "2014-01-06",
          "2014-01-07",
          "2014-01-08",
          "2014-01-09",
          "2014-01-10",
          "2014-01-11",
          "2014-01-12",
          "2014-01-13",
          "2014-01-14",
          "2014-01-15",
          "2014-01-16",
          "2014-01-17",
          "2014-01-18",
          "2014-01-19",
          "2014-01-20",
          "2014-01-21",
          "2014-01-22",
          "2014-01-23",
          "2014-01-24",
          "2014-01-25",
          "2014-01-26",
          "2014-01-27",
          "2014-01-28",
          "2014-01-29",
          "2014-01-30",
          "2014-01-31",
          "2014-02-01",
          "2014-02-02",
          "2014-02-03",
          "2014-02-04",
          "2014-02-05",
          "2014-02-06",
          "2014-02-07",
          "2014-02-08",
          "2014-02-09",
          "2014-02-10",
          "2014-02-11",
          "2014-02-12",
          "2014-02-13",
          "2014-02-14",
          "2014-02-15",
          "2014-02-16",
          "2014-02-17",
          "2014-02-18",
          "2014-02-19",
          "2014-02-20",
          "2014-02-21",
          "2014-02-22",
          "2014-02-23",
          "2014-02-24",
          "2014-02-25",
          "2014-02-26",
          "2014-02-27",
          "2014-02-28",
          "2014-03-01",
          "2014-03-02",
          "2014-03-03",
          "2014-03-04",
          "2014-03-05",
          "2014-03-06",
          "2014-03-07",
          "2014-03-08",
          "2014-03-09",
          "2014-03-10",
          "2014-03-11",
          "2014-03-12",
          "2014-03-13",
          "2014-03-14",
          "2014-03-15",
          "2014-03-16",
          "2014-03-17",
          "2014-03-18",
          "2014-03-19",
          "2014-03-20",
          "2014-03-21",
          "2014-03-22",
          "2014-03-23",
          "2014-03-24",
          "2014-03-25",
          "2014-03-26",
          "2014-03-27",
          "2014-03-28",
          "2014-03-29",
          "2014-03-30",
          "2014-03-31",
          "2014-04-01",
          "2014-04-02",
          "2014-04-03",
          "2014-04-04",
          "2014-04-05",
          "2014-04-06",
          "2014-04-07",
          "2014-04-08",
          "2014-04-09",
          "2014-04-10",
          "2014-04-11",
          "2014-04-12",
          "2014-04-13",
          "2014-04-14",
          "2014-04-15",
          "2014-04-16",
          "2014-04-17",
          "2014-04-18",
          "2014-04-19",
          "2014-04-20",
          "2014-04-21",
          "2014-04-22",
          "2014-04-23",
          "2014-04-24",
          "2014-04-25",
          "2014-04-26",
          "2014-04-27",
          "2014-04-28",
          "2014-04-29",
          "2014-04-30",
          "2014-05-01",
          "2014-05-02",
          "2014-05-03",
          "2014-05-04",
          "2014-05-05",
          "2014-05-06",
          "2014-05-07",
          "2014-05-08",
          "2014-05-09",
          "2014-05-10",
          "2014-05-11",
          "2014-05-12",
          "2014-05-13",
          "2014-05-14",
          "2014-05-15",
          "2014-05-16",
          "2014-05-17",
          "2014-05-18",
          "2014-05-19",
          "2014-05-20",
          "2014-05-21",
          "2014-05-22",
          "2014-05-23",
          "2014-05-24",
          "2014-05-25",
          "2014-05-26",
          "2014-05-27",
          "2014-05-28",
          "2014-05-29",
          "2014-05-30",
          "2014-05-31",
          "2014-06-01",
          "2014-06-02",
          "2014-06-03",
          "2014-06-04",
          "2014-06-05",
          "2014-06-06",
          "2014-06-07",
          "2014-06-08",
          "2014-06-09",
          "2014-06-10",
          "2014-06-11",
          "2014-06-12",
          "2014-06-13",
          "2014-06-14",
          "2014-06-15",
          "2014-06-16",
          "2014-06-17",
          "2014-06-18",
          "2014-06-19",
          "2014-06-20",
          "2014-06-21",
          "2014-06-22",
          "2014-06-23",
          "2014-06-24",
          "2014-06-25",
          "2014-06-26",
          "2014-06-27",
          "2014-06-28",
          "2014-06-29",
          "2014-06-30",
          "2014-07-01",
          "2014-07-02",
          "2014-07-03",
          "2014-07-04",
          "2014-07-05",
          "2014-07-06",
          "2014-07-07",
          "2014-07-08",
          "2014-07-09",
          "2014-07-10",
          "2014-07-11",
          "2014-07-12",
          "2014-07-13",
          "2014-07-14",
          "2014-07-15",
          "2014-07-16",
          "2014-07-17",
          "2014-07-18",
          "2014-07-19",
          "2014-07-20",
          "2014-07-21",
          "2014-07-22",
          "2014-07-23",
          "2014-07-24",
          "2014-07-25",
          "2014-07-26",
          "2014-07-27",
          "2014-07-28",
          "2014-07-29",
          "2014-07-30",
          "2014-07-31",
          "2014-08-01",
          "2014-08-02",
          "2014-08-03",
          "2014-08-04",
          "2014-08-05",
          "2014-08-06",
          "2014-08-07",
          "2014-08-08",
          "2014-08-09",
          "2014-08-10",
          "2014-08-11",
          "2014-08-12",
          "2014-08-13",
          "2014-08-14",
          "2014-08-15",
          "2014-08-16",
          "2014-08-17",
          "2014-08-18",
          "2014-08-19",
          "2014-08-20",
          "2014-08-21",
          "2014-08-22",
          "2014-08-23",
          "2014-08-24",
          "2014-08-25",
          "2014-08-26",
          "2014-08-27",
          "2014-08-28",
          "2014-08-29",
          "2014-08-30",
          "2014-08-31",
          "2014-09-01",
          "2014-09-02",
          "2014-09-03",
          "2014-09-04",
          "2014-09-05",
          "2014-09-06",
          "2014-09-07",
          "2014-09-08",
          "2014-09-09",
          "2014-09-10",
          "2014-09-11",
          "2014-09-12",
          "2014-09-13",
          "2014-09-14",
          "2014-09-15",
          "2014-09-16",
          "2014-09-17",
          "2014-09-18",
          "2014-09-19",
          "2014-09-20",
          "2014-09-21",
          "2014-09-22",
          "2014-09-23",
          "2014-09-24",
          "2014-09-25",
          "2014-09-26",
          "2014-09-27",
          "2014-09-28",
          "2014-09-29",
          "2014-09-30",
          "2014-10-01",
          "2014-10-02",
          "2014-10-03",
          "2014-10-04",
          "2014-10-05",
          "2014-10-06",
          "2014-10-07",
          "2014-10-08",
          "2014-10-09",
          "2014-10-10",
          "2014-10-11",
          "2014-10-12",
          "2014-10-13",
          "2014-10-14",
          "2014-10-15",
          "2014-10-16",
          "2014-10-17",
          "2014-10-18",
          "2014-10-19",
          "2014-10-20",
          "2014-10-21",
          "2014-10-22",
          "2014-10-23",
          "2014-10-24",
          "2014-10-25",
          "2014-10-26",
          "2014-10-27",
          "2014-10-28",
          "2014-10-29",
          "2014-10-30",
          "2014-10-31",
          "2014-11-01",
          "2014-11-02",
          "2014-11-03",
          "2014-11-04",
          "2014-11-05",
          "2014-11-06",
          "2014-11-07",
          "2014-11-08",
          "2014-11-09",
          "2014-11-10",
          "2014-11-11",
          "2014-11-12",
          "2014-11-13",
          "2014-11-14",
          "2014-11-15",
          "2014-11-16",
          "2014-11-17",
          "2014-11-18",
          "2014-11-19",
          "2014-11-20",
          "2014-11-21",
          "2014-11-22",
          "2014-11-23",
          "2014-11-24",
          "2014-11-25",
          "2014-11-26",
          "2014-11-27",
          "2014-11-28",
          "2014-11-29",
          "2014-11-30",
          "2014-12-01",
          "2014-12-02",
          "2014-12-03",
          "2014-12-04",
          "2014-12-05",
          "2014-12-06",
          "2014-12-07",
          "2014-12-08",
          "2014-12-09",
          "2014-12-10",
          "2014-12-11",
          "2014-12-12",
          "2014-12-13",
          "2014-12-14",
          "2014-12-15",
          "2014-12-16",
          "2014-12-17",
          "2014-12-18",
          "2014-12-19",
          "2014-12-20",
          "2014-12-21",
          "2014-12-22",
          "2014-12-23",
          "2014-12-24",
          "2014-12-25",
          "2014-12-26",
          "2014-12-27",
          "2014-12-28",
          "2014-12-29",
          "2014-12-30",
          "2014-12-31",
          "2015-01-01",
          "2015-01-02",
          "2015-01-03",
          "2015-01-04",
          "2015-01-05",
          "2015-01-06",
          "2015-01-07",
          "2015-01-08",
          "2015-01-09",
          "2015-01-10",
          "2015-01-11",
          "2015-01-12",
          "2015-01-13",
          "2015-01-14",
          "2015-01-15",
          "2015-01-16",
          "2015-01-17",
          "2015-01-18",
          "2015-01-19",
          "2015-01-20",
          "2015-01-21",
          "2015-01-22",
          "2015-01-23",
          "2015-01-24",
          "2015-01-25",
          "2015-01-26",
          "2015-01-27",
          "2015-01-28",
          "2015-01-29",
          "2015-01-30",
          "2015-01-31",
          "2015-02-01",
          "2015-02-02",
          "2015-02-03",
          "2015-02-04",
          "2015-02-05",
          "2015-02-06",
          "2015-02-07",
          "2015-02-08",
          "2015-02-09",
          "2015-02-10",
          "2015-02-11",
          "2015-02-12",
          "2015-02-13",
          "2015-02-14",
          "2015-02-15",
          "2015-02-16",
          "2015-02-17",
          "2015-02-18",
          "2015-02-19",
          "2015-02-20",
          "2015-02-21",
          "2015-02-22",
          "2015-02-23",
          "2015-02-24",
          "2015-02-25",
          "2015-02-26",
          "2015-02-27",
          "2015-02-28",
          "2015-03-01",
          "2015-03-02",
          "2015-03-03",
          "2015-03-04",
          "2015-03-05",
          "2015-03-06",
          "2015-03-07",
          "2015-03-08",
          "2015-03-09",
          "2015-03-10",
          "2015-03-11",
          "2015-03-12",
          "2015-03-13",
          "2015-03-14",
          "2015-03-15",
          "2015-03-16",
          "2015-03-17",
          "2015-03-18",
          "2015-03-19",
          "2015-03-20",
          "2015-03-21",
          "2015-03-22",
          "2015-03-23",
          "2015-03-24",
          "2015-03-25",
          "2015-03-26",
          "2015-03-27",
          "2015-03-28",
          "2015-03-29",
          "2015-03-30",
          "2015-03-31",
          "2015-04-01",
          "2015-04-02",
          "2015-04-03",
          "2015-04-04",
          "2015-04-05",
          "2015-04-06",
          "2015-04-07",
          "2015-04-08",
          "2015-04-09",
          "2015-04-10",
          "2015-04-11",
          "2015-04-12",
          "2015-04-13",
          "2015-04-14",
          "2015-04-15",
          "2015-04-16",
          "2015-04-17",
          "2015-04-18",
          "2015-04-19",
          "2015-04-20",
          "2015-04-21",
          "2015-04-22",
          "2015-04-23",
          "2015-04-24",
          "2015-04-25",
          "2015-04-26",
          "2015-04-27",
          "2015-04-28",
          "2015-04-29",
          "2015-04-30",
          "2015-05-01",
          "2015-05-02",
          "2015-05-03",
          "2015-05-04",
          "2015-05-05",
          "2015-05-06",
          "2015-05-07",
          "2015-05-08",
          "2015-05-09",
          "2015-05-10",
          "2015-05-11",
          "2015-05-12",
          "2015-05-13",
          "2015-05-14",
          "2015-05-15",
          "2015-05-16",
          "2015-05-17",
          "2015-05-18",
          "2015-05-19",
          "2015-05-20",
          "2015-05-21",
          "2015-05-22",
          "2015-05-23",
          "2015-05-24",
          "2015-05-25",
          "2015-05-26",
          "2015-05-27",
          "2015-05-28",
          "2015-05-29",
          "2015-05-30",
          "2015-05-31",
          "2015-06-01",
          "2015-06-02",
          "2015-06-03",
          "2015-06-04",
          "2015-06-05",
          "2015-06-06",
          "2015-06-07",
          "2015-06-08",
          "2015-06-09",
          "2015-06-10",
          "2015-06-11",
          "2015-06-12",
          "2015-06-13",
          "2015-06-14",
          "2015-06-15",
          "2015-06-16",
          "2015-06-17",
          "2015-06-18",
          "2015-06-19",
          "2015-06-20",
          "2015-06-21",
          "2015-06-22",
          "2015-06-23",
          "2015-06-24",
          "2015-06-25",
          "2015-06-26",
          "2015-06-27",
          "2015-06-28",
          "2015-06-29",
          "2015-06-30",
          "2015-07-01",
          "2015-07-02",
          "2015-07-03",
          "2015-07-04",
          "2015-07-05",
          "2015-07-06",
          "2015-07-07",
          "2015-07-08",
          "2015-07-09",
          "2015-07-10",
          "2015-07-11",
          "2015-07-12",
          "2015-07-13",
          "2015-07-14",
          "2015-07-15",
          "2015-07-16",
          "2015-07-17",
          "2015-07-18",
          "2015-07-19",
          "2015-07-20",
          "2015-07-21",
          "2015-07-22",
          "2015-07-23",
          "2015-07-24",
          "2015-07-25",
          "2015-07-26",
          "2015-07-27",
          "2015-07-28",
          "2015-07-29",
          "2015-07-30",
          "2015-07-31",
          "2015-08-01",
          "2015-08-02",
          "2015-08-03",
          "2015-08-04",
          "2015-08-05",
          "2015-08-06",
          "2015-08-07",
          "2015-08-08",
          "2015-08-09",
          "2015-08-10",
          "2015-08-11",
          "2015-08-12",
          "2015-08-13",
          "2015-08-14",
          "2015-08-15",
          "2015-08-16",
          "2015-08-17",
          "2015-08-18",
          "2015-08-19",
          "2015-08-20",
          "2015-08-21",
          "2015-08-22",
          "2015-08-23",
          "2015-08-24",
          "2015-08-25",
          "2015-08-26",
          "2015-08-27",
          "2015-08-28",
          "2015-08-29",
          "2015-08-30",
          "2015-08-31",
          "2015-09-01",
          "2015-09-02",
          "2015-09-03",
          "2015-09-04",
          "2015-09-05",
          "2015-09-06",
          "2015-09-07",
          "2015-09-08",
          "2015-09-09",
          "2015-09-10",
          "2015-09-11",
          "2015-09-12",
          "2015-09-13",
          "2015-09-14",
          "2015-09-15",
          "2015-09-16",
          "2015-09-17",
          "2015-09-18",
          "2015-09-19",
          "2015-09-20",
          "2015-09-21",
          "2015-09-22",
          "2015-09-23",
          "2015-09-24",
          "2015-09-25",
          "2015-09-26",
          "2015-09-27",
          "2015-09-28",
          "2015-09-29",
          "2015-09-30",
          "2015-10-01",
          "2015-10-02",
          "2015-10-03",
          "2015-10-04",
          "2015-10-05",
          "2015-10-06",
          "2015-10-07",
          "2015-10-08",
          "2015-10-09",
          "2015-10-10",
          "2015-10-11",
          "2015-10-12",
          "2015-10-13",
          "2015-10-14",
          "2015-10-15",
          "2015-10-16",
          "2015-10-17",
          "2015-10-18",
          "2015-10-19",
          "2015-10-20",
          "2015-10-21",
          "2015-10-22",
          "2015-10-23",
          "2015-10-24",
          "2015-10-25",
          "2015-10-26",
          "2015-10-27",
          "2015-10-28",
          "2015-10-29",
          "2015-10-30",
          "2015-10-31",
          "2015-11-01",
          "2015-11-02",
          "2015-11-03",
          "2015-11-04",
          "2015-11-05",
          "2015-11-06",
          "2015-11-07",
          "2015-11-08",
          "2015-11-09",
          "2015-11-10",
          "2015-11-11",
          "2015-11-12",
          "2015-11-13",
          "2015-11-14",
          "2015-11-15",
          "2015-11-16",
          "2015-11-17",
          "2015-11-18",
          "2015-11-19",
          "2015-11-20",
          "2015-11-21",
          "2015-11-22",
          "2015-11-23",
          "2015-11-24",
          "2015-11-25",
          "2015-11-26",
          "2015-11-27",
          "2015-11-28",
          "2015-11-29",
          "2015-11-30",
          "2015-12-01",
          "2015-12-02",
          "2015-12-03",
          "2015-12-04",
          "2015-12-05",
          "2015-12-06",
          "2015-12-07",
          "2015-12-08",
          "2015-12-09",
          "2015-12-10",
          "2015-12-11",
          "2015-12-12",
          "2015-12-13",
          "2015-12-14",
          "2015-12-15",
          "2015-12-16",
          "2015-12-17",
          "2015-12-18",
          "2015-12-19",
          "2015-12-20",
          "2015-12-21",
          "2015-12-22",
          "2015-12-23",
          "2015-12-24",
          "2015-12-25",
          "2015-12-26",
          "2015-12-27",
          "2015-12-28",
          "2015-12-29",
          "2015-12-30",
          "2015-12-31",
          "2016-01-01",
          "2016-01-02",
          "2016-01-03",
          "2016-01-04",
          "2016-01-05",
          "2016-01-06",
          "2016-01-07",
          "2016-01-08",
          "2016-01-09",
          "2016-01-10",
          "2016-01-11",
          "2016-01-12",
          "2016-01-13",
          "2016-01-14",
          "2016-01-15",
          "2016-01-16",
          "2016-01-17",
          "2016-01-18",
          "2016-01-19",
          "2016-01-20",
          "2016-01-21",
          "2016-01-22",
          "2016-01-23",
          "2016-01-24",
          "2016-01-25",
          "2016-01-26",
          "2016-01-27",
          "2016-01-28",
          "2016-01-29",
          "2016-01-30",
          "2016-01-31",
          "2016-02-01",
          "2016-02-02",
          "2016-02-03",
          "2016-02-04",
          "2016-02-05",
          "2016-02-06",
          "2016-02-07",
          "2016-02-08",
          "2016-02-09",
          "2016-02-10",
          "2016-02-11",
          "2016-02-12",
          "2016-02-13",
          "2016-02-14",
          "2016-02-15",
          "2016-02-16",
          "2016-02-17",
          "2016-02-18",
          "2016-02-19",
          "2016-02-20",
          "2016-02-21",
          "2016-02-22",
          "2016-02-23",
          "2016-02-24",
          "2016-02-25",
          "2016-02-26",
          "2016-02-27",
          "2016-02-28",
          "2016-02-29",
          "2016-03-01",
          "2016-03-02",
          "2016-03-03",
          "2016-03-04",
          "2016-03-05",
          "2016-03-06",
          "2016-03-07",
          "2016-03-08",
          "2016-03-09",
          "2016-03-10",
          "2016-03-11",
          "2016-03-12",
          "2016-03-13",
          "2016-03-14",
          "2016-03-15",
          "2016-03-16",
          "2016-03-17",
          "2016-03-18",
          "2016-03-19",
          "2016-03-20",
          "2016-03-21",
          "2016-03-22",
          "2016-03-23",
          "2016-03-24",
          "2016-03-25",
          "2016-03-26",
          "2016-03-27",
          "2016-03-28",
          "2016-03-29",
          "2016-03-30",
          "2016-03-31",
          "2016-04-01",
          "2016-04-02",
          "2016-04-03",
          "2016-04-04",
          "2016-04-05",
          "2016-04-06",
          "2016-04-07",
          "2016-04-08",
          "2016-04-09",
          "2016-04-10",
          "2016-04-11",
          "2016-04-12",
          "2016-04-13",
          "2016-04-14",
          "2016-04-15",
          "2016-04-16",
          "2016-04-17",
          "2016-04-18",
          "2016-04-19",
          "2016-04-20",
          "2016-04-21",
          "2016-04-22",
          "2016-04-23",
          "2016-04-24",
          "2016-04-25",
          "2016-04-26",
          "2016-04-27",
          "2016-04-28",
          "2016-04-29",
          "2016-04-30",
          "2016-05-01",
          "2016-05-02",
          "2016-05-03",
          "2016-05-04",
          "2016-05-05",
          "2016-05-06",
          "2016-05-07",
          "2016-05-08",
          "2016-05-09",
          "2016-05-10",
          "2016-05-11",
          "2016-05-12",
          "2016-05-13",
          "2016-05-14",
          "2016-05-15",
          "2016-05-16",
          "2016-05-17",
          "2016-05-18",
          "2016-05-19",
          "2016-05-20",
          "2016-05-21",
          "2016-05-22",
          "2016-05-23",
          "2016-05-24",
          "2016-05-25",
          "2016-05-26",
          "2016-05-27",
          "2016-05-28",
          "2016-05-29",
          "2016-05-30",
          "2016-05-31",
          "2016-06-01",
          "2016-06-02",
          "2016-06-03",
          "2016-06-04",
          "2016-06-05",
          "2016-06-06",
          "2016-06-07",
          "2016-06-08",
          "2016-06-09",
          "2016-06-10",
          "2016-06-11",
          "2016-06-12",
          "2016-06-13",
          "2016-06-14",
          "2016-06-15",
          "2016-06-16",
          "2016-06-17",
          "2016-06-18",
          "2016-06-19",
          "2016-06-20",
          "2016-06-21",
          "2016-06-22",
          "2016-06-23",
          "2016-06-24",
          "2016-06-25",
          "2016-06-26",
          "2016-06-27",
          "2016-06-28",
          "2016-06-29",
          "2016-06-30",
          "2016-07-01",
          "2016-07-02",
          "2016-07-03",
          "2016-07-04",
          "2016-07-05",
          "2016-07-06",
          "2016-07-07",
          "2016-07-08",
          "2016-07-09",
          "2016-07-10",
          "2016-07-11",
          "2016-07-12",
          "2016-07-13",
          "2016-07-14",
          "2016-07-15",
          "2016-07-16",
          "2016-07-17",
          "2016-07-18",
          "2016-07-19",
          "2016-07-20",
          "2016-07-21",
          "2016-07-22",
          "2016-07-23",
          "2016-07-24",
          "2016-07-25",
          "2016-07-26",
          "2016-07-27",
          "2016-07-28",
          "2016-07-29",
          "2016-07-30",
          "2016-07-31",
          "2016-08-01",
          "2016-08-02",
          "2016-08-03",
          "2016-08-04",
          "2016-08-05",
          "2016-08-06",
          "2016-08-07",
          "2016-08-08",
          "2016-08-09",
          "2016-08-10",
          "2016-08-11",
          "2016-08-12",
          "2016-08-13",
          "2016-08-14",
          "2016-08-15",
          "2016-08-16",
          "2016-08-17",
          "2016-08-18",
          "2016-08-19",
          "2016-08-20",
          "2016-08-21",
          "2016-08-22",
          "2016-08-23",
          "2016-08-24",
          "2016-08-25",
          "2016-08-26",
          "2016-08-27",
          "2016-08-28",
          "2016-08-29",
          "2016-08-30",
          "2016-08-31",
          "2016-09-01",
          "2016-09-02",
          "2016-09-03",
          "2016-09-04",
          "2016-09-05",
          "2016-09-06",
          "2016-09-07",
          "2016-09-08",
          "2016-09-09",
          "2016-09-10",
          "2016-09-11",
          "2016-09-12",
          "2016-09-13",
          "2016-09-14",
          "2016-09-15",
          "2016-09-16",
          "2016-09-17",
          "2016-09-18",
          "2016-09-19",
          "2016-09-20",
          "2016-09-21",
          "2016-09-22",
          "2016-09-23",
          "2016-09-24",
          "2016-09-25",
          "2016-09-26",
          "2016-09-27",
          "2016-09-28",
          "2016-09-29",
          "2016-09-30",
          "2016-10-01",
          "2016-10-02",
          "2016-10-03",
          "2016-10-04",
          "2016-10-05",
          "2016-10-06",
          "2016-10-07",
          "2016-10-08",
          "2016-10-09",
          "2016-10-10",
          "2016-10-11",
          "2016-10-12",
          "2016-10-13",
          "2016-10-14",
          "2016-10-15",
          "2016-10-16",
          "2016-10-17",
          "2016-10-18",
          "2016-10-19",
          "2016-10-20",
          "2016-10-21",
          "2016-10-22",
          "2016-10-23",
          "2016-10-24",
          "2016-10-25",
          "2016-10-26",
          "2016-10-27",
          "2016-10-28",
          "2016-10-29",
          "2016-10-30",
          "2016-10-31",
          "2016-11-01",
          "2016-11-02",
          "2016-11-03",
          "2016-11-04",
          "2016-11-05",
          "2016-11-06",
          "2016-11-07",
          "2016-11-08",
          "2016-11-09",
          "2016-11-10",
          "2016-11-11",
          "2016-11-12",
          "2016-11-13",
          "2016-11-14",
          "2016-11-15",
          "2016-11-16",
          "2016-11-17",
          "2016-11-18",
          "2016-11-19",
          "2016-11-20",
          "2016-11-21",
          "2016-11-22",
          "2016-11-23",
          "2016-11-24",
          "2016-11-25",
          "2016-11-26",
          "2016-11-27",
          "2016-11-28",
          "2016-11-29",
          "2016-11-30",
          "2016-12-01",
          "2016-12-02",
          "2016-12-03",
          "2016-12-04",
          "2016-12-05",
          "2016-12-06",
          "2016-12-07",
          "2016-12-08",
          "2016-12-09",
          "2016-12-10",
          "2016-12-11",
          "2016-12-12",
          "2016-12-13",
          "2016-12-14",
          "2016-12-15",
          "2016-12-16",
          "2016-12-17",
          "2016-12-18",
          "2016-12-19",
          "2016-12-20",
          "2016-12-21",
          "2016-12-22",
          "2016-12-23",
          "2016-12-24",
          "2016-12-25",
          "2016-12-26",
          "2016-12-27",
          "2016-12-28",
          "2016-12-29",
          "2016-12-30",
          "2016-12-31",
          "2017-01-01",
          "2017-01-02",
          "2017-01-03",
          "2017-01-04",
          "2017-01-05",
          "2017-01-06",
          "2017-01-07",
          "2017-01-08",
          "2017-01-09",
          "2017-01-10",
          "2017-01-11",
          "2017-01-12",
          "2017-01-13",
          "2017-01-14",
          "2017-01-15",
          "2017-01-16",
          "2017-01-17",
          "2017-01-18",
          "2017-01-19",
          "2017-01-20",
          "2017-01-21",
          "2017-01-22",
          "2017-01-23",
          "2017-01-24",
          "2017-01-25",
          "2017-01-26",
          "2017-01-27",
          "2017-01-28",
          "2017-01-29",
          "2017-01-30",
          "2017-01-31",
          "2017-02-01",
          "2017-02-02",
          "2017-02-03",
          "2017-02-04",
          "2017-02-05",
          "2017-02-06",
          "2017-02-07",
          "2017-02-08",
          "2017-02-09",
          "2017-02-10",
          "2017-02-11",
          "2017-02-12",
          "2017-02-13",
          "2017-02-14",
          "2017-02-15",
          "2017-02-16",
          "2017-02-17",
          "2017-02-18",
          "2017-02-19",
          "2017-02-20",
          "2017-02-21",
          "2017-02-22",
          "2017-02-23",
          "2017-02-24",
          "2017-02-25",
          "2017-02-26",
          "2017-02-27",
          "2017-02-28",
          "2017-03-01",
          "2017-03-02",
          "2017-03-03",
          "2017-03-04",
          "2017-03-05",
          "2017-03-06",
          "2017-03-07",
          "2017-03-08",
          "2017-03-09",
          "2017-03-10",
          "2017-03-11",
          "2017-03-12",
          "2017-03-13",
          "2017-03-14",
          "2017-03-15",
          "2017-03-16",
          "2017-03-17",
          "2017-03-18",
          "2017-03-19",
          "2017-03-20",
          "2017-03-21",
          "2017-03-22",
          "2017-03-23",
          "2017-03-24",
          "2017-03-25",
          "2017-03-26",
          "2017-03-27",
          "2017-03-28",
          "2017-03-29",
          "2017-03-30",
          "2017-03-31",
          "2017-04-01",
          "2017-04-02",
          "2017-04-03",
          "2017-04-04",
          "2017-04-05",
          "2017-04-06",
          "2017-04-07",
          "2017-04-08",
          "2017-04-09",
          "2017-04-10",
          "2017-04-11",
          "2017-04-12",
          "2017-04-13",
          "2017-04-14",
          "2017-04-15",
          "2017-04-16",
          "2017-04-17",
          "2017-04-18",
          "2017-04-19",
          "2017-04-20",
          "2017-04-21",
          "2017-04-22",
          "2017-04-23",
          "2017-04-24",
          "2017-04-25",
          "2017-04-26",
          "2017-04-27",
          "2017-04-28",
          "2017-04-29",
          "2017-04-30",
          "2017-05-01",
          "2017-05-02",
          "2017-05-03",
          "2017-05-04",
          "2017-05-05",
          "2017-05-06",
          "2017-05-07",
          "2017-05-08",
          "2017-05-09",
          "2017-05-10",
          "2017-05-11",
          "2017-05-12",
          "2017-05-13",
          "2017-05-14",
          "2017-05-15",
          "2017-05-16",
          "2017-05-17",
          "2017-05-18",
          "2017-05-19",
          "2017-05-20",
          "2017-05-21",
          "2017-05-22",
          "2017-05-23",
          "2017-05-24",
          "2017-05-25",
          "2017-05-26",
          "2017-05-27",
          "2017-05-28",
          "2017-05-29",
          "2017-05-30",
          "2017-05-31",
          "2017-06-01",
          "2017-06-02",
          "2017-06-03",
          "2017-06-04",
          "2017-06-05",
          "2017-06-06",
          "2017-06-07",
          "2017-06-08",
          "2017-06-09",
          "2017-06-10",
          "2017-06-11",
          "2017-06-12",
          "2017-06-13",
          "2017-06-14",
          "2017-06-15",
          "2017-06-16",
          "2017-06-17",
          "2017-06-18",
          "2017-06-19",
          "2017-06-20",
          "2017-06-21",
          "2017-06-22",
          "2017-06-23",
          "2017-06-24",
          "2017-06-25",
          "2017-06-26",
          "2017-06-27",
          "2017-06-28",
          "2017-06-29",
          "2017-06-30",
          "2017-07-01",
          "2017-07-02",
          "2017-07-03",
          "2017-07-04",
          "2017-07-05",
          "2017-07-06",
          "2017-07-07",
          "2017-07-08",
          "2017-07-09",
          "2017-07-10",
          "2017-07-11",
          "2017-07-12",
          "2017-07-13",
          "2017-07-14",
          "2017-07-15",
          "2017-07-16",
          "2017-07-17",
          "2017-07-18",
          "2017-07-19",
          "2017-07-20",
          "2017-07-21",
          "2017-07-22",
          "2017-07-23",
          "2017-07-24",
          "2017-07-25",
          "2017-07-26",
          "2017-07-27",
          "2017-07-28",
          "2017-07-29",
          "2017-07-30",
          "2017-07-31",
          "2017-08-01",
          "2017-08-02",
          "2017-08-03",
          "2017-08-04",
          "2017-08-05",
          "2017-08-06",
          "2017-08-07",
          "2017-08-08",
          "2017-08-09",
          "2017-08-10",
          "2017-08-11",
          "2017-08-12",
          "2017-08-13",
          "2017-08-14",
          "2017-08-15",
          "2017-08-16",
          "2017-08-17",
          "2017-08-18",
          "2017-08-19",
          "2017-08-20",
          "2017-08-21",
          "2017-08-22",
          "2017-08-23",
          "2017-08-24",
          "2017-08-25",
          "2017-08-26",
          "2017-08-27",
          "2017-08-28",
          "2017-08-29",
          "2017-08-30",
          "2017-08-31",
          "2017-09-01",
          "2017-09-02",
          "2017-09-03",
          "2017-09-04",
          "2017-09-05",
          "2017-09-06",
          "2017-09-07",
          "2017-09-08",
          "2017-09-09",
          "2017-09-10",
          "2017-09-11",
          "2017-09-12",
          "2017-09-13",
          "2017-09-14",
          "2017-09-15",
          "2017-09-16",
          "2017-09-17",
          "2017-09-18",
          "2017-09-19",
          "2017-09-20",
          "2017-09-21",
          "2017-09-22",
          "2017-09-23",
          "2017-09-24",
          "2017-09-25",
          "2017-09-26",
          "2017-09-27",
          "2017-09-28",
          "2017-09-29",
          "2017-09-30",
          "2017-10-01",
          "2017-10-02",
          "2017-10-03",
          "2017-10-04",
          "2017-10-05",
          "2017-10-06",
          "2017-10-07",
          "2017-10-08",
          "2017-10-09",
          "2017-10-10",
          "2017-10-11",
          "2017-10-12",
          "2017-10-13",
          "2017-10-14",
          "2017-10-15",
          "2017-10-16",
          "2017-10-17",
          "2017-10-18",
          "2017-10-19",
          "2017-10-20",
          "2017-10-21",
          "2017-10-22",
          "2017-10-23",
          "2017-10-24",
          "2017-10-25",
          "2017-10-26",
          "2017-10-27",
          "2017-10-28",
          "2017-10-29",
          "2017-10-30",
          "2017-10-31",
          "2017-11-01",
          "2017-11-02",
          "2017-11-03",
          "2017-11-04",
          "2017-11-05",
          "2017-11-06",
          "2017-11-07",
          "2017-11-08",
          "2017-11-09",
          "2017-11-10",
          "2017-11-11",
          "2017-11-12",
          "2017-11-13",
          "2017-11-14",
          "2017-11-15",
          "2017-11-16",
          "2017-11-17",
          "2017-11-18",
          "2017-11-19",
          "2017-11-20",
          "2017-11-21",
          "2017-11-22",
          "2017-11-23",
          "2017-11-24",
          "2017-11-25",
          "2017-11-26",
          "2017-11-27",
          "2017-11-28",
          "2017-11-29",
          "2017-11-30",
          "2017-12-01",
          "2017-12-02",
          "2017-12-03",
          "2017-12-04",
          "2017-12-05",
          "2017-12-06",
          "2017-12-07",
          "2017-12-08",
          "2017-12-09",
          "2017-12-10",
          "2017-12-11",
          "2017-12-12",
          "2017-12-13",
          "2017-12-14",
          "2017-12-15",
          "2017-12-16",
          "2017-12-17",
          "2017-12-18",
          "2017-12-19",
          "2017-12-20",
          "2017-12-21",
          "2017-12-22",
          "2017-12-23",
          "2017-12-24",
          "2017-12-25",
          "2017-12-26",
          "2017-12-27",
          "2017-12-28",
          "2017-12-29",
          "2017-12-30",
          "2017-12-31"
         ],
         "y": [
          77.89535122701902,
          31.694930583750676,
          -236.14714156984977,
          -411.3635380477759,
          -161.10966425543148,
          250.26096629366953,
          223.69051576169127,
          348.77520036484555,
          -6.403358275243342,
          -220.62353853695137,
          -249.03263771758125,
          -13.26741257388582,
          131.2945693265671,
          161.4338485243176,
          24.197181776120097,
          -67.93543091802279,
          -220.4604760445961,
          -356.86714279279266,
          -183.2686744058534,
          10.598442629734027,
          328.91150561126807,
          472.2056496738821,
          286.3014153581193,
          -166.0660622008886,
          -135.78137759773222,
          -88.38076987688942,
          333.55917282010466,
          277.1641728201047,
          363.82611726454945,
          220.74306170899357,
          -270.50499384656246,
          -300.3091605132287,
          -221.72860495767307,
          124.9375061534365,
          -14.25638273544995,
          150.5605617089934,
          198.61389504232565,
          -70.05082717989521,
          -278.82193829100686,
          -278.0138827354519,
          92.22417282010473,
          201.00111726454978,
          347.29333948677055,
          282.9866728201048,
          52.2252839312149,
          -482.9508271798951,
          -438.94610495767284,
          -122.73110495767318,
          40.45361726455009,
          -37.82721606878437,
          77.89535122701902,
          31.694930583750676,
          -236.14714156984977,
          -411.3635380477759,
          -161.10966425543148,
          250.26096629366953,
          223.69051576169127,
          348.77520036484555,
          -6.403358275243342,
          -220.62353853695137,
          -249.03263771758125,
          -13.26741257388582,
          131.2945693265671,
          161.4338485243176,
          24.197181776120097,
          -67.93543091802279,
          -220.4604760445961,
          -356.86714279279266,
          -183.2686744058534,
          10.598442629734027,
          328.91150561126807,
          472.2056496738821,
          286.3014153581193,
          -166.0660622008886,
          -135.78137759773222,
          -88.38076987688942,
          333.55917282010466,
          277.1641728201047,
          363.82611726454945,
          220.74306170899357,
          -270.50499384656246,
          -300.3091605132287,
          -221.72860495767307,
          124.9375061534365,
          -14.25638273544995,
          150.5605617089934,
          198.61389504232565,
          -70.05082717989521,
          -278.82193829100686,
          -278.0138827354519,
          92.22417282010473,
          201.00111726454978,
          347.29333948677055,
          282.9866728201048,
          52.2252839312149,
          -482.9508271798951,
          -438.94610495767284,
          -122.73110495767318,
          40.45361726455009,
          -37.82721606878437,
          77.89535122701902,
          31.694930583750676,
          -236.14714156984977,
          -411.3635380477759,
          -161.10966425543148,
          250.26096629366953,
          223.69051576169127,
          348.77520036484555,
          -6.403358275243342,
          -220.62353853695137,
          -249.03263771758125,
          -13.26741257388582,
          131.2945693265671,
          161.4338485243176,
          24.197181776120097,
          -67.93543091802279,
          -220.4604760445961,
          -356.86714279279266,
          -183.2686744058534,
          10.598442629734027,
          328.91150561126807,
          472.2056496738821,
          286.3014153581193,
          -166.0660622008886,
          -135.78137759773222,
          -88.38076987688942,
          333.55917282010466,
          277.1641728201047,
          363.82611726454945,
          220.74306170899357,
          -270.50499384656246,
          -300.3091605132287,
          -221.72860495767307,
          124.9375061534365,
          -14.25638273544995,
          150.5605617089934,
          198.61389504232565,
          -70.05082717989521,
          -278.82193829100686,
          -278.0138827354519,
          92.22417282010473,
          201.00111726454978,
          347.29333948677055,
          282.9866728201048,
          52.2252839312149,
          -482.9508271798951,
          -438.94610495767284,
          -122.73110495767318,
          40.45361726455009,
          -37.82721606878437,
          77.89535122701902,
          31.694930583750676,
          -236.14714156984977,
          -411.3635380477759,
          -161.10966425543148,
          250.26096629366953,
          223.69051576169127,
          348.77520036484555,
          -6.403358275243342,
          -220.62353853695137,
          -249.03263771758125,
          -13.26741257388582,
          131.2945693265671,
          161.4338485243176,
          24.197181776120097,
          -67.93543091802279,
          -220.4604760445961,
          -356.86714279279266,
          -183.2686744058534,
          10.598442629734027,
          328.91150561126807,
          472.2056496738821,
          286.3014153581193,
          -166.0660622008886,
          -135.78137759773222,
          -88.38076987688942,
          333.55917282010466,
          277.1641728201047,
          363.82611726454945,
          220.74306170899357,
          -270.50499384656246,
          -300.3091605132287,
          -221.72860495767307,
          124.9375061534365,
          -14.25638273544995,
          150.5605617089934,
          198.61389504232565,
          -70.05082717989521,
          -278.82193829100686,
          -278.0138827354519,
          92.22417282010473,
          201.00111726454978,
          347.29333948677055,
          282.9866728201048,
          52.2252839312149,
          -482.9508271798951,
          -438.94610495767284,
          -122.73110495767318,
          40.45361726455009,
          -37.82721606878437,
          77.89535122701902,
          31.694930583750676,
          -236.14714156984977,
          -411.3635380477759,
          -161.10966425543148,
          250.26096629366953,
          223.69051576169127,
          348.77520036484555,
          -6.403358275243342,
          -220.62353853695137,
          -249.03263771758125,
          -13.26741257388582,
          131.2945693265671,
          161.4338485243176,
          24.197181776120097,
          -67.93543091802279,
          -220.4604760445961,
          -356.86714279279266,
          -183.2686744058534,
          10.598442629734027,
          328.91150561126807,
          472.2056496738821,
          286.3014153581193,
          -166.0660622008886,
          -135.78137759773222,
          -88.38076987688942,
          333.55917282010466,
          277.1641728201047,
          363.82611726454945,
          220.74306170899357,
          -270.50499384656246,
          -300.3091605132287,
          -221.72860495767307,
          124.9375061534365,
          -14.25638273544995,
          150.5605617089934,
          198.61389504232565,
          -70.05082717989521,
          -278.82193829100686,
          -278.0138827354519,
          92.22417282010473,
          201.00111726454978,
          347.29333948677055,
          282.9866728201048,
          52.2252839312149,
          -482.9508271798951,
          -438.94610495767284,
          -122.73110495767318,
          40.45361726455009,
          -37.82721606878437,
          77.89535122701902,
          31.694930583750676,
          -236.14714156984977,
          -411.3635380477759,
          -161.10966425543148,
          250.26096629366953,
          223.69051576169127,
          348.77520036484555,
          -6.403358275243342,
          -220.62353853695137,
          -249.03263771758125,
          -13.26741257388582,
          131.2945693265671,
          161.4338485243176,
          24.197181776120097,
          -67.93543091802279,
          -220.4604760445961,
          -356.86714279279266,
          -183.2686744058534,
          10.598442629734027,
          328.91150561126807,
          472.2056496738821,
          286.3014153581193,
          -166.0660622008886,
          -135.78137759773222,
          -88.38076987688942,
          333.55917282010466,
          277.1641728201047,
          363.82611726454945,
          220.74306170899357,
          -270.50499384656246,
          -300.3091605132287,
          -221.72860495767307,
          124.9375061534365,
          -14.25638273544995,
          150.5605617089934,
          198.61389504232565,
          -70.05082717989521,
          -278.82193829100686,
          -278.0138827354519,
          92.22417282010473,
          201.00111726454978,
          347.29333948677055,
          282.9866728201048,
          52.2252839312149,
          -482.9508271798951,
          -438.94610495767284,
          -122.73110495767318,
          40.45361726455009,
          -37.82721606878437,
          77.89535122701902,
          31.694930583750676,
          -236.14714156984977,
          -411.3635380477759,
          -161.10966425543148,
          250.26096629366953,
          223.69051576169127,
          348.77520036484555,
          -6.403358275243342,
          -220.62353853695137,
          -249.03263771758125,
          -13.26741257388582,
          131.2945693265671,
          161.4338485243176,
          24.197181776120097,
          -67.93543091802279,
          -220.4604760445961,
          -356.86714279279266,
          -183.2686744058534,
          10.598442629734027,
          328.91150561126807,
          472.2056496738821,
          286.3014153581193,
          -166.0660622008886,
          -135.78137759773222,
          -88.38076987688942,
          333.55917282010466,
          277.1641728201047,
          363.82611726454945,
          220.74306170899357,
          -270.50499384656246,
          -300.3091605132287,
          -221.72860495767307,
          124.9375061534365,
          -14.25638273544995,
          150.5605617089934,
          198.61389504232565,
          -70.05082717989521,
          -278.82193829100686,
          -278.0138827354519,
          92.22417282010473,
          201.00111726454978,
          347.29333948677055,
          282.9866728201048,
          52.2252839312149,
          -482.9508271798951,
          -438.94610495767284,
          -122.73110495767318,
          40.45361726455009,
          -37.82721606878437,
          77.89535122701902,
          31.694930583750676,
          -236.14714156984977,
          -411.3635380477759,
          -161.10966425543148,
          250.26096629366953,
          223.69051576169127,
          348.77520036484555,
          -6.403358275243342,
          -220.62353853695137,
          -249.03263771758125,
          -13.26741257388582,
          131.2945693265671,
          161.4338485243176,
          24.197181776120097,
          -67.93543091802279,
          -220.4604760445961,
          -356.86714279279266,
          -183.2686744058534,
          10.598442629734027,
          328.91150561126807,
          472.2056496738821,
          286.3014153581193,
          -166.0660622008886,
          -135.78137759773222,
          -88.38076987688942,
          333.55917282010466,
          277.1641728201047,
          363.82611726454945,
          220.74306170899357,
          -270.50499384656246,
          -300.3091605132287,
          -221.72860495767307,
          124.9375061534365,
          -14.25638273544995,
          150.5605617089934,
          198.61389504232565,
          -70.05082717989521,
          -278.82193829100686,
          -278.0138827354519,
          92.22417282010473,
          201.00111726454978,
          347.29333948677055,
          282.9866728201048,
          52.2252839312149,
          -482.9508271798951,
          -438.94610495767284,
          -122.73110495767318,
          40.45361726455009,
          -37.82721606878437,
          77.89535122701902,
          31.694930583750676,
          -236.14714156984977,
          -411.3635380477759,
          -161.10966425543148,
          250.26096629366953,
          223.69051576169127,
          348.77520036484555,
          -6.403358275243342,
          -220.62353853695137,
          -249.03263771758125,
          -13.26741257388582,
          131.2945693265671,
          161.4338485243176,
          24.197181776120097,
          -67.93543091802279,
          -220.4604760445961,
          -356.86714279279266,
          -183.2686744058534,
          10.598442629734027,
          328.91150561126807,
          472.2056496738821,
          286.3014153581193,
          -166.0660622008886,
          -135.78137759773222,
          -88.38076987688942,
          333.55917282010466,
          277.1641728201047,
          363.82611726454945,
          220.74306170899357,
          -270.50499384656246,
          -300.3091605132287,
          -221.72860495767307,
          124.9375061534365,
          -14.25638273544995,
          150.5605617089934,
          198.61389504232565,
          -70.05082717989521,
          -278.82193829100686,
          -278.0138827354519,
          92.22417282010473,
          201.00111726454978,
          347.29333948677055,
          282.9866728201048,
          52.2252839312149,
          -482.9508271798951,
          -438.94610495767284,
          -122.73110495767318,
          40.45361726455009,
          -37.82721606878437,
          77.89535122701902,
          31.694930583750676,
          -236.14714156984977,
          -411.3635380477759,
          -161.10966425543148,
          250.26096629366953,
          223.69051576169127,
          348.77520036484555,
          -6.403358275243342,
          -220.62353853695137,
          -249.03263771758125,
          -13.26741257388582,
          131.2945693265671,
          161.4338485243176,
          24.197181776120097,
          -67.93543091802279,
          -220.4604760445961,
          -356.86714279279266,
          -183.2686744058534,
          10.598442629734027,
          328.91150561126807,
          472.2056496738821,
          286.3014153581193,
          -166.0660622008886,
          -135.78137759773222,
          -88.38076987688942,
          333.55917282010466,
          277.1641728201047,
          363.82611726454945,
          220.74306170899357,
          -270.50499384656246,
          -300.3091605132287,
          -221.72860495767307,
          124.9375061534365,
          -14.25638273544995,
          150.5605617089934,
          198.61389504232565,
          -70.05082717989521,
          -278.82193829100686,
          -278.0138827354519,
          92.22417282010473,
          201.00111726454978,
          347.29333948677055,
          282.9866728201048,
          52.2252839312149,
          -482.9508271798951,
          -438.94610495767284,
          -122.73110495767318,
          40.45361726455009,
          -37.82721606878437,
          77.89535122701902,
          31.694930583750676,
          -236.14714156984977,
          -411.3635380477759,
          -161.10966425543148,
          250.26096629366953,
          223.69051576169127,
          348.77520036484555,
          -6.403358275243342,
          -220.62353853695137,
          -249.03263771758125,
          -13.26741257388582,
          131.2945693265671,
          161.4338485243176,
          24.197181776120097,
          -67.93543091802279,
          -220.4604760445961,
          -356.86714279279266,
          -183.2686744058534,
          10.598442629734027,
          328.91150561126807,
          472.2056496738821,
          286.3014153581193,
          -166.0660622008886,
          -135.78137759773222,
          -88.38076987688942,
          333.55917282010466,
          277.1641728201047,
          363.82611726454945,
          220.74306170899357,
          -270.50499384656246,
          -300.3091605132287,
          -221.72860495767307,
          124.9375061534365,
          -14.25638273544995,
          150.5605617089934,
          198.61389504232565,
          -70.05082717989521,
          -278.82193829100686,
          -278.0138827354519,
          92.22417282010473,
          201.00111726454978,
          347.29333948677055,
          282.9866728201048,
          52.2252839312149,
          -482.9508271798951,
          -438.94610495767284,
          -122.73110495767318,
          40.45361726455009,
          -37.82721606878437,
          77.89535122701902,
          31.694930583750676,
          -236.14714156984977,
          -411.3635380477759,
          -161.10966425543148,
          250.26096629366953,
          223.69051576169127,
          348.77520036484555,
          -6.403358275243342,
          -220.62353853695137,
          -249.03263771758125,
          -13.26741257388582,
          131.2945693265671,
          161.4338485243176,
          24.197181776120097,
          -67.93543091802279,
          -220.4604760445961,
          -356.86714279279266,
          -183.2686744058534,
          10.598442629734027,
          328.91150561126807,
          472.2056496738821,
          286.3014153581193,
          -166.0660622008886,
          -135.78137759773222,
          -88.38076987688942,
          333.55917282010466,
          277.1641728201047,
          363.82611726454945,
          220.74306170899357,
          -270.50499384656246,
          -300.3091605132287,
          -221.72860495767307,
          124.9375061534365,
          -14.25638273544995,
          150.5605617089934,
          198.61389504232565,
          -70.05082717989521,
          -278.82193829100686,
          -278.0138827354519,
          92.22417282010473,
          201.00111726454978,
          347.29333948677055,
          282.9866728201048,
          52.2252839312149,
          -482.9508271798951,
          -438.94610495767284,
          -122.73110495767318,
          40.45361726455009,
          -37.82721606878437,
          77.89535122701902,
          31.694930583750676,
          -236.14714156984977,
          -411.3635380477759,
          -161.10966425543148,
          250.26096629366953,
          223.69051576169127,
          348.77520036484555,
          -6.403358275243342,
          -220.62353853695137,
          -249.03263771758125,
          -13.26741257388582,
          131.2945693265671,
          161.4338485243176,
          24.197181776120097,
          -67.93543091802279,
          -220.4604760445961,
          -356.86714279279266,
          -183.2686744058534,
          10.598442629734027,
          328.91150561126807,
          472.2056496738821,
          286.3014153581193,
          -166.0660622008886,
          -135.78137759773222,
          -88.38076987688942,
          333.55917282010466,
          277.1641728201047,
          363.82611726454945,
          220.74306170899357,
          -270.50499384656246,
          -300.3091605132287,
          -221.72860495767307,
          124.9375061534365,
          -14.25638273544995,
          150.5605617089934,
          198.61389504232565,
          -70.05082717989521,
          -278.82193829100686,
          -278.0138827354519,
          92.22417282010473,
          201.00111726454978,
          347.29333948677055,
          282.9866728201048,
          52.2252839312149,
          -482.9508271798951,
          -438.94610495767284,
          -122.73110495767318,
          40.45361726455009,
          -37.82721606878437,
          77.89535122701902,
          31.694930583750676,
          -236.14714156984977,
          -411.3635380477759,
          -161.10966425543148,
          250.26096629366953,
          223.69051576169127,
          348.77520036484555,
          -6.403358275243342,
          -220.62353853695137,
          -249.03263771758125,
          -13.26741257388582,
          131.2945693265671,
          161.4338485243176,
          24.197181776120097,
          -67.93543091802279,
          -220.4604760445961,
          -356.86714279279266,
          -183.2686744058534,
          10.598442629734027,
          328.91150561126807,
          472.2056496738821,
          286.3014153581193,
          -166.0660622008886,
          -135.78137759773222,
          -88.38076987688942,
          333.55917282010466,
          277.1641728201047,
          363.82611726454945,
          220.74306170899357,
          -270.50499384656246,
          -300.3091605132287,
          -221.72860495767307,
          124.9375061534365,
          -14.25638273544995,
          150.5605617089934,
          198.61389504232565,
          -70.05082717989521,
          -278.82193829100686,
          -278.0138827354519,
          92.22417282010473,
          201.00111726454978,
          347.29333948677055,
          282.9866728201048,
          52.2252839312149,
          -482.9508271798951,
          -438.94610495767284,
          -122.73110495767318,
          40.45361726455009,
          -37.82721606878437,
          77.89535122701902,
          31.694930583750676,
          -236.14714156984977,
          -411.3635380477759,
          -161.10966425543148,
          250.26096629366953,
          223.69051576169127,
          348.77520036484555,
          -6.403358275243342,
          -220.62353853695137,
          -249.03263771758125,
          -13.26741257388582,
          131.2945693265671,
          161.4338485243176,
          24.197181776120097,
          -67.93543091802279,
          -220.4604760445961,
          -356.86714279279266,
          -183.2686744058534,
          10.598442629734027,
          328.91150561126807,
          472.2056496738821,
          286.3014153581193,
          -166.0660622008886,
          -135.78137759773222,
          -88.38076987688942,
          333.55917282010466,
          277.1641728201047,
          363.82611726454945,
          220.74306170899357,
          -270.50499384656246,
          -300.3091605132287,
          -221.72860495767307,
          124.9375061534365,
          -14.25638273544995,
          150.5605617089934,
          198.61389504232565,
          -70.05082717989521,
          -278.82193829100686,
          -278.0138827354519,
          92.22417282010473,
          201.00111726454978,
          347.29333948677055,
          282.9866728201048,
          52.2252839312149,
          -482.9508271798951,
          -438.94610495767284,
          -122.73110495767318,
          40.45361726455009,
          -37.82721606878437,
          77.89535122701902,
          31.694930583750676,
          -236.14714156984977,
          -411.3635380477759,
          -161.10966425543148,
          250.26096629366953,
          223.69051576169127,
          348.77520036484555,
          -6.403358275243342,
          -220.62353853695137,
          -249.03263771758125,
          -13.26741257388582,
          131.2945693265671,
          161.4338485243176,
          24.197181776120097,
          -67.93543091802279,
          -220.4604760445961,
          -356.86714279279266,
          -183.2686744058534,
          10.598442629734027,
          328.91150561126807,
          472.2056496738821,
          286.3014153581193,
          -166.0660622008886,
          -135.78137759773222,
          -88.38076987688942,
          333.55917282010466,
          277.1641728201047,
          363.82611726454945,
          220.74306170899357,
          -270.50499384656246,
          -300.3091605132287,
          -221.72860495767307,
          124.9375061534365,
          -14.25638273544995,
          150.5605617089934,
          198.61389504232565,
          -70.05082717989521,
          -278.82193829100686,
          -278.0138827354519,
          92.22417282010473,
          201.00111726454978,
          347.29333948677055,
          282.9866728201048,
          52.2252839312149,
          -482.9508271798951,
          -438.94610495767284,
          -122.73110495767318,
          40.45361726455009,
          -37.82721606878437,
          77.89535122701902,
          31.694930583750676,
          -236.14714156984977,
          -411.3635380477759,
          -161.10966425543148,
          250.26096629366953,
          223.69051576169127,
          348.77520036484555,
          -6.403358275243342,
          -220.62353853695137,
          -249.03263771758125,
          -13.26741257388582,
          131.2945693265671,
          161.4338485243176,
          24.197181776120097,
          -67.93543091802279,
          -220.4604760445961,
          -356.86714279279266,
          -183.2686744058534,
          10.598442629734027,
          328.91150561126807,
          472.2056496738821,
          286.3014153581193,
          -166.0660622008886,
          -135.78137759773222,
          -88.38076987688942,
          333.55917282010466,
          277.1641728201047,
          363.82611726454945,
          220.74306170899357,
          -270.50499384656246,
          -300.3091605132287,
          -221.72860495767307,
          124.9375061534365,
          -14.25638273544995,
          150.5605617089934,
          198.61389504232565,
          -70.05082717989521,
          -278.82193829100686,
          -278.0138827354519,
          92.22417282010473,
          201.00111726454978,
          347.29333948677055,
          282.9866728201048,
          52.2252839312149,
          -482.9508271798951,
          -438.94610495767284,
          -122.73110495767318,
          40.45361726455009,
          -37.82721606878437,
          77.89535122701902,
          31.694930583750676,
          -236.14714156984977,
          -411.3635380477759,
          -161.10966425543148,
          250.26096629366953,
          223.69051576169127,
          348.77520036484555,
          -6.403358275243342,
          -220.62353853695137,
          -249.03263771758125,
          -13.26741257388582,
          131.2945693265671,
          161.4338485243176,
          24.197181776120097,
          -67.93543091802279,
          -220.4604760445961,
          -356.86714279279266,
          -183.2686744058534,
          10.598442629734027,
          328.91150561126807,
          472.2056496738821,
          286.3014153581193,
          -166.0660622008886,
          -135.78137759773222,
          -88.38076987688942,
          333.55917282010466,
          277.1641728201047,
          363.82611726454945,
          220.74306170899357,
          -270.50499384656246,
          -300.3091605132287,
          -221.72860495767307,
          124.9375061534365,
          -14.25638273544995,
          150.5605617089934,
          198.61389504232565,
          -70.05082717989521,
          -278.82193829100686,
          -278.0138827354519,
          92.22417282010473,
          201.00111726454978,
          347.29333948677055,
          282.9866728201048,
          52.2252839312149,
          -482.9508271798951,
          -438.94610495767284,
          -122.73110495767318,
          40.45361726455009,
          -37.82721606878437,
          77.89535122701902,
          31.694930583750676,
          -236.14714156984977,
          -411.3635380477759,
          -161.10966425543148,
          250.26096629366953,
          223.69051576169127,
          348.77520036484555,
          -6.403358275243342,
          -220.62353853695137,
          -249.03263771758125,
          -13.26741257388582,
          131.2945693265671,
          161.4338485243176,
          24.197181776120097,
          -67.93543091802279,
          -220.4604760445961,
          -356.86714279279266,
          -183.2686744058534,
          10.598442629734027,
          328.91150561126807,
          472.2056496738821,
          286.3014153581193,
          -166.0660622008886,
          -135.78137759773222,
          -88.38076987688942,
          333.55917282010466,
          277.1641728201047,
          363.82611726454945,
          220.74306170899357,
          -270.50499384656246,
          -300.3091605132287,
          -221.72860495767307,
          124.9375061534365,
          -14.25638273544995,
          150.5605617089934,
          198.61389504232565,
          -70.05082717989521,
          -278.82193829100686,
          -278.0138827354519,
          92.22417282010473,
          201.00111726454978,
          347.29333948677055,
          282.9866728201048,
          52.2252839312149,
          -482.9508271798951,
          -438.94610495767284,
          -122.73110495767318,
          40.45361726455009,
          -37.82721606878437,
          77.89535122701902,
          31.694930583750676,
          -236.14714156984977,
          -411.3635380477759,
          -161.10966425543148,
          250.26096629366953,
          223.69051576169127,
          348.77520036484555,
          -6.403358275243342,
          -220.62353853695137,
          -249.03263771758125,
          -13.26741257388582,
          131.2945693265671,
          161.4338485243176,
          24.197181776120097,
          -67.93543091802279,
          -220.4604760445961,
          -356.86714279279266,
          -183.2686744058534,
          10.598442629734027,
          328.91150561126807,
          472.2056496738821,
          286.3014153581193,
          -166.0660622008886,
          -135.78137759773222,
          -88.38076987688942,
          333.55917282010466,
          277.1641728201047,
          363.82611726454945,
          220.74306170899357,
          -270.50499384656246,
          -300.3091605132287,
          -221.72860495767307,
          124.9375061534365,
          -14.25638273544995,
          150.5605617089934,
          198.61389504232565,
          -70.05082717989521,
          -278.82193829100686,
          -278.0138827354519,
          92.22417282010473,
          201.00111726454978,
          347.29333948677055,
          282.9866728201048,
          52.2252839312149,
          -482.9508271798951,
          -438.94610495767284,
          -122.73110495767318,
          40.45361726455009,
          -37.82721606878437,
          77.89535122701902,
          31.694930583750676,
          -236.14714156984977,
          -411.3635380477759,
          -161.10966425543148,
          250.26096629366953,
          223.69051576169127,
          348.77520036484555,
          -6.403358275243342,
          -220.62353853695137,
          -249.03263771758125,
          -13.26741257388582,
          131.2945693265671,
          161.4338485243176,
          24.197181776120097,
          -67.93543091802279,
          -220.4604760445961,
          -356.86714279279266,
          -183.2686744058534,
          10.598442629734027,
          328.91150561126807,
          472.2056496738821,
          286.3014153581193,
          -166.0660622008886,
          -135.78137759773222,
          -88.38076987688942,
          333.55917282010466,
          277.1641728201047,
          363.82611726454945,
          220.74306170899357,
          -270.50499384656246,
          -300.3091605132287,
          -221.72860495767307,
          124.9375061534365,
          -14.25638273544995,
          150.5605617089934,
          198.61389504232565,
          -70.05082717989521,
          -278.82193829100686,
          -278.0138827354519,
          92.22417282010473,
          201.00111726454978,
          347.29333948677055,
          282.9866728201048,
          52.2252839312149,
          -482.9508271798951,
          -438.94610495767284,
          -122.73110495767318,
          40.45361726455009,
          -37.82721606878437,
          77.89535122701902,
          31.694930583750676,
          -236.14714156984977,
          -411.3635380477759,
          -161.10966425543148,
          250.26096629366953,
          223.69051576169127,
          348.77520036484555,
          -6.403358275243342,
          -220.62353853695137,
          -249.03263771758125,
          -13.26741257388582,
          131.2945693265671,
          161.4338485243176,
          24.197181776120097,
          -67.93543091802279,
          -220.4604760445961,
          -356.86714279279266,
          -183.2686744058534,
          10.598442629734027,
          328.91150561126807,
          472.2056496738821,
          286.3014153581193,
          -166.0660622008886,
          -135.78137759773222,
          -88.38076987688942,
          333.55917282010466,
          277.1641728201047,
          363.82611726454945,
          220.74306170899357,
          -270.50499384656246,
          -300.3091605132287,
          -221.72860495767307,
          124.9375061534365,
          -14.25638273544995,
          150.5605617089934,
          198.61389504232565,
          -70.05082717989521,
          -278.82193829100686,
          -278.0138827354519,
          92.22417282010473,
          201.00111726454978,
          347.29333948677055,
          282.9866728201048,
          52.2252839312149,
          -482.9508271798951,
          -438.94610495767284,
          -122.73110495767318,
          40.45361726455009,
          -37.82721606878437,
          77.89535122701902,
          31.694930583750676,
          -236.14714156984977,
          -411.3635380477759,
          -161.10966425543148,
          250.26096629366953,
          223.69051576169127,
          348.77520036484555,
          -6.403358275243342,
          -220.62353853695137,
          -249.03263771758125,
          -13.26741257388582,
          131.2945693265671,
          161.4338485243176,
          24.197181776120097,
          -67.93543091802279,
          -220.4604760445961,
          -356.86714279279266,
          -183.2686744058534,
          10.598442629734027,
          328.91150561126807,
          472.2056496738821,
          286.3014153581193,
          -166.0660622008886,
          -135.78137759773222,
          -88.38076987688942,
          333.55917282010466,
          277.1641728201047,
          363.82611726454945,
          220.74306170899357,
          -270.50499384656246,
          -300.3091605132287,
          -221.72860495767307,
          124.9375061534365,
          -14.25638273544995,
          150.5605617089934,
          198.61389504232565,
          -70.05082717989521,
          -278.82193829100686,
          -278.0138827354519,
          92.22417282010473,
          201.00111726454978,
          347.29333948677055,
          282.9866728201048,
          52.2252839312149,
          -482.9508271798951,
          -438.94610495767284,
          -122.73110495767318,
          40.45361726455009,
          -37.82721606878437,
          77.89535122701902,
          31.694930583750676,
          -236.14714156984977,
          -411.3635380477759,
          -161.10966425543148,
          250.26096629366953,
          223.69051576169127,
          348.77520036484555,
          -6.403358275243342,
          -220.62353853695137,
          -249.03263771758125,
          -13.26741257388582,
          131.2945693265671,
          161.4338485243176,
          24.197181776120097,
          -67.93543091802279,
          -220.4604760445961,
          -356.86714279279266,
          -183.2686744058534,
          10.598442629734027,
          328.91150561126807,
          472.2056496738821,
          286.3014153581193,
          -166.0660622008886,
          -135.78137759773222,
          -88.38076987688942,
          333.55917282010466,
          277.1641728201047,
          363.82611726454945,
          220.74306170899357,
          -270.50499384656246,
          -300.3091605132287,
          -221.72860495767307,
          124.9375061534365,
          -14.25638273544995,
          150.5605617089934,
          198.61389504232565,
          -70.05082717989521,
          -278.82193829100686,
          -278.0138827354519,
          92.22417282010473,
          201.00111726454978,
          347.29333948677055,
          282.9866728201048,
          52.2252839312149,
          -482.9508271798951,
          -438.94610495767284,
          -122.73110495767318,
          40.45361726455009,
          -37.82721606878437,
          77.89535122701902,
          31.694930583750676,
          -236.14714156984977,
          -411.3635380477759,
          -161.10966425543148,
          250.26096629366953,
          223.69051576169127,
          348.77520036484555,
          -6.403358275243342,
          -220.62353853695137,
          -249.03263771758125,
          -13.26741257388582,
          131.2945693265671,
          161.4338485243176,
          24.197181776120097,
          -67.93543091802279,
          -220.4604760445961,
          -356.86714279279266,
          -183.2686744058534,
          10.598442629734027,
          328.91150561126807,
          472.2056496738821,
          286.3014153581193,
          -166.0660622008886,
          -135.78137759773222,
          -88.38076987688942,
          333.55917282010466,
          277.1641728201047,
          363.82611726454945,
          220.74306170899357,
          -270.50499384656246,
          -300.3091605132287,
          -221.72860495767307,
          124.9375061534365,
          -14.25638273544995,
          150.5605617089934,
          198.61389504232565,
          -70.05082717989521,
          -278.82193829100686,
          -278.0138827354519,
          92.22417282010473,
          201.00111726454978,
          347.29333948677055,
          282.9866728201048,
          52.2252839312149,
          -482.9508271798951,
          -438.94610495767284,
          -122.73110495767318,
          40.45361726455009,
          -37.82721606878437,
          77.89535122701902,
          31.694930583750676,
          -236.14714156984977,
          -411.3635380477759,
          -161.10966425543148,
          250.26096629366953,
          223.69051576169127,
          348.77520036484555,
          -6.403358275243342,
          -220.62353853695137,
          -249.03263771758125,
          -13.26741257388582,
          131.2945693265671,
          161.4338485243176,
          24.197181776120097,
          -67.93543091802279,
          -220.4604760445961,
          -356.86714279279266,
          -183.2686744058534,
          10.598442629734027,
          328.91150561126807,
          472.2056496738821,
          286.3014153581193,
          -166.0660622008886,
          -135.78137759773222,
          -88.38076987688942,
          333.55917282010466,
          277.1641728201047,
          363.82611726454945,
          220.74306170899357,
          -270.50499384656246,
          -300.3091605132287,
          -221.72860495767307,
          124.9375061534365,
          -14.25638273544995,
          150.5605617089934,
          198.61389504232565,
          -70.05082717989521,
          -278.82193829100686,
          -278.0138827354519,
          92.22417282010473,
          201.00111726454978,
          347.29333948677055,
          282.9866728201048,
          52.2252839312149,
          -482.9508271798951,
          -438.94610495767284,
          -122.73110495767318,
          40.45361726455009,
          -37.82721606878437,
          77.89535122701902,
          31.694930583750676,
          -236.14714156984977,
          -411.3635380477759,
          -161.10966425543148,
          250.26096629366953,
          223.69051576169127,
          348.77520036484555,
          -6.403358275243342,
          -220.62353853695137,
          -249.03263771758125,
          -13.26741257388582,
          131.2945693265671,
          161.4338485243176,
          24.197181776120097,
          -67.93543091802279,
          -220.4604760445961,
          -356.86714279279266,
          -183.2686744058534,
          10.598442629734027,
          328.91150561126807,
          472.2056496738821,
          286.3014153581193,
          -166.0660622008886,
          -135.78137759773222,
          -88.38076987688942,
          333.55917282010466,
          277.1641728201047,
          363.82611726454945,
          220.74306170899357,
          -270.50499384656246,
          -300.3091605132287,
          -221.72860495767307,
          124.9375061534365,
          -14.25638273544995,
          150.5605617089934,
          198.61389504232565,
          -70.05082717989521,
          -278.82193829100686,
          -278.0138827354519,
          92.22417282010473,
          201.00111726454978,
          347.29333948677055,
          282.9866728201048,
          52.2252839312149,
          -482.9508271798951,
          -438.94610495767284,
          -122.73110495767318,
          40.45361726455009,
          -37.82721606878437,
          77.89535122701902,
          31.694930583750676,
          -236.14714156984977,
          -411.3635380477759,
          -161.10966425543148,
          250.26096629366953,
          223.69051576169127,
          348.77520036484555,
          -6.403358275243342,
          -220.62353853695137,
          -249.03263771758125,
          -13.26741257388582,
          131.2945693265671,
          161.4338485243176,
          24.197181776120097,
          -67.93543091802279,
          -220.4604760445961,
          -356.86714279279266,
          -183.2686744058534,
          10.598442629734027,
          328.91150561126807,
          472.2056496738821,
          286.3014153581193,
          -166.0660622008886,
          -135.78137759773222,
          -88.38076987688942,
          333.55917282010466,
          277.1641728201047,
          363.82611726454945,
          220.74306170899357,
          -270.50499384656246,
          -300.3091605132287,
          -221.72860495767307,
          124.9375061534365,
          -14.25638273544995,
          150.5605617089934,
          198.61389504232565,
          -70.05082717989521,
          -278.82193829100686,
          -278.0138827354519,
          92.22417282010473,
          201.00111726454978,
          347.29333948677055,
          282.9866728201048,
          52.2252839312149,
          -482.9508271798951,
          -438.94610495767284,
          -122.73110495767318,
          40.45361726455009,
          -37.82721606878437,
          77.89535122701902,
          31.694930583750676,
          -236.14714156984977,
          -411.3635380477759,
          -161.10966425543148,
          250.26096629366953,
          223.69051576169127,
          348.77520036484555,
          -6.403358275243342,
          -220.62353853695137,
          -249.03263771758125,
          -13.26741257388582,
          131.2945693265671,
          161.4338485243176,
          24.197181776120097,
          -67.93543091802279,
          -220.4604760445961,
          -356.86714279279266,
          -183.2686744058534,
          10.598442629734027,
          328.91150561126807,
          472.2056496738821,
          286.3014153581193,
          -166.0660622008886,
          -135.78137759773222,
          -88.38076987688942,
          333.55917282010466,
          277.1641728201047,
          363.82611726454945,
          220.74306170899357,
          -270.50499384656246,
          -300.3091605132287,
          -221.72860495767307,
          124.9375061534365,
          -14.25638273544995,
          150.5605617089934,
          198.61389504232565,
          -70.05082717989521,
          -278.82193829100686,
          -278.0138827354519,
          92.22417282010473,
          201.00111726454978,
          347.29333948677055,
          282.9866728201048,
          52.2252839312149,
          -482.9508271798951,
          -438.94610495767284,
          -122.73110495767318,
          40.45361726455009,
          -37.82721606878437,
          77.89535122701902,
          31.694930583750676,
          -236.14714156984977,
          -411.3635380477759,
          -161.10966425543148,
          250.26096629366953,
          223.69051576169127,
          348.77520036484555,
          -6.403358275243342,
          -220.62353853695137,
          -249.03263771758125,
          -13.26741257388582,
          131.2945693265671,
          161.4338485243176,
          24.197181776120097,
          -67.93543091802279,
          -220.4604760445961,
          -356.86714279279266,
          -183.2686744058534,
          10.598442629734027,
          328.91150561126807,
          472.2056496738821,
          286.3014153581193,
          -166.0660622008886,
          -135.78137759773222,
          -88.38076987688942,
          333.55917282010466,
          277.1641728201047,
          363.82611726454945,
          220.74306170899357,
          -270.50499384656246,
          -300.3091605132287,
          -221.72860495767307,
          124.9375061534365,
          -14.25638273544995,
          150.5605617089934,
          198.61389504232565,
          -70.05082717989521,
          -278.82193829100686,
          -278.0138827354519,
          92.22417282010473,
          201.00111726454978,
          347.29333948677055,
          282.9866728201048,
          52.2252839312149,
          -482.9508271798951,
          -438.94610495767284,
          -122.73110495767318,
          40.45361726455009,
          -37.82721606878437,
          77.89535122701902,
          31.694930583750676,
          -236.14714156984977,
          -411.3635380477759,
          -161.10966425543148,
          250.26096629366953,
          223.69051576169127,
          348.77520036484555,
          -6.403358275243342,
          -220.62353853695137,
          -249.03263771758125,
          -13.26741257388582,
          131.2945693265671,
          161.4338485243176,
          24.197181776120097,
          -67.93543091802279,
          -220.4604760445961,
          -356.86714279279266,
          -183.2686744058534,
          10.598442629734027,
          328.91150561126807,
          472.2056496738821,
          286.3014153581193,
          -166.0660622008886,
          -135.78137759773222,
          -88.38076987688942,
          333.55917282010466,
          277.1641728201047,
          363.82611726454945,
          220.74306170899357,
          -270.50499384656246,
          -300.3091605132287,
          -221.72860495767307,
          124.9375061534365,
          -14.25638273544995,
          150.5605617089934,
          198.61389504232565,
          -70.05082717989521,
          -278.82193829100686,
          -278.0138827354519,
          92.22417282010473,
          201.00111726454978,
          347.29333948677055,
          282.9866728201048,
          52.2252839312149,
          -482.9508271798951,
          -438.94610495767284,
          -122.73110495767318,
          40.45361726455009,
          -37.82721606878437,
          77.89535122701902,
          31.694930583750676,
          -236.14714156984977,
          -411.3635380477759,
          -161.10966425543148,
          250.26096629366953,
          223.69051576169127,
          348.77520036484555,
          -6.403358275243342,
          -220.62353853695137,
          -249.03263771758125,
          -13.26741257388582,
          131.2945693265671,
          161.4338485243176,
          24.197181776120097,
          -67.93543091802279,
          -220.4604760445961,
          -356.86714279279266,
          -183.2686744058534,
          10.598442629734027,
          328.91150561126807,
          472.2056496738821,
          286.3014153581193,
          -166.0660622008886,
          -135.78137759773222,
          -88.38076987688942,
          333.55917282010466,
          277.1641728201047,
          363.82611726454945,
          220.74306170899357,
          -270.50499384656246,
          -300.3091605132287,
          -221.72860495767307,
          124.9375061534365,
          -14.25638273544995,
          150.5605617089934,
          198.61389504232565,
          -70.05082717989521,
          -278.82193829100686,
          -278.0138827354519,
          92.22417282010473,
          201.00111726454978,
          347.29333948677055,
          282.9866728201048,
          52.2252839312149,
          -482.9508271798951,
          -438.94610495767284,
          -122.73110495767318,
          40.45361726455009,
          -37.82721606878437,
          77.89535122701902,
          31.694930583750676,
          -236.14714156984977,
          -411.3635380477759,
          -161.10966425543148,
          250.26096629366953,
          223.69051576169127,
          348.77520036484555,
          -6.403358275243342,
          -220.62353853695137,
          -249.03263771758125,
          -13.26741257388582,
          131.2945693265671,
          161.4338485243176,
          24.197181776120097,
          -67.93543091802279,
          -220.4604760445961,
          -356.86714279279266,
          -183.2686744058534,
          10.598442629734027,
          328.91150561126807,
          472.2056496738821,
          286.3014153581193,
          -166.0660622008886,
          -135.78137759773222,
          -88.38076987688942,
          333.55917282010466,
          277.1641728201047,
          363.82611726454945,
          220.74306170899357,
          -270.50499384656246,
          -300.3091605132287,
          -221.72860495767307,
          124.9375061534365,
          -14.25638273544995,
          150.5605617089934,
          198.61389504232565,
          -70.05082717989521,
          -278.82193829100686,
          -278.0138827354519,
          92.22417282010473,
          201.00111726454978,
          347.29333948677055,
          282.9866728201048,
          52.2252839312149,
          -482.9508271798951,
          -438.94610495767284,
          -122.73110495767318,
          40.45361726455009,
          -37.82721606878437,
          77.89535122701902,
          31.694930583750676,
          -236.14714156984977,
          -411.3635380477759,
          -161.10966425543148,
          250.26096629366953,
          223.69051576169127,
          348.77520036484555,
          -6.403358275243342,
          -220.62353853695137,
          -249.03263771758125,
          -13.26741257388582,
          131.2945693265671,
          161.4338485243176,
          24.197181776120097,
          -67.93543091802279,
          -220.4604760445961,
          -356.86714279279266,
          -183.2686744058534,
          10.598442629734027,
          328.91150561126807,
          472.2056496738821,
          286.3014153581193,
          -166.0660622008886,
          -135.78137759773222,
          -88.38076987688942,
          333.55917282010466,
          277.1641728201047,
          363.82611726454945,
          220.74306170899357,
          -270.50499384656246,
          -300.3091605132287,
          -221.72860495767307,
          124.9375061534365,
          -14.25638273544995,
          150.5605617089934,
          198.61389504232565,
          -70.05082717989521,
          -278.82193829100686,
          -278.0138827354519,
          92.22417282010473,
          201.00111726454978,
          347.29333948677055,
          282.9866728201048,
          52.2252839312149,
          -482.9508271798951,
          -438.94610495767284,
          -122.73110495767318,
          40.45361726455009,
          -37.82721606878437,
          77.89535122701902,
          31.694930583750676,
          -236.14714156984977,
          -411.3635380477759,
          -161.10966425543148,
          250.26096629366953,
          223.69051576169127,
          348.77520036484555,
          -6.403358275243342,
          -220.62353853695137,
          -249.03263771758125,
          -13.26741257388582,
          131.2945693265671,
          161.4338485243176,
          24.197181776120097,
          -67.93543091802279,
          -220.4604760445961,
          -356.86714279279266,
          -183.2686744058534,
          10.598442629734027,
          328.91150561126807,
          472.2056496738821,
          286.3014153581193,
          -166.0660622008886,
          -135.78137759773222,
          -88.38076987688942,
          333.55917282010466,
          277.1641728201047,
          363.82611726454945,
          220.74306170899357,
          -270.50499384656246,
          -300.3091605132287,
          -221.72860495767307,
          124.9375061534365,
          -14.25638273544995,
          150.5605617089934,
          198.61389504232565,
          -70.05082717989521,
          -278.82193829100686,
          -278.0138827354519,
          92.22417282010473,
          201.00111726454978,
          347.29333948677055,
          282.9866728201048,
          52.2252839312149,
          -482.9508271798951,
          -438.94610495767284,
          -122.73110495767318,
          40.45361726455009,
          -37.82721606878437,
          77.89535122701902,
          31.694930583750676,
          -236.14714156984977,
          -411.3635380477759,
          -161.10966425543148,
          250.26096629366953,
          223.69051576169127,
          348.77520036484555,
          -6.403358275243342,
          -220.62353853695137,
          -249.03263771758125,
          -13.26741257388582,
          131.2945693265671,
          161.4338485243176,
          24.197181776120097,
          -67.93543091802279,
          -220.4604760445961,
          -356.86714279279266,
          -183.2686744058534,
          10.598442629734027,
          328.91150561126807,
          472.2056496738821,
          286.3014153581193,
          -166.0660622008886,
          -135.78137759773222,
          -88.38076987688942,
          333.55917282010466,
          277.1641728201047,
          363.82611726454945,
          220.74306170899357,
          -270.50499384656246,
          -300.3091605132287,
          -221.72860495767307,
          124.9375061534365,
          -14.25638273544995,
          150.5605617089934,
          198.61389504232565,
          -70.05082717989521,
          -278.82193829100686,
          -278.0138827354519,
          92.22417282010473,
          201.00111726454978,
          347.29333948677055,
          282.9866728201048,
          52.2252839312149,
          -482.9508271798951,
          -438.94610495767284,
          -122.73110495767318,
          40.45361726455009,
          -37.82721606878437,
          77.89535122701902,
          31.694930583750676,
          -236.14714156984977,
          -411.3635380477759,
          -161.10966425543148,
          250.26096629366953,
          223.69051576169127,
          348.77520036484555,
          -6.403358275243342,
          -220.62353853695137,
          -249.03263771758125,
          -13.26741257388582,
          131.2945693265671,
          161.4338485243176,
          24.197181776120097,
          -67.93543091802279,
          -220.4604760445961,
          -356.86714279279266,
          -183.2686744058534,
          10.598442629734027,
          328.91150561126807,
          472.2056496738821,
          286.3014153581193,
          -166.0660622008886,
          -135.78137759773222,
          -88.38076987688942
         ]
        }
       ],
       "layout": {
        "autosize": false,
        "height": 400,
        "template": {
         "data": {
          "bar": [
           {
            "error_x": {
             "color": "#2a3f5f"
            },
            "error_y": {
             "color": "#2a3f5f"
            },
            "marker": {
             "line": {
              "color": "#E5ECF6",
              "width": 0.5
             },
             "pattern": {
              "fillmode": "overlay",
              "size": 10,
              "solidity": 0.2
             }
            },
            "type": "bar"
           }
          ],
          "barpolar": [
           {
            "marker": {
             "line": {
              "color": "#E5ECF6",
              "width": 0.5
             },
             "pattern": {
              "fillmode": "overlay",
              "size": 10,
              "solidity": 0.2
             }
            },
            "type": "barpolar"
           }
          ],
          "carpet": [
           {
            "aaxis": {
             "endlinecolor": "#2a3f5f",
             "gridcolor": "white",
             "linecolor": "white",
             "minorgridcolor": "white",
             "startlinecolor": "#2a3f5f"
            },
            "baxis": {
             "endlinecolor": "#2a3f5f",
             "gridcolor": "white",
             "linecolor": "white",
             "minorgridcolor": "white",
             "startlinecolor": "#2a3f5f"
            },
            "type": "carpet"
           }
          ],
          "choropleth": [
           {
            "colorbar": {
             "outlinewidth": 0,
             "ticks": ""
            },
            "type": "choropleth"
           }
          ],
          "contour": [
           {
            "colorbar": {
             "outlinewidth": 0,
             "ticks": ""
            },
            "colorscale": [
             [
              0,
              "#0d0887"
             ],
             [
              0.1111111111111111,
              "#46039f"
             ],
             [
              0.2222222222222222,
              "#7201a8"
             ],
             [
              0.3333333333333333,
              "#9c179e"
             ],
             [
              0.4444444444444444,
              "#bd3786"
             ],
             [
              0.5555555555555556,
              "#d8576b"
             ],
             [
              0.6666666666666666,
              "#ed7953"
             ],
             [
              0.7777777777777778,
              "#fb9f3a"
             ],
             [
              0.8888888888888888,
              "#fdca26"
             ],
             [
              1,
              "#f0f921"
             ]
            ],
            "type": "contour"
           }
          ],
          "contourcarpet": [
           {
            "colorbar": {
             "outlinewidth": 0,
             "ticks": ""
            },
            "type": "contourcarpet"
           }
          ],
          "heatmap": [
           {
            "colorbar": {
             "outlinewidth": 0,
             "ticks": ""
            },
            "colorscale": [
             [
              0,
              "#0d0887"
             ],
             [
              0.1111111111111111,
              "#46039f"
             ],
             [
              0.2222222222222222,
              "#7201a8"
             ],
             [
              0.3333333333333333,
              "#9c179e"
             ],
             [
              0.4444444444444444,
              "#bd3786"
             ],
             [
              0.5555555555555556,
              "#d8576b"
             ],
             [
              0.6666666666666666,
              "#ed7953"
             ],
             [
              0.7777777777777778,
              "#fb9f3a"
             ],
             [
              0.8888888888888888,
              "#fdca26"
             ],
             [
              1,
              "#f0f921"
             ]
            ],
            "type": "heatmap"
           }
          ],
          "heatmapgl": [
           {
            "colorbar": {
             "outlinewidth": 0,
             "ticks": ""
            },
            "colorscale": [
             [
              0,
              "#0d0887"
             ],
             [
              0.1111111111111111,
              "#46039f"
             ],
             [
              0.2222222222222222,
              "#7201a8"
             ],
             [
              0.3333333333333333,
              "#9c179e"
             ],
             [
              0.4444444444444444,
              "#bd3786"
             ],
             [
              0.5555555555555556,
              "#d8576b"
             ],
             [
              0.6666666666666666,
              "#ed7953"
             ],
             [
              0.7777777777777778,
              "#fb9f3a"
             ],
             [
              0.8888888888888888,
              "#fdca26"
             ],
             [
              1,
              "#f0f921"
             ]
            ],
            "type": "heatmapgl"
           }
          ],
          "histogram": [
           {
            "marker": {
             "pattern": {
              "fillmode": "overlay",
              "size": 10,
              "solidity": 0.2
             }
            },
            "type": "histogram"
           }
          ],
          "histogram2d": [
           {
            "colorbar": {
             "outlinewidth": 0,
             "ticks": ""
            },
            "colorscale": [
             [
              0,
              "#0d0887"
             ],
             [
              0.1111111111111111,
              "#46039f"
             ],
             [
              0.2222222222222222,
              "#7201a8"
             ],
             [
              0.3333333333333333,
              "#9c179e"
             ],
             [
              0.4444444444444444,
              "#bd3786"
             ],
             [
              0.5555555555555556,
              "#d8576b"
             ],
             [
              0.6666666666666666,
              "#ed7953"
             ],
             [
              0.7777777777777778,
              "#fb9f3a"
             ],
             [
              0.8888888888888888,
              "#fdca26"
             ],
             [
              1,
              "#f0f921"
             ]
            ],
            "type": "histogram2d"
           }
          ],
          "histogram2dcontour": [
           {
            "colorbar": {
             "outlinewidth": 0,
             "ticks": ""
            },
            "colorscale": [
             [
              0,
              "#0d0887"
             ],
             [
              0.1111111111111111,
              "#46039f"
             ],
             [
              0.2222222222222222,
              "#7201a8"
             ],
             [
              0.3333333333333333,
              "#9c179e"
             ],
             [
              0.4444444444444444,
              "#bd3786"
             ],
             [
              0.5555555555555556,
              "#d8576b"
             ],
             [
              0.6666666666666666,
              "#ed7953"
             ],
             [
              0.7777777777777778,
              "#fb9f3a"
             ],
             [
              0.8888888888888888,
              "#fdca26"
             ],
             [
              1,
              "#f0f921"
             ]
            ],
            "type": "histogram2dcontour"
           }
          ],
          "mesh3d": [
           {
            "colorbar": {
             "outlinewidth": 0,
             "ticks": ""
            },
            "type": "mesh3d"
           }
          ],
          "parcoords": [
           {
            "line": {
             "colorbar": {
              "outlinewidth": 0,
              "ticks": ""
             }
            },
            "type": "parcoords"
           }
          ],
          "pie": [
           {
            "automargin": true,
            "type": "pie"
           }
          ],
          "scatter": [
           {
            "fillpattern": {
             "fillmode": "overlay",
             "size": 10,
             "solidity": 0.2
            },
            "type": "scatter"
           }
          ],
          "scatter3d": [
           {
            "line": {
             "colorbar": {
              "outlinewidth": 0,
              "ticks": ""
             }
            },
            "marker": {
             "colorbar": {
              "outlinewidth": 0,
              "ticks": ""
             }
            },
            "type": "scatter3d"
           }
          ],
          "scattercarpet": [
           {
            "marker": {
             "colorbar": {
              "outlinewidth": 0,
              "ticks": ""
             }
            },
            "type": "scattercarpet"
           }
          ],
          "scattergeo": [
           {
            "marker": {
             "colorbar": {
              "outlinewidth": 0,
              "ticks": ""
             }
            },
            "type": "scattergeo"
           }
          ],
          "scattergl": [
           {
            "marker": {
             "colorbar": {
              "outlinewidth": 0,
              "ticks": ""
             }
            },
            "type": "scattergl"
           }
          ],
          "scattermapbox": [
           {
            "marker": {
             "colorbar": {
              "outlinewidth": 0,
              "ticks": ""
             }
            },
            "type": "scattermapbox"
           }
          ],
          "scatterpolar": [
           {
            "marker": {
             "colorbar": {
              "outlinewidth": 0,
              "ticks": ""
             }
            },
            "type": "scatterpolar"
           }
          ],
          "scatterpolargl": [
           {
            "marker": {
             "colorbar": {
              "outlinewidth": 0,
              "ticks": ""
             }
            },
            "type": "scatterpolargl"
           }
          ],
          "scatterternary": [
           {
            "marker": {
             "colorbar": {
              "outlinewidth": 0,
              "ticks": ""
             }
            },
            "type": "scatterternary"
           }
          ],
          "surface": [
           {
            "colorbar": {
             "outlinewidth": 0,
             "ticks": ""
            },
            "colorscale": [
             [
              0,
              "#0d0887"
             ],
             [
              0.1111111111111111,
              "#46039f"
             ],
             [
              0.2222222222222222,
              "#7201a8"
             ],
             [
              0.3333333333333333,
              "#9c179e"
             ],
             [
              0.4444444444444444,
              "#bd3786"
             ],
             [
              0.5555555555555556,
              "#d8576b"
             ],
             [
              0.6666666666666666,
              "#ed7953"
             ],
             [
              0.7777777777777778,
              "#fb9f3a"
             ],
             [
              0.8888888888888888,
              "#fdca26"
             ],
             [
              1,
              "#f0f921"
             ]
            ],
            "type": "surface"
           }
          ],
          "table": [
           {
            "cells": {
             "fill": {
              "color": "#EBF0F8"
             },
             "line": {
              "color": "white"
             }
            },
            "header": {
             "fill": {
              "color": "#C8D4E3"
             },
             "line": {
              "color": "white"
             }
            },
            "type": "table"
           }
          ]
         },
         "layout": {
          "annotationdefaults": {
           "arrowcolor": "#2a3f5f",
           "arrowhead": 0,
           "arrowwidth": 1
          },
          "autotypenumbers": "strict",
          "coloraxis": {
           "colorbar": {
            "outlinewidth": 0,
            "ticks": ""
           }
          },
          "colorscale": {
           "diverging": [
            [
             0,
             "#8e0152"
            ],
            [
             0.1,
             "#c51b7d"
            ],
            [
             0.2,
             "#de77ae"
            ],
            [
             0.3,
             "#f1b6da"
            ],
            [
             0.4,
             "#fde0ef"
            ],
            [
             0.5,
             "#f7f7f7"
            ],
            [
             0.6,
             "#e6f5d0"
            ],
            [
             0.7,
             "#b8e186"
            ],
            [
             0.8,
             "#7fbc41"
            ],
            [
             0.9,
             "#4d9221"
            ],
            [
             1,
             "#276419"
            ]
           ],
           "sequential": [
            [
             0,
             "#0d0887"
            ],
            [
             0.1111111111111111,
             "#46039f"
            ],
            [
             0.2222222222222222,
             "#7201a8"
            ],
            [
             0.3333333333333333,
             "#9c179e"
            ],
            [
             0.4444444444444444,
             "#bd3786"
            ],
            [
             0.5555555555555556,
             "#d8576b"
            ],
            [
             0.6666666666666666,
             "#ed7953"
            ],
            [
             0.7777777777777778,
             "#fb9f3a"
            ],
            [
             0.8888888888888888,
             "#fdca26"
            ],
            [
             1,
             "#f0f921"
            ]
           ],
           "sequentialminus": [
            [
             0,
             "#0d0887"
            ],
            [
             0.1111111111111111,
             "#46039f"
            ],
            [
             0.2222222222222222,
             "#7201a8"
            ],
            [
             0.3333333333333333,
             "#9c179e"
            ],
            [
             0.4444444444444444,
             "#bd3786"
            ],
            [
             0.5555555555555556,
             "#d8576b"
            ],
            [
             0.6666666666666666,
             "#ed7953"
            ],
            [
             0.7777777777777778,
             "#fb9f3a"
            ],
            [
             0.8888888888888888,
             "#fdca26"
            ],
            [
             1,
             "#f0f921"
            ]
           ]
          },
          "colorway": [
           "#636efa",
           "#EF553B",
           "#00cc96",
           "#ab63fa",
           "#FFA15A",
           "#19d3f3",
           "#FF6692",
           "#B6E880",
           "#FF97FF",
           "#FECB52"
          ],
          "font": {
           "color": "#2a3f5f"
          },
          "geo": {
           "bgcolor": "white",
           "lakecolor": "white",
           "landcolor": "#E5ECF6",
           "showlakes": true,
           "showland": true,
           "subunitcolor": "white"
          },
          "hoverlabel": {
           "align": "left"
          },
          "hovermode": "closest",
          "mapbox": {
           "style": "light"
          },
          "paper_bgcolor": "white",
          "plot_bgcolor": "#E5ECF6",
          "polar": {
           "angularaxis": {
            "gridcolor": "white",
            "linecolor": "white",
            "ticks": ""
           },
           "bgcolor": "#E5ECF6",
           "radialaxis": {
            "gridcolor": "white",
            "linecolor": "white",
            "ticks": ""
           }
          },
          "scene": {
           "xaxis": {
            "backgroundcolor": "#E5ECF6",
            "gridcolor": "white",
            "gridwidth": 2,
            "linecolor": "white",
            "showbackground": true,
            "ticks": "",
            "zerolinecolor": "white"
           },
           "yaxis": {
            "backgroundcolor": "#E5ECF6",
            "gridcolor": "white",
            "gridwidth": 2,
            "linecolor": "white",
            "showbackground": true,
            "ticks": "",
            "zerolinecolor": "white"
           },
           "zaxis": {
            "backgroundcolor": "#E5ECF6",
            "gridcolor": "white",
            "gridwidth": 2,
            "linecolor": "white",
            "showbackground": true,
            "ticks": "",
            "zerolinecolor": "white"
           }
          },
          "shapedefaults": {
           "line": {
            "color": "#2a3f5f"
           }
          },
          "ternary": {
           "aaxis": {
            "gridcolor": "white",
            "linecolor": "white",
            "ticks": ""
           },
           "baxis": {
            "gridcolor": "white",
            "linecolor": "white",
            "ticks": ""
           },
           "bgcolor": "#E5ECF6",
           "caxis": {
            "gridcolor": "white",
            "linecolor": "white",
            "ticks": ""
           }
          },
          "title": {
           "x": 0.05
          },
          "xaxis": {
           "automargin": true,
           "gridcolor": "white",
           "linecolor": "white",
           "ticks": "",
           "title": {
            "standoff": 15
           },
           "zerolinecolor": "white",
           "zerolinewidth": 2
          },
          "yaxis": {
           "automargin": true,
           "gridcolor": "white",
           "linecolor": "white",
           "ticks": "",
           "title": {
            "standoff": 15
           },
           "zerolinecolor": "white",
           "zerolinewidth": 2
          }
         }
        },
        "title": {
         "text": "<span>Gráfico de sazonalidade</span>"
        },
        "width": 1300,
        "xaxis": {
         "title": {
          "text": "<span>Período</span>"
         }
        },
        "yaxis": {
         "title": {
          "text": "<span>Quantidade de vendas</span>"
         }
        }
       }
      }
     },
     "metadata": {},
     "output_type": "display_data"
    },
    {
     "data": {
      "application/vnd.plotly.v1+json": {
       "config": {
        "plotlyServerURL": "https://plot.ly"
       },
       "data": [
        {
         "type": "scatter",
         "x": [
          "2013-01-01",
          "2013-01-02",
          "2013-01-03",
          "2013-01-04",
          "2013-01-05",
          "2013-01-06",
          "2013-01-07",
          "2013-01-08",
          "2013-01-09",
          "2013-01-10",
          "2013-01-11",
          "2013-01-12",
          "2013-01-13",
          "2013-01-14",
          "2013-01-15",
          "2013-01-16",
          "2013-01-17",
          "2013-01-18",
          "2013-01-19",
          "2013-01-20",
          "2013-01-21",
          "2013-01-22",
          "2013-01-23",
          "2013-01-24",
          "2013-01-25",
          "2013-01-26",
          "2013-01-27",
          "2013-01-28",
          "2013-01-29",
          "2013-01-30",
          "2013-01-31",
          "2013-02-01",
          "2013-02-02",
          "2013-02-03",
          "2013-02-04",
          "2013-02-05",
          "2013-02-06",
          "2013-02-07",
          "2013-02-08",
          "2013-02-09",
          "2013-02-10",
          "2013-02-11",
          "2013-02-12",
          "2013-02-13",
          "2013-02-14",
          "2013-02-15",
          "2013-02-16",
          "2013-02-17",
          "2013-02-18",
          "2013-02-19",
          "2013-02-20",
          "2013-02-21",
          "2013-02-22",
          "2013-02-23",
          "2013-02-24",
          "2013-02-25",
          "2013-02-26",
          "2013-02-27",
          "2013-02-28",
          "2013-03-01",
          "2013-03-02",
          "2013-03-03",
          "2013-03-04",
          "2013-03-05",
          "2013-03-06",
          "2013-03-07",
          "2013-03-08",
          "2013-03-09",
          "2013-03-10",
          "2013-03-11",
          "2013-03-12",
          "2013-03-13",
          "2013-03-14",
          "2013-03-15",
          "2013-03-16",
          "2013-03-17",
          "2013-03-18",
          "2013-03-19",
          "2013-03-20",
          "2013-03-21",
          "2013-03-22",
          "2013-03-23",
          "2013-03-24",
          "2013-03-25",
          "2013-03-26",
          "2013-03-27",
          "2013-03-28",
          "2013-03-29",
          "2013-03-30",
          "2013-03-31",
          "2013-04-01",
          "2013-04-02",
          "2013-04-03",
          "2013-04-04",
          "2013-04-05",
          "2013-04-06",
          "2013-04-07",
          "2013-04-08",
          "2013-04-09",
          "2013-04-10",
          "2013-04-11",
          "2013-04-12",
          "2013-04-13",
          "2013-04-14",
          "2013-04-15",
          "2013-04-16",
          "2013-04-17",
          "2013-04-18",
          "2013-04-19",
          "2013-04-20",
          "2013-04-21",
          "2013-04-22",
          "2013-04-23",
          "2013-04-24",
          "2013-04-25",
          "2013-04-26",
          "2013-04-27",
          "2013-04-28",
          "2013-04-29",
          "2013-04-30",
          "2013-05-01",
          "2013-05-02",
          "2013-05-03",
          "2013-05-04",
          "2013-05-05",
          "2013-05-06",
          "2013-05-07",
          "2013-05-08",
          "2013-05-09",
          "2013-05-10",
          "2013-05-11",
          "2013-05-12",
          "2013-05-13",
          "2013-05-14",
          "2013-05-15",
          "2013-05-16",
          "2013-05-17",
          "2013-05-18",
          "2013-05-19",
          "2013-05-20",
          "2013-05-21",
          "2013-05-22",
          "2013-05-23",
          "2013-05-24",
          "2013-05-25",
          "2013-05-26",
          "2013-05-27",
          "2013-05-28",
          "2013-05-29",
          "2013-05-30",
          "2013-05-31",
          "2013-06-01",
          "2013-06-02",
          "2013-06-03",
          "2013-06-04",
          "2013-06-05",
          "2013-06-06",
          "2013-06-07",
          "2013-06-08",
          "2013-06-09",
          "2013-06-10",
          "2013-06-11",
          "2013-06-12",
          "2013-06-13",
          "2013-06-14",
          "2013-06-15",
          "2013-06-16",
          "2013-06-17",
          "2013-06-18",
          "2013-06-19",
          "2013-06-20",
          "2013-06-21",
          "2013-06-22",
          "2013-06-23",
          "2013-06-24",
          "2013-06-25",
          "2013-06-26",
          "2013-06-27",
          "2013-06-28",
          "2013-06-29",
          "2013-06-30",
          "2013-07-01",
          "2013-07-02",
          "2013-07-03",
          "2013-07-04",
          "2013-07-05",
          "2013-07-06",
          "2013-07-07",
          "2013-07-08",
          "2013-07-09",
          "2013-07-10",
          "2013-07-11",
          "2013-07-12",
          "2013-07-13",
          "2013-07-14",
          "2013-07-15",
          "2013-07-16",
          "2013-07-17",
          "2013-07-18",
          "2013-07-19",
          "2013-07-20",
          "2013-07-21",
          "2013-07-22",
          "2013-07-23",
          "2013-07-24",
          "2013-07-25",
          "2013-07-26",
          "2013-07-27",
          "2013-07-28",
          "2013-07-29",
          "2013-07-30",
          "2013-07-31",
          "2013-08-01",
          "2013-08-02",
          "2013-08-03",
          "2013-08-04",
          "2013-08-05",
          "2013-08-06",
          "2013-08-07",
          "2013-08-08",
          "2013-08-09",
          "2013-08-10",
          "2013-08-11",
          "2013-08-12",
          "2013-08-13",
          "2013-08-14",
          "2013-08-15",
          "2013-08-16",
          "2013-08-17",
          "2013-08-18",
          "2013-08-19",
          "2013-08-20",
          "2013-08-21",
          "2013-08-22",
          "2013-08-23",
          "2013-08-24",
          "2013-08-25",
          "2013-08-26",
          "2013-08-27",
          "2013-08-28",
          "2013-08-29",
          "2013-08-30",
          "2013-08-31",
          "2013-09-01",
          "2013-09-02",
          "2013-09-03",
          "2013-09-04",
          "2013-09-05",
          "2013-09-06",
          "2013-09-07",
          "2013-09-08",
          "2013-09-09",
          "2013-09-10",
          "2013-09-11",
          "2013-09-12",
          "2013-09-13",
          "2013-09-14",
          "2013-09-15",
          "2013-09-16",
          "2013-09-17",
          "2013-09-18",
          "2013-09-19",
          "2013-09-20",
          "2013-09-21",
          "2013-09-22",
          "2013-09-23",
          "2013-09-24",
          "2013-09-25",
          "2013-09-26",
          "2013-09-27",
          "2013-09-28",
          "2013-09-29",
          "2013-09-30",
          "2013-10-01",
          "2013-10-02",
          "2013-10-03",
          "2013-10-04",
          "2013-10-05",
          "2013-10-06",
          "2013-10-07",
          "2013-10-08",
          "2013-10-09",
          "2013-10-10",
          "2013-10-11",
          "2013-10-12",
          "2013-10-13",
          "2013-10-14",
          "2013-10-15",
          "2013-10-16",
          "2013-10-17",
          "2013-10-18",
          "2013-10-19",
          "2013-10-20",
          "2013-10-21",
          "2013-10-22",
          "2013-10-23",
          "2013-10-24",
          "2013-10-25",
          "2013-10-26",
          "2013-10-27",
          "2013-10-28",
          "2013-10-29",
          "2013-10-30",
          "2013-10-31",
          "2013-11-01",
          "2013-11-02",
          "2013-11-03",
          "2013-11-04",
          "2013-11-05",
          "2013-11-06",
          "2013-11-07",
          "2013-11-08",
          "2013-11-09",
          "2013-11-10",
          "2013-11-11",
          "2013-11-12",
          "2013-11-13",
          "2013-11-14",
          "2013-11-15",
          "2013-11-16",
          "2013-11-17",
          "2013-11-18",
          "2013-11-19",
          "2013-11-20",
          "2013-11-21",
          "2013-11-22",
          "2013-11-23",
          "2013-11-24",
          "2013-11-25",
          "2013-11-26",
          "2013-11-27",
          "2013-11-28",
          "2013-11-29",
          "2013-11-30",
          "2013-12-01",
          "2013-12-02",
          "2013-12-03",
          "2013-12-04",
          "2013-12-05",
          "2013-12-06",
          "2013-12-07",
          "2013-12-08",
          "2013-12-09",
          "2013-12-10",
          "2013-12-11",
          "2013-12-12",
          "2013-12-13",
          "2013-12-14",
          "2013-12-15",
          "2013-12-16",
          "2013-12-17",
          "2013-12-18",
          "2013-12-19",
          "2013-12-20",
          "2013-12-21",
          "2013-12-22",
          "2013-12-23",
          "2013-12-24",
          "2013-12-25",
          "2013-12-26",
          "2013-12-27",
          "2013-12-28",
          "2013-12-29",
          "2013-12-30",
          "2013-12-31",
          "2014-01-01",
          "2014-01-02",
          "2014-01-03",
          "2014-01-04",
          "2014-01-05",
          "2014-01-06",
          "2014-01-07",
          "2014-01-08",
          "2014-01-09",
          "2014-01-10",
          "2014-01-11",
          "2014-01-12",
          "2014-01-13",
          "2014-01-14",
          "2014-01-15",
          "2014-01-16",
          "2014-01-17",
          "2014-01-18",
          "2014-01-19",
          "2014-01-20",
          "2014-01-21",
          "2014-01-22",
          "2014-01-23",
          "2014-01-24",
          "2014-01-25",
          "2014-01-26",
          "2014-01-27",
          "2014-01-28",
          "2014-01-29",
          "2014-01-30",
          "2014-01-31",
          "2014-02-01",
          "2014-02-02",
          "2014-02-03",
          "2014-02-04",
          "2014-02-05",
          "2014-02-06",
          "2014-02-07",
          "2014-02-08",
          "2014-02-09",
          "2014-02-10",
          "2014-02-11",
          "2014-02-12",
          "2014-02-13",
          "2014-02-14",
          "2014-02-15",
          "2014-02-16",
          "2014-02-17",
          "2014-02-18",
          "2014-02-19",
          "2014-02-20",
          "2014-02-21",
          "2014-02-22",
          "2014-02-23",
          "2014-02-24",
          "2014-02-25",
          "2014-02-26",
          "2014-02-27",
          "2014-02-28",
          "2014-03-01",
          "2014-03-02",
          "2014-03-03",
          "2014-03-04",
          "2014-03-05",
          "2014-03-06",
          "2014-03-07",
          "2014-03-08",
          "2014-03-09",
          "2014-03-10",
          "2014-03-11",
          "2014-03-12",
          "2014-03-13",
          "2014-03-14",
          "2014-03-15",
          "2014-03-16",
          "2014-03-17",
          "2014-03-18",
          "2014-03-19",
          "2014-03-20",
          "2014-03-21",
          "2014-03-22",
          "2014-03-23",
          "2014-03-24",
          "2014-03-25",
          "2014-03-26",
          "2014-03-27",
          "2014-03-28",
          "2014-03-29",
          "2014-03-30",
          "2014-03-31",
          "2014-04-01",
          "2014-04-02",
          "2014-04-03",
          "2014-04-04",
          "2014-04-05",
          "2014-04-06",
          "2014-04-07",
          "2014-04-08",
          "2014-04-09",
          "2014-04-10",
          "2014-04-11",
          "2014-04-12",
          "2014-04-13",
          "2014-04-14",
          "2014-04-15",
          "2014-04-16",
          "2014-04-17",
          "2014-04-18",
          "2014-04-19",
          "2014-04-20",
          "2014-04-21",
          "2014-04-22",
          "2014-04-23",
          "2014-04-24",
          "2014-04-25",
          "2014-04-26",
          "2014-04-27",
          "2014-04-28",
          "2014-04-29",
          "2014-04-30",
          "2014-05-01",
          "2014-05-02",
          "2014-05-03",
          "2014-05-04",
          "2014-05-05",
          "2014-05-06",
          "2014-05-07",
          "2014-05-08",
          "2014-05-09",
          "2014-05-10",
          "2014-05-11",
          "2014-05-12",
          "2014-05-13",
          "2014-05-14",
          "2014-05-15",
          "2014-05-16",
          "2014-05-17",
          "2014-05-18",
          "2014-05-19",
          "2014-05-20",
          "2014-05-21",
          "2014-05-22",
          "2014-05-23",
          "2014-05-24",
          "2014-05-25",
          "2014-05-26",
          "2014-05-27",
          "2014-05-28",
          "2014-05-29",
          "2014-05-30",
          "2014-05-31",
          "2014-06-01",
          "2014-06-02",
          "2014-06-03",
          "2014-06-04",
          "2014-06-05",
          "2014-06-06",
          "2014-06-07",
          "2014-06-08",
          "2014-06-09",
          "2014-06-10",
          "2014-06-11",
          "2014-06-12",
          "2014-06-13",
          "2014-06-14",
          "2014-06-15",
          "2014-06-16",
          "2014-06-17",
          "2014-06-18",
          "2014-06-19",
          "2014-06-20",
          "2014-06-21",
          "2014-06-22",
          "2014-06-23",
          "2014-06-24",
          "2014-06-25",
          "2014-06-26",
          "2014-06-27",
          "2014-06-28",
          "2014-06-29",
          "2014-06-30",
          "2014-07-01",
          "2014-07-02",
          "2014-07-03",
          "2014-07-04",
          "2014-07-05",
          "2014-07-06",
          "2014-07-07",
          "2014-07-08",
          "2014-07-09",
          "2014-07-10",
          "2014-07-11",
          "2014-07-12",
          "2014-07-13",
          "2014-07-14",
          "2014-07-15",
          "2014-07-16",
          "2014-07-17",
          "2014-07-18",
          "2014-07-19",
          "2014-07-20",
          "2014-07-21",
          "2014-07-22",
          "2014-07-23",
          "2014-07-24",
          "2014-07-25",
          "2014-07-26",
          "2014-07-27",
          "2014-07-28",
          "2014-07-29",
          "2014-07-30",
          "2014-07-31",
          "2014-08-01",
          "2014-08-02",
          "2014-08-03",
          "2014-08-04",
          "2014-08-05",
          "2014-08-06",
          "2014-08-07",
          "2014-08-08",
          "2014-08-09",
          "2014-08-10",
          "2014-08-11",
          "2014-08-12",
          "2014-08-13",
          "2014-08-14",
          "2014-08-15",
          "2014-08-16",
          "2014-08-17",
          "2014-08-18",
          "2014-08-19",
          "2014-08-20",
          "2014-08-21",
          "2014-08-22",
          "2014-08-23",
          "2014-08-24",
          "2014-08-25",
          "2014-08-26",
          "2014-08-27",
          "2014-08-28",
          "2014-08-29",
          "2014-08-30",
          "2014-08-31",
          "2014-09-01",
          "2014-09-02",
          "2014-09-03",
          "2014-09-04",
          "2014-09-05",
          "2014-09-06",
          "2014-09-07",
          "2014-09-08",
          "2014-09-09",
          "2014-09-10",
          "2014-09-11",
          "2014-09-12",
          "2014-09-13",
          "2014-09-14",
          "2014-09-15",
          "2014-09-16",
          "2014-09-17",
          "2014-09-18",
          "2014-09-19",
          "2014-09-20",
          "2014-09-21",
          "2014-09-22",
          "2014-09-23",
          "2014-09-24",
          "2014-09-25",
          "2014-09-26",
          "2014-09-27",
          "2014-09-28",
          "2014-09-29",
          "2014-09-30",
          "2014-10-01",
          "2014-10-02",
          "2014-10-03",
          "2014-10-04",
          "2014-10-05",
          "2014-10-06",
          "2014-10-07",
          "2014-10-08",
          "2014-10-09",
          "2014-10-10",
          "2014-10-11",
          "2014-10-12",
          "2014-10-13",
          "2014-10-14",
          "2014-10-15",
          "2014-10-16",
          "2014-10-17",
          "2014-10-18",
          "2014-10-19",
          "2014-10-20",
          "2014-10-21",
          "2014-10-22",
          "2014-10-23",
          "2014-10-24",
          "2014-10-25",
          "2014-10-26",
          "2014-10-27",
          "2014-10-28",
          "2014-10-29",
          "2014-10-30",
          "2014-10-31",
          "2014-11-01",
          "2014-11-02",
          "2014-11-03",
          "2014-11-04",
          "2014-11-05",
          "2014-11-06",
          "2014-11-07",
          "2014-11-08",
          "2014-11-09",
          "2014-11-10",
          "2014-11-11",
          "2014-11-12",
          "2014-11-13",
          "2014-11-14",
          "2014-11-15",
          "2014-11-16",
          "2014-11-17",
          "2014-11-18",
          "2014-11-19",
          "2014-11-20",
          "2014-11-21",
          "2014-11-22",
          "2014-11-23",
          "2014-11-24",
          "2014-11-25",
          "2014-11-26",
          "2014-11-27",
          "2014-11-28",
          "2014-11-29",
          "2014-11-30",
          "2014-12-01",
          "2014-12-02",
          "2014-12-03",
          "2014-12-04",
          "2014-12-05",
          "2014-12-06",
          "2014-12-07",
          "2014-12-08",
          "2014-12-09",
          "2014-12-10",
          "2014-12-11",
          "2014-12-12",
          "2014-12-13",
          "2014-12-14",
          "2014-12-15",
          "2014-12-16",
          "2014-12-17",
          "2014-12-18",
          "2014-12-19",
          "2014-12-20",
          "2014-12-21",
          "2014-12-22",
          "2014-12-23",
          "2014-12-24",
          "2014-12-25",
          "2014-12-26",
          "2014-12-27",
          "2014-12-28",
          "2014-12-29",
          "2014-12-30",
          "2014-12-31",
          "2015-01-01",
          "2015-01-02",
          "2015-01-03",
          "2015-01-04",
          "2015-01-05",
          "2015-01-06",
          "2015-01-07",
          "2015-01-08",
          "2015-01-09",
          "2015-01-10",
          "2015-01-11",
          "2015-01-12",
          "2015-01-13",
          "2015-01-14",
          "2015-01-15",
          "2015-01-16",
          "2015-01-17",
          "2015-01-18",
          "2015-01-19",
          "2015-01-20",
          "2015-01-21",
          "2015-01-22",
          "2015-01-23",
          "2015-01-24",
          "2015-01-25",
          "2015-01-26",
          "2015-01-27",
          "2015-01-28",
          "2015-01-29",
          "2015-01-30",
          "2015-01-31",
          "2015-02-01",
          "2015-02-02",
          "2015-02-03",
          "2015-02-04",
          "2015-02-05",
          "2015-02-06",
          "2015-02-07",
          "2015-02-08",
          "2015-02-09",
          "2015-02-10",
          "2015-02-11",
          "2015-02-12",
          "2015-02-13",
          "2015-02-14",
          "2015-02-15",
          "2015-02-16",
          "2015-02-17",
          "2015-02-18",
          "2015-02-19",
          "2015-02-20",
          "2015-02-21",
          "2015-02-22",
          "2015-02-23",
          "2015-02-24",
          "2015-02-25",
          "2015-02-26",
          "2015-02-27",
          "2015-02-28",
          "2015-03-01",
          "2015-03-02",
          "2015-03-03",
          "2015-03-04",
          "2015-03-05",
          "2015-03-06",
          "2015-03-07",
          "2015-03-08",
          "2015-03-09",
          "2015-03-10",
          "2015-03-11",
          "2015-03-12",
          "2015-03-13",
          "2015-03-14",
          "2015-03-15",
          "2015-03-16",
          "2015-03-17",
          "2015-03-18",
          "2015-03-19",
          "2015-03-20",
          "2015-03-21",
          "2015-03-22",
          "2015-03-23",
          "2015-03-24",
          "2015-03-25",
          "2015-03-26",
          "2015-03-27",
          "2015-03-28",
          "2015-03-29",
          "2015-03-30",
          "2015-03-31",
          "2015-04-01",
          "2015-04-02",
          "2015-04-03",
          "2015-04-04",
          "2015-04-05",
          "2015-04-06",
          "2015-04-07",
          "2015-04-08",
          "2015-04-09",
          "2015-04-10",
          "2015-04-11",
          "2015-04-12",
          "2015-04-13",
          "2015-04-14",
          "2015-04-15",
          "2015-04-16",
          "2015-04-17",
          "2015-04-18",
          "2015-04-19",
          "2015-04-20",
          "2015-04-21",
          "2015-04-22",
          "2015-04-23",
          "2015-04-24",
          "2015-04-25",
          "2015-04-26",
          "2015-04-27",
          "2015-04-28",
          "2015-04-29",
          "2015-04-30",
          "2015-05-01",
          "2015-05-02",
          "2015-05-03",
          "2015-05-04",
          "2015-05-05",
          "2015-05-06",
          "2015-05-07",
          "2015-05-08",
          "2015-05-09",
          "2015-05-10",
          "2015-05-11",
          "2015-05-12",
          "2015-05-13",
          "2015-05-14",
          "2015-05-15",
          "2015-05-16",
          "2015-05-17",
          "2015-05-18",
          "2015-05-19",
          "2015-05-20",
          "2015-05-21",
          "2015-05-22",
          "2015-05-23",
          "2015-05-24",
          "2015-05-25",
          "2015-05-26",
          "2015-05-27",
          "2015-05-28",
          "2015-05-29",
          "2015-05-30",
          "2015-05-31",
          "2015-06-01",
          "2015-06-02",
          "2015-06-03",
          "2015-06-04",
          "2015-06-05",
          "2015-06-06",
          "2015-06-07",
          "2015-06-08",
          "2015-06-09",
          "2015-06-10",
          "2015-06-11",
          "2015-06-12",
          "2015-06-13",
          "2015-06-14",
          "2015-06-15",
          "2015-06-16",
          "2015-06-17",
          "2015-06-18",
          "2015-06-19",
          "2015-06-20",
          "2015-06-21",
          "2015-06-22",
          "2015-06-23",
          "2015-06-24",
          "2015-06-25",
          "2015-06-26",
          "2015-06-27",
          "2015-06-28",
          "2015-06-29",
          "2015-06-30",
          "2015-07-01",
          "2015-07-02",
          "2015-07-03",
          "2015-07-04",
          "2015-07-05",
          "2015-07-06",
          "2015-07-07",
          "2015-07-08",
          "2015-07-09",
          "2015-07-10",
          "2015-07-11",
          "2015-07-12",
          "2015-07-13",
          "2015-07-14",
          "2015-07-15",
          "2015-07-16",
          "2015-07-17",
          "2015-07-18",
          "2015-07-19",
          "2015-07-20",
          "2015-07-21",
          "2015-07-22",
          "2015-07-23",
          "2015-07-24",
          "2015-07-25",
          "2015-07-26",
          "2015-07-27",
          "2015-07-28",
          "2015-07-29",
          "2015-07-30",
          "2015-07-31",
          "2015-08-01",
          "2015-08-02",
          "2015-08-03",
          "2015-08-04",
          "2015-08-05",
          "2015-08-06",
          "2015-08-07",
          "2015-08-08",
          "2015-08-09",
          "2015-08-10",
          "2015-08-11",
          "2015-08-12",
          "2015-08-13",
          "2015-08-14",
          "2015-08-15",
          "2015-08-16",
          "2015-08-17",
          "2015-08-18",
          "2015-08-19",
          "2015-08-20",
          "2015-08-21",
          "2015-08-22",
          "2015-08-23",
          "2015-08-24",
          "2015-08-25",
          "2015-08-26",
          "2015-08-27",
          "2015-08-28",
          "2015-08-29",
          "2015-08-30",
          "2015-08-31",
          "2015-09-01",
          "2015-09-02",
          "2015-09-03",
          "2015-09-04",
          "2015-09-05",
          "2015-09-06",
          "2015-09-07",
          "2015-09-08",
          "2015-09-09",
          "2015-09-10",
          "2015-09-11",
          "2015-09-12",
          "2015-09-13",
          "2015-09-14",
          "2015-09-15",
          "2015-09-16",
          "2015-09-17",
          "2015-09-18",
          "2015-09-19",
          "2015-09-20",
          "2015-09-21",
          "2015-09-22",
          "2015-09-23",
          "2015-09-24",
          "2015-09-25",
          "2015-09-26",
          "2015-09-27",
          "2015-09-28",
          "2015-09-29",
          "2015-09-30",
          "2015-10-01",
          "2015-10-02",
          "2015-10-03",
          "2015-10-04",
          "2015-10-05",
          "2015-10-06",
          "2015-10-07",
          "2015-10-08",
          "2015-10-09",
          "2015-10-10",
          "2015-10-11",
          "2015-10-12",
          "2015-10-13",
          "2015-10-14",
          "2015-10-15",
          "2015-10-16",
          "2015-10-17",
          "2015-10-18",
          "2015-10-19",
          "2015-10-20",
          "2015-10-21",
          "2015-10-22",
          "2015-10-23",
          "2015-10-24",
          "2015-10-25",
          "2015-10-26",
          "2015-10-27",
          "2015-10-28",
          "2015-10-29",
          "2015-10-30",
          "2015-10-31",
          "2015-11-01",
          "2015-11-02",
          "2015-11-03",
          "2015-11-04",
          "2015-11-05",
          "2015-11-06",
          "2015-11-07",
          "2015-11-08",
          "2015-11-09",
          "2015-11-10",
          "2015-11-11",
          "2015-11-12",
          "2015-11-13",
          "2015-11-14",
          "2015-11-15",
          "2015-11-16",
          "2015-11-17",
          "2015-11-18",
          "2015-11-19",
          "2015-11-20",
          "2015-11-21",
          "2015-11-22",
          "2015-11-23",
          "2015-11-24",
          "2015-11-25",
          "2015-11-26",
          "2015-11-27",
          "2015-11-28",
          "2015-11-29",
          "2015-11-30",
          "2015-12-01",
          "2015-12-02",
          "2015-12-03",
          "2015-12-04",
          "2015-12-05",
          "2015-12-06",
          "2015-12-07",
          "2015-12-08",
          "2015-12-09",
          "2015-12-10",
          "2015-12-11",
          "2015-12-12",
          "2015-12-13",
          "2015-12-14",
          "2015-12-15",
          "2015-12-16",
          "2015-12-17",
          "2015-12-18",
          "2015-12-19",
          "2015-12-20",
          "2015-12-21",
          "2015-12-22",
          "2015-12-23",
          "2015-12-24",
          "2015-12-25",
          "2015-12-26",
          "2015-12-27",
          "2015-12-28",
          "2015-12-29",
          "2015-12-30",
          "2015-12-31",
          "2016-01-01",
          "2016-01-02",
          "2016-01-03",
          "2016-01-04",
          "2016-01-05",
          "2016-01-06",
          "2016-01-07",
          "2016-01-08",
          "2016-01-09",
          "2016-01-10",
          "2016-01-11",
          "2016-01-12",
          "2016-01-13",
          "2016-01-14",
          "2016-01-15",
          "2016-01-16",
          "2016-01-17",
          "2016-01-18",
          "2016-01-19",
          "2016-01-20",
          "2016-01-21",
          "2016-01-22",
          "2016-01-23",
          "2016-01-24",
          "2016-01-25",
          "2016-01-26",
          "2016-01-27",
          "2016-01-28",
          "2016-01-29",
          "2016-01-30",
          "2016-01-31",
          "2016-02-01",
          "2016-02-02",
          "2016-02-03",
          "2016-02-04",
          "2016-02-05",
          "2016-02-06",
          "2016-02-07",
          "2016-02-08",
          "2016-02-09",
          "2016-02-10",
          "2016-02-11",
          "2016-02-12",
          "2016-02-13",
          "2016-02-14",
          "2016-02-15",
          "2016-02-16",
          "2016-02-17",
          "2016-02-18",
          "2016-02-19",
          "2016-02-20",
          "2016-02-21",
          "2016-02-22",
          "2016-02-23",
          "2016-02-24",
          "2016-02-25",
          "2016-02-26",
          "2016-02-27",
          "2016-02-28",
          "2016-02-29",
          "2016-03-01",
          "2016-03-02",
          "2016-03-03",
          "2016-03-04",
          "2016-03-05",
          "2016-03-06",
          "2016-03-07",
          "2016-03-08",
          "2016-03-09",
          "2016-03-10",
          "2016-03-11",
          "2016-03-12",
          "2016-03-13",
          "2016-03-14",
          "2016-03-15",
          "2016-03-16",
          "2016-03-17",
          "2016-03-18",
          "2016-03-19",
          "2016-03-20",
          "2016-03-21",
          "2016-03-22",
          "2016-03-23",
          "2016-03-24",
          "2016-03-25",
          "2016-03-26",
          "2016-03-27",
          "2016-03-28",
          "2016-03-29",
          "2016-03-30",
          "2016-03-31",
          "2016-04-01",
          "2016-04-02",
          "2016-04-03",
          "2016-04-04",
          "2016-04-05",
          "2016-04-06",
          "2016-04-07",
          "2016-04-08",
          "2016-04-09",
          "2016-04-10",
          "2016-04-11",
          "2016-04-12",
          "2016-04-13",
          "2016-04-14",
          "2016-04-15",
          "2016-04-16",
          "2016-04-17",
          "2016-04-18",
          "2016-04-19",
          "2016-04-20",
          "2016-04-21",
          "2016-04-22",
          "2016-04-23",
          "2016-04-24",
          "2016-04-25",
          "2016-04-26",
          "2016-04-27",
          "2016-04-28",
          "2016-04-29",
          "2016-04-30",
          "2016-05-01",
          "2016-05-02",
          "2016-05-03",
          "2016-05-04",
          "2016-05-05",
          "2016-05-06",
          "2016-05-07",
          "2016-05-08",
          "2016-05-09",
          "2016-05-10",
          "2016-05-11",
          "2016-05-12",
          "2016-05-13",
          "2016-05-14",
          "2016-05-15",
          "2016-05-16",
          "2016-05-17",
          "2016-05-18",
          "2016-05-19",
          "2016-05-20",
          "2016-05-21",
          "2016-05-22",
          "2016-05-23",
          "2016-05-24",
          "2016-05-25",
          "2016-05-26",
          "2016-05-27",
          "2016-05-28",
          "2016-05-29",
          "2016-05-30",
          "2016-05-31",
          "2016-06-01",
          "2016-06-02",
          "2016-06-03",
          "2016-06-04",
          "2016-06-05",
          "2016-06-06",
          "2016-06-07",
          "2016-06-08",
          "2016-06-09",
          "2016-06-10",
          "2016-06-11",
          "2016-06-12",
          "2016-06-13",
          "2016-06-14",
          "2016-06-15",
          "2016-06-16",
          "2016-06-17",
          "2016-06-18",
          "2016-06-19",
          "2016-06-20",
          "2016-06-21",
          "2016-06-22",
          "2016-06-23",
          "2016-06-24",
          "2016-06-25",
          "2016-06-26",
          "2016-06-27",
          "2016-06-28",
          "2016-06-29",
          "2016-06-30",
          "2016-07-01",
          "2016-07-02",
          "2016-07-03",
          "2016-07-04",
          "2016-07-05",
          "2016-07-06",
          "2016-07-07",
          "2016-07-08",
          "2016-07-09",
          "2016-07-10",
          "2016-07-11",
          "2016-07-12",
          "2016-07-13",
          "2016-07-14",
          "2016-07-15",
          "2016-07-16",
          "2016-07-17",
          "2016-07-18",
          "2016-07-19",
          "2016-07-20",
          "2016-07-21",
          "2016-07-22",
          "2016-07-23",
          "2016-07-24",
          "2016-07-25",
          "2016-07-26",
          "2016-07-27",
          "2016-07-28",
          "2016-07-29",
          "2016-07-30",
          "2016-07-31",
          "2016-08-01",
          "2016-08-02",
          "2016-08-03",
          "2016-08-04",
          "2016-08-05",
          "2016-08-06",
          "2016-08-07",
          "2016-08-08",
          "2016-08-09",
          "2016-08-10",
          "2016-08-11",
          "2016-08-12",
          "2016-08-13",
          "2016-08-14",
          "2016-08-15",
          "2016-08-16",
          "2016-08-17",
          "2016-08-18",
          "2016-08-19",
          "2016-08-20",
          "2016-08-21",
          "2016-08-22",
          "2016-08-23",
          "2016-08-24",
          "2016-08-25",
          "2016-08-26",
          "2016-08-27",
          "2016-08-28",
          "2016-08-29",
          "2016-08-30",
          "2016-08-31",
          "2016-09-01",
          "2016-09-02",
          "2016-09-03",
          "2016-09-04",
          "2016-09-05",
          "2016-09-06",
          "2016-09-07",
          "2016-09-08",
          "2016-09-09",
          "2016-09-10",
          "2016-09-11",
          "2016-09-12",
          "2016-09-13",
          "2016-09-14",
          "2016-09-15",
          "2016-09-16",
          "2016-09-17",
          "2016-09-18",
          "2016-09-19",
          "2016-09-20",
          "2016-09-21",
          "2016-09-22",
          "2016-09-23",
          "2016-09-24",
          "2016-09-25",
          "2016-09-26",
          "2016-09-27",
          "2016-09-28",
          "2016-09-29",
          "2016-09-30",
          "2016-10-01",
          "2016-10-02",
          "2016-10-03",
          "2016-10-04",
          "2016-10-05",
          "2016-10-06",
          "2016-10-07",
          "2016-10-08",
          "2016-10-09",
          "2016-10-10",
          "2016-10-11",
          "2016-10-12",
          "2016-10-13",
          "2016-10-14",
          "2016-10-15",
          "2016-10-16",
          "2016-10-17",
          "2016-10-18",
          "2016-10-19",
          "2016-10-20",
          "2016-10-21",
          "2016-10-22",
          "2016-10-23",
          "2016-10-24",
          "2016-10-25",
          "2016-10-26",
          "2016-10-27",
          "2016-10-28",
          "2016-10-29",
          "2016-10-30",
          "2016-10-31",
          "2016-11-01",
          "2016-11-02",
          "2016-11-03",
          "2016-11-04",
          "2016-11-05",
          "2016-11-06",
          "2016-11-07",
          "2016-11-08",
          "2016-11-09",
          "2016-11-10",
          "2016-11-11",
          "2016-11-12",
          "2016-11-13",
          "2016-11-14",
          "2016-11-15",
          "2016-11-16",
          "2016-11-17",
          "2016-11-18",
          "2016-11-19",
          "2016-11-20",
          "2016-11-21",
          "2016-11-22",
          "2016-11-23",
          "2016-11-24",
          "2016-11-25",
          "2016-11-26",
          "2016-11-27",
          "2016-11-28",
          "2016-11-29",
          "2016-11-30",
          "2016-12-01",
          "2016-12-02",
          "2016-12-03",
          "2016-12-04",
          "2016-12-05",
          "2016-12-06",
          "2016-12-07",
          "2016-12-08",
          "2016-12-09",
          "2016-12-10",
          "2016-12-11",
          "2016-12-12",
          "2016-12-13",
          "2016-12-14",
          "2016-12-15",
          "2016-12-16",
          "2016-12-17",
          "2016-12-18",
          "2016-12-19",
          "2016-12-20",
          "2016-12-21",
          "2016-12-22",
          "2016-12-23",
          "2016-12-24",
          "2016-12-25",
          "2016-12-26",
          "2016-12-27",
          "2016-12-28",
          "2016-12-29",
          "2016-12-30",
          "2016-12-31",
          "2017-01-01",
          "2017-01-02",
          "2017-01-03",
          "2017-01-04",
          "2017-01-05",
          "2017-01-06",
          "2017-01-07",
          "2017-01-08",
          "2017-01-09",
          "2017-01-10",
          "2017-01-11",
          "2017-01-12",
          "2017-01-13",
          "2017-01-14",
          "2017-01-15",
          "2017-01-16",
          "2017-01-17",
          "2017-01-18",
          "2017-01-19",
          "2017-01-20",
          "2017-01-21",
          "2017-01-22",
          "2017-01-23",
          "2017-01-24",
          "2017-01-25",
          "2017-01-26",
          "2017-01-27",
          "2017-01-28",
          "2017-01-29",
          "2017-01-30",
          "2017-01-31",
          "2017-02-01",
          "2017-02-02",
          "2017-02-03",
          "2017-02-04",
          "2017-02-05",
          "2017-02-06",
          "2017-02-07",
          "2017-02-08",
          "2017-02-09",
          "2017-02-10",
          "2017-02-11",
          "2017-02-12",
          "2017-02-13",
          "2017-02-14",
          "2017-02-15",
          "2017-02-16",
          "2017-02-17",
          "2017-02-18",
          "2017-02-19",
          "2017-02-20",
          "2017-02-21",
          "2017-02-22",
          "2017-02-23",
          "2017-02-24",
          "2017-02-25",
          "2017-02-26",
          "2017-02-27",
          "2017-02-28",
          "2017-03-01",
          "2017-03-02",
          "2017-03-03",
          "2017-03-04",
          "2017-03-05",
          "2017-03-06",
          "2017-03-07",
          "2017-03-08",
          "2017-03-09",
          "2017-03-10",
          "2017-03-11",
          "2017-03-12",
          "2017-03-13",
          "2017-03-14",
          "2017-03-15",
          "2017-03-16",
          "2017-03-17",
          "2017-03-18",
          "2017-03-19",
          "2017-03-20",
          "2017-03-21",
          "2017-03-22",
          "2017-03-23",
          "2017-03-24",
          "2017-03-25",
          "2017-03-26",
          "2017-03-27",
          "2017-03-28",
          "2017-03-29",
          "2017-03-30",
          "2017-03-31",
          "2017-04-01",
          "2017-04-02",
          "2017-04-03",
          "2017-04-04",
          "2017-04-05",
          "2017-04-06",
          "2017-04-07",
          "2017-04-08",
          "2017-04-09",
          "2017-04-10",
          "2017-04-11",
          "2017-04-12",
          "2017-04-13",
          "2017-04-14",
          "2017-04-15",
          "2017-04-16",
          "2017-04-17",
          "2017-04-18",
          "2017-04-19",
          "2017-04-20",
          "2017-04-21",
          "2017-04-22",
          "2017-04-23",
          "2017-04-24",
          "2017-04-25",
          "2017-04-26",
          "2017-04-27",
          "2017-04-28",
          "2017-04-29",
          "2017-04-30",
          "2017-05-01",
          "2017-05-02",
          "2017-05-03",
          "2017-05-04",
          "2017-05-05",
          "2017-05-06",
          "2017-05-07",
          "2017-05-08",
          "2017-05-09",
          "2017-05-10",
          "2017-05-11",
          "2017-05-12",
          "2017-05-13",
          "2017-05-14",
          "2017-05-15",
          "2017-05-16",
          "2017-05-17",
          "2017-05-18",
          "2017-05-19",
          "2017-05-20",
          "2017-05-21",
          "2017-05-22",
          "2017-05-23",
          "2017-05-24",
          "2017-05-25",
          "2017-05-26",
          "2017-05-27",
          "2017-05-28",
          "2017-05-29",
          "2017-05-30",
          "2017-05-31",
          "2017-06-01",
          "2017-06-02",
          "2017-06-03",
          "2017-06-04",
          "2017-06-05",
          "2017-06-06",
          "2017-06-07",
          "2017-06-08",
          "2017-06-09",
          "2017-06-10",
          "2017-06-11",
          "2017-06-12",
          "2017-06-13",
          "2017-06-14",
          "2017-06-15",
          "2017-06-16",
          "2017-06-17",
          "2017-06-18",
          "2017-06-19",
          "2017-06-20",
          "2017-06-21",
          "2017-06-22",
          "2017-06-23",
          "2017-06-24",
          "2017-06-25",
          "2017-06-26",
          "2017-06-27",
          "2017-06-28",
          "2017-06-29",
          "2017-06-30",
          "2017-07-01",
          "2017-07-02",
          "2017-07-03",
          "2017-07-04",
          "2017-07-05",
          "2017-07-06",
          "2017-07-07",
          "2017-07-08",
          "2017-07-09",
          "2017-07-10",
          "2017-07-11",
          "2017-07-12",
          "2017-07-13",
          "2017-07-14",
          "2017-07-15",
          "2017-07-16",
          "2017-07-17",
          "2017-07-18",
          "2017-07-19",
          "2017-07-20",
          "2017-07-21",
          "2017-07-22",
          "2017-07-23",
          "2017-07-24",
          "2017-07-25",
          "2017-07-26",
          "2017-07-27",
          "2017-07-28",
          "2017-07-29",
          "2017-07-30",
          "2017-07-31",
          "2017-08-01",
          "2017-08-02",
          "2017-08-03",
          "2017-08-04",
          "2017-08-05",
          "2017-08-06",
          "2017-08-07",
          "2017-08-08",
          "2017-08-09",
          "2017-08-10",
          "2017-08-11",
          "2017-08-12",
          "2017-08-13",
          "2017-08-14",
          "2017-08-15",
          "2017-08-16",
          "2017-08-17",
          "2017-08-18",
          "2017-08-19",
          "2017-08-20",
          "2017-08-21",
          "2017-08-22",
          "2017-08-23",
          "2017-08-24",
          "2017-08-25",
          "2017-08-26",
          "2017-08-27",
          "2017-08-28",
          "2017-08-29",
          "2017-08-30",
          "2017-08-31",
          "2017-09-01",
          "2017-09-02",
          "2017-09-03",
          "2017-09-04",
          "2017-09-05",
          "2017-09-06",
          "2017-09-07",
          "2017-09-08",
          "2017-09-09",
          "2017-09-10",
          "2017-09-11",
          "2017-09-12",
          "2017-09-13",
          "2017-09-14",
          "2017-09-15",
          "2017-09-16",
          "2017-09-17",
          "2017-09-18",
          "2017-09-19",
          "2017-09-20",
          "2017-09-21",
          "2017-09-22",
          "2017-09-23",
          "2017-09-24",
          "2017-09-25",
          "2017-09-26",
          "2017-09-27",
          "2017-09-28",
          "2017-09-29",
          "2017-09-30",
          "2017-10-01",
          "2017-10-02",
          "2017-10-03",
          "2017-10-04",
          "2017-10-05",
          "2017-10-06",
          "2017-10-07",
          "2017-10-08",
          "2017-10-09",
          "2017-10-10",
          "2017-10-11",
          "2017-10-12",
          "2017-10-13",
          "2017-10-14",
          "2017-10-15",
          "2017-10-16",
          "2017-10-17",
          "2017-10-18",
          "2017-10-19",
          "2017-10-20",
          "2017-10-21",
          "2017-10-22",
          "2017-10-23",
          "2017-10-24",
          "2017-10-25",
          "2017-10-26",
          "2017-10-27",
          "2017-10-28",
          "2017-10-29",
          "2017-10-30",
          "2017-10-31",
          "2017-11-01",
          "2017-11-02",
          "2017-11-03",
          "2017-11-04",
          "2017-11-05",
          "2017-11-06",
          "2017-11-07",
          "2017-11-08",
          "2017-11-09",
          "2017-11-10",
          "2017-11-11",
          "2017-11-12",
          "2017-11-13",
          "2017-11-14",
          "2017-11-15",
          "2017-11-16",
          "2017-11-17",
          "2017-11-18",
          "2017-11-19",
          "2017-11-20",
          "2017-11-21",
          "2017-11-22",
          "2017-11-23",
          "2017-11-24",
          "2017-11-25",
          "2017-11-26",
          "2017-11-27",
          "2017-11-28",
          "2017-11-29",
          "2017-11-30",
          "2017-12-01",
          "2017-12-02",
          "2017-12-03",
          "2017-12-04",
          "2017-12-05",
          "2017-12-06",
          "2017-12-07",
          "2017-12-08",
          "2017-12-09",
          "2017-12-10",
          "2017-12-11",
          "2017-12-12",
          "2017-12-13",
          "2017-12-14",
          "2017-12-15",
          "2017-12-16",
          "2017-12-17",
          "2017-12-18",
          "2017-12-19",
          "2017-12-20",
          "2017-12-21",
          "2017-12-22",
          "2017-12-23",
          "2017-12-24",
          "2017-12-25",
          "2017-12-26",
          "2017-12-27",
          "2017-12-28",
          "2017-12-29",
          "2017-12-30",
          "2017-12-31"
         ],
         "y": [
          765.9424164954536,
          705.019360215646,
          1693.7379554461686,
          2968.8308750010187,
          3189.453524285597,
          3742.95941681342,
          -1841.59360957768,
          -264.80177110391,
          319.2533106131011,
          1208.3500139517332,
          2138.635636209285,
          2859.746934142514,
          3688.0614753189852,
          -2426.201280801843,
          -499.0880909767216,
          -530.0789552056565,
          529.3226129978409,
          1484.6058028229597,
          2020.8838575129444,
          3055.893263554279,
          -3254.543276350331,
          -1471.9608973360207,
          -1486.1801399433357,
          -263.9361393074055,
          784.6556991663622,
          1271.4907698768882,
          1828.9108271798946,
          -3901.2541728201068,
          -2168.5561172645507,
          -2418.513061708992,
          -584.3850061534424,
          2202.5991605132294,
          2925.328604957681,
          3761.622493846554,
          -2732.0436172645495,
          -1066.8305617089939,
          -1077.3038950423315,
          133.8608271798947,
          1636.5119382910057,
          2498.1738827354498,
          3098.645827179896,
          -3669.0011172645573,
          -1749.5633394867746,
          -1700.4266728201071,
          -411.3552839312159,
          1267.510827179889,
          1978.416104957663,
          2631.4911049576717,
          -4295.423617264548,
          -1843.0927839312249,
          -2541.6253512270187,
          -1123.2349305837552,
          164.69714156984904,
          1275.3135380477693,
          1967.1896642554223,
          -4989.200966293672,
          -2943.8605157616894,
          -3334.935200364849,
          -1776.426641724762,
          3173.663538536945,
          4231.772637717576,
          5082.627412573883,
          -2704.104569326572,
          -349.6538485243151,
          -65.95718177612213,
          863.0254309180193,
          2390.950476044594,
          3684.0771427927916,
          4572.918674405848,
          -3703.808442629744,
          -1476.551505611271,
          -1405.7056496738821,
          -310.27141535812046,
          1341.8860622008883,
          2651.041377597734,
          3658.6007698768835,
          -4677.5391728201,
          -2131.3341728201067,
          -2529.176117264548,
          -1153.6030617089868,
          674.9549938465632,
          1856.7991605132192,
          2818.7286049576733,
          -5324.667506153447,
          -2648.713617264544,
          -2944.7105617089946,
          -1531.7438950423302,
          -302.9791728201109,
          1397.1119382910042,
          2567.253882735446,
          -3227.6341728201046,
          -418.58111726455513,
          -758.6733394867751,
          1037.3433271798933,
          2581.614716068785,
          4632.650827179903,
          5844.866104957675,
          -3765.7588950423246,
          -894.8636172645499,
          -938.4327839312177,
          690.6446487729783,
          1911.3850694162475,
          3635.367141569851,
          5331.853538047774,
          -4356.060335744571,
          -1551.0809662936729,
          -1880.170515761691,
          -404.5152003648435,
          1157.3633582752461,
          2729.7135385369515,
          4536.422637717581,
          -4842.252587426115,
          -2085.894569326569,
          -2276.2138485243236,
          -981.8171817761191,
          801.5554309180181,
          1966.8704760445924,
          4182.99714279279,
          -5540.041325594148,
          -2527.298442629731,
          -1251.9915056112661,
          229.83435032611152,
          1887.0585846418776,
          4030.696062200886,
          5535.251377597737,
          -4448.449230123116,
          -1612.9291728201074,
          -1564.1141728201019,
          -135.37611726454872,
          1575.736938291006,
          3532.4349938465593,
          4933.429160513231,
          -4958.951395042323,
          -1750.6775061534381,
          -1799.7236172645569,
          -460.3005617089914,
          958.6461049576727,
          2925.2308271798956,
          4631.9319382910035,
          -5142.526117264541,
          -2330.9741728201047,
          -2305.9511172645507,
          -955.7333394867728,
          587.1833271799007,
          2604.2147160687837,
          4846.220827179892,
          -5385.533895042323,
          -2362.568895042333,
          -2493.5936172645424,
          -1037.1327839312148,
          666.9746487729764,
          3778.205069416251,
          6054.187141569851,
          -4487.856461952225,
          -1394.8203357445652,
          -1590.4209662936694,
          335.47948423831065,
          1755.6147996351538,
          3768.383358275239,
          5384.753538536956,
          -4853.717362282422,
          -1340.3525874261204,
          -1930.574569326566,
          -401.87384852431626,
          1515.4428182238794,
          3274.2954309180195,
          5157.200476044602,
          -5481.952857207203,
          -1953.1713255941454,
          -2442.788442629733,
          -765.2015056112652,
          641.504350326117,
          2531.768584641884,
          4915.856062200879,
          -5781.058622402275,
          -2723.5892301231042,
          -2902.7191728200974,
          -901.4341728201124,
          302.5538827354552,
          2234.1169382910034,
          4478.824993846562,
          -4817.850839486775,
          -1164.8213950423299,
          -1487.2475061534342,
          425.4563827354543,
          2093.6994382910016,
          3745.1961049576685,
          5777.780827179891,
          -4674.818061708993,
          -1051.9361172645488,
          -1612.5341728201097,
          644.3588827354545,
          2264.7066605132295,
          4215.803327179885,
          6036.444716068783,
          -4520.709172820101,
          -635.2038950423214,
          -1228.5288950423362,
          683.3263827354488,
          2979.197216068787,
          4406.944648772985,
          6336.75506941625,
          -4483.58285843015,
          -688.2464619522248,
          -584.7703357445623,
          771.7590337063309,
          2811.9494842383046,
          4804.944799635163,
          6739.58335827524,
          -4242.506461463057,
          -292.7073622824131,
          -739.0925874261184,
          -2298.6945693265575,
          -92.40384852431512,
          1777.042818223878,
          3349.9654309180214,
          -6131.7595239553975,
          -2849.8528572072087,
          -3244.831325594149,
          -1352.348442629734,
          -11.001505611264577,
          1520.134350326107,
          3561.5285846418788,
          -5614.543937799104,
          -2499.1586224022703,
          -2386.52923012311,
          -969.6591728201032,
          1098.4658271798962,
          2716.943882735451,
          4229.486938291002,
          -5055.505006153439,
          -1435.8808394867701,
          -1552.291395042331,
          80.21249384656132,
          1590.5463827354472,
          3515.00943829101,
          4759.87610495768,
          -4496.3691728201065,
          -875.5980617089914,
          -892.3561172645434,
          256.0958271798986,
          2201.8488827354486,
          3340.1666605132323,
          3280.6333271798976,
          -5263.355283931212,
          -1900.049172820105,
          -2206.323895042331,
          -804.8388950423229,
          801.7863827354552,
          2406.2872160687834,
          3763.164648772975,
          -5345.134930583746,
          -1658.0728584301478,
          -1719.7664619522252,
          -292.8803357445701,
          954.3190337063359,
          2614.3694842383065,
          3896.2247996351543,
          -4544.876641724752,
          -1851.52646146305,
          -1276.827362282412,
          301.6974125738898,
          1470.3854306734295,
          3221.3761514756875,
          4865.98281822388,
          -4185.814569081977,
          -1029.599523955398,
          -682.3428572072064,
          471.59867440585515,
          2078.321557370268,
          2879.3184943887313,
          4708.564350326122,
          -4257.491415358114,
          -2365.6139377991153,
          -2169.9686224022644,
          -899.5392301231125,
          203.200827179901,
          1658.4258271799026,
          3015.653882735454,
          -5139.163061708989,
          -2085.9550061534364,
          -2187.650839486774,
          -230.55139504232213,
          415.88249384655956,
          1951.9763827354548,
          3375.829438291017,
          -5345.043895042322,
          -2283.009172820095,
          -2051.6780617089894,
          -558.9461172645508,
          428.55582717990137,
          1995.3688827354565,
          2963.9166605132286,
          -5444.1566728201,
          -2315.2752839312107,
          -1864.6491728200963,
          -351.9338950423209,
          796.3011049576766,
          1799.7163827354518,
          3335.137216068793,
          -5306.735351227008,
          -2409.8149305837533,
          -2055.5028584301517,
          -612.9764619522134,
          2358.23966425544,
          3180.939033706324,
          4857.139484238318,
          -4377.7952003648425,
          -1043.8566417247514,
          -1028.7864614630412,
          644.3826377175798,
          2492.2374125738943,
          3804.675430673438,
          5179.276151475685,
          -3428.5771817761174,
          -388.2345690819718,
          -225.0595239554007,
          1462.977142792797,
          3134.988674405858,
          4449.701557370273,
          5747.288494388737,
          -3321.325649673881,
          -30.051415358112024,
          641.3360622008963,
          1925.7113775977361,
          3912.9707698768934,
          4914.060827179895,
          6552.635827179902,
          -2516.6861172645426,
          608.1769382910047,
          1376.8449938465662,
          2875.689160513233,
          4704.278604957676,
          5842.542493846567,
          -256.9236172645467,
          -6534.700561708978,
          -4382.683895042322,
          -3932.5291728201064,
          -2567.268061708986,
          -1190.4361172645488,
          -290.4341728200966,
          377.12888273545855,
          -6024.6633394867695,
          -3632.486672820105,
          -3236.6652839312137,
          -1422.1091728201063,
          -334.14389504232366,
          482.451104957678,
          1822.5863827354472,
          -4658.662783931213,
          -2785.9353512270127,
          -2496.904930583735,
          -1003.4828584301476,
          377.0635380477766,
          1545.5796642554362,
          2414.669033706331,
          -4123.99051576169,
          -2060.775200364842,
          -1371.0566417247594,
          -179.36646146304295,
          716.9826377175856,
          1838.7974125738883,
          2389.5854306734377,
          -3865.5438485243108,
          -1680.1371817761114,
          -1109.734569081979,
          561.7404760445986,
          1441.497142792801,
          2673.138674405863,
          3455.651557370266,
          -3640.9215056112666,
          -1613.6856496738817,
          -1491.4214153581147,
          257.0360622008898,
          1211.5813775977279,
          2060.300769876895,
          2621.1608271799037,
          -3961.2441728201065,
          -1796.6561172645474,
          -1884.1730617089938,
          40.50499384656973,
          947.8791605132284,
          1878.5086049576719,
          2606.1024938465716,
          -3897.623617264555,
          -2176.3805617089965,
          -2063.3538950423235,
          -770.1091728200973,
          951.5119382910128,
          1800.0938827354537,
          2425.745827179889,
          -4506.411117264543,
          -2458.2933394867705,
          -2521.496672820107,
          -1038.4852839312098,
          681.4408271798967,
          3578.4461049576767,
          4847.8511049576755,
          -3028.4336172645462,
          -619.9327839312105,
          -613.8453512270161,
          444.94506941624877,
          1599.1671415698538,
          3263.2735380477793,
          4035.6896642554407,
          -4241.450966293664,
          -1719.760515761691,
          -2069.9752003648464,
          -593.9266417247511,
          995.553538536948,
          1967.9326377175828,
          2958.007412573884,
          -4921.874569326562,
          -2506.5838485243116,
          -2372.417181776121,
          -1135.6145690819765,
          83.31047604460556,
          1288.2571427927921,
          2447.258674405855,
          -5270.088442629735,
          -3438.7215056112695,
          -3452.0256496738853,
          -2357.141415358112,
          -549.7439377991127,
          4608.531377597736,
          6190.560769876886,
          -3301.6791728201038,
          -176.06417282010614,
          -437.95611726454683,
          962.2469382910044,
          3160.264993846561,
          4183.769160513231,
          5665.428604957678,
          -3976.8675061534404,
          -995.0936172645413,
          -1475.190561708998,
          13.16610495768046,
          1848.1608271798884,
          3500.441938290995,
          4614.943882735456,
          -5005.604172820098,
          -2309.681117264554,
          -2668.3033394867725,
          -1391.6466728201083,
          441.254716068781,
          2424.1408271798973,
          3754.2961049576716,
          -5835.358895042324,
          -3415.5136172645516,
          -3141.4327839312177,
          -1892.2053512270168,
          -296.7549305837483,
          1382.0471415698512,
          2974.9235380477735,
          -6349.68033574457,
          -749.0009662936675,
          -642.1905157616876,
          1348.1447996351562,
          2976.5033582752417,
          5095.08353853695,
          7090.7026377175835,
          -4124.712587426117,
          -835.5745693265624,
          -1130.783848524309,
          742.3728182238796,
          2334.3754309180176,
          4124.880476044598,
          6080.06714279279,
          -4702.511325594138,
          -1506.8184426297316,
          -2083.2215056112695,
          -255.06564967388266,
          1122.9485846418806,
          3435.8160622008886,
          5041.881377597738,
          -5738.389230123111,
          -2520.379172820101,
          -2891.354172820107,
          -1406.9461172645447,
          598.9869382910133,
          2670.194993846565,
          4648.899160513232,
          -6248.201395042323,
          -2987.297506153437,
          -2908.613617264553,
          597.2994382909999,
          2576.7061049576705,
          4430.5208271798965,
          6468.791938291011,
          -4904.346117264548,
          -1251.8241728201033,
          -1959.3811172645471,
          -300.30333948676895,
          1743.953327179894,
          3928.634716068782,
          6073.640827179901,
          -4887.863895042325,
          -1632.1988950423308,
          -1959.353617264548,
          -81.11278393121796,
          1462.9046487729802,
          3786.4050694162443,
          5483.147141569846,
          -5804.236461952219,
          -2375.5603357445593,
          -2778.8309662936726,
          -1059.7305157616922,
          389.83479963515504,
          2953.163358275249,
          4755.083538536954,
          -6328.347362282427,
          -2852.5225874261077,
          -3181.584569326568,
          -1307.7138485243129,
          869.5928182238771,
          2598.425430918028,
          6857.2804760446,
          -5057.762857207208,
          -1633.7013255941515,
          -1311.4784426297279,
          80.908494388728,
          1755.4043503261184,
          3654.638584641883,
          6323.67606220089,
          -5651.518622402267,
          -1689.6392301231037,
          -2412.3891728201065,
          -484.5541728200932,
          1577.963882735448,
          3923.336938291008,
          6581.434993846567,
          -5911.160839486776,
          -2161.4113950423152,
          -2606.677506153438,
          -427.9436172645544,
          1389.6794382910082,
          3626.016104957679,
          5069.230827179892,
          -6316.418061708995,
          -3081.3561172645473,
          -3088.454172820097,
          -900.4411172645484,
          720.4966605132267,
          2748.6433271798996,
          4878.614716068785,
          -6915.799172820109,
          -1214.0938950423208,
          -1441.6888950423215,
          471.33638273545444,
          2776.527216068785,
          4632.804648772989,
          6826.985069416253,
          -5573.7728584301485,
          -1175.4364619522198,
          -1898.0903357445657,
          408.29903370632815,
          2439.7694842383153,
          4611.904799635147,
          6764.873358275234,
          -5617.376461463038,
          -1113.4873622824082,
          -1529.6825874261222,
          728.8854306734368,
          3190.6961514756836,
          4962.432818223877,
          7405.5354309180175,
          -4967.989523955412,
          -1035.7928572072071,
          -1336.4113255941397,
          984.6515573702624,
          3236.7884943887216,
          5261.344350326117,
          7558.038584641885,
          -4944.893937799103,
          -629.9386224022653,
          -539.1292301231053,
          1286.450827179901,
          -638.6941728201144,
          1559.4038827354466,
          3103.7269382910076,
          -7271.675006153434,
          -3468.1108394867733,
          -3323.6113950423232,
          -1830.9375061534365,
          414.0863827354517,
          2179.6494382910096,
          4302.00610495767,
          -6746.569172820107,
          -2760.888061708985,
          -2741.176117264547,
          -835.6641728201107,
          821.2988827354532,
          2845.1166605132294,
          5116.863327179886,
          -6014.555283931213,
          -1817.1891728201117,
          -1710.9238950423262,
          53.16110495767347,
          1620.7563827354454,
          3854.647216068784,
          5757.194648772988,
          -5340.70493058376,
          -1044.6928584301613,
          -1097.6664619522267,
          503.4096642554344,
          2343.499033706322,
          4127.879484238309,
          5913.334799635155,
          -6567.276641724757,
          -2779.976461463051,
          -2700.457362282417,
          -972.4625874261137,
          800.4654306734312,
          2204.456151475682,
          4526.052818223872,
          -5930.464569081975,
          -2245.059523955408,
          -2032.1828572072102,
          -639.3813255941444,
          1125.6015573702703,
          2925.1584943887315,
          4653.14435032612,
          -5630.141415358119,
          -1808.9039377991053,
          -1795.1686224022685,
          150.06076987688243,
          1727.7908271798938,
          3458.185827179901,
          5049.633882735453,
          -5131.163061708996,
          -1195.2350061534391,
          -1319.8508394867713,
          810.9886049576787,
          1898.8624938465591,
          4202.406382735444,
          5573.979438291004,
          -4804.863895042326,
          -1171.8191728201002,
          -2571.8780617089938,
          -530.5061172645449,
          481.44582717988624,
          2089.118882735449,
          3382.9166605132323,
          -6026.686672820106,
          -2993.9152839312137,
          -1971.9591728201012,
          -545.6938950423339,
          703.2111049576764,
          2025.13638273545,
          3900.297216068789,
          -5799.985351227012,
          -2522.3149305837496,
          -2600.0428584301526,
          -865.2164619522259,
          779.8896642554303,
          2225.8390337063365,
          3756.849484238317,
          -6163.825200364849,
          -2448.6666417247566,
          -2222.146461463049,
          -644.9673622824151,
          822.8774125738901,
          2230.1954306734347,
          3724.336151475683,
          -5909.287181776117,
          -2630.9445690819857,
          -2533.439523955409,
          -826.3028572072092,
          721.378674405854,
          4280.041557370273,
          5403.818494388732,
          -4949.445649673877,
          -1674.531415358119,
          -1253.043937799112,
          910.741377597735,
          2497.1407698768917,
          3864.710827179892,
          5606.345827179897,
          -4855.956117264547,
          -798.1630617089882,
          -196.51500615343434,
          1707.7691605132277,
          3552.9386049576724,
          5010.712493846572,
          6863.486382735453,
          -3689.0905617089993,
          -168.95389504232944,
          316.1808271798999,
          2300.251938291011,
          4094.7838827354485,
          5847.055827179902,
          7588.428882735447,
          -2878.3433394867698,
          666.5933271799006,
          1150.2447160687752,
          3375.4608271799043,
          5479.056104957674,
          6890.481104957673,
          8526.996382735451,
          -7610.642783931209,
          -5064.715351227022,
          -5071.51493058375,
          -3209.302858430151,
          -1561.0664619522208,
          -426.0303357445716,
          79.08903370632902,
          -6703.800515761688,
          -4072.645200364841,
          -3776.066641724758,
          -2042.3064614630525,
          -615.1473622824154,
          691.4874125738907,
          1872.6554306734336,
          -5729.183848524318,
          -2680.027181776122,
          -2253.5545690819717,
          -795.8295239554011,
          835.7971427927894,
          1727.5486744058521,
          3235.4515573702724,
          -4381.701505611265,
          -1922.4856496738882,
          -1793.7014153581208,
          249.48606220088323,
          1649.5313775977395,
          3038.2607698768943,
          3839.660827179889,
          -3751.2741728201054,
          -1317.786117264552,
          -1341.9130617089954,
          -782.8750061534386,
          805.7791605132298,
          1804.5786049576643,
          2774.472493846567,
          -3951.573617264552,
          -1928.460561708984,
          -2148.8138950423263,
          -418.3391728201042,
          954.7519382910071,
          2037.3038827354492,
          2864.3558271798934,
          -4476.761117264552,
          -2215.8233394867693,
          -2075.9566728201025,
          -750.1952839312124,
          713.1208271798934,
          2104.5261049576748,
          2815.601104957676,
          -4246.763617264544,
          -2068.892783931217,
          -2153.825351227023,
          -807.9849305837479,
          586.3571415698525,
          1820.2435380477732,
          2929.039664255432,
          -4686.850966293662,
          -2380.4705157616863,
          -2536.6052003648474,
          -1347.3766417247627,
          384.27353853696013,
          1484.6626377175824,
          4693.337412573882,
          -3326.6345693265635,
          -892.2238485243184,
          -849.4871817761174,
          604.22543091802,
          1960.6204760445887,
          3365.7271427928004,
          4444.868674405852,
          -3721.78844262974,
          -1572.3415056112647,
          -1928.8656496738747,
          -617.3014153581157,
          856.9260622008892,
          2150.4513775977266,
          3211.250769876896,
          -5123.479172820106,
          -2466.7841728201074,
          -2807.6861172645426,
          -1118.3630617089889,
          388.83499384656056,
          1465.2591605132293,
          2745.4786049576696,
          -5758.787506153431,
          -3173.3936172645444,
          -3439.5605617090005,
          -2092.6838950423253,
          -722.1691728201059,
          617.7719382910076,
          6857.283882735453,
          -3206.4541728201043,
          -233.66111726454963,
          -512.2333394867692,
          1224.3733271798885,
          2786.3847160687856,
          5039.820827179898,
          6257.4761049576755,
          -3824.9588950423254,
          -1032.6836172645496,
          -1031.672783931212,
          401.77464877298286,
          1939.5350694162416,
          3391.407141569852,
          5097.493538047774,
          -4586.6503357445745,
          -2266.1409662936703,
          -2437.920515761687,
          -1297.3752003648442,
          1315.0633582752469,
          2459.623538536944,
          4010.092637717579,
          -6107.152587426116,
          -3172.974569326571,
          -3616.7938485243217,
          -1994.5671817761263,
          -310.37456908197487,
          1319.5504760446036,
          3230.617142792785,
          -6398.181325594143,
          -3809.398442629737,
          -754.6315056112619,
          1242.3043503261126,
          3406.1785846418693,
          5158.496062200893,
          6931.361377597734,
          -4100.079230123117,
          -1000.3291728201124,
          -1647.5841728201103,
          745.5238827354418,
          2325.576938291006,
          4703.374993846558,
          6548.519160513231,
          -4969.41139504233,
          -1878.34750615344,
          -2102.603617264551,
          97.02943829100676,
          1959.4961049576714,
          3767.1008271798873,
          5753.731938290999,
          -5725.666117264548,
          -2709.984172820107,
          -2775.9311172645466,
          -1030.8733394867759,
          619.8733271798922,
          2528.9447160687832,
          5093.190827179893,
          -6200.433895042328,
          -2944.118895042318,
          -3249.36361726455,
          -990.1227839312237,
          2692.464648772978,
          4449.2050694162435,
          6336.00714156985,
          -4946.4664619522255,
          -1374.9603357445792,
          -1748.1609662936673,
          159.98948423830538,
          2037.8547996351517,
          4167.0033582752385,
          6244.573538536948,
          -5621.1073622824215,
          -2014.5125874261166,
          -2293.2245693265672,
          -5.55384852431294,
          1812.0328182238795,
          3786.3254309180184,
          5925.280476044592,
          -5947.972857207207,
          -2143.6113255941514,
          -2410.94844262974,
          -863.4515056112689,
          549.1743503261189,
          2781.868584641879,
          5128.436062200884,
          -6706.928622402274,
          -2750.969230123109,
          -3452.379172820101,
          -1449.1741728201068,
          653.6538827354465,
          2414.656938291008,
          4813.194993846565,
          -5368.720839486774,
          -1173.6613950423264,
          -1752.7775061534367,
          745.2663827354484,
          2557.879438291002,
          4377.84610495767,
          6767.130827179901,
          -5763.528061708988,
          -1532.426117264554,
          -2241.46417282011,
          19.32888273544833,
          1795.7766605132329,
          4032.1333271798903,
          6377.124716068776,
          -6184.4891728201,
          -1928.0238950423284,
          -2519.458895042329,
          -581.0736172645527,
          1519.4272160687865,
          3429.144648772989,
          5475.335069416248,
          -7034.5828584301535,
          -2590.6264619522185,
          -2979.7003357445733,
          -1480.400966293669,
          935.9994842383074,
          2569.6147996351574,
          5024.933358275246,
          -7178.636461463047,
          -2962.2573622824234,
          -1924.812587426105,
          430.6254306734275,
          2815.316151475679,
          5153.6828182238805,
          7149.4654309180105,
          -6001.939523955394,
          -1507.9128572072061,
          -1395.731325594154,
          316.51155737026653,
          2571.1984943887323,
          4647.334350326115,
          7003.948584641885,
          -5634.493937799109,
          -1446.9686224022605,
          -1326.4192301231099,
          474.6508271798981,
          2836.445827179896,
          4946.193882735447,
          7207.676938291001,
          -5195.175006153434,
          -1060.9508394867735,
          -1003.541395042331,
          1020.4524938465593,
          3493.0763827354567,
          5476.339438291012,
          7389.666104957673,
          -5442.209172820107,
          -653.8980617089943,
          -638.9961172645501,
          1711.1458271798979,
          3626.828882735448,
          1547.7166605132243,
          3708.4533271799082,
          -7712.155283931212,
          -3718.1591728201092,
          -3634.753895042324,
          -1491.4388950423288,
          339.87638273545167,
          2501.907216068779,
          4495.904648772973,
          -7378.954930583749,
          -3135.8728584301434,
          -3028.066461952228,
          -812.9903357445744,
          960.1290337063299,
          2870.61948423831,
          4863.944799635159,
          -6304.52664172476,
          -2452.966461463045,
          -2004.8073622824188,
          -139.37258742612087,
          2205.9254306734306,
          3718.1361514756823,
          6087.39281822388,
          -5610.204569081988,
          -1668.5295239554055,
          -1283.0328572072124,
          836.878674405854,
          2632.2215573702692,
          4141.888494388728,
          6305.224350326118,
          -5334.031415358111,
          -3075.643937799114,
          -2984.568622402274,
          -910.059230123102,
          728.3308271798911,
          2173.0458271798943,
          4281.7338827354515,
          -6672.833061709005,
          -2605.035006153431,
          -2279.8508394867677,
          -437.99139504233176,
          1186.4124938465584,
          2682.896382735453,
          4974.649438291002,
          -6193.753895042332,
          -1867.809172820109,
          -1741.3780617089938,
          210.34388273544636,
          1779.3458271798913,
          3516.8388827354574,
          5317.846660513225,
          -5431.346672820109,
          -1807.4452839312162,
          -1207.4091728201092,
          949.8261049576702,
          2497.8011049576694,
          4113.5663827354465,
          6048.217216068784,
          -4920.015351227022,
          -1122.894930583755,
          -988.5428584301526,
          -711.8264619522229,
          857.5496642554338,
          2046.699033706326,
          3718.019484238308,
          -6382.125200364837,
          -2773.766641724755,
          -2603.4664614630487,
          -822.017362282418,
          438.8874125738812,
          2050.4754306734335,
          4058.69615147568,
          -6058.837181776127,
          -2578.3045690819754,
          -2650.6095239553965,
          -628.582857207208,
          921.7686744058461,
          2409.821557370264,
          3879.0884943887318,
          -6630.875649673884,
          -2985.081415358122,
          -2575.6639377991073,
          -848.1886224022726,
          883.7907698768893,
          2101.3508271798987,
          4047.0758271798895,
          -6546.48611726455,
          -3017.433061708992,
          -2464.755006153443,
          -1180.9708394867666,
          935.4786049576694,
          2201.122493846561,
          6254.166382735453,
          -4938.070561708995,
          -1354.8338950423267,
          -1203.4491728201085,
          1021.4719382910083,
          2713.373882735456,
          4095.085827179893,
          6139.308882735448,
          -5215.063339486771,
          -1158.4166728201124,
          -739.6152839312143,
          1793.7408271798959,
          3780.2061049576714,
          5454.921104957675,
          7131.586382735451,
          -3612.6827839312214,
          96.61464877298302,
          -13.404930583757078,
          2333.627141569853,
          4553.943538047782,
          6289.36966425543,
          7623.24903370634,
          -3343.650515761694,
          640.134799635147,
          924.213358275241,
          3509.5635385369537,
          5470.082637717577,
          6946.497412573885,
          8814.125430673432,
          -2260.883848524322,
          -5635.647181776118,
          -5172.874569081982,
          -3472.5195239554073,
          -2023.0028572072026,
          -507.68132559415096,
          940.5215573702613,
          -7439.491505611273,
          -4685.905649673876,
          -4361.851415358118,
          -2624.923937799124,
          -956.2986224022659,
          458.4907698768827,
          1346.4308271798895,
          -6090.90417282011,
          -3237.7861172645594,
          -2870.433061708992,
          -1239.0050061534396,
          439.58916051322024,
          1478.5086049576719,
          3018.0524938465614,
          -4617.893617264555,
          -2293.940561708998,
          -2160.613895042333,
          -73.16917282009868,
          1637.5319382910025,
          3054.9538827354395,
          3690.0358271798937,
          -4132.061117264548,
          -1459.9833394867728,
          -1621.6766728201108,
          -125.54528393122189,
          1252.9308271798945,
          2311.21610495767,
          3621.3011049576694,
          -4270.41361726456,
          -1601.7827839312163,
          -1748.0253512270237,
          -326.9849305837515,
          1120.2871415698492,
          2284.933538047783,
          3498.8496642554333,
          -4394.090966293678,
          -2094.070515761696,
          -2354.88520036485,
          -328.33664172475096,
          976.2535385369561,
          2258.032637717581,
          3122.487412573876,
          -4796.59456932657,
          -2183.62384852432,
          -1959.7971817761259,
          -810.8745690819785,
          631.2704760445902,
          1983.1771427927904,
          3025.7786744058553,
          -4732.778442629727,
          -2599.721505611266,
          -2594.4056496738863,
          -1398.9614153581192,
          259.15606220088875,
          1491.6613775977296,
          2576.980769876888,
          -3623.829172820109,
          -848.4941728201064,
          -1042.6761172645515,
          326.0869382910082,
          2306.3149938465604,
          3699.8191605132306,
          4529.438604957676,
          -3991.317506153441,
          -1167.8536172645506,
          -1825.3605617089927,
          -235.7638950423271,
          1235.2008271798893,
          2821.421938291002,
          3879.3538827354555,
          -4972.4541728201,
          -2396.881117264551,
          -2621.9533394867703,
          -1464.5066728201016,
          410.0947160687848,
          2059.750827179887,
          3406.3461049576745,
          -5530.608895042331,
          -3100.373617264545,
          -3466.4327839312177,
          -1981.0153512270217,
          -587.3749305837473,
          1074.2271415698478,
          2499.693538047774,
          -6386.0903357445695,
          -151.9809662936634,
          -379.79051576168615,
          1618.184799635157,
          3405.7733582752385,
          5330.533538536958,
          6622.402637717577,
          -4006.5925874261147,
          -857.7745693265631,
          -836.363848524307,
          751.3728182238832,
          2705.515430918028,
          4020.880476044594,
          5587.447142792802,
          -4657.691325594145,
          -1813.4784426297388,
          -2555.291505611262,
          -762.2556496738814,
          1053.6785846418838,
          2774.1160622008915,
          4310.981377597736,
          -6020.679230123112,
          -3126.2991728201027,
          -3469.6541728201028,
          -1964.1261172645486,
          -444.64306170899135,
          1651.794993846567,
          3434.659160513238,
          -6804.281395042325,
          -4031.487506153432,
          -3939.0736172645484,
          -2746.9105617089954,
          3784.4461049576757,
          5242.050827179895,
          8013.531938291006,
          -4248.226117264549,
          -689.6541728201014,
          -1064.9411172645484,
          973.5866605132342,
          2892.9333271798896,
          4975.594716068785,
          7480.930827179891,
          -4647.613895042328,
          -1326.3788950423311,
          -1785.4736172645578,
          243.95721606878539,
          2028.3446487729861,
          3789.055069416242,
          6360.307141569857,
          -5717.566461952231,
          -2046.0403357445664,
          -2761.070966293678,
          -1001.8405157617,
          1011.1947996351593,
          2948.0933582752455,
          5282.323538536948,
          -6820.527362282423,
          -2940.532587426117,
          -3499.6245693265723,
          -1350.4038485243152,
          1094.042818223878,
          2972.085430918024,
          7133.230476044597,
          -5361.372857207209,
          -1357.30132559415,
          -1308.4084426297354,
          227.9584943887309,
          2452.4443503261123,
          4385.13858464188,
          7197.44606220089,
          -5834.258622402265,
          -1971.209230123107,
          -2572.6591728201033,
          -12.0441728201057,
          1771.7238827354463,
          3499.8469382910066,
          6250.464993846562,
          -6138.450839486766,
          -2399.7313950423295,
          -2701.8475061534436,
          -545.4436172645471,
          1652.1694382910025,
          2972.326104957673,
          5479.3408271799,
          -6903.098061708995,
          -3131.666117264552,
          -3478.7941728201044,
          -1521.0711172645495,
          833.1666605132286,
          2913.8133271798906,
          5371.274716068785,
          -7542.419172820108,
          -3424.4238950423223,
          -1395.8088950423205,
          644.6963827354514,
          2755.37721606878,
          4929.174648772988,
          7536.005069416246,
          -5603.372858430154,
          -1431.7464619522248,
          -1911.080335744571,
          112.52903370633135,
          2191.9094842383074,
          4265.304799635149,
          6892.343358275239,
          -6669.596461463043,
          -2148.927362282418,
          -2648.4525874261153,
          -459.46456932657264,
          1854.0561514756803,
          3676.3828182238817,
          6086.575430918015,
          -7328.419523955401,
          -2973.1228572072127,
          -2701.411325594147,
          -889.7784426297343,
          1005.5284943887343,
          2946.094350326121,
          5598.388584641883,
          -8079.313937799116,
          -3544.928622402267,
          -3583.529230123114,
          -1737.9091728201033,
          3130.5158271798955,
          4917.543882735446,
          7568.336938291008,
          -6337.905006153441,
          -1799.5108394867711,
          -2081.041395042331,
          580.2824938465646,
          2836.256382735457,
          5198.389438291004,
          7885.496104957668,
          -6367.039172820094,
          -1674.9680617090012,
          -1068.3961172645515,
          558.5158271798932,
          3063.6388827354567,
          5158.296660513226,
          7909.763327179902,
          -6343.85528393122,
          -698.7291728200979,
          -882.383895042329,
          1539.3111049576676,
          3750.756382735456,
          5420.987216068781,
          8061.664648772993,
          -6008.7249305837495,
          -1017.6528584301532,
          -822.0864619522213,
          1602.4196642554364,
          3741.5190337063295,
          6368.559484238316,
          8732.614799635154,
          -8816.536641724744,
          -4166.066461463044,
          -4319.107362282418,
          -2230.46258742611,
          123.2554306734358,
          2601.0961514756814,
          4266.882818223881,
          -8051.61456908198,
          -3596.5995239554018,
          -3457.512857207205,
          -1371.1513255941377,
          849.0015573702718,
          2855.848494388734,
          4954.16435032612,
          -7485.75141535812,
          -2871.9939377991127,
          -2478.8386224022634,
          -494.94923012311597,
          1694.3008271798885,
          3781.2958271799052,
          5925.363882735456,
          -6504.093061708996,
          -1781.7850061534311,
          -1501.5208394867695,
          745.6486049576713,
          2638.0424938465558,
          4944.49638273544,
          6621.289438291013,
          -5891.62389504232,
          -1448.2791728201103,
          -699.2080617089956,
          -635.8961172645479,
          775.8358271798966,
          2324.0988827354595,
          4449.79666051323,
          -7458.3766728200935,
          -3259.5252839312107,
          -2703.519172820106,
          -703.5638950423292,
          1460.3111049576748,
          3112.5163827354545,
          4912.9572160687785,
          -6763.1653512270195,
          -2629.67493058375,
          -2404.042858430149,
          115.68353804777922,
          2139.2396642554327,
          3440.169033706331,
          5766.3194842383145,
          -6065.865200364842,
          -1941.8066417247594,
          -1566.6164614630393,
          662.1226377175777,
          2498.1174125738808,
          4258.215430673435,
          6260.546151475674,
          -5492.957181776119,
          -1395.384569081977,
          -820.7395239554082,
          1057.4871427927917,
          2953.858674405857,
          2059.9215573702627,
          3941.3584943887286,
          -7012.465649673888,
          -3308.961415358112,
          -2937.453937799119,
          -1025.1686224022685,
          878.1007698769015,
          2572.310827179894,
          4056.145827179893,
          -7101.836117264545,
          -2914.973061708993,
          -2908.3050061534386,
          -971.6708394867745,
          1027.2586049576719,
          2700.3524938465607,
          4790.50638273545,
          -6727.030561708991,
          -3283.073895042321,
          -2669.839172820104,
          -536.7180617089867,
          1267.7738827354467,
          2578.2058271798956,
          4181.0988827354595,
          -6882.533339486765,
          -2905.836672820107,
          -3421.7652839312123,
          -641.2891728201029,
          1401.2361049576773,
          2433.1011049576687,
          3941.086382735447,
          -6795.332783931208,
          -1319.0153512270108,
          -1045.7349305837479,
          679.4571415698438,
          3013.6935380477776,
          4820.319664255434,
          6332.339033706333,
          -5774.500515761692,
          -1557.365200364835,
          -985.2166417247629,
          1360.6535385369539,
          3764.4426377175846,
          5385.957412573888,
          7603.935430673439,
          -4421.753848524314,
          -129.62718177612038,
          65.43543091803006,
          2358.330476044595,
          4473.797142792793,
          6477.04867440586,
          8364.311557370269,
          -3658.6815056112614,
          44.87435032611967,
          551.7085846418827,
          3124.196062200897,
          5368.70137759773,
          7222.480769876885,
          8870.220827179897,
          -2675.7141728201077,
          1565.8038827354553,
          1642.1969382910088,
          -3984.3850061534404,
          -2598.160839486769,
          -1154.5013950423265,
          213.75249384655854,
          -7920.413617264545,
          -5439.480561708999,
          -5077.3438950423215,
          -2852.9991728200966,
          -928.3080617089942,
          561.0138827354592,
          1461.8558271799006,
          -6673.581117264555,
          -3875.313339486771,
          -3604.6166728200988,
          -1755.8352839312192,
          504.09082717989816,
          2115.3661049576713,
          2911.1711049576757,
          -5300.8536172645445,
          -2104.9527839312145,
          -2369.2953512270205,
          -57.61493058374529,
          1598.4771415698515,
          3554.433538047772,
          4484.349664255429,
          -4209.170966293662,
          -1673.9505157616861,
          -1583.7252003648537,
          417.4333582752495,
          1896.2935385369533,
          3413.642637717578,
          3104.9174125738873,
          -4974.354569326576,
          -2119.6538485243113,
          -2114.3471817761106,
          -540.9445690819782,
          789.1604760445969,
          2499.2071427927926,
          3405.2586744058476,
          -4736.41844262973,
          -2291.9715056112695,
          -2596.4156496738738,
          -1162.741415358118,
          830.2160622008864,
          2006.7413775977386,
          3197.250769876896,
          -5227.839172820103,
          -2453.304172820104,
          -2455.5861172645477,
          -1374.3530617089905,
          690.4949938465604,
          2198.4791605132305,
          3325.098604957676,
          -5202.1775061534345,
          -2285.6236172645476,
          -2576.350561708987,
          -1497.013895042327,
          361.2908271799041,
          1598.21193829101,
          3140.483882735453,
          -5269.304172820102,
          -2807.041117264551,
          -907.7733394867628,
          441.173327179906,
          2313.534716068787,
          4260.080827179896,
          5143.996104957676,
          -3834.0988950423284,
          -1315.0836172645475,
          -1553.6627839312137,
          -200.28535122701845,
          1490.9150694162536,
          3386.887141569855,
          4600.503538047787,
          -4715.350335744568,
          -2393.610966293664,
          -2464.900515761683,
          -1410.7552003648416,
          585.4233582752402,
          1982.8735385369514,
          3449.9126377175785,
          -5939.64258742611,
          -3108.824569326566,
          -3476.503848524317,
          -1700.8771817761167,
          -362.26456908197065,
          1258.0004760446043,
          2801.777142792796,
          -6514.4013255941445,
          -3996.598442629727,
          -253.03150561125977,
          1332.0243503261138,
          3208.5485846418865,
          5025.416062200888,
          7073.711377597736,
          -3755.75923012311,
          -969.8991728201084,
          -624.3041728200968,
          251.10388273545811,
          2364.066938291004,
          4455.074993846566,
          6276.509160513233,
          -4626.2913950423235,
          -1557.6775061534308,
          -2124.473617264546,
          -504.01056170898687,
          1028.2561049576698,
          3080.1808271798927,
          4693.98193829101,
          -6098.596117264541,
          -2877.4441728200986,
          -3169.2211172645475,
          -2046.2333394867765,
          -253.97667282009547,
          1828.7047160687816,
          3994.5908271799017,
          -6917.733895042316,
          -3686.1088950423195,
          -4211.97361726454,
          -2218.6327839312075,
          -898.7353512270155,
          5942.125069416253,
          8141.087141569852,
          -3875.296461952224,
          -511.480335744565,
          -1198.5009662936675,
          1154.7294842383178,
          3157.23479963516,
          5684.543358275247,
          7189.253538536956,
          -4915.24736228241,
          -1404.4225874261128,
          -1713.3245693265624,
          98.08615147568648,
          2125.362818223885,
          4408.4354309180335,
          6125.180476044601,
          -5707.662857207202,
          -2238.7913255941407,
          -2434.118442629738,
          -626.1215056112635,
          1064.0743503261203,
          3155.58858464188,
          5740.846062200895,
          -7059.098622402262,
          -3138.6592301231076,
          -3752.239172820098,
          -1550.8941728201007,
          762.7238827354535,
          2422.0369382910126,
          4964.614993846563,
          -5596.670839486775,
          -1008.3313950423319,
          -1727.3375061534343,
          692.4463827354523,
          3009.2094382910036,
          4956.836104957682,
          7106.6508271798975,
          -5910.398061708987,
          -1509.9561172645492,
          -2041.9041728201123,
          202.61888273545284,
          1879.0566605132353,
          4109.733327179889,
          6291.324716068788,
          -6522.579172820104,
          -1965.7738950423284,
          -2833.9588950423217,
          -534.4536172645501,
          2066.207216068789,
          4019.2446487729803,
          6162.295069416247,
          -7219.5228584301485,
          -2925.0864619522213,
          -3181.1003357445675,
          -1216.7609662936695,
          1210.8294842383054,
          2832.7147996351596,
          5224.11335827525,
          -7869.936461463039,
          -3821.7773622824166,
          -3579.732587426107,
          393.0754306734355,
          2770.8261514756846,
          5483.172818223882,
          7643.105430918035,
          -6554.999523955403,
          -1393.4928572072151,
          -1591.4113255941397,
          575.1615573702608,
          2170.7284943887457,
          4454.434350326117,
          6704.028584641876,
          -7175.663937799107,
          -2330.0986224022654,
          -2291.769230123112,
          -692.609172820093,
          1591.3458271798972,
          4223.593882735456,
          6165.9269382910115,
          -7306.585006153434,
          -2786.730839486765,
          -2864.4613950423145,
          -1284.8975061534284,
          1440.6663827354535,
          3219.7494382910118,
          5588.856104957676,
          -8097.4891728201055,
          -3328.178061708993,
          -3565.3861172645497,
          -1268.4241728201018,
          543.8388827354468,
          5717.946660513235,
          8061.883327179898,
          -6949.175283931205,
          -1538.9591728201012,
          -1736.8138950423292,
          529.7711049576814,
          3250.1863827354564,
          4989.967216068784,
          7848.024648772986,
          -6991.40493058375,
          -1498.3328584301462,
          -1440.9064619522283,
          655.5996642554294,
          3488.389033706332,
          5554.21948423832,
          8134.274799635157,
          -6411.5566417247555,
          -1543.4164614630495,
          -1141.6573622824064,
          1051.5174125738858,
          3603.7454306734267,
          6265.826151475691,
          8738.952818223881,
          -5961.604569081978,
          -943.0995239554015,
          -716.6928572071977,
          1598.90867440586,
          3617.2515573702644,
          6149.788494388722,
          8786.044350326132,
          -5655.511415358118,
          -4596.673937799109,
          -4523.608622402267,
          -2336.4892301231057,
          -276.41917282010525,
          1916.0358271799068,
          3949.81388273545,
          -8505.453061708986,
          -3721.2550061534394,
          -3690.800839486772,
          -1119.5813950423174,
          726.7624938465606,
          3259.1263827354596,
          5290.189438291014,
          -8021.453895042329,
          -3311.4591728200994,
          -2769.8480617089913,
          -183.28611726455102,
          1850.375827179901,
          4131.368882735453,
          6555.216660513239,
          -7126.436672820095,
          -2091.525283931218,
          -1737.0791728201038,
          787.23610495767,
          2635.541104957671,
          5374.706382735457,
          7478.387216068786,
          -5838.27535122702,
          -1568.2149305837547,
          -1473.352858430143,
          1199.0735380477786,
          666.7696642554386,
          2534.0790337063345,
          4292.209484238314,
          -7722.935200364842,
          -3695.046641724754,
          -3161.6664614630495,
          -852.9173622824231,
          1581.0074125738947,
          2995.36543067344,
          5502.886151475678,
          -6824.957181776115,
          -2782.034569081975,
          -2265.3995239554047,
          75.08714279279383,
          1823.0686744058453,
          4013.33155737027,
          5653.898494388737,
          -6703.705649673886,
          -2475.281415358126,
          -1547.9339377991114,
          328.28137759773585,
          2476.2807698768984,
          4030.8608271798935,
          6106.5858271799025,
          -5756.986117264546,
          -1850.4330617090031,
          -837.5150061534416,
          811.1291605132284,
          3014.418604957672,
          4587.012493846557,
          3964.5363827354486,
          -7129.090561708988,
          -3226.6738950423232,
          -3109.6091728200972,
          -1086.428061708993,
          906.3838827354546,
          2481.705827179899,
          4356.548882735449,
          -7051.793339486778,
          -3528.2766728200986,
          -2920.8952839312205,
          -643.5291728201081,
          1203.8361049576795,
          3104.451104957671,
          4427.856382735455,
          -6717.16278393121,
          -3075.075351227023,
          -3063.2749305837524,
          -651.1228584301434,
          1343.5235380477684,
          3213.889664255427,
          4476.059033706327,
          -6952.490515761687,
          -3594.0052003648525,
          -2980.8266417247564,
          -1057.4464614630447,
          1039.9126377175824,
          2656.377412573883,
          4374.74543067343,
          -7357.333848524323,
          -3454.737181776121,
          -1531.5845690819813,
          1230.7704760445902,
          3213.7071427927926,
          5180.5386744058505,
          6764.041557370262,
          -5693.67150561127,
          -1558.0056496738778,
          -1436.111415358117,
          1361.4960622008853,
          3516.251377597733,
          5190.450769876893,
          7339.740827179895,
          -4831.414172820108,
          -647.7061172645468,
          -541.5630617089932,
          2305.1849938465593,
          4568.899160513229,
          6811.518604957667,
          8079.332493846568,
          -3565.4136172645412,
          564.3894382910037,
          123.71610495767246,
          3238.2908271798933,
          5306.501938291003,
          7719.523882735454,
          9505.955827179892,
          -3011.5111172645447,
          1358.6866605132218,
          1526.1333271798942,
          4138.094716068788,
          -2451.7291728201017,
          -1292.1538950423258,
          540.6111049576742,
          -8631.823617264552,
          -5606.752783931213,
          -5400.335351227025,
          -4888.727017461543,
          -2888.8081380681224,
          -1295.5149343503758,
          123.30799909710032,
          -8992.98582421218,
          -6271.338566440381,
          -5851.346443803715,
          -4084.091077923806,
          -2247.7940904222773,
          -769.308184001827,
          287.00339809429806,
          -8200.481776566334,
          -5381.544248524265,
          -5138.230774536276,
          -3299.0213546023124,
          -1715.4195022359183,
          -304.93602824790133,
          966.5423106049799,
          -7762.247999190787,
          -4781.4842549325,
          -5206.701591755294,
          -3435.720550199711,
          -1255.2762654008825,
          245.5158572357816,
          1708.1920567547593
         ]
        }
       ],
       "layout": {
        "autosize": false,
        "height": 400,
        "template": {
         "data": {
          "bar": [
           {
            "error_x": {
             "color": "#2a3f5f"
            },
            "error_y": {
             "color": "#2a3f5f"
            },
            "marker": {
             "line": {
              "color": "#E5ECF6",
              "width": 0.5
             },
             "pattern": {
              "fillmode": "overlay",
              "size": 10,
              "solidity": 0.2
             }
            },
            "type": "bar"
           }
          ],
          "barpolar": [
           {
            "marker": {
             "line": {
              "color": "#E5ECF6",
              "width": 0.5
             },
             "pattern": {
              "fillmode": "overlay",
              "size": 10,
              "solidity": 0.2
             }
            },
            "type": "barpolar"
           }
          ],
          "carpet": [
           {
            "aaxis": {
             "endlinecolor": "#2a3f5f",
             "gridcolor": "white",
             "linecolor": "white",
             "minorgridcolor": "white",
             "startlinecolor": "#2a3f5f"
            },
            "baxis": {
             "endlinecolor": "#2a3f5f",
             "gridcolor": "white",
             "linecolor": "white",
             "minorgridcolor": "white",
             "startlinecolor": "#2a3f5f"
            },
            "type": "carpet"
           }
          ],
          "choropleth": [
           {
            "colorbar": {
             "outlinewidth": 0,
             "ticks": ""
            },
            "type": "choropleth"
           }
          ],
          "contour": [
           {
            "colorbar": {
             "outlinewidth": 0,
             "ticks": ""
            },
            "colorscale": [
             [
              0,
              "#0d0887"
             ],
             [
              0.1111111111111111,
              "#46039f"
             ],
             [
              0.2222222222222222,
              "#7201a8"
             ],
             [
              0.3333333333333333,
              "#9c179e"
             ],
             [
              0.4444444444444444,
              "#bd3786"
             ],
             [
              0.5555555555555556,
              "#d8576b"
             ],
             [
              0.6666666666666666,
              "#ed7953"
             ],
             [
              0.7777777777777778,
              "#fb9f3a"
             ],
             [
              0.8888888888888888,
              "#fdca26"
             ],
             [
              1,
              "#f0f921"
             ]
            ],
            "type": "contour"
           }
          ],
          "contourcarpet": [
           {
            "colorbar": {
             "outlinewidth": 0,
             "ticks": ""
            },
            "type": "contourcarpet"
           }
          ],
          "heatmap": [
           {
            "colorbar": {
             "outlinewidth": 0,
             "ticks": ""
            },
            "colorscale": [
             [
              0,
              "#0d0887"
             ],
             [
              0.1111111111111111,
              "#46039f"
             ],
             [
              0.2222222222222222,
              "#7201a8"
             ],
             [
              0.3333333333333333,
              "#9c179e"
             ],
             [
              0.4444444444444444,
              "#bd3786"
             ],
             [
              0.5555555555555556,
              "#d8576b"
             ],
             [
              0.6666666666666666,
              "#ed7953"
             ],
             [
              0.7777777777777778,
              "#fb9f3a"
             ],
             [
              0.8888888888888888,
              "#fdca26"
             ],
             [
              1,
              "#f0f921"
             ]
            ],
            "type": "heatmap"
           }
          ],
          "heatmapgl": [
           {
            "colorbar": {
             "outlinewidth": 0,
             "ticks": ""
            },
            "colorscale": [
             [
              0,
              "#0d0887"
             ],
             [
              0.1111111111111111,
              "#46039f"
             ],
             [
              0.2222222222222222,
              "#7201a8"
             ],
             [
              0.3333333333333333,
              "#9c179e"
             ],
             [
              0.4444444444444444,
              "#bd3786"
             ],
             [
              0.5555555555555556,
              "#d8576b"
             ],
             [
              0.6666666666666666,
              "#ed7953"
             ],
             [
              0.7777777777777778,
              "#fb9f3a"
             ],
             [
              0.8888888888888888,
              "#fdca26"
             ],
             [
              1,
              "#f0f921"
             ]
            ],
            "type": "heatmapgl"
           }
          ],
          "histogram": [
           {
            "marker": {
             "pattern": {
              "fillmode": "overlay",
              "size": 10,
              "solidity": 0.2
             }
            },
            "type": "histogram"
           }
          ],
          "histogram2d": [
           {
            "colorbar": {
             "outlinewidth": 0,
             "ticks": ""
            },
            "colorscale": [
             [
              0,
              "#0d0887"
             ],
             [
              0.1111111111111111,
              "#46039f"
             ],
             [
              0.2222222222222222,
              "#7201a8"
             ],
             [
              0.3333333333333333,
              "#9c179e"
             ],
             [
              0.4444444444444444,
              "#bd3786"
             ],
             [
              0.5555555555555556,
              "#d8576b"
             ],
             [
              0.6666666666666666,
              "#ed7953"
             ],
             [
              0.7777777777777778,
              "#fb9f3a"
             ],
             [
              0.8888888888888888,
              "#fdca26"
             ],
             [
              1,
              "#f0f921"
             ]
            ],
            "type": "histogram2d"
           }
          ],
          "histogram2dcontour": [
           {
            "colorbar": {
             "outlinewidth": 0,
             "ticks": ""
            },
            "colorscale": [
             [
              0,
              "#0d0887"
             ],
             [
              0.1111111111111111,
              "#46039f"
             ],
             [
              0.2222222222222222,
              "#7201a8"
             ],
             [
              0.3333333333333333,
              "#9c179e"
             ],
             [
              0.4444444444444444,
              "#bd3786"
             ],
             [
              0.5555555555555556,
              "#d8576b"
             ],
             [
              0.6666666666666666,
              "#ed7953"
             ],
             [
              0.7777777777777778,
              "#fb9f3a"
             ],
             [
              0.8888888888888888,
              "#fdca26"
             ],
             [
              1,
              "#f0f921"
             ]
            ],
            "type": "histogram2dcontour"
           }
          ],
          "mesh3d": [
           {
            "colorbar": {
             "outlinewidth": 0,
             "ticks": ""
            },
            "type": "mesh3d"
           }
          ],
          "parcoords": [
           {
            "line": {
             "colorbar": {
              "outlinewidth": 0,
              "ticks": ""
             }
            },
            "type": "parcoords"
           }
          ],
          "pie": [
           {
            "automargin": true,
            "type": "pie"
           }
          ],
          "scatter": [
           {
            "fillpattern": {
             "fillmode": "overlay",
             "size": 10,
             "solidity": 0.2
            },
            "type": "scatter"
           }
          ],
          "scatter3d": [
           {
            "line": {
             "colorbar": {
              "outlinewidth": 0,
              "ticks": ""
             }
            },
            "marker": {
             "colorbar": {
              "outlinewidth": 0,
              "ticks": ""
             }
            },
            "type": "scatter3d"
           }
          ],
          "scattercarpet": [
           {
            "marker": {
             "colorbar": {
              "outlinewidth": 0,
              "ticks": ""
             }
            },
            "type": "scattercarpet"
           }
          ],
          "scattergeo": [
           {
            "marker": {
             "colorbar": {
              "outlinewidth": 0,
              "ticks": ""
             }
            },
            "type": "scattergeo"
           }
          ],
          "scattergl": [
           {
            "marker": {
             "colorbar": {
              "outlinewidth": 0,
              "ticks": ""
             }
            },
            "type": "scattergl"
           }
          ],
          "scattermapbox": [
           {
            "marker": {
             "colorbar": {
              "outlinewidth": 0,
              "ticks": ""
             }
            },
            "type": "scattermapbox"
           }
          ],
          "scatterpolar": [
           {
            "marker": {
             "colorbar": {
              "outlinewidth": 0,
              "ticks": ""
             }
            },
            "type": "scatterpolar"
           }
          ],
          "scatterpolargl": [
           {
            "marker": {
             "colorbar": {
              "outlinewidth": 0,
              "ticks": ""
             }
            },
            "type": "scatterpolargl"
           }
          ],
          "scatterternary": [
           {
            "marker": {
             "colorbar": {
              "outlinewidth": 0,
              "ticks": ""
             }
            },
            "type": "scatterternary"
           }
          ],
          "surface": [
           {
            "colorbar": {
             "outlinewidth": 0,
             "ticks": ""
            },
            "colorscale": [
             [
              0,
              "#0d0887"
             ],
             [
              0.1111111111111111,
              "#46039f"
             ],
             [
              0.2222222222222222,
              "#7201a8"
             ],
             [
              0.3333333333333333,
              "#9c179e"
             ],
             [
              0.4444444444444444,
              "#bd3786"
             ],
             [
              0.5555555555555556,
              "#d8576b"
             ],
             [
              0.6666666666666666,
              "#ed7953"
             ],
             [
              0.7777777777777778,
              "#fb9f3a"
             ],
             [
              0.8888888888888888,
              "#fdca26"
             ],
             [
              1,
              "#f0f921"
             ]
            ],
            "type": "surface"
           }
          ],
          "table": [
           {
            "cells": {
             "fill": {
              "color": "#EBF0F8"
             },
             "line": {
              "color": "white"
             }
            },
            "header": {
             "fill": {
              "color": "#C8D4E3"
             },
             "line": {
              "color": "white"
             }
            },
            "type": "table"
           }
          ]
         },
         "layout": {
          "annotationdefaults": {
           "arrowcolor": "#2a3f5f",
           "arrowhead": 0,
           "arrowwidth": 1
          },
          "autotypenumbers": "strict",
          "coloraxis": {
           "colorbar": {
            "outlinewidth": 0,
            "ticks": ""
           }
          },
          "colorscale": {
           "diverging": [
            [
             0,
             "#8e0152"
            ],
            [
             0.1,
             "#c51b7d"
            ],
            [
             0.2,
             "#de77ae"
            ],
            [
             0.3,
             "#f1b6da"
            ],
            [
             0.4,
             "#fde0ef"
            ],
            [
             0.5,
             "#f7f7f7"
            ],
            [
             0.6,
             "#e6f5d0"
            ],
            [
             0.7,
             "#b8e186"
            ],
            [
             0.8,
             "#7fbc41"
            ],
            [
             0.9,
             "#4d9221"
            ],
            [
             1,
             "#276419"
            ]
           ],
           "sequential": [
            [
             0,
             "#0d0887"
            ],
            [
             0.1111111111111111,
             "#46039f"
            ],
            [
             0.2222222222222222,
             "#7201a8"
            ],
            [
             0.3333333333333333,
             "#9c179e"
            ],
            [
             0.4444444444444444,
             "#bd3786"
            ],
            [
             0.5555555555555556,
             "#d8576b"
            ],
            [
             0.6666666666666666,
             "#ed7953"
            ],
            [
             0.7777777777777778,
             "#fb9f3a"
            ],
            [
             0.8888888888888888,
             "#fdca26"
            ],
            [
             1,
             "#f0f921"
            ]
           ],
           "sequentialminus": [
            [
             0,
             "#0d0887"
            ],
            [
             0.1111111111111111,
             "#46039f"
            ],
            [
             0.2222222222222222,
             "#7201a8"
            ],
            [
             0.3333333333333333,
             "#9c179e"
            ],
            [
             0.4444444444444444,
             "#bd3786"
            ],
            [
             0.5555555555555556,
             "#d8576b"
            ],
            [
             0.6666666666666666,
             "#ed7953"
            ],
            [
             0.7777777777777778,
             "#fb9f3a"
            ],
            [
             0.8888888888888888,
             "#fdca26"
            ],
            [
             1,
             "#f0f921"
            ]
           ]
          },
          "colorway": [
           "#636efa",
           "#EF553B",
           "#00cc96",
           "#ab63fa",
           "#FFA15A",
           "#19d3f3",
           "#FF6692",
           "#B6E880",
           "#FF97FF",
           "#FECB52"
          ],
          "font": {
           "color": "#2a3f5f"
          },
          "geo": {
           "bgcolor": "white",
           "lakecolor": "white",
           "landcolor": "#E5ECF6",
           "showlakes": true,
           "showland": true,
           "subunitcolor": "white"
          },
          "hoverlabel": {
           "align": "left"
          },
          "hovermode": "closest",
          "mapbox": {
           "style": "light"
          },
          "paper_bgcolor": "white",
          "plot_bgcolor": "#E5ECF6",
          "polar": {
           "angularaxis": {
            "gridcolor": "white",
            "linecolor": "white",
            "ticks": ""
           },
           "bgcolor": "#E5ECF6",
           "radialaxis": {
            "gridcolor": "white",
            "linecolor": "white",
            "ticks": ""
           }
          },
          "scene": {
           "xaxis": {
            "backgroundcolor": "#E5ECF6",
            "gridcolor": "white",
            "gridwidth": 2,
            "linecolor": "white",
            "showbackground": true,
            "ticks": "",
            "zerolinecolor": "white"
           },
           "yaxis": {
            "backgroundcolor": "#E5ECF6",
            "gridcolor": "white",
            "gridwidth": 2,
            "linecolor": "white",
            "showbackground": true,
            "ticks": "",
            "zerolinecolor": "white"
           },
           "zaxis": {
            "backgroundcolor": "#E5ECF6",
            "gridcolor": "white",
            "gridwidth": 2,
            "linecolor": "white",
            "showbackground": true,
            "ticks": "",
            "zerolinecolor": "white"
           }
          },
          "shapedefaults": {
           "line": {
            "color": "#2a3f5f"
           }
          },
          "ternary": {
           "aaxis": {
            "gridcolor": "white",
            "linecolor": "white",
            "ticks": ""
           },
           "baxis": {
            "gridcolor": "white",
            "linecolor": "white",
            "ticks": ""
           },
           "bgcolor": "#E5ECF6",
           "caxis": {
            "gridcolor": "white",
            "linecolor": "white",
            "ticks": ""
           }
          },
          "title": {
           "x": 0.05
          },
          "xaxis": {
           "automargin": true,
           "gridcolor": "white",
           "linecolor": "white",
           "ticks": "",
           "title": {
            "standoff": 15
           },
           "zerolinecolor": "white",
           "zerolinewidth": 2
          },
          "yaxis": {
           "automargin": true,
           "gridcolor": "white",
           "linecolor": "white",
           "ticks": "",
           "title": {
            "standoff": 15
           },
           "zerolinecolor": "white",
           "zerolinewidth": 2
          }
         }
        },
        "title": {
         "text": "<span>Gráfico de resíduos</span>"
        },
        "width": 1300,
        "xaxis": {
         "title": {
          "text": "<span>Período</span>"
         }
        },
        "yaxis": {
         "title": {
          "text": "<span>Quantidade de vendas</span>"
         }
        }
       }
      }
     },
     "metadata": {},
     "output_type": "display_data"
    }
   ],
   "source": [
    "df_decomposicao = seasonal_decompose(df_date[['sales']], period=50, extrapolate_trend=50)\n",
    "timeSerie(df_decomposicao.trend.index, df_decomposicao.trend.values, 'Período', 'Quantidade de vendas', 'Linha de tendência')\n",
    "timeSerie(df_decomposicao.seasonal.index, df_decomposicao.seasonal.values, 'Período', 'Quantidade de vendas', 'Gráfico de sazonalidade')\n",
    "timeSerie(df_decomposicao.resid.index, df_decomposicao.resid.values, 'Período', 'Quantidade de vendas', 'Gráfico de resíduos')"
   ]
  },
  {
   "cell_type": "code",
   "execution_count": null,
   "metadata": {},
   "outputs": [],
   "source": []
  }
 ],
 "metadata": {
  "interpreter": {
   "hash": "ad2bdc8ecc057115af97d19610ffacc2b4e99fae6737bb82f5d7fb13d2f2c186"
  },
  "kernelspec": {
   "display_name": "Python 3.9.7 ('base')",
   "language": "python",
   "name": "python3"
  },
  "language_info": {
   "codemirror_mode": {
    "name": "ipython",
    "version": 3
   },
   "file_extension": ".py",
   "mimetype": "text/x-python",
   "name": "python",
   "nbconvert_exporter": "python",
   "pygments_lexer": "ipython3",
   "version": "3.9.7"
  },
  "orig_nbformat": 4
 },
 "nbformat": 4,
 "nbformat_minor": 2
}

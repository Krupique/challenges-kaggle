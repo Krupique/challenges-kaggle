{
 "cells": [
  {
   "cell_type": "markdown",
   "metadata": {},
   "source": [
    "<h1 style=\"font-weight:bold\">Qual o Efeito da Legalização da Maconha na Taxa de Criminalidade ao Longo do Tempo?</h1>"
   ]
  },
  {
   "cell_type": "markdown",
   "metadata": {},
   "source": [
    "<hr/>\n",
    "<h2>Parte 1 - Definição do Problema, Coleta, Pipeline e Limpeza de Dados</h2>\n",
    "<hr/>"
   ]
  },
  {
   "cell_type": "markdown",
   "metadata": {},
   "source": [
    "<h2>1) INTRODUÇÃO</h2>"
   ]
  },
  {
   "cell_type": "markdown",
   "metadata": {},
   "source": [
    "<h3>1.1)  Definição do Problema </h3>\n",
    "\n",
    "Em 2016, os eleitores da Califórnia nos EUA aprovaram a Proposição 64, que legalizou o uso recreativo da maconha no estado. Neste link você encontra os detalhes sobre a aprovação da Proposição 64:\n",
    "\n",
    "<a href=\"https://ballotpedia.org/California_Proposition_64,_Marijuana_Legalization_(2016)\">California Proposition 64, Marijuana Legalization (2016)</a>\n",
    "\n",
    "Os opositores à medida apresentaram cinco principais objeções à mudança no Guia Oficial de Informações do Eleitor do estado. Eles argumentaram que a legalização:\n",
    "\n",
    "- (1) Dobraria o número de mortes nas rodovias.\n",
    "- (2) Permitiria o cultivo de maconha perto de escolas e parques.\n",
    "- (3) Aumentaria a atividade do mercado negro e do cartel.\n",
    "- (4) Prejudicaria as comunidades pobres com problemas de dependência por meio do influxo de novos pontos de vendas de maconha.\n",
    "- (5) Aumentaria a criminalidade ao longo do tempo, especialmente nas áreas próximas aos pontos de venda de maconha legalizada (cada ponto de venda de maconha legalizada é chamado de marijuana dispensary). \n",
    "\n",
    "\n",
    "Vamos realizar uma análise de dados com base em séries temporais e análises geoespaciais, além de outras técnicas exploratórias mais gerais, para examinar se essas previsões se tornaram realidade em Los Angeles desde que a legalização entrou em vigor. Nosso foco principal será nos dados disponíveis sobre detenções por crimes relacionados à maconha e na taxa geral de crimes nas proximidades de dispensários. Vamos focar principalmente nos itens 2, 4 e 5 acima.\n",
    "\n",
    "Os dados usados neste projeto estão disponíveis publicamente e são oferecidos pelo portal de dados abertos do governo de Los Angeles.\n",
    "\n",
    "Você é favor ou contra à legalização da Maconha? Vamos emitir uma opinião com base nos dados."
   ]
  },
  {
   "cell_type": "markdown",
   "metadata": {},
   "source": [
    "<h3>1.2) Divisão do Projeto Final</h3>\n",
    "\n",
    "Neste projeto iremos trabalhar com dados de 4 fontes diferentes. Teremos que extrair, limpar, organizar, relacionar e explorar os dados e definir um Pipeline de Dados. Aplicaremos Modelagem Estatística, iremos validar suposições e hipóteses e identificar as variáveis relevantes para nossa análise durante a Modelagem Preditiva. Por fim, vamos construir um modelo de Análise de Séries Temporais, interpretar as estatísticas e emitir nossa conclusão através de um Sumário Executivo.\n",
    "\n",
    "Como este é um projeto extenso, que envolve muito trabalho e muitas etapas, será dividido em 3 etapas:\n",
    "* **Parte 1**: Definição do Problema, Coleta, Pipeline e Limpeza de Dados.\n",
    "* **Parte 2**: Análise Exploratória com Geolocalização e Modelagem Estatística.\n",
    "* **Parte 3**: Modelagem Preditiva, Análise de Séries Temporais, Conclusões Finais e Apresentação do Sumário Executivo do Projeto. \n",
    "\n",
    "Trabalharemos com dados reais disponíveis publicamente e de diferentes fontes, totalizando cerca de 4 milhões de registros."
   ]
  },
  {
   "cell_type": "markdown",
   "metadata": {},
   "source": [
    "<h3>1.3) Fontes de Dados</h3>\n",
    "\n",
    "Os dados necessários para nosso trabalho não podem ser encontrados em uma única fonte. Precisamos dos seguintes dados:\n",
    "1. Dados sobre lojas que vendem maconha legalizada em Los Angeles. Esses dados serão coletados do Yelp via API.\n",
    "2. Dados sobre os crimes em Los Angeles. O portal <a href=\"https://data.lacity.org/\">Los Angeles Open Data</a> fornece esses dados com fácil acesso para download no formato csv ou via API. Faremos o download do arquivo com os crimes entre 2010 e 2019.\n",
    "3. Dados sobre prisões em Los Angeles. O mesmo portal no item 2 fornece os dados e faremos o download.\n",
    "4. Dados demográficos de escolas em Los Angeles. Esses dados estão disponíveis publicamente no <a href=\"http://www.lausd.k12.ca.us/lausd/offices/bulletins/\">School Information Branch</a>, de onde faremos o download.\n",
    "\n",
    "Para cada conjunto de dados, teremos que fazer o download, limpar os dados e deixá-los organizados para as Partes 2 e 3 do nosso projeto."
   ]
  },
  {
   "cell_type": "markdown",
   "metadata": {},
   "source": [
    "<h3>1.4) Carregando os Pacotes Usados Neste Jupyter Notebook</h3>"
   ]
  },
  {
   "cell_type": "code",
   "execution_count": 15,
   "metadata": {},
   "outputs": [],
   "source": [
    "# Instala o pacote yelp\n",
    "#!pip install -q yelp\n",
    "# Instala o pacote yelpapi\n",
    "#!pip install -q yelpapi\n",
    "\n",
    "import warnings\n",
    "warnings.filterwarnings(\"ignore\")\n",
    "\n",
    "# Imports para manipulação de dados\n",
    "import re\n",
    "import json\n",
    "import time\n",
    "import numpy as np\n",
    "import pandas as pd\n",
    "from yelp.client import Client\n",
    "from yelpapi import YelpAPI"
   ]
  },
  {
   "cell_type": "markdown",
   "metadata": {},
   "source": [
    "<hr/>\n",
    "\n",
    "<h2>2) DATASET 1 - LOJAS QUE VENDEM MACONHA EM LOS ANGELES</h2>"
   ]
  },
  {
   "cell_type": "markdown",
   "metadata": {},
   "source": [
    "Vamos coletar os dados utilizando o <a target=\"blank\" href=\"https://www.yelp.com/\">Yelp</a>. O Yelp é serviço que contém avaliações (reviews) e informações sobre empresas em várias regiões do mundo. Nosso objetivo é buscar as lojas de venda de maconha legalizada (chamadas dispensários) na região de Los Angeles. \n",
    "\n",
    "Vamos cruzar esses dados com a taxa de crimes e prisões nas mesmas regiões, além de dados sobre escolas. \n",
    "\n",
    "Para usar o Yelp, é ncessário instalar os pacotes yelp e yelpapi. Depois isso, acessamos os endereços abaixo, vamos criar uma conta Yelp e então criar uma app para obter a API de acesso. O processo é bem simples.\n",
    "\n",
    "Aqui tem os detalhes da API:\n",
    "> https://www.yelp.com/developers/documentation/v3/get_started\n",
    "\n",
    "E aqui o cadastro da app:\n",
    "> https://www.yelp.com/developers/documentation/v3/authentication\n",
    "\n",
    "Ao criar a conta, é necessário confirmar por e-mail antes de criar a app. Assim que a app é criada, é gerada uma API (uma chave). Lembre-se de copiar e salvar em um local seguro na sua máquina e então inserir a API na célula abaixo onde está 'sua_api_key'.\n",
    "\n",
    "Não é possível seguir adiante se não criarmos a API. \n",
    "\n",
    "Não exagere no número de solicitações à API (execuções do código mais abaixo) pois há um limite de 5000 chamadas diárias da API na conta gratuita que você irá criar. Se ultrapassar o limite diário, sua conta pode ser bloqueada."
   ]
  },
  {
   "cell_type": "code",
   "execution_count": null,
   "metadata": {},
   "outputs": [],
   "source": [
    "# Aqui você deve incluir sua API Yelp\n",
    "# client_id = S3Q8rdxLg5kyCv0Mw38vXA\n",
    "minha_api = \"QUexjUmHdWUOjabZGlGZfE0ZnK0rMWik3zkYTxprTdI9CYMEdhFgcOjW2jDteGPDwxXKqWl1Qqz6lesAGKa6mhjDNsDPmYLPA221gkSA1qYFQejz_Qoe5McOUs6pYnYx\"\n",
    "\n",
    "# Com a API definida, criamos um cliente de acesso\n",
    "cliente_acesso = Client(minha_api)"
   ]
  },
  {
   "cell_type": "markdown",
   "metadata": {},
   "source": [
    "A função abaixo é para formatar o arquivo retornado com as consultas da API e gerar um arquivo de log da execução (uma espécie de histórico). Usaremos expressões regulares para limpar e formatar o arquivo."
   ]
  },
  {
   "cell_type": "code",
   "execution_count": null,
   "metadata": {},
   "outputs": [],
   "source": [
    "# Função para formatar o arquivo com as consultas à API\n",
    "def formata_arquivo(file_path, logfile = './dados/arquivo_log.txt', file_description = None): \n",
    "   \n",
    "    # Com o nome completo do arquivo, aplicamos expressões regulares para a limpeza\n",
    "    # Aqui ajustamos a extensão do arquivo\n",
    "    try:\n",
    "        ext = re.search('(?<!^)(?<!\\.)\\.(?!\\.)', file_path).start() \n",
    "    except:\n",
    "        raise NameError('Digite um caminho de onde o arquivo pode ser encontrado.') \n",
    "    \n",
    "    # Com o nome completo do arquivo, aplicamos expressões regulares para a limpeza\n",
    "    # Aqui ajustamos timestamp para o nome do arquivo\n",
    "    try:\n",
    "        stamp = re.search('(?<!^)(?<!\\.)[a-z]+_[a-z]+(?=\\.)', file_path).start()\n",
    "    except:\n",
    "        raise NameError('Digite um caminho de onde o arquivo pode ser encontrado.') \n",
    "        \n",
    "    # Formata o nome do arquivo adicionando o timestamp\n",
    "    formatted_name = f'{file_path[:stamp]}{round(time.time())}_{file_path[stamp:]}' \n",
    "    \n",
    "    # Se não tiver descrição no arquivo, adicionamos uma\n",
    "    if not file_description:\n",
    "        file_description = f'Arquivo gerado em: {time.asctime(time.gmtime(round(time.time())))}'\n",
    "        \n",
    "    # Abrimos o arquivo de log e gravamos o arquivo de dados formatado e a descrição\n",
    "    with open(logfile, 'a+') as f:\n",
    "        f.write(f'{formatted_name}: {file_description}\\n')\n",
    "        \n",
    "    # Retornamos o arquivo de dados formatado e a descrição\n",
    "    return formatted_name, file_description"
   ]
  },
  {
   "cell_type": "markdown",
   "metadata": {},
   "source": [
    "A próxima função vai conectar ao Yelp com via API e retornar 1000 amostras, ou seja, 1000 registros de lojas que estão classificadas como \"dispensaries\" (lojas que vendem maconha legalizada em Los Angeles)."
   ]
  },
  {
   "cell_type": "code",
   "execution_count": null,
   "metadata": {},
   "outputs": [],
   "source": [
    "# Função de busca das lojas que vendem maconha legalizada em Los Angeles\n",
    "def busca_yelp(category, location, offset_number = 0, n_samples = 1000):\n",
    "    \n",
    "    yelp_api = YelpAPI(minha_api) # API\n",
    "    last_result = round(time.time()) # Registro do último resultado\n",
    "    resultados = [] # Lista para gravar os resultados\n",
    "    size = 50 # Tamanho\n",
    "    loops = 0 # Inicializa o número de loops\n",
    "    run = 1 # Inicializa o número de execuções\n",
    "    offset_count = offset_number # Inicializa o offset\n",
    "   \n",
    "    # Loop para retonar os dados\n",
    "    while loops < n_samples:\n",
    "        print(f'Iniciando consulta {run}')\n",
    "        \n",
    "        posts = yelp_api.search_query(categories = category, location = location, offset = offset_count, limit = size) # Fazendo a consulta\n",
    "        resultados.extend(posts['businesses']) # Posts ligados a business\n",
    "        \n",
    "        loops += size # Incrementa o número de loops\n",
    "        offset_count += 50 # Incrementa o offset\n",
    "        time.sleep(3) # Aguarda 3 segundos para executar a próxima consulta \n",
    "        run += 1 # Incrementa o número de execuções\n",
    "       \n",
    "    # Finalizado o loop, vamos retornar o nome do arquivo formatado e a descrição\n",
    "    formatted_name, file_description = formata_arquivo(file_path =f'./dados/arquivo_{category}.json')\n",
    "    \n",
    "    # Abrimos o arquivo formatado e fazemos o dump (gravação) dos resultados da consulta em formato JSON\n",
    "    with open(formatted_name, 'w+') as f:\n",
    "        json.dump(resultados, f)\n",
    "    \n",
    "    print(f'\\nConsulta concluída. Encontramos esse número de lojas: {len(resultados)} {category}s.')\n",
    "    \n",
    "    return print(f'\\nEsse foi o último timestamp {round(time.time())}.')"
   ]
  },
  {
   "cell_type": "code",
   "execution_count": null,
   "metadata": {},
   "outputs": [],
   "source": [
    "# Executamos a busca com o tipo de estabelecimento e a cidade\n",
    "busca_yelp('cannabisdispensaries', 'los angeles', n_samples = 1000)"
   ]
  },
  {
   "cell_type": "markdown",
   "metadata": {},
   "source": [
    "A última linha acima o número do timestamp. Esse código representa o momento exato (hora, minuto, segundo) que o arquivo foi gerado. Pegamos o código e incluímos como prefixo no nome do arquivo na célula abaixo.\n",
    "\n",
    "Isso tem que ser feito cada vez que executar este Jupyter Notebook. Mas é claro que poderíamos automatizar esse processo de outra forma."
   ]
  },
  {
   "cell_type": "code",
   "execution_count": null,
   "metadata": {},
   "outputs": [],
   "source": [
    "# Abre o arquivo JSON para leitura e geração da lista final\n",
    "with open(f'dados/1655350078_arquivo_cannabisdispensaries.json', 'r') as f:\n",
    "    lista_lojas_la = json.load(f)"
   ]
  },
  {
   "cell_type": "code",
   "execution_count": null,
   "metadata": {},
   "outputs": [],
   "source": [
    "# Vamos visualizar um registro da lista\n",
    "lista_lojas_la[0]"
   ]
  },
  {
   "cell_type": "markdown",
   "metadata": {},
   "source": [
    "Dados extraídos com sucesso! Vamos organizar e limpar esses dados."
   ]
  },
  {
   "cell_type": "code",
   "execution_count": null,
   "metadata": {},
   "outputs": [],
   "source": [
    "# Essa função vai organizar os dados da lista de lojas em um dataframe do pandas\n",
    "def organiza_dados(lista_lojas, df):\n",
    "    \n",
    "    # Converte a lista de lojas em dataframe do pandas\n",
    "    df = pd.DataFrame(lista_lojas)\n",
    "    \n",
    "    # Lista com nos nomes de colunas que nos interessam\n",
    "    col_list = ['name',\n",
    "                'is_closed',\n",
    "                'url',\n",
    "                'rating',\n",
    "                'coordinates',\n",
    "                'location',\n",
    "                'price',\n",
    "                'review_count']\n",
    "    \n",
    "    # Define a lista de colunas acima como nome de cada coluna\n",
    "    df = df[col_list]\n",
    "\n",
    "    return df"
   ]
  },
  {
   "cell_type": "code",
   "execution_count": null,
   "metadata": {},
   "outputs": [],
   "source": [
    "# Aplica a função e cria nosso dataframe\n",
    "df_lojas = organiza_dados(lista_lojas_la, df = 'df_lojas')"
   ]
  },
  {
   "cell_type": "code",
   "execution_count": null,
   "metadata": {},
   "outputs": [],
   "source": [
    "# Shape\n",
    "df_lojas.shape"
   ]
  },
  {
   "cell_type": "code",
   "execution_count": null,
   "metadata": {},
   "outputs": [],
   "source": [
    "# Visualizamos uma amostra de dados\n",
    "df_lojas.head()"
   ]
  },
  {
   "cell_type": "markdown",
   "metadata": {},
   "source": [
    "Vamos extrair a lista de latitudes e longitudes de cada loja, pois usaremos geolocalização mais tarde. Em seguida vamos adicionar essas informações ao nosso DataFrame"
   ]
  },
  {
   "cell_type": "code",
   "execution_count": null,
   "metadata": {},
   "outputs": [],
   "source": [
    "# Extrai a lista de latitudes e longitudes\n",
    "lista_latitude = [lista_lojas_la[i]['coordinates']['latitude'] for i in range(len(lista_lojas_la))]\n",
    "lista_longitude = [lista_lojas_la[i]['coordinates']['longitude'] for i in range(len(lista_lojas_la))]\n",
    "\n",
    "\n",
    "# Adiciona latitude e longitude ao dataframe de lojas\n",
    "df_lojas['latitude'] = lista_latitude\n",
    "df_lojas['longitude'] = lista_longitude\n",
    "\n",
    "\n",
    "# Visualizamos uma amostra de dados\n",
    "df_lojas.head()"
   ]
  },
  {
   "cell_type": "code",
   "execution_count": null,
   "metadata": {},
   "outputs": [],
   "source": [
    "# Com latitude e longitude, a coluna location com o endereço completo não é mais necessária e removemos do dataframe\n",
    "df_lojas.drop('location', axis = 1, inplace = True)\n",
    "\n",
    "# E então criamos uma nova coluna location contendo uma tupla com latitude e longitude\n",
    "df_lojas['location'] = list(zip(df_lojas['latitude'], df_lojas['longitude']))\n",
    "\n",
    "# Visualizamos uma amostra de dados\n",
    "df_lojas.head()"
   ]
  },
  {
   "cell_type": "code",
   "execution_count": null,
   "metadata": {},
   "outputs": [],
   "source": [
    "# E removemos a coluna com as coordenadas\n",
    "df_lojas.drop(labels = ['coordinates'], axis = 1, inplace = True)\n",
    "\n",
    "# Conferimos o shape\n",
    "df_lojas.shape"
   ]
  },
  {
   "cell_type": "code",
   "execution_count": null,
   "metadata": {},
   "outputs": [],
   "source": [
    "# Visualizamos uma amostra de dados\n",
    "df_lojas.head()"
   ]
  },
  {
   "cell_type": "markdown",
   "metadata": {},
   "source": [
    "Por hora nosso primeiro dataset está concluído. Vamos salvá-lo em disco."
   ]
  },
  {
   "cell_type": "code",
   "execution_count": null,
   "metadata": {},
   "outputs": [],
   "source": [
    "# Salva o dataframe de lojas em um arquivo csv\n",
    "df_lojas.to_csv('dados/df_lojas.csv')"
   ]
  },
  {
   "cell_type": "markdown",
   "metadata": {},
   "source": [
    "<hr/>\n",
    "\n",
    "<h2>3) DATASET 2 - CRIMES EM LOS ANGELES DE 2010 A 2019</h2>"
   ]
  },
  {
   "cell_type": "markdown",
   "metadata": {},
   "source": [
    "Nosso segundo dataset é sobre os crimes que ocorreram em Los Angeles entre 2010 e 2019. Para o download dos dados, siga os passos abaixo:\n",
    "\n",
    "1. Acesse o endereço: https://data.lacity.org/\n",
    "2. Descendo um pouco na página, use a caixa de busca de datasets e pesquise por \"Crime Data\".\n",
    "3. O que você precisa deve ser a primeira opção: \"Crime Data from 2010 to 2019\". Clique no nome do dataset.\n",
    "4. Na página seguinte clique no botão azul \"View Data\". Clique então em \"Export\" - \"Download\" - \"CSV\".\n",
    "5. Coloque o arquivo na pasta dados no mesmo diretório onde está este Jupyter Notebook. O arquivo tem mais de 2 milhões de registros."
   ]
  },
  {
   "cell_type": "code",
   "execution_count": null,
   "metadata": {},
   "outputs": [],
   "source": [
    "# Vamos carregar o arquivo com os crimes em LA entre 2010 e 2019\n",
    "df_crimes = pd.read_csv('dados/Crime_Data_from_2010_to_2019.csv')"
   ]
  },
  {
   "cell_type": "code",
   "execution_count": null,
   "metadata": {},
   "outputs": [],
   "source": [
    "# Shape\n",
    "df_crimes.shape"
   ]
  },
  {
   "cell_type": "code",
   "execution_count": null,
   "metadata": {},
   "outputs": [],
   "source": [
    "# Visualizamos uma amostra de dados\n",
    "df_crimes.head()"
   ]
  },
  {
   "cell_type": "code",
   "execution_count": null,
   "metadata": {},
   "outputs": [],
   "source": [
    "# Vamos verificar se temos valores nulos\n",
    "df_crimes.isnull().sum()"
   ]
  },
  {
   "cell_type": "markdown",
   "metadata": {},
   "source": [
    "Vamos fazer uma limpeza geral removendo colunas que não serão necessárias. Antes, um ajuste simples no nome de cada coluna."
   ]
  },
  {
   "cell_type": "code",
   "execution_count": null,
   "metadata": {},
   "outputs": [],
   "source": [
    "# Se tiver espaço no nome da coluna, vamos substituir por underline, para poder usar os nomes das colunas \n",
    "# como filtro de indexação.\n",
    "df_crimes.columns = [column.lower().replace(' ', '_') for column in df_crimes.columns]"
   ]
  },
  {
   "cell_type": "markdown",
   "metadata": {},
   "source": [
    "Aqui estão colunas que não serão necessárias e podemos remover do dataset. O dicionário de dados está na página onde você fez o download do arquivo.\n",
    "\n",
    "Vamos remover por grupos para facilitar a identificação do que está sendo removido. Observe que usamos comandos diferentes para remover as colunas para você aprender diferentes alternativas."
   ]
  },
  {
   "cell_type": "code",
   "execution_count": null,
   "metadata": {},
   "outputs": [],
   "source": [
    "colunas_drop = ['crm_cd_1', 'crm_cd_2', 'crm_cd_3', 'crm_cd_4', \n",
    "                'premis_cd', 'premis_desc', 'vict_descent', 'vict_sex','status', \n",
    "                'dr_no', 'area_', 'date_rptd', 'rpt_dist_no', 'crm_cd','part_1-2',\n",
    "                'mocodes', 'cross_street',\n",
    "                'weapon_used_cd',\n",
    "                'status_desc', 'time_occ', 'vict_age']\n",
    "df_crimes.drop(labels = colunas_drop, axis = 1, inplace = True)\n"
   ]
  },
  {
   "cell_type": "code",
   "execution_count": null,
   "metadata": {},
   "outputs": [],
   "source": [
    "# A coluna weapon_desc vamos manter e preencher valores NA com 'desconhecido'\n",
    "df_crimes.weapon_desc.fillna('desconhecido', inplace = True)"
   ]
  },
  {
   "cell_type": "code",
   "execution_count": null,
   "metadata": {},
   "outputs": [],
   "source": [
    "# Vamos checar se ainda sobrou valor nulo\n",
    "df_crimes.isnull().sum()"
   ]
  },
  {
   "cell_type": "code",
   "execution_count": null,
   "metadata": {},
   "outputs": [],
   "source": [
    "# Visualizamos uma amostra de dados\n",
    "df_crimes.head()"
   ]
  },
  {
   "cell_type": "code",
   "execution_count": null,
   "metadata": {},
   "outputs": [],
   "source": [
    "# Salva o dataframe de crimes em um arquivo csv\n",
    "df_crimes.to_csv('dados/df_crimes.csv')"
   ]
  },
  {
   "cell_type": "markdown",
   "metadata": {},
   "source": [
    "<hr/>\n",
    "\n",
    "<h2>4) DATASET 3 - PRISÕES EM LOS ANGELES DE 2010 A 2019</h2>"
   ]
  },
  {
   "cell_type": "markdown",
   "metadata": {},
   "source": [
    "Já temos o dataset de crimes, mas precisamos do dataset de prisões em LA. Os dados podem ser obtidos com o mesmo procedimento descrito no Dataset 2, com apenas uma mudança:\n",
    "1. Acesse o endereço: https://data.lacity.org/\n",
    "2. Descendo um pouco na página, use a caixa de busca de datasets e pesquise por \"Arrests\".\n",
    "3. O que você precisa deve ser a primeira opção: \"Arrest Data from 2010 to Present\". Clique no nome do dataset.\n",
    "4. Na página seguinte clique no botão azul \"View Data\". Clique então em \"Export\" - \"Download\" - \"CSV\".\n",
    "5. Coloque o arquivo na pasta dados no mesmo diretório onde está este Jupyter Notebook. O arquivo tem mais de 1 milhão de registros.\n",
    "\n",
    "O arquivo csv contém aproximadamente 1,2 milhão de prisões. O conjunto de dados é fornecido pelo Departamento de Polícia de Los Angeles (LAPD). Cada linha é o registro de um detido e cada coluna contém detalhes sobre o incidente da prisão. Para os fins deste projeto, examinaremos apenas as detenções relacionadas à maconha aplicando um filtro à `Charge Description` se a coluna contiver a palavra `marijuana` (maconha em inglês).\n",
    "\n",
    "Calcularemos então a distância entre cada prisão e dispensário de maconha e examinaremos o número de prisões por maconha a menos de 800 quilômetros de um dispensário a cada ano (faremos isso na Análise Exploratória)."
   ]
  },
  {
   "cell_type": "code",
   "execution_count": null,
   "metadata": {},
   "outputs": [],
   "source": [
    "# Vamos carregar o arquivo com as prisoes em LA de 2010 ao momento presente\n",
    "df_prisoes = pd.read_csv('dados/Arrest_Data_from_2010_to_Present.csv')"
   ]
  },
  {
   "cell_type": "code",
   "execution_count": null,
   "metadata": {},
   "outputs": [],
   "source": [
    "# Shape\n",
    "df_prisoes.shape"
   ]
  },
  {
   "cell_type": "code",
   "execution_count": null,
   "metadata": {},
   "outputs": [],
   "source": [
    "# Visualizamos uma amostra de dados\n",
    "df_prisoes.head()"
   ]
  },
  {
   "cell_type": "code",
   "execution_count": null,
   "metadata": {},
   "outputs": [],
   "source": [
    "# Tipos de dados\n",
    "df_prisoes.dtypes"
   ]
  },
  {
   "cell_type": "code",
   "execution_count": null,
   "metadata": {},
   "outputs": [],
   "source": [
    "# Vamos converter a coluna 'Arrest Date' de string (object) para Datetime, para facilitar a manipulação\n",
    "df_prisoes['Arrest Date'] = pd.to_datetime(df_prisoes['Arrest Date'])"
   ]
  },
  {
   "cell_type": "code",
   "execution_count": null,
   "metadata": {},
   "outputs": [],
   "source": [
    "# Vamos usar expressões regulares para limpar a coluna Location (convertemos a tupla em lista)\n",
    "df_prisoes['Location'] = df_prisoes['Location'].map(lambda x: re.sub('[(),°]', '', x)).str.split()"
   ]
  },
  {
   "cell_type": "code",
   "execution_count": null,
   "metadata": {},
   "outputs": [],
   "source": [
    "# Visualizamos uma amostra de dados\n",
    "df_prisoes.head()"
   ]
  },
  {
   "cell_type": "code",
   "execution_count": null,
   "metadata": {},
   "outputs": [],
   "source": [
    "# Vamos criar as variáveis latitude e longitude\n",
    "# Como convertemos a coluna Location de tupla para lista, agora é mais fácil indexar pela coluna, 0 ou 1\n",
    "df_prisoes['latitude'] = df_prisoes['Location'].map(lambda x: x[0])\n",
    "df_prisoes['longitude'] = df_prisoes['Location'].map(lambda x: x[1])"
   ]
  },
  {
   "cell_type": "code",
   "execution_count": null,
   "metadata": {},
   "outputs": [],
   "source": [
    "# Convertemos latitude e longitude para o tipo float para não perder a precisão\n",
    "df_prisoes['latitude'] = df_prisoes['latitude'].map(lambda x: float(x))\n",
    "df_prisoes['longitude'] = df_prisoes['longitude'].map(lambda x: float(x))"
   ]
  },
  {
   "cell_type": "code",
   "execution_count": null,
   "metadata": {},
   "outputs": [],
   "source": [
    "# Convertemos os registros da coluna 'Charge Description' em string e minúsculo\n",
    "df_prisoes['Charge Description'] = df_prisoes['Charge Description'].map(lambda x: str(x))\n",
    "df_prisoes['Charge Description'] = df_prisoes['Charge Description'].map(lambda x: x.lower())"
   ]
  },
  {
   "cell_type": "code",
   "execution_count": null,
   "metadata": {},
   "outputs": [],
   "source": [
    "# Shape\n",
    "df_prisoes.shape"
   ]
  },
  {
   "cell_type": "code",
   "execution_count": null,
   "metadata": {},
   "outputs": [],
   "source": [
    "# Visualizamos uma amostra de dados\n",
    "df_prisoes.head()"
   ]
  },
  {
   "cell_type": "markdown",
   "metadata": {},
   "source": [
    "Agora, vamos extrair prisões relacionadas à maconha, já que este é o tema principal do projeto. Mas um bom exercício seria você estudar a relação de outros tipos de prisões.\n",
    "\n",
    "**Obs: Maconha tem muitas denominações em inglês, mas nesses datasets está registrada como marijuana**."
   ]
  },
  {
   "cell_type": "code",
   "execution_count": null,
   "metadata": {},
   "outputs": [],
   "source": [
    "# Vamos extrair todos os tipos de prisões e colocar em uma lista\n",
    "lista_prisoes = list(df_prisoes['Charge Description'].value_counts().index.sort_values())\n",
    "\n",
    "# Vamos colocar em minúsculo para usar os dados no mesmo padrão\n",
    "lista_prisoes = [x.lower() for x in lista_prisoes]"
   ]
  },
  {
   "cell_type": "code",
   "execution_count": null,
   "metadata": {},
   "outputs": [],
   "source": [
    "#Vamos checar os tipos de prisões.\n",
    "# Tipos de prisões\n",
    "lista_prisoes"
   ]
  },
  {
   "cell_type": "code",
   "execution_count": null,
   "metadata": {},
   "outputs": [],
   "source": [
    "# Vamos filtrar somente prisões por marijuana. Vamos usar 'mari' na pesquisa pois pode haver abreviações.\n",
    "# Uma list comprehenion sempre ajuda nessas horas.\n",
    "[x for x in lista_prisoes if 'mari' in x]"
   ]
  },
  {
   "cell_type": "code",
   "execution_count": null,
   "metadata": {},
   "outputs": [],
   "source": [
    "# Qual o total?\n",
    "len([x for x in lista_prisoes if 'mari' in x])"
   ]
  },
  {
   "cell_type": "markdown",
   "metadata": {},
   "source": [
    "Existem 34 tipos diferentes de prisões por causa de maconha que tratam de cultivar, possuir, vender, fumar em público e lidar com menores."
   ]
  },
  {
   "cell_type": "code",
   "execution_count": null,
   "metadata": {},
   "outputs": [],
   "source": [
    "# Criamos uma lista com as razões de prisão por maconha\n",
    "prisoes_maconha = [x for x in lista_prisoes if 'mari' in x]\n",
    "\n",
    "# Criamos uma coluna no dataframe que identifica as prisões se elas estiverem relacionadas à maconha\n",
    "df_prisoes['marijuana_related'] = df_prisoes['Charge Description'].map(lambda x: x if x in prisoes_maconha else np.NaN)\n",
    "\n",
    "# Visualizamos uma amostra de dados\n",
    "df_prisoes.head()"
   ]
  },
  {
   "cell_type": "markdown",
   "metadata": {},
   "source": [
    "Valores nulos foram gerados. Vamos contar o que NÃO é valor nulo."
   ]
  },
  {
   "cell_type": "code",
   "execution_count": null,
   "metadata": {},
   "outputs": [],
   "source": [
    "qtd_prisoes = len(df_prisoes[~df_prisoes['marijuana_related'].isnull()])\n",
    "\n",
    "print('Foram {} prisões por razões relacionadas à maconha!'.format(qtd_prisoes))\n"
   ]
  },
  {
   "cell_type": "code",
   "execution_count": null,
   "metadata": {},
   "outputs": [],
   "source": [
    "# Deixamos apenas os registros não nulos\n",
    "df_prisoes = df_prisoes[~df_prisoes['marijuana_related'].isnull()]\n",
    "\n",
    "# Shape\n",
    "df_prisoes.shape"
   ]
  },
  {
   "cell_type": "code",
   "execution_count": null,
   "metadata": {},
   "outputs": [],
   "source": [
    "# Visualizamos uma amostra de dados\n",
    "df_prisoes.head()"
   ]
  },
  {
   "cell_type": "code",
   "execution_count": null,
   "metadata": {},
   "outputs": [],
   "source": [
    "# Salva o dataframe de prisões em um arquivo csv\n",
    "df_prisoes.to_csv('dados/df_prisoes.csv')"
   ]
  },
  {
   "cell_type": "markdown",
   "metadata": {},
   "source": [
    "<hr/>\n",
    "\n",
    "<h2>5) DATASET 4 - ESCOLAS E INSTITUIÇÕES DE ENSINO EM LOS ANGELES</h2>"
   ]
  },
  {
   "cell_type": "markdown",
   "metadata": {},
   "source": [
    "Iremos calcular a distância entre todas as prisões por maconha e as escolas do Distrito Escolar Unificado de Los Angeles (LAUSD), examinando o número de prisões por maconha a menos de 800 quilômetros de uma escola a cada ano.\n",
    "\n",
    "Logo, do que precisamos? Dos dados das escolas, certo? Para nossa sorte, LA é uma cidade que já está no futuro e vive orientada a dados (data-driven). \n",
    "\n",
    "Os dados que precisamos estão disponíveis neste endereço:\n",
    "\n",
    "> http://www.lausd.k12.ca.us/lausd/offices/bulletins/\n",
    "\n",
    "E este é o arquivo que precisamos:\n",
    "\n",
    "> http://www.lausd.k12.ca.us/lausd/offices/bulletins/lausdk12.tab"
   ]
  },
  {
   "cell_type": "code",
   "execution_count": 8,
   "metadata": {},
   "outputs": [],
   "source": [
    "# Carregamos o arquivo com dados de escolas de LA\n",
    "df_escolas = pd.read_csv('dados/lausdk12.tab', sep = '\\t')"
   ]
  },
  {
   "cell_type": "code",
   "execution_count": 9,
   "metadata": {},
   "outputs": [
    {
     "data": {
      "text/plain": [
       "(1386, 14)"
      ]
     },
     "execution_count": 9,
     "metadata": {},
     "output_type": "execute_result"
    }
   ],
   "source": [
    "# Shape\n",
    "df_escolas.shape"
   ]
  },
  {
   "cell_type": "code",
   "execution_count": 10,
   "metadata": {},
   "outputs": [
    {
     "data": {
      "text/html": [
       "<div>\n",
       "<style scoped>\n",
       "    .dataframe tbody tr th:only-of-type {\n",
       "        vertical-align: middle;\n",
       "    }\n",
       "\n",
       "    .dataframe tbody tr th {\n",
       "        vertical-align: top;\n",
       "    }\n",
       "\n",
       "    .dataframe thead th {\n",
       "        text-align: right;\n",
       "    }\n",
       "</style>\n",
       "<table border=\"1\" class=\"dataframe\">\n",
       "  <thead>\n",
       "    <tr style=\"text-align: right;\">\n",
       "      <th></th>\n",
       "      <th>Cost Center Code</th>\n",
       "      <th>Legacy Code</th>\n",
       "      <th>School</th>\n",
       "      <th>Address</th>\n",
       "      <th>City</th>\n",
       "      <th>State</th>\n",
       "      <th>Zip Code</th>\n",
       "      <th>Telephone</th>\n",
       "      <th>Fax</th>\n",
       "      <th>Grades</th>\n",
       "      <th>Calendar</th>\n",
       "      <th>Local District</th>\n",
       "      <th>Board District</th>\n",
       "      <th>File Build Date</th>\n",
       "    </tr>\n",
       "  </thead>\n",
       "  <tbody>\n",
       "    <tr>\n",
       "      <th>0</th>\n",
       "      <td>1585701</td>\n",
       "      <td>5857</td>\n",
       "      <td>107th Street Elementary</td>\n",
       "      <td>147 E 107th St</td>\n",
       "      <td>Los Angeles</td>\n",
       "      <td>CA</td>\n",
       "      <td>90003</td>\n",
       "      <td>323-756-8137</td>\n",
       "      <td>323-779-6942</td>\n",
       "      <td>K- 5</td>\n",
       "      <td>1 Trk</td>\n",
       "      <td>S</td>\n",
       "      <td>7-Dr Richard A Vladovic</td>\n",
       "      <td>2020-05-14</td>\n",
       "    </tr>\n",
       "    <tr>\n",
       "      <th>1</th>\n",
       "      <td>1585702</td>\n",
       "      <td>5858</td>\n",
       "      <td>107th Street Elementary Science/Tech/Eng/Arts/...</td>\n",
       "      <td>147 E 107th St</td>\n",
       "      <td>Los Angeles</td>\n",
       "      <td>CA</td>\n",
       "      <td>90003</td>\n",
       "      <td>323-756-8137</td>\n",
       "      <td>323-779-6942</td>\n",
       "      <td>1- 5</td>\n",
       "      <td>1 Trk</td>\n",
       "      <td>S</td>\n",
       "      <td>7-Dr Richard A Vladovic</td>\n",
       "      <td>2020-05-14</td>\n",
       "    </tr>\n",
       "    <tr>\n",
       "      <th>2</th>\n",
       "      <td>1583601</td>\n",
       "      <td>5836</td>\n",
       "      <td>109th Street Elementary</td>\n",
       "      <td>10915 S Mc Kinley Ave</td>\n",
       "      <td>Los Angeles</td>\n",
       "      <td>CA</td>\n",
       "      <td>90059</td>\n",
       "      <td>323-756-9206</td>\n",
       "      <td>323-755-2307</td>\n",
       "      <td>K- 5</td>\n",
       "      <td>1 Trk</td>\n",
       "      <td>S</td>\n",
       "      <td>7-Dr Richard A Vladovic</td>\n",
       "      <td>2020-05-14</td>\n",
       "    </tr>\n",
       "    <tr>\n",
       "      <th>3</th>\n",
       "      <td>1708201</td>\n",
       "      <td>7082</td>\n",
       "      <td>10th Street Elementary</td>\n",
       "      <td>1000 Grattan St</td>\n",
       "      <td>Los Angeles</td>\n",
       "      <td>CA</td>\n",
       "      <td>90015</td>\n",
       "      <td>213-380-8990</td>\n",
       "      <td>213-480-6732</td>\n",
       "      <td>1- 5</td>\n",
       "      <td>1 Trk</td>\n",
       "      <td>C</td>\n",
       "      <td>2-Monica Garcia</td>\n",
       "      <td>2020-05-14</td>\n",
       "    </tr>\n",
       "    <tr>\n",
       "      <th>4</th>\n",
       "      <td>1588401</td>\n",
       "      <td>5884</td>\n",
       "      <td>112th Street Elementary</td>\n",
       "      <td>1265 E 112th St</td>\n",
       "      <td>Los Angeles</td>\n",
       "      <td>CA</td>\n",
       "      <td>90059</td>\n",
       "      <td>323-567-2108</td>\n",
       "      <td>323-567-2611</td>\n",
       "      <td>K- 5</td>\n",
       "      <td>1 Trk</td>\n",
       "      <td>S</td>\n",
       "      <td>7-Dr Richard A Vladovic</td>\n",
       "      <td>2020-05-14</td>\n",
       "    </tr>\n",
       "  </tbody>\n",
       "</table>\n",
       "</div>"
      ],
      "text/plain": [
       "   Cost Center Code  Legacy Code  \\\n",
       "0           1585701         5857   \n",
       "1           1585702         5858   \n",
       "2           1583601         5836   \n",
       "3           1708201         7082   \n",
       "4           1588401         5884   \n",
       "\n",
       "                                              School                Address  \\\n",
       "0                            107th Street Elementary         147 E 107th St   \n",
       "1  107th Street Elementary Science/Tech/Eng/Arts/...         147 E 107th St   \n",
       "2                            109th Street Elementary  10915 S Mc Kinley Ave   \n",
       "3                             10th Street Elementary        1000 Grattan St   \n",
       "4                            112th Street Elementary        1265 E 112th St   \n",
       "\n",
       "          City State  Zip Code     Telephone           Fax Grades Calendar  \\\n",
       "0  Los Angeles    CA     90003  323-756-8137  323-779-6942   K- 5    1 Trk   \n",
       "1  Los Angeles    CA     90003  323-756-8137  323-779-6942   1- 5    1 Trk   \n",
       "2  Los Angeles    CA     90059  323-756-9206  323-755-2307   K- 5    1 Trk   \n",
       "3  Los Angeles    CA     90015  213-380-8990  213-480-6732   1- 5    1 Trk   \n",
       "4  Los Angeles    CA     90059  323-567-2108  323-567-2611   K- 5    1 Trk   \n",
       "\n",
       "  Local District           Board District File Build Date  \n",
       "0              S  7-Dr Richard A Vladovic      2020-05-14  \n",
       "1              S  7-Dr Richard A Vladovic      2020-05-14  \n",
       "2              S  7-Dr Richard A Vladovic      2020-05-14  \n",
       "3              C          2-Monica Garcia      2020-05-14  \n",
       "4              S  7-Dr Richard A Vladovic      2020-05-14  "
      ]
     },
     "execution_count": 10,
     "metadata": {},
     "output_type": "execute_result"
    }
   ],
   "source": [
    "# Visualizamos uma amostra de dados\n",
    "df_escolas.head()"
   ]
  },
  {
   "cell_type": "markdown",
   "metadata": {},
   "source": [
    "Vamos combinar as colunas `Address`, `City`, `State`, `CEP` para criar uma variável `complete_address` que será usada para obter as coordenadas de cada escola, que usaremos na geolocalização."
   ]
  },
  {
   "cell_type": "code",
   "execution_count": 11,
   "metadata": {},
   "outputs": [],
   "source": [
    "# Combinando dados de endereços para gerar as coordenadas mais tarde\n",
    "df_escolas['complete_address'] = df_escolas['Address'] +' '+ df_escolas['City'] +' '+ df_escolas['State'] +' '+ df_escolas['Zip Code'].astype(str)\n",
    "\n",
    "# Podemos deletar colunas que não serão necessárias\n",
    "df_escolas = df_escolas.drop(['Address', 'City', 'State', 'Cost Center Code', 'Legacy Code', 'Telephone', 'Fax', 'Calendar', 'File Build Date'], 1)"
   ]
  },
  {
   "cell_type": "markdown",
   "metadata": {},
   "source": [
    "Agora vamos verificar escolas duplicadas com base no endereço completo e remover as duplicatas. \n",
    "\n",
    "Essas escolas podem ter nomes diferentes ou ser separadas em escolas diferentes, como \"107th Street Elementary\" e \"107th Street Elementary Science/Tech/Eng/Arts/\". Se o endereço for o mesmo, a duplicata será removida."
   ]
  },
  {
   "cell_type": "code",
   "execution_count": 12,
   "metadata": {},
   "outputs": [
    {
     "data": {
      "text/plain": [
       "(947, 6)"
      ]
     },
     "execution_count": 12,
     "metadata": {},
     "output_type": "execute_result"
    }
   ],
   "source": [
    "# Removemos duplicatas, se existirem\n",
    "df_escolas = df_escolas[~df_escolas.duplicated(subset = 'complete_address')].sort_values('complete_address')\n",
    "\n",
    "# Reset do índice do dataframe, pois registros podem ter sido removidos\n",
    "df_escolas.reset_index(drop = True, inplace = True)\n",
    "\n",
    "# Shape\n",
    "df_escolas.shape"
   ]
  },
  {
   "cell_type": "code",
   "execution_count": 13,
   "metadata": {},
   "outputs": [
    {
     "data": {
      "text/html": [
       "<div>\n",
       "<style scoped>\n",
       "    .dataframe tbody tr th:only-of-type {\n",
       "        vertical-align: middle;\n",
       "    }\n",
       "\n",
       "    .dataframe tbody tr th {\n",
       "        vertical-align: top;\n",
       "    }\n",
       "\n",
       "    .dataframe thead th {\n",
       "        text-align: right;\n",
       "    }\n",
       "</style>\n",
       "<table border=\"1\" class=\"dataframe\">\n",
       "  <thead>\n",
       "    <tr style=\"text-align: right;\">\n",
       "      <th></th>\n",
       "      <th>School</th>\n",
       "      <th>Zip Code</th>\n",
       "      <th>Grades</th>\n",
       "      <th>Local District</th>\n",
       "      <th>Board District</th>\n",
       "      <th>complete_address</th>\n",
       "    </tr>\n",
       "  </thead>\n",
       "  <tbody>\n",
       "    <tr>\n",
       "      <th>0</th>\n",
       "      <td>Frank Del Olmo Elementary</td>\n",
       "      <td>90004</td>\n",
       "      <td>K- 5</td>\n",
       "      <td>C</td>\n",
       "      <td>2-Monica Garcia</td>\n",
       "      <td>100 N New Hampshire Ave Los Angeles CA 90004</td>\n",
       "    </tr>\n",
       "    <tr>\n",
       "      <th>1</th>\n",
       "      <td>10th Street Elementary</td>\n",
       "      <td>90015</td>\n",
       "      <td>1- 5</td>\n",
       "      <td>C</td>\n",
       "      <td>2-Monica Garcia</td>\n",
       "      <td>1000 Grattan St Los Angeles CA 90015</td>\n",
       "    </tr>\n",
       "    <tr>\n",
       "      <th>2</th>\n",
       "      <td>Elementary Community Day School</td>\n",
       "      <td>91311</td>\n",
       "      <td>K- 6</td>\n",
       "      <td>XS</td>\n",
       "      <td>3-Scott M Schmerelson</td>\n",
       "      <td>10001 Jumilla Ave Chatsworth CA 91311</td>\n",
       "    </tr>\n",
       "    <tr>\n",
       "      <th>3</th>\n",
       "      <td>Cesar E Chavez Learning Academy - Arts/Theatre...</td>\n",
       "      <td>91340</td>\n",
       "      <td>9-12</td>\n",
       "      <td>NE</td>\n",
       "      <td>6-Kelly Gonez</td>\n",
       "      <td>1001 Arroyo Ave San Fernando CA 91340</td>\n",
       "    </tr>\n",
       "    <tr>\n",
       "      <th>4</th>\n",
       "      <td>San Pedro Senior High Gifted STEAM Magnet</td>\n",
       "      <td>90731</td>\n",
       "      <td>9-12</td>\n",
       "      <td>S</td>\n",
       "      <td>7-Dr Richard A Vladovic</td>\n",
       "      <td>1001 W 15th St San Pedro CA 90731</td>\n",
       "    </tr>\n",
       "  </tbody>\n",
       "</table>\n",
       "</div>"
      ],
      "text/plain": [
       "                                              School  Zip Code Grades  \\\n",
       "0                          Frank Del Olmo Elementary     90004   K- 5   \n",
       "1                             10th Street Elementary     90015   1- 5   \n",
       "2                    Elementary Community Day School     91311   K- 6   \n",
       "3  Cesar E Chavez Learning Academy - Arts/Theatre...     91340   9-12   \n",
       "4          San Pedro Senior High Gifted STEAM Magnet     90731   9-12   \n",
       "\n",
       "  Local District           Board District  \\\n",
       "0              C          2-Monica Garcia   \n",
       "1              C          2-Monica Garcia   \n",
       "2             XS    3-Scott M Schmerelson   \n",
       "3             NE            6-Kelly Gonez   \n",
       "4              S  7-Dr Richard A Vladovic   \n",
       "\n",
       "                               complete_address  \n",
       "0  100 N New Hampshire Ave Los Angeles CA 90004  \n",
       "1          1000 Grattan St Los Angeles CA 90015  \n",
       "2         10001 Jumilla Ave Chatsworth CA 91311  \n",
       "3         1001 Arroyo Ave San Fernando CA 91340  \n",
       "4             1001 W 15th St San Pedro CA 90731  "
      ]
     },
     "execution_count": 13,
     "metadata": {},
     "output_type": "execute_result"
    }
   ],
   "source": [
    "# Visualizamos uma amostra de dados\n",
    "df_escolas.head()"
   ]
  },
  {
   "cell_type": "code",
   "execution_count": 14,
   "metadata": {},
   "outputs": [],
   "source": [
    "# Salva o dataframe de escolas em um arquivo csv\n",
    "df_escolas.to_csv('dados/df_escolas.csv')"
   ]
  },
  {
   "cell_type": "markdown",
   "metadata": {},
   "source": [
    "Agora temos 4 arquivos csv, um para cada dataset após a limpeza. Alguns ajustes ainda terão que ser feitos, mas precisamos das ferramentas da Análise Exploratória para isso.\n",
    "\n",
    "Vamos fazer isso no próximo notebook."
   ]
  }
 ],
 "metadata": {
  "kernelspec": {
   "display_name": "Python 3.9.7 ('base')",
   "language": "python",
   "name": "python3"
  },
  "language_info": {
   "codemirror_mode": {
    "name": "ipython",
    "version": 3
   },
   "file_extension": ".py",
   "mimetype": "text/x-python",
   "name": "python",
   "nbconvert_exporter": "python",
   "pygments_lexer": "ipython3",
   "version": "3.9.7"
  },
  "orig_nbformat": 4,
  "vscode": {
   "interpreter": {
    "hash": "ad2bdc8ecc057115af97d19610ffacc2b4e99fae6737bb82f5d7fb13d2f2c186"
   }
  }
 },
 "nbformat": 4,
 "nbformat_minor": 2
}

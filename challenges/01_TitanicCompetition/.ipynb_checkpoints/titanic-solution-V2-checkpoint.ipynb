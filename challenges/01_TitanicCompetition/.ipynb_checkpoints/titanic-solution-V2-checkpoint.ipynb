{
 "cells": [
  {
   "cell_type": "markdown",
   "id": "bc514ae0-dabd-46de-b04e-de215209f6b9",
   "metadata": {},
   "source": [
    "# Titanic: Solution 2\n",
    "\n",
    "Olhar essa implementação depois:\n",
    "https://www.kaggle.com/code/alerosso/titanic-top-20-espa-ol-italiano-english/notebook"
   ]
  },
  {
   "cell_type": "code",
   "execution_count": 1,
   "id": "5ce80f27-9316-4775-954a-37925c6915f0",
   "metadata": {},
   "outputs": [],
   "source": [
    "import pandas as pd\n",
    "import numpy as np\n",
    "import matplotlib.pyplot as plt\n",
    "import seaborn as sns"
   ]
  },
  {
   "cell_type": "code",
   "execution_count": 2,
   "id": "4bdc008a-df2a-45c0-a87b-9911a5201c23",
   "metadata": {},
   "outputs": [],
   "source": [
    "df_train = pd.read_csv('data/train.csv')\n",
    "df_test = pd.read_csv('data/test.csv')"
   ]
  },
  {
   "cell_type": "code",
   "execution_count": 3,
   "id": "7e262b1d-f878-4084-b6cb-d41b21925669",
   "metadata": {},
   "outputs": [
    {
     "data": {
      "text/html": [
       "<div>\n",
       "<style scoped>\n",
       "    .dataframe tbody tr th:only-of-type {\n",
       "        vertical-align: middle;\n",
       "    }\n",
       "\n",
       "    .dataframe tbody tr th {\n",
       "        vertical-align: top;\n",
       "    }\n",
       "\n",
       "    .dataframe thead th {\n",
       "        text-align: right;\n",
       "    }\n",
       "</style>\n",
       "<table border=\"1\" class=\"dataframe\">\n",
       "  <thead>\n",
       "    <tr style=\"text-align: right;\">\n",
       "      <th></th>\n",
       "      <th>PassengerId</th>\n",
       "      <th>Survived</th>\n",
       "      <th>Pclass</th>\n",
       "      <th>Name</th>\n",
       "      <th>Sex</th>\n",
       "      <th>Age</th>\n",
       "      <th>SibSp</th>\n",
       "      <th>Parch</th>\n",
       "      <th>Ticket</th>\n",
       "      <th>Fare</th>\n",
       "      <th>Cabin</th>\n",
       "      <th>Embarked</th>\n",
       "    </tr>\n",
       "  </thead>\n",
       "  <tbody>\n",
       "    <tr>\n",
       "      <th>0</th>\n",
       "      <td>1</td>\n",
       "      <td>0</td>\n",
       "      <td>3</td>\n",
       "      <td>Braund, Mr. Owen Harris</td>\n",
       "      <td>male</td>\n",
       "      <td>22.0</td>\n",
       "      <td>1</td>\n",
       "      <td>0</td>\n",
       "      <td>A/5 21171</td>\n",
       "      <td>7.2500</td>\n",
       "      <td>NaN</td>\n",
       "      <td>S</td>\n",
       "    </tr>\n",
       "    <tr>\n",
       "      <th>1</th>\n",
       "      <td>2</td>\n",
       "      <td>1</td>\n",
       "      <td>1</td>\n",
       "      <td>Cumings, Mrs. John Bradley (Florence Briggs Th...</td>\n",
       "      <td>female</td>\n",
       "      <td>38.0</td>\n",
       "      <td>1</td>\n",
       "      <td>0</td>\n",
       "      <td>PC 17599</td>\n",
       "      <td>71.2833</td>\n",
       "      <td>C85</td>\n",
       "      <td>C</td>\n",
       "    </tr>\n",
       "    <tr>\n",
       "      <th>2</th>\n",
       "      <td>3</td>\n",
       "      <td>1</td>\n",
       "      <td>3</td>\n",
       "      <td>Heikkinen, Miss. Laina</td>\n",
       "      <td>female</td>\n",
       "      <td>26.0</td>\n",
       "      <td>0</td>\n",
       "      <td>0</td>\n",
       "      <td>STON/O2. 3101282</td>\n",
       "      <td>7.9250</td>\n",
       "      <td>NaN</td>\n",
       "      <td>S</td>\n",
       "    </tr>\n",
       "    <tr>\n",
       "      <th>3</th>\n",
       "      <td>4</td>\n",
       "      <td>1</td>\n",
       "      <td>1</td>\n",
       "      <td>Futrelle, Mrs. Jacques Heath (Lily May Peel)</td>\n",
       "      <td>female</td>\n",
       "      <td>35.0</td>\n",
       "      <td>1</td>\n",
       "      <td>0</td>\n",
       "      <td>113803</td>\n",
       "      <td>53.1000</td>\n",
       "      <td>C123</td>\n",
       "      <td>S</td>\n",
       "    </tr>\n",
       "    <tr>\n",
       "      <th>4</th>\n",
       "      <td>5</td>\n",
       "      <td>0</td>\n",
       "      <td>3</td>\n",
       "      <td>Allen, Mr. William Henry</td>\n",
       "      <td>male</td>\n",
       "      <td>35.0</td>\n",
       "      <td>0</td>\n",
       "      <td>0</td>\n",
       "      <td>373450</td>\n",
       "      <td>8.0500</td>\n",
       "      <td>NaN</td>\n",
       "      <td>S</td>\n",
       "    </tr>\n",
       "  </tbody>\n",
       "</table>\n",
       "</div>"
      ],
      "text/plain": [
       "   PassengerId  Survived  Pclass  \\\n",
       "0            1         0       3   \n",
       "1            2         1       1   \n",
       "2            3         1       3   \n",
       "3            4         1       1   \n",
       "4            5         0       3   \n",
       "\n",
       "                                                Name     Sex   Age  SibSp  \\\n",
       "0                            Braund, Mr. Owen Harris    male  22.0      1   \n",
       "1  Cumings, Mrs. John Bradley (Florence Briggs Th...  female  38.0      1   \n",
       "2                             Heikkinen, Miss. Laina  female  26.0      0   \n",
       "3       Futrelle, Mrs. Jacques Heath (Lily May Peel)  female  35.0      1   \n",
       "4                           Allen, Mr. William Henry    male  35.0      0   \n",
       "\n",
       "   Parch            Ticket     Fare Cabin Embarked  \n",
       "0      0         A/5 21171   7.2500   NaN        S  \n",
       "1      0          PC 17599  71.2833   C85        C  \n",
       "2      0  STON/O2. 3101282   7.9250   NaN        S  \n",
       "3      0            113803  53.1000  C123        S  \n",
       "4      0            373450   8.0500   NaN        S  "
      ]
     },
     "execution_count": 3,
     "metadata": {},
     "output_type": "execute_result"
    }
   ],
   "source": [
    "df_train.head(5)"
   ]
  },
  {
   "cell_type": "code",
   "execution_count": 4,
   "id": "b36e95fa-1ed6-4b29-a40b-6ac2c8d53715",
   "metadata": {},
   "outputs": [
    {
     "data": {
      "text/html": [
       "<div>\n",
       "<style scoped>\n",
       "    .dataframe tbody tr th:only-of-type {\n",
       "        vertical-align: middle;\n",
       "    }\n",
       "\n",
       "    .dataframe tbody tr th {\n",
       "        vertical-align: top;\n",
       "    }\n",
       "\n",
       "    .dataframe thead th {\n",
       "        text-align: right;\n",
       "    }\n",
       "</style>\n",
       "<table border=\"1\" class=\"dataframe\">\n",
       "  <thead>\n",
       "    <tr style=\"text-align: right;\">\n",
       "      <th></th>\n",
       "      <th>PassengerId</th>\n",
       "      <th>Pclass</th>\n",
       "      <th>Name</th>\n",
       "      <th>Sex</th>\n",
       "      <th>Age</th>\n",
       "      <th>SibSp</th>\n",
       "      <th>Parch</th>\n",
       "      <th>Ticket</th>\n",
       "      <th>Fare</th>\n",
       "      <th>Cabin</th>\n",
       "      <th>Embarked</th>\n",
       "    </tr>\n",
       "  </thead>\n",
       "  <tbody>\n",
       "    <tr>\n",
       "      <th>0</th>\n",
       "      <td>892</td>\n",
       "      <td>3</td>\n",
       "      <td>Kelly, Mr. James</td>\n",
       "      <td>male</td>\n",
       "      <td>34.5</td>\n",
       "      <td>0</td>\n",
       "      <td>0</td>\n",
       "      <td>330911</td>\n",
       "      <td>7.8292</td>\n",
       "      <td>NaN</td>\n",
       "      <td>Q</td>\n",
       "    </tr>\n",
       "    <tr>\n",
       "      <th>1</th>\n",
       "      <td>893</td>\n",
       "      <td>3</td>\n",
       "      <td>Wilkes, Mrs. James (Ellen Needs)</td>\n",
       "      <td>female</td>\n",
       "      <td>47.0</td>\n",
       "      <td>1</td>\n",
       "      <td>0</td>\n",
       "      <td>363272</td>\n",
       "      <td>7.0000</td>\n",
       "      <td>NaN</td>\n",
       "      <td>S</td>\n",
       "    </tr>\n",
       "    <tr>\n",
       "      <th>2</th>\n",
       "      <td>894</td>\n",
       "      <td>2</td>\n",
       "      <td>Myles, Mr. Thomas Francis</td>\n",
       "      <td>male</td>\n",
       "      <td>62.0</td>\n",
       "      <td>0</td>\n",
       "      <td>0</td>\n",
       "      <td>240276</td>\n",
       "      <td>9.6875</td>\n",
       "      <td>NaN</td>\n",
       "      <td>Q</td>\n",
       "    </tr>\n",
       "    <tr>\n",
       "      <th>3</th>\n",
       "      <td>895</td>\n",
       "      <td>3</td>\n",
       "      <td>Wirz, Mr. Albert</td>\n",
       "      <td>male</td>\n",
       "      <td>27.0</td>\n",
       "      <td>0</td>\n",
       "      <td>0</td>\n",
       "      <td>315154</td>\n",
       "      <td>8.6625</td>\n",
       "      <td>NaN</td>\n",
       "      <td>S</td>\n",
       "    </tr>\n",
       "    <tr>\n",
       "      <th>4</th>\n",
       "      <td>896</td>\n",
       "      <td>3</td>\n",
       "      <td>Hirvonen, Mrs. Alexander (Helga E Lindqvist)</td>\n",
       "      <td>female</td>\n",
       "      <td>22.0</td>\n",
       "      <td>1</td>\n",
       "      <td>1</td>\n",
       "      <td>3101298</td>\n",
       "      <td>12.2875</td>\n",
       "      <td>NaN</td>\n",
       "      <td>S</td>\n",
       "    </tr>\n",
       "  </tbody>\n",
       "</table>\n",
       "</div>"
      ],
      "text/plain": [
       "   PassengerId  Pclass                                          Name     Sex  \\\n",
       "0          892       3                              Kelly, Mr. James    male   \n",
       "1          893       3              Wilkes, Mrs. James (Ellen Needs)  female   \n",
       "2          894       2                     Myles, Mr. Thomas Francis    male   \n",
       "3          895       3                              Wirz, Mr. Albert    male   \n",
       "4          896       3  Hirvonen, Mrs. Alexander (Helga E Lindqvist)  female   \n",
       "\n",
       "    Age  SibSp  Parch   Ticket     Fare Cabin Embarked  \n",
       "0  34.5      0      0   330911   7.8292   NaN        Q  \n",
       "1  47.0      1      0   363272   7.0000   NaN        S  \n",
       "2  62.0      0      0   240276   9.6875   NaN        Q  \n",
       "3  27.0      0      0   315154   8.6625   NaN        S  \n",
       "4  22.0      1      1  3101298  12.2875   NaN        S  "
      ]
     },
     "execution_count": 4,
     "metadata": {},
     "output_type": "execute_result"
    }
   ],
   "source": [
    "df_test.head(5)"
   ]
  },
  {
   "cell_type": "code",
   "execution_count": 5,
   "id": "b6c1a761-ee6a-4d90-9399-0fcf5db3339b",
   "metadata": {},
   "outputs": [
    {
     "data": {
      "text/plain": [
       "((891, 12), (418, 11))"
      ]
     },
     "execution_count": 5,
     "metadata": {},
     "output_type": "execute_result"
    }
   ],
   "source": [
    "df_train.shape, df_test.shape"
   ]
  },
  {
   "cell_type": "code",
   "execution_count": 6,
   "id": "4c120bb6-9d62-41b0-90ef-3b4a3fe3f552",
   "metadata": {},
   "outputs": [
    {
     "name": "stdout",
     "output_type": "stream",
     "text": [
      "PassengerId      0\n",
      "Survived         0\n",
      "Pclass           0\n",
      "Name             0\n",
      "Sex              0\n",
      "Age            177\n",
      "SibSp            0\n",
      "Parch            0\n",
      "Ticket           0\n",
      "Fare             0\n",
      "Cabin          687\n",
      "Embarked         2\n",
      "dtype: int64\n",
      "###################\n",
      "PassengerId      0\n",
      "Pclass           0\n",
      "Name             0\n",
      "Sex              0\n",
      "Age             86\n",
      "SibSp            0\n",
      "Parch            0\n",
      "Ticket           0\n",
      "Fare             1\n",
      "Cabin          327\n",
      "Embarked         0\n",
      "dtype: int64\n"
     ]
    }
   ],
   "source": [
    "print(df_train.isnull().sum())\n",
    "print('###################')\n",
    "print(df_test.isnull().sum())"
   ]
  },
  {
   "cell_type": "code",
   "execution_count": 7,
   "id": "a982572b-a070-49db-b40c-e9ae867e3118",
   "metadata": {},
   "outputs": [
    {
     "data": {
      "image/png": "[encoded data removed]",
      "text/plain": [
       "<Figure size 720x288 with 2 Axes>"
      ]
     },
     "metadata": {
      "needs_background": "light"
     },
     "output_type": "display_data"
    }
   ],
   "source": [
    "#correlation matrix\n",
    "corrmat = df_train.corr()\n",
    "f, ax = plt.subplots(figsize=(10, 4))\n",
    "k = 12 #number of variables for heatmap\n",
    "cols = corrmat.nlargest(k, 'Survived')['Survived'].index\n",
    "cm = np.corrcoef(df_train[cols].values.T)\n",
    "sns.set(font_scale=1.25)\n",
    "hm = sns.heatmap(cm, cbar=True, annot=True, square=True, fmt='.2f', annot_kws={'size': 10}, yticklabels=cols.values, xticklabels=cols.values)\n",
    "plt.show()"
   ]
  },
  {
   "cell_type": "code",
   "execution_count": 8,
   "id": "049a7dc1-bd28-403b-8272-fda10b361d2e",
   "metadata": {},
   "outputs": [
    {
     "data": {
      "text/plain": [
       "<AxesSubplot:>"
      ]
     },
     "execution_count": 8,
     "metadata": {},
     "output_type": "execute_result"
    },
    {
     "data": {
      "image/png": "[encoded data removed]",
      "text/plain": [
       "<Figure size 1080x432 with 2 Axes>"
      ]
     },
     "metadata": {},
     "output_type": "display_data"
    }
   ],
   "source": [
    "plt.figure(figsize=(15, 6))\n",
    "sns.heatmap(df_train.corr().abs(),  annot=True)"
   ]
  },
  {
   "cell_type": "code",
   "execution_count": 9,
   "id": "74a6ed4c-9dd7-48bc-8cbb-a98bbb9c98c2",
   "metadata": {},
   "outputs": [],
   "source": [
    "def bar_chart(coluna):\n",
    "    sobreviveram = df_train[df_train['Survived']==1][coluna].value_counts()\n",
    "    morreram = df_train[df_train['Survived']==0][coluna].value_counts()\n",
    "    df = pd.DataFrame([sobreviveram, morreram])\n",
    "    df.index = ['Survived','Dead']\n",
    "    df.plot(kind='bar',stacked=True, figsize=(6,4))"
   ]
  },
  {
   "cell_type": "markdown",
   "id": "d58470d2-2c60-452e-ade1-0ee30aa54c7a",
   "metadata": {},
   "source": [
    "## Análise exploratória dos dados"
   ]
  },
  {
   "cell_type": "markdown",
   "id": "3921e7d0-0517-456b-b288-28f426e793ae",
   "metadata": {},
   "source": [
    "#### Atributo: Sex"
   ]
  },
  {
   "cell_type": "code",
   "execution_count": 10,
   "id": "212d3b5a-92a3-4ee3-abd7-dfe964427a43",
   "metadata": {},
   "outputs": [
    {
     "data": {
      "text/html": [
       "<div>\n",
       "<style scoped>\n",
       "    .dataframe tbody tr th:only-of-type {\n",
       "        vertical-align: middle;\n",
       "    }\n",
       "\n",
       "    .dataframe tbody tr th {\n",
       "        vertical-align: top;\n",
       "    }\n",
       "\n",
       "    .dataframe thead th {\n",
       "        text-align: right;\n",
       "    }\n",
       "</style>\n",
       "<table border=\"1\" class=\"dataframe\">\n",
       "  <thead>\n",
       "    <tr style=\"text-align: right;\">\n",
       "      <th>Sex</th>\n",
       "      <th>female</th>\n",
       "      <th>male</th>\n",
       "    </tr>\n",
       "    <tr>\n",
       "      <th>Survived</th>\n",
       "      <th></th>\n",
       "      <th></th>\n",
       "    </tr>\n",
       "  </thead>\n",
       "  <tbody>\n",
       "    <tr>\n",
       "      <th>0.188908</th>\n",
       "      <td>0</td>\n",
       "      <td>577</td>\n",
       "    </tr>\n",
       "    <tr>\n",
       "      <th>0.742038</th>\n",
       "      <td>314</td>\n",
       "      <td>0</td>\n",
       "    </tr>\n",
       "  </tbody>\n",
       "</table>\n",
       "</div>"
      ],
      "text/plain": [
       "Sex       female  male\n",
       "Survived              \n",
       "0.188908       0   577\n",
       "0.742038     314     0"
      ]
     },
     "execution_count": 10,
     "metadata": {},
     "output_type": "execute_result"
    }
   ],
   "source": [
    "#Exemplo que eu achei muito interessante de ver a probabilidade de um evento baseado em uma variável\n",
    "sexProb = df_train.groupby('Sex')['Survived'].transform('sum') / df_train.groupby('Sex')['Survived'].transform('count')\n",
    "pd.crosstab(sexProb, df_train['Sex'], dropna=False)"
   ]
  },
  {
   "cell_type": "code",
   "execution_count": 11,
   "id": "fafa9aaf-dfdf-41f8-ba95-7db2291b866d",
   "metadata": {},
   "outputs": [
    {
     "data": {
      "text/plain": [
       "male      577\n",
       "female    314\n",
       "Name: Sex, dtype: int64"
      ]
     },
     "execution_count": 11,
     "metadata": {},
     "output_type": "execute_result"
    }
   ],
   "source": [
    "df_train['Sex'].value_counts()"
   ]
  },
  {
   "cell_type": "code",
   "execution_count": 12,
   "id": "0d5ce191-8471-485d-98af-c6cee365e335",
   "metadata": {},
   "outputs": [
    {
     "data": {
      "text/plain": [
       "male      266\n",
       "female    152\n",
       "Name: Sex, dtype: int64"
      ]
     },
     "execution_count": 12,
     "metadata": {},
     "output_type": "execute_result"
    }
   ],
   "source": [
    "df_test['Sex'].value_counts()"
   ]
  },
  {
   "cell_type": "code",
   "execution_count": 13,
   "id": "25ac41bb-49af-4c7d-83b4-595d793b1b0e",
   "metadata": {},
   "outputs": [],
   "source": [
    "labels = ['Sobreviveram', 'Morreram']\n",
    "homensSobreviveram = df_train.loc[(df_train['Sex'] == 'male') & (df_train['Survived'] == 1), 'Sex']\n",
    "mulheresSobreviveram = df_train.loc[(df_train['Sex'] == 'female') & (df_train['Survived'] == 1), 'Sex']\n",
    "\n",
    "homensMorreram = df_train.loc[(df_train['Sex'] == 'male') & (df_train['Survived'] == 0), 'Sex']\n",
    "mulheresMorreram = df_train.loc[(df_train['Sex'] == 'female') & (df_train['Survived'] == 0), 'Sex']\n",
    "\n",
    "homens = np.array([len(homensSobreviveram), len(homensMorreram)])\n",
    "mulheres = np.array([len(mulheresSobreviveram), len(mulheresMorreram)])"
   ]
  },
  {
   "cell_type": "code",
   "execution_count": 14,
   "id": "5608396b-eacf-470f-9b1f-28956d5e28fa",
   "metadata": {},
   "outputs": [
    {
     "data": {
      "text/plain": [
       "<matplotlib.legend.Legend at 0x1ff0758b520>"
      ]
     },
     "execution_count": 14,
     "metadata": {},
     "output_type": "execute_result"
    },
    {
     "data": {
      "image/png": "[encoded data removed]",
      "text/plain": [
       "<Figure size 432x288 with 1 Axes>"
      ]
     },
     "metadata": {},
     "output_type": "display_data"
    }
   ],
   "source": [
    "x = np.arange(len(labels))\n",
    "width= 0.35\n",
    "\n",
    "fig, ax = plt.subplots()\n",
    "rects1 = ax.bar(x - width/2, homens, width, label='Homens')\n",
    "rects2 = ax.bar(x + width/2, mulheres, width, label='Mulheres')\n",
    "\n",
    "ax.set_ylabel('Quantidade')\n",
    "ax.set_title('Sobreviventes e mortos por sexo')\n",
    "ax.set_xticks(x)\n",
    "ax.set_xticklabels(labels)\n",
    "ax.legend()"
   ]
  },
  {
   "cell_type": "code",
   "execution_count": 15,
   "id": "47045609-ebd9-4706-9df1-fdd387853c71",
   "metadata": {},
   "outputs": [],
   "source": [
    "sex_map = {\n",
    "    'male': 0,\n",
    "    'female': 1\n",
    "}\n",
    "\n",
    "df_train['Sex'] = df_train['Sex'].map(sex_map)\n",
    "df_test['Sex'] = df_test['Sex'].map(sex_map)"
   ]
  },
  {
   "cell_type": "markdown",
   "id": "c7a4dca3-a883-4eaa-a122-3cd7e5443873",
   "metadata": {},
   "source": [
    "### Atributo: Pclass"
   ]
  },
  {
   "cell_type": "code",
   "execution_count": 16,
   "id": "75e63edd-6c29-4367-bcde-9c3957e716f2",
   "metadata": {},
   "outputs": [
    {
     "data": {
      "text/plain": [
       "3    491\n",
       "1    216\n",
       "2    184\n",
       "Name: Pclass, dtype: int64"
      ]
     },
     "execution_count": 16,
     "metadata": {},
     "output_type": "execute_result"
    }
   ],
   "source": [
    "df_train['Pclass'].value_counts()"
   ]
  },
  {
   "cell_type": "code",
   "execution_count": 17,
   "id": "abf4ac9e-de7c-4ccc-a931-6fddca6ed193",
   "metadata": {},
   "outputs": [
    {
     "data": {
      "text/plain": [
       "3    218\n",
       "1    107\n",
       "2     93\n",
       "Name: Pclass, dtype: int64"
      ]
     },
     "execution_count": 17,
     "metadata": {},
     "output_type": "execute_result"
    }
   ],
   "source": [
    "df_test['Pclass'].value_counts()"
   ]
  },
  {
   "cell_type": "code",
   "execution_count": 18,
   "id": "04ff5dd7-e476-43d3-b2fa-e57ebc3ae7fb",
   "metadata": {},
   "outputs": [
    {
     "data": {
      "text/plain": [
       "(0, 0)"
      ]
     },
     "execution_count": 18,
     "metadata": {},
     "output_type": "execute_result"
    }
   ],
   "source": [
    "df_train['Pclass'].isnull().sum(), df_test['Pclass'].isnull().sum()"
   ]
  },
  {
   "cell_type": "code",
   "execution_count": 19,
   "id": "31f2b008-b62a-457b-93d7-c6620d80c100",
   "metadata": {},
   "outputs": [
    {
     "data": {
      "image/png": "[encoded data removed]",
      "text/plain": [
       "<Figure size 432x288 with 1 Axes>"
      ]
     },
     "metadata": {},
     "output_type": "display_data"
    }
   ],
   "source": [
    "df_Pclass = df_train['Pclass'].value_counts()\n",
    "ax = sns.barplot(y=df_train['Pclass'].value_counts(), x=df_Pclass.index, data=df_train, palette=\"Blues_d\")"
   ]
  },
  {
   "cell_type": "code",
   "execution_count": 20,
   "id": "1fe7501b-3791-4872-a27b-083ab2a7ec49",
   "metadata": {},
   "outputs": [
    {
     "data": {
      "image/png": "[encoded data removed]",
      "text/plain": [
       "<Figure size 432x288 with 1 Axes>"
      ]
     },
     "metadata": {},
     "output_type": "display_data"
    }
   ],
   "source": [
    "bar_chart('Pclass')"
   ]
  },
  {
   "cell_type": "markdown",
   "id": "ea2541a7-1c2e-44f4-a35b-ad07c3ba9934",
   "metadata": {},
   "source": [
    "### Atributo: Name"
   ]
  },
  {
   "cell_type": "code",
   "execution_count": 21,
   "id": "d4e9ed3c-43de-4083-ba2e-f5fc94ebe364",
   "metadata": {},
   "outputs": [
    {
     "data": {
      "text/plain": [
       "0                                Braund, Mr. Owen Harris\n",
       "1      Cumings, Mrs. John Bradley (Florence Briggs Th...\n",
       "2                                 Heikkinen, Miss. Laina\n",
       "3           Futrelle, Mrs. Jacques Heath (Lily May Peel)\n",
       "4                               Allen, Mr. William Henry\n",
       "                             ...                        \n",
       "886                                Montvila, Rev. Juozas\n",
       "887                         Graham, Miss. Margaret Edith\n",
       "888             Johnston, Miss. Catherine Helen \"Carrie\"\n",
       "889                                Behr, Mr. Karl Howell\n",
       "890                                  Dooley, Mr. Patrick\n",
       "Name: Name, Length: 891, dtype: object"
      ]
     },
     "execution_count": 21,
     "metadata": {},
     "output_type": "execute_result"
    }
   ],
   "source": [
    "df_train['Name']"
   ]
  },
  {
   "cell_type": "code",
   "execution_count": 22,
   "id": "28c574e1-9474-400c-9680-38eb3ff5c0ea",
   "metadata": {},
   "outputs": [
    {
     "data": {
      "text/plain": [
       "(0, 0)"
      ]
     },
     "execution_count": 22,
     "metadata": {},
     "output_type": "execute_result"
    }
   ],
   "source": [
    "df_train['Name'].isnull().sum(), df_test['Name'].isnull().sum()"
   ]
  },
  {
   "cell_type": "code",
   "execution_count": 23,
   "id": "2b4dd311-5f16-44bc-b1ec-24db5c9a31b1",
   "metadata": {},
   "outputs": [],
   "source": [
    "treino_teste = [df_train, df_test] #Uma lista com o Dataframe de treino e teste.\n",
    "for df in treino_teste:\n",
    "    df['Title'] = df['Name'].str.extract('([A-Za-z]+)\\.', expand=False)"
   ]
  },
  {
   "cell_type": "code",
   "execution_count": 24,
   "id": "92c5fa28-8d2a-45b9-b8dc-4584ddd235d6",
   "metadata": {},
   "outputs": [
    {
     "data": {
      "text/plain": [
       "Mr          517\n",
       "Miss        182\n",
       "Mrs         125\n",
       "Master       40\n",
       "Dr            7\n",
       "Rev           6\n",
       "Mlle          2\n",
       "Major         2\n",
       "Col           2\n",
       "Countess      1\n",
       "Capt          1\n",
       "Ms            1\n",
       "Sir           1\n",
       "Lady          1\n",
       "Mme           1\n",
       "Don           1\n",
       "Jonkheer      1\n",
       "Name: Title, dtype: int64"
      ]
     },
     "execution_count": 24,
     "metadata": {},
     "output_type": "execute_result"
    }
   ],
   "source": [
    "df_train['Title'].value_counts()"
   ]
  },
  {
   "cell_type": "code",
   "execution_count": 25,
   "id": "b9b7128d-0216-4975-bacb-e8e5b738c29a",
   "metadata": {},
   "outputs": [],
   "source": [
    "title_mapping = {\n",
    "    'Mr':0,\n",
    "    'Miss':1,\n",
    "    'Mrs':2,\n",
    "    'Master':3,\n",
    "    'Dr':4, 'Rev':4, 'Major':4, 'Mlle':4, 'Col':4, 'Don':4, 'Sir':4,\n",
    "    'Countess':4, 'Lady':4, 'Ms':4, 'Capt':4, 'Jonkheer':4, 'Mme':4\n",
    "}\n",
    "\n",
    "for df in treino_teste:\n",
    "    df['Title'] = df['Title'].map(title_mapping)"
   ]
  },
  {
   "cell_type": "code",
   "execution_count": 26,
   "id": "2398ad34-78d4-4c1a-89ae-cf250c7fb1c9",
   "metadata": {},
   "outputs": [],
   "source": [
    "#Preenchendo os valores que ficaram como nulos.\n",
    "df_train['Title'].fillna(4, inplace=True)\n",
    "df_test['Title'].fillna(4, inplace=True)"
   ]
  },
  {
   "cell_type": "markdown",
   "id": "827aab22-be3b-4aea-ab56-553f73df7a89",
   "metadata": {},
   "source": [
    "#### Atributo: Age"
   ]
  },
  {
   "cell_type": "code",
   "execution_count": 27,
   "id": "5614924c-ee64-43db-ad09-40be3ea0855e",
   "metadata": {},
   "outputs": [
    {
     "data": {
      "text/plain": [
       "(177, 86)"
      ]
     },
     "execution_count": 27,
     "metadata": {},
     "output_type": "execute_result"
    }
   ],
   "source": [
    "df_train['Age'].isnull().sum(), df_test['Age'].isnull().sum() "
   ]
  },
  {
   "cell_type": "code",
   "execution_count": 28,
   "id": "a8ead3fb-656c-402a-83f1-01e51c0fdf30",
   "metadata": {},
   "outputs": [
    {
     "data": {
      "text/plain": [
       "count    714.000000\n",
       "mean      29.699118\n",
       "std       14.526497\n",
       "min        0.420000\n",
       "25%       20.125000\n",
       "50%       28.000000\n",
       "75%       38.000000\n",
       "max       80.000000\n",
       "Name: Age, dtype: float64"
      ]
     },
     "execution_count": 28,
     "metadata": {},
     "output_type": "execute_result"
    }
   ],
   "source": [
    "df_train['Age'].describe()"
   ]
  },
  {
   "cell_type": "code",
   "execution_count": 29,
   "id": "ae05badc-e2ea-4100-bd60-b3aebbbf173b",
   "metadata": {},
   "outputs": [
    {
     "data": {
      "text/plain": [
       "<AxesSubplot:xlabel='Age', ylabel='Count'>"
      ]
     },
     "execution_count": 29,
     "metadata": {},
     "output_type": "execute_result"
    },
    {
     "data": {
      "image/png": "[encoded data removed]",
      "text/plain": [
       "<Figure size 432x288 with 1 Axes>"
      ]
     },
     "metadata": {},
     "output_type": "display_data"
    }
   ],
   "source": [
    "sns.histplot(df_train['Age'], kde = True)"
   ]
  },
  {
   "cell_type": "code",
   "execution_count": 30,
   "id": "ad6a73d2-1ced-41d0-ab01-40d382b9847f",
   "metadata": {},
   "outputs": [],
   "source": [
    "df_train['Age'].fillna(df_train.groupby('Title')['Age'].transform('median'), inplace=True)\n",
    "df_test['Age'].fillna(df_test.groupby('Title')['Age'].transform('median'), inplace=True)"
   ]
  },
  {
   "cell_type": "code",
   "execution_count": 31,
   "id": "3bbdf0d2-69cd-4704-bafe-ab1c9d2f0998",
   "metadata": {},
   "outputs": [
    {
     "data": {
      "text/html": [
       "<div>\n",
       "<style scoped>\n",
       "    .dataframe tbody tr th:only-of-type {\n",
       "        vertical-align: middle;\n",
       "    }\n",
       "\n",
       "    .dataframe tbody tr th {\n",
       "        vertical-align: top;\n",
       "    }\n",
       "\n",
       "    .dataframe thead th {\n",
       "        text-align: right;\n",
       "    }\n",
       "</style>\n",
       "<table border=\"1\" class=\"dataframe\">\n",
       "  <thead>\n",
       "    <tr style=\"text-align: right;\">\n",
       "      <th></th>\n",
       "      <th>PassengerId</th>\n",
       "      <th>Survived</th>\n",
       "      <th>Pclass</th>\n",
       "      <th>Name</th>\n",
       "      <th>Sex</th>\n",
       "      <th>Age</th>\n",
       "      <th>SibSp</th>\n",
       "      <th>Parch</th>\n",
       "      <th>Ticket</th>\n",
       "      <th>Fare</th>\n",
       "      <th>Cabin</th>\n",
       "      <th>Embarked</th>\n",
       "      <th>Title</th>\n",
       "    </tr>\n",
       "  </thead>\n",
       "  <tbody>\n",
       "    <tr>\n",
       "      <th>0</th>\n",
       "      <td>1</td>\n",
       "      <td>0</td>\n",
       "      <td>3</td>\n",
       "      <td>Braund, Mr. Owen Harris</td>\n",
       "      <td>0</td>\n",
       "      <td>22.0</td>\n",
       "      <td>1</td>\n",
       "      <td>0</td>\n",
       "      <td>A/5 21171</td>\n",
       "      <td>7.2500</td>\n",
       "      <td>NaN</td>\n",
       "      <td>S</td>\n",
       "      <td>0</td>\n",
       "    </tr>\n",
       "    <tr>\n",
       "      <th>1</th>\n",
       "      <td>2</td>\n",
       "      <td>1</td>\n",
       "      <td>1</td>\n",
       "      <td>Cumings, Mrs. John Bradley (Florence Briggs Th...</td>\n",
       "      <td>1</td>\n",
       "      <td>38.0</td>\n",
       "      <td>1</td>\n",
       "      <td>0</td>\n",
       "      <td>PC 17599</td>\n",
       "      <td>71.2833</td>\n",
       "      <td>C85</td>\n",
       "      <td>C</td>\n",
       "      <td>2</td>\n",
       "    </tr>\n",
       "    <tr>\n",
       "      <th>2</th>\n",
       "      <td>3</td>\n",
       "      <td>1</td>\n",
       "      <td>3</td>\n",
       "      <td>Heikkinen, Miss. Laina</td>\n",
       "      <td>1</td>\n",
       "      <td>26.0</td>\n",
       "      <td>0</td>\n",
       "      <td>0</td>\n",
       "      <td>STON/O2. 3101282</td>\n",
       "      <td>7.9250</td>\n",
       "      <td>NaN</td>\n",
       "      <td>S</td>\n",
       "      <td>1</td>\n",
       "    </tr>\n",
       "    <tr>\n",
       "      <th>3</th>\n",
       "      <td>4</td>\n",
       "      <td>1</td>\n",
       "      <td>1</td>\n",
       "      <td>Futrelle, Mrs. Jacques Heath (Lily May Peel)</td>\n",
       "      <td>1</td>\n",
       "      <td>35.0</td>\n",
       "      <td>1</td>\n",
       "      <td>0</td>\n",
       "      <td>113803</td>\n",
       "      <td>53.1000</td>\n",
       "      <td>C123</td>\n",
       "      <td>S</td>\n",
       "      <td>2</td>\n",
       "    </tr>\n",
       "    <tr>\n",
       "      <th>4</th>\n",
       "      <td>5</td>\n",
       "      <td>0</td>\n",
       "      <td>3</td>\n",
       "      <td>Allen, Mr. William Henry</td>\n",
       "      <td>0</td>\n",
       "      <td>35.0</td>\n",
       "      <td>0</td>\n",
       "      <td>0</td>\n",
       "      <td>373450</td>\n",
       "      <td>8.0500</td>\n",
       "      <td>NaN</td>\n",
       "      <td>S</td>\n",
       "      <td>0</td>\n",
       "    </tr>\n",
       "    <tr>\n",
       "      <th>...</th>\n",
       "      <td>...</td>\n",
       "      <td>...</td>\n",
       "      <td>...</td>\n",
       "      <td>...</td>\n",
       "      <td>...</td>\n",
       "      <td>...</td>\n",
       "      <td>...</td>\n",
       "      <td>...</td>\n",
       "      <td>...</td>\n",
       "      <td>...</td>\n",
       "      <td>...</td>\n",
       "      <td>...</td>\n",
       "      <td>...</td>\n",
       "    </tr>\n",
       "    <tr>\n",
       "      <th>886</th>\n",
       "      <td>887</td>\n",
       "      <td>0</td>\n",
       "      <td>2</td>\n",
       "      <td>Montvila, Rev. Juozas</td>\n",
       "      <td>0</td>\n",
       "      <td>27.0</td>\n",
       "      <td>0</td>\n",
       "      <td>0</td>\n",
       "      <td>211536</td>\n",
       "      <td>13.0000</td>\n",
       "      <td>NaN</td>\n",
       "      <td>S</td>\n",
       "      <td>4</td>\n",
       "    </tr>\n",
       "    <tr>\n",
       "      <th>887</th>\n",
       "      <td>888</td>\n",
       "      <td>1</td>\n",
       "      <td>1</td>\n",
       "      <td>Graham, Miss. Margaret Edith</td>\n",
       "      <td>1</td>\n",
       "      <td>19.0</td>\n",
       "      <td>0</td>\n",
       "      <td>0</td>\n",
       "      <td>112053</td>\n",
       "      <td>30.0000</td>\n",
       "      <td>B42</td>\n",
       "      <td>S</td>\n",
       "      <td>1</td>\n",
       "    </tr>\n",
       "    <tr>\n",
       "      <th>888</th>\n",
       "      <td>889</td>\n",
       "      <td>0</td>\n",
       "      <td>3</td>\n",
       "      <td>Johnston, Miss. Catherine Helen \"Carrie\"</td>\n",
       "      <td>1</td>\n",
       "      <td>21.0</td>\n",
       "      <td>1</td>\n",
       "      <td>2</td>\n",
       "      <td>W./C. 6607</td>\n",
       "      <td>23.4500</td>\n",
       "      <td>NaN</td>\n",
       "      <td>S</td>\n",
       "      <td>1</td>\n",
       "    </tr>\n",
       "    <tr>\n",
       "      <th>889</th>\n",
       "      <td>890</td>\n",
       "      <td>1</td>\n",
       "      <td>1</td>\n",
       "      <td>Behr, Mr. Karl Howell</td>\n",
       "      <td>0</td>\n",
       "      <td>26.0</td>\n",
       "      <td>0</td>\n",
       "      <td>0</td>\n",
       "      <td>111369</td>\n",
       "      <td>30.0000</td>\n",
       "      <td>C148</td>\n",
       "      <td>C</td>\n",
       "      <td>0</td>\n",
       "    </tr>\n",
       "    <tr>\n",
       "      <th>890</th>\n",
       "      <td>891</td>\n",
       "      <td>0</td>\n",
       "      <td>3</td>\n",
       "      <td>Dooley, Mr. Patrick</td>\n",
       "      <td>0</td>\n",
       "      <td>32.0</td>\n",
       "      <td>0</td>\n",
       "      <td>0</td>\n",
       "      <td>370376</td>\n",
       "      <td>7.7500</td>\n",
       "      <td>NaN</td>\n",
       "      <td>Q</td>\n",
       "      <td>0</td>\n",
       "    </tr>\n",
       "  </tbody>\n",
       "</table>\n",
       "<p>891 rows × 13 columns</p>\n",
       "</div>"
      ],
      "text/plain": [
       "     PassengerId  Survived  Pclass  \\\n",
       "0              1         0       3   \n",
       "1              2         1       1   \n",
       "2              3         1       3   \n",
       "3              4         1       1   \n",
       "4              5         0       3   \n",
       "..           ...       ...     ...   \n",
       "886          887         0       2   \n",
       "887          888         1       1   \n",
       "888          889         0       3   \n",
       "889          890         1       1   \n",
       "890          891         0       3   \n",
       "\n",
       "                                                  Name  Sex   Age  SibSp  \\\n",
       "0                              Braund, Mr. Owen Harris    0  22.0      1   \n",
       "1    Cumings, Mrs. John Bradley (Florence Briggs Th...    1  38.0      1   \n",
       "2                               Heikkinen, Miss. Laina    1  26.0      0   \n",
       "3         Futrelle, Mrs. Jacques Heath (Lily May Peel)    1  35.0      1   \n",
       "4                             Allen, Mr. William Henry    0  35.0      0   \n",
       "..                                                 ...  ...   ...    ...   \n",
       "886                              Montvila, Rev. Juozas    0  27.0      0   \n",
       "887                       Graham, Miss. Margaret Edith    1  19.0      0   \n",
       "888           Johnston, Miss. Catherine Helen \"Carrie\"    1  21.0      1   \n",
       "889                              Behr, Mr. Karl Howell    0  26.0      0   \n",
       "890                                Dooley, Mr. Patrick    0  32.0      0   \n",
       "\n",
       "     Parch            Ticket     Fare Cabin Embarked  Title  \n",
       "0        0         A/5 21171   7.2500   NaN        S      0  \n",
       "1        0          PC 17599  71.2833   C85        C      2  \n",
       "2        0  STON/O2. 3101282   7.9250   NaN        S      1  \n",
       "3        0            113803  53.1000  C123        S      2  \n",
       "4        0            373450   8.0500   NaN        S      0  \n",
       "..     ...               ...      ...   ...      ...    ...  \n",
       "886      0            211536  13.0000   NaN        S      4  \n",
       "887      0            112053  30.0000   B42        S      1  \n",
       "888      2        W./C. 6607  23.4500   NaN        S      1  \n",
       "889      0            111369  30.0000  C148        C      0  \n",
       "890      0            370376   7.7500   NaN        Q      0  \n",
       "\n",
       "[891 rows x 13 columns]"
      ]
     },
     "execution_count": 31,
     "metadata": {},
     "output_type": "execute_result"
    }
   ],
   "source": [
    "df_train"
   ]
  },
  {
   "cell_type": "code",
   "execution_count": 32,
   "id": "352295ae-376f-4a6a-a46d-26b9c322d518",
   "metadata": {},
   "outputs": [
    {
     "data": {
      "text/plain": [
       "<matplotlib.legend.Legend at 0x1ff07de8a90>"
      ]
     },
     "execution_count": 32,
     "metadata": {},
     "output_type": "execute_result"
    },
    {
     "data": {
      "image/png": "[encoded data removed]",
      "text/plain": [
       "<Figure size 432x288 with 1 Axes>"
      ]
     },
     "metadata": {},
     "output_type": "display_data"
    }
   ],
   "source": [
    "unicos = list(set(df_train['Survived']))\n",
    "for i in range(len(unicos)):\n",
    "    indice = df_train['Survived'] == unicos[i]\n",
    "    plt.scatter(df_train[indice]['Survived'], df_train[indice]['Age'], label = unicos[i])\n",
    "plt.legend(loc = 'lower right')"
   ]
  },
  {
   "cell_type": "code",
   "execution_count": 33,
   "id": "accb7708-618a-45d1-9d2f-091bd4f02ee4",
   "metadata": {},
   "outputs": [],
   "source": [
    "list_df = [df_train, df_test]\n",
    "for df in list_df:\n",
    "    df['CategoricalAge'] = pd.cut(df['Age'], [0, 18, 40, 100], labels=[0,1,2])"
   ]
  },
  {
   "cell_type": "markdown",
   "id": "1d6b897c-4601-4940-8bbb-6a4de7f10b88",
   "metadata": {},
   "source": [
    "### Atributo: Sibsp and Parch"
   ]
  },
  {
   "cell_type": "code",
   "execution_count": 34,
   "id": "cdf8296e-3b6d-43cb-85f6-761dfd01af70",
   "metadata": {},
   "outputs": [
    {
     "data": {
      "text/plain": [
       "(0, 0)"
      ]
     },
     "execution_count": 34,
     "metadata": {},
     "output_type": "execute_result"
    }
   ],
   "source": [
    "df_train['SibSp'].isnull().sum(), df_test['SibSp'].isnull().sum()"
   ]
  },
  {
   "cell_type": "code",
   "execution_count": 35,
   "id": "499c1fec-19f1-4c15-89d8-4af6a3188357",
   "metadata": {},
   "outputs": [
    {
     "data": {
      "text/plain": [
       "(0, 0)"
      ]
     },
     "execution_count": 35,
     "metadata": {},
     "output_type": "execute_result"
    }
   ],
   "source": [
    "df_train['Parch'].isnull().sum(), df_test['Parch'].isnull().sum()"
   ]
  },
  {
   "cell_type": "code",
   "execution_count": 36,
   "id": "cfcb9a8e-57ee-4e5b-9eeb-86d3a9ee5e8c",
   "metadata": {},
   "outputs": [
    {
     "data": {
      "image/png": "[encoded data removed]",
      "text/plain": [
       "<Figure size 432x288 with 1 Axes>"
      ]
     },
     "metadata": {},
     "output_type": "display_data"
    }
   ],
   "source": [
    "bar_chart('SibSp')"
   ]
  },
  {
   "cell_type": "code",
   "execution_count": 37,
   "id": "56ef37dc-7328-45e4-ac50-b38a7324be14",
   "metadata": {},
   "outputs": [
    {
     "data": {
      "image/png": "[encoded data removed]",
      "text/plain": [
       "<Figure size 432x288 with 1 Axes>"
      ]
     },
     "metadata": {},
     "output_type": "display_data"
    }
   ],
   "source": [
    "bar_chart('Parch')"
   ]
  },
  {
   "cell_type": "code",
   "execution_count": 38,
   "id": "0a579859-897a-4996-9a45-53f059e59529",
   "metadata": {},
   "outputs": [
    {
     "data": {
      "text/plain": [
       "0    608\n",
       "1    209\n",
       "2     28\n",
       "4     18\n",
       "3     16\n",
       "8      7\n",
       "5      5\n",
       "Name: SibSp, dtype: int64"
      ]
     },
     "execution_count": 38,
     "metadata": {},
     "output_type": "execute_result"
    }
   ],
   "source": [
    "df_train['SibSp'].value_counts()"
   ]
  },
  {
   "cell_type": "code",
   "execution_count": 39,
   "id": "6b529f9a-114b-4ca9-9da4-8cc01647e48e",
   "metadata": {},
   "outputs": [
    {
     "data": {
      "text/plain": [
       "0    678\n",
       "1    118\n",
       "2     80\n",
       "5      5\n",
       "3      5\n",
       "4      4\n",
       "6      1\n",
       "Name: Parch, dtype: int64"
      ]
     },
     "execution_count": 39,
     "metadata": {},
     "output_type": "execute_result"
    }
   ],
   "source": [
    "df_train['Parch'].value_counts()"
   ]
  },
  {
   "cell_type": "code",
   "execution_count": 40,
   "id": "3a5d3bf7-aae1-4cd0-bf79-747d4d0a6597",
   "metadata": {},
   "outputs": [],
   "source": [
    "df_train['FamilySize'] = df_train['SibSp'] + df_train['Parch'] + 1\n",
    "df_test['FamilySize'] = df_test['SibSp'] + df_test['Parch'] + 1"
   ]
  },
  {
   "cell_type": "markdown",
   "id": "eb566f56-ee7c-4614-986a-894c65f25b9b",
   "metadata": {},
   "source": [
    "### Atributo: Embarked"
   ]
  },
  {
   "cell_type": "code",
   "execution_count": 41,
   "id": "4e61b42e-88fb-4440-a7cf-70e6218cd924",
   "metadata": {},
   "outputs": [
    {
     "data": {
      "text/plain": [
       "(2, 0)"
      ]
     },
     "execution_count": 41,
     "metadata": {},
     "output_type": "execute_result"
    }
   ],
   "source": [
    "df_train['Embarked'].isnull().sum(), df_test['Embarked'].isnull().sum()"
   ]
  },
  {
   "cell_type": "code",
   "execution_count": 42,
   "id": "9182d3fd-cb63-48f3-bcf7-186d7c9cbd49",
   "metadata": {},
   "outputs": [
    {
     "data": {
      "text/plain": [
       "(S    644\n",
       " C    168\n",
       " Q     77\n",
       " Name: Embarked, dtype: int64,\n",
       " S    270\n",
       " C    102\n",
       " Q     46\n",
       " Name: Embarked, dtype: int64)"
      ]
     },
     "execution_count": 42,
     "metadata": {},
     "output_type": "execute_result"
    }
   ],
   "source": [
    "df_train['Embarked'].value_counts(), df_test['Embarked'].value_counts()"
   ]
  },
  {
   "cell_type": "code",
   "execution_count": 43,
   "id": "fa9da8e9-7390-4ef0-a9a8-5175f410a266",
   "metadata": {},
   "outputs": [],
   "source": [
    "#Preenchendo com a moda\n",
    "df_train['Embarked'].fillna('S', inplace=True)\n",
    "df_test['Embarked'].fillna('S', inplace=True)"
   ]
  },
  {
   "cell_type": "code",
   "execution_count": 44,
   "id": "fb5d1576-f644-49f1-99d6-79ad8cb84ed0",
   "metadata": {},
   "outputs": [],
   "source": [
    "emb_map = {\n",
    "    'S': 0,\n",
    "    'C': 1,\n",
    "    'Q': 2\n",
    "}\n",
    "\n",
    "df_train['Embarked'] = df_train['Embarked'].map(emb_map)\n",
    "df_test['Embarked'] = df_test['Embarked'].map(emb_map)"
   ]
  },
  {
   "cell_type": "code",
   "execution_count": 45,
   "id": "e0f9e19c-acb1-4e41-b376-ff86474033df",
   "metadata": {},
   "outputs": [
    {
     "data": {
      "image/png": "[encoded data removed]",
      "text/plain": [
       "<Figure size 432x288 with 1 Axes>"
      ]
     },
     "metadata": {},
     "output_type": "display_data"
    }
   ],
   "source": [
    "bar_chart('Embarked')"
   ]
  },
  {
   "cell_type": "code",
   "execution_count": 46,
   "id": "d1572151-afc1-4d9a-a2f8-136b81482f0b",
   "metadata": {},
   "outputs": [
    {
     "data": {
      "text/html": [
       "<div>\n",
       "<style scoped>\n",
       "    .dataframe tbody tr th:only-of-type {\n",
       "        vertical-align: middle;\n",
       "    }\n",
       "\n",
       "    .dataframe tbody tr th {\n",
       "        vertical-align: top;\n",
       "    }\n",
       "\n",
       "    .dataframe thead th {\n",
       "        text-align: right;\n",
       "    }\n",
       "</style>\n",
       "<table border=\"1\" class=\"dataframe\">\n",
       "  <thead>\n",
       "    <tr style=\"text-align: right;\">\n",
       "      <th></th>\n",
       "      <th>PassengerId</th>\n",
       "      <th>Survived</th>\n",
       "      <th>Pclass</th>\n",
       "      <th>Name</th>\n",
       "      <th>Sex</th>\n",
       "      <th>Age</th>\n",
       "      <th>SibSp</th>\n",
       "      <th>Parch</th>\n",
       "      <th>Ticket</th>\n",
       "      <th>Fare</th>\n",
       "      <th>Cabin</th>\n",
       "      <th>Embarked</th>\n",
       "      <th>Title</th>\n",
       "      <th>CategoricalAge</th>\n",
       "      <th>FamilySize</th>\n",
       "    </tr>\n",
       "  </thead>\n",
       "  <tbody>\n",
       "    <tr>\n",
       "      <th>0</th>\n",
       "      <td>1</td>\n",
       "      <td>0</td>\n",
       "      <td>3</td>\n",
       "      <td>Braund, Mr. Owen Harris</td>\n",
       "      <td>0</td>\n",
       "      <td>22.0</td>\n",
       "      <td>1</td>\n",
       "      <td>0</td>\n",
       "      <td>A/5 21171</td>\n",
       "      <td>7.2500</td>\n",
       "      <td>NaN</td>\n",
       "      <td>0</td>\n",
       "      <td>0</td>\n",
       "      <td>1</td>\n",
       "      <td>2</td>\n",
       "    </tr>\n",
       "    <tr>\n",
       "      <th>1</th>\n",
       "      <td>2</td>\n",
       "      <td>1</td>\n",
       "      <td>1</td>\n",
       "      <td>Cumings, Mrs. John Bradley (Florence Briggs Th...</td>\n",
       "      <td>1</td>\n",
       "      <td>38.0</td>\n",
       "      <td>1</td>\n",
       "      <td>0</td>\n",
       "      <td>PC 17599</td>\n",
       "      <td>71.2833</td>\n",
       "      <td>C85</td>\n",
       "      <td>1</td>\n",
       "      <td>2</td>\n",
       "      <td>1</td>\n",
       "      <td>2</td>\n",
       "    </tr>\n",
       "    <tr>\n",
       "      <th>2</th>\n",
       "      <td>3</td>\n",
       "      <td>1</td>\n",
       "      <td>3</td>\n",
       "      <td>Heikkinen, Miss. Laina</td>\n",
       "      <td>1</td>\n",
       "      <td>26.0</td>\n",
       "      <td>0</td>\n",
       "      <td>0</td>\n",
       "      <td>STON/O2. 3101282</td>\n",
       "      <td>7.9250</td>\n",
       "      <td>NaN</td>\n",
       "      <td>0</td>\n",
       "      <td>1</td>\n",
       "      <td>1</td>\n",
       "      <td>1</td>\n",
       "    </tr>\n",
       "    <tr>\n",
       "      <th>3</th>\n",
       "      <td>4</td>\n",
       "      <td>1</td>\n",
       "      <td>1</td>\n",
       "      <td>Futrelle, Mrs. Jacques Heath (Lily May Peel)</td>\n",
       "      <td>1</td>\n",
       "      <td>35.0</td>\n",
       "      <td>1</td>\n",
       "      <td>0</td>\n",
       "      <td>113803</td>\n",
       "      <td>53.1000</td>\n",
       "      <td>C123</td>\n",
       "      <td>0</td>\n",
       "      <td>2</td>\n",
       "      <td>1</td>\n",
       "      <td>2</td>\n",
       "    </tr>\n",
       "    <tr>\n",
       "      <th>4</th>\n",
       "      <td>5</td>\n",
       "      <td>0</td>\n",
       "      <td>3</td>\n",
       "      <td>Allen, Mr. William Henry</td>\n",
       "      <td>0</td>\n",
       "      <td>35.0</td>\n",
       "      <td>0</td>\n",
       "      <td>0</td>\n",
       "      <td>373450</td>\n",
       "      <td>8.0500</td>\n",
       "      <td>NaN</td>\n",
       "      <td>0</td>\n",
       "      <td>0</td>\n",
       "      <td>1</td>\n",
       "      <td>1</td>\n",
       "    </tr>\n",
       "  </tbody>\n",
       "</table>\n",
       "</div>"
      ],
      "text/plain": [
       "   PassengerId  Survived  Pclass  \\\n",
       "0            1         0       3   \n",
       "1            2         1       1   \n",
       "2            3         1       3   \n",
       "3            4         1       1   \n",
       "4            5         0       3   \n",
       "\n",
       "                                                Name  Sex   Age  SibSp  Parch  \\\n",
       "0                            Braund, Mr. Owen Harris    0  22.0      1      0   \n",
       "1  Cumings, Mrs. John Bradley (Florence Briggs Th...    1  38.0      1      0   \n",
       "2                             Heikkinen, Miss. Laina    1  26.0      0      0   \n",
       "3       Futrelle, Mrs. Jacques Heath (Lily May Peel)    1  35.0      1      0   \n",
       "4                           Allen, Mr. William Henry    0  35.0      0      0   \n",
       "\n",
       "             Ticket     Fare Cabin  Embarked  Title CategoricalAge  FamilySize  \n",
       "0         A/5 21171   7.2500   NaN         0      0              1           2  \n",
       "1          PC 17599  71.2833   C85         1      2              1           2  \n",
       "2  STON/O2. 3101282   7.9250   NaN         0      1              1           1  \n",
       "3            113803  53.1000  C123         0      2              1           2  \n",
       "4            373450   8.0500   NaN         0      0              1           1  "
      ]
     },
     "execution_count": 46,
     "metadata": {},
     "output_type": "execute_result"
    }
   ],
   "source": [
    "df_train.head()"
   ]
  },
  {
   "cell_type": "markdown",
   "id": "25e29402-ef59-4b01-b6ca-95f2bf5c80bd",
   "metadata": {},
   "source": [
    "### Atributo: Fare"
   ]
  },
  {
   "cell_type": "code",
   "execution_count": 47,
   "id": "23206a67-1953-4732-8242-11f3f1163c8c",
   "metadata": {},
   "outputs": [
    {
     "data": {
      "text/plain": [
       "(0, 1)"
      ]
     },
     "execution_count": 47,
     "metadata": {},
     "output_type": "execute_result"
    }
   ],
   "source": [
    "df_train['Fare'].isnull().sum(), df_test['Fare'].isnull().sum()"
   ]
  },
  {
   "cell_type": "code",
   "execution_count": 48,
   "id": "47a8fe08-83ed-49f5-98a3-99abd96d3bb3",
   "metadata": {},
   "outputs": [],
   "source": [
    "df_train['Fare'].fillna(df_train.groupby('Pclass')['Fare'].transform('median'), inplace = True)\n",
    "df_test['Fare'].fillna(df_test.groupby('Pclass')['Fare'].transform('median'), inplace = True)"
   ]
  },
  {
   "cell_type": "markdown",
   "id": "d214cc9a-f569-4834-a784-4b10ddf5e440",
   "metadata": {},
   "source": [
    "#### Atributo: Cabin"
   ]
  },
  {
   "cell_type": "code",
   "execution_count": 49,
   "id": "d6768327-0649-41fd-8bd4-d7fbaac5d294",
   "metadata": {},
   "outputs": [],
   "source": [
    "df_train['Cabin'] = df_train['Cabin'].str[:1]\n",
    "df_test['Cabin'] = df_test['Cabin'].str[:1]"
   ]
  },
  {
   "cell_type": "code",
   "execution_count": 50,
   "id": "ec7eab71-0893-4ca0-949f-56487bb888d3",
   "metadata": {},
   "outputs": [
    {
     "data": {
      "text/plain": [
       "C    59\n",
       "B    47\n",
       "D    33\n",
       "E    32\n",
       "A    15\n",
       "F    13\n",
       "G     4\n",
       "T     1\n",
       "Name: Cabin, dtype: int64"
      ]
     },
     "execution_count": 50,
     "metadata": {},
     "output_type": "execute_result"
    }
   ],
   "source": [
    "df_train['Cabin'].value_counts()"
   ]
  },
  {
   "cell_type": "code",
   "execution_count": 51,
   "id": "bde40173-736d-409b-8799-59f04293c91e",
   "metadata": {},
   "outputs": [
    {
     "name": "stdout",
     "output_type": "stream",
     "text": [
      "(891, 15) (418, 14)\n",
      "687 327\n"
     ]
    }
   ],
   "source": [
    "print(df_train.shape, df_test.shape)\n",
    "\n",
    "print(df_train['Cabin'].isnull().sum(), df_test['Cabin'].isnull().sum())"
   ]
  },
  {
   "cell_type": "markdown",
   "id": "c1a064e7-c32f-44c3-b0bb-d12671b3f85c",
   "metadata": {},
   "source": [
    "### Excluindo colunas desnecessárias"
   ]
  },
  {
   "cell_type": "code",
   "execution_count": 52,
   "id": "1834478b-b20a-4c2a-a173-17d7383d0938",
   "metadata": {},
   "outputs": [
    {
     "data": {
      "text/html": [
       "<div>\n",
       "<style scoped>\n",
       "    .dataframe tbody tr th:only-of-type {\n",
       "        vertical-align: middle;\n",
       "    }\n",
       "\n",
       "    .dataframe tbody tr th {\n",
       "        vertical-align: top;\n",
       "    }\n",
       "\n",
       "    .dataframe thead th {\n",
       "        text-align: right;\n",
       "    }\n",
       "</style>\n",
       "<table border=\"1\" class=\"dataframe\">\n",
       "  <thead>\n",
       "    <tr style=\"text-align: right;\">\n",
       "      <th></th>\n",
       "      <th>PassengerId</th>\n",
       "      <th>Survived</th>\n",
       "      <th>Pclass</th>\n",
       "      <th>Name</th>\n",
       "      <th>Sex</th>\n",
       "      <th>Age</th>\n",
       "      <th>SibSp</th>\n",
       "      <th>Parch</th>\n",
       "      <th>Ticket</th>\n",
       "      <th>Fare</th>\n",
       "      <th>Cabin</th>\n",
       "      <th>Embarked</th>\n",
       "      <th>Title</th>\n",
       "      <th>CategoricalAge</th>\n",
       "      <th>FamilySize</th>\n",
       "    </tr>\n",
       "  </thead>\n",
       "  <tbody>\n",
       "    <tr>\n",
       "      <th>0</th>\n",
       "      <td>1</td>\n",
       "      <td>0</td>\n",
       "      <td>3</td>\n",
       "      <td>Braund, Mr. Owen Harris</td>\n",
       "      <td>0</td>\n",
       "      <td>22.0</td>\n",
       "      <td>1</td>\n",
       "      <td>0</td>\n",
       "      <td>A/5 21171</td>\n",
       "      <td>7.2500</td>\n",
       "      <td>NaN</td>\n",
       "      <td>0</td>\n",
       "      <td>0</td>\n",
       "      <td>1</td>\n",
       "      <td>2</td>\n",
       "    </tr>\n",
       "    <tr>\n",
       "      <th>1</th>\n",
       "      <td>2</td>\n",
       "      <td>1</td>\n",
       "      <td>1</td>\n",
       "      <td>Cumings, Mrs. John Bradley (Florence Briggs Th...</td>\n",
       "      <td>1</td>\n",
       "      <td>38.0</td>\n",
       "      <td>1</td>\n",
       "      <td>0</td>\n",
       "      <td>PC 17599</td>\n",
       "      <td>71.2833</td>\n",
       "      <td>C</td>\n",
       "      <td>1</td>\n",
       "      <td>2</td>\n",
       "      <td>1</td>\n",
       "      <td>2</td>\n",
       "    </tr>\n",
       "    <tr>\n",
       "      <th>2</th>\n",
       "      <td>3</td>\n",
       "      <td>1</td>\n",
       "      <td>3</td>\n",
       "      <td>Heikkinen, Miss. Laina</td>\n",
       "      <td>1</td>\n",
       "      <td>26.0</td>\n",
       "      <td>0</td>\n",
       "      <td>0</td>\n",
       "      <td>STON/O2. 3101282</td>\n",
       "      <td>7.9250</td>\n",
       "      <td>NaN</td>\n",
       "      <td>0</td>\n",
       "      <td>1</td>\n",
       "      <td>1</td>\n",
       "      <td>1</td>\n",
       "    </tr>\n",
       "  </tbody>\n",
       "</table>\n",
       "</div>"
      ],
      "text/plain": [
       "   PassengerId  Survived  Pclass  \\\n",
       "0            1         0       3   \n",
       "1            2         1       1   \n",
       "2            3         1       3   \n",
       "\n",
       "                                                Name  Sex   Age  SibSp  Parch  \\\n",
       "0                            Braund, Mr. Owen Harris    0  22.0      1      0   \n",
       "1  Cumings, Mrs. John Bradley (Florence Briggs Th...    1  38.0      1      0   \n",
       "2                             Heikkinen, Miss. Laina    1  26.0      0      0   \n",
       "\n",
       "             Ticket     Fare Cabin  Embarked  Title CategoricalAge  FamilySize  \n",
       "0         A/5 21171   7.2500   NaN         0      0              1           2  \n",
       "1          PC 17599  71.2833     C         1      2              1           2  \n",
       "2  STON/O2. 3101282   7.9250   NaN         0      1              1           1  "
      ]
     },
     "execution_count": 52,
     "metadata": {},
     "output_type": "execute_result"
    }
   ],
   "source": [
    "df_train.head(3)"
   ]
  },
  {
   "cell_type": "code",
   "execution_count": 57,
   "id": "6a11806d-a368-46ef-b6f1-72b715438636",
   "metadata": {},
   "outputs": [],
   "source": [
    "features_drop = ['PassengerId', 'Name', 'Ticket', 'Cabin', 'FamilySize']\n",
    "f_train = df_train.drop(features_drop, axis=1)\n",
    "f_test = df_test.drop(features_drop, axis=1)\n",
    "f_test['Survived'] = -1"
   ]
  },
  {
   "cell_type": "code",
   "execution_count": 73,
   "id": "44b47cc2-65eb-4980-bb9a-eae300f8ab99",
   "metadata": {},
   "outputs": [],
   "source": [
    "#f_total = f_train.join(f_test)\n",
    "f_total = pd.concat([f_train, f_test], ignore_index=True)"
   ]
  },
  {
   "cell_type": "code",
   "execution_count": 74,
   "id": "95ae7b2a-ff3b-4f7e-9e18-c0e4aab7bb5b",
   "metadata": {},
   "outputs": [
    {
     "data": {
      "text/plain": [
       "Survived          0\n",
       "Pclass            0\n",
       "Sex               0\n",
       "Age               0\n",
       "SibSp             0\n",
       "Parch             0\n",
       "Fare              0\n",
       "Embarked          0\n",
       "Title             0\n",
       "CategoricalAge    0\n",
       "dtype: int64"
      ]
     },
     "execution_count": 74,
     "metadata": {},
     "output_type": "execute_result"
    }
   ],
   "source": [
    "f_total.isnull().sum()"
   ]
  },
  {
   "cell_type": "code",
   "execution_count": 75,
   "id": "de3c5941-b4a1-4768-8af2-94202338a951",
   "metadata": {},
   "outputs": [
    {
     "data": {
      "text/plain": [
       "(1309, 10)"
      ]
     },
     "execution_count": 75,
     "metadata": {},
     "output_type": "execute_result"
    }
   ],
   "source": [
    "f_total.shape"
   ]
  },
  {
   "cell_type": "code",
   "execution_count": 83,
   "id": "f3617624-7b72-4532-8435-97b091f24331",
   "metadata": {},
   "outputs": [],
   "source": [
    "from sklearn.preprocessing import LabelEncoder\n",
    "from sklearn.preprocessing import OneHotEncoder\n",
    "\n",
    "def encoder(df, col):\n",
    "    X = df.values\n",
    "    valores_Pclass = list(df[col].sort_values().unique())\n",
    "    colunas = []\n",
    "    for i in valores_Pclass:\n",
    "        colunas.append(col + '_' + str(i))\n",
    "    colunas = colunas + list(df.columns)\n",
    "    \n",
    "    labelencoder_Pclass = LabelEncoder()\n",
    "    X[:, 0] = labelencoder_Pclass.fit_transform(X[:, 0])\n",
    "    \n",
    "    onehotencoder = OneHotEncoder(handle_unknown='ignore')\n",
    "    enc_df = onehotencoder.fit_transform(df[[col]]).toarray()\n",
    "    enc_df = pd.DataFrame(enc_df)\n",
    "    \n",
    "    df = enc_df.join(df)\n",
    "    df.columns = colunas\n",
    "    df.drop(col, axis=1, inplace=True)\n",
    "    \n",
    "    return df"
   ]
  },
  {
   "cell_type": "markdown",
   "id": "20ce7e23-e1c2-46a1-b87d-31b2d9cbeba9",
   "metadata": {},
   "source": [
    "**Pclass**"
   ]
  },
  {
   "cell_type": "code",
   "execution_count": 84,
   "id": "a88e0fca-7a07-4311-a669-fa1e01f5f75b",
   "metadata": {},
   "outputs": [],
   "source": [
    "f_total = encoder(f_total, 'Pclass')"
   ]
  },
  {
   "cell_type": "markdown",
   "id": "1d8632da-5dd6-48b6-be54-b94cc32b467e",
   "metadata": {},
   "source": [
    "**Embarked**"
   ]
  },
  {
   "cell_type": "code",
   "execution_count": 85,
   "id": "57a2a347-1444-4a41-86bc-ce405a659333",
   "metadata": {},
   "outputs": [],
   "source": [
    "f_total = encoder(f_total, 'Embarked')"
   ]
  },
  {
   "cell_type": "markdown",
   "id": "cb0b4ca0-4ac0-4c3c-985e-740287d63de4",
   "metadata": {},
   "source": [
    "**Title**"
   ]
  },
  {
   "cell_type": "code",
   "execution_count": 86,
   "id": "b793b837-4142-440d-95a0-018ef1621257",
   "metadata": {},
   "outputs": [],
   "source": [
    "f_total = encoder(f_total, 'Title')"
   ]
  },
  {
   "cell_type": "code",
   "execution_count": 87,
   "id": "4b6d67bd-b5a4-4b24-8152-b776cdba45af",
   "metadata": {},
   "outputs": [
    {
     "data": {
      "text/html": [
       "<div>\n",
       "<style scoped>\n",
       "    .dataframe tbody tr th:only-of-type {\n",
       "        vertical-align: middle;\n",
       "    }\n",
       "\n",
       "    .dataframe tbody tr th {\n",
       "        vertical-align: top;\n",
       "    }\n",
       "\n",
       "    .dataframe thead th {\n",
       "        text-align: right;\n",
       "    }\n",
       "</style>\n",
       "<table border=\"1\" class=\"dataframe\">\n",
       "  <thead>\n",
       "    <tr style=\"text-align: right;\">\n",
       "      <th></th>\n",
       "      <th>Title_0.0</th>\n",
       "      <th>Title_1.0</th>\n",
       "      <th>Title_2.0</th>\n",
       "      <th>Title_3.0</th>\n",
       "      <th>Title_4.0</th>\n",
       "      <th>Embarked_0</th>\n",
       "      <th>Embarked_1</th>\n",
       "      <th>Embarked_2</th>\n",
       "      <th>Pclass_1</th>\n",
       "      <th>Pclass_2</th>\n",
       "      <th>Pclass_3</th>\n",
       "      <th>Survived</th>\n",
       "      <th>Sex</th>\n",
       "      <th>Age</th>\n",
       "      <th>SibSp</th>\n",
       "      <th>Parch</th>\n",
       "      <th>Fare</th>\n",
       "      <th>CategoricalAge</th>\n",
       "    </tr>\n",
       "  </thead>\n",
       "  <tbody>\n",
       "    <tr>\n",
       "      <th>0</th>\n",
       "      <td>1.0</td>\n",
       "      <td>0.0</td>\n",
       "      <td>0.0</td>\n",
       "      <td>0.0</td>\n",
       "      <td>0.0</td>\n",
       "      <td>1.0</td>\n",
       "      <td>0.0</td>\n",
       "      <td>0.0</td>\n",
       "      <td>0.0</td>\n",
       "      <td>0.0</td>\n",
       "      <td>1.0</td>\n",
       "      <td>0</td>\n",
       "      <td>0</td>\n",
       "      <td>22.0</td>\n",
       "      <td>1</td>\n",
       "      <td>0</td>\n",
       "      <td>7.2500</td>\n",
       "      <td>1</td>\n",
       "    </tr>\n",
       "    <tr>\n",
       "      <th>1</th>\n",
       "      <td>0.0</td>\n",
       "      <td>0.0</td>\n",
       "      <td>1.0</td>\n",
       "      <td>0.0</td>\n",
       "      <td>0.0</td>\n",
       "      <td>0.0</td>\n",
       "      <td>1.0</td>\n",
       "      <td>0.0</td>\n",
       "      <td>1.0</td>\n",
       "      <td>0.0</td>\n",
       "      <td>0.0</td>\n",
       "      <td>1</td>\n",
       "      <td>1</td>\n",
       "      <td>38.0</td>\n",
       "      <td>1</td>\n",
       "      <td>0</td>\n",
       "      <td>71.2833</td>\n",
       "      <td>1</td>\n",
       "    </tr>\n",
       "    <tr>\n",
       "      <th>2</th>\n",
       "      <td>0.0</td>\n",
       "      <td>1.0</td>\n",
       "      <td>0.0</td>\n",
       "      <td>0.0</td>\n",
       "      <td>0.0</td>\n",
       "      <td>1.0</td>\n",
       "      <td>0.0</td>\n",
       "      <td>0.0</td>\n",
       "      <td>0.0</td>\n",
       "      <td>0.0</td>\n",
       "      <td>1.0</td>\n",
       "      <td>1</td>\n",
       "      <td>1</td>\n",
       "      <td>26.0</td>\n",
       "      <td>0</td>\n",
       "      <td>0</td>\n",
       "      <td>7.9250</td>\n",
       "      <td>1</td>\n",
       "    </tr>\n",
       "    <tr>\n",
       "      <th>3</th>\n",
       "      <td>0.0</td>\n",
       "      <td>0.0</td>\n",
       "      <td>1.0</td>\n",
       "      <td>0.0</td>\n",
       "      <td>0.0</td>\n",
       "      <td>1.0</td>\n",
       "      <td>0.0</td>\n",
       "      <td>0.0</td>\n",
       "      <td>1.0</td>\n",
       "      <td>0.0</td>\n",
       "      <td>0.0</td>\n",
       "      <td>1</td>\n",
       "      <td>1</td>\n",
       "      <td>35.0</td>\n",
       "      <td>1</td>\n",
       "      <td>0</td>\n",
       "      <td>53.1000</td>\n",
       "      <td>1</td>\n",
       "    </tr>\n",
       "    <tr>\n",
       "      <th>4</th>\n",
       "      <td>1.0</td>\n",
       "      <td>0.0</td>\n",
       "      <td>0.0</td>\n",
       "      <td>0.0</td>\n",
       "      <td>0.0</td>\n",
       "      <td>1.0</td>\n",
       "      <td>0.0</td>\n",
       "      <td>0.0</td>\n",
       "      <td>0.0</td>\n",
       "      <td>0.0</td>\n",
       "      <td>1.0</td>\n",
       "      <td>0</td>\n",
       "      <td>0</td>\n",
       "      <td>35.0</td>\n",
       "      <td>0</td>\n",
       "      <td>0</td>\n",
       "      <td>8.0500</td>\n",
       "      <td>1</td>\n",
       "    </tr>\n",
       "    <tr>\n",
       "      <th>...</th>\n",
       "      <td>...</td>\n",
       "      <td>...</td>\n",
       "      <td>...</td>\n",
       "      <td>...</td>\n",
       "      <td>...</td>\n",
       "      <td>...</td>\n",
       "      <td>...</td>\n",
       "      <td>...</td>\n",
       "      <td>...</td>\n",
       "      <td>...</td>\n",
       "      <td>...</td>\n",
       "      <td>...</td>\n",
       "      <td>...</td>\n",
       "      <td>...</td>\n",
       "      <td>...</td>\n",
       "      <td>...</td>\n",
       "      <td>...</td>\n",
       "      <td>...</td>\n",
       "    </tr>\n",
       "    <tr>\n",
       "      <th>1304</th>\n",
       "      <td>1.0</td>\n",
       "      <td>0.0</td>\n",
       "      <td>0.0</td>\n",
       "      <td>0.0</td>\n",
       "      <td>0.0</td>\n",
       "      <td>1.0</td>\n",
       "      <td>0.0</td>\n",
       "      <td>0.0</td>\n",
       "      <td>0.0</td>\n",
       "      <td>0.0</td>\n",
       "      <td>1.0</td>\n",
       "      <td>-1</td>\n",
       "      <td>0</td>\n",
       "      <td>28.5</td>\n",
       "      <td>0</td>\n",
       "      <td>0</td>\n",
       "      <td>8.0500</td>\n",
       "      <td>1</td>\n",
       "    </tr>\n",
       "    <tr>\n",
       "      <th>1305</th>\n",
       "      <td>0.0</td>\n",
       "      <td>0.0</td>\n",
       "      <td>0.0</td>\n",
       "      <td>0.0</td>\n",
       "      <td>1.0</td>\n",
       "      <td>0.0</td>\n",
       "      <td>1.0</td>\n",
       "      <td>0.0</td>\n",
       "      <td>1.0</td>\n",
       "      <td>0.0</td>\n",
       "      <td>0.0</td>\n",
       "      <td>-1</td>\n",
       "      <td>1</td>\n",
       "      <td>39.0</td>\n",
       "      <td>0</td>\n",
       "      <td>0</td>\n",
       "      <td>108.9000</td>\n",
       "      <td>1</td>\n",
       "    </tr>\n",
       "    <tr>\n",
       "      <th>1306</th>\n",
       "      <td>1.0</td>\n",
       "      <td>0.0</td>\n",
       "      <td>0.0</td>\n",
       "      <td>0.0</td>\n",
       "      <td>0.0</td>\n",
       "      <td>1.0</td>\n",
       "      <td>0.0</td>\n",
       "      <td>0.0</td>\n",
       "      <td>0.0</td>\n",
       "      <td>0.0</td>\n",
       "      <td>1.0</td>\n",
       "      <td>-1</td>\n",
       "      <td>0</td>\n",
       "      <td>38.5</td>\n",
       "      <td>0</td>\n",
       "      <td>0</td>\n",
       "      <td>7.2500</td>\n",
       "      <td>1</td>\n",
       "    </tr>\n",
       "    <tr>\n",
       "      <th>1307</th>\n",
       "      <td>1.0</td>\n",
       "      <td>0.0</td>\n",
       "      <td>0.0</td>\n",
       "      <td>0.0</td>\n",
       "      <td>0.0</td>\n",
       "      <td>1.0</td>\n",
       "      <td>0.0</td>\n",
       "      <td>0.0</td>\n",
       "      <td>0.0</td>\n",
       "      <td>0.0</td>\n",
       "      <td>1.0</td>\n",
       "      <td>-1</td>\n",
       "      <td>0</td>\n",
       "      <td>28.5</td>\n",
       "      <td>0</td>\n",
       "      <td>0</td>\n",
       "      <td>8.0500</td>\n",
       "      <td>1</td>\n",
       "    </tr>\n",
       "    <tr>\n",
       "      <th>1308</th>\n",
       "      <td>0.0</td>\n",
       "      <td>0.0</td>\n",
       "      <td>0.0</td>\n",
       "      <td>1.0</td>\n",
       "      <td>0.0</td>\n",
       "      <td>0.0</td>\n",
       "      <td>1.0</td>\n",
       "      <td>0.0</td>\n",
       "      <td>0.0</td>\n",
       "      <td>0.0</td>\n",
       "      <td>1.0</td>\n",
       "      <td>-1</td>\n",
       "      <td>0</td>\n",
       "      <td>7.0</td>\n",
       "      <td>1</td>\n",
       "      <td>1</td>\n",
       "      <td>22.3583</td>\n",
       "      <td>0</td>\n",
       "    </tr>\n",
       "  </tbody>\n",
       "</table>\n",
       "<p>1309 rows × 18 columns</p>\n",
       "</div>"
      ],
      "text/plain": [
       "      Title_0.0  Title_1.0  Title_2.0  Title_3.0  Title_4.0  Embarked_0  \\\n",
       "0           1.0        0.0        0.0        0.0        0.0         1.0   \n",
       "1           0.0        0.0        1.0        0.0        0.0         0.0   \n",
       "2           0.0        1.0        0.0        0.0        0.0         1.0   \n",
       "3           0.0        0.0        1.0        0.0        0.0         1.0   \n",
       "4           1.0        0.0        0.0        0.0        0.0         1.0   \n",
       "...         ...        ...        ...        ...        ...         ...   \n",
       "1304        1.0        0.0        0.0        0.0        0.0         1.0   \n",
       "1305        0.0        0.0        0.0        0.0        1.0         0.0   \n",
       "1306        1.0        0.0        0.0        0.0        0.0         1.0   \n",
       "1307        1.0        0.0        0.0        0.0        0.0         1.0   \n",
       "1308        0.0        0.0        0.0        1.0        0.0         0.0   \n",
       "\n",
       "      Embarked_1  Embarked_2  Pclass_1  Pclass_2  Pclass_3  Survived  Sex  \\\n",
       "0            0.0         0.0       0.0       0.0       1.0         0    0   \n",
       "1            1.0         0.0       1.0       0.0       0.0         1    1   \n",
       "2            0.0         0.0       0.0       0.0       1.0         1    1   \n",
       "3            0.0         0.0       1.0       0.0       0.0         1    1   \n",
       "4            0.0         0.0       0.0       0.0       1.0         0    0   \n",
       "...          ...         ...       ...       ...       ...       ...  ...   \n",
       "1304         0.0         0.0       0.0       0.0       1.0        -1    0   \n",
       "1305         1.0         0.0       1.0       0.0       0.0        -1    1   \n",
       "1306         0.0         0.0       0.0       0.0       1.0        -1    0   \n",
       "1307         0.0         0.0       0.0       0.0       1.0        -1    0   \n",
       "1308         1.0         0.0       0.0       0.0       1.0        -1    0   \n",
       "\n",
       "       Age  SibSp  Parch      Fare CategoricalAge  \n",
       "0     22.0      1      0    7.2500              1  \n",
       "1     38.0      1      0   71.2833              1  \n",
       "2     26.0      0      0    7.9250              1  \n",
       "3     35.0      1      0   53.1000              1  \n",
       "4     35.0      0      0    8.0500              1  \n",
       "...    ...    ...    ...       ...            ...  \n",
       "1304  28.5      0      0    8.0500              1  \n",
       "1305  39.0      0      0  108.9000              1  \n",
       "1306  38.5      0      0    7.2500              1  \n",
       "1307  28.5      0      0    8.0500              1  \n",
       "1308   7.0      1      1   22.3583              0  \n",
       "\n",
       "[1309 rows x 18 columns]"
      ]
     },
     "execution_count": 87,
     "metadata": {},
     "output_type": "execute_result"
    }
   ],
   "source": [
    "f_total"
   ]
  },
  {
   "cell_type": "markdown",
   "id": "663b28f2-cab1-4cd3-8f74-accf00cc7c1e",
   "metadata": {},
   "source": [
    "**CategoricalAge**"
   ]
  },
  {
   "cell_type": "code",
   "execution_count": 88,
   "id": "aa6956ef-b0b7-495c-98ac-e200db68aa4a",
   "metadata": {
    "tags": []
   },
   "outputs": [],
   "source": [
    "f_total = encoder(f_total, 'CategoricalAge')"
   ]
  },
  {
   "cell_type": "markdown",
   "id": "c555310b-d7aa-4252-af37-84f92bc56218",
   "metadata": {},
   "source": [
    "### Padronização dos dados"
   ]
  },
  {
   "cell_type": "code",
   "execution_count": 89,
   "id": "c781ae3c-f187-41db-8456-5282df3ca4b7",
   "metadata": {},
   "outputs": [],
   "source": [
    "from sklearn.preprocessing import QuantileTransformer\n",
    "from sklearn.preprocessing import MinMaxScaler\n",
    "X_quantile = f_total.copy()\n",
    "X_quantile[['Age', 'Fare']] = QuantileTransformer().fit_transform(f_total[['Age', 'Fare']])"
   ]
  },
  {
   "cell_type": "code",
   "execution_count": 90,
   "id": "5d48e66b-247d-4064-920d-4cb9d14c7f38",
   "metadata": {},
   "outputs": [],
   "source": [
    "X_MinMaxScaler = f_total.copy()\n",
    "X_MinMaxScaler[['Age', 'Fare']] = MinMaxScaler().fit_transform(f_total[['Age', 'Fare']])"
   ]
  },
  {
   "cell_type": "code",
   "execution_count": 91,
   "id": "ba1283fa-9530-4607-b5d4-4c19017ed709",
   "metadata": {},
   "outputs": [
    {
     "data": {
      "text/html": [
       "<div>\n",
       "<style scoped>\n",
       "    .dataframe tbody tr th:only-of-type {\n",
       "        vertical-align: middle;\n",
       "    }\n",
       "\n",
       "    .dataframe tbody tr th {\n",
       "        vertical-align: top;\n",
       "    }\n",
       "\n",
       "    .dataframe thead th {\n",
       "        text-align: right;\n",
       "    }\n",
       "</style>\n",
       "<table border=\"1\" class=\"dataframe\">\n",
       "  <thead>\n",
       "    <tr style=\"text-align: right;\">\n",
       "      <th></th>\n",
       "      <th>CategoricalAge_0</th>\n",
       "      <th>CategoricalAge_1</th>\n",
       "      <th>CategoricalAge_2</th>\n",
       "      <th>Title_0.0</th>\n",
       "      <th>Title_1.0</th>\n",
       "      <th>Title_2.0</th>\n",
       "      <th>Title_3.0</th>\n",
       "      <th>Title_4.0</th>\n",
       "      <th>Embarked_0</th>\n",
       "      <th>Embarked_1</th>\n",
       "      <th>Embarked_2</th>\n",
       "      <th>Pclass_1</th>\n",
       "      <th>Pclass_2</th>\n",
       "      <th>Pclass_3</th>\n",
       "      <th>Survived</th>\n",
       "      <th>Sex</th>\n",
       "      <th>Age</th>\n",
       "      <th>SibSp</th>\n",
       "      <th>Parch</th>\n",
       "      <th>Fare</th>\n",
       "    </tr>\n",
       "  </thead>\n",
       "  <tbody>\n",
       "    <tr>\n",
       "      <th>0</th>\n",
       "      <td>0.0</td>\n",
       "      <td>1.0</td>\n",
       "      <td>0.0</td>\n",
       "      <td>1.0</td>\n",
       "      <td>0.0</td>\n",
       "      <td>0.0</td>\n",
       "      <td>0.0</td>\n",
       "      <td>0.0</td>\n",
       "      <td>1.0</td>\n",
       "      <td>0.0</td>\n",
       "      <td>0.0</td>\n",
       "      <td>0.0</td>\n",
       "      <td>0.0</td>\n",
       "      <td>1.0</td>\n",
       "      <td>0</td>\n",
       "      <td>0</td>\n",
       "      <td>0.273456</td>\n",
       "      <td>1</td>\n",
       "      <td>0</td>\n",
       "      <td>0.014151</td>\n",
       "    </tr>\n",
       "    <tr>\n",
       "      <th>1</th>\n",
       "      <td>0.0</td>\n",
       "      <td>1.0</td>\n",
       "      <td>0.0</td>\n",
       "      <td>0.0</td>\n",
       "      <td>0.0</td>\n",
       "      <td>1.0</td>\n",
       "      <td>0.0</td>\n",
       "      <td>0.0</td>\n",
       "      <td>0.0</td>\n",
       "      <td>1.0</td>\n",
       "      <td>0.0</td>\n",
       "      <td>1.0</td>\n",
       "      <td>0.0</td>\n",
       "      <td>0.0</td>\n",
       "      <td>1</td>\n",
       "      <td>1</td>\n",
       "      <td>0.473882</td>\n",
       "      <td>1</td>\n",
       "      <td>0</td>\n",
       "      <td>0.139136</td>\n",
       "    </tr>\n",
       "    <tr>\n",
       "      <th>2</th>\n",
       "      <td>0.0</td>\n",
       "      <td>1.0</td>\n",
       "      <td>0.0</td>\n",
       "      <td>0.0</td>\n",
       "      <td>1.0</td>\n",
       "      <td>0.0</td>\n",
       "      <td>0.0</td>\n",
       "      <td>0.0</td>\n",
       "      <td>1.0</td>\n",
       "      <td>0.0</td>\n",
       "      <td>0.0</td>\n",
       "      <td>0.0</td>\n",
       "      <td>0.0</td>\n",
       "      <td>1.0</td>\n",
       "      <td>1</td>\n",
       "      <td>1</td>\n",
       "      <td>0.323563</td>\n",
       "      <td>0</td>\n",
       "      <td>0</td>\n",
       "      <td>0.015469</td>\n",
       "    </tr>\n",
       "    <tr>\n",
       "      <th>3</th>\n",
       "      <td>0.0</td>\n",
       "      <td>1.0</td>\n",
       "      <td>0.0</td>\n",
       "      <td>0.0</td>\n",
       "      <td>0.0</td>\n",
       "      <td>1.0</td>\n",
       "      <td>0.0</td>\n",
       "      <td>0.0</td>\n",
       "      <td>1.0</td>\n",
       "      <td>0.0</td>\n",
       "      <td>0.0</td>\n",
       "      <td>1.0</td>\n",
       "      <td>0.0</td>\n",
       "      <td>0.0</td>\n",
       "      <td>1</td>\n",
       "      <td>1</td>\n",
       "      <td>0.436302</td>\n",
       "      <td>1</td>\n",
       "      <td>0</td>\n",
       "      <td>0.103644</td>\n",
       "    </tr>\n",
       "    <tr>\n",
       "      <th>4</th>\n",
       "      <td>0.0</td>\n",
       "      <td>1.0</td>\n",
       "      <td>0.0</td>\n",
       "      <td>1.0</td>\n",
       "      <td>0.0</td>\n",
       "      <td>0.0</td>\n",
       "      <td>0.0</td>\n",
       "      <td>0.0</td>\n",
       "      <td>1.0</td>\n",
       "      <td>0.0</td>\n",
       "      <td>0.0</td>\n",
       "      <td>0.0</td>\n",
       "      <td>0.0</td>\n",
       "      <td>1.0</td>\n",
       "      <td>0</td>\n",
       "      <td>0</td>\n",
       "      <td>0.436302</td>\n",
       "      <td>0</td>\n",
       "      <td>0</td>\n",
       "      <td>0.015713</td>\n",
       "    </tr>\n",
       "  </tbody>\n",
       "</table>\n",
       "</div>"
      ],
      "text/plain": [
       "   CategoricalAge_0  CategoricalAge_1  CategoricalAge_2  Title_0.0  Title_1.0  \\\n",
       "0               0.0               1.0               0.0        1.0        0.0   \n",
       "1               0.0               1.0               0.0        0.0        0.0   \n",
       "2               0.0               1.0               0.0        0.0        1.0   \n",
       "3               0.0               1.0               0.0        0.0        0.0   \n",
       "4               0.0               1.0               0.0        1.0        0.0   \n",
       "\n",
       "   Title_2.0  Title_3.0  Title_4.0  Embarked_0  Embarked_1  Embarked_2  \\\n",
       "0        0.0        0.0        0.0         1.0         0.0         0.0   \n",
       "1        1.0        0.0        0.0         0.0         1.0         0.0   \n",
       "2        0.0        0.0        0.0         1.0         0.0         0.0   \n",
       "3        1.0        0.0        0.0         1.0         0.0         0.0   \n",
       "4        0.0        0.0        0.0         1.0         0.0         0.0   \n",
       "\n",
       "   Pclass_1  Pclass_2  Pclass_3  Survived  Sex       Age  SibSp  Parch  \\\n",
       "0       0.0       0.0       1.0         0    0  0.273456      1      0   \n",
       "1       1.0       0.0       0.0         1    1  0.473882      1      0   \n",
       "2       0.0       0.0       1.0         1    1  0.323563      0      0   \n",
       "3       1.0       0.0       0.0         1    1  0.436302      1      0   \n",
       "4       0.0       0.0       1.0         0    0  0.436302      0      0   \n",
       "\n",
       "       Fare  \n",
       "0  0.014151  \n",
       "1  0.139136  \n",
       "2  0.015469  \n",
       "3  0.103644  \n",
       "4  0.015713  "
      ]
     },
     "execution_count": 91,
     "metadata": {},
     "output_type": "execute_result"
    }
   ],
   "source": [
    "X_MinMaxScaler.head()"
   ]
  },
  {
   "cell_type": "code",
   "execution_count": 92,
   "id": "41e6787a-1c22-4cf4-a1e0-0b308141fd97",
   "metadata": {},
   "outputs": [],
   "source": [
    "f_total = X_MinMaxScaler"
   ]
  },
  {
   "cell_type": "markdown",
   "id": "23d7f366-ac64-4a60-b531-681569f79383",
   "metadata": {},
   "source": [
    "### Separando os dados padronizados de volta"
   ]
  },
  {
   "cell_type": "code",
   "execution_count": 93,
   "id": "0ec1e555-0876-4716-a7e3-73de1f13c1e7",
   "metadata": {},
   "outputs": [],
   "source": [
    "f_train = f_total[0:f_train.shape[0]].copy()\n",
    "f_test = f_total[f_train.shape[0]:].copy()\n",
    "f_test.drop(['Survived'], axis=1, inplace=True)"
   ]
  },
  {
   "cell_type": "code",
   "execution_count": 94,
   "id": "3d1f80ba-a0a2-43e2-807b-27075cac7a7d",
   "metadata": {},
   "outputs": [
    {
     "data": {
      "text/html": [
       "<div>\n",
       "<style scoped>\n",
       "    .dataframe tbody tr th:only-of-type {\n",
       "        vertical-align: middle;\n",
       "    }\n",
       "\n",
       "    .dataframe tbody tr th {\n",
       "        vertical-align: top;\n",
       "    }\n",
       "\n",
       "    .dataframe thead th {\n",
       "        text-align: right;\n",
       "    }\n",
       "</style>\n",
       "<table border=\"1\" class=\"dataframe\">\n",
       "  <thead>\n",
       "    <tr style=\"text-align: right;\">\n",
       "      <th></th>\n",
       "      <th>CategoricalAge_0</th>\n",
       "      <th>CategoricalAge_1</th>\n",
       "      <th>CategoricalAge_2</th>\n",
       "      <th>Title_0.0</th>\n",
       "      <th>Title_1.0</th>\n",
       "      <th>Title_2.0</th>\n",
       "      <th>Title_3.0</th>\n",
       "      <th>Title_4.0</th>\n",
       "      <th>Embarked_0</th>\n",
       "      <th>Embarked_1</th>\n",
       "      <th>Embarked_2</th>\n",
       "      <th>Pclass_1</th>\n",
       "      <th>Pclass_2</th>\n",
       "      <th>Pclass_3</th>\n",
       "      <th>Survived</th>\n",
       "      <th>Sex</th>\n",
       "      <th>Age</th>\n",
       "      <th>SibSp</th>\n",
       "      <th>Parch</th>\n",
       "      <th>Fare</th>\n",
       "    </tr>\n",
       "  </thead>\n",
       "  <tbody>\n",
       "    <tr>\n",
       "      <th>0</th>\n",
       "      <td>0.0</td>\n",
       "      <td>1.0</td>\n",
       "      <td>0.0</td>\n",
       "      <td>1.0</td>\n",
       "      <td>0.0</td>\n",
       "      <td>0.0</td>\n",
       "      <td>0.0</td>\n",
       "      <td>0.0</td>\n",
       "      <td>1.0</td>\n",
       "      <td>0.0</td>\n",
       "      <td>0.0</td>\n",
       "      <td>0.0</td>\n",
       "      <td>0.0</td>\n",
       "      <td>1.0</td>\n",
       "      <td>0</td>\n",
       "      <td>0</td>\n",
       "      <td>0.273456</td>\n",
       "      <td>1</td>\n",
       "      <td>0</td>\n",
       "      <td>0.014151</td>\n",
       "    </tr>\n",
       "    <tr>\n",
       "      <th>1</th>\n",
       "      <td>0.0</td>\n",
       "      <td>1.0</td>\n",
       "      <td>0.0</td>\n",
       "      <td>0.0</td>\n",
       "      <td>0.0</td>\n",
       "      <td>1.0</td>\n",
       "      <td>0.0</td>\n",
       "      <td>0.0</td>\n",
       "      <td>0.0</td>\n",
       "      <td>1.0</td>\n",
       "      <td>0.0</td>\n",
       "      <td>1.0</td>\n",
       "      <td>0.0</td>\n",
       "      <td>0.0</td>\n",
       "      <td>1</td>\n",
       "      <td>1</td>\n",
       "      <td>0.473882</td>\n",
       "      <td>1</td>\n",
       "      <td>0</td>\n",
       "      <td>0.139136</td>\n",
       "    </tr>\n",
       "    <tr>\n",
       "      <th>2</th>\n",
       "      <td>0.0</td>\n",
       "      <td>1.0</td>\n",
       "      <td>0.0</td>\n",
       "      <td>0.0</td>\n",
       "      <td>1.0</td>\n",
       "      <td>0.0</td>\n",
       "      <td>0.0</td>\n",
       "      <td>0.0</td>\n",
       "      <td>1.0</td>\n",
       "      <td>0.0</td>\n",
       "      <td>0.0</td>\n",
       "      <td>0.0</td>\n",
       "      <td>0.0</td>\n",
       "      <td>1.0</td>\n",
       "      <td>1</td>\n",
       "      <td>1</td>\n",
       "      <td>0.323563</td>\n",
       "      <td>0</td>\n",
       "      <td>0</td>\n",
       "      <td>0.015469</td>\n",
       "    </tr>\n",
       "    <tr>\n",
       "      <th>3</th>\n",
       "      <td>0.0</td>\n",
       "      <td>1.0</td>\n",
       "      <td>0.0</td>\n",
       "      <td>0.0</td>\n",
       "      <td>0.0</td>\n",
       "      <td>1.0</td>\n",
       "      <td>0.0</td>\n",
       "      <td>0.0</td>\n",
       "      <td>1.0</td>\n",
       "      <td>0.0</td>\n",
       "      <td>0.0</td>\n",
       "      <td>1.0</td>\n",
       "      <td>0.0</td>\n",
       "      <td>0.0</td>\n",
       "      <td>1</td>\n",
       "      <td>1</td>\n",
       "      <td>0.436302</td>\n",
       "      <td>1</td>\n",
       "      <td>0</td>\n",
       "      <td>0.103644</td>\n",
       "    </tr>\n",
       "    <tr>\n",
       "      <th>4</th>\n",
       "      <td>0.0</td>\n",
       "      <td>1.0</td>\n",
       "      <td>0.0</td>\n",
       "      <td>1.0</td>\n",
       "      <td>0.0</td>\n",
       "      <td>0.0</td>\n",
       "      <td>0.0</td>\n",
       "      <td>0.0</td>\n",
       "      <td>1.0</td>\n",
       "      <td>0.0</td>\n",
       "      <td>0.0</td>\n",
       "      <td>0.0</td>\n",
       "      <td>0.0</td>\n",
       "      <td>1.0</td>\n",
       "      <td>0</td>\n",
       "      <td>0</td>\n",
       "      <td>0.436302</td>\n",
       "      <td>0</td>\n",
       "      <td>0</td>\n",
       "      <td>0.015713</td>\n",
       "    </tr>\n",
       "  </tbody>\n",
       "</table>\n",
       "</div>"
      ],
      "text/plain": [
       "   CategoricalAge_0  CategoricalAge_1  CategoricalAge_2  Title_0.0  Title_1.0  \\\n",
       "0               0.0               1.0               0.0        1.0        0.0   \n",
       "1               0.0               1.0               0.0        0.0        0.0   \n",
       "2               0.0               1.0               0.0        0.0        1.0   \n",
       "3               0.0               1.0               0.0        0.0        0.0   \n",
       "4               0.0               1.0               0.0        1.0        0.0   \n",
       "\n",
       "   Title_2.0  Title_3.0  Title_4.0  Embarked_0  Embarked_1  Embarked_2  \\\n",
       "0        0.0        0.0        0.0         1.0         0.0         0.0   \n",
       "1        1.0        0.0        0.0         0.0         1.0         0.0   \n",
       "2        0.0        0.0        0.0         1.0         0.0         0.0   \n",
       "3        1.0        0.0        0.0         1.0         0.0         0.0   \n",
       "4        0.0        0.0        0.0         1.0         0.0         0.0   \n",
       "\n",
       "   Pclass_1  Pclass_2  Pclass_3  Survived  Sex       Age  SibSp  Parch  \\\n",
       "0       0.0       0.0       1.0         0    0  0.273456      1      0   \n",
       "1       1.0       0.0       0.0         1    1  0.473882      1      0   \n",
       "2       0.0       0.0       1.0         1    1  0.323563      0      0   \n",
       "3       1.0       0.0       0.0         1    1  0.436302      1      0   \n",
       "4       0.0       0.0       1.0         0    0  0.436302      0      0   \n",
       "\n",
       "       Fare  \n",
       "0  0.014151  \n",
       "1  0.139136  \n",
       "2  0.015469  \n",
       "3  0.103644  \n",
       "4  0.015713  "
      ]
     },
     "execution_count": 94,
     "metadata": {},
     "output_type": "execute_result"
    }
   ],
   "source": [
    "f_total.head()"
   ]
  },
  {
   "cell_type": "markdown",
   "id": "6b916c68-669f-4267-8e7f-7f95270b2a38",
   "metadata": {},
   "source": [
    "### Modelagem"
   ]
  },
  {
   "cell_type": "code",
   "execution_count": 95,
   "id": "aa2bf6ec-1a91-4d5f-9865-c0f8144c21ae",
   "metadata": {},
   "outputs": [],
   "source": [
    "from sklearn.neighbors import KNeighborsClassifier\n",
    "from sklearn.tree import DecisionTreeClassifier\n",
    "from sklearn.ensemble import RandomForestClassifier, BaggingClassifier, AdaBoostClassifier, ExtraTreesClassifier\n",
    "from sklearn.linear_model import LogisticRegression\n",
    "from sklearn.naive_bayes import GaussianNB\n",
    "from sklearn.svm import SVC\n",
    "from sklearn.pipeline import Pipeline\n",
    "from sklearn.preprocessing import StandardScaler\n",
    "from sklearn.decomposition import PCA, TruncatedSVD\n",
    "from sklearn.model_selection import GridSearchCV, train_test_split, RandomizedSearchCV\n",
    "from sklearn.metrics import accuracy_score\n",
    "from time import time"
   ]
  },
  {
   "cell_type": "code",
   "execution_count": 96,
   "id": "24190780-3879-4b90-8290-aac6caa44540",
   "metadata": {},
   "outputs": [],
   "source": [
    "X = f_train.drop('Survived', axis=1).values\n",
    "Y = f_train['Survived'].values"
   ]
  },
  {
   "cell_type": "markdown",
   "id": "6d33148b-cf44-4f92-aef7-e1f14279706b",
   "metadata": {},
   "source": [
    "**Cross Validation (K-Fold)**"
   ]
  },
  {
   "cell_type": "code",
   "execution_count": 97,
   "id": "cb837721-ab5a-406c-acbc-09f264645560",
   "metadata": {},
   "outputs": [],
   "source": [
    "from sklearn.model_selection import KFold\n",
    "from sklearn.model_selection import cross_val_score\n",
    "k_fold = KFold(n_splits=15, shuffle=True, random_state=0)"
   ]
  },
  {
   "cell_type": "markdown",
   "id": "ef687b20-0330-4fc1-a3fa-a6c8df2766f5",
   "metadata": {},
   "source": [
    "**KNN**"
   ]
  },
  {
   "cell_type": "code",
   "execution_count": null,
   "id": "197933a3-c434-466f-957f-4de84bc7e567",
   "metadata": {},
   "outputs": [],
   "source": [
    "#Criando o modelo KNN\n",
    "KNN = KNeighborsClassifier(n_neighbors = 8, p=1)"
   ]
  },
  {
   "cell_type": "code",
   "execution_count": null,
   "id": "23bda520-2bb9-4d3c-9b93-888b556a0374",
   "metadata": {},
   "outputs": [],
   "source": [
    "#Utilizando o Cross Validation\n",
    "scoring = 'accuracy'\n",
    "score = cross_val_score(KNN, X, Y, cv=k_fold, n_jobs=1, scoring=scoring)\n",
    "print(score)"
   ]
  },
  {
   "cell_type": "code",
   "execution_count": null,
   "id": "cc294eae-a5d4-4863-841c-0ed6819bfd47",
   "metadata": {},
   "outputs": [],
   "source": [
    "round(np.mean(score)*100, 2)"
   ]
  },
  {
   "cell_type": "markdown",
   "id": "0cae81f3-b5cf-4525-a001-f47d70d0ada3",
   "metadata": {},
   "source": [
    "**KNN Ensemble com Bagging Classifier**"
   ]
  },
  {
   "cell_type": "code",
   "execution_count": null,
   "id": "a517da16-5072-4a7c-9dfa-fd17d50c75b7",
   "metadata": {},
   "outputs": [],
   "source": [
    "bagging = BaggingClassifier(KNeighborsClassifier(), max_samples = 0.5, max_features = 0.5)"
   ]
  },
  {
   "cell_type": "code",
   "execution_count": null,
   "id": "28a69941-a2c2-483f-903b-fc84ba85c9ad",
   "metadata": {},
   "outputs": [],
   "source": [
    "#Utilizando o Cross Validation\n",
    "scoring = 'accuracy'\n",
    "score = cross_val_score(bagging, X, Y, cv=k_fold, n_jobs=1, scoring=scoring)\n",
    "print(score)"
   ]
  },
  {
   "cell_type": "code",
   "execution_count": null,
   "id": "55f4bf8f-bd0c-4cb5-808a-286ef93e31ac",
   "metadata": {},
   "outputs": [],
   "source": [
    "round(np.mean(score)*100, 2)"
   ]
  },
  {
   "cell_type": "markdown",
   "id": "d66feda9-6c34-4f29-81ac-cb1ca92c5892",
   "metadata": {},
   "source": [
    "**KNN Ensemble com Ada Boost**"
   ]
  },
  {
   "cell_type": "code",
   "execution_count": null,
   "id": "171e9375-0acb-49cd-ac4d-6e1524a05b09",
   "metadata": {},
   "outputs": [],
   "source": [
    "ada_clf = AdaBoostClassifier(base_estimator = DecisionTreeClassifier(max_depth = 1, min_samples_leaf = 1),\n",
    "                             learning_rate = 1.1,\n",
    "                             n_estimators = 400,\n",
    "                             algorithm = \"SAMME\")"
   ]
  },
  {
   "cell_type": "code",
   "execution_count": null,
   "id": "829a57f1-0346-403b-8c7b-57470b1b0b19",
   "metadata": {},
   "outputs": [],
   "source": [
    "#Utilizando o Cross Validation\n",
    "scoring = 'accuracy'\n",
    "score = cross_val_score(ada_clf, X, Y, cv=k_fold, n_jobs=1, scoring=scoring)\n",
    "print(score)"
   ]
  },
  {
   "cell_type": "code",
   "execution_count": null,
   "id": "1d386089-ee44-4f47-b648-8e04cc1e3b3e",
   "metadata": {},
   "outputs": [],
   "source": [
    "round(np.mean(score)*100, 2)"
   ]
  },
  {
   "cell_type": "markdown",
   "id": "69472008-0da1-4970-b993-c0c3a8ad0a41",
   "metadata": {},
   "source": [
    "**KNN Avançado**"
   ]
  },
  {
   "cell_type": "code",
   "execution_count": null,
   "id": "c02cbb89-13c7-4228-89b9-245c13361835",
   "metadata": {},
   "outputs": [],
   "source": [
    "X_treino, X_teste, Y_treino, Y_teste = train_test_split (X, Y, test_size = 0.33, random_state = 101)"
   ]
  },
  {
   "cell_type": "code",
   "execution_count": null,
   "id": "3ee3738d-df92-406a-ae97-4df7fc6ccdea",
   "metadata": {},
   "outputs": [],
   "source": [
    "# Função para testar o melhor valor de K\n",
    "def compute_teste (x_teste, y_teste, clf, cv):\n",
    "    k_fold = KFold(n_splits=15, shuffle=True)\n",
    "    \n",
    "    scores = []\n",
    "    \n",
    "    for i, j in k_fold.split(x_teste):\n",
    "        test_set = x_teste[j]\n",
    "        test_labels = y_teste[j]\n",
    "        scores.append(accuracy_score(test_labels, clf.predict(test_set)))\n",
    "    return scores"
   ]
  },
  {
   "cell_type": "code",
   "execution_count": null,
   "id": "e1409d2d-0ac0-423e-98e8-adab30d5dedf",
   "metadata": {},
   "outputs": [],
   "source": [
    "#Normalização dos dados pela Média\n",
    "\n",
    "# Cálculo da média do dataset de treino\n",
    "X_norm = np.mean(X_treino, axis = 0)\n",
    "\n",
    "# Normalização dos dados de treino e de teste\n",
    "X_treino_norm = X_treino - X_norm\n",
    "X_teste_norm = X_teste - X_norm"
   ]
  },
  {
   "cell_type": "code",
   "execution_count": null,
   "id": "cd32941e-2eae-4ee4-8d66-d52b6158c9ca",
   "metadata": {},
   "outputs": [],
   "source": [
    "# Shape dos datasets\n",
    "print(X_treino_norm.shape, X_teste_norm.shape, Y_treino.shape, Y_teste.shape)"
   ]
  },
  {
   "cell_type": "code",
   "execution_count": null,
   "id": "c2bff563-d3bd-40f0-a01b-aaaae0717fb7",
   "metadata": {},
   "outputs": [],
   "source": [
    "# Construção do Modelo KNN\n",
    "# http://scikit-learn.org/stable/modules/generated/sklearn.neighbors.KNeighborsClassifier.html\n",
    "modelo = KNeighborsClassifier()"
   ]
  },
  {
   "cell_type": "code",
   "execution_count": null,
   "id": "d3e2b1b8-a6c9-4b46-8bc3-5c9be4d2146c",
   "metadata": {},
   "outputs": [],
   "source": [
    "# Definição de parâmetros\n",
    "k = np.arange(20) + 1\n",
    "parametros = {'n_neighbors':k}"
   ]
  },
  {
   "cell_type": "code",
   "execution_count": null,
   "id": "a11eca7e-d2a8-4a96-b9e4-a0671fd06a9b",
   "metadata": {},
   "outputs": [],
   "source": [
    "# Grid Search para Cross Validation com o melhor valor de K\n",
    "modeloKNN = GridSearchCV(KNN, parametros, cv = 10)"
   ]
  },
  {
   "cell_type": "code",
   "execution_count": null,
   "id": "f9001e3e-d986-4b1e-99be-63356d49967b",
   "metadata": {},
   "outputs": [],
   "source": [
    "modeloKNN.get_params()"
   ]
  },
  {
   "cell_type": "code",
   "execution_count": null,
   "id": "26e724b5-43dd-44bb-a963-27cd9c4d1dde",
   "metadata": {},
   "outputs": [],
   "source": [
    "# Lista de dimensões\n",
    "dimensoes = np.arange(X_treino.shape[1] - 1) + 1"
   ]
  },
  {
   "cell_type": "code",
   "execution_count": null,
   "id": "f06ec28d-e307-4a24-a704-0005573f0335",
   "metadata": {},
   "outputs": [],
   "source": [
    "# Listas vazias que vão receber os scrores de acurária e os parâmetros resultados do modelo\n",
    "acuracia = []\n",
    "params = []"
   ]
  },
  {
   "cell_type": "code",
   "execution_count": null,
   "id": "5429048a-48da-44f5-b972-b6c04c55f0a0",
   "metadata": {},
   "outputs": [],
   "source": [
    "# Implementação do modelo\n",
    "for d in dimensoes:\n",
    "    svd = TruncatedSVD(n_components = d) #Instânciando a classe de redução de dimensionalidade\n",
    "    \n",
    "    X_fit_treino = svd.fit_transform(X_treino) #Aplicando a redução de dimensionalidade no conjunto de treino\n",
    "    X_fit_teste = svd.transform(X_teste) #Aplicando a redução de dimensionalidade no conjunto de teste\n",
    "        \n",
    "    modeloKNN.fit(X_fit_treino, Y_treino) #Treinando o modelo\n",
    "    \n",
    "    acuracia.append(compute_teste(x_teste = X_fit_teste, y_teste = Y_teste, clf = modeloKNN, cv = 8))\n",
    "    params.append(modeloKNN.best_params_['n_neighbors'])"
   ]
  },
  {
   "cell_type": "code",
   "execution_count": null,
   "id": "fc423001-93b3-43b8-972a-7484292777d8",
   "metadata": {},
   "outputs": [],
   "source": [
    "params"
   ]
  },
  {
   "cell_type": "code",
   "execution_count": null,
   "id": "34b93be2-aff6-445d-a01e-987bccda7c4d",
   "metadata": {},
   "outputs": [],
   "source": [
    "for cv in acuracia:\n",
    "    print(round(np.mean(cv)*100, 2))"
   ]
  },
  {
   "cell_type": "markdown",
   "id": "5ab3ca03-0ad6-4909-8453-4acf2225e0a9",
   "metadata": {},
   "source": [
    "**Decision Tree**"
   ]
  },
  {
   "cell_type": "code",
   "execution_count": null,
   "id": "f8039f5a-509c-4035-b6fe-105d88899512",
   "metadata": {},
   "outputs": [],
   "source": [
    "Decision_Tree = DecisionTreeClassifier(max_depth = 4, #Profundidade da árvore, é um critério de parada\n",
    "                                       max_features = None, #Quantos atributo iremos utilizar na construção do modelo\n",
    "                                       criterion = 'entropy', #entropy ou gini\n",
    "                                       splitter = 'best',\n",
    "                                       min_samples_leaf = 1, #Número mínimo de amostras para o node leaf (terminal)\n",
    "                                       min_samples_split = 4)\n",
    "scoring = 'accuracy'\n",
    "score = cross_val_score(Decision_Tree, X, Y, cv=k_fold, n_jobs=1, scoring=scoring)\n",
    "print(score)"
   ]
  },
  {
   "cell_type": "code",
   "execution_count": null,
   "id": "9b800ff0-22dd-4cd1-9d24-253d1e66a3ac",
   "metadata": {},
   "outputs": [],
   "source": [
    "round(np.mean(score)*100, 2)"
   ]
  },
  {
   "cell_type": "markdown",
   "id": "0e2a2160-5b84-4ab4-ac97-fba6ff0cdaea",
   "metadata": {},
   "source": [
    "**Random Forest**\n",
    "\n",
    "Os 4 principais parâmetros em Modelos de Random Forest são:\n",
    "\n",
    "n_estimators - quanto maior, melhor!\n",
    "\n",
    "max depth - o padrão é 'none' e nesse caso árvores completas são criadas. Ajustando esse parâmetro pode ajudar a evitar overfitting.\n",
    "\n",
    "max_features - diferentes valores devem ser testados, pois este parâmetro impacta na forma como os modelos RF distribuem os atributos pelas árvores.\n",
    "\n",
    "criterion - define a forma como o algoritmo fará a divisão dos atributos e a classificação dos nós em cada árvore."
   ]
  },
  {
   "cell_type": "code",
   "execution_count": 175,
   "id": "b62548d3-3bac-477d-b734-f5b5699d7ab9",
   "metadata": {},
   "outputs": [
    {
     "name": "stdout",
     "output_type": "stream",
     "text": [
      "[0.83333333 0.85       0.8        0.85       0.81666667 0.83333333\n",
      " 0.88135593 0.88135593 0.77966102 0.91525424 0.79661017 0.83050847\n",
      " 0.77966102 0.88135593 0.84745763]\n"
     ]
    }
   ],
   "source": [
    "RandomForest = RandomForestClassifier(n_estimators=20, \n",
    "                                      bootstrap=True, \n",
    "                                      criterion='entropy', \n",
    "                                      min_samples_leaf=1, \n",
    "                                      min_samples_split=18, \n",
    "                                      random_state=8)\n",
    "scoring = 'accuracy'\n",
    "score = cross_val_score(RandomForest, X, Y, cv=k_fold, n_jobs=1, scoring=scoring)\n",
    "print(score)"
   ]
  },
  {
   "cell_type": "code",
   "execution_count": 176,
   "id": "4bf86407-95ff-4fed-9147-4ed2a8ef1c67",
   "metadata": {},
   "outputs": [
    {
     "data": {
      "text/plain": [
       "83.84"
      ]
     },
     "execution_count": 176,
     "metadata": {},
     "output_type": "execute_result"
    }
   ],
   "source": [
    "round(np.mean(score)*100, 2)"
   ]
  },
  {
   "cell_type": "code",
   "execution_count": 177,
   "id": "4778140c-5bfd-4cd9-93bd-e030a542e22b",
   "metadata": {},
   "outputs": [],
   "source": [
    "# Extraindo a importância\n",
    "RandomForest.fit(X, Y)\n",
    "importances = RandomForest.feature_importances_\n",
    "indices = np.argsort(importances)"
   ]
  },
  {
   "cell_type": "code",
   "execution_count": 178,
   "id": "d655f4e0-4009-415f-bd27-512fa3809021",
   "metadata": {},
   "outputs": [],
   "source": [
    "# Obtém os índices\n",
    "ind=[]\n",
    "for i in indices:\n",
    "    ind.append(f_total.columns[i])"
   ]
  },
  {
   "cell_type": "code",
   "execution_count": 179,
   "id": "c7c3b87b-ca13-419f-8870-424fa59fc364",
   "metadata": {},
   "outputs": [
    {
     "data": {
      "image/png": "[encoded data removed]",
      "text/plain": [
       "<Figure size 648x432 with 1 Axes>"
      ]
     },
     "metadata": {},
     "output_type": "display_data"
    }
   ],
   "source": [
    "# Plot da Importância dos Atributos\n",
    "plt.figure(figsize=(9,6))\n",
    "plt.title('Importância dos Atributos')\n",
    "plt.barh(range(len(indices)), importances[indices], color = 'b', align = 'center')\n",
    "plt.yticks(range(len(indices)),ind)\n",
    "plt.xlabel('Importância Relativa')\n",
    "plt.show()"
   ]
  },
  {
   "cell_type": "code",
   "execution_count": null,
   "id": "4584ea74-f21f-4f07-966a-1de8fa6f82d5",
   "metadata": {},
   "outputs": [],
   "source": [
    "# Obtém as instâncias (exemplos ou observações) e retorna as probabilidades da coluna ser relevante para a previsão\n",
    "#instance = X[0]\n",
    "#print(RandomForest.predict_proba(instance.reshape(1, -1)))"
   ]
  },
  {
   "cell_type": "markdown",
   "id": "250e0b69-65f9-4536-b2e2-b119248ac7ed",
   "metadata": {},
   "source": [
    "**Extra Trees**"
   ]
  },
  {
   "cell_type": "code",
   "execution_count": 180,
   "id": "b4a32b31-b643-4111-927b-829f4c4654e9",
   "metadata": {},
   "outputs": [
    {
     "name": "stdout",
     "output_type": "stream",
     "text": [
      "[0.81666667 0.81666667 0.78333333 0.75       0.78333333 0.78333333\n",
      " 0.81355932 0.84745763 0.76271186 0.83050847 0.76271186 0.79661017\n",
      " 0.76271186 0.81355932 0.81355932]\n"
     ]
    }
   ],
   "source": [
    "ExtraTrees = ExtraTreesClassifier(n_estimators = 15, max_depth = None, min_samples_split = 2, random_state = 0)\n",
    "scoring = 'accuracy'\n",
    "scores = cross_val_score(ExtraTrees, X, Y, cv=k_fold, n_jobs=1, scoring=scoring)\n",
    "print(scores)"
   ]
  },
  {
   "cell_type": "code",
   "execution_count": 181,
   "id": "d7a32f09-77ac-4804-8017-3866bafecaef",
   "metadata": {},
   "outputs": [
    {
     "data": {
      "text/plain": [
       "79.58"
      ]
     },
     "execution_count": 181,
     "metadata": {},
     "output_type": "execute_result"
    }
   ],
   "source": [
    "round(np.mean(scores)*100, 2)"
   ]
  },
  {
   "cell_type": "code",
   "execution_count": 184,
   "id": "0ed8a6cf-1388-41ab-bf40-22ca62036b1c",
   "metadata": {},
   "outputs": [
    {
     "data": {
      "image/png": "[encoded data removed]",
      "text/plain": [
       "<Figure size 648x432 with 1 Axes>"
      ]
     },
     "metadata": {},
     "output_type": "display_data"
    }
   ],
   "source": [
    "# Extraindo a importância\n",
    "ExtraTrees.fit(X_treino, Y_treino)\n",
    "importances = ExtraTrees.feature_importances_\n",
    "indices = np.argsort(importances)\n",
    "\n",
    "# Obtém os índices\n",
    "ind=[]\n",
    "for i in indices:\n",
    "    ind.append(f_total.columns[i])\n",
    "    \n",
    "# Plot da Importância dos Atributos\n",
    "plt.figure(figsize=(9,6))\n",
    "plt.title('Importância dos Atributos')\n",
    "plt.barh(range(len(indices)), importances[indices], color = 'b', align = 'center')\n",
    "plt.yticks(range(len(indices)),ind)\n",
    "plt.xlabel('Importância Relativa')\n",
    "plt.show()"
   ]
  },
  {
   "cell_type": "markdown",
   "id": "7d9187f0-2101-4e67-9a9f-050905cab464",
   "metadata": {},
   "source": [
    "**RandomizedSearchCV para testar diferentes combinações de parâmetros**<br/>\n",
    "O randomized testa apenas uma porção dos parâmetros de forma aleatória e nos da o melhor resultado dentre as combinações."
   ]
  },
  {
   "cell_type": "code",
   "execution_count": null,
   "id": "6be7c19c-fbba-4c8c-87e8-f2f696be8d52",
   "metadata": {},
   "outputs": [],
   "source": [
    "# Definição dos parâmetros\n",
    "param_dist = {\"max_depth\": [1, 3, 7, 8, 12, None],\n",
    "              \"max_features\": [11, 13, 15, 17, 19],\n",
    "              \"min_samples_split\": [8, 10, 11, 14, 16, 19],\n",
    "              \"min_samples_leaf\": [1, 2, 3, 4, 5, 6, 7],\n",
    "              \"bootstrap\": [True, False]}"
   ]
  },
  {
   "cell_type": "code",
   "execution_count": null,
   "id": "1033d05e-d612-4d5f-9612-395d1613a776",
   "metadata": {},
   "outputs": [],
   "source": [
    "# Para o classificador criado na célula anterior, testamos diferentes combinações de parâmetros\n",
    "rsearch = RandomizedSearchCV(ExtraTrees, param_distributions = param_dist, n_iter = 25)  "
   ]
  },
  {
   "cell_type": "code",
   "execution_count": null,
   "id": "a30d58bd-9cc7-4944-ade1-07a56d537e90",
   "metadata": {
    "tags": []
   },
   "outputs": [],
   "source": [
    "# Aplicando o resultado ao conjunto de dados de treino e obtendo o score\n",
    "rsearch.fit(X, Y)\n",
    "rsearch.cv_results_"
   ]
  },
  {
   "cell_type": "code",
   "execution_count": null,
   "id": "5d8fe3e5-d8f1-489a-af1f-ea6113fa2bb3",
   "metadata": {},
   "outputs": [],
   "source": [
    "# Imprimindo o melhor estimador\n",
    "bestclf = rsearch.best_estimator_\n",
    "print (bestclf)"
   ]
  },
  {
   "cell_type": "code",
   "execution_count": null,
   "id": "fd38ee13-f3a7-49cc-86e8-6dde432b84a2",
   "metadata": {},
   "outputs": [],
   "source": [
    "scores = cross_val_score(bestclf, X, Y, cv=k_fold, n_jobs=1, scoring=scoring)\n",
    "print(scores)"
   ]
  },
  {
   "cell_type": "code",
   "execution_count": null,
   "id": "b8bc5eb7-50fc-4993-938a-55396a0018a1",
   "metadata": {},
   "outputs": [],
   "source": [
    "round(np.mean(score)*100, 2)"
   ]
  },
  {
   "cell_type": "markdown",
   "id": "b3bce41d-991f-4ea2-a2e3-01893fe752be",
   "metadata": {},
   "source": [
    "**GridSearchCV**<br/>\n",
    "O Grid Search realiza metodicamente combinações entre todos os parâmetros do algoritmo, criando um grid. "
   ]
  },
  {
   "cell_type": "code",
   "execution_count": 101,
   "id": "4728d0cf-3308-464b-8920-be6b7c6fe5b7",
   "metadata": {},
   "outputs": [],
   "source": [
    "# Valores dos parâmetros que serão testados\n",
    "param_grid = {\"max_depth\": [None],\n",
    "              \"max_features\": [11, 15, 16],\n",
    "              \"min_samples_leaf\": [2, 4, 8],\n",
    "              \"bootstrap\": [True, False],\n",
    "              \"criterion\": [\"gini\", \"entropy\"]}"
   ]
  },
  {
   "cell_type": "code",
   "execution_count": 102,
   "id": "9169427f-6d14-40c9-b9aa-ad3f0526fddb",
   "metadata": {},
   "outputs": [],
   "source": [
    "# Executando o Randomized Search\n",
    "grid_search = GridSearchCV(ExtraTrees, param_grid = param_grid)"
   ]
  },
  {
   "cell_type": "code",
   "execution_count": 103,
   "id": "938ef895-4747-48a1-ae43-be71fb3207da",
   "metadata": {},
   "outputs": [
    {
     "name": "stdout",
     "output_type": "stream",
     "text": [
      "[0.83333333 0.8        0.81666667 0.78333333 0.78333333 0.83333333\n",
      " 0.83050847 0.89830508 0.81355932 0.88135593 0.76271186 0.81355932\n",
      " 0.76271186 0.79661017 0.76271186]\n",
      "GridSearch executou em 73.48 segundos.\n"
     ]
    }
   ],
   "source": [
    "start = time()\n",
    "scores = cross_val_score(grid_search, X, Y, cv=k_fold, n_jobs=1, scoring=scoring)\n",
    "print(scores)\n",
    "print(\"GridSearch executou em %.2f segundos.\" \n",
    "      % ((time() - start)))"
   ]
  },
  {
   "cell_type": "code",
   "execution_count": 108,
   "id": "ffccdc12-0e01-48d2-87ea-98795c3c7a52",
   "metadata": {},
   "outputs": [
    {
     "data": {
      "text/plain": [
       "GridSearchCV(estimator=ExtraTreesClassifier(n_estimators=15, random_state=0),\n",
       "             param_grid={'bootstrap': [True, False],\n",
       "                         'criterion': ['gini', 'entropy'], 'max_depth': [None],\n",
       "                         'max_features': [11, 15, 16],\n",
       "                         'min_samples_leaf': [2, 4, 8]})"
      ]
     },
     "execution_count": 108,
     "metadata": {},
     "output_type": "execute_result"
    }
   ],
   "source": [
    "grid_search.fit(X, Y)"
   ]
  },
  {
   "cell_type": "code",
   "execution_count": 109,
   "id": "3cf4fa20-04a8-4b89-97ec-3d5025bab5a4",
   "metadata": {},
   "outputs": [
    {
     "name": "stdout",
     "output_type": "stream",
     "text": [
      "ExtraTreesClassifier(max_features=16, min_samples_leaf=2, n_estimators=15,\n",
      "                     random_state=0)\n"
     ]
    }
   ],
   "source": [
    "# Imprimindo o melhor estimador\n",
    "bestclf = grid_search.best_estimator_\n",
    "print (bestclf)"
   ]
  },
  {
   "cell_type": "code",
   "execution_count": 111,
   "id": "d561dc54-5982-429f-8f6f-fee6dba823c8",
   "metadata": {},
   "outputs": [
    {
     "data": {
      "text/plain": [
       "81.15"
      ]
     },
     "execution_count": 111,
     "metadata": {},
     "output_type": "execute_result"
    }
   ],
   "source": [
    "round(np.mean(scores)*100, 2)"
   ]
  },
  {
   "cell_type": "markdown",
   "id": "4506d7ff-cd9b-40f5-8d41-e77caff96a38",
   "metadata": {},
   "source": [
    "**Gradiente Boosting**<br/>\n",
    "Gradient Boosting ou Gradient Boostted Regression Trees (GBRT) é uma técnica de aprendizagem estatística não-paramétrica usada para problemas de classificação e regressão. Gradient Boosting = Gradient Descent + Boosting. Basicamente 3 etapas são realizadas na construção do modelo:\n",
    "- Realiza um conjunto de previsões (y)\n",
    "- Calcula o erro das previsões (j)\n",
    "- Tenta ajustar y reduzindo o erro (através de alpha)\n",
    "- Para cada estimador base, é estimado o gradiente da função de perda\n",
    "- Estimadores subsequentes estimam o erro residual dos estimadores anteriores\n",
    "- Aplica o Gradient Descent para reduzir j\n",
    "- Soma os resultados dos estimadores, dando peso a cada passo de acordo com o valor de alfa\n",
    "\n",
    "_Parâmetros mais importantes:_\n",
    "- Número de árvores de regressão (n_estimators)\n",
    "- Profundidade de cara árvore (max_depth)\n",
    "- loss function (loss)"
   ]
  },
  {
   "cell_type": "code",
   "execution_count": 112,
   "id": "ddf32db4-36e3-429d-a56a-29e10a17e2d8",
   "metadata": {},
   "outputs": [],
   "source": [
    "from sklearn.ensemble import GradientBoostingClassifier"
   ]
  },
  {
   "cell_type": "code",
   "execution_count": 171,
   "id": "228dbc05-8700-403d-b20c-a4031f5fc5d8",
   "metadata": {},
   "outputs": [],
   "source": [
    "X_treino, X_teste, Y_treino, Y_teste = train_test_split (X, Y, test_size = 0.33)\n",
    "GradientBoosting = GradientBoostingClassifier(n_estimators = 500, \n",
    "                                              learning_rate = 1.2, \n",
    "                                              max_depth = 1, \n",
    "                                              min_samples_leaf = 3)"
   ]
  },
  {
   "cell_type": "code",
   "execution_count": 172,
   "id": "e19ff450-5d22-464c-9521-ce9504a0b5b9",
   "metadata": {},
   "outputs": [
    {
     "name": "stdout",
     "output_type": "stream",
     "text": [
      "[0.925      0.775      0.775      0.8        0.775      0.8\n",
      " 0.775      0.825      0.8        0.75       0.8        0.76923077\n",
      " 0.82051282 0.79487179 0.84615385]\n"
     ]
    }
   ],
   "source": [
    "scoring = 'accuracy'\n",
    "score = cross_val_score(GradientBoosting, X_treino, Y_treino, cv=k_fold, n_jobs=1, scoring=scoring)\n",
    "print(score)"
   ]
  },
  {
   "cell_type": "code",
   "execution_count": 173,
   "id": "abcec33b-3f55-4ba2-9b07-1184064cb692",
   "metadata": {},
   "outputs": [
    {
     "data": {
      "text/plain": [
       "80.21"
      ]
     },
     "execution_count": 173,
     "metadata": {},
     "output_type": "execute_result"
    }
   ],
   "source": [
    "round(np.mean(score)*100, 2)"
   ]
  },
  {
   "cell_type": "code",
   "execution_count": 174,
   "id": "f8ba2b87-6f88-44e0-8e73-513cfa3f153e",
   "metadata": {},
   "outputs": [
    {
     "data": {
      "text/plain": [
       "0.8338983050847457"
      ]
     },
     "execution_count": 174,
     "metadata": {},
     "output_type": "execute_result"
    }
   ],
   "source": [
    "GradientBoosting.fit(X_treino, Y_treino)\n",
    "GradientBoosting.score(X_teste, Y_teste)"
   ]
  },
  {
   "cell_type": "code",
   "execution_count": 185,
   "id": "6183939e-dccc-4a2b-bf53-1a6171a0ab05",
   "metadata": {},
   "outputs": [
    {
     "data": {
      "image/png": "[encoded data removed]",
      "text/plain": [
       "<Figure size 648x432 with 1 Axes>"
      ]
     },
     "metadata": {},
     "output_type": "display_data"
    }
   ],
   "source": [
    "# Extraindo a importância\n",
    "GradientBoosting.fit(X_teste, Y_teste)\n",
    "importances = GradientBoosting.feature_importances_\n",
    "indices = np.argsort(importances)\n",
    "\n",
    "# Obtém os índices\n",
    "ind=[]\n",
    "for i in indices:\n",
    "    ind.append(f_total.columns[i])\n",
    "    \n",
    "# Plot da Importância dos Atributos\n",
    "plt.figure(figsize=(9,6))\n",
    "plt.title('Importância dos Atributos')\n",
    "plt.barh(range(len(indices)), importances[indices], color = 'b', align = 'center')\n",
    "plt.yticks(range(len(indices)),ind)\n",
    "plt.xlabel('Importância Relativa')\n",
    "plt.show()"
   ]
  },
  {
   "cell_type": "markdown",
   "id": "a7a20305-58d2-466d-9c1a-e8ba736a7880",
   "metadata": {},
   "source": [
    "_Utilizando GridSearchCV_"
   ]
  },
  {
   "cell_type": "code",
   "execution_count": 169,
   "id": "433e353a-d0f3-4277-8a46-14662b9acf12",
   "metadata": {},
   "outputs": [
    {
     "name": "stdout",
     "output_type": "stream",
     "text": [
      "[0.825      0.775      0.775      0.775      0.775      0.85\n",
      " 0.775      0.825      0.775      0.825      0.85       0.66666667\n",
      " 0.94871795 0.87179487 0.84615385]\n",
      "GridSearch executou em 3.31 segundos.\n"
     ]
    },
    {
     "data": {
      "text/plain": [
       "0.8"
      ]
     },
     "execution_count": 169,
     "metadata": {},
     "output_type": "execute_result"
    }
   ],
   "source": [
    "# Valores dos parâmetros que serão testados\n",
    "param_grid = {\"learning_rate\": [0.2, 0.6, 1, 1.2],\n",
    "              \"max_depth\": [1, 2, 3],\n",
    "              \"min_samples_leaf\": [3, 5]\n",
    "             }\n",
    "\n",
    "# Executando o Randomized Search\n",
    "grid_search = GridSearchCV(GradientBoosting, param_grid = param_grid)\n",
    "\n",
    "start = time()\n",
    "scores = cross_val_score(GradientBoosting, X_treino, Y_treino, cv=k_fold, n_jobs=1, scoring=scoring)\n",
    "print(scores)\n",
    "print(\"GridSearch executou em %.2f segundos.\" \n",
    "      % ((time() - start)))\n",
    "\n",
    "gs_cv = grid_search.fit(X_treino, Y_treino)\n",
    "gs_cv.score(X_teste, Y_teste)"
   ]
  },
  {
   "cell_type": "code",
   "execution_count": 170,
   "id": "c38952a7-a310-4bb8-95b6-13c172c2f747",
   "metadata": {},
   "outputs": [
    {
     "name": "stdout",
     "output_type": "stream",
     "text": [
      "Melhores Hyperparametros: {'learning_rate': 1.2, 'max_depth': 1, 'min_samples_leaf': 3}\n"
     ]
    }
   ],
   "source": [
    "# Imprime os melhors parâmetros\n",
    "print('Melhores Hyperparametros: %r' % gs_cv.best_params_)"
   ]
  },
  {
   "cell_type": "markdown",
   "id": "c5c45658-7ddc-4f25-87f3-962f223389ee",
   "metadata": {},
   "source": [
    "**Naive Bayes**"
   ]
  },
  {
   "cell_type": "code",
   "execution_count": null,
   "id": "fb6c9282-39ba-432a-8447-83135731d492",
   "metadata": {},
   "outputs": [],
   "source": [
    "NaiveBayes = GaussianNB()\n",
    "scoring = 'accuracy'\n",
    "score = cross_val_score(NaiveBayes, X, Y, cv=k_fold, n_jobs=1, scoring=scoring)\n",
    "print(score)"
   ]
  },
  {
   "cell_type": "code",
   "execution_count": null,
   "id": "1bd2f5ce-c760-4753-ad41-a1e89de1dcbf",
   "metadata": {},
   "outputs": [],
   "source": [
    "round(np.mean(score)*100, 2)"
   ]
  },
  {
   "cell_type": "markdown",
   "id": "f7ae7dc8-3b00-49a3-ab56-f8f716e943b2",
   "metadata": {},
   "source": [
    "**SVM**"
   ]
  },
  {
   "cell_type": "code",
   "execution_count": null,
   "id": "b7545aa3-056a-46b4-84d0-2129711ea4f8",
   "metadata": {},
   "outputs": [],
   "source": [
    "SVM = SVC(kernel='poly')\n",
    "scoring = 'accuracy'\n",
    "score = cross_val_score(SVM, X, Y, cv=k_fold, n_jobs=1, scoring=scoring)\n",
    "print(score)"
   ]
  },
  {
   "cell_type": "code",
   "execution_count": null,
   "id": "e82d13f5-a3fe-46f9-a997-5531692e66fc",
   "metadata": {},
   "outputs": [],
   "source": [
    "round(np.mean(score)*100,2)"
   ]
  },
  {
   "cell_type": "markdown",
   "id": "dd0e0195-5869-402e-b8ad-b177b4ceded1",
   "metadata": {},
   "source": [
    "**Logistic Regression**"
   ]
  },
  {
   "cell_type": "code",
   "execution_count": null,
   "id": "f8b5e9e4-68b9-4053-9836-dc37d2d60397",
   "metadata": {},
   "outputs": [],
   "source": [
    "#Possíveis parâmetros: \n",
    "#    LogisticRegression(C=109.85411419875572, class_weight=None, dual=False,\n",
    "#          fit_intercept=True, intercept_scaling=1, max_iter=100,\n",
    "#          multi_class='warn', n_jobs=None, penalty='l1', random_state=None,\n",
    "#          solver='warn', tol=0.0001, verbose=0, warm_start=False)"
   ]
  },
  {
   "cell_type": "code",
   "execution_count": null,
   "id": "c5a0f02a-e264-4da5-8d44-267f195356a6",
   "metadata": {},
   "outputs": [],
   "source": [
    "logistic_regression = LogisticRegression()\n",
    "scoring = 'accuracy'\n",
    "score = cross_val_score(logistic_regression, X, Y, cv=k_fold, n_jobs=1, scoring=scoring)\n",
    "print(score)"
   ]
  },
  {
   "cell_type": "code",
   "execution_count": null,
   "id": "20ddb867-8318-423c-9ec7-d1e047c8a235",
   "metadata": {},
   "outputs": [],
   "source": [
    "round(np.mean(score)*100,2)"
   ]
  },
  {
   "cell_type": "markdown",
   "id": "0b883db4-6925-4746-9b97-b3dd5a407950",
   "metadata": {},
   "source": [
    "**Pipeline**"
   ]
  },
  {
   "cell_type": "code",
   "execution_count": null,
   "id": "34556557-6aa5-406d-9719-9b2f79b80631",
   "metadata": {},
   "outputs": [],
   "source": [
    "model = KNN"
   ]
  },
  {
   "cell_type": "code",
   "execution_count": null,
   "id": "1cb96e3e-fc07-48ea-a66f-5f13528b27fe",
   "metadata": {},
   "outputs": [],
   "source": [
    "std_slc = StandardScaler() #Normalização dos dados\n",
    "#pca = PCA() #Redução de dimensionalidade\n",
    "#svd = TruncatedSVD(n_components = 2) #Redução de dimensionalidade\n",
    "pipe = Pipeline(steps=[('std_slc', std_slc),\n",
    "                       ('pca', pca),\n",
    "                       ('logistic_Reg', model)])"
   ]
  },
  {
   "cell_type": "code",
   "execution_count": null,
   "id": "877928a6-6b80-486d-abcf-2bbabd46ca4c",
   "metadata": {},
   "outputs": [],
   "source": [
    "scoring = 'accuracy'\n",
    "score = cross_val_score(pipe, X, Y, cv=k_fold, n_jobs=1, scoring=scoring)\n",
    "print(score)"
   ]
  },
  {
   "cell_type": "code",
   "execution_count": null,
   "id": "5ed41cdc-f422-40c4-afe5-9f81bcffbe03",
   "metadata": {},
   "outputs": [],
   "source": [
    "round(np.mean(score)*100,2)"
   ]
  },
  {
   "cell_type": "markdown",
   "id": "aa44d147-b14b-4a8c-a8d6-769e94b16492",
   "metadata": {},
   "source": [
    "### Testando"
   ]
  },
  {
   "cell_type": "code",
   "execution_count": null,
   "id": "77ebd36b-157a-4059-9cc9-fa40b58a7604",
   "metadata": {},
   "outputs": [],
   "source": [
    "pipe.fit(X, Y)"
   ]
  },
  {
   "cell_type": "code",
   "execution_count": null,
   "id": "68866ec6-9d97-4d72-aec0-c6d7cef11dd9",
   "metadata": {},
   "outputs": [],
   "source": [
    "list_ids = df_test['PassengerId']"
   ]
  },
  {
   "cell_type": "code",
   "execution_count": null,
   "id": "69743e04-f409-459d-97fc-f013cdfb738e",
   "metadata": {},
   "outputs": [],
   "source": [
    "prediction = pipe.predict(f_test)"
   ]
  },
  {
   "cell_type": "code",
   "execution_count": null,
   "id": "5654d327-673e-46be-b454-8983ec02a300",
   "metadata": {},
   "outputs": [],
   "source": [
    "submission = pd.DataFrame({\n",
    "        \"PassengerId\": list_ids,\n",
    "        \"Survived\": prediction\n",
    "    })"
   ]
  },
  {
   "cell_type": "code",
   "execution_count": null,
   "id": "8f7215aa-9188-4bfe-8681-51acf8d751d9",
   "metadata": {},
   "outputs": [],
   "source": [
    "submission.to_csv('submissionV2_pipe.csv', index=False)"
   ]
  },
  {
   "cell_type": "code",
   "execution_count": null,
   "id": "6cd929fa-67a9-43a2-8b8f-01a0887ca6a9",
   "metadata": {},
   "outputs": [],
   "source": [
    "submission = pd.read_csv('submission.csv')\n",
    "submission.head()"
   ]
  },
  {
   "cell_type": "markdown",
   "id": "d490368c-109e-464b-9044-80f6e2dffb22",
   "metadata": {},
   "source": [
    "### Utilizando o Tensorflow 2"
   ]
  },
  {
   "cell_type": "code",
   "execution_count": null,
   "id": "f9e81c26-4af2-4314-8a51-321bee93c3ca",
   "metadata": {},
   "outputs": [],
   "source": [
    "import tensorflow as tf\n",
    "from tensorflow.keras.optimizers import Adam\n",
    "from tensorflow.keras.metrics import Precision\n",
    "from tensorflow.keras.metrics import Recall\n",
    "from sklearn.model_selection import train_test_split"
   ]
  },
  {
   "cell_type": "code",
   "execution_count": null,
   "id": "1f99616e-82b9-4cdc-af69-bf4339c8d599",
   "metadata": {},
   "outputs": [],
   "source": [
    "# We split the training data into two samples, training and validation\n",
    "X_train, X_valid, y_train, y_valid = train_test_split(X, Y)"
   ]
  },
  {
   "cell_type": "code",
   "execution_count": null,
   "id": "c7caf853-6d8d-42ce-897a-968202c5a81b",
   "metadata": {},
   "outputs": [],
   "source": [
    "model = tf.keras.models.Sequential()"
   ]
  },
  {
   "cell_type": "code",
   "execution_count": null,
   "id": "dbca067c-112d-4b8b-89bb-1c63549d8847",
   "metadata": {},
   "outputs": [],
   "source": [
    "model.add(tf.keras.Input(shape=(17)))\n",
    "model.add(tf.keras.layers.Dense(units=17, activation='relu', input_shape=(9, )))\n",
    "model.add(tf.keras.layers.Dropout(0.2))\n",
    "model.add(tf.keras.layers.Dense(units=10, activation='relu'))\n",
    "model.add(tf.keras.layers.Dropout(0.2))\n",
    "model.add(tf.keras.layers.Dense(units=9, activation='relu'))\n",
    "model.add(tf.keras.layers.Dropout(0.2))\n",
    "model.add(tf.keras.layers.Dense(units=2, activation='softmax')) "
   ]
  },
  {
   "cell_type": "code",
   "execution_count": null,
   "id": "359c8f48-1da1-42e5-8344-2a75df2db052",
   "metadata": {},
   "outputs": [],
   "source": [
    "# Hyperparameters\n",
    "autotune = tf.data.experimental.AUTOTUNE\n",
    "batch_size = 8\n",
    "epochs = 100\n",
    "lr = 0.0001\n",
    "beta1 = 0.9\n",
    "beta2 = 0.9\n",
    "ep = 1e-08"
   ]
  },
  {
   "cell_type": "code",
   "execution_count": null,
   "id": "3fc34891-1989-4919-bcfd-842ad2c4c323",
   "metadata": {},
   "outputs": [],
   "source": [
    "# Model compilation\n",
    "model.compile(optimizer = Adam(learning_rate = lr, \n",
    "                                beta_1 = beta1, \n",
    "                                beta_2 = beta2, \n",
    "                                epsilon = ep),\n",
    "               loss = 'sparse_categorical_crossentropy', \n",
    "               metrics=['sparse_categorical_accuracy'])"
   ]
  },
  {
   "cell_type": "code",
   "execution_count": null,
   "id": "57623114-0d04-4b5d-b60c-cea2157df9e9",
   "metadata": {},
   "outputs": [],
   "source": [
    "checkpoint1 = tf.keras.callbacks.ModelCheckpoint(\"best_model.h5\", \n",
    "                                                verbose = 1, \n",
    "                                                save_best_only = True, \n",
    "                                                save_weights_only = True)"
   ]
  },
  {
   "cell_type": "code",
   "execution_count": null,
   "id": "b66da42d-acf2-4801-a1aa-14cd7dd18317",
   "metadata": {},
   "outputs": [],
   "source": [
    "# Early stop\n",
    "early_stop = tf.keras.callbacks.EarlyStopping(patience = 50) "
   ]
  },
  {
   "cell_type": "code",
   "execution_count": null,
   "id": "8b40aa06-56f5-4e2b-a7c9-13f0ccd73197",
   "metadata": {
    "tags": []
   },
   "outputs": [],
   "source": [
    "history = model.fit(X, Y, steps_per_epoch = len(X)//batch_size, epochs = epochs, \n",
    "                    callbacks = [checkpoint1, early_stop])"
   ]
  },
  {
   "cell_type": "code",
   "execution_count": null,
   "id": "0ff1baca-23e4-4438-9e19-2bcee6eac3aa",
   "metadata": {},
   "outputs": [],
   "source": [
    "results = model.evaluate(X, Y, batch_size=128)"
   ]
  },
  {
   "cell_type": "code",
   "execution_count": null,
   "id": "4cf8cf72-2799-458d-9a9b-22b8f5eeae1d",
   "metadata": {},
   "outputs": [],
   "source": [
    "previsoes = model.predict(f_test)\n",
    "pred = np.argmax(previsoes, axis = 1)"
   ]
  },
  {
   "cell_type": "code",
   "execution_count": null,
   "id": "6dd59401-94d9-4446-a029-80210c0c3b7c",
   "metadata": {},
   "outputs": [],
   "source": [
    "submission = pd.DataFrame({\n",
    "        \"PassengerId\": df_test['PassengerId'],\n",
    "        \"Survived\": pred\n",
    "    })\n",
    "submission.to_csv('submissionTensorflow.csv', index=False)"
   ]
  }
 ],
 "metadata": {
  "kernelspec": {
   "display_name": "Python 3 (ipykernel)",
   "language": "python",
   "name": "python3"
  },
  "language_info": {
   "codemirror_mode": {
    "name": "ipython",
    "version": 3
   },
   "file_extension": ".py",
   "mimetype": "text/x-python",
   "name": "python",
   "nbconvert_exporter": "python",
   "pygments_lexer": "ipython3",
   "version": "3.9.12"
  }
 },
 "nbformat": 4,
 "nbformat_minor": 5
}

{
 "cells": [
  {
   "cell_type": "markdown",
   "id": "bc514ae0-dabd-46de-b04e-de215209f6b9",
   "metadata": {},
   "source": [
    "# Titanic: Solution 2\n",
    "\n",
    "Olhar essa implementação depois:\n",
    "https://www.kaggle.com/code/alerosso/titanic-top-20-espa-ol-italiano-english/notebook"
   ]
  },
  {
   "cell_type": "code",
   "execution_count": 1,
   "id": "5ce80f27-9316-4775-954a-37925c6915f0",
   "metadata": {},
   "outputs": [],
   "source": [
    "import pandas as pd\n",
    "import numpy as np\n",
    "import matplotlib.pyplot as plt\n",
    "from matplotlib import style\n",
    "import seaborn as sns"
   ]
  },
  {
   "cell_type": "code",
   "execution_count": 16,
   "id": "5076e9e8",
   "metadata": {},
   "outputs": [],
   "source": [
    "style.use('styles/personalestilo-1.mplstyle')"
   ]
  },
  {
   "cell_type": "code",
   "execution_count": 3,
   "id": "4bdc008a-df2a-45c0-a87b-9911a5201c23",
   "metadata": {},
   "outputs": [],
   "source": [
    "df_train = pd.read_csv('data/train.csv')\n",
    "df_test = pd.read_csv('data/test.csv')"
   ]
  },
  {
   "cell_type": "code",
   "execution_count": 4,
   "id": "7e262b1d-f878-4084-b6cb-d41b21925669",
   "metadata": {},
   "outputs": [
    {
     "data": {
      "text/html": [
       "<div>\n",
       "<style scoped>\n",
       "    .dataframe tbody tr th:only-of-type {\n",
       "        vertical-align: middle;\n",
       "    }\n",
       "\n",
       "    .dataframe tbody tr th {\n",
       "        vertical-align: top;\n",
       "    }\n",
       "\n",
       "    .dataframe thead th {\n",
       "        text-align: right;\n",
       "    }\n",
       "</style>\n",
       "<table border=\"1\" class=\"dataframe\">\n",
       "  <thead>\n",
       "    <tr style=\"text-align: right;\">\n",
       "      <th></th>\n",
       "      <th>PassengerId</th>\n",
       "      <th>Survived</th>\n",
       "      <th>Pclass</th>\n",
       "      <th>Name</th>\n",
       "      <th>Sex</th>\n",
       "      <th>Age</th>\n",
       "      <th>SibSp</th>\n",
       "      <th>Parch</th>\n",
       "      <th>Ticket</th>\n",
       "      <th>Fare</th>\n",
       "      <th>Cabin</th>\n",
       "      <th>Embarked</th>\n",
       "    </tr>\n",
       "  </thead>\n",
       "  <tbody>\n",
       "    <tr>\n",
       "      <th>0</th>\n",
       "      <td>1</td>\n",
       "      <td>0</td>\n",
       "      <td>3</td>\n",
       "      <td>Braund, Mr. Owen Harris</td>\n",
       "      <td>male</td>\n",
       "      <td>22.0</td>\n",
       "      <td>1</td>\n",
       "      <td>0</td>\n",
       "      <td>A/5 21171</td>\n",
       "      <td>7.2500</td>\n",
       "      <td>NaN</td>\n",
       "      <td>S</td>\n",
       "    </tr>\n",
       "    <tr>\n",
       "      <th>1</th>\n",
       "      <td>2</td>\n",
       "      <td>1</td>\n",
       "      <td>1</td>\n",
       "      <td>Cumings, Mrs. John Bradley (Florence Briggs Th...</td>\n",
       "      <td>female</td>\n",
       "      <td>38.0</td>\n",
       "      <td>1</td>\n",
       "      <td>0</td>\n",
       "      <td>PC 17599</td>\n",
       "      <td>71.2833</td>\n",
       "      <td>C85</td>\n",
       "      <td>C</td>\n",
       "    </tr>\n",
       "    <tr>\n",
       "      <th>2</th>\n",
       "      <td>3</td>\n",
       "      <td>1</td>\n",
       "      <td>3</td>\n",
       "      <td>Heikkinen, Miss. Laina</td>\n",
       "      <td>female</td>\n",
       "      <td>26.0</td>\n",
       "      <td>0</td>\n",
       "      <td>0</td>\n",
       "      <td>STON/O2. 3101282</td>\n",
       "      <td>7.9250</td>\n",
       "      <td>NaN</td>\n",
       "      <td>S</td>\n",
       "    </tr>\n",
       "    <tr>\n",
       "      <th>3</th>\n",
       "      <td>4</td>\n",
       "      <td>1</td>\n",
       "      <td>1</td>\n",
       "      <td>Futrelle, Mrs. Jacques Heath (Lily May Peel)</td>\n",
       "      <td>female</td>\n",
       "      <td>35.0</td>\n",
       "      <td>1</td>\n",
       "      <td>0</td>\n",
       "      <td>113803</td>\n",
       "      <td>53.1000</td>\n",
       "      <td>C123</td>\n",
       "      <td>S</td>\n",
       "    </tr>\n",
       "    <tr>\n",
       "      <th>4</th>\n",
       "      <td>5</td>\n",
       "      <td>0</td>\n",
       "      <td>3</td>\n",
       "      <td>Allen, Mr. William Henry</td>\n",
       "      <td>male</td>\n",
       "      <td>35.0</td>\n",
       "      <td>0</td>\n",
       "      <td>0</td>\n",
       "      <td>373450</td>\n",
       "      <td>8.0500</td>\n",
       "      <td>NaN</td>\n",
       "      <td>S</td>\n",
       "    </tr>\n",
       "  </tbody>\n",
       "</table>\n",
       "</div>"
      ],
      "text/plain": [
       "   PassengerId  Survived  Pclass  \\\n",
       "0            1         0       3   \n",
       "1            2         1       1   \n",
       "2            3         1       3   \n",
       "3            4         1       1   \n",
       "4            5         0       3   \n",
       "\n",
       "                                                Name     Sex   Age  SibSp  \\\n",
       "0                            Braund, Mr. Owen Harris    male  22.0      1   \n",
       "1  Cumings, Mrs. John Bradley (Florence Briggs Th...  female  38.0      1   \n",
       "2                             Heikkinen, Miss. Laina  female  26.0      0   \n",
       "3       Futrelle, Mrs. Jacques Heath (Lily May Peel)  female  35.0      1   \n",
       "4                           Allen, Mr. William Henry    male  35.0      0   \n",
       "\n",
       "   Parch            Ticket     Fare Cabin Embarked  \n",
       "0      0         A/5 21171   7.2500   NaN        S  \n",
       "1      0          PC 17599  71.2833   C85        C  \n",
       "2      0  STON/O2. 3101282   7.9250   NaN        S  \n",
       "3      0            113803  53.1000  C123        S  \n",
       "4      0            373450   8.0500   NaN        S  "
      ]
     },
     "execution_count": 4,
     "metadata": {},
     "output_type": "execute_result"
    }
   ],
   "source": [
    "df_train.head(5)"
   ]
  },
  {
   "cell_type": "code",
   "execution_count": 5,
   "id": "b36e95fa-1ed6-4b29-a40b-6ac2c8d53715",
   "metadata": {},
   "outputs": [
    {
     "data": {
      "text/html": [
       "<div>\n",
       "<style scoped>\n",
       "    .dataframe tbody tr th:only-of-type {\n",
       "        vertical-align: middle;\n",
       "    }\n",
       "\n",
       "    .dataframe tbody tr th {\n",
       "        vertical-align: top;\n",
       "    }\n",
       "\n",
       "    .dataframe thead th {\n",
       "        text-align: right;\n",
       "    }\n",
       "</style>\n",
       "<table border=\"1\" class=\"dataframe\">\n",
       "  <thead>\n",
       "    <tr style=\"text-align: right;\">\n",
       "      <th></th>\n",
       "      <th>PassengerId</th>\n",
       "      <th>Pclass</th>\n",
       "      <th>Name</th>\n",
       "      <th>Sex</th>\n",
       "      <th>Age</th>\n",
       "      <th>SibSp</th>\n",
       "      <th>Parch</th>\n",
       "      <th>Ticket</th>\n",
       "      <th>Fare</th>\n",
       "      <th>Cabin</th>\n",
       "      <th>Embarked</th>\n",
       "    </tr>\n",
       "  </thead>\n",
       "  <tbody>\n",
       "    <tr>\n",
       "      <th>0</th>\n",
       "      <td>892</td>\n",
       "      <td>3</td>\n",
       "      <td>Kelly, Mr. James</td>\n",
       "      <td>male</td>\n",
       "      <td>34.5</td>\n",
       "      <td>0</td>\n",
       "      <td>0</td>\n",
       "      <td>330911</td>\n",
       "      <td>7.8292</td>\n",
       "      <td>NaN</td>\n",
       "      <td>Q</td>\n",
       "    </tr>\n",
       "    <tr>\n",
       "      <th>1</th>\n",
       "      <td>893</td>\n",
       "      <td>3</td>\n",
       "      <td>Wilkes, Mrs. James (Ellen Needs)</td>\n",
       "      <td>female</td>\n",
       "      <td>47.0</td>\n",
       "      <td>1</td>\n",
       "      <td>0</td>\n",
       "      <td>363272</td>\n",
       "      <td>7.0000</td>\n",
       "      <td>NaN</td>\n",
       "      <td>S</td>\n",
       "    </tr>\n",
       "    <tr>\n",
       "      <th>2</th>\n",
       "      <td>894</td>\n",
       "      <td>2</td>\n",
       "      <td>Myles, Mr. Thomas Francis</td>\n",
       "      <td>male</td>\n",
       "      <td>62.0</td>\n",
       "      <td>0</td>\n",
       "      <td>0</td>\n",
       "      <td>240276</td>\n",
       "      <td>9.6875</td>\n",
       "      <td>NaN</td>\n",
       "      <td>Q</td>\n",
       "    </tr>\n",
       "    <tr>\n",
       "      <th>3</th>\n",
       "      <td>895</td>\n",
       "      <td>3</td>\n",
       "      <td>Wirz, Mr. Albert</td>\n",
       "      <td>male</td>\n",
       "      <td>27.0</td>\n",
       "      <td>0</td>\n",
       "      <td>0</td>\n",
       "      <td>315154</td>\n",
       "      <td>8.6625</td>\n",
       "      <td>NaN</td>\n",
       "      <td>S</td>\n",
       "    </tr>\n",
       "    <tr>\n",
       "      <th>4</th>\n",
       "      <td>896</td>\n",
       "      <td>3</td>\n",
       "      <td>Hirvonen, Mrs. Alexander (Helga E Lindqvist)</td>\n",
       "      <td>female</td>\n",
       "      <td>22.0</td>\n",
       "      <td>1</td>\n",
       "      <td>1</td>\n",
       "      <td>3101298</td>\n",
       "      <td>12.2875</td>\n",
       "      <td>NaN</td>\n",
       "      <td>S</td>\n",
       "    </tr>\n",
       "  </tbody>\n",
       "</table>\n",
       "</div>"
      ],
      "text/plain": [
       "   PassengerId  Pclass                                          Name     Sex  \\\n",
       "0          892       3                              Kelly, Mr. James    male   \n",
       "1          893       3              Wilkes, Mrs. James (Ellen Needs)  female   \n",
       "2          894       2                     Myles, Mr. Thomas Francis    male   \n",
       "3          895       3                              Wirz, Mr. Albert    male   \n",
       "4          896       3  Hirvonen, Mrs. Alexander (Helga E Lindqvist)  female   \n",
       "\n",
       "    Age  SibSp  Parch   Ticket     Fare Cabin Embarked  \n",
       "0  34.5      0      0   330911   7.8292   NaN        Q  \n",
       "1  47.0      1      0   363272   7.0000   NaN        S  \n",
       "2  62.0      0      0   240276   9.6875   NaN        Q  \n",
       "3  27.0      0      0   315154   8.6625   NaN        S  \n",
       "4  22.0      1      1  3101298  12.2875   NaN        S  "
      ]
     },
     "execution_count": 5,
     "metadata": {},
     "output_type": "execute_result"
    }
   ],
   "source": [
    "df_test.head(5)"
   ]
  },
  {
   "cell_type": "code",
   "execution_count": 6,
   "id": "b6c1a761-ee6a-4d90-9399-0fcf5db3339b",
   "metadata": {},
   "outputs": [
    {
     "data": {
      "text/plain": [
       "((891, 12), (418, 11))"
      ]
     },
     "execution_count": 6,
     "metadata": {},
     "output_type": "execute_result"
    }
   ],
   "source": [
    "df_train.shape, df_test.shape"
   ]
  },
  {
   "cell_type": "code",
   "execution_count": 7,
   "id": "4c120bb6-9d62-41b0-90ef-3b4a3fe3f552",
   "metadata": {},
   "outputs": [
    {
     "name": "stdout",
     "output_type": "stream",
     "text": [
      "PassengerId      0\n",
      "Survived         0\n",
      "Pclass           0\n",
      "Name             0\n",
      "Sex              0\n",
      "Age            177\n",
      "SibSp            0\n",
      "Parch            0\n",
      "Ticket           0\n",
      "Fare             0\n",
      "Cabin          687\n",
      "Embarked         2\n",
      "dtype: int64\n",
      "###################\n",
      "PassengerId      0\n",
      "Pclass           0\n",
      "Name             0\n",
      "Sex              0\n",
      "Age             86\n",
      "SibSp            0\n",
      "Parch            0\n",
      "Ticket           0\n",
      "Fare             1\n",
      "Cabin          327\n",
      "Embarked         0\n",
      "dtype: int64\n"
     ]
    }
   ],
   "source": [
    "print(df_train.isnull().sum())\n",
    "print('###################')\n",
    "print(df_test.isnull().sum())"
   ]
  },
  {
   "cell_type": "code",
   "execution_count": 8,
   "id": "a982572b-a070-49db-b40c-e9ae867e3118",
   "metadata": {},
   "outputs": [
    {
     "data": {
      "image/png": "[encoded data removed]",
      "text/plain": [
       "<Figure size 720x432 with 2 Axes>"
      ]
     },
     "metadata": {},
     "output_type": "display_data"
    }
   ],
   "source": [
    "#correlation matrix\n",
    "corrmat = df_train.corr()\n",
    "plt.figure(figsize=(10, 6))\n",
    "k = 12 #number of variables for heatmap\n",
    "cols = corrmat.nlargest(k, 'Survived')['Survived'].index\n",
    "cm = np.corrcoef(df_train[cols].values.T)\n",
    "sns.set(font_scale=1.25)\n",
    "hm = sns.heatmap(cm, cbar=True, annot=True, fmt='.2f', yticklabels=cols.values, xticklabels=cols.values)\n"
   ]
  },
  {
   "cell_type": "code",
   "execution_count": 9,
   "id": "049a7dc1-bd28-403b-8272-fda10b361d2e",
   "metadata": {},
   "outputs": [
    {
     "data": {
      "text/plain": [
       "<AxesSubplot:>"
      ]
     },
     "execution_count": 9,
     "metadata": {},
     "output_type": "execute_result"
    },
    {
     "data": {
      "image/png": "[encoded data removed]",
      "text/plain": [
       "<Figure size 864x432 with 2 Axes>"
      ]
     },
     "metadata": {},
     "output_type": "display_data"
    }
   ],
   "source": [
    "plt.figure(figsize=(12, 6))\n",
    "sns.heatmap(df_train.corr().abs(),  annot=True)"
   ]
  },
  {
   "cell_type": "code",
   "execution_count": 10,
   "id": "74a6ed4c-9dd7-48bc-8cbb-a98bbb9c98c2",
   "metadata": {},
   "outputs": [],
   "source": [
    "def bar_chart(coluna):\n",
    "    sobreviveram = df_train[df_train['Survived']==1][coluna].value_counts()\n",
    "    morreram = df_train[df_train['Survived']==0][coluna].value_counts()\n",
    "    df = pd.DataFrame([sobreviveram, morreram])\n",
    "    df.index = ['Survived','Dead']\n",
    "    df.plot(kind='bar',stacked=True, figsize=(6,4))"
   ]
  },
  {
   "cell_type": "markdown",
   "id": "d58470d2-2c60-452e-ade1-0ee30aa54c7a",
   "metadata": {},
   "source": [
    "## Análise exploratória dos dados"
   ]
  },
  {
   "cell_type": "markdown",
   "id": "3921e7d0-0517-456b-b288-28f426e793ae",
   "metadata": {},
   "source": [
    "#### Atributo: Sex"
   ]
  },
  {
   "cell_type": "code",
   "execution_count": 11,
   "id": "212d3b5a-92a3-4ee3-abd7-dfe964427a43",
   "metadata": {},
   "outputs": [
    {
     "data": {
      "text/html": [
       "<div>\n",
       "<style scoped>\n",
       "    .dataframe tbody tr th:only-of-type {\n",
       "        vertical-align: middle;\n",
       "    }\n",
       "\n",
       "    .dataframe tbody tr th {\n",
       "        vertical-align: top;\n",
       "    }\n",
       "\n",
       "    .dataframe thead th {\n",
       "        text-align: right;\n",
       "    }\n",
       "</style>\n",
       "<table border=\"1\" class=\"dataframe\">\n",
       "  <thead>\n",
       "    <tr style=\"text-align: right;\">\n",
       "      <th>Sex</th>\n",
       "      <th>female</th>\n",
       "      <th>male</th>\n",
       "    </tr>\n",
       "    <tr>\n",
       "      <th>Survived</th>\n",
       "      <th></th>\n",
       "      <th></th>\n",
       "    </tr>\n",
       "  </thead>\n",
       "  <tbody>\n",
       "    <tr>\n",
       "      <th>0.188908</th>\n",
       "      <td>0</td>\n",
       "      <td>577</td>\n",
       "    </tr>\n",
       "    <tr>\n",
       "      <th>0.742038</th>\n",
       "      <td>314</td>\n",
       "      <td>0</td>\n",
       "    </tr>\n",
       "  </tbody>\n",
       "</table>\n",
       "</div>"
      ],
      "text/plain": [
       "Sex       female  male\n",
       "Survived              \n",
       "0.188908       0   577\n",
       "0.742038     314     0"
      ]
     },
     "execution_count": 11,
     "metadata": {},
     "output_type": "execute_result"
    }
   ],
   "source": [
    "#Exemplo que eu achei muito interessante de ver a probabilidade de um evento baseado em uma variável\n",
    "sexProb = df_train.groupby('Sex')['Survived'].transform('sum') / df_train.groupby('Sex')['Survived'].transform('count')\n",
    "pd.crosstab(sexProb, df_train['Sex'], dropna=False)"
   ]
  },
  {
   "cell_type": "code",
   "execution_count": 12,
   "id": "fafa9aaf-dfdf-41f8-ba95-7db2291b866d",
   "metadata": {},
   "outputs": [
    {
     "data": {
      "text/plain": [
       "male      577\n",
       "female    314\n",
       "Name: Sex, dtype: int64"
      ]
     },
     "execution_count": 12,
     "metadata": {},
     "output_type": "execute_result"
    }
   ],
   "source": [
    "df_train['Sex'].value_counts()"
   ]
  },
  {
   "cell_type": "code",
   "execution_count": 13,
   "id": "0d5ce191-8471-485d-98af-c6cee365e335",
   "metadata": {},
   "outputs": [
    {
     "data": {
      "text/plain": [
       "male      266\n",
       "female    152\n",
       "Name: Sex, dtype: int64"
      ]
     },
     "execution_count": 13,
     "metadata": {},
     "output_type": "execute_result"
    }
   ],
   "source": [
    "df_test['Sex'].value_counts()"
   ]
  },
  {
   "cell_type": "code",
   "execution_count": 14,
   "id": "25ac41bb-49af-4c7d-83b4-595d793b1b0e",
   "metadata": {},
   "outputs": [],
   "source": [
    "labels = ['Sobreviveram', 'Morreram']\n",
    "homensSobreviveram = df_train.loc[(df_train['Sex'] == 'male') & (df_train['Survived'] == 1), 'Sex']\n",
    "mulheresSobreviveram = df_train.loc[(df_train['Sex'] == 'female') & (df_train['Survived'] == 1), 'Sex']\n",
    "\n",
    "homensMorreram = df_train.loc[(df_train['Sex'] == 'male') & (df_train['Survived'] == 0), 'Sex']\n",
    "mulheresMorreram = df_train.loc[(df_train['Sex'] == 'female') & (df_train['Survived'] == 0), 'Sex']\n",
    "\n",
    "homens = np.array([len(homensSobreviveram), len(homensMorreram)])\n",
    "mulheres = np.array([len(mulheresSobreviveram), len(mulheresMorreram)])"
   ]
  },
  {
   "cell_type": "code",
   "execution_count": 17,
   "id": "5608396b-eacf-470f-9b1f-28956d5e28fa",
   "metadata": {},
   "outputs": [
    {
     "data": {
      "text/plain": [
       "<matplotlib.legend.Legend at 0x1d2092e8bb0>"
      ]
     },
     "execution_count": 17,
     "metadata": {},
     "output_type": "execute_result"
    },
    {
     "data": {
      "image/png": "[encoded data removed]",
      "text/plain": [
       "<Figure size 432x288 with 1 Axes>"
      ]
     },
     "metadata": {},
     "output_type": "display_data"
    }
   ],
   "source": [
    "x = np.arange(len(labels))\n",
    "width= 0.35\n",
    "\n",
    "fig, ax = plt.subplots()\n",
    "rects1 = ax.bar(x - width/2, homens, width, label='Homens')\n",
    "rects2 = ax.bar(x + width/2, mulheres, width, label='Mulheres')\n",
    "\n",
    "ax.set_ylabel('Quantidade')\n",
    "ax.set_title('Sobreviventes e mortos por sexo')\n",
    "ax.set_xticks(x)\n",
    "ax.set_xticklabels(labels)\n",
    "ax.legend()"
   ]
  },
  {
   "cell_type": "code",
   "execution_count": 18,
   "id": "47045609-ebd9-4706-9df1-fdd387853c71",
   "metadata": {},
   "outputs": [],
   "source": [
    "sex_map = {\n",
    "    'male': 0,\n",
    "    'female': 1\n",
    "}\n",
    "\n",
    "df_train['Sex'] = df_train['Sex'].map(sex_map)\n",
    "df_test['Sex'] = df_test['Sex'].map(sex_map)"
   ]
  },
  {
   "cell_type": "markdown",
   "id": "c7a4dca3-a883-4eaa-a122-3cd7e5443873",
   "metadata": {},
   "source": [
    "### Atributo: Pclass"
   ]
  },
  {
   "cell_type": "code",
   "execution_count": 19,
   "id": "75e63edd-6c29-4367-bcde-9c3957e716f2",
   "metadata": {},
   "outputs": [
    {
     "data": {
      "text/plain": [
       "3    491\n",
       "1    216\n",
       "2    184\n",
       "Name: Pclass, dtype: int64"
      ]
     },
     "execution_count": 19,
     "metadata": {},
     "output_type": "execute_result"
    }
   ],
   "source": [
    "df_train['Pclass'].value_counts()"
   ]
  },
  {
   "cell_type": "code",
   "execution_count": 20,
   "id": "abf4ac9e-de7c-4ccc-a931-6fddca6ed193",
   "metadata": {},
   "outputs": [
    {
     "data": {
      "text/plain": [
       "3    218\n",
       "1    107\n",
       "2     93\n",
       "Name: Pclass, dtype: int64"
      ]
     },
     "execution_count": 20,
     "metadata": {},
     "output_type": "execute_result"
    }
   ],
   "source": [
    "df_test['Pclass'].value_counts()"
   ]
  },
  {
   "cell_type": "code",
   "execution_count": 21,
   "id": "04ff5dd7-e476-43d3-b2fa-e57ebc3ae7fb",
   "metadata": {},
   "outputs": [
    {
     "data": {
      "text/plain": [
       "(0, 0)"
      ]
     },
     "execution_count": 21,
     "metadata": {},
     "output_type": "execute_result"
    }
   ],
   "source": [
    "df_train['Pclass'].isnull().sum(), df_test['Pclass'].isnull().sum()"
   ]
  },
  {
   "cell_type": "code",
   "execution_count": 22,
   "id": "31f2b008-b62a-457b-93d7-c6620d80c100",
   "metadata": {},
   "outputs": [
    {
     "data": {
      "image/png": "[encoded data removed]",
      "text/plain": [
       "<Figure size 432x288 with 1 Axes>"
      ]
     },
     "metadata": {},
     "output_type": "display_data"
    }
   ],
   "source": [
    "df_Pclass = df_train['Pclass'].value_counts()\n",
    "ax = sns.barplot(y=df_train['Pclass'].value_counts(), x=df_Pclass.index, data=df_train, palette=\"Blues_d\")"
   ]
  },
  {
   "cell_type": "code",
   "execution_count": 23,
   "id": "1fe7501b-3791-4872-a27b-083ab2a7ec49",
   "metadata": {},
   "outputs": [
    {
     "data": {
      "image/png": "[encoded data removed]",
      "text/plain": [
       "<Figure size 432x288 with 1 Axes>"
      ]
     },
     "metadata": {},
     "output_type": "display_data"
    }
   ],
   "source": [
    "bar_chart('Pclass')"
   ]
  },
  {
   "cell_type": "code",
   "execution_count": 24,
   "id": "7242bfc2",
   "metadata": {},
   "outputs": [
    {
     "data": {
      "text/html": [
       "<div>\n",
       "<style scoped>\n",
       "    .dataframe tbody tr th:only-of-type {\n",
       "        vertical-align: middle;\n",
       "    }\n",
       "\n",
       "    .dataframe tbody tr th {\n",
       "        vertical-align: top;\n",
       "    }\n",
       "\n",
       "    .dataframe thead th {\n",
       "        text-align: right;\n",
       "    }\n",
       "</style>\n",
       "<table border=\"1\" class=\"dataframe\">\n",
       "  <thead>\n",
       "    <tr style=\"text-align: right;\">\n",
       "      <th>Pclass</th>\n",
       "      <th>1</th>\n",
       "      <th>2</th>\n",
       "      <th>3</th>\n",
       "    </tr>\n",
       "    <tr>\n",
       "      <th>Survived</th>\n",
       "      <th></th>\n",
       "      <th></th>\n",
       "      <th></th>\n",
       "    </tr>\n",
       "  </thead>\n",
       "  <tbody>\n",
       "    <tr>\n",
       "      <th>0.242363</th>\n",
       "      <td>0</td>\n",
       "      <td>0</td>\n",
       "      <td>491</td>\n",
       "    </tr>\n",
       "    <tr>\n",
       "      <th>0.472826</th>\n",
       "      <td>0</td>\n",
       "      <td>184</td>\n",
       "      <td>0</td>\n",
       "    </tr>\n",
       "    <tr>\n",
       "      <th>0.629630</th>\n",
       "      <td>216</td>\n",
       "      <td>0</td>\n",
       "      <td>0</td>\n",
       "    </tr>\n",
       "  </tbody>\n",
       "</table>\n",
       "</div>"
      ],
      "text/plain": [
       "Pclass      1    2    3\n",
       "Survived               \n",
       "0.242363    0    0  491\n",
       "0.472826    0  184    0\n",
       "0.629630  216    0    0"
      ]
     },
     "execution_count": 24,
     "metadata": {},
     "output_type": "execute_result"
    }
   ],
   "source": [
    "pclassProb = df_train.groupby('Pclass')['Survived'].transform('sum') / df_train.groupby('Pclass')['Survived'].transform('count')\n",
    "pd.crosstab(pclassProb, df_train['Pclass'], dropna=False)"
   ]
  },
  {
   "cell_type": "markdown",
   "id": "ea2541a7-1c2e-44f4-a35b-ad07c3ba9934",
   "metadata": {},
   "source": [
    "### Atributo: Name"
   ]
  },
  {
   "cell_type": "code",
   "execution_count": 25,
   "id": "d4e9ed3c-43de-4083-ba2e-f5fc94ebe364",
   "metadata": {},
   "outputs": [
    {
     "data": {
      "text/plain": [
       "0                                Braund, Mr. Owen Harris\n",
       "1      Cumings, Mrs. John Bradley (Florence Briggs Th...\n",
       "2                                 Heikkinen, Miss. Laina\n",
       "3           Futrelle, Mrs. Jacques Heath (Lily May Peel)\n",
       "4                               Allen, Mr. William Henry\n",
       "                             ...                        \n",
       "886                                Montvila, Rev. Juozas\n",
       "887                         Graham, Miss. Margaret Edith\n",
       "888             Johnston, Miss. Catherine Helen \"Carrie\"\n",
       "889                                Behr, Mr. Karl Howell\n",
       "890                                  Dooley, Mr. Patrick\n",
       "Name: Name, Length: 891, dtype: object"
      ]
     },
     "execution_count": 25,
     "metadata": {},
     "output_type": "execute_result"
    }
   ],
   "source": [
    "df_train['Name']"
   ]
  },
  {
   "cell_type": "code",
   "execution_count": 26,
   "id": "28c574e1-9474-400c-9680-38eb3ff5c0ea",
   "metadata": {},
   "outputs": [
    {
     "data": {
      "text/plain": [
       "(0, 0)"
      ]
     },
     "execution_count": 26,
     "metadata": {},
     "output_type": "execute_result"
    }
   ],
   "source": [
    "df_train['Name'].isnull().sum(), df_test['Name'].isnull().sum()"
   ]
  },
  {
   "cell_type": "code",
   "execution_count": 27,
   "id": "2b4dd311-5f16-44bc-b1ec-24db5c9a31b1",
   "metadata": {},
   "outputs": [],
   "source": [
    "treino_teste = [df_train, df_test] #Uma lista com o Dataframe de treino e teste.\n",
    "for df in treino_teste:\n",
    "    df['Title'] = df['Name'].str.extract('([A-Za-z]+)\\.', expand=False)"
   ]
  },
  {
   "cell_type": "code",
   "execution_count": 28,
   "id": "92c5fa28-8d2a-45b9-b8dc-4584ddd235d6",
   "metadata": {},
   "outputs": [
    {
     "data": {
      "text/plain": [
       "Mr          517\n",
       "Miss        182\n",
       "Mrs         125\n",
       "Master       40\n",
       "Dr            7\n",
       "Rev           6\n",
       "Mlle          2\n",
       "Major         2\n",
       "Col           2\n",
       "Countess      1\n",
       "Capt          1\n",
       "Ms            1\n",
       "Sir           1\n",
       "Lady          1\n",
       "Mme           1\n",
       "Don           1\n",
       "Jonkheer      1\n",
       "Name: Title, dtype: int64"
      ]
     },
     "execution_count": 28,
     "metadata": {},
     "output_type": "execute_result"
    }
   ],
   "source": [
    "df_train['Title'].value_counts()"
   ]
  },
  {
   "cell_type": "code",
   "execution_count": 29,
   "id": "498be755",
   "metadata": {},
   "outputs": [
    {
     "data": {
      "text/html": [
       "<div>\n",
       "<style scoped>\n",
       "    .dataframe tbody tr th:only-of-type {\n",
       "        vertical-align: middle;\n",
       "    }\n",
       "\n",
       "    .dataframe tbody tr th {\n",
       "        vertical-align: top;\n",
       "    }\n",
       "\n",
       "    .dataframe thead th {\n",
       "        text-align: right;\n",
       "    }\n",
       "</style>\n",
       "<table border=\"1\" class=\"dataframe\">\n",
       "  <thead>\n",
       "    <tr style=\"text-align: right;\">\n",
       "      <th></th>\n",
       "      <th></th>\n",
       "      <th>Survived</th>\n",
       "    </tr>\n",
       "    <tr>\n",
       "      <th>Title</th>\n",
       "      <th>Survived</th>\n",
       "      <th></th>\n",
       "    </tr>\n",
       "  </thead>\n",
       "  <tbody>\n",
       "    <tr>\n",
       "      <th>Capt</th>\n",
       "      <th>0</th>\n",
       "      <td>1</td>\n",
       "    </tr>\n",
       "    <tr>\n",
       "      <th rowspan=\"2\" valign=\"top\">Col</th>\n",
       "      <th>0</th>\n",
       "      <td>1</td>\n",
       "    </tr>\n",
       "    <tr>\n",
       "      <th>1</th>\n",
       "      <td>1</td>\n",
       "    </tr>\n",
       "    <tr>\n",
       "      <th>Countess</th>\n",
       "      <th>1</th>\n",
       "      <td>1</td>\n",
       "    </tr>\n",
       "    <tr>\n",
       "      <th>Don</th>\n",
       "      <th>0</th>\n",
       "      <td>1</td>\n",
       "    </tr>\n",
       "    <tr>\n",
       "      <th rowspan=\"2\" valign=\"top\">Dr</th>\n",
       "      <th>0</th>\n",
       "      <td>4</td>\n",
       "    </tr>\n",
       "    <tr>\n",
       "      <th>1</th>\n",
       "      <td>3</td>\n",
       "    </tr>\n",
       "    <tr>\n",
       "      <th>Jonkheer</th>\n",
       "      <th>0</th>\n",
       "      <td>1</td>\n",
       "    </tr>\n",
       "    <tr>\n",
       "      <th>Lady</th>\n",
       "      <th>1</th>\n",
       "      <td>1</td>\n",
       "    </tr>\n",
       "    <tr>\n",
       "      <th rowspan=\"2\" valign=\"top\">Major</th>\n",
       "      <th>0</th>\n",
       "      <td>1</td>\n",
       "    </tr>\n",
       "    <tr>\n",
       "      <th>1</th>\n",
       "      <td>1</td>\n",
       "    </tr>\n",
       "    <tr>\n",
       "      <th rowspan=\"2\" valign=\"top\">Master</th>\n",
       "      <th>0</th>\n",
       "      <td>17</td>\n",
       "    </tr>\n",
       "    <tr>\n",
       "      <th>1</th>\n",
       "      <td>23</td>\n",
       "    </tr>\n",
       "    <tr>\n",
       "      <th rowspan=\"2\" valign=\"top\">Miss</th>\n",
       "      <th>0</th>\n",
       "      <td>55</td>\n",
       "    </tr>\n",
       "    <tr>\n",
       "      <th>1</th>\n",
       "      <td>127</td>\n",
       "    </tr>\n",
       "    <tr>\n",
       "      <th>Mlle</th>\n",
       "      <th>1</th>\n",
       "      <td>2</td>\n",
       "    </tr>\n",
       "    <tr>\n",
       "      <th>Mme</th>\n",
       "      <th>1</th>\n",
       "      <td>1</td>\n",
       "    </tr>\n",
       "    <tr>\n",
       "      <th rowspan=\"2\" valign=\"top\">Mr</th>\n",
       "      <th>0</th>\n",
       "      <td>436</td>\n",
       "    </tr>\n",
       "    <tr>\n",
       "      <th>1</th>\n",
       "      <td>81</td>\n",
       "    </tr>\n",
       "    <tr>\n",
       "      <th rowspan=\"2\" valign=\"top\">Mrs</th>\n",
       "      <th>0</th>\n",
       "      <td>26</td>\n",
       "    </tr>\n",
       "    <tr>\n",
       "      <th>1</th>\n",
       "      <td>99</td>\n",
       "    </tr>\n",
       "    <tr>\n",
       "      <th>Ms</th>\n",
       "      <th>1</th>\n",
       "      <td>1</td>\n",
       "    </tr>\n",
       "    <tr>\n",
       "      <th>Rev</th>\n",
       "      <th>0</th>\n",
       "      <td>6</td>\n",
       "    </tr>\n",
       "    <tr>\n",
       "      <th>Sir</th>\n",
       "      <th>1</th>\n",
       "      <td>1</td>\n",
       "    </tr>\n",
       "  </tbody>\n",
       "</table>\n",
       "</div>"
      ],
      "text/plain": [
       "                   Survived\n",
       "Title    Survived          \n",
       "Capt     0                1\n",
       "Col      0                1\n",
       "         1                1\n",
       "Countess 1                1\n",
       "Don      0                1\n",
       "Dr       0                4\n",
       "         1                3\n",
       "Jonkheer 0                1\n",
       "Lady     1                1\n",
       "Major    0                1\n",
       "         1                1\n",
       "Master   0               17\n",
       "         1               23\n",
       "Miss     0               55\n",
       "         1              127\n",
       "Mlle     1                2\n",
       "Mme      1                1\n",
       "Mr       0              436\n",
       "         1               81\n",
       "Mrs      0               26\n",
       "         1               99\n",
       "Ms       1                1\n",
       "Rev      0                6\n",
       "Sir      1                1"
      ]
     },
     "execution_count": 29,
     "metadata": {},
     "output_type": "execute_result"
    }
   ],
   "source": [
    "pd.DataFrame(df_train.groupby(['Title', 'Survived'])['Survived'].count())"
   ]
  },
  {
   "cell_type": "code",
   "execution_count": 30,
   "id": "50777924",
   "metadata": {},
   "outputs": [
    {
     "data": {
      "text/html": [
       "<div>\n",
       "<style scoped>\n",
       "    .dataframe tbody tr th:only-of-type {\n",
       "        vertical-align: middle;\n",
       "    }\n",
       "\n",
       "    .dataframe tbody tr th {\n",
       "        vertical-align: top;\n",
       "    }\n",
       "\n",
       "    .dataframe thead th {\n",
       "        text-align: right;\n",
       "    }\n",
       "</style>\n",
       "<table border=\"1\" class=\"dataframe\">\n",
       "  <thead>\n",
       "    <tr style=\"text-align: right;\">\n",
       "      <th>Title</th>\n",
       "      <th>Capt</th>\n",
       "      <th>Col</th>\n",
       "      <th>Countess</th>\n",
       "      <th>Don</th>\n",
       "      <th>Dr</th>\n",
       "      <th>Jonkheer</th>\n",
       "      <th>Lady</th>\n",
       "      <th>Major</th>\n",
       "      <th>Master</th>\n",
       "      <th>Miss</th>\n",
       "      <th>Mlle</th>\n",
       "      <th>Mme</th>\n",
       "      <th>Mr</th>\n",
       "      <th>Mrs</th>\n",
       "      <th>Ms</th>\n",
       "      <th>Rev</th>\n",
       "      <th>Sir</th>\n",
       "    </tr>\n",
       "    <tr>\n",
       "      <th>Survived</th>\n",
       "      <th></th>\n",
       "      <th></th>\n",
       "      <th></th>\n",
       "      <th></th>\n",
       "      <th></th>\n",
       "      <th></th>\n",
       "      <th></th>\n",
       "      <th></th>\n",
       "      <th></th>\n",
       "      <th></th>\n",
       "      <th></th>\n",
       "      <th></th>\n",
       "      <th></th>\n",
       "      <th></th>\n",
       "      <th></th>\n",
       "      <th></th>\n",
       "      <th></th>\n",
       "    </tr>\n",
       "  </thead>\n",
       "  <tbody>\n",
       "    <tr>\n",
       "      <th>0.000000</th>\n",
       "      <td>1</td>\n",
       "      <td>0</td>\n",
       "      <td>0</td>\n",
       "      <td>1</td>\n",
       "      <td>0</td>\n",
       "      <td>1</td>\n",
       "      <td>0</td>\n",
       "      <td>0</td>\n",
       "      <td>0</td>\n",
       "      <td>0</td>\n",
       "      <td>0</td>\n",
       "      <td>0</td>\n",
       "      <td>0</td>\n",
       "      <td>0</td>\n",
       "      <td>0</td>\n",
       "      <td>6</td>\n",
       "      <td>0</td>\n",
       "    </tr>\n",
       "    <tr>\n",
       "      <th>0.156673</th>\n",
       "      <td>0</td>\n",
       "      <td>0</td>\n",
       "      <td>0</td>\n",
       "      <td>0</td>\n",
       "      <td>0</td>\n",
       "      <td>0</td>\n",
       "      <td>0</td>\n",
       "      <td>0</td>\n",
       "      <td>0</td>\n",
       "      <td>0</td>\n",
       "      <td>0</td>\n",
       "      <td>0</td>\n",
       "      <td>517</td>\n",
       "      <td>0</td>\n",
       "      <td>0</td>\n",
       "      <td>0</td>\n",
       "      <td>0</td>\n",
       "    </tr>\n",
       "    <tr>\n",
       "      <th>0.428571</th>\n",
       "      <td>0</td>\n",
       "      <td>0</td>\n",
       "      <td>0</td>\n",
       "      <td>0</td>\n",
       "      <td>7</td>\n",
       "      <td>0</td>\n",
       "      <td>0</td>\n",
       "      <td>0</td>\n",
       "      <td>0</td>\n",
       "      <td>0</td>\n",
       "      <td>0</td>\n",
       "      <td>0</td>\n",
       "      <td>0</td>\n",
       "      <td>0</td>\n",
       "      <td>0</td>\n",
       "      <td>0</td>\n",
       "      <td>0</td>\n",
       "    </tr>\n",
       "    <tr>\n",
       "      <th>0.500000</th>\n",
       "      <td>0</td>\n",
       "      <td>2</td>\n",
       "      <td>0</td>\n",
       "      <td>0</td>\n",
       "      <td>0</td>\n",
       "      <td>0</td>\n",
       "      <td>0</td>\n",
       "      <td>2</td>\n",
       "      <td>0</td>\n",
       "      <td>0</td>\n",
       "      <td>0</td>\n",
       "      <td>0</td>\n",
       "      <td>0</td>\n",
       "      <td>0</td>\n",
       "      <td>0</td>\n",
       "      <td>0</td>\n",
       "      <td>0</td>\n",
       "    </tr>\n",
       "    <tr>\n",
       "      <th>0.575000</th>\n",
       "      <td>0</td>\n",
       "      <td>0</td>\n",
       "      <td>0</td>\n",
       "      <td>0</td>\n",
       "      <td>0</td>\n",
       "      <td>0</td>\n",
       "      <td>0</td>\n",
       "      <td>0</td>\n",
       "      <td>40</td>\n",
       "      <td>0</td>\n",
       "      <td>0</td>\n",
       "      <td>0</td>\n",
       "      <td>0</td>\n",
       "      <td>0</td>\n",
       "      <td>0</td>\n",
       "      <td>0</td>\n",
       "      <td>0</td>\n",
       "    </tr>\n",
       "    <tr>\n",
       "      <th>0.697802</th>\n",
       "      <td>0</td>\n",
       "      <td>0</td>\n",
       "      <td>0</td>\n",
       "      <td>0</td>\n",
       "      <td>0</td>\n",
       "      <td>0</td>\n",
       "      <td>0</td>\n",
       "      <td>0</td>\n",
       "      <td>0</td>\n",
       "      <td>182</td>\n",
       "      <td>0</td>\n",
       "      <td>0</td>\n",
       "      <td>0</td>\n",
       "      <td>0</td>\n",
       "      <td>0</td>\n",
       "      <td>0</td>\n",
       "      <td>0</td>\n",
       "    </tr>\n",
       "    <tr>\n",
       "      <th>0.792000</th>\n",
       "      <td>0</td>\n",
       "      <td>0</td>\n",
       "      <td>0</td>\n",
       "      <td>0</td>\n",
       "      <td>0</td>\n",
       "      <td>0</td>\n",
       "      <td>0</td>\n",
       "      <td>0</td>\n",
       "      <td>0</td>\n",
       "      <td>0</td>\n",
       "      <td>0</td>\n",
       "      <td>0</td>\n",
       "      <td>0</td>\n",
       "      <td>125</td>\n",
       "      <td>0</td>\n",
       "      <td>0</td>\n",
       "      <td>0</td>\n",
       "    </tr>\n",
       "    <tr>\n",
       "      <th>1.000000</th>\n",
       "      <td>0</td>\n",
       "      <td>0</td>\n",
       "      <td>1</td>\n",
       "      <td>0</td>\n",
       "      <td>0</td>\n",
       "      <td>0</td>\n",
       "      <td>1</td>\n",
       "      <td>0</td>\n",
       "      <td>0</td>\n",
       "      <td>0</td>\n",
       "      <td>2</td>\n",
       "      <td>1</td>\n",
       "      <td>0</td>\n",
       "      <td>0</td>\n",
       "      <td>1</td>\n",
       "      <td>0</td>\n",
       "      <td>1</td>\n",
       "    </tr>\n",
       "  </tbody>\n",
       "</table>\n",
       "</div>"
      ],
      "text/plain": [
       "Title     Capt  Col  Countess  Don  Dr  Jonkheer  Lady  Major  Master  Miss  \\\n",
       "Survived                                                                      \n",
       "0.000000     1    0         0    1   0         1     0      0       0     0   \n",
       "0.156673     0    0         0    0   0         0     0      0       0     0   \n",
       "0.428571     0    0         0    0   7         0     0      0       0     0   \n",
       "0.500000     0    2         0    0   0         0     0      2       0     0   \n",
       "0.575000     0    0         0    0   0         0     0      0      40     0   \n",
       "0.697802     0    0         0    0   0         0     0      0       0   182   \n",
       "0.792000     0    0         0    0   0         0     0      0       0     0   \n",
       "1.000000     0    0         1    0   0         0     1      0       0     0   \n",
       "\n",
       "Title     Mlle  Mme   Mr  Mrs  Ms  Rev  Sir  \n",
       "Survived                                     \n",
       "0.000000     0    0    0    0   0    6    0  \n",
       "0.156673     0    0  517    0   0    0    0  \n",
       "0.428571     0    0    0    0   0    0    0  \n",
       "0.500000     0    0    0    0   0    0    0  \n",
       "0.575000     0    0    0    0   0    0    0  \n",
       "0.697802     0    0    0    0   0    0    0  \n",
       "0.792000     0    0    0  125   0    0    0  \n",
       "1.000000     2    1    0    0   1    0    1  "
      ]
     },
     "execution_count": 30,
     "metadata": {},
     "output_type": "execute_result"
    }
   ],
   "source": [
    "titleProb = df_train.groupby('Title')['Survived'].transform('sum') / df_train.groupby('Title')['Survived'].transform('count')\n",
    "pd.crosstab(titleProb, df_train['Title'], dropna=False)"
   ]
  },
  {
   "cell_type": "code",
   "execution_count": 31,
   "id": "b9b7128d-0216-4975-bacb-e8e5b738c29a",
   "metadata": {},
   "outputs": [],
   "source": [
    "#Vamos mapear da seguinte maneira:\n",
    "# 0 = 0% de chance de sobreviver;\n",
    "# 1 = Entre 15% e 50%\n",
    "# 2 = Entre 57 e 79%\n",
    "# 3 = 100% de chance de sobreviver;\n",
    "\n",
    "title_mapping = {\n",
    "    'Capt': 0, 'Don': 0, 'Jonkheer': 0, 'Rev': 0,\n",
    "    'Mr': 1, 'Dr': 1, 'Col': 1, 'Major': 1,\n",
    "    'Master': 2, 'Miss': 2, 'Mrs': 2,\n",
    "    'Countess': 3, 'Lady': 3, 'Mlle': 3, 'Mme': 3, 'Ms': 3, 'Sir': 3\n",
    "}\n",
    "\n",
    "for df in treino_teste:\n",
    "    df['Title'] = df['Title'].map(title_mapping)"
   ]
  },
  {
   "cell_type": "code",
   "execution_count": 32,
   "id": "2398ad34-78d4-4c1a-89ae-cf250c7fb1c9",
   "metadata": {},
   "outputs": [],
   "source": [
    "#Preenchendo os valores que ficaram como nulos.\n",
    "df_train['Title'].fillna(2, inplace=True)\n",
    "df_test['Title'].fillna(2, inplace=True)"
   ]
  },
  {
   "cell_type": "markdown",
   "id": "827aab22-be3b-4aea-ab56-553f73df7a89",
   "metadata": {},
   "source": [
    "#### Atributo: Age"
   ]
  },
  {
   "cell_type": "code",
   "execution_count": 33,
   "id": "5614924c-ee64-43db-ad09-40be3ea0855e",
   "metadata": {},
   "outputs": [
    {
     "data": {
      "text/plain": [
       "(177, 86)"
      ]
     },
     "execution_count": 33,
     "metadata": {},
     "output_type": "execute_result"
    }
   ],
   "source": [
    "df_train['Age'].isnull().sum(), df_test['Age'].isnull().sum() "
   ]
  },
  {
   "cell_type": "code",
   "execution_count": 34,
   "id": "a8ead3fb-656c-402a-83f1-01e51c0fdf30",
   "metadata": {},
   "outputs": [
    {
     "data": {
      "text/plain": [
       "count    714.000000\n",
       "mean      29.699118\n",
       "std       14.526497\n",
       "min        0.420000\n",
       "25%       20.125000\n",
       "50%       28.000000\n",
       "75%       38.000000\n",
       "max       80.000000\n",
       "Name: Age, dtype: float64"
      ]
     },
     "execution_count": 34,
     "metadata": {},
     "output_type": "execute_result"
    }
   ],
   "source": [
    "df_train['Age'].describe()"
   ]
  },
  {
   "cell_type": "code",
   "execution_count": 35,
   "id": "ae05badc-e2ea-4100-bd60-b3aebbbf173b",
   "metadata": {},
   "outputs": [
    {
     "data": {
      "text/plain": [
       "<AxesSubplot:xlabel='Age', ylabel='Count'>"
      ]
     },
     "execution_count": 35,
     "metadata": {},
     "output_type": "execute_result"
    },
    {
     "data": {
      "image/png": "[encoded data removed]",
      "text/plain": [
       "<Figure size 432x288 with 1 Axes>"
      ]
     },
     "metadata": {},
     "output_type": "display_data"
    }
   ],
   "source": [
    "sns.histplot(df_train['Age'], kde = True, bins=20)"
   ]
  },
  {
   "cell_type": "code",
   "execution_count": 36,
   "id": "ad6a73d2-1ced-41d0-ab01-40d382b9847f",
   "metadata": {},
   "outputs": [],
   "source": [
    "df_train['Age'].fillna(df_train.groupby('Title')['Age'].transform('median'), inplace=True)\n",
    "df_test['Age'].fillna(df_test.groupby('Title')['Age'].transform('median'), inplace=True)"
   ]
  },
  {
   "cell_type": "code",
   "execution_count": 37,
   "id": "3bbdf0d2-69cd-4704-bafe-ab1c9d2f0998",
   "metadata": {},
   "outputs": [],
   "source": [
    "#df_test.Age.isnull().value_counts()\n",
    "df_test.loc[df_test.Age.isnull(), 'Age'] = 30"
   ]
  },
  {
   "cell_type": "code",
   "execution_count": 38,
   "id": "accb7708-618a-45d1-9d2f-091bd4f02ee4",
   "metadata": {},
   "outputs": [],
   "source": [
    "list_df = [df_train, df_test]\n",
    "for df in list_df:\n",
    "    df['CategoricalAge'] = pd.cut(df['Age'], [0, 18, 40, 100], labels=[0,1,2])"
   ]
  },
  {
   "cell_type": "code",
   "execution_count": 39,
   "id": "9a394bc1",
   "metadata": {},
   "outputs": [
    {
     "data": {
      "text/html": [
       "<div>\n",
       "<style scoped>\n",
       "    .dataframe tbody tr th:only-of-type {\n",
       "        vertical-align: middle;\n",
       "    }\n",
       "\n",
       "    .dataframe tbody tr th {\n",
       "        vertical-align: top;\n",
       "    }\n",
       "\n",
       "    .dataframe thead th {\n",
       "        text-align: right;\n",
       "    }\n",
       "</style>\n",
       "<table border=\"1\" class=\"dataframe\">\n",
       "  <thead>\n",
       "    <tr style=\"text-align: right;\">\n",
       "      <th></th>\n",
       "      <th>PassengerId</th>\n",
       "      <th>Survived</th>\n",
       "      <th>Pclass</th>\n",
       "      <th>Name</th>\n",
       "      <th>Sex</th>\n",
       "      <th>Age</th>\n",
       "      <th>SibSp</th>\n",
       "      <th>Parch</th>\n",
       "      <th>Ticket</th>\n",
       "      <th>Fare</th>\n",
       "      <th>Cabin</th>\n",
       "      <th>Embarked</th>\n",
       "      <th>Title</th>\n",
       "      <th>CategoricalAge</th>\n",
       "    </tr>\n",
       "  </thead>\n",
       "  <tbody>\n",
       "    <tr>\n",
       "      <th>0</th>\n",
       "      <td>1</td>\n",
       "      <td>0</td>\n",
       "      <td>3</td>\n",
       "      <td>Braund, Mr. Owen Harris</td>\n",
       "      <td>0</td>\n",
       "      <td>22.0</td>\n",
       "      <td>1</td>\n",
       "      <td>0</td>\n",
       "      <td>A/5 21171</td>\n",
       "      <td>7.2500</td>\n",
       "      <td>NaN</td>\n",
       "      <td>S</td>\n",
       "      <td>1</td>\n",
       "      <td>1</td>\n",
       "    </tr>\n",
       "    <tr>\n",
       "      <th>1</th>\n",
       "      <td>2</td>\n",
       "      <td>1</td>\n",
       "      <td>1</td>\n",
       "      <td>Cumings, Mrs. John Bradley (Florence Briggs Th...</td>\n",
       "      <td>1</td>\n",
       "      <td>38.0</td>\n",
       "      <td>1</td>\n",
       "      <td>0</td>\n",
       "      <td>PC 17599</td>\n",
       "      <td>71.2833</td>\n",
       "      <td>C85</td>\n",
       "      <td>C</td>\n",
       "      <td>2</td>\n",
       "      <td>1</td>\n",
       "    </tr>\n",
       "    <tr>\n",
       "      <th>2</th>\n",
       "      <td>3</td>\n",
       "      <td>1</td>\n",
       "      <td>3</td>\n",
       "      <td>Heikkinen, Miss. Laina</td>\n",
       "      <td>1</td>\n",
       "      <td>26.0</td>\n",
       "      <td>0</td>\n",
       "      <td>0</td>\n",
       "      <td>STON/O2. 3101282</td>\n",
       "      <td>7.9250</td>\n",
       "      <td>NaN</td>\n",
       "      <td>S</td>\n",
       "      <td>2</td>\n",
       "      <td>1</td>\n",
       "    </tr>\n",
       "    <tr>\n",
       "      <th>3</th>\n",
       "      <td>4</td>\n",
       "      <td>1</td>\n",
       "      <td>1</td>\n",
       "      <td>Futrelle, Mrs. Jacques Heath (Lily May Peel)</td>\n",
       "      <td>1</td>\n",
       "      <td>35.0</td>\n",
       "      <td>1</td>\n",
       "      <td>0</td>\n",
       "      <td>113803</td>\n",
       "      <td>53.1000</td>\n",
       "      <td>C123</td>\n",
       "      <td>S</td>\n",
       "      <td>2</td>\n",
       "      <td>1</td>\n",
       "    </tr>\n",
       "    <tr>\n",
       "      <th>4</th>\n",
       "      <td>5</td>\n",
       "      <td>0</td>\n",
       "      <td>3</td>\n",
       "      <td>Allen, Mr. William Henry</td>\n",
       "      <td>0</td>\n",
       "      <td>35.0</td>\n",
       "      <td>0</td>\n",
       "      <td>0</td>\n",
       "      <td>373450</td>\n",
       "      <td>8.0500</td>\n",
       "      <td>NaN</td>\n",
       "      <td>S</td>\n",
       "      <td>1</td>\n",
       "      <td>1</td>\n",
       "    </tr>\n",
       "  </tbody>\n",
       "</table>\n",
       "</div>"
      ],
      "text/plain": [
       "   PassengerId  Survived  Pclass  \\\n",
       "0            1         0       3   \n",
       "1            2         1       1   \n",
       "2            3         1       3   \n",
       "3            4         1       1   \n",
       "4            5         0       3   \n",
       "\n",
       "                                                Name  Sex   Age  SibSp  Parch  \\\n",
       "0                            Braund, Mr. Owen Harris    0  22.0      1      0   \n",
       "1  Cumings, Mrs. John Bradley (Florence Briggs Th...    1  38.0      1      0   \n",
       "2                             Heikkinen, Miss. Laina    1  26.0      0      0   \n",
       "3       Futrelle, Mrs. Jacques Heath (Lily May Peel)    1  35.0      1      0   \n",
       "4                           Allen, Mr. William Henry    0  35.0      0      0   \n",
       "\n",
       "             Ticket     Fare Cabin Embarked  Title CategoricalAge  \n",
       "0         A/5 21171   7.2500   NaN        S      1              1  \n",
       "1          PC 17599  71.2833   C85        C      2              1  \n",
       "2  STON/O2. 3101282   7.9250   NaN        S      2              1  \n",
       "3            113803  53.1000  C123        S      2              1  \n",
       "4            373450   8.0500   NaN        S      1              1  "
      ]
     },
     "execution_count": 39,
     "metadata": {},
     "output_type": "execute_result"
    }
   ],
   "source": [
    "df_train.head()"
   ]
  },
  {
   "cell_type": "markdown",
   "id": "1d6b897c-4601-4940-8bbb-6a4de7f10b88",
   "metadata": {},
   "source": [
    "### Atributo: Sibsp and Parch"
   ]
  },
  {
   "cell_type": "code",
   "execution_count": 40,
   "id": "cdf8296e-3b6d-43cb-85f6-761dfd01af70",
   "metadata": {},
   "outputs": [
    {
     "data": {
      "text/plain": [
       "(0, 0)"
      ]
     },
     "execution_count": 40,
     "metadata": {},
     "output_type": "execute_result"
    }
   ],
   "source": [
    "df_train['SibSp'].isnull().sum(), df_test['SibSp'].isnull().sum()"
   ]
  },
  {
   "cell_type": "code",
   "execution_count": 41,
   "id": "499c1fec-19f1-4c15-89d8-4af6a3188357",
   "metadata": {},
   "outputs": [
    {
     "data": {
      "text/plain": [
       "(0, 0)"
      ]
     },
     "execution_count": 41,
     "metadata": {},
     "output_type": "execute_result"
    }
   ],
   "source": [
    "df_train['Parch'].isnull().sum(), df_test['Parch'].isnull().sum()"
   ]
  },
  {
   "cell_type": "code",
   "execution_count": 42,
   "id": "cfcb9a8e-57ee-4e5b-9eeb-86d3a9ee5e8c",
   "metadata": {},
   "outputs": [
    {
     "data": {
      "image/png": "[encoded data removed]",
      "text/plain": [
       "<Figure size 432x288 with 1 Axes>"
      ]
     },
     "metadata": {},
     "output_type": "display_data"
    }
   ],
   "source": [
    "bar_chart('SibSp')"
   ]
  },
  {
   "cell_type": "code",
   "execution_count": 43,
   "id": "56ef37dc-7328-45e4-ac50-b38a7324be14",
   "metadata": {},
   "outputs": [
    {
     "data": {
      "image/png": "[encoded data removed]",
      "text/plain": [
       "<Figure size 432x288 with 1 Axes>"
      ]
     },
     "metadata": {},
     "output_type": "display_data"
    }
   ],
   "source": [
    "bar_chart('Parch')"
   ]
  },
  {
   "cell_type": "code",
   "execution_count": 44,
   "id": "0a579859-897a-4996-9a45-53f059e59529",
   "metadata": {},
   "outputs": [
    {
     "data": {
      "text/plain": [
       "0    608\n",
       "1    209\n",
       "2     28\n",
       "4     18\n",
       "3     16\n",
       "8      7\n",
       "5      5\n",
       "Name: SibSp, dtype: int64"
      ]
     },
     "execution_count": 44,
     "metadata": {},
     "output_type": "execute_result"
    }
   ],
   "source": [
    "df_train['SibSp'].value_counts()"
   ]
  },
  {
   "cell_type": "code",
   "execution_count": 45,
   "id": "6b529f9a-114b-4ca9-9da4-8cc01647e48e",
   "metadata": {},
   "outputs": [
    {
     "data": {
      "text/plain": [
       "0    678\n",
       "1    118\n",
       "2     80\n",
       "5      5\n",
       "3      5\n",
       "4      4\n",
       "6      1\n",
       "Name: Parch, dtype: int64"
      ]
     },
     "execution_count": 45,
     "metadata": {},
     "output_type": "execute_result"
    }
   ],
   "source": [
    "df_train['Parch'].value_counts()"
   ]
  },
  {
   "cell_type": "code",
   "execution_count": 46,
   "id": "3a5d3bf7-aae1-4cd0-bf79-747d4d0a6597",
   "metadata": {},
   "outputs": [],
   "source": [
    "df_train['FamilySize'] = df_train['SibSp'] + df_train['Parch'] + 1\n",
    "df_test['FamilySize'] = df_test['SibSp'] + df_test['Parch'] + 1"
   ]
  },
  {
   "cell_type": "markdown",
   "id": "eb566f56-ee7c-4614-986a-894c65f25b9b",
   "metadata": {},
   "source": [
    "### Atributo: Embarked"
   ]
  },
  {
   "cell_type": "code",
   "execution_count": 47,
   "id": "4e61b42e-88fb-4440-a7cf-70e6218cd924",
   "metadata": {},
   "outputs": [
    {
     "data": {
      "text/plain": [
       "(2, 0)"
      ]
     },
     "execution_count": 47,
     "metadata": {},
     "output_type": "execute_result"
    }
   ],
   "source": [
    "df_train['Embarked'].isnull().sum(), df_test['Embarked'].isnull().sum()"
   ]
  },
  {
   "cell_type": "code",
   "execution_count": 48,
   "id": "9182d3fd-cb63-48f3-bcf7-186d7c9cbd49",
   "metadata": {},
   "outputs": [
    {
     "data": {
      "text/plain": [
       "(S    644\n",
       " C    168\n",
       " Q     77\n",
       " Name: Embarked, dtype: int64,\n",
       " S    270\n",
       " C    102\n",
       " Q     46\n",
       " Name: Embarked, dtype: int64)"
      ]
     },
     "execution_count": 48,
     "metadata": {},
     "output_type": "execute_result"
    }
   ],
   "source": [
    "df_train['Embarked'].value_counts(), df_test['Embarked'].value_counts()"
   ]
  },
  {
   "cell_type": "code",
   "execution_count": 49,
   "id": "0a865bf4",
   "metadata": {},
   "outputs": [
    {
     "data": {
      "text/plain": [
       "'S'"
      ]
     },
     "execution_count": 49,
     "metadata": {},
     "output_type": "execute_result"
    }
   ],
   "source": [
    "df_train['Embarked'].mode().values[0]"
   ]
  },
  {
   "cell_type": "code",
   "execution_count": 50,
   "id": "fa9da8e9-7390-4ef0-a9a8-5175f410a266",
   "metadata": {},
   "outputs": [],
   "source": [
    "#Preenchendo com a moda\n",
    "df_train['Embarked'].fillna(df_train['Embarked'].mode().values[0], inplace=True)\n",
    "df_test['Embarked'].fillna(df_train['Embarked'].mode().values[0], inplace=True)"
   ]
  },
  {
   "cell_type": "code",
   "execution_count": 51,
   "id": "fb5d1576-f644-49f1-99d6-79ad8cb84ed0",
   "metadata": {},
   "outputs": [],
   "source": [
    "emb_map = {\n",
    "    'S': 0,\n",
    "    'C': 1,\n",
    "    'Q': 2\n",
    "}\n",
    "\n",
    "df_train['Embarked'] = df_train['Embarked'].map(emb_map)\n",
    "df_test['Embarked'] = df_test['Embarked'].map(emb_map)"
   ]
  },
  {
   "cell_type": "code",
   "execution_count": 52,
   "id": "e0f9e19c-acb1-4e41-b376-ff86474033df",
   "metadata": {},
   "outputs": [
    {
     "data": {
      "image/png": "[encoded data removed]",
      "text/plain": [
       "<Figure size 432x288 with 1 Axes>"
      ]
     },
     "metadata": {},
     "output_type": "display_data"
    }
   ],
   "source": [
    "bar_chart('Embarked')"
   ]
  },
  {
   "cell_type": "code",
   "execution_count": 53,
   "id": "d1572151-afc1-4d9a-a2f8-136b81482f0b",
   "metadata": {},
   "outputs": [
    {
     "data": {
      "text/html": [
       "<div>\n",
       "<style scoped>\n",
       "    .dataframe tbody tr th:only-of-type {\n",
       "        vertical-align: middle;\n",
       "    }\n",
       "\n",
       "    .dataframe tbody tr th {\n",
       "        vertical-align: top;\n",
       "    }\n",
       "\n",
       "    .dataframe thead th {\n",
       "        text-align: right;\n",
       "    }\n",
       "</style>\n",
       "<table border=\"1\" class=\"dataframe\">\n",
       "  <thead>\n",
       "    <tr style=\"text-align: right;\">\n",
       "      <th></th>\n",
       "      <th>PassengerId</th>\n",
       "      <th>Survived</th>\n",
       "      <th>Pclass</th>\n",
       "      <th>Name</th>\n",
       "      <th>Sex</th>\n",
       "      <th>Age</th>\n",
       "      <th>SibSp</th>\n",
       "      <th>Parch</th>\n",
       "      <th>Ticket</th>\n",
       "      <th>Fare</th>\n",
       "      <th>Cabin</th>\n",
       "      <th>Embarked</th>\n",
       "      <th>Title</th>\n",
       "      <th>CategoricalAge</th>\n",
       "      <th>FamilySize</th>\n",
       "    </tr>\n",
       "  </thead>\n",
       "  <tbody>\n",
       "    <tr>\n",
       "      <th>0</th>\n",
       "      <td>1</td>\n",
       "      <td>0</td>\n",
       "      <td>3</td>\n",
       "      <td>Braund, Mr. Owen Harris</td>\n",
       "      <td>0</td>\n",
       "      <td>22.0</td>\n",
       "      <td>1</td>\n",
       "      <td>0</td>\n",
       "      <td>A/5 21171</td>\n",
       "      <td>7.2500</td>\n",
       "      <td>NaN</td>\n",
       "      <td>0</td>\n",
       "      <td>1</td>\n",
       "      <td>1</td>\n",
       "      <td>2</td>\n",
       "    </tr>\n",
       "    <tr>\n",
       "      <th>1</th>\n",
       "      <td>2</td>\n",
       "      <td>1</td>\n",
       "      <td>1</td>\n",
       "      <td>Cumings, Mrs. John Bradley (Florence Briggs Th...</td>\n",
       "      <td>1</td>\n",
       "      <td>38.0</td>\n",
       "      <td>1</td>\n",
       "      <td>0</td>\n",
       "      <td>PC 17599</td>\n",
       "      <td>71.2833</td>\n",
       "      <td>C85</td>\n",
       "      <td>1</td>\n",
       "      <td>2</td>\n",
       "      <td>1</td>\n",
       "      <td>2</td>\n",
       "    </tr>\n",
       "    <tr>\n",
       "      <th>2</th>\n",
       "      <td>3</td>\n",
       "      <td>1</td>\n",
       "      <td>3</td>\n",
       "      <td>Heikkinen, Miss. Laina</td>\n",
       "      <td>1</td>\n",
       "      <td>26.0</td>\n",
       "      <td>0</td>\n",
       "      <td>0</td>\n",
       "      <td>STON/O2. 3101282</td>\n",
       "      <td>7.9250</td>\n",
       "      <td>NaN</td>\n",
       "      <td>0</td>\n",
       "      <td>2</td>\n",
       "      <td>1</td>\n",
       "      <td>1</td>\n",
       "    </tr>\n",
       "    <tr>\n",
       "      <th>3</th>\n",
       "      <td>4</td>\n",
       "      <td>1</td>\n",
       "      <td>1</td>\n",
       "      <td>Futrelle, Mrs. Jacques Heath (Lily May Peel)</td>\n",
       "      <td>1</td>\n",
       "      <td>35.0</td>\n",
       "      <td>1</td>\n",
       "      <td>0</td>\n",
       "      <td>113803</td>\n",
       "      <td>53.1000</td>\n",
       "      <td>C123</td>\n",
       "      <td>0</td>\n",
       "      <td>2</td>\n",
       "      <td>1</td>\n",
       "      <td>2</td>\n",
       "    </tr>\n",
       "    <tr>\n",
       "      <th>4</th>\n",
       "      <td>5</td>\n",
       "      <td>0</td>\n",
       "      <td>3</td>\n",
       "      <td>Allen, Mr. William Henry</td>\n",
       "      <td>0</td>\n",
       "      <td>35.0</td>\n",
       "      <td>0</td>\n",
       "      <td>0</td>\n",
       "      <td>373450</td>\n",
       "      <td>8.0500</td>\n",
       "      <td>NaN</td>\n",
       "      <td>0</td>\n",
       "      <td>1</td>\n",
       "      <td>1</td>\n",
       "      <td>1</td>\n",
       "    </tr>\n",
       "  </tbody>\n",
       "</table>\n",
       "</div>"
      ],
      "text/plain": [
       "   PassengerId  Survived  Pclass  \\\n",
       "0            1         0       3   \n",
       "1            2         1       1   \n",
       "2            3         1       3   \n",
       "3            4         1       1   \n",
       "4            5         0       3   \n",
       "\n",
       "                                                Name  Sex   Age  SibSp  Parch  \\\n",
       "0                            Braund, Mr. Owen Harris    0  22.0      1      0   \n",
       "1  Cumings, Mrs. John Bradley (Florence Briggs Th...    1  38.0      1      0   \n",
       "2                             Heikkinen, Miss. Laina    1  26.0      0      0   \n",
       "3       Futrelle, Mrs. Jacques Heath (Lily May Peel)    1  35.0      1      0   \n",
       "4                           Allen, Mr. William Henry    0  35.0      0      0   \n",
       "\n",
       "             Ticket     Fare Cabin  Embarked  Title CategoricalAge  FamilySize  \n",
       "0         A/5 21171   7.2500   NaN         0      1              1           2  \n",
       "1          PC 17599  71.2833   C85         1      2              1           2  \n",
       "2  STON/O2. 3101282   7.9250   NaN         0      2              1           1  \n",
       "3            113803  53.1000  C123         0      2              1           2  \n",
       "4            373450   8.0500   NaN         0      1              1           1  "
      ]
     },
     "execution_count": 53,
     "metadata": {},
     "output_type": "execute_result"
    }
   ],
   "source": [
    "df_train.head()"
   ]
  },
  {
   "cell_type": "markdown",
   "id": "25e29402-ef59-4b01-b6ca-95f2bf5c80bd",
   "metadata": {},
   "source": [
    "### Atributo: Fare"
   ]
  },
  {
   "cell_type": "code",
   "execution_count": 54,
   "id": "23206a67-1953-4732-8242-11f3f1163c8c",
   "metadata": {},
   "outputs": [
    {
     "data": {
      "text/plain": [
       "(0, 1)"
      ]
     },
     "execution_count": 54,
     "metadata": {},
     "output_type": "execute_result"
    }
   ],
   "source": [
    "df_train['Fare'].isnull().sum(), df_test['Fare'].isnull().sum()"
   ]
  },
  {
   "cell_type": "code",
   "execution_count": 55,
   "id": "47a8fe08-83ed-49f5-98a3-99abd96d3bb3",
   "metadata": {},
   "outputs": [],
   "source": [
    "df_train['Fare'].fillna(df_train.groupby('Pclass')['Fare'].transform('median'), inplace = True)\n",
    "df_test['Fare'].fillna(df_test.groupby('Pclass')['Fare'].transform('median'), inplace = True)"
   ]
  },
  {
   "cell_type": "markdown",
   "id": "d214cc9a-f569-4834-a784-4b10ddf5e440",
   "metadata": {},
   "source": [
    "#### Atributo: Cabin"
   ]
  },
  {
   "cell_type": "code",
   "execution_count": 56,
   "id": "d6768327-0649-41fd-8bd4-d7fbaac5d294",
   "metadata": {},
   "outputs": [],
   "source": [
    "df_train['Cabin'] = df_train['Cabin'].str[:1]\n",
    "df_test['Cabin'] = df_test['Cabin'].str[:1]"
   ]
  },
  {
   "cell_type": "code",
   "execution_count": 57,
   "id": "ec7eab71-0893-4ca0-949f-56487bb888d3",
   "metadata": {},
   "outputs": [
    {
     "data": {
      "text/plain": [
       "C    59\n",
       "B    47\n",
       "D    33\n",
       "E    32\n",
       "A    15\n",
       "F    13\n",
       "G     4\n",
       "T     1\n",
       "Name: Cabin, dtype: int64"
      ]
     },
     "execution_count": 57,
     "metadata": {},
     "output_type": "execute_result"
    }
   ],
   "source": [
    "df_train['Cabin'].value_counts()"
   ]
  },
  {
   "cell_type": "code",
   "execution_count": 58,
   "id": "bde40173-736d-409b-8799-59f04293c91e",
   "metadata": {},
   "outputs": [
    {
     "name": "stdout",
     "output_type": "stream",
     "text": [
      "(891, 15) (418, 14)\n",
      "687 327\n"
     ]
    }
   ],
   "source": [
    "print(df_train.shape, df_test.shape)\n",
    "\n",
    "print(df_train['Cabin'].isnull().sum(), df_test['Cabin'].isnull().sum())"
   ]
  },
  {
   "cell_type": "markdown",
   "id": "a6806d70",
   "metadata": {},
   "source": [
    "### Salvando dataset para começar a partir daqui"
   ]
  },
  {
   "cell_type": "code",
   "execution_count": 59,
   "id": "8480bd70",
   "metadata": {},
   "outputs": [],
   "source": [
    "df_train.to_csv('data/treinoProcessado.csv', index = False)\n",
    "df_test.to_csv('data/testeProcessado.csv', index = False)"
   ]
  },
  {
   "cell_type": "markdown",
   "id": "c1a064e7-c32f-44c3-b0bb-d12671b3f85c",
   "metadata": {},
   "source": [
    "### Pré modelagem dos dados"
   ]
  },
  {
   "cell_type": "code",
   "execution_count": 187,
   "id": "16831716",
   "metadata": {},
   "outputs": [],
   "source": [
    "df_train = pd.read_csv('data/treinoProcessado.csv')\n",
    "df_test = pd.read_csv('data/testeProcessado.csv')"
   ]
  },
  {
   "cell_type": "code",
   "execution_count": 188,
   "id": "1834478b-b20a-4c2a-a173-17d7383d0938",
   "metadata": {},
   "outputs": [
    {
     "data": {
      "text/html": [
       "<div>\n",
       "<style scoped>\n",
       "    .dataframe tbody tr th:only-of-type {\n",
       "        vertical-align: middle;\n",
       "    }\n",
       "\n",
       "    .dataframe tbody tr th {\n",
       "        vertical-align: top;\n",
       "    }\n",
       "\n",
       "    .dataframe thead th {\n",
       "        text-align: right;\n",
       "    }\n",
       "</style>\n",
       "<table border=\"1\" class=\"dataframe\">\n",
       "  <thead>\n",
       "    <tr style=\"text-align: right;\">\n",
       "      <th></th>\n",
       "      <th>PassengerId</th>\n",
       "      <th>Survived</th>\n",
       "      <th>Pclass</th>\n",
       "      <th>Name</th>\n",
       "      <th>Sex</th>\n",
       "      <th>Age</th>\n",
       "      <th>SibSp</th>\n",
       "      <th>Parch</th>\n",
       "      <th>Ticket</th>\n",
       "      <th>Fare</th>\n",
       "      <th>Cabin</th>\n",
       "      <th>Embarked</th>\n",
       "      <th>Title</th>\n",
       "      <th>CategoricalAge</th>\n",
       "      <th>FamilySize</th>\n",
       "    </tr>\n",
       "  </thead>\n",
       "  <tbody>\n",
       "    <tr>\n",
       "      <th>0</th>\n",
       "      <td>1</td>\n",
       "      <td>0</td>\n",
       "      <td>3</td>\n",
       "      <td>Braund, Mr. Owen Harris</td>\n",
       "      <td>0</td>\n",
       "      <td>22.0</td>\n",
       "      <td>1</td>\n",
       "      <td>0</td>\n",
       "      <td>A/5 21171</td>\n",
       "      <td>7.2500</td>\n",
       "      <td>NaN</td>\n",
       "      <td>0</td>\n",
       "      <td>1</td>\n",
       "      <td>1</td>\n",
       "      <td>2</td>\n",
       "    </tr>\n",
       "    <tr>\n",
       "      <th>1</th>\n",
       "      <td>2</td>\n",
       "      <td>1</td>\n",
       "      <td>1</td>\n",
       "      <td>Cumings, Mrs. John Bradley (Florence Briggs Th...</td>\n",
       "      <td>1</td>\n",
       "      <td>38.0</td>\n",
       "      <td>1</td>\n",
       "      <td>0</td>\n",
       "      <td>PC 17599</td>\n",
       "      <td>71.2833</td>\n",
       "      <td>C</td>\n",
       "      <td>1</td>\n",
       "      <td>2</td>\n",
       "      <td>1</td>\n",
       "      <td>2</td>\n",
       "    </tr>\n",
       "    <tr>\n",
       "      <th>2</th>\n",
       "      <td>3</td>\n",
       "      <td>1</td>\n",
       "      <td>3</td>\n",
       "      <td>Heikkinen, Miss. Laina</td>\n",
       "      <td>1</td>\n",
       "      <td>26.0</td>\n",
       "      <td>0</td>\n",
       "      <td>0</td>\n",
       "      <td>STON/O2. 3101282</td>\n",
       "      <td>7.9250</td>\n",
       "      <td>NaN</td>\n",
       "      <td>0</td>\n",
       "      <td>2</td>\n",
       "      <td>1</td>\n",
       "      <td>1</td>\n",
       "    </tr>\n",
       "  </tbody>\n",
       "</table>\n",
       "</div>"
      ],
      "text/plain": [
       "   PassengerId  Survived  Pclass  \\\n",
       "0            1         0       3   \n",
       "1            2         1       1   \n",
       "2            3         1       3   \n",
       "\n",
       "                                                Name  Sex   Age  SibSp  Parch  \\\n",
       "0                            Braund, Mr. Owen Harris    0  22.0      1      0   \n",
       "1  Cumings, Mrs. John Bradley (Florence Briggs Th...    1  38.0      1      0   \n",
       "2                             Heikkinen, Miss. Laina    1  26.0      0      0   \n",
       "\n",
       "             Ticket     Fare Cabin  Embarked  Title  CategoricalAge  \\\n",
       "0         A/5 21171   7.2500   NaN         0      1               1   \n",
       "1          PC 17599  71.2833     C         1      2               1   \n",
       "2  STON/O2. 3101282   7.9250   NaN         0      2               1   \n",
       "\n",
       "   FamilySize  \n",
       "0           2  \n",
       "1           2  \n",
       "2           1  "
      ]
     },
     "execution_count": 188,
     "metadata": {},
     "output_type": "execute_result"
    }
   ],
   "source": [
    "df_train.head(3)"
   ]
  },
  {
   "cell_type": "code",
   "execution_count": 189,
   "id": "6a11806d-a368-46ef-b6f1-72b715438636",
   "metadata": {},
   "outputs": [],
   "source": [
    "features_drop = ['PassengerId', 'Name', 'Ticket', 'Cabin', 'FamilySize', 'CategoricalAge']\n",
    "f_train = df_train.drop(features_drop, axis=1)\n",
    "f_test = df_test.drop(features_drop, axis=1)\n",
    "f_test['Survived'] = -1"
   ]
  },
  {
   "cell_type": "code",
   "execution_count": 190,
   "id": "44b47cc2-65eb-4980-bb9a-eae300f8ab99",
   "metadata": {},
   "outputs": [],
   "source": [
    "#f_total = f_train.join(f_test)\n",
    "f_total = pd.concat([f_train, f_test], ignore_index=True)"
   ]
  },
  {
   "cell_type": "code",
   "execution_count": 191,
   "id": "95ae7b2a-ff3b-4f7e-9e18-c0e4aab7bb5b",
   "metadata": {},
   "outputs": [
    {
     "data": {
      "text/plain": [
       "Survived    0\n",
       "Pclass      0\n",
       "Sex         0\n",
       "Age         0\n",
       "SibSp       0\n",
       "Parch       0\n",
       "Fare        0\n",
       "Embarked    0\n",
       "Title       0\n",
       "dtype: int64"
      ]
     },
     "execution_count": 191,
     "metadata": {},
     "output_type": "execute_result"
    }
   ],
   "source": [
    "f_total.isnull().sum()"
   ]
  },
  {
   "cell_type": "code",
   "execution_count": 192,
   "id": "de3c5941-b4a1-4768-8af2-94202338a951",
   "metadata": {},
   "outputs": [
    {
     "data": {
      "text/plain": [
       "(1309, 9)"
      ]
     },
     "execution_count": 192,
     "metadata": {},
     "output_type": "execute_result"
    }
   ],
   "source": [
    "f_total.shape"
   ]
  },
  {
   "cell_type": "code",
   "execution_count": 193,
   "id": "f3617624-7b72-4532-8435-97b091f24331",
   "metadata": {},
   "outputs": [],
   "source": [
    "from sklearn.preprocessing import LabelEncoder\n",
    "from sklearn.preprocessing import OneHotEncoder\n",
    "\n",
    "def encoder(df, col):\n",
    "    X = df.values\n",
    "    valores_Pclass = list(df[col].sort_values().unique())\n",
    "    colunas = []\n",
    "    for i in valores_Pclass:\n",
    "        colunas.append(col + '_' + str(i))\n",
    "    colunas = colunas + list(df.columns)\n",
    "    \n",
    "    labelencoder_Pclass = LabelEncoder()\n",
    "    X[:, 0] = labelencoder_Pclass.fit_transform(X[:, 0])\n",
    "    \n",
    "    onehotencoder = OneHotEncoder(handle_unknown='ignore')\n",
    "    enc_df = onehotencoder.fit_transform(df[[col]]).toarray()\n",
    "    enc_df = pd.DataFrame(enc_df)\n",
    "    \n",
    "    df = enc_df.join(df)\n",
    "    df.columns = colunas\n",
    "    df.drop(col, axis=1, inplace=True)\n",
    "    \n",
    "    return df"
   ]
  },
  {
   "cell_type": "markdown",
   "id": "20ce7e23-e1c2-46a1-b87d-31b2d9cbeba9",
   "metadata": {},
   "source": [
    "**Pclass**"
   ]
  },
  {
   "cell_type": "code",
   "execution_count": 194,
   "id": "a88e0fca-7a07-4311-a669-fa1e01f5f75b",
   "metadata": {},
   "outputs": [],
   "source": [
    "f_total = encoder(f_total, 'Pclass')"
   ]
  },
  {
   "cell_type": "markdown",
   "id": "1d8632da-5dd6-48b6-be54-b94cc32b467e",
   "metadata": {},
   "source": [
    "**Embarked**"
   ]
  },
  {
   "cell_type": "code",
   "execution_count": 195,
   "id": "57a2a347-1444-4a41-86bc-ce405a659333",
   "metadata": {},
   "outputs": [],
   "source": [
    "f_total = encoder(f_total, 'Embarked')"
   ]
  },
  {
   "cell_type": "markdown",
   "id": "cb0b4ca0-4ac0-4c3c-985e-740287d63de4",
   "metadata": {},
   "source": [
    "**Title**"
   ]
  },
  {
   "cell_type": "code",
   "execution_count": 196,
   "id": "b793b837-4142-440d-95a0-018ef1621257",
   "metadata": {},
   "outputs": [],
   "source": [
    "f_total = encoder(f_total, 'Title')"
   ]
  },
  {
   "cell_type": "markdown",
   "id": "663b28f2-cab1-4cd3-8f74-accf00cc7c1e",
   "metadata": {},
   "source": [
    "**CategoricalAge**"
   ]
  },
  {
   "cell_type": "code",
   "execution_count": null,
   "id": "aa6956ef-b0b7-495c-98ac-e200db68aa4a",
   "metadata": {
    "tags": []
   },
   "outputs": [],
   "source": [
    "f_total = encoder(f_total, 'CategoricalAge')"
   ]
  },
  {
   "cell_type": "code",
   "execution_count": 96,
   "id": "863c2d19",
   "metadata": {},
   "outputs": [
    {
     "data": {
      "text/html": [
       "<div>\n",
       "<style scoped>\n",
       "    .dataframe tbody tr th:only-of-type {\n",
       "        vertical-align: middle;\n",
       "    }\n",
       "\n",
       "    .dataframe tbody tr th {\n",
       "        vertical-align: top;\n",
       "    }\n",
       "\n",
       "    .dataframe thead th {\n",
       "        text-align: right;\n",
       "    }\n",
       "</style>\n",
       "<table border=\"1\" class=\"dataframe\">\n",
       "  <thead>\n",
       "    <tr style=\"text-align: right;\">\n",
       "      <th></th>\n",
       "      <th>Sex_0</th>\n",
       "      <th>Sex_1</th>\n",
       "      <th>Title_0.0</th>\n",
       "      <th>Title_1.0</th>\n",
       "      <th>Title_2.0</th>\n",
       "      <th>Title_3.0</th>\n",
       "      <th>Embarked_0</th>\n",
       "      <th>Embarked_1</th>\n",
       "      <th>Embarked_2</th>\n",
       "      <th>Pclass_1</th>\n",
       "      <th>Pclass_2</th>\n",
       "      <th>Pclass_3</th>\n",
       "      <th>Survived</th>\n",
       "      <th>Age</th>\n",
       "      <th>SibSp</th>\n",
       "      <th>Parch</th>\n",
       "      <th>Fare</th>\n",
       "    </tr>\n",
       "  </thead>\n",
       "  <tbody>\n",
       "    <tr>\n",
       "      <th>0</th>\n",
       "      <td>1.0</td>\n",
       "      <td>0.0</td>\n",
       "      <td>0.0</td>\n",
       "      <td>1.0</td>\n",
       "      <td>0.0</td>\n",
       "      <td>0.0</td>\n",
       "      <td>1.0</td>\n",
       "      <td>0.0</td>\n",
       "      <td>0.0</td>\n",
       "      <td>0.0</td>\n",
       "      <td>0.0</td>\n",
       "      <td>1.0</td>\n",
       "      <td>0</td>\n",
       "      <td>0.273456</td>\n",
       "      <td>0.125</td>\n",
       "      <td>0.000000</td>\n",
       "      <td>0.014151</td>\n",
       "    </tr>\n",
       "    <tr>\n",
       "      <th>1</th>\n",
       "      <td>0.0</td>\n",
       "      <td>1.0</td>\n",
       "      <td>0.0</td>\n",
       "      <td>0.0</td>\n",
       "      <td>1.0</td>\n",
       "      <td>0.0</td>\n",
       "      <td>0.0</td>\n",
       "      <td>1.0</td>\n",
       "      <td>0.0</td>\n",
       "      <td>1.0</td>\n",
       "      <td>0.0</td>\n",
       "      <td>0.0</td>\n",
       "      <td>1</td>\n",
       "      <td>0.473882</td>\n",
       "      <td>0.125</td>\n",
       "      <td>0.000000</td>\n",
       "      <td>0.139136</td>\n",
       "    </tr>\n",
       "    <tr>\n",
       "      <th>2</th>\n",
       "      <td>0.0</td>\n",
       "      <td>1.0</td>\n",
       "      <td>0.0</td>\n",
       "      <td>0.0</td>\n",
       "      <td>1.0</td>\n",
       "      <td>0.0</td>\n",
       "      <td>1.0</td>\n",
       "      <td>0.0</td>\n",
       "      <td>0.0</td>\n",
       "      <td>0.0</td>\n",
       "      <td>0.0</td>\n",
       "      <td>1.0</td>\n",
       "      <td>1</td>\n",
       "      <td>0.323563</td>\n",
       "      <td>0.000</td>\n",
       "      <td>0.000000</td>\n",
       "      <td>0.015469</td>\n",
       "    </tr>\n",
       "    <tr>\n",
       "      <th>3</th>\n",
       "      <td>0.0</td>\n",
       "      <td>1.0</td>\n",
       "      <td>0.0</td>\n",
       "      <td>0.0</td>\n",
       "      <td>1.0</td>\n",
       "      <td>0.0</td>\n",
       "      <td>1.0</td>\n",
       "      <td>0.0</td>\n",
       "      <td>0.0</td>\n",
       "      <td>1.0</td>\n",
       "      <td>0.0</td>\n",
       "      <td>0.0</td>\n",
       "      <td>1</td>\n",
       "      <td>0.436302</td>\n",
       "      <td>0.125</td>\n",
       "      <td>0.000000</td>\n",
       "      <td>0.103644</td>\n",
       "    </tr>\n",
       "    <tr>\n",
       "      <th>4</th>\n",
       "      <td>1.0</td>\n",
       "      <td>0.0</td>\n",
       "      <td>0.0</td>\n",
       "      <td>1.0</td>\n",
       "      <td>0.0</td>\n",
       "      <td>0.0</td>\n",
       "      <td>1.0</td>\n",
       "      <td>0.0</td>\n",
       "      <td>0.0</td>\n",
       "      <td>0.0</td>\n",
       "      <td>0.0</td>\n",
       "      <td>1.0</td>\n",
       "      <td>0</td>\n",
       "      <td>0.436302</td>\n",
       "      <td>0.000</td>\n",
       "      <td>0.000000</td>\n",
       "      <td>0.015713</td>\n",
       "    </tr>\n",
       "    <tr>\n",
       "      <th>...</th>\n",
       "      <td>...</td>\n",
       "      <td>...</td>\n",
       "      <td>...</td>\n",
       "      <td>...</td>\n",
       "      <td>...</td>\n",
       "      <td>...</td>\n",
       "      <td>...</td>\n",
       "      <td>...</td>\n",
       "      <td>...</td>\n",
       "      <td>...</td>\n",
       "      <td>...</td>\n",
       "      <td>...</td>\n",
       "      <td>...</td>\n",
       "      <td>...</td>\n",
       "      <td>...</td>\n",
       "      <td>...</td>\n",
       "      <td>...</td>\n",
       "    </tr>\n",
       "    <tr>\n",
       "      <th>1304</th>\n",
       "      <td>1.0</td>\n",
       "      <td>0.0</td>\n",
       "      <td>0.0</td>\n",
       "      <td>1.0</td>\n",
       "      <td>0.0</td>\n",
       "      <td>0.0</td>\n",
       "      <td>1.0</td>\n",
       "      <td>0.0</td>\n",
       "      <td>0.0</td>\n",
       "      <td>0.0</td>\n",
       "      <td>0.0</td>\n",
       "      <td>1.0</td>\n",
       "      <td>-1</td>\n",
       "      <td>0.361142</td>\n",
       "      <td>0.000</td>\n",
       "      <td>0.000000</td>\n",
       "      <td>0.015713</td>\n",
       "    </tr>\n",
       "    <tr>\n",
       "      <th>1305</th>\n",
       "      <td>0.0</td>\n",
       "      <td>1.0</td>\n",
       "      <td>0.0</td>\n",
       "      <td>0.0</td>\n",
       "      <td>1.0</td>\n",
       "      <td>0.0</td>\n",
       "      <td>0.0</td>\n",
       "      <td>1.0</td>\n",
       "      <td>0.0</td>\n",
       "      <td>1.0</td>\n",
       "      <td>0.0</td>\n",
       "      <td>0.0</td>\n",
       "      <td>-1</td>\n",
       "      <td>0.486409</td>\n",
       "      <td>0.000</td>\n",
       "      <td>0.000000</td>\n",
       "      <td>0.212559</td>\n",
       "    </tr>\n",
       "    <tr>\n",
       "      <th>1306</th>\n",
       "      <td>1.0</td>\n",
       "      <td>0.0</td>\n",
       "      <td>0.0</td>\n",
       "      <td>1.0</td>\n",
       "      <td>0.0</td>\n",
       "      <td>0.0</td>\n",
       "      <td>1.0</td>\n",
       "      <td>0.0</td>\n",
       "      <td>0.0</td>\n",
       "      <td>0.0</td>\n",
       "      <td>0.0</td>\n",
       "      <td>1.0</td>\n",
       "      <td>-1</td>\n",
       "      <td>0.480145</td>\n",
       "      <td>0.000</td>\n",
       "      <td>0.000000</td>\n",
       "      <td>0.014151</td>\n",
       "    </tr>\n",
       "    <tr>\n",
       "      <th>1307</th>\n",
       "      <td>1.0</td>\n",
       "      <td>0.0</td>\n",
       "      <td>0.0</td>\n",
       "      <td>1.0</td>\n",
       "      <td>0.0</td>\n",
       "      <td>0.0</td>\n",
       "      <td>1.0</td>\n",
       "      <td>0.0</td>\n",
       "      <td>0.0</td>\n",
       "      <td>0.0</td>\n",
       "      <td>0.0</td>\n",
       "      <td>1.0</td>\n",
       "      <td>-1</td>\n",
       "      <td>0.361142</td>\n",
       "      <td>0.000</td>\n",
       "      <td>0.000000</td>\n",
       "      <td>0.015713</td>\n",
       "    </tr>\n",
       "    <tr>\n",
       "      <th>1308</th>\n",
       "      <td>1.0</td>\n",
       "      <td>0.0</td>\n",
       "      <td>0.0</td>\n",
       "      <td>0.0</td>\n",
       "      <td>1.0</td>\n",
       "      <td>0.0</td>\n",
       "      <td>0.0</td>\n",
       "      <td>1.0</td>\n",
       "      <td>0.0</td>\n",
       "      <td>0.0</td>\n",
       "      <td>0.0</td>\n",
       "      <td>1.0</td>\n",
       "      <td>-1</td>\n",
       "      <td>0.304773</td>\n",
       "      <td>0.125</td>\n",
       "      <td>0.111111</td>\n",
       "      <td>0.043640</td>\n",
       "    </tr>\n",
       "  </tbody>\n",
       "</table>\n",
       "<p>1309 rows × 17 columns</p>\n",
       "</div>"
      ],
      "text/plain": [
       "      Sex_0  Sex_1  Title_0.0  Title_1.0  Title_2.0  Title_3.0  Embarked_0  \\\n",
       "0       1.0    0.0        0.0        1.0        0.0        0.0         1.0   \n",
       "1       0.0    1.0        0.0        0.0        1.0        0.0         0.0   \n",
       "2       0.0    1.0        0.0        0.0        1.0        0.0         1.0   \n",
       "3       0.0    1.0        0.0        0.0        1.0        0.0         1.0   \n",
       "4       1.0    0.0        0.0        1.0        0.0        0.0         1.0   \n",
       "...     ...    ...        ...        ...        ...        ...         ...   \n",
       "1304    1.0    0.0        0.0        1.0        0.0        0.0         1.0   \n",
       "1305    0.0    1.0        0.0        0.0        1.0        0.0         0.0   \n",
       "1306    1.0    0.0        0.0        1.0        0.0        0.0         1.0   \n",
       "1307    1.0    0.0        0.0        1.0        0.0        0.0         1.0   \n",
       "1308    1.0    0.0        0.0        0.0        1.0        0.0         0.0   \n",
       "\n",
       "      Embarked_1  Embarked_2  Pclass_1  Pclass_2  Pclass_3  Survived  \\\n",
       "0            0.0         0.0       0.0       0.0       1.0         0   \n",
       "1            1.0         0.0       1.0       0.0       0.0         1   \n",
       "2            0.0         0.0       0.0       0.0       1.0         1   \n",
       "3            0.0         0.0       1.0       0.0       0.0         1   \n",
       "4            0.0         0.0       0.0       0.0       1.0         0   \n",
       "...          ...         ...       ...       ...       ...       ...   \n",
       "1304         0.0         0.0       0.0       0.0       1.0        -1   \n",
       "1305         1.0         0.0       1.0       0.0       0.0        -1   \n",
       "1306         0.0         0.0       0.0       0.0       1.0        -1   \n",
       "1307         0.0         0.0       0.0       0.0       1.0        -1   \n",
       "1308         1.0         0.0       0.0       0.0       1.0        -1   \n",
       "\n",
       "           Age  SibSp     Parch      Fare  \n",
       "0     0.273456  0.125  0.000000  0.014151  \n",
       "1     0.473882  0.125  0.000000  0.139136  \n",
       "2     0.323563  0.000  0.000000  0.015469  \n",
       "3     0.436302  0.125  0.000000  0.103644  \n",
       "4     0.436302  0.000  0.000000  0.015713  \n",
       "...        ...    ...       ...       ...  \n",
       "1304  0.361142  0.000  0.000000  0.015713  \n",
       "1305  0.486409  0.000  0.000000  0.212559  \n",
       "1306  0.480145  0.000  0.000000  0.014151  \n",
       "1307  0.361142  0.000  0.000000  0.015713  \n",
       "1308  0.304773  0.125  0.111111  0.043640  \n",
       "\n",
       "[1309 rows x 17 columns]"
      ]
     },
     "execution_count": 96,
     "metadata": {},
     "output_type": "execute_result"
    }
   ],
   "source": [
    "f_total"
   ]
  },
  {
   "cell_type": "markdown",
   "id": "c555310b-d7aa-4252-af37-84f92bc56218",
   "metadata": {},
   "source": [
    "### Padronização dos dados"
   ]
  },
  {
   "cell_type": "code",
   "execution_count": 73,
   "id": "595327c4",
   "metadata": {},
   "outputs": [
    {
     "data": {
      "text/html": [
       "<div>\n",
       "<style scoped>\n",
       "    .dataframe tbody tr th:only-of-type {\n",
       "        vertical-align: middle;\n",
       "    }\n",
       "\n",
       "    .dataframe tbody tr th {\n",
       "        vertical-align: top;\n",
       "    }\n",
       "\n",
       "    .dataframe thead th {\n",
       "        text-align: right;\n",
       "    }\n",
       "</style>\n",
       "<table border=\"1\" class=\"dataframe\">\n",
       "  <thead>\n",
       "    <tr style=\"text-align: right;\">\n",
       "      <th></th>\n",
       "      <th>Sex_0</th>\n",
       "      <th>Sex_1</th>\n",
       "      <th>Title_0.0</th>\n",
       "      <th>Title_1.0</th>\n",
       "      <th>Title_2.0</th>\n",
       "      <th>Title_3.0</th>\n",
       "      <th>Embarked_0</th>\n",
       "      <th>Embarked_1</th>\n",
       "      <th>Embarked_2</th>\n",
       "      <th>Pclass_1</th>\n",
       "      <th>Pclass_2</th>\n",
       "      <th>Pclass_3</th>\n",
       "      <th>Survived</th>\n",
       "      <th>Age</th>\n",
       "      <th>SibSp</th>\n",
       "      <th>Parch</th>\n",
       "      <th>Fare</th>\n",
       "    </tr>\n",
       "  </thead>\n",
       "  <tbody>\n",
       "    <tr>\n",
       "      <th>0</th>\n",
       "      <td>1.0</td>\n",
       "      <td>0.0</td>\n",
       "      <td>0.0</td>\n",
       "      <td>1.0</td>\n",
       "      <td>0.0</td>\n",
       "      <td>0.0</td>\n",
       "      <td>1.0</td>\n",
       "      <td>0.0</td>\n",
       "      <td>0.0</td>\n",
       "      <td>0.0</td>\n",
       "      <td>0.0</td>\n",
       "      <td>1.0</td>\n",
       "      <td>0</td>\n",
       "      <td>22.0</td>\n",
       "      <td>1</td>\n",
       "      <td>0</td>\n",
       "      <td>7.2500</td>\n",
       "    </tr>\n",
       "    <tr>\n",
       "      <th>1</th>\n",
       "      <td>0.0</td>\n",
       "      <td>1.0</td>\n",
       "      <td>0.0</td>\n",
       "      <td>0.0</td>\n",
       "      <td>1.0</td>\n",
       "      <td>0.0</td>\n",
       "      <td>0.0</td>\n",
       "      <td>1.0</td>\n",
       "      <td>0.0</td>\n",
       "      <td>1.0</td>\n",
       "      <td>0.0</td>\n",
       "      <td>0.0</td>\n",
       "      <td>1</td>\n",
       "      <td>38.0</td>\n",
       "      <td>1</td>\n",
       "      <td>0</td>\n",
       "      <td>71.2833</td>\n",
       "    </tr>\n",
       "    <tr>\n",
       "      <th>2</th>\n",
       "      <td>0.0</td>\n",
       "      <td>1.0</td>\n",
       "      <td>0.0</td>\n",
       "      <td>0.0</td>\n",
       "      <td>1.0</td>\n",
       "      <td>0.0</td>\n",
       "      <td>1.0</td>\n",
       "      <td>0.0</td>\n",
       "      <td>0.0</td>\n",
       "      <td>0.0</td>\n",
       "      <td>0.0</td>\n",
       "      <td>1.0</td>\n",
       "      <td>1</td>\n",
       "      <td>26.0</td>\n",
       "      <td>0</td>\n",
       "      <td>0</td>\n",
       "      <td>7.9250</td>\n",
       "    </tr>\n",
       "  </tbody>\n",
       "</table>\n",
       "</div>"
      ],
      "text/plain": [
       "   Sex_0  Sex_1  Title_0.0  Title_1.0  Title_2.0  Title_3.0  Embarked_0  \\\n",
       "0    1.0    0.0        0.0        1.0        0.0        0.0         1.0   \n",
       "1    0.0    1.0        0.0        0.0        1.0        0.0         0.0   \n",
       "2    0.0    1.0        0.0        0.0        1.0        0.0         1.0   \n",
       "\n",
       "   Embarked_1  Embarked_2  Pclass_1  Pclass_2  Pclass_3  Survived   Age  \\\n",
       "0         0.0         0.0       0.0       0.0       1.0         0  22.0   \n",
       "1         1.0         0.0       1.0       0.0       0.0         1  38.0   \n",
       "2         0.0         0.0       0.0       0.0       1.0         1  26.0   \n",
       "\n",
       "   SibSp  Parch     Fare  \n",
       "0      1      0   7.2500  \n",
       "1      1      0  71.2833  \n",
       "2      0      0   7.9250  "
      ]
     },
     "execution_count": 73,
     "metadata": {},
     "output_type": "execute_result"
    }
   ],
   "source": [
    "f_total.head(3)"
   ]
  },
  {
   "cell_type": "code",
   "execution_count": 197,
   "id": "c781ae3c-f187-41db-8456-5282df3ca4b7",
   "metadata": {},
   "outputs": [],
   "source": [
    "from sklearn.preprocessing import QuantileTransformer\n",
    "from sklearn.preprocessing import MinMaxScaler\n",
    "from sklearn.preprocessing import Normalizer\n",
    "from sklearn.preprocessing import StandardScaler"
   ]
  },
  {
   "cell_type": "code",
   "execution_count": 198,
   "id": "780ef65c",
   "metadata": {},
   "outputs": [],
   "source": [
    "X_quantile = f_total.copy()\n",
    "X_quantile[['Fare', 'Age', 'SibSp', 'Parch']] = QuantileTransformer().fit_transform(f_total[['Fare', 'Age', 'SibSp', 'Parch']])"
   ]
  },
  {
   "cell_type": "code",
   "execution_count": 199,
   "id": "5d48e66b-247d-4064-920d-4cb9d14c7f38",
   "metadata": {},
   "outputs": [],
   "source": [
    "X_MinMaxScaler = f_total.copy()\n",
    "X_MinMaxScaler[['Fare', 'Age', 'SibSp', 'Parch']] = MinMaxScaler().fit_transform(f_total[['Fare', 'Age', 'SibSp', 'Parch']])"
   ]
  },
  {
   "cell_type": "code",
   "execution_count": 200,
   "id": "ba1283fa-9530-4607-b5d4-4c19017ed709",
   "metadata": {},
   "outputs": [
    {
     "data": {
      "text/html": [
       "<div>\n",
       "<style scoped>\n",
       "    .dataframe tbody tr th:only-of-type {\n",
       "        vertical-align: middle;\n",
       "    }\n",
       "\n",
       "    .dataframe tbody tr th {\n",
       "        vertical-align: top;\n",
       "    }\n",
       "\n",
       "    .dataframe thead th {\n",
       "        text-align: right;\n",
       "    }\n",
       "</style>\n",
       "<table border=\"1\" class=\"dataframe\">\n",
       "  <thead>\n",
       "    <tr style=\"text-align: right;\">\n",
       "      <th></th>\n",
       "      <th>Title_0.0</th>\n",
       "      <th>Title_1.0</th>\n",
       "      <th>Title_2.0</th>\n",
       "      <th>Title_3.0</th>\n",
       "      <th>Embarked_0</th>\n",
       "      <th>Embarked_1</th>\n",
       "      <th>Embarked_2</th>\n",
       "      <th>Pclass_1</th>\n",
       "      <th>Pclass_2</th>\n",
       "      <th>Pclass_3</th>\n",
       "      <th>Survived</th>\n",
       "      <th>Sex</th>\n",
       "      <th>Age</th>\n",
       "      <th>SibSp</th>\n",
       "      <th>Parch</th>\n",
       "      <th>Fare</th>\n",
       "    </tr>\n",
       "  </thead>\n",
       "  <tbody>\n",
       "    <tr>\n",
       "      <th>0</th>\n",
       "      <td>0.0</td>\n",
       "      <td>1.0</td>\n",
       "      <td>0.0</td>\n",
       "      <td>0.0</td>\n",
       "      <td>1.0</td>\n",
       "      <td>0.0</td>\n",
       "      <td>0.0</td>\n",
       "      <td>0.0</td>\n",
       "      <td>0.0</td>\n",
       "      <td>1.0</td>\n",
       "      <td>0</td>\n",
       "      <td>0</td>\n",
       "      <td>0.273456</td>\n",
       "      <td>0.125</td>\n",
       "      <td>0.0</td>\n",
       "      <td>0.014151</td>\n",
       "    </tr>\n",
       "    <tr>\n",
       "      <th>1</th>\n",
       "      <td>0.0</td>\n",
       "      <td>0.0</td>\n",
       "      <td>1.0</td>\n",
       "      <td>0.0</td>\n",
       "      <td>0.0</td>\n",
       "      <td>1.0</td>\n",
       "      <td>0.0</td>\n",
       "      <td>1.0</td>\n",
       "      <td>0.0</td>\n",
       "      <td>0.0</td>\n",
       "      <td>1</td>\n",
       "      <td>1</td>\n",
       "      <td>0.473882</td>\n",
       "      <td>0.125</td>\n",
       "      <td>0.0</td>\n",
       "      <td>0.139136</td>\n",
       "    </tr>\n",
       "    <tr>\n",
       "      <th>2</th>\n",
       "      <td>0.0</td>\n",
       "      <td>0.0</td>\n",
       "      <td>1.0</td>\n",
       "      <td>0.0</td>\n",
       "      <td>1.0</td>\n",
       "      <td>0.0</td>\n",
       "      <td>0.0</td>\n",
       "      <td>0.0</td>\n",
       "      <td>0.0</td>\n",
       "      <td>1.0</td>\n",
       "      <td>1</td>\n",
       "      <td>1</td>\n",
       "      <td>0.323563</td>\n",
       "      <td>0.000</td>\n",
       "      <td>0.0</td>\n",
       "      <td>0.015469</td>\n",
       "    </tr>\n",
       "    <tr>\n",
       "      <th>3</th>\n",
       "      <td>0.0</td>\n",
       "      <td>0.0</td>\n",
       "      <td>1.0</td>\n",
       "      <td>0.0</td>\n",
       "      <td>1.0</td>\n",
       "      <td>0.0</td>\n",
       "      <td>0.0</td>\n",
       "      <td>1.0</td>\n",
       "      <td>0.0</td>\n",
       "      <td>0.0</td>\n",
       "      <td>1</td>\n",
       "      <td>1</td>\n",
       "      <td>0.436302</td>\n",
       "      <td>0.125</td>\n",
       "      <td>0.0</td>\n",
       "      <td>0.103644</td>\n",
       "    </tr>\n",
       "    <tr>\n",
       "      <th>4</th>\n",
       "      <td>0.0</td>\n",
       "      <td>1.0</td>\n",
       "      <td>0.0</td>\n",
       "      <td>0.0</td>\n",
       "      <td>1.0</td>\n",
       "      <td>0.0</td>\n",
       "      <td>0.0</td>\n",
       "      <td>0.0</td>\n",
       "      <td>0.0</td>\n",
       "      <td>1.0</td>\n",
       "      <td>0</td>\n",
       "      <td>0</td>\n",
       "      <td>0.436302</td>\n",
       "      <td>0.000</td>\n",
       "      <td>0.0</td>\n",
       "      <td>0.015713</td>\n",
       "    </tr>\n",
       "  </tbody>\n",
       "</table>\n",
       "</div>"
      ],
      "text/plain": [
       "   Title_0.0  Title_1.0  Title_2.0  Title_3.0  Embarked_0  Embarked_1  \\\n",
       "0        0.0        1.0        0.0        0.0         1.0         0.0   \n",
       "1        0.0        0.0        1.0        0.0         0.0         1.0   \n",
       "2        0.0        0.0        1.0        0.0         1.0         0.0   \n",
       "3        0.0        0.0        1.0        0.0         1.0         0.0   \n",
       "4        0.0        1.0        0.0        0.0         1.0         0.0   \n",
       "\n",
       "   Embarked_2  Pclass_1  Pclass_2  Pclass_3  Survived  Sex       Age  SibSp  \\\n",
       "0         0.0       0.0       0.0       1.0         0    0  0.273456  0.125   \n",
       "1         0.0       1.0       0.0       0.0         1    1  0.473882  0.125   \n",
       "2         0.0       0.0       0.0       1.0         1    1  0.323563  0.000   \n",
       "3         0.0       1.0       0.0       0.0         1    1  0.436302  0.125   \n",
       "4         0.0       0.0       0.0       1.0         0    0  0.436302  0.000   \n",
       "\n",
       "   Parch      Fare  \n",
       "0    0.0  0.014151  \n",
       "1    0.0  0.139136  \n",
       "2    0.0  0.015469  \n",
       "3    0.0  0.103644  \n",
       "4    0.0  0.015713  "
      ]
     },
     "execution_count": 200,
     "metadata": {},
     "output_type": "execute_result"
    }
   ],
   "source": [
    "X_MinMaxScaler.head()"
   ]
  },
  {
   "cell_type": "code",
   "execution_count": 201,
   "id": "41e6787a-1c22-4cf4-a1e0-0b308141fd97",
   "metadata": {},
   "outputs": [],
   "source": [
    "f_total = X_MinMaxScaler"
   ]
  },
  {
   "cell_type": "markdown",
   "id": "23d7f366-ac64-4a60-b531-681569f79383",
   "metadata": {},
   "source": [
    "### Separando os dados padronizados de volta"
   ]
  },
  {
   "cell_type": "code",
   "execution_count": 233,
   "id": "0ec1e555-0876-4716-a7e3-73de1f13c1e7",
   "metadata": {},
   "outputs": [],
   "source": [
    "f_train = f_total[0:f_train.shape[0]].copy()\n",
    "f_test = f_total[f_train.shape[0]:].copy()\n",
    "f_test.drop(['Survived'], axis=1, inplace=True)"
   ]
  },
  {
   "cell_type": "code",
   "execution_count": 234,
   "id": "3d1f80ba-a0a2-43e2-807b-27075cac7a7d",
   "metadata": {},
   "outputs": [
    {
     "data": {
      "text/html": [
       "<div>\n",
       "<style scoped>\n",
       "    .dataframe tbody tr th:only-of-type {\n",
       "        vertical-align: middle;\n",
       "    }\n",
       "\n",
       "    .dataframe tbody tr th {\n",
       "        vertical-align: top;\n",
       "    }\n",
       "\n",
       "    .dataframe thead th {\n",
       "        text-align: right;\n",
       "    }\n",
       "</style>\n",
       "<table border=\"1\" class=\"dataframe\">\n",
       "  <thead>\n",
       "    <tr style=\"text-align: right;\">\n",
       "      <th></th>\n",
       "      <th>Title_0.0</th>\n",
       "      <th>Title_1.0</th>\n",
       "      <th>Title_2.0</th>\n",
       "      <th>Title_3.0</th>\n",
       "      <th>Embarked_0</th>\n",
       "      <th>Embarked_1</th>\n",
       "      <th>Embarked_2</th>\n",
       "      <th>Pclass_1</th>\n",
       "      <th>Pclass_2</th>\n",
       "      <th>Pclass_3</th>\n",
       "      <th>Survived</th>\n",
       "      <th>Sex</th>\n",
       "      <th>Age</th>\n",
       "      <th>SibSp</th>\n",
       "      <th>Parch</th>\n",
       "      <th>Fare</th>\n",
       "    </tr>\n",
       "  </thead>\n",
       "  <tbody>\n",
       "    <tr>\n",
       "      <th>0</th>\n",
       "      <td>0.0</td>\n",
       "      <td>1.0</td>\n",
       "      <td>0.0</td>\n",
       "      <td>0.0</td>\n",
       "      <td>1.0</td>\n",
       "      <td>0.0</td>\n",
       "      <td>0.0</td>\n",
       "      <td>0.0</td>\n",
       "      <td>0.0</td>\n",
       "      <td>1.0</td>\n",
       "      <td>0</td>\n",
       "      <td>0</td>\n",
       "      <td>0.273456</td>\n",
       "      <td>0.125</td>\n",
       "      <td>0.0</td>\n",
       "      <td>0.014151</td>\n",
       "    </tr>\n",
       "    <tr>\n",
       "      <th>1</th>\n",
       "      <td>0.0</td>\n",
       "      <td>0.0</td>\n",
       "      <td>1.0</td>\n",
       "      <td>0.0</td>\n",
       "      <td>0.0</td>\n",
       "      <td>1.0</td>\n",
       "      <td>0.0</td>\n",
       "      <td>1.0</td>\n",
       "      <td>0.0</td>\n",
       "      <td>0.0</td>\n",
       "      <td>1</td>\n",
       "      <td>1</td>\n",
       "      <td>0.473882</td>\n",
       "      <td>0.125</td>\n",
       "      <td>0.0</td>\n",
       "      <td>0.139136</td>\n",
       "    </tr>\n",
       "    <tr>\n",
       "      <th>2</th>\n",
       "      <td>0.0</td>\n",
       "      <td>0.0</td>\n",
       "      <td>1.0</td>\n",
       "      <td>0.0</td>\n",
       "      <td>1.0</td>\n",
       "      <td>0.0</td>\n",
       "      <td>0.0</td>\n",
       "      <td>0.0</td>\n",
       "      <td>0.0</td>\n",
       "      <td>1.0</td>\n",
       "      <td>1</td>\n",
       "      <td>1</td>\n",
       "      <td>0.323563</td>\n",
       "      <td>0.000</td>\n",
       "      <td>0.0</td>\n",
       "      <td>0.015469</td>\n",
       "    </tr>\n",
       "    <tr>\n",
       "      <th>3</th>\n",
       "      <td>0.0</td>\n",
       "      <td>0.0</td>\n",
       "      <td>1.0</td>\n",
       "      <td>0.0</td>\n",
       "      <td>1.0</td>\n",
       "      <td>0.0</td>\n",
       "      <td>0.0</td>\n",
       "      <td>1.0</td>\n",
       "      <td>0.0</td>\n",
       "      <td>0.0</td>\n",
       "      <td>1</td>\n",
       "      <td>1</td>\n",
       "      <td>0.436302</td>\n",
       "      <td>0.125</td>\n",
       "      <td>0.0</td>\n",
       "      <td>0.103644</td>\n",
       "    </tr>\n",
       "    <tr>\n",
       "      <th>4</th>\n",
       "      <td>0.0</td>\n",
       "      <td>1.0</td>\n",
       "      <td>0.0</td>\n",
       "      <td>0.0</td>\n",
       "      <td>1.0</td>\n",
       "      <td>0.0</td>\n",
       "      <td>0.0</td>\n",
       "      <td>0.0</td>\n",
       "      <td>0.0</td>\n",
       "      <td>1.0</td>\n",
       "      <td>0</td>\n",
       "      <td>0</td>\n",
       "      <td>0.436302</td>\n",
       "      <td>0.000</td>\n",
       "      <td>0.0</td>\n",
       "      <td>0.015713</td>\n",
       "    </tr>\n",
       "  </tbody>\n",
       "</table>\n",
       "</div>"
      ],
      "text/plain": [
       "   Title_0.0  Title_1.0  Title_2.0  Title_3.0  Embarked_0  Embarked_1  \\\n",
       "0        0.0        1.0        0.0        0.0         1.0         0.0   \n",
       "1        0.0        0.0        1.0        0.0         0.0         1.0   \n",
       "2        0.0        0.0        1.0        0.0         1.0         0.0   \n",
       "3        0.0        0.0        1.0        0.0         1.0         0.0   \n",
       "4        0.0        1.0        0.0        0.0         1.0         0.0   \n",
       "\n",
       "   Embarked_2  Pclass_1  Pclass_2  Pclass_3  Survived  Sex       Age  SibSp  \\\n",
       "0         0.0       0.0       0.0       1.0         0    0  0.273456  0.125   \n",
       "1         0.0       1.0       0.0       0.0         1    1  0.473882  0.125   \n",
       "2         0.0       0.0       0.0       1.0         1    1  0.323563  0.000   \n",
       "3         0.0       1.0       0.0       0.0         1    1  0.436302  0.125   \n",
       "4         0.0       0.0       0.0       1.0         0    0  0.436302  0.000   \n",
       "\n",
       "   Parch      Fare  \n",
       "0    0.0  0.014151  \n",
       "1    0.0  0.139136  \n",
       "2    0.0  0.015469  \n",
       "3    0.0  0.103644  \n",
       "4    0.0  0.015713  "
      ]
     },
     "execution_count": 234,
     "metadata": {},
     "output_type": "execute_result"
    }
   ],
   "source": [
    "f_total.head()"
   ]
  },
  {
   "cell_type": "markdown",
   "id": "b4132499",
   "metadata": {},
   "source": [
    "### Removendo atributos menos relevantes"
   ]
  },
  {
   "cell_type": "code",
   "execution_count": 235,
   "id": "df58a5aa",
   "metadata": {},
   "outputs": [],
   "source": [
    "colunas = ['Title_3.0', 'Embarked_2', 'Pclass_2']\n",
    "f_train = f_train.drop(colunas, axis=1)\n",
    "f_test = f_test.drop(colunas, axis=1)"
   ]
  },
  {
   "cell_type": "code",
   "execution_count": 236,
   "id": "3646ce98",
   "metadata": {},
   "outputs": [
    {
     "data": {
      "text/html": [
       "<div>\n",
       "<style scoped>\n",
       "    .dataframe tbody tr th:only-of-type {\n",
       "        vertical-align: middle;\n",
       "    }\n",
       "\n",
       "    .dataframe tbody tr th {\n",
       "        vertical-align: top;\n",
       "    }\n",
       "\n",
       "    .dataframe thead th {\n",
       "        text-align: right;\n",
       "    }\n",
       "</style>\n",
       "<table border=\"1\" class=\"dataframe\">\n",
       "  <thead>\n",
       "    <tr style=\"text-align: right;\">\n",
       "      <th></th>\n",
       "      <th>Title_0.0</th>\n",
       "      <th>Title_1.0</th>\n",
       "      <th>Title_2.0</th>\n",
       "      <th>Embarked_0</th>\n",
       "      <th>Embarked_1</th>\n",
       "      <th>Pclass_1</th>\n",
       "      <th>Pclass_3</th>\n",
       "      <th>Survived</th>\n",
       "      <th>Sex</th>\n",
       "      <th>Age</th>\n",
       "      <th>SibSp</th>\n",
       "      <th>Parch</th>\n",
       "      <th>Fare</th>\n",
       "    </tr>\n",
       "  </thead>\n",
       "  <tbody>\n",
       "    <tr>\n",
       "      <th>0</th>\n",
       "      <td>0.0</td>\n",
       "      <td>1.0</td>\n",
       "      <td>0.0</td>\n",
       "      <td>1.0</td>\n",
       "      <td>0.0</td>\n",
       "      <td>0.0</td>\n",
       "      <td>1.0</td>\n",
       "      <td>0</td>\n",
       "      <td>0</td>\n",
       "      <td>0.273456</td>\n",
       "      <td>0.125</td>\n",
       "      <td>0.0</td>\n",
       "      <td>0.014151</td>\n",
       "    </tr>\n",
       "    <tr>\n",
       "      <th>1</th>\n",
       "      <td>0.0</td>\n",
       "      <td>0.0</td>\n",
       "      <td>1.0</td>\n",
       "      <td>0.0</td>\n",
       "      <td>1.0</td>\n",
       "      <td>1.0</td>\n",
       "      <td>0.0</td>\n",
       "      <td>1</td>\n",
       "      <td>1</td>\n",
       "      <td>0.473882</td>\n",
       "      <td>0.125</td>\n",
       "      <td>0.0</td>\n",
       "      <td>0.139136</td>\n",
       "    </tr>\n",
       "    <tr>\n",
       "      <th>2</th>\n",
       "      <td>0.0</td>\n",
       "      <td>0.0</td>\n",
       "      <td>1.0</td>\n",
       "      <td>1.0</td>\n",
       "      <td>0.0</td>\n",
       "      <td>0.0</td>\n",
       "      <td>1.0</td>\n",
       "      <td>1</td>\n",
       "      <td>1</td>\n",
       "      <td>0.323563</td>\n",
       "      <td>0.000</td>\n",
       "      <td>0.0</td>\n",
       "      <td>0.015469</td>\n",
       "    </tr>\n",
       "    <tr>\n",
       "      <th>3</th>\n",
       "      <td>0.0</td>\n",
       "      <td>0.0</td>\n",
       "      <td>1.0</td>\n",
       "      <td>1.0</td>\n",
       "      <td>0.0</td>\n",
       "      <td>1.0</td>\n",
       "      <td>0.0</td>\n",
       "      <td>1</td>\n",
       "      <td>1</td>\n",
       "      <td>0.436302</td>\n",
       "      <td>0.125</td>\n",
       "      <td>0.0</td>\n",
       "      <td>0.103644</td>\n",
       "    </tr>\n",
       "    <tr>\n",
       "      <th>4</th>\n",
       "      <td>0.0</td>\n",
       "      <td>1.0</td>\n",
       "      <td>0.0</td>\n",
       "      <td>1.0</td>\n",
       "      <td>0.0</td>\n",
       "      <td>0.0</td>\n",
       "      <td>1.0</td>\n",
       "      <td>0</td>\n",
       "      <td>0</td>\n",
       "      <td>0.436302</td>\n",
       "      <td>0.000</td>\n",
       "      <td>0.0</td>\n",
       "      <td>0.015713</td>\n",
       "    </tr>\n",
       "  </tbody>\n",
       "</table>\n",
       "</div>"
      ],
      "text/plain": [
       "   Title_0.0  Title_1.0  Title_2.0  Embarked_0  Embarked_1  Pclass_1  \\\n",
       "0        0.0        1.0        0.0         1.0         0.0       0.0   \n",
       "1        0.0        0.0        1.0         0.0         1.0       1.0   \n",
       "2        0.0        0.0        1.0         1.0         0.0       0.0   \n",
       "3        0.0        0.0        1.0         1.0         0.0       1.0   \n",
       "4        0.0        1.0        0.0         1.0         0.0       0.0   \n",
       "\n",
       "   Pclass_3  Survived  Sex       Age  SibSp  Parch      Fare  \n",
       "0       1.0         0    0  0.273456  0.125    0.0  0.014151  \n",
       "1       0.0         1    1  0.473882  0.125    0.0  0.139136  \n",
       "2       1.0         1    1  0.323563  0.000    0.0  0.015469  \n",
       "3       0.0         1    1  0.436302  0.125    0.0  0.103644  \n",
       "4       1.0         0    0  0.436302  0.000    0.0  0.015713  "
      ]
     },
     "execution_count": 236,
     "metadata": {},
     "output_type": "execute_result"
    }
   ],
   "source": [
    "f_train.head()"
   ]
  },
  {
   "cell_type": "markdown",
   "id": "6b916c68-669f-4267-8e7f-7f95270b2a38",
   "metadata": {},
   "source": [
    "### Modelagem"
   ]
  },
  {
   "cell_type": "code",
   "execution_count": 237,
   "id": "aa2bf6ec-1a91-4d5f-9865-c0f8144c21ae",
   "metadata": {},
   "outputs": [],
   "source": [
    "from sklearn.neighbors import KNeighborsClassifier\n",
    "from sklearn.tree import DecisionTreeClassifier\n",
    "from sklearn.ensemble import RandomForestClassifier, BaggingClassifier, AdaBoostClassifier, ExtraTreesClassifier\n",
    "from sklearn.linear_model import LogisticRegression\n",
    "from sklearn.naive_bayes import GaussianNB\n",
    "from sklearn.svm import SVC\n",
    "from sklearn.pipeline import Pipeline\n",
    "from sklearn.preprocessing import StandardScaler\n",
    "from sklearn.decomposition import PCA, TruncatedSVD\n",
    "from sklearn.model_selection import GridSearchCV, train_test_split, RandomizedSearchCV\n",
    "from sklearn.metrics import accuracy_score\n",
    "from time import time"
   ]
  },
  {
   "cell_type": "code",
   "execution_count": 238,
   "id": "24190780-3879-4b90-8290-aac6caa44540",
   "metadata": {},
   "outputs": [],
   "source": [
    "X = f_train.drop('Survived', axis=1).values\n",
    "Y = f_train['Survived'].values"
   ]
  },
  {
   "cell_type": "markdown",
   "id": "6d33148b-cf44-4f92-aef7-e1f14279706b",
   "metadata": {},
   "source": [
    "**Cross Validation (K-Fold)**"
   ]
  },
  {
   "cell_type": "code",
   "execution_count": 239,
   "id": "cb837721-ab5a-406c-acbc-09f264645560",
   "metadata": {},
   "outputs": [],
   "source": [
    "from sklearn.model_selection import KFold\n",
    "from sklearn.model_selection import cross_val_score\n",
    "k_fold = KFold(n_splits=15, shuffle=True, random_state=0)"
   ]
  },
  {
   "cell_type": "markdown",
   "id": "ef687b20-0330-4fc1-a3fa-a6c8df2766f5",
   "metadata": {
    "jp-MarkdownHeadingCollapsed": true,
    "tags": []
   },
   "source": [
    "#### **KNN**"
   ]
  },
  {
   "cell_type": "code",
   "execution_count": 240,
   "id": "197933a3-c434-466f-957f-4de84bc7e567",
   "metadata": {},
   "outputs": [],
   "source": [
    "#Criando o modelo KNN\n",
    "KNN = KNeighborsClassifier(n_neighbors = 8, p=1)"
   ]
  },
  {
   "cell_type": "code",
   "execution_count": 241,
   "id": "23bda520-2bb9-4d3c-9b93-888b556a0374",
   "metadata": {},
   "outputs": [
    {
     "name": "stdout",
     "output_type": "stream",
     "text": [
      "[0.8        0.85       0.81666667 0.78333333 0.86666667 0.83333333\n",
      " 0.86440678 0.93220339 0.76271186 0.86440678 0.72881356 0.84745763\n",
      " 0.74576271 0.84745763 0.77966102]\n"
     ]
    }
   ],
   "source": [
    "#Utilizando o Cross Validation\n",
    "scoring = 'accuracy'\n",
    "score = cross_val_score(KNN, X, Y, cv=k_fold, n_jobs=1, scoring=scoring)\n",
    "print(score)"
   ]
  },
  {
   "cell_type": "code",
   "execution_count": 242,
   "id": "cc294eae-a5d4-4863-841c-0ed6819bfd47",
   "metadata": {},
   "outputs": [
    {
     "data": {
      "text/plain": [
       "82.15"
      ]
     },
     "execution_count": 242,
     "metadata": {},
     "output_type": "execute_result"
    }
   ],
   "source": [
    "round(np.mean(score)*100, 2)"
   ]
  },
  {
   "cell_type": "markdown",
   "id": "0cae81f3-b5cf-4525-a001-f47d70d0ada3",
   "metadata": {},
   "source": [
    "**KNN Ensemble com Bagging Classifier**"
   ]
  },
  {
   "cell_type": "code",
   "execution_count": 246,
   "id": "28a69941-a2c2-483f-903b-fc84ba85c9ad",
   "metadata": {},
   "outputs": [
    {
     "name": "stdout",
     "output_type": "stream",
     "text": [
      "[0.83333333 0.78333333 0.81666667 0.8        0.83333333 0.76666667\n",
      " 0.86440678 0.86440678 0.77966102 0.89830508 0.77966102 0.84745763\n",
      " 0.77966102 0.84745763 0.74576271]\n",
      "81.6\n"
     ]
    }
   ],
   "source": [
    "bagging = BaggingClassifier(KNeighborsClassifier(), max_samples = 0.5, max_features = 0.5)\n",
    "\n",
    "#Utilizando o Cross Validation\n",
    "scoring = 'accuracy'\n",
    "score = cross_val_score(bagging, X, Y, cv=k_fold, n_jobs=1, scoring=scoring)\n",
    "print(score)\n",
    "\n",
    "print(round(np.mean(score)*100, 2))"
   ]
  },
  {
   "cell_type": "markdown",
   "id": "d66feda9-6c34-4f29-81ac-cb1ca92c5892",
   "metadata": {},
   "source": [
    "**KNN Ensemble com Ada Boost**"
   ]
  },
  {
   "cell_type": "code",
   "execution_count": 247,
   "id": "171e9375-0acb-49cd-ac4d-6e1524a05b09",
   "metadata": {},
   "outputs": [
    {
     "name": "stdout",
     "output_type": "stream",
     "text": [
      "[0.86666667 0.81666667 0.75       0.81666667 0.78333333 0.78333333\n",
      " 0.81355932 0.84745763 0.76271186 0.83050847 0.79661017 0.83050847\n",
      " 0.79661017 0.91525424 0.81355932]\n",
      "81.49\n"
     ]
    }
   ],
   "source": [
    "ada_clf = AdaBoostClassifier(base_estimator = DecisionTreeClassifier(max_depth = 1, min_samples_leaf = 1),\n",
    "                             learning_rate = 1.1,\n",
    "                             n_estimators = 400,\n",
    "                             algorithm = \"SAMME\")\n",
    "\n",
    "#Utilizando o Cross Validation\n",
    "scoring = 'accuracy'\n",
    "score = cross_val_score(ada_clf, X, Y, cv=k_fold, n_jobs=1, scoring=scoring)\n",
    "print(score)\n",
    "\n",
    "print(round(np.mean(score)*100, 2))"
   ]
  },
  {
   "cell_type": "markdown",
   "id": "69472008-0da1-4970-b993-c0c3a8ad0a41",
   "metadata": {},
   "source": [
    "**KNN Avançado**"
   ]
  },
  {
   "cell_type": "code",
   "execution_count": 248,
   "id": "3ee3738d-df92-406a-ae97-4df7fc6ccdea",
   "metadata": {},
   "outputs": [],
   "source": [
    "X_treino, X_teste, Y_treino, Y_teste = train_test_split (X, Y, test_size = 0.33, random_state = 101)\n",
    "\n",
    "# Função para testar o melhor valor de K\n",
    "def compute_teste (x_teste, y_teste, clf, cv):\n",
    "    k_fold = KFold(n_splits=15, shuffle=True)\n",
    "    \n",
    "    scores = []\n",
    "    \n",
    "    for i, j in k_fold.split(x_teste):\n",
    "        test_set = x_teste[j]\n",
    "        test_labels = y_teste[j]\n",
    "        scores.append(accuracy_score(test_labels, clf.predict(test_set)))\n",
    "    return scores"
   ]
  },
  {
   "cell_type": "code",
   "execution_count": 249,
   "id": "e1409d2d-0ac0-423e-98e8-adab30d5dedf",
   "metadata": {},
   "outputs": [],
   "source": [
    "#Normalização dos dados pela Média\n",
    "\n",
    "# Cálculo da média do dataset de treino\n",
    "X_norm = np.mean(X_treino, axis = 0)\n",
    "\n",
    "# Normalização dos dados de treino e de teste\n",
    "X_treino_norm = X_treino - X_norm\n",
    "X_teste_norm = X_teste - X_norm"
   ]
  },
  {
   "cell_type": "code",
   "execution_count": 250,
   "id": "cd32941e-2eae-4ee4-8d66-d52b6158c9ca",
   "metadata": {},
   "outputs": [
    {
     "name": "stdout",
     "output_type": "stream",
     "text": [
      "(596, 12) (295, 12) (596,) (295,)\n"
     ]
    }
   ],
   "source": [
    "# Shape dos datasets\n",
    "print(X_treino_norm.shape, X_teste_norm.shape, Y_treino.shape, Y_teste.shape)"
   ]
  },
  {
   "cell_type": "code",
   "execution_count": 251,
   "id": "c2bff563-d3bd-40f0-a01b-aaaae0717fb7",
   "metadata": {},
   "outputs": [],
   "source": [
    "# Construção do Modelo KNN\n",
    "# http://scikit-learn.org/stable/modules/generated/sklearn.neighbors.KNeighborsClassifier.html\n",
    "modelo = KNeighborsClassifier()"
   ]
  },
  {
   "cell_type": "code",
   "execution_count": 252,
   "id": "d3e2b1b8-a6c9-4b46-8bc3-5c9be4d2146c",
   "metadata": {},
   "outputs": [],
   "source": [
    "# Definição de parâmetros\n",
    "k = np.arange(20) + 1\n",
    "parametros = {'n_neighbors':k}"
   ]
  },
  {
   "cell_type": "code",
   "execution_count": 253,
   "id": "a11eca7e-d2a8-4a96-b9e4-a0671fd06a9b",
   "metadata": {},
   "outputs": [],
   "source": [
    "# Grid Search para Cross Validation com o melhor valor de K\n",
    "modeloKNN = GridSearchCV(KNN, parametros, cv = 10)"
   ]
  },
  {
   "cell_type": "code",
   "execution_count": 254,
   "id": "f9001e3e-d986-4b1e-99be-63356d49967b",
   "metadata": {},
   "outputs": [
    {
     "data": {
      "text/plain": [
       "{'cv': 10,\n",
       " 'error_score': nan,\n",
       " 'estimator__algorithm': 'auto',\n",
       " 'estimator__leaf_size': 30,\n",
       " 'estimator__metric': 'minkowski',\n",
       " 'estimator__metric_params': None,\n",
       " 'estimator__n_jobs': None,\n",
       " 'estimator__n_neighbors': 8,\n",
       " 'estimator__p': 1,\n",
       " 'estimator__weights': 'uniform',\n",
       " 'estimator': KNeighborsClassifier(n_neighbors=8, p=1),\n",
       " 'n_jobs': None,\n",
       " 'param_grid': {'n_neighbors': array([ 1,  2,  3,  4,  5,  6,  7,  8,  9, 10, 11, 12, 13, 14, 15, 16, 17,\n",
       "         18, 19, 20])},\n",
       " 'pre_dispatch': '2*n_jobs',\n",
       " 'refit': True,\n",
       " 'return_train_score': False,\n",
       " 'scoring': None,\n",
       " 'verbose': 0}"
      ]
     },
     "execution_count": 254,
     "metadata": {},
     "output_type": "execute_result"
    }
   ],
   "source": [
    "modeloKNN.get_params()"
   ]
  },
  {
   "cell_type": "code",
   "execution_count": 255,
   "id": "26e724b5-43dd-44bb-a963-27cd9c4d1dde",
   "metadata": {},
   "outputs": [],
   "source": [
    "# Lista de dimensões\n",
    "dimensoes = np.arange(X_treino.shape[1] - 1) + 1"
   ]
  },
  {
   "cell_type": "code",
   "execution_count": 256,
   "id": "f06ec28d-e307-4a24-a704-0005573f0335",
   "metadata": {},
   "outputs": [],
   "source": [
    "# Listas vazias que vão receber os scrores de acurária e os parâmetros resultados do modelo\n",
    "acuracia = []\n",
    "params = []"
   ]
  },
  {
   "cell_type": "code",
   "execution_count": 257,
   "id": "5429048a-48da-44f5-b972-b6c04c55f0a0",
   "metadata": {},
   "outputs": [],
   "source": [
    "# Implementação do modelo\n",
    "for d in dimensoes:\n",
    "    svd = TruncatedSVD(n_components = d) #Instânciando a classe de redução de dimensionalidade\n",
    "    \n",
    "    X_fit_treino = svd.fit_transform(X_treino) #Aplicando a redução de dimensionalidade no conjunto de treino\n",
    "    X_fit_teste = svd.transform(X_teste) #Aplicando a redução de dimensionalidade no conjunto de teste\n",
    "        \n",
    "    modeloKNN.fit(X_fit_treino, Y_treino) #Treinando o modelo\n",
    "    \n",
    "    acuracia.append(compute_teste(x_teste = X_fit_teste, y_teste = Y_teste, clf = modeloKNN, cv = 8))\n",
    "    params.append(modeloKNN.best_params_['n_neighbors'])"
   ]
  },
  {
   "cell_type": "code",
   "execution_count": 258,
   "id": "fc423001-93b3-43b8-972a-7484292777d8",
   "metadata": {},
   "outputs": [
    {
     "data": {
      "text/plain": [
       "[5, 12, 20, 20, 20, 16, 18, 20, 20, 18, 20]"
      ]
     },
     "execution_count": 258,
     "metadata": {},
     "output_type": "execute_result"
    }
   ],
   "source": [
    "params"
   ]
  },
  {
   "cell_type": "code",
   "execution_count": 259,
   "id": "34b93be2-aff6-445d-a01e-987bccda7c4d",
   "metadata": {},
   "outputs": [
    {
     "name": "stdout",
     "output_type": "stream",
     "text": [
      "70.25\n",
      "80.3\n",
      "80.23\n",
      "80.25\n",
      "79.93\n",
      "79.96\n",
      "81.32\n",
      "80.68\n",
      "80.4\n",
      "80.37\n",
      "80.0\n"
     ]
    }
   ],
   "source": [
    "for cv in acuracia:\n",
    "    print(round(np.mean(cv)*100, 2))"
   ]
  },
  {
   "cell_type": "markdown",
   "id": "5ab3ca03-0ad6-4909-8453-4acf2225e0a9",
   "metadata": {
    "jp-MarkdownHeadingCollapsed": true,
    "tags": []
   },
   "source": [
    "#### **Decision Tree**"
   ]
  },
  {
   "cell_type": "code",
   "execution_count": 260,
   "id": "f8039f5a-509c-4035-b6fe-105d88899512",
   "metadata": {},
   "outputs": [
    {
     "name": "stdout",
     "output_type": "stream",
     "text": [
      "[0.8        0.83333333 0.76666667 0.83333333 0.83333333 0.83333333\n",
      " 0.84745763 0.88135593 0.71186441 0.88135593 0.72881356 0.84745763\n",
      " 0.79661017 0.89830508 0.86440678]\n"
     ]
    }
   ],
   "source": [
    "Decision_Tree = DecisionTreeClassifier(max_depth = 4, #Profundidade da árvore, é um critério de parada\n",
    "                                       max_features = None, #Quantos atributo iremos utilizar na construção do modelo\n",
    "                                       criterion = 'entropy', #entropy ou gini\n",
    "                                       splitter = 'best',\n",
    "                                       min_samples_leaf = 1, #Número mínimo de amostras para o node leaf (terminal)\n",
    "                                       min_samples_split = 4)\n",
    "scoring = 'accuracy'\n",
    "score = cross_val_score(Decision_Tree, X, Y, cv=k_fold, n_jobs=1, scoring=scoring)\n",
    "print(score)"
   ]
  },
  {
   "cell_type": "code",
   "execution_count": 261,
   "id": "9b800ff0-22dd-4cd1-9d24-253d1e66a3ac",
   "metadata": {},
   "outputs": [
    {
     "data": {
      "text/plain": [
       "82.38"
      ]
     },
     "execution_count": 261,
     "metadata": {},
     "output_type": "execute_result"
    }
   ],
   "source": [
    "round(np.mean(score)*100, 2)"
   ]
  },
  {
   "cell_type": "markdown",
   "id": "d4a0f1ee-c5fb-4f72-ac94-400e8f466188",
   "metadata": {
    "jp-MarkdownHeadingCollapsed": true,
    "tags": []
   },
   "source": [
    "#### **Random Forest**"
   ]
  },
  {
   "cell_type": "markdown",
   "id": "0e2a2160-5b84-4ab4-ac97-fba6ff0cdaea",
   "metadata": {
    "jp-MarkdownHeadingCollapsed": true,
    "tags": []
   },
   "source": [
    "Os 4 principais parâmetros em Modelos de Random Forest são:\n",
    "\n",
    "n_estimators - quanto maior, melhor!\n",
    "\n",
    "max depth - o padrão é 'none' e nesse caso árvores completas são criadas. Ajustando esse parâmetro pode ajudar a evitar overfitting.\n",
    "\n",
    "max_features - diferentes valores devem ser testados, pois este parâmetro impacta na forma como os modelos RF distribuem os atributos pelas árvores.\n",
    "\n",
    "criterion - define a forma como o algoritmo fará a divisão dos atributos e a classificação dos nós em cada árvore."
   ]
  },
  {
   "cell_type": "code",
   "execution_count": 262,
   "id": "b62548d3-3bac-477d-b734-f5b5699d7ab9",
   "metadata": {},
   "outputs": [
    {
     "name": "stdout",
     "output_type": "stream",
     "text": [
      "[0.81666667 0.85       0.81666667 0.81666667 0.85       0.88333333\n",
      " 0.89830508 0.86440678 0.81355932 0.84745763 0.77966102 0.84745763\n",
      " 0.79661017 0.88135593 0.83050847]\n"
     ]
    }
   ],
   "source": [
    "RandomForest = RandomForestClassifier(n_estimators=20, \n",
    "                                      bootstrap=True, \n",
    "                                      criterion='entropy', \n",
    "                                      min_samples_leaf=1, \n",
    "                                      min_samples_split=18, \n",
    "                                      random_state=8)\n",
    "scoring = 'accuracy'\n",
    "score = cross_val_score(RandomForest, X, Y, cv=k_fold, n_jobs=1, scoring=scoring)\n",
    "print(score)"
   ]
  },
  {
   "cell_type": "code",
   "execution_count": 263,
   "id": "4bf86407-95ff-4fed-9147-4ed2a8ef1c67",
   "metadata": {},
   "outputs": [
    {
     "data": {
      "text/plain": [
       "83.95"
      ]
     },
     "execution_count": 263,
     "metadata": {},
     "output_type": "execute_result"
    }
   ],
   "source": [
    "round(np.mean(score)*100, 2)"
   ]
  },
  {
   "cell_type": "code",
   "execution_count": 215,
   "id": "4778140c-5bfd-4cd9-93bd-e030a542e22b",
   "metadata": {},
   "outputs": [],
   "source": [
    "# Extraindo a importância\n",
    "RandomForest.fit(X, Y)\n",
    "importances = RandomForest.feature_importances_\n",
    "indices = np.argsort(importances)"
   ]
  },
  {
   "cell_type": "code",
   "execution_count": 216,
   "id": "d655f4e0-4009-415f-bd27-512fa3809021",
   "metadata": {},
   "outputs": [],
   "source": [
    "# Obtém os índices\n",
    "ind=[]\n",
    "for i in indices:\n",
    "    ind.append(f_train.columns[i])"
   ]
  },
  {
   "cell_type": "code",
   "execution_count": 217,
   "id": "c7c3b87b-ca13-419f-8870-424fa59fc364",
   "metadata": {},
   "outputs": [
    {
     "data": {
      "image/png": "[encoded data removed]",
      "text/plain": [
       "<Figure size 648x432 with 1 Axes>"
      ]
     },
     "metadata": {},
     "output_type": "display_data"
    }
   ],
   "source": [
    "# Plot da Importância dos Atributos\n",
    "plt.figure(figsize=(9,6))\n",
    "plt.title('Importância dos Atributos')\n",
    "plt.barh(range(len(indices)), importances[indices], color = 'b', align = 'center')\n",
    "plt.yticks(range(len(indices)),ind)\n",
    "plt.xlabel('Importância Relativa')\n",
    "plt.show()"
   ]
  },
  {
   "cell_type": "code",
   "execution_count": 218,
   "id": "4584ea74-f21f-4f07-966a-1de8fa6f82d5",
   "metadata": {},
   "outputs": [],
   "source": [
    "# Obtém as instâncias (exemplos ou observações) e retorna as probabilidades da coluna ser relevante para a previsão\n",
    "#instance = X[0]\n",
    "#print(RandomForest.predict_proba(instance.reshape(1, -1)))"
   ]
  },
  {
   "cell_type": "markdown",
   "id": "250e0b69-65f9-4536-b2e2-b119248ac7ed",
   "metadata": {
    "jp-MarkdownHeadingCollapsed": true,
    "tags": []
   },
   "source": [
    "#### **Extra Trees**"
   ]
  },
  {
   "cell_type": "code",
   "execution_count": null,
   "id": "b4a32b31-b643-4111-927b-829f4c4654e9",
   "metadata": {},
   "outputs": [],
   "source": [
    "ExtraTrees = ExtraTreesClassifier(n_estimators = 5, max_depth = None, min_samples_split = 2, random_state = 0)\n",
    "scoring = 'accuracy'\n",
    "scores = cross_val_score(ExtraTrees, X, Y, cv=k_fold, n_jobs=1, scoring=scoring)\n",
    "print(scores)"
   ]
  },
  {
   "cell_type": "code",
   "execution_count": null,
   "id": "d7a32f09-77ac-4804-8017-3866bafecaef",
   "metadata": {},
   "outputs": [],
   "source": [
    "round(np.mean(scores)*100, 2)"
   ]
  },
  {
   "cell_type": "code",
   "execution_count": null,
   "id": "0ed8a6cf-1388-41ab-bf40-22ca62036b1c",
   "metadata": {},
   "outputs": [],
   "source": [
    "# Extraindo a importância\n",
    "ExtraTrees.fit(X_treino, Y_treino)\n",
    "importances = ExtraTrees.feature_importances_\n",
    "indices = np.argsort(importances)\n",
    "\n",
    "# Obtém os índices\n",
    "ind=[]\n",
    "for i in indices:\n",
    "    ind.append(f_total.columns[i])\n",
    "    \n",
    "# Plot da Importância dos Atributos\n",
    "plt.figure(figsize=(9,6))\n",
    "plt.title('Importância dos Atributos')\n",
    "plt.barh(range(len(indices)), importances[indices], color = 'b', align = 'center')\n",
    "plt.yticks(range(len(indices)),ind)\n",
    "plt.xlabel('Importância Relativa')\n",
    "plt.show()"
   ]
  },
  {
   "cell_type": "markdown",
   "id": "d160f596-3b78-4b56-84ce-a0c42986fa0d",
   "metadata": {
    "jp-MarkdownHeadingCollapsed": true,
    "tags": []
   },
   "source": [
    "#### **RandomizedSearchCV e GridSearchCV**"
   ]
  },
  {
   "cell_type": "markdown",
   "id": "7d9187f0-2101-4e67-9a9f-050905cab464",
   "metadata": {},
   "source": [
    "**RandomizedSearchCV para testar diferentes combinações de parâmetros**<br/>\n",
    "O randomized testa apenas uma porção dos parâmetros de forma aleatória e nos da o melhor resultado dentre as combinações."
   ]
  },
  {
   "cell_type": "code",
   "execution_count": null,
   "id": "6be7c19c-fbba-4c8c-87e8-f2f696be8d52",
   "metadata": {},
   "outputs": [],
   "source": [
    "# Definição dos parâmetros\n",
    "param_dist = {\"max_depth\": [1, 3, 7, 8, 12, None],\n",
    "              \"max_features\": [11, 13, 15, 17, 19],\n",
    "              \"min_samples_split\": [8, 10, 11, 14, 16, 19],\n",
    "              \"min_samples_leaf\": [1, 2, 3, 4, 5, 6, 7],\n",
    "              \"bootstrap\": [True, False]}"
   ]
  },
  {
   "cell_type": "code",
   "execution_count": null,
   "id": "1033d05e-d612-4d5f-9612-395d1613a776",
   "metadata": {},
   "outputs": [],
   "source": [
    "# Para o classificador criado na célula anterior, testamos diferentes combinações de parâmetros\n",
    "rsearch = RandomizedSearchCV(ExtraTrees, param_distributions = param_dist, n_iter = 25)  "
   ]
  },
  {
   "cell_type": "code",
   "execution_count": null,
   "id": "a30d58bd-9cc7-4944-ade1-07a56d537e90",
   "metadata": {
    "tags": []
   },
   "outputs": [],
   "source": [
    "# Aplicando o resultado ao conjunto de dados de treino e obtendo o score\n",
    "rsearch.fit(X, Y)\n",
    "rsearch.cv_results_"
   ]
  },
  {
   "cell_type": "code",
   "execution_count": null,
   "id": "5d8fe3e5-d8f1-489a-af1f-ea6113fa2bb3",
   "metadata": {},
   "outputs": [],
   "source": [
    "# Imprimindo o melhor estimador\n",
    "bestclf = rsearch.best_estimator_\n",
    "print (bestclf)"
   ]
  },
  {
   "cell_type": "code",
   "execution_count": null,
   "id": "fd38ee13-f3a7-49cc-86e8-6dde432b84a2",
   "metadata": {},
   "outputs": [],
   "source": [
    "scores = cross_val_score(bestclf, X, Y, cv=k_fold, n_jobs=1, scoring=scoring)\n",
    "print(scores)"
   ]
  },
  {
   "cell_type": "code",
   "execution_count": null,
   "id": "b8bc5eb7-50fc-4993-938a-55396a0018a1",
   "metadata": {},
   "outputs": [],
   "source": [
    "round(np.mean(score)*100, 2)"
   ]
  },
  {
   "cell_type": "markdown",
   "id": "b3bce41d-991f-4ea2-a2e3-01893fe752be",
   "metadata": {},
   "source": [
    "**GridSearchCV**<br/>\n",
    "O Grid Search realiza metodicamente combinações entre todos os parâmetros do algoritmo, criando um grid. "
   ]
  },
  {
   "cell_type": "code",
   "execution_count": null,
   "id": "4728d0cf-3308-464b-8920-be6b7c6fe5b7",
   "metadata": {},
   "outputs": [],
   "source": [
    "# Valores dos parâmetros que serão testados\n",
    "param_grid = {\"max_depth\": [None],\n",
    "              \"max_features\": [1, 2, 4, 6, 7],\n",
    "              \"min_samples_leaf\": [2, 4, 8, 10],\n",
    "              \"bootstrap\": [True, False],\n",
    "              \"criterion\": [\"entropy\", \"gini\"]}"
   ]
  },
  {
   "cell_type": "code",
   "execution_count": null,
   "id": "9169427f-6d14-40c9-b9aa-ad3f0526fddb",
   "metadata": {},
   "outputs": [],
   "source": [
    "# Executando o Randomized Search\n",
    "grid_search = GridSearchCV(ExtraTrees, param_grid = param_grid)"
   ]
  },
  {
   "cell_type": "code",
   "execution_count": null,
   "id": "938ef895-4747-48a1-ae43-be71fb3207da",
   "metadata": {},
   "outputs": [],
   "source": [
    "start = time()\n",
    "scores = cross_val_score(grid_search, X, Y, cv=k_fold, n_jobs=1, scoring=scoring)\n",
    "print(scores)\n",
    "print(\"GridSearch executou em %.2f segundos.\" \n",
    "      % ((time() - start)))"
   ]
  },
  {
   "cell_type": "code",
   "execution_count": null,
   "id": "4dd1ed97",
   "metadata": {},
   "outputs": [],
   "source": [
    "round(np.mean(scores)*100, 2)"
   ]
  },
  {
   "cell_type": "code",
   "execution_count": null,
   "id": "ffccdc12-0e01-48d2-87ea-98795c3c7a52",
   "metadata": {},
   "outputs": [],
   "source": [
    "grid_search.fit(X, Y)"
   ]
  },
  {
   "cell_type": "code",
   "execution_count": null,
   "id": "3cf4fa20-04a8-4b89-97ec-3d5025bab5a4",
   "metadata": {},
   "outputs": [],
   "source": [
    "# Imprimindo o melhor estimador\n",
    "bestclf = grid_search.best_estimator_\n",
    "print (bestclf)"
   ]
  },
  {
   "cell_type": "code",
   "execution_count": null,
   "id": "d561dc54-5982-429f-8f6f-fee6dba823c8",
   "metadata": {},
   "outputs": [],
   "source": [
    "round(np.mean(scores)*100, 2)"
   ]
  },
  {
   "cell_type": "markdown",
   "id": "b0087e5f-0225-4604-aa7c-8bdc62df75ab",
   "metadata": {
    "jp-MarkdownHeadingCollapsed": true,
    "tags": []
   },
   "source": [
    "#### **Gradiente Boosting**"
   ]
  },
  {
   "cell_type": "markdown",
   "id": "4506d7ff-cd9b-40f5-8d41-e77caff96a38",
   "metadata": {
    "tags": []
   },
   "source": [
    "\n",
    "Gradient Boosting ou Gradient Boostted Regression Trees (GBRT) é uma técnica de aprendizagem estatística não-paramétrica usada para problemas de classificação e regressão. Gradient Boosting = Gradient Descent + Boosting. Basicamente 3 etapas são realizadas na construção do modelo:\n",
    "- Realiza um conjunto de previsões (y)\n",
    "- Calcula o erro das previsões (j)\n",
    "- Tenta ajustar y reduzindo o erro (através de alpha)\n",
    "- Para cada estimador base, é estimado o gradiente da função de perda\n",
    "- Estimadores subsequentes estimam o erro residual dos estimadores anteriores\n",
    "- Aplica o Gradient Descent para reduzir j\n",
    "- Soma os resultados dos estimadores, dando peso a cada passo de acordo com o valor de alfa\n",
    "\n",
    "_Parâmetros mais importantes:_\n",
    "- Número de árvores de regressão (n_estimators)\n",
    "- Profundidade de cara árvore (max_depth)\n",
    "- loss function (loss)"
   ]
  },
  {
   "cell_type": "code",
   "execution_count": 122,
   "id": "ddf32db4-36e3-429d-a56a-29e10a17e2d8",
   "metadata": {},
   "outputs": [],
   "source": [
    "from sklearn.ensemble import GradientBoostingClassifier"
   ]
  },
  {
   "cell_type": "code",
   "execution_count": 123,
   "id": "228dbc05-8700-403d-b20c-a4031f5fc5d8",
   "metadata": {},
   "outputs": [],
   "source": [
    "X_treino, X_teste, Y_treino, Y_teste = train_test_split (X, Y, test_size = 0.33)\n",
    "GradientBoosting = GradientBoostingClassifier(n_estimators = 500, \n",
    "                                              learning_rate = 1.2, \n",
    "                                              max_depth = 1, \n",
    "                                              min_samples_leaf = 3)"
   ]
  },
  {
   "cell_type": "code",
   "execution_count": 124,
   "id": "e19ff450-5d22-464c-9521-ce9504a0b5b9",
   "metadata": {},
   "outputs": [
    {
     "name": "stdout",
     "output_type": "stream",
     "text": [
      "[0.825      0.825      0.8        0.775      0.75       0.775\n",
      " 0.775      0.8        0.725      0.725      0.825      0.84615385\n",
      " 0.79487179 0.79487179 0.82051282]\n"
     ]
    }
   ],
   "source": [
    "scoring = 'accuracy'\n",
    "score = cross_val_score(GradientBoosting, X_treino, Y_treino, cv=k_fold, n_jobs=1, scoring=scoring)\n",
    "print(score)"
   ]
  },
  {
   "cell_type": "code",
   "execution_count": 125,
   "id": "abcec33b-3f55-4ba2-9b07-1184064cb692",
   "metadata": {},
   "outputs": [
    {
     "data": {
      "text/plain": [
       "79.04"
      ]
     },
     "execution_count": 125,
     "metadata": {},
     "output_type": "execute_result"
    }
   ],
   "source": [
    "round(np.mean(score)*100, 2)"
   ]
  },
  {
   "cell_type": "code",
   "execution_count": 127,
   "id": "f8ba2b87-6f88-44e0-8e73-513cfa3f153e",
   "metadata": {},
   "outputs": [
    {
     "data": {
      "text/plain": [
       "0.8271186440677966"
      ]
     },
     "execution_count": 127,
     "metadata": {},
     "output_type": "execute_result"
    }
   ],
   "source": [
    "GradientBoosting.fit(X_treino, Y_treino)\n",
    "GradientBoosting.score(X_teste, Y_teste)"
   ]
  },
  {
   "cell_type": "code",
   "execution_count": 128,
   "id": "6183939e-dccc-4a2b-bf53-1a6171a0ab05",
   "metadata": {},
   "outputs": [
    {
     "data": {
      "image/png": "[encoded data removed]",
      "text/plain": [
       "<Figure size 648x432 with 1 Axes>"
      ]
     },
     "metadata": {},
     "output_type": "display_data"
    }
   ],
   "source": [
    "# Extraindo a importância\n",
    "GradientBoosting.fit(X_treino, Y_treino)\n",
    "importances = GradientBoosting.feature_importances_\n",
    "indices = np.argsort(importances)\n",
    "\n",
    "# Obtém os índices\n",
    "ind=[]\n",
    "for i in indices:\n",
    "    ind.append(f_total.columns[i])\n",
    "    \n",
    "# Plot da Importância dos Atributos\n",
    "plt.figure(figsize=(9,6))\n",
    "plt.title('Importância dos Atributos')\n",
    "plt.barh(range(len(indices)), importances[indices], color = 'b', align = 'center')\n",
    "plt.yticks(range(len(indices)),ind)\n",
    "plt.xlabel('Importância Relativa')\n",
    "plt.show()"
   ]
  },
  {
   "cell_type": "markdown",
   "id": "a7a20305-58d2-466d-9c1a-e8ba736a7880",
   "metadata": {},
   "source": [
    "_Utilizando GridSearchCV_"
   ]
  },
  {
   "cell_type": "code",
   "execution_count": null,
   "id": "433e353a-d0f3-4277-8a46-14662b9acf12",
   "metadata": {},
   "outputs": [],
   "source": [
    "# Valores dos parâmetros que serão testados\n",
    "param_grid = {\"learning_rate\": [0.2, 0.6, 1, 1.2],\n",
    "              \"max_depth\": [1, 2, 3],\n",
    "              \"min_samples_leaf\": [3, 5]\n",
    "             }\n",
    "\n",
    "# Executando o Randomized Search\n",
    "grid_search = GridSearchCV(GradientBoosting, param_grid = param_grid)\n",
    "\n",
    "start = time()\n",
    "scores = cross_val_score(grid_search, X_treino, Y_treino, cv=k_fold, n_jobs=1, scoring=scoring)\n",
    "print(scores)\n",
    "print(\"GridSearch executou em %.2f segundos.\" \n",
    "      % ((time() - start)))\n",
    "\n",
    "gs_cv = grid_search.fit(X_treino, Y_treino)\n",
    "gs_cv.score(X_teste, Y_teste)"
   ]
  },
  {
   "cell_type": "code",
   "execution_count": null,
   "id": "c38952a7-a310-4bb8-95b6-13c172c2f747",
   "metadata": {},
   "outputs": [],
   "source": [
    "# Imprime os melhors parâmetros\n",
    "print('Melhores Hyperparametros: %r' % gs_cv.best_params_)"
   ]
  },
  {
   "cell_type": "markdown",
   "id": "c5c45658-7ddc-4f25-87f3-962f223389ee",
   "metadata": {
    "jp-MarkdownHeadingCollapsed": true,
    "tags": []
   },
   "source": [
    "#### **Naive Bayes**"
   ]
  },
  {
   "cell_type": "code",
   "execution_count": 130,
   "id": "de2cc0b9-71ed-4b99-b70f-51f8d9df0766",
   "metadata": {},
   "outputs": [],
   "source": [
    "from sklearn.metrics import confusion_matrix, classification_report"
   ]
  },
  {
   "cell_type": "code",
   "execution_count": 131,
   "id": "fb6c9282-39ba-432a-8447-83135731d492",
   "metadata": {},
   "outputs": [
    {
     "name": "stdout",
     "output_type": "stream",
     "text": [
      "[0.45       0.53333333 0.3        0.38333333 0.36666667 0.43333333\n",
      " 0.30508475 0.38983051 0.30508475 0.40677966 0.50847458 0.33898305\n",
      " 0.45762712 0.44067797 0.52542373]\n"
     ]
    }
   ],
   "source": [
    "NaiveBayes = GaussianNB()\n",
    "scoring = 'accuracy'\n",
    "score = cross_val_score(NaiveBayes, X, Y, cv=k_fold, n_jobs=1, scoring=scoring)\n",
    "print(score)"
   ]
  },
  {
   "cell_type": "code",
   "execution_count": 132,
   "id": "1bd2f5ce-c760-4753-ad41-a1e89de1dcbf",
   "metadata": {},
   "outputs": [
    {
     "data": {
      "text/plain": [
       "40.96"
      ]
     },
     "execution_count": 132,
     "metadata": {},
     "output_type": "execute_result"
    }
   ],
   "source": [
    "round(np.mean(score)*100, 2)"
   ]
  },
  {
   "cell_type": "code",
   "execution_count": 133,
   "id": "3730b613-0472-4cc9-aab0-5cd8266500fa",
   "metadata": {},
   "outputs": [],
   "source": [
    "X_treino, X_teste, Y_treino, Y_teste = train_test_split (X, Y, test_size = 0.33)"
   ]
  },
  {
   "cell_type": "code",
   "execution_count": 134,
   "id": "eaa343a3-8608-4088-98b2-bc61397b80e0",
   "metadata": {},
   "outputs": [
    {
     "name": "stdout",
     "output_type": "stream",
     "text": [
      "[[  5 174]\n",
      " [  0 116]]\n",
      "              precision    recall  f1-score   support\n",
      "\n",
      "           0       1.00      0.03      0.05       179\n",
      "           1       0.40      1.00      0.57       116\n",
      "\n",
      "    accuracy                           0.41       295\n",
      "   macro avg       0.70      0.51      0.31       295\n",
      "weighted avg       0.76      0.41      0.26       295\n",
      "\n"
     ]
    }
   ],
   "source": [
    "#Classificador\n",
    "modelo = NaiveBayes.fit(X_treino, Y_treino)\n",
    "\n",
    "#previsto\n",
    "previsto = modelo.predict(X_teste)\n",
    "\n",
    "#Sumário\n",
    "print(confusion_matrix(Y_teste, previsto))\n",
    "print(classification_report(Y_teste, previsto))"
   ]
  },
  {
   "cell_type": "markdown",
   "id": "d278d085-119e-496c-b9ff-e994c9eea7a3",
   "metadata": {},
   "source": [
    "**Naive Bayes Bernoulli**"
   ]
  },
  {
   "cell_type": "code",
   "execution_count": null,
   "id": "8c5ca25e-f52f-4be9-9722-7917b4c6a2ea",
   "metadata": {},
   "outputs": [],
   "source": [
    "from sklearn.naive_bayes import BernoulliNB"
   ]
  },
  {
   "cell_type": "code",
   "execution_count": null,
   "id": "709e3491-c631-440d-bd48-0110e24f78d4",
   "metadata": {},
   "outputs": [],
   "source": [
    "Bernoulli = BernoulliNB()\n",
    "scoring = 'accuracy'\n",
    "score = cross_val_score(Bernoulli, X, Y, cv=k_fold, n_jobs=1, scoring=scoring)\n",
    "print(score)"
   ]
  },
  {
   "cell_type": "code",
   "execution_count": null,
   "id": "d4ebe9ac-b8f3-427b-bb67-d565910865c2",
   "metadata": {},
   "outputs": [],
   "source": [
    "round(np.mean(score)*100, 2)"
   ]
  },
  {
   "cell_type": "markdown",
   "id": "f7ae7dc8-3b00-49a3-ab56-f8f716e943b2",
   "metadata": {
    "jp-MarkdownHeadingCollapsed": true,
    "tags": []
   },
   "source": [
    "#### **SVM**"
   ]
  },
  {
   "cell_type": "code",
   "execution_count": 219,
   "id": "b7545aa3-056a-46b4-84d0-2129711ea4f8",
   "metadata": {},
   "outputs": [
    {
     "name": "stdout",
     "output_type": "stream",
     "text": [
      "[0.83333333 0.81666667 0.81666667 0.8        0.83333333 0.81666667\n",
      " 0.89830508 0.89830508 0.83050847 0.88135593 0.72881356 0.83050847\n",
      " 0.76271186 0.89830508 0.77966102]\n"
     ]
    }
   ],
   "source": [
    "SVM = SVC(kernel = 'rbf', C = 1.0, gamma = 0.7)\n",
    "scoring = 'accuracy'\n",
    "score = cross_val_score(SVM, X, Y, cv=k_fold, n_jobs=1, scoring=scoring)\n",
    "print(score)"
   ]
  },
  {
   "cell_type": "code",
   "execution_count": 220,
   "id": "e82d13f5-a3fe-46f9-a997-5531692e66fc",
   "metadata": {},
   "outputs": [
    {
     "data": {
      "text/plain": [
       "82.83"
      ]
     },
     "execution_count": 220,
     "metadata": {},
     "output_type": "execute_result"
    }
   ],
   "source": [
    "round(np.mean(score)*100,2)"
   ]
  },
  {
   "cell_type": "markdown",
   "id": "dd0e0195-5869-402e-b8ad-b177b4ceded1",
   "metadata": {
    "jp-MarkdownHeadingCollapsed": true,
    "tags": []
   },
   "source": [
    "#### **Logistic Regression**"
   ]
  },
  {
   "cell_type": "code",
   "execution_count": null,
   "id": "f8b5e9e4-68b9-4053-9836-dc37d2d60397",
   "metadata": {},
   "outputs": [],
   "source": [
    "#Possíveis parâmetros: \n",
    "#    LogisticRegression(C=109.85411419875572, class_weight=None, dual=False,\n",
    "#          fit_intercept=True, intercept_scaling=1, max_iter=100,\n",
    "#          multi_class='warn', n_jobs=None, penalty='l1', random_state=None,\n",
    "#          solver='warn', tol=0.0001, verbose=0, warm_start=False)"
   ]
  },
  {
   "cell_type": "code",
   "execution_count": 221,
   "id": "c5a0f02a-e264-4da5-8d44-267f195356a6",
   "metadata": {},
   "outputs": [
    {
     "name": "stdout",
     "output_type": "stream",
     "text": [
      "[0.81666667 0.78333333 0.76666667 0.8        0.8        0.81666667\n",
      " 0.81355932 0.86440678 0.77966102 0.86440678 0.77966102 0.86440678\n",
      " 0.77966102 0.89830508 0.86440678]\n"
     ]
    }
   ],
   "source": [
    "logistic_regression = LogisticRegression()\n",
    "scoring = 'accuracy'\n",
    "score = cross_val_score(logistic_regression, X, Y, cv=k_fold, n_jobs=1, scoring=scoring)\n",
    "print(score)"
   ]
  },
  {
   "cell_type": "code",
   "execution_count": 222,
   "id": "20ddb867-8318-423c-9ec7-d1e047c8a235",
   "metadata": {},
   "outputs": [
    {
     "data": {
      "text/plain": [
       "81.95"
      ]
     },
     "execution_count": 222,
     "metadata": {},
     "output_type": "execute_result"
    }
   ],
   "source": [
    "round(np.mean(score)*100,2)"
   ]
  },
  {
   "cell_type": "markdown",
   "id": "0b883db4-6925-4746-9b97-b3dd5a407950",
   "metadata": {
    "jp-MarkdownHeadingCollapsed": true,
    "tags": []
   },
   "source": [
    "#### **Pipeline**"
   ]
  },
  {
   "cell_type": "code",
   "execution_count": 223,
   "id": "34556557-6aa5-406d-9719-9b2f79b80631",
   "metadata": {},
   "outputs": [],
   "source": [
    "model = logistic_regression"
   ]
  },
  {
   "cell_type": "code",
   "execution_count": 224,
   "id": "1cb96e3e-fc07-48ea-a66f-5f13528b27fe",
   "metadata": {},
   "outputs": [],
   "source": [
    "std_slc = StandardScaler() #Normalização dos dados\n",
    "pca = PCA() #Redução de dimensionalidade\n",
    "#svd = TruncatedSVD(n_components = 2) #Redução de dimensionalidade\n",
    "pipe = Pipeline(steps=[('std_slc', std_slc),\n",
    "                       ('pca', pca),\n",
    "                       ('logistic_Reg', model)])"
   ]
  },
  {
   "cell_type": "code",
   "execution_count": 225,
   "id": "877928a6-6b80-486d-abcf-2bbabd46ca4c",
   "metadata": {},
   "outputs": [
    {
     "name": "stdout",
     "output_type": "stream",
     "text": [
      "[0.81666667 0.83333333 0.76666667 0.81666667 0.8        0.83333333\n",
      " 0.83050847 0.86440678 0.79661017 0.86440678 0.83050847 0.86440678\n",
      " 0.74576271 0.89830508 0.88135593]\n"
     ]
    }
   ],
   "source": [
    "scoring = 'accuracy'\n",
    "score = cross_val_score(pipe, X, Y, cv=k_fold, n_jobs=1, scoring=scoring)\n",
    "print(score)"
   ]
  },
  {
   "cell_type": "code",
   "execution_count": 226,
   "id": "5ed41cdc-f422-40c4-afe5-9f81bcffbe03",
   "metadata": {},
   "outputs": [
    {
     "data": {
      "text/plain": [
       "82.95"
      ]
     },
     "execution_count": 226,
     "metadata": {},
     "output_type": "execute_result"
    }
   ],
   "source": [
    "round(np.mean(score)*100,2)"
   ]
  },
  {
   "cell_type": "markdown",
   "id": "baf5014f-a679-4ab8-b46a-ab095a2f1737",
   "metadata": {
    "jp-MarkdownHeadingCollapsed": true,
    "tags": []
   },
   "source": [
    "#### **Multi Layer Perceptron (MLP)**"
   ]
  },
  {
   "cell_type": "code",
   "execution_count": 145,
   "id": "8678dc02-6353-4f5e-afbd-719cd40c72c0",
   "metadata": {},
   "outputs": [],
   "source": [
    "import warnings\n",
    "warnings.filterwarnings('ignore')"
   ]
  },
  {
   "cell_type": "code",
   "execution_count": 146,
   "id": "3104da37-a91c-48bf-9c97-6ca92e18a91d",
   "metadata": {},
   "outputs": [],
   "source": [
    "from sklearn.model_selection import train_test_split\n",
    "from sklearn.neural_network import MLPClassifier\n",
    "from sklearn.metrics import confusion_matrix, classification_report"
   ]
  },
  {
   "cell_type": "code",
   "execution_count": 147,
   "id": "f9dbad9b-03d7-49ba-8dfe-71e42d38a58e",
   "metadata": {},
   "outputs": [],
   "source": [
    "X_train, X_test, Y_train, Y_test = train_test_split(X, Y)"
   ]
  },
  {
   "cell_type": "code",
   "execution_count": 148,
   "id": "ed632337-d600-4992-bc61-d7b046efb1fd",
   "metadata": {},
   "outputs": [],
   "source": [
    "qtdCamadas = X_train.shape[1]\n",
    "MLP = MLPClassifier(\n",
    "                    hidden_layer_sizes = (qtdCamadas, qtdCamadas, qtdCamadas),\n",
    "                    activation='identity',\n",
    "                    alpha=1, \n",
    "                    learning_rate='adaptive', \n",
    "                    max_iter = 1000\n",
    "                    )"
   ]
  },
  {
   "cell_type": "code",
   "execution_count": 149,
   "id": "c52da84c-3612-4faf-be1c-5111f761def9",
   "metadata": {},
   "outputs": [
    {
     "name": "stdout",
     "output_type": "stream",
     "text": [
      "[[129  20]\n",
      " [ 24  50]]\n"
     ]
    }
   ],
   "source": [
    "MLP.fit(X_train, Y_train)\n",
    "\n",
    "#previsto\n",
    "previsto = MLP.predict(X_test)\n",
    "\n",
    "#Sumário\n",
    "print(confusion_matrix(Y_test, previsto))\n",
    "#print(classification_report(Y_test, previsto))"
   ]
  },
  {
   "cell_type": "code",
   "execution_count": 151,
   "id": "e5258d2f-d8a6-48e4-88ac-c555e5597440",
   "metadata": {},
   "outputs": [
    {
     "name": "stdout",
     "output_type": "stream",
     "text": [
      "[0.81666667 0.76666667 0.76666667 0.8        0.78333333 0.78333333\n",
      " 0.83050847 0.88135593 0.77966102 0.84745763 0.77966102 0.86440678\n",
      " 0.76271186 0.89830508 0.84745763]\n"
     ]
    },
    {
     "data": {
      "text/plain": [
       "81.39"
      ]
     },
     "execution_count": 151,
     "metadata": {},
     "output_type": "execute_result"
    }
   ],
   "source": [
    "scoring = 'accuracy'\n",
    "score = cross_val_score(MLP, X, Y, cv=k_fold, n_jobs=1, scoring=scoring)\n",
    "print(score)\n",
    "round(np.mean(score)*100,2)"
   ]
  },
  {
   "cell_type": "markdown",
   "id": "aa44d147-b14b-4a8c-a8d6-769e94b16492",
   "metadata": {
    "jp-MarkdownHeadingCollapsed": true,
    "tags": []
   },
   "source": [
    "### Testando"
   ]
  },
  {
   "cell_type": "code",
   "execution_count": 264,
   "id": "77ebd36b-157a-4059-9cc9-fa40b58a7604",
   "metadata": {},
   "outputs": [],
   "source": [
    "modelo = RandomForestClassifier(n_estimators=20, \n",
    "                                      bootstrap=True, \n",
    "                                      criterion='entropy', \n",
    "                                      min_samples_leaf=1, \n",
    "                                      min_samples_split=18, \n",
    "                                      random_state=8)"
   ]
  },
  {
   "cell_type": "code",
   "execution_count": 265,
   "id": "f23eb491",
   "metadata": {},
   "outputs": [
    {
     "data": {
      "text/plain": [
       "RandomForestClassifier(criterion='entropy', min_samples_split=18,\n",
       "                       n_estimators=20, random_state=8)"
      ]
     },
     "execution_count": 265,
     "metadata": {},
     "output_type": "execute_result"
    }
   ],
   "source": [
    "modelo.fit(X, Y)"
   ]
  },
  {
   "cell_type": "code",
   "execution_count": 266,
   "id": "68866ec6-9d97-4d72-aec0-c6d7cef11dd9",
   "metadata": {},
   "outputs": [],
   "source": [
    "list_ids = df_test['PassengerId']"
   ]
  },
  {
   "cell_type": "code",
   "execution_count": 267,
   "id": "69743e04-f409-459d-97fc-f013cdfb738e",
   "metadata": {},
   "outputs": [],
   "source": [
    "prediction = modelo.predict(f_test)"
   ]
  },
  {
   "cell_type": "code",
   "execution_count": 268,
   "id": "5654d327-673e-46be-b454-8983ec02a300",
   "metadata": {},
   "outputs": [],
   "source": [
    "submission = pd.DataFrame({\n",
    "        \"PassengerId\": list_ids,\n",
    "        \"Survived\": prediction\n",
    "    })"
   ]
  },
  {
   "cell_type": "code",
   "execution_count": 269,
   "id": "8f7215aa-9188-4bfe-8681-51acf8d751d9",
   "metadata": {},
   "outputs": [],
   "source": [
    "submission.to_csv('submissionV5.csv', index=False)"
   ]
  },
  {
   "cell_type": "code",
   "execution_count": 270,
   "id": "6cd929fa-67a9-43a2-8b8f-01a0887ca6a9",
   "metadata": {},
   "outputs": [
    {
     "data": {
      "text/html": [
       "<div>\n",
       "<style scoped>\n",
       "    .dataframe tbody tr th:only-of-type {\n",
       "        vertical-align: middle;\n",
       "    }\n",
       "\n",
       "    .dataframe tbody tr th {\n",
       "        vertical-align: top;\n",
       "    }\n",
       "\n",
       "    .dataframe thead th {\n",
       "        text-align: right;\n",
       "    }\n",
       "</style>\n",
       "<table border=\"1\" class=\"dataframe\">\n",
       "  <thead>\n",
       "    <tr style=\"text-align: right;\">\n",
       "      <th></th>\n",
       "      <th>PassengerId</th>\n",
       "      <th>Survived</th>\n",
       "    </tr>\n",
       "  </thead>\n",
       "  <tbody>\n",
       "    <tr>\n",
       "      <th>0</th>\n",
       "      <td>892</td>\n",
       "      <td>0</td>\n",
       "    </tr>\n",
       "    <tr>\n",
       "      <th>1</th>\n",
       "      <td>893</td>\n",
       "      <td>0</td>\n",
       "    </tr>\n",
       "    <tr>\n",
       "      <th>2</th>\n",
       "      <td>894</td>\n",
       "      <td>0</td>\n",
       "    </tr>\n",
       "    <tr>\n",
       "      <th>3</th>\n",
       "      <td>895</td>\n",
       "      <td>0</td>\n",
       "    </tr>\n",
       "    <tr>\n",
       "      <th>4</th>\n",
       "      <td>896</td>\n",
       "      <td>1</td>\n",
       "    </tr>\n",
       "  </tbody>\n",
       "</table>\n",
       "</div>"
      ],
      "text/plain": [
       "   PassengerId  Survived\n",
       "0          892         0\n",
       "1          893         0\n",
       "2          894         0\n",
       "3          895         0\n",
       "4          896         1"
      ]
     },
     "execution_count": 270,
     "metadata": {},
     "output_type": "execute_result"
    }
   ],
   "source": [
    "submission = pd.read_csv('submissionV5.csv')\n",
    "submission.head()"
   ]
  },
  {
   "cell_type": "markdown",
   "id": "d490368c-109e-464b-9044-80f6e2dffb22",
   "metadata": {},
   "source": [
    "### Utilizando o Tensorflow 2"
   ]
  },
  {
   "cell_type": "code",
   "execution_count": 271,
   "id": "f9e81c26-4af2-4314-8a51-321bee93c3ca",
   "metadata": {},
   "outputs": [],
   "source": [
    "import tensorflow as tf\n",
    "from tensorflow.keras.optimizers import Adam\n",
    "from tensorflow.keras.metrics import Precision\n",
    "from tensorflow.keras.metrics import Recall\n",
    "from sklearn.model_selection import train_test_split"
   ]
  },
  {
   "cell_type": "code",
   "execution_count": 272,
   "id": "1f99616e-82b9-4cdc-af69-bf4339c8d599",
   "metadata": {},
   "outputs": [],
   "source": [
    "# We split the training data into two samples, training and validation\n",
    "X_train, X_valid, y_train, y_valid = train_test_split(X, Y)"
   ]
  },
  {
   "cell_type": "code",
   "execution_count": 273,
   "id": "c7caf853-6d8d-42ce-897a-968202c5a81b",
   "metadata": {},
   "outputs": [],
   "source": [
    "model = tf.keras.models.Sequential()"
   ]
  },
  {
   "cell_type": "code",
   "execution_count": 274,
   "id": "1d9e3509-34a0-4b10-becd-4e3cae16b75c",
   "metadata": {},
   "outputs": [
    {
     "data": {
      "text/plain": [
       "(668, 12)"
      ]
     },
     "execution_count": 274,
     "metadata": {},
     "output_type": "execute_result"
    }
   ],
   "source": [
    "X_train.shape"
   ]
  },
  {
   "cell_type": "code",
   "execution_count": 275,
   "id": "dbca067c-112d-4b8b-89bb-1c63549d8847",
   "metadata": {},
   "outputs": [],
   "source": [
    "model.add(tf.keras.Input(shape=(X_train.shape[1])))\n",
    "model.add(tf.keras.layers.Dense(units=X_train.shape[1], activation='relu', input_shape=(9, )))\n",
    "model.add(tf.keras.layers.Dropout(0.2))\n",
    "model.add(tf.keras.layers.Dense(units=10, activation='relu'))\n",
    "model.add(tf.keras.layers.Dropout(0.2))\n",
    "model.add(tf.keras.layers.Dense(units=9, activation='relu'))\n",
    "model.add(tf.keras.layers.Dropout(0.2))\n",
    "model.add(tf.keras.layers.Dense(units=2, activation='softmax')) "
   ]
  },
  {
   "cell_type": "code",
   "execution_count": 276,
   "id": "359c8f48-1da1-42e5-8344-2a75df2db052",
   "metadata": {},
   "outputs": [],
   "source": [
    "# Hyperparameters\n",
    "autotune = tf.data.experimental.AUTOTUNE\n",
    "batch_size = 8\n",
    "epochs = 200\n",
    "lr = 0.01\n",
    "beta1 = 0.9\n",
    "beta2 = 0.9\n",
    "ep = 1e-08"
   ]
  },
  {
   "cell_type": "code",
   "execution_count": 277,
   "id": "f069b903-82a3-449e-8545-704404a8121d",
   "metadata": {},
   "outputs": [
    {
     "name": "stdout",
     "output_type": "stream",
     "text": [
      "Model: \"sequential\"\n",
      "_________________________________________________________________\n",
      " Layer (type)                Output Shape              Param #   \n",
      "=================================================================\n",
      " dense (Dense)               (None, 12)                156       \n",
      "                                                                 \n",
      " dropout (Dropout)           (None, 12)                0         \n",
      "                                                                 \n",
      " dense_1 (Dense)             (None, 10)                130       \n",
      "                                                                 \n",
      " dropout_1 (Dropout)         (None, 10)                0         \n",
      "                                                                 \n",
      " dense_2 (Dense)             (None, 9)                 99        \n",
      "                                                                 \n",
      " dropout_2 (Dropout)         (None, 9)                 0         \n",
      "                                                                 \n",
      " dense_3 (Dense)             (None, 2)                 20        \n",
      "                                                                 \n",
      "=================================================================\n",
      "Total params: 405\n",
      "Trainable params: 405\n",
      "Non-trainable params: 0\n",
      "_________________________________________________________________\n"
     ]
    }
   ],
   "source": [
    "model.summary()"
   ]
  },
  {
   "cell_type": "code",
   "execution_count": 278,
   "id": "3fc34891-1989-4919-bcfd-842ad2c4c323",
   "metadata": {},
   "outputs": [],
   "source": [
    "# Model compilation\n",
    "model.compile(optimizer = Adam(learning_rate = lr, \n",
    "                                beta_1 = beta1, \n",
    "                                beta_2 = beta2, \n",
    "                                epsilon = ep),\n",
    "               loss = 'sparse_categorical_crossentropy', \n",
    "               metrics=['sparse_categorical_accuracy'])"
   ]
  },
  {
   "cell_type": "code",
   "execution_count": 279,
   "id": "57623114-0d04-4b5d-b60c-cea2157df9e9",
   "metadata": {},
   "outputs": [],
   "source": [
    "checkpoint1 = tf.keras.callbacks.ModelCheckpoint(\"best_model.h5\", \n",
    "                                                verbose = 1, \n",
    "                                                save_best_only = True, \n",
    "                                                save_weights_only = True)"
   ]
  },
  {
   "cell_type": "code",
   "execution_count": 280,
   "id": "b66da42d-acf2-4801-a1aa-14cd7dd18317",
   "metadata": {},
   "outputs": [],
   "source": [
    "# Early stop\n",
    "early_stop = tf.keras.callbacks.EarlyStopping(patience = 50) "
   ]
  },
  {
   "cell_type": "code",
   "execution_count": 281,
   "id": "8b40aa06-56f5-4e2b-a7c9-13f0ccd73197",
   "metadata": {
    "collapsed": true,
    "jupyter": {
     "outputs_hidden": true
    },
    "tags": []
   },
   "outputs": [
    {
     "name": "stdout",
     "output_type": "stream",
     "text": [
      "Epoch 1/200\n",
      "102/111 [==========================>...] - ETA: 0s - loss: 0.5864 - sparse_categorical_accuracy: 0.6863WARNING:tensorflow:Can save best model only with val_loss available, skipping.\n",
      "WARNING:tensorflow:Early stopping conditioned on metric `val_loss` which is not available. Available metrics are: loss,sparse_categorical_accuracy\n",
      "111/111 [==============================] - 3s 7ms/step - loss: 0.5914 - sparse_categorical_accuracy: 0.6827\n",
      "Epoch 2/200\n",
      "105/111 [===========================>..] - ETA: 0s - loss: 0.4804 - sparse_categorical_accuracy: 0.7894WARNING:tensorflow:Can save best model only with val_loss available, skipping.\n",
      "WARNING:tensorflow:Early stopping conditioned on metric `val_loss` which is not available. Available metrics are: loss,sparse_categorical_accuracy\n",
      "111/111 [==============================] - 1s 5ms/step - loss: 0.4781 - sparse_categorical_accuracy: 0.7918\n",
      "Epoch 3/200\n",
      "108/111 [============================>.] - ETA: 0s - loss: 0.4659 - sparse_categorical_accuracy: 0.8025WARNING:tensorflow:Can save best model only with val_loss available, skipping.\n",
      "WARNING:tensorflow:Early stopping conditioned on metric `val_loss` which is not available. Available metrics are: loss,sparse_categorical_accuracy\n",
      "111/111 [==============================] - 1s 5ms/step - loss: 0.4626 - sparse_categorical_accuracy: 0.8048\n",
      "Epoch 4/200\n",
      "109/111 [============================>.] - ETA: 0s - loss: 0.4659 - sparse_categorical_accuracy: 0.8114- ETA: 0s - loss: 0.4080 - sparse_categorical_accuraWARNING:tensorflow:Can save best model only with val_loss available, skipping.\n",
      "WARNING:tensorflow:Early stopping conditioned on metric `val_loss` which is not available. Available metrics are: loss,sparse_categorical_accuracy\n",
      "111/111 [==============================] - 1s 6ms/step - loss: 0.4645 - sparse_categorical_accuracy: 0.8118\n",
      "Epoch 5/200\n",
      "111/111 [==============================] - ETA: 0s - loss: 0.4401 - sparse_categorical_accuracy: 0.8208WARNING:tensorflow:Can save best model only with val_loss available, skipping.\n",
      "WARNING:tensorflow:Early stopping conditioned on metric `val_loss` which is not available. Available metrics are: loss,sparse_categorical_accuracy\n",
      "111/111 [==============================] - 1s 6ms/step - loss: 0.4401 - sparse_categorical_accuracy: 0.8208\n",
      "Epoch 6/200\n",
      "103/111 [==========================>...] - ETA: 0s - loss: 0.4537 - sparse_categorical_accuracy: 0.8134WARNING:tensorflow:Can save best model only with val_loss available, skipping.\n",
      "WARNING:tensorflow:Early stopping conditioned on metric `val_loss` which is not available. Available metrics are: loss,sparse_categorical_accuracy\n",
      "111/111 [==============================] - 1s 5ms/step - loss: 0.4614 - sparse_categorical_accuracy: 0.8088\n",
      "Epoch 7/200\n",
      "103/111 [==========================>...] - ETA: 0s - loss: 0.4484 - sparse_categorical_accuracy: 0.8015WARNING:tensorflow:Can save best model only with val_loss available, skipping.\n",
      "WARNING:tensorflow:Early stopping conditioned on metric `val_loss` which is not available. Available metrics are: loss,sparse_categorical_accuracy\n",
      "111/111 [==============================] - 1s 5ms/step - loss: 0.4406 - sparse_categorical_accuracy: 0.8038\n",
      "Epoch 8/200\n",
      "102/111 [==========================>...] - ETA: 0s - loss: 0.4615 - sparse_categorical_accuracy: 0.8115WARNING:tensorflow:Can save best model only with val_loss available, skipping.\n",
      "WARNING:tensorflow:Early stopping conditioned on metric `val_loss` which is not available. Available metrics are: loss,sparse_categorical_accuracy\n",
      "111/111 [==============================] - 1s 5ms/step - loss: 0.4658 - sparse_categorical_accuracy: 0.8078\n",
      "Epoch 9/200\n",
      "103/111 [==========================>...] - ETA: 0s - loss: 0.4445 - sparse_categorical_accuracy: 0.8058WARNING:tensorflow:Can save best model only with val_loss available, skipping.\n",
      "WARNING:tensorflow:Early stopping conditioned on metric `val_loss` which is not available. Available metrics are: loss,sparse_categorical_accuracy\n",
      "111/111 [==============================] - 1s 5ms/step - loss: 0.4587 - sparse_categorical_accuracy: 0.8058\n",
      "Epoch 10/200\n",
      "108/111 [============================>.] - ETA: 0s - loss: 0.4222 - sparse_categorical_accuracy: 0.8179WARNING:tensorflow:Can save best model only with val_loss available, skipping.\n",
      "WARNING:tensorflow:Early stopping conditioned on metric `val_loss` which is not available. Available metrics are: loss,sparse_categorical_accuracy\n",
      "111/111 [==============================] - 1s 7ms/step - loss: 0.4175 - sparse_categorical_accuracy: 0.8208\n",
      "Epoch 11/200\n",
      "107/111 [===========================>..] - ETA: 0s - loss: 0.4450 - sparse_categorical_accuracy: 0.8224WARNING:tensorflow:Can save best model only with val_loss available, skipping.\n",
      "WARNING:tensorflow:Early stopping conditioned on metric `val_loss` which is not available. Available metrics are: loss,sparse_categorical_accuracy\n",
      "111/111 [==============================] - 1s 6ms/step - loss: 0.4468 - sparse_categorical_accuracy: 0.8208\n",
      "Epoch 12/200\n",
      "111/111 [==============================] - ETA: 0s - loss: 0.4363 - sparse_categorical_accuracy: 0.8238WARNING:tensorflow:Can save best model only with val_loss available, skipping.\n",
      "WARNING:tensorflow:Early stopping conditioned on metric `val_loss` which is not available. Available metrics are: loss,sparse_categorical_accuracy\n",
      "111/111 [==============================] - 1s 5ms/step - loss: 0.4363 - sparse_categorical_accuracy: 0.8238\n",
      "Epoch 13/200\n",
      "101/111 [==========================>...] - ETA: 0s - loss: 0.4590 - sparse_categorical_accuracy: 0.8130WARNING:tensorflow:Can save best model only with val_loss available, skipping.\n",
      "WARNING:tensorflow:Early stopping conditioned on metric `val_loss` which is not available. Available metrics are: loss,sparse_categorical_accuracy\n",
      "111/111 [==============================] - 1s 5ms/step - loss: 0.4593 - sparse_categorical_accuracy: 0.8118\n",
      "Epoch 14/200\n",
      "106/111 [===========================>..] - ETA: 0s - loss: 0.4454 - sparse_categorical_accuracy: 0.8092WARNING:tensorflow:Can save best model only with val_loss available, skipping.\n",
      "WARNING:tensorflow:Early stopping conditioned on metric `val_loss` which is not available. Available metrics are: loss,sparse_categorical_accuracy\n",
      "111/111 [==============================] - 1s 5ms/step - loss: 0.4391 - sparse_categorical_accuracy: 0.8128\n",
      "Epoch 15/200\n",
      "105/111 [===========================>..] - ETA: 0s - loss: 0.4354 - sparse_categorical_accuracy: 0.8360WARNING:tensorflow:Can save best model only with val_loss available, skipping.\n",
      "WARNING:tensorflow:Early stopping conditioned on metric `val_loss` which is not available. Available metrics are: loss,sparse_categorical_accuracy\n",
      "111/111 [==============================] - 1s 5ms/step - loss: 0.4281 - sparse_categorical_accuracy: 0.8388\n",
      "Epoch 16/200\n",
      "106/111 [===========================>..] - ETA: 0s - loss: 0.4258 - sparse_categorical_accuracy: 0.8239WARNING:tensorflow:Can save best model only with val_loss available, skipping.\n",
      "WARNING:tensorflow:Early stopping conditioned on metric `val_loss` which is not available. Available metrics are: loss,sparse_categorical_accuracy\n",
      "111/111 [==============================] - 1s 5ms/step - loss: 0.4278 - sparse_categorical_accuracy: 0.8228\n",
      "Epoch 17/200\n",
      "105/111 [===========================>..] - ETA: 0s - loss: 0.4284 - sparse_categorical_accuracy: 0.8296WARNING:tensorflow:Can save best model only with val_loss available, skipping.\n",
      "WARNING:tensorflow:Early stopping conditioned on metric `val_loss` which is not available. Available metrics are: loss,sparse_categorical_accuracy\n",
      "111/111 [==============================] - 1s 5ms/step - loss: 0.4375 - sparse_categorical_accuracy: 0.8288\n",
      "Epoch 18/200\n",
      "102/111 [==========================>...] - ETA: 0s - loss: 0.4144 - sparse_categorical_accuracy: 0.8214WARNING:tensorflow:Can save best model only with val_loss available, skipping.\n",
      "WARNING:tensorflow:Early stopping conditioned on metric `val_loss` which is not available. Available metrics are: loss,sparse_categorical_accuracy\n",
      "111/111 [==============================] - 1s 5ms/step - loss: 0.4165 - sparse_categorical_accuracy: 0.8228\n",
      "Epoch 19/200\n",
      "107/111 [===========================>..] - ETA: 0s - loss: 0.4341 - sparse_categorical_accuracy: 0.8297WARNING:tensorflow:Can save best model only with val_loss available, skipping.\n",
      "WARNING:tensorflow:Early stopping conditioned on metric `val_loss` which is not available. Available metrics are: loss,sparse_categorical_accuracy\n",
      "111/111 [==============================] - 1s 5ms/step - loss: 0.4255 - sparse_categorical_accuracy: 0.8338\n",
      "Epoch 20/200\n",
      "106/111 [===========================>..] - ETA: 0s - loss: 0.4464 - sparse_categorical_accuracy: 0.8176WARNING:tensorflow:Can save best model only with val_loss available, skipping.\n",
      "WARNING:tensorflow:Early stopping conditioned on metric `val_loss` which is not available. Available metrics are: loss,sparse_categorical_accuracy\n",
      "111/111 [==============================] - 1s 5ms/step - loss: 0.4488 - sparse_categorical_accuracy: 0.8168\n",
      "Epoch 21/200\n",
      "105/111 [===========================>..] - ETA: 0s - loss: 0.4266 - sparse_categorical_accuracy: 0.8212WARNING:tensorflow:Can save best model only with val_loss available, skipping.\n",
      "WARNING:tensorflow:Early stopping conditioned on metric `val_loss` which is not available. Available metrics are: loss,sparse_categorical_accuracy\n",
      "111/111 [==============================] - 1s 5ms/step - loss: 0.4609 - sparse_categorical_accuracy: 0.8218\n",
      "Epoch 22/200\n",
      "106/111 [===========================>..] - ETA: 0s - loss: 0.4216 - sparse_categorical_accuracy: 0.8249WARNING:tensorflow:Can save best model only with val_loss available, skipping.\n",
      "WARNING:tensorflow:Early stopping conditioned on metric `val_loss` which is not available. Available metrics are: loss,sparse_categorical_accuracy\n",
      "111/111 [==============================] - 1s 5ms/step - loss: 0.4183 - sparse_categorical_accuracy: 0.8268\n",
      "Epoch 23/200\n",
      "106/111 [===========================>..] - ETA: 0s - loss: 0.4449 - sparse_categorical_accuracy: 0.8176WARNING:tensorflow:Can save best model only with val_loss available, skipping.\n",
      "WARNING:tensorflow:Early stopping conditioned on metric `val_loss` which is not available. Available metrics are: loss,sparse_categorical_accuracy\n",
      "111/111 [==============================] - 1s 5ms/step - loss: 0.4467 - sparse_categorical_accuracy: 0.8188\n",
      "Epoch 24/200\n",
      "110/111 [============================>.] - ETA: 0s - loss: 0.4258 - sparse_categorical_accuracy: 0.8273WARNING:tensorflow:Can save best model only with val_loss available, skipping.\n",
      "WARNING:tensorflow:Early stopping conditioned on metric `val_loss` which is not available. Available metrics are: loss,sparse_categorical_accuracy\n",
      "111/111 [==============================] - 1s 6ms/step - loss: 0.4241 - sparse_categorical_accuracy: 0.8288\n",
      "Epoch 25/200\n",
      "106/111 [===========================>..] - ETA: 0s - loss: 0.4442 - sparse_categorical_accuracy: 0.8166WARNING:tensorflow:Can save best model only with val_loss available, skipping.\n",
      "WARNING:tensorflow:Early stopping conditioned on metric `val_loss` which is not available. Available metrics are: loss,sparse_categorical_accuracy\n",
      "111/111 [==============================] - 1s 6ms/step - loss: 0.4502 - sparse_categorical_accuracy: 0.8188\n",
      "Epoch 26/200\n",
      "107/111 [===========================>..] - ETA: 0s - loss: 0.4196 - sparse_categorical_accuracy: 0.8204WARNING:tensorflow:Can save best model only with val_loss available, skipping.\n",
      "WARNING:tensorflow:Early stopping conditioned on metric `val_loss` which is not available. Available metrics are: loss,sparse_categorical_accuracy\n",
      "111/111 [==============================] - 1s 5ms/step - loss: 0.4154 - sparse_categorical_accuracy: 0.8218\n",
      "Epoch 27/200\n",
      "104/111 [===========================>..] - ETA: 0s - loss: 0.4486 - sparse_categorical_accuracy: 0.8226WARNING:tensorflow:Can save best model only with val_loss available, skipping.\n",
      "WARNING:tensorflow:Early stopping conditioned on metric `val_loss` which is not available. Available metrics are: loss,sparse_categorical_accuracy\n",
      "111/111 [==============================] - 1s 5ms/step - loss: 0.4422 - sparse_categorical_accuracy: 0.8248\n",
      "Epoch 28/200\n",
      "106/111 [===========================>..] - ETA: 0s - loss: 0.4039 - sparse_categorical_accuracy: 0.8333WARNING:tensorflow:Can save best model only with val_loss available, skipping.\n",
      "WARNING:tensorflow:Early stopping conditioned on metric `val_loss` which is not available. Available metrics are: loss,sparse_categorical_accuracy\n",
      "111/111 [==============================] - 1s 5ms/step - loss: 0.4107 - sparse_categorical_accuracy: 0.8348\n",
      "Epoch 29/200\n",
      "105/111 [===========================>..] - ETA: 0s - loss: 0.4355 - sparse_categorical_accuracy: 0.8159WARNING:tensorflow:Can save best model only with val_loss available, skipping.\n",
      "WARNING:tensorflow:Early stopping conditioned on metric `val_loss` which is not available. Available metrics are: loss,sparse_categorical_accuracy\n",
      "111/111 [==============================] - 1s 5ms/step - loss: 0.4313 - sparse_categorical_accuracy: 0.8168\n",
      "Epoch 30/200\n",
      "104/111 [===========================>..] - ETA: 0s - loss: 0.4688 - sparse_categorical_accuracy: 0.8077WARNING:tensorflow:Can save best model only with val_loss available, skipping.\n",
      "WARNING:tensorflow:Early stopping conditioned on metric `val_loss` which is not available. Available metrics are: loss,sparse_categorical_accuracy\n",
      "111/111 [==============================] - 1s 5ms/step - loss: 0.4665 - sparse_categorical_accuracy: 0.8088\n",
      "Epoch 31/200\n",
      "107/111 [===========================>..] - ETA: 0s - loss: 0.4320 - sparse_categorical_accuracy: 0.8214WARNING:tensorflow:Can save best model only with val_loss available, skipping.\n",
      "WARNING:tensorflow:Early stopping conditioned on metric `val_loss` which is not available. Available metrics are: loss,sparse_categorical_accuracy\n",
      "111/111 [==============================] - 1s 5ms/step - loss: 0.4302 - sparse_categorical_accuracy: 0.8218\n",
      "Epoch 32/200\n",
      "106/111 [===========================>..] - ETA: 0s - loss: 0.4334 - sparse_categorical_accuracy: 0.8281WARNING:tensorflow:Can save best model only with val_loss available, skipping.\n",
      "WARNING:tensorflow:Early stopping conditioned on metric `val_loss` which is not available. Available metrics are: loss,sparse_categorical_accuracy\n",
      "111/111 [==============================] - 1s 5ms/step - loss: 0.4279 - sparse_categorical_accuracy: 0.8298\n",
      "Epoch 33/200\n",
      "105/111 [===========================>..] - ETA: 0s - loss: 0.4291 - sparse_categorical_accuracy: 0.8138WARNING:tensorflow:Can save best model only with val_loss available, skipping.\n",
      "WARNING:tensorflow:Early stopping conditioned on metric `val_loss` which is not available. Available metrics are: loss,sparse_categorical_accuracy\n",
      "111/111 [==============================] - 1s 5ms/step - loss: 0.4306 - sparse_categorical_accuracy: 0.8138\n",
      "Epoch 34/200\n",
      "107/111 [===========================>..] - ETA: 0s - loss: 0.4292 - sparse_categorical_accuracy: 0.8152WARNING:tensorflow:Can save best model only with val_loss available, skipping.\n",
      "WARNING:tensorflow:Early stopping conditioned on metric `val_loss` which is not available. Available metrics are: loss,sparse_categorical_accuracy\n",
      "111/111 [==============================] - 1s 5ms/step - loss: 0.4311 - sparse_categorical_accuracy: 0.8128\n",
      "Epoch 35/200\n",
      "104/111 [===========================>..] - ETA: 0s - loss: 0.4262 - sparse_categorical_accuracy: 0.8269WARNING:tensorflow:Can save best model only with val_loss available, skipping.\n",
      "WARNING:tensorflow:Early stopping conditioned on metric `val_loss` which is not available. Available metrics are: loss,sparse_categorical_accuracy\n",
      "111/111 [==============================] - 1s 6ms/step - loss: 0.4331 - sparse_categorical_accuracy: 0.8208\n",
      "Epoch 36/200\n",
      "108/111 [============================>.] - ETA: 0s - loss: 0.4439 - sparse_categorical_accuracy: 0.8241WARNING:tensorflow:Can save best model only with val_loss available, skipping.\n",
      "WARNING:tensorflow:Early stopping conditioned on metric `val_loss` which is not available. Available metrics are: loss,sparse_categorical_accuracy\n",
      "111/111 [==============================] - 1s 5ms/step - loss: 0.4444 - sparse_categorical_accuracy: 0.8238\n",
      "Epoch 37/200\n",
      "110/111 [============================>.] - ETA: 0s - loss: 0.4180 - sparse_categorical_accuracy: 0.8152WARNING:tensorflow:Can save best model only with val_loss available, skipping.\n",
      "WARNING:tensorflow:Early stopping conditioned on metric `val_loss` which is not available. Available metrics are: loss,sparse_categorical_accuracy\n",
      "111/111 [==============================] - 1s 5ms/step - loss: 0.4173 - sparse_categorical_accuracy: 0.8158\n",
      "Epoch 38/200\n",
      "109/111 [============================>.] - ETA: 0s - loss: 0.4116 - sparse_categorical_accuracy: 0.8226WARNING:tensorflow:Can save best model only with val_loss available, skipping.\n",
      "WARNING:tensorflow:Early stopping conditioned on metric `val_loss` which is not available. Available metrics are: loss,sparse_categorical_accuracy\n",
      "111/111 [==============================] - 1s 5ms/step - loss: 0.4174 - sparse_categorical_accuracy: 0.8208\n",
      "Epoch 39/200\n",
      "106/111 [===========================>..] - ETA: 0s - loss: 0.4248 - sparse_categorical_accuracy: 0.8145WARNING:tensorflow:Can save best model only with val_loss available, skipping.\n",
      "WARNING:tensorflow:Early stopping conditioned on metric `val_loss` which is not available. Available metrics are: loss,sparse_categorical_accuracy\n",
      "111/111 [==============================] - 1s 5ms/step - loss: 0.4235 - sparse_categorical_accuracy: 0.8158\n",
      "Epoch 40/200\n",
      "105/111 [===========================>..] - ETA: 0s - loss: 0.4323 - sparse_categorical_accuracy: 0.8296WARNING:tensorflow:Can save best model only with val_loss available, skipping.\n",
      "WARNING:tensorflow:Early stopping conditioned on metric `val_loss` which is not available. Available metrics are: loss,sparse_categorical_accuracy\n",
      "111/111 [==============================] - 1s 6ms/step - loss: 0.4264 - sparse_categorical_accuracy: 0.8288\n",
      "Epoch 41/200\n",
      "111/111 [==============================] - ETA: 0s - loss: 0.4248 - sparse_categorical_accuracy: 0.8318WARNING:tensorflow:Can save best model only with val_loss available, skipping.\n",
      "WARNING:tensorflow:Early stopping conditioned on metric `val_loss` which is not available. Available metrics are: loss,sparse_categorical_accuracy\n",
      "111/111 [==============================] - 1s 5ms/step - loss: 0.4248 - sparse_categorical_accuracy: 0.8318\n",
      "Epoch 42/200\n",
      "108/111 [============================>.] - ETA: 0s - loss: 0.4304 - sparse_categorical_accuracy: 0.8354WARNING:tensorflow:Can save best model only with val_loss available, skipping.\n",
      "WARNING:tensorflow:Early stopping conditioned on metric `val_loss` which is not available. Available metrics are: loss,sparse_categorical_accuracy\n",
      "111/111 [==============================] - 1s 5ms/step - loss: 0.4313 - sparse_categorical_accuracy: 0.8338\n",
      "Epoch 43/200\n",
      "107/111 [===========================>..] - ETA: 0s - loss: 0.4233 - sparse_categorical_accuracy: 0.8245WARNING:tensorflow:Can save best model only with val_loss available, skipping.\n",
      "WARNING:tensorflow:Early stopping conditioned on metric `val_loss` which is not available. Available metrics are: loss,sparse_categorical_accuracy\n",
      "111/111 [==============================] - 1s 5ms/step - loss: 0.4140 - sparse_categorical_accuracy: 0.8288\n",
      "Epoch 44/200\n",
      "107/111 [===========================>..] - ETA: 0s - loss: 0.4372 - sparse_categorical_accuracy: 0.8224WARNING:tensorflow:Can save best model only with val_loss available, skipping.\n",
      "WARNING:tensorflow:Early stopping conditioned on metric `val_loss` which is not available. Available metrics are: loss,sparse_categorical_accuracy\n",
      "111/111 [==============================] - 1s 5ms/step - loss: 0.4322 - sparse_categorical_accuracy: 0.8238\n",
      "Epoch 45/200\n",
      "109/111 [============================>.] - ETA: 0s - loss: 0.4438 - sparse_categorical_accuracy: 0.8043WARNING:tensorflow:Can save best model only with val_loss available, skipping.\n",
      "WARNING:tensorflow:Early stopping conditioned on metric `val_loss` which is not available. Available metrics are: loss,sparse_categorical_accuracy\n",
      "111/111 [==============================] - 1s 5ms/step - loss: 0.4458 - sparse_categorical_accuracy: 0.8038\n",
      "Epoch 46/200\n",
      "104/111 [===========================>..] - ETA: 0s - loss: 0.4283 - sparse_categorical_accuracy: 0.8323- ETA: 0s - loss: 0.3736 - sparse_categorical_accuracWARNING:tensorflow:Can save best model only with val_loss available, skipping.\n",
      "WARNING:tensorflow:Early stopping conditioned on metric `val_loss` which is not available. Available metrics are: loss,sparse_categorical_accuracy\n",
      "111/111 [==============================] - 1s 5ms/step - loss: 0.4292 - sparse_categorical_accuracy: 0.8278\n",
      "Epoch 47/200\n",
      "109/111 [============================>.] - ETA: 0s - loss: 0.4321 - sparse_categorical_accuracy: 0.8471WARNING:tensorflow:Can save best model only with val_loss available, skipping.\n",
      "WARNING:tensorflow:Early stopping conditioned on metric `val_loss` which is not available. Available metrics are: loss,sparse_categorical_accuracy\n",
      "111/111 [==============================] - 1s 5ms/step - loss: 0.4338 - sparse_categorical_accuracy: 0.8458\n",
      "Epoch 48/200\n",
      "107/111 [===========================>..] - ETA: 0s - loss: 0.4268 - sparse_categorical_accuracy: 0.8318WARNING:tensorflow:Can save best model only with val_loss available, skipping.\n",
      "WARNING:tensorflow:Early stopping conditioned on metric `val_loss` which is not available. Available metrics are: loss,sparse_categorical_accuracy\n",
      "111/111 [==============================] - 1s 5ms/step - loss: 0.4235 - sparse_categorical_accuracy: 0.8348\n",
      "Epoch 49/200\n",
      "105/111 [===========================>..] - ETA: 0s - loss: 0.4546 - sparse_categorical_accuracy: 0.8116WARNING:tensorflow:Can save best model only with val_loss available, skipping.\n",
      "WARNING:tensorflow:Early stopping conditioned on metric `val_loss` which is not available. Available metrics are: loss,sparse_categorical_accuracy\n",
      "111/111 [==============================] - 1s 5ms/step - loss: 0.4530 - sparse_categorical_accuracy: 0.8098\n",
      "Epoch 50/200\n",
      "108/111 [============================>.] - ETA: 0s - loss: 0.4288 - sparse_categorical_accuracy: 0.8272WARNING:tensorflow:Can save best model only with val_loss available, skipping.\n",
      "WARNING:tensorflow:Early stopping conditioned on metric `val_loss` which is not available. Available metrics are: loss,sparse_categorical_accuracy\n",
      "111/111 [==============================] - 1s 5ms/step - loss: 0.4278 - sparse_categorical_accuracy: 0.8268\n",
      "Epoch 51/200\n",
      "111/111 [==============================] - ETA: 0s - loss: 0.4281 - sparse_categorical_accuracy: 0.8308WARNING:tensorflow:Can save best model only with val_loss available, skipping.\n",
      "WARNING:tensorflow:Early stopping conditioned on metric `val_loss` which is not available. Available metrics are: loss,sparse_categorical_accuracy\n",
      "111/111 [==============================] - 1s 5ms/step - loss: 0.4281 - sparse_categorical_accuracy: 0.8308\n",
      "Epoch 52/200\n",
      "105/111 [===========================>..] - ETA: 0s - loss: 0.4241 - sparse_categorical_accuracy: 0.8190WARNING:tensorflow:Can save best model only with val_loss available, skipping.\n",
      "WARNING:tensorflow:Early stopping conditioned on metric `val_loss` which is not available. Available metrics are: loss,sparse_categorical_accuracy\n",
      "111/111 [==============================] - 1s 5ms/step - loss: 0.4195 - sparse_categorical_accuracy: 0.8228\n",
      "Epoch 53/200\n",
      "108/111 [============================>.] - ETA: 0s - loss: 0.4462 - sparse_categorical_accuracy: 0.8097WARNING:tensorflow:Can save best model only with val_loss available, skipping.\n",
      "WARNING:tensorflow:Early stopping conditioned on metric `val_loss` which is not available. Available metrics are: loss,sparse_categorical_accuracy\n",
      "111/111 [==============================] - 1s 5ms/step - loss: 0.4493 - sparse_categorical_accuracy: 0.8108\n",
      "Epoch 54/200\n",
      "107/111 [===========================>..] - ETA: 0s - loss: 0.4205 - sparse_categorical_accuracy: 0.8172WARNING:tensorflow:Can save best model only with val_loss available, skipping.\n",
      "WARNING:tensorflow:Early stopping conditioned on metric `val_loss` which is not available. Available metrics are: loss,sparse_categorical_accuracy\n",
      "111/111 [==============================] - 1s 5ms/step - loss: 0.4214 - sparse_categorical_accuracy: 0.8168\n",
      "Epoch 55/200\n",
      "108/111 [============================>.] - ETA: 0s - loss: 0.4332 - sparse_categorical_accuracy: 0.8148WARNING:tensorflow:Can save best model only with val_loss available, skipping.\n",
      "WARNING:tensorflow:Early stopping conditioned on metric `val_loss` which is not available. Available metrics are: loss,sparse_categorical_accuracy\n",
      "111/111 [==============================] - 1s 5ms/step - loss: 0.4331 - sparse_categorical_accuracy: 0.8148\n",
      "Epoch 56/200\n",
      "110/111 [============================>.] - ETA: 0s - loss: 0.4336 - sparse_categorical_accuracy: 0.8263WARNING:tensorflow:Can save best model only with val_loss available, skipping.\n",
      "WARNING:tensorflow:Early stopping conditioned on metric `val_loss` which is not available. Available metrics are: loss,sparse_categorical_accuracy\n",
      "111/111 [==============================] - 1s 6ms/step - loss: 0.4329 - sparse_categorical_accuracy: 0.8268\n",
      "Epoch 57/200\n",
      "108/111 [============================>.] - ETA: 0s - loss: 0.4198 - sparse_categorical_accuracy: 0.8272WARNING:tensorflow:Can save best model only with val_loss available, skipping.\n",
      "WARNING:tensorflow:Early stopping conditioned on metric `val_loss` which is not available. Available metrics are: loss,sparse_categorical_accuracy\n",
      "111/111 [==============================] - 1s 6ms/step - loss: 0.4171 - sparse_categorical_accuracy: 0.8288\n",
      "Epoch 58/200\n",
      "104/111 [===========================>..] - ETA: 0s - loss: 0.4498 - sparse_categorical_accuracy: 0.8194WARNING:tensorflow:Can save best model only with val_loss available, skipping.\n",
      "WARNING:tensorflow:Early stopping conditioned on metric `val_loss` which is not available. Available metrics are: loss,sparse_categorical_accuracy\n",
      "111/111 [==============================] - 1s 5ms/step - loss: 0.4429 - sparse_categorical_accuracy: 0.8208\n",
      "Epoch 59/200\n",
      "110/111 [============================>.] - ETA: 0s - loss: 0.4251 - sparse_categorical_accuracy: 0.8192WARNING:tensorflow:Can save best model only with val_loss available, skipping.\n",
      "WARNING:tensorflow:Early stopping conditioned on metric `val_loss` which is not available. Available metrics are: loss,sparse_categorical_accuracy\n",
      "111/111 [==============================] - 1s 5ms/step - loss: 0.4260 - sparse_categorical_accuracy: 0.8188\n",
      "Epoch 60/200\n",
      "101/111 [==========================>...] - ETA: 0s - loss: 0.4428 - sparse_categorical_accuracy: 0.8086WARNING:tensorflow:Can save best model only with val_loss available, skipping.\n",
      "WARNING:tensorflow:Early stopping conditioned on metric `val_loss` which is not available. Available metrics are: loss,sparse_categorical_accuracy\n",
      "111/111 [==============================] - 1s 5ms/step - loss: 0.4416 - sparse_categorical_accuracy: 0.8048\n",
      "Epoch 61/200\n",
      "110/111 [============================>.] - ETA: 0s - loss: 0.4568 - sparse_categorical_accuracy: 0.8162WARNING:tensorflow:Can save best model only with val_loss available, skipping.\n",
      "WARNING:tensorflow:Early stopping conditioned on metric `val_loss` which is not available. Available metrics are: loss,sparse_categorical_accuracy\n",
      "111/111 [==============================] - 1s 5ms/step - loss: 0.4566 - sparse_categorical_accuracy: 0.8168\n",
      "Epoch 62/200\n",
      "103/111 [==========================>...] - ETA: 0s - loss: 0.4540 - sparse_categorical_accuracy: 0.8231WARNING:tensorflow:Can save best model only with val_loss available, skipping.\n",
      "WARNING:tensorflow:Early stopping conditioned on metric `val_loss` which is not available. Available metrics are: loss,sparse_categorical_accuracy\n",
      "111/111 [==============================] - 1s 5ms/step - loss: 0.4499 - sparse_categorical_accuracy: 0.8208\n",
      "Epoch 63/200\n",
      "104/111 [===========================>..] - ETA: 0s - loss: 0.4286 - sparse_categorical_accuracy: 0.8152WARNING:tensorflow:Can save best model only with val_loss available, skipping.\n",
      "WARNING:tensorflow:Early stopping conditioned on metric `val_loss` which is not available. Available metrics are: loss,sparse_categorical_accuracy\n",
      "111/111 [==============================] - 1s 5ms/step - loss: 0.4292 - sparse_categorical_accuracy: 0.8158\n",
      "Epoch 64/200\n",
      "102/111 [==========================>...] - ETA: 0s - loss: 0.4396 - sparse_categorical_accuracy: 0.8214WARNING:tensorflow:Can save best model only with val_loss available, skipping.\n",
      "WARNING:tensorflow:Early stopping conditioned on metric `val_loss` which is not available. Available metrics are: loss,sparse_categorical_accuracy\n",
      "111/111 [==============================] - 1s 5ms/step - loss: 0.4395 - sparse_categorical_accuracy: 0.8208\n",
      "Epoch 65/200\n",
      "109/111 [============================>.] - ETA: 0s - loss: 0.4068 - sparse_categorical_accuracy: 0.8196WARNING:tensorflow:Can save best model only with val_loss available, skipping.\n",
      "WARNING:tensorflow:Early stopping conditioned on metric `val_loss` which is not available. Available metrics are: loss,sparse_categorical_accuracy\n",
      "111/111 [==============================] - 1s 5ms/step - loss: 0.4049 - sparse_categorical_accuracy: 0.8198\n",
      "Epoch 66/200\n",
      "102/111 [==========================>...] - ETA: 0s - loss: 0.4281 - sparse_categorical_accuracy: 0.8268WARNING:tensorflow:Can save best model only with val_loss available, skipping.\n",
      "WARNING:tensorflow:Early stopping conditioned on metric `val_loss` which is not available. Available metrics are: loss,sparse_categorical_accuracy\n",
      "111/111 [==============================] - 1s 5ms/step - loss: 0.4348 - sparse_categorical_accuracy: 0.8248\n",
      "Epoch 67/200\n",
      "105/111 [===========================>..] - ETA: 0s - loss: 0.4314 - sparse_categorical_accuracy: 0.8201WARNING:tensorflow:Can save best model only with val_loss available, skipping.\n",
      "WARNING:tensorflow:Early stopping conditioned on metric `val_loss` which is not available. Available metrics are: loss,sparse_categorical_accuracy\n",
      "111/111 [==============================] - 1s 5ms/step - loss: 0.4363 - sparse_categorical_accuracy: 0.8178\n",
      "Epoch 68/200\n",
      "102/111 [==========================>...] - ETA: 0s - loss: 0.4139 - sparse_categorical_accuracy: 0.8312WARNING:tensorflow:Can save best model only with val_loss available, skipping.\n",
      "WARNING:tensorflow:Early stopping conditioned on metric `val_loss` which is not available. Available metrics are: loss,sparse_categorical_accuracy\n",
      "111/111 [==============================] - 1s 5ms/step - loss: 0.4094 - sparse_categorical_accuracy: 0.8328\n",
      "Epoch 69/200\n",
      "108/111 [============================>.] - ETA: 0s - loss: 0.4260 - sparse_categorical_accuracy: 0.8302WARNING:tensorflow:Can save best model only with val_loss available, skipping.\n",
      "WARNING:tensorflow:Early stopping conditioned on metric `val_loss` which is not available. Available metrics are: loss,sparse_categorical_accuracy\n",
      "111/111 [==============================] - 1s 5ms/step - loss: 0.4228 - sparse_categorical_accuracy: 0.8298\n",
      "Epoch 70/200\n",
      "107/111 [===========================>..] - ETA: 0s - loss: 0.4477 - sparse_categorical_accuracy: 0.8141WARNING:tensorflow:Can save best model only with val_loss available, skipping.\n",
      "WARNING:tensorflow:Early stopping conditioned on metric `val_loss` which is not available. Available metrics are: loss,sparse_categorical_accuracy\n",
      "111/111 [==============================] - 1s 5ms/step - loss: 0.4477 - sparse_categorical_accuracy: 0.8118\n",
      "Epoch 71/200\n",
      "102/111 [==========================>...] - ETA: 0s - loss: 0.4241 - sparse_categorical_accuracy: 0.8224WARNING:tensorflow:Can save best model only with val_loss available, skipping.\n",
      "WARNING:tensorflow:Early stopping conditioned on metric `val_loss` which is not available. Available metrics are: loss,sparse_categorical_accuracy\n",
      "111/111 [==============================] - 1s 5ms/step - loss: 0.4216 - sparse_categorical_accuracy: 0.8258\n",
      "Epoch 72/200\n",
      "110/111 [============================>.] - ETA: 0s - loss: 0.4418 - sparse_categorical_accuracy: 0.8192WARNING:tensorflow:Can save best model only with val_loss available, skipping.\n",
      "WARNING:tensorflow:Early stopping conditioned on metric `val_loss` which is not available. Available metrics are: loss,sparse_categorical_accuracy\n",
      "111/111 [==============================] - 1s 6ms/step - loss: 0.4399 - sparse_categorical_accuracy: 0.8188\n",
      "Epoch 73/200\n",
      "111/111 [==============================] - ETA: 0s - loss: 0.4138 - sparse_categorical_accuracy: 0.8388WARNING:tensorflow:Can save best model only with val_loss available, skipping.\n",
      "WARNING:tensorflow:Early stopping conditioned on metric `val_loss` which is not available. Available metrics are: loss,sparse_categorical_accuracy\n",
      "111/111 [==============================] - 1s 5ms/step - loss: 0.4138 - sparse_categorical_accuracy: 0.8388\n",
      "Epoch 74/200\n",
      "105/111 [===========================>..] - ETA: 0s - loss: 0.4497 - sparse_categorical_accuracy: 0.8190WARNING:tensorflow:Can save best model only with val_loss available, skipping.\n",
      "WARNING:tensorflow:Early stopping conditioned on metric `val_loss` which is not available. Available metrics are: loss,sparse_categorical_accuracy\n",
      "111/111 [==============================] - 1s 5ms/step - loss: 0.4534 - sparse_categorical_accuracy: 0.8188\n",
      "Epoch 75/200\n",
      "107/111 [===========================>..] - ETA: 0s - loss: 0.4187 - sparse_categorical_accuracy: 0.8235WARNING:tensorflow:Can save best model only with val_loss available, skipping.\n",
      "WARNING:tensorflow:Early stopping conditioned on metric `val_loss` which is not available. Available metrics are: loss,sparse_categorical_accuracy\n",
      "111/111 [==============================] - 1s 5ms/step - loss: 0.4187 - sparse_categorical_accuracy: 0.8238\n",
      "Epoch 76/200\n",
      "102/111 [==========================>...] - ETA: 0s - loss: 0.4506 - sparse_categorical_accuracy: 0.8137WARNING:tensorflow:Can save best model only with val_loss available, skipping.\n",
      "WARNING:tensorflow:Early stopping conditioned on metric `val_loss` which is not available. Available metrics are: loss,sparse_categorical_accuracy\n",
      "111/111 [==============================] - 1s 5ms/step - loss: 0.4456 - sparse_categorical_accuracy: 0.8168\n",
      "Epoch 77/200\n",
      "108/111 [============================>.] - ETA: 0s - loss: 0.3987 - sparse_categorical_accuracy: 0.8344WARNING:tensorflow:Can save best model only with val_loss available, skipping.\n",
      "WARNING:tensorflow:Early stopping conditioned on metric `val_loss` which is not available. Available metrics are: loss,sparse_categorical_accuracy\n",
      "111/111 [==============================] - 1s 5ms/step - loss: 0.4056 - sparse_categorical_accuracy: 0.8328\n",
      "Epoch 78/200\n",
      "103/111 [==========================>...] - ETA: 0s - loss: 0.4268 - sparse_categorical_accuracy: 0.8371WARNING:tensorflow:Can save best model only with val_loss available, skipping.\n",
      "WARNING:tensorflow:Early stopping conditioned on metric `val_loss` which is not available. Available metrics are: loss,sparse_categorical_accuracy\n",
      "111/111 [==============================] - 1s 5ms/step - loss: 0.4598 - sparse_categorical_accuracy: 0.8348\n",
      "Epoch 79/200\n",
      "108/111 [============================>.] - ETA: 0s - loss: 0.4344 - sparse_categorical_accuracy: 0.8076WARNING:tensorflow:Can save best model only with val_loss available, skipping.\n",
      "WARNING:tensorflow:Early stopping conditioned on metric `val_loss` which is not available. Available metrics are: loss,sparse_categorical_accuracy\n",
      "111/111 [==============================] - 1s 5ms/step - loss: 0.4336 - sparse_categorical_accuracy: 0.8058\n",
      "Epoch 80/200\n",
      "104/111 [===========================>..] - ETA: 0s - loss: 0.4372 - sparse_categorical_accuracy: 0.8269WARNING:tensorflow:Can save best model only with val_loss available, skipping.\n",
      "WARNING:tensorflow:Early stopping conditioned on metric `val_loss` which is not available. Available metrics are: loss,sparse_categorical_accuracy\n",
      "111/111 [==============================] - 1s 5ms/step - loss: 0.4281 - sparse_categorical_accuracy: 0.8298\n",
      "Epoch 81/200\n",
      "103/111 [==========================>...] - ETA: 0s - loss: 0.4550 - sparse_categorical_accuracy: 0.8112- ETA: 0s - loss: 0.5188 - sparse_categorical_accuracyWARNING:tensorflow:Can save best model only with val_loss available, skipping.\n",
      "WARNING:tensorflow:Early stopping conditioned on metric `val_loss` which is not available. Available metrics are: loss,sparse_categorical_accuracy\n",
      "111/111 [==============================] - 1s 5ms/step - loss: 0.4515 - sparse_categorical_accuracy: 0.8078\n",
      "Epoch 82/200\n",
      "107/111 [===========================>..] - ETA: 0s - loss: 0.4274 - sparse_categorical_accuracy: 0.8235WARNING:tensorflow:Can save best model only with val_loss available, skipping.\n",
      "WARNING:tensorflow:Early stopping conditioned on metric `val_loss` which is not available. Available metrics are: loss,sparse_categorical_accuracy\n",
      "111/111 [==============================] - 1s 5ms/step - loss: 0.4260 - sparse_categorical_accuracy: 0.8228\n",
      "Epoch 83/200\n",
      "105/111 [===========================>..] - ETA: 0s - loss: 0.4539 - sparse_categorical_accuracy: 0.8063WARNING:tensorflow:Can save best model only with val_loss available, skipping.\n",
      "WARNING:tensorflow:Early stopping conditioned on metric `val_loss` which is not available. Available metrics are: loss,sparse_categorical_accuracy\n",
      "111/111 [==============================] - 1s 5ms/step - loss: 0.4487 - sparse_categorical_accuracy: 0.8088\n",
      "Epoch 84/200\n",
      "106/111 [===========================>..] - ETA: 0s - loss: 0.4204 - sparse_categorical_accuracy: 0.8249WARNING:tensorflow:Can save best model only with val_loss available, skipping.\n",
      "WARNING:tensorflow:Early stopping conditioned on metric `val_loss` which is not available. Available metrics are: loss,sparse_categorical_accuracy\n",
      "111/111 [==============================] - 1s 5ms/step - loss: 0.4146 - sparse_categorical_accuracy: 0.8268\n",
      "Epoch 85/200\n",
      "104/111 [===========================>..] - ETA: 0s - loss: 0.4644 - sparse_categorical_accuracy: 0.8216WARNING:tensorflow:Can save best model only with val_loss available, skipping.\n",
      "WARNING:tensorflow:Early stopping conditioned on metric `val_loss` which is not available. Available metrics are: loss,sparse_categorical_accuracy\n",
      "111/111 [==============================] - 1s 5ms/step - loss: 0.4635 - sparse_categorical_accuracy: 0.8198\n",
      "Epoch 86/200\n",
      "107/111 [===========================>..] - ETA: 0s - loss: 0.4098 - sparse_categorical_accuracy: 0.8276WARNING:tensorflow:Can save best model only with val_loss available, skipping.\n",
      "WARNING:tensorflow:Early stopping conditioned on metric `val_loss` which is not available. Available metrics are: loss,sparse_categorical_accuracy\n",
      "111/111 [==============================] - 1s 6ms/step - loss: 0.4059 - sparse_categorical_accuracy: 0.8298\n",
      "Epoch 87/200\n",
      "104/111 [===========================>..] - ETA: 0s - loss: 0.4491 - sparse_categorical_accuracy: 0.8141WARNING:tensorflow:Can save best model only with val_loss available, skipping.\n",
      "WARNING:tensorflow:Early stopping conditioned on metric `val_loss` which is not available. Available metrics are: loss,sparse_categorical_accuracy\n",
      "111/111 [==============================] - 1s 6ms/step - loss: 0.4450 - sparse_categorical_accuracy: 0.8128\n",
      "Epoch 88/200\n",
      "107/111 [===========================>..] - ETA: 0s - loss: 0.4181 - sparse_categorical_accuracy: 0.8422WARNING:tensorflow:Can save best model only with val_loss available, skipping.\n",
      "WARNING:tensorflow:Early stopping conditioned on metric `val_loss` which is not available. Available metrics are: loss,sparse_categorical_accuracy\n",
      "111/111 [==============================] - 1s 5ms/step - loss: 0.4232 - sparse_categorical_accuracy: 0.8378\n",
      "Epoch 89/200\n",
      "104/111 [===========================>..] - ETA: 0s - loss: 0.4562 - sparse_categorical_accuracy: 0.8077WARNING:tensorflow:Can save best model only with val_loss available, skipping.\n",
      "WARNING:tensorflow:Early stopping conditioned on metric `val_loss` which is not available. Available metrics are: loss,sparse_categorical_accuracy\n",
      "111/111 [==============================] - 1s 5ms/step - loss: 0.4577 - sparse_categorical_accuracy: 0.8038\n",
      "Epoch 90/200\n",
      "107/111 [===========================>..] - ETA: 0s - loss: 0.4309 - sparse_categorical_accuracy: 0.8276WARNING:tensorflow:Can save best model only with val_loss available, skipping.\n",
      "WARNING:tensorflow:Early stopping conditioned on metric `val_loss` which is not available. Available metrics are: loss,sparse_categorical_accuracy\n",
      "111/111 [==============================] - 1s 5ms/step - loss: 0.4258 - sparse_categorical_accuracy: 0.8298\n",
      "Epoch 91/200\n",
      "104/111 [===========================>..] - ETA: 0s - loss: 0.4355 - sparse_categorical_accuracy: 0.8259WARNING:tensorflow:Can save best model only with val_loss available, skipping.\n",
      "WARNING:tensorflow:Early stopping conditioned on metric `val_loss` which is not available. Available metrics are: loss,sparse_categorical_accuracy\n",
      "111/111 [==============================] - 1s 5ms/step - loss: 0.4474 - sparse_categorical_accuracy: 0.8238\n",
      "Epoch 92/200\n",
      "108/111 [============================>.] - ETA: 0s - loss: 0.4349 - sparse_categorical_accuracy: 0.8138WARNING:tensorflow:Can save best model only with val_loss available, skipping.\n",
      "WARNING:tensorflow:Early stopping conditioned on metric `val_loss` which is not available. Available metrics are: loss,sparse_categorical_accuracy\n",
      "111/111 [==============================] - 1s 5ms/step - loss: 0.4357 - sparse_categorical_accuracy: 0.8128\n",
      "Epoch 93/200\n",
      "101/111 [==========================>...] - ETA: 0s - loss: 0.4309 - sparse_categorical_accuracy: 0.8317WARNING:tensorflow:Can save best model only with val_loss available, skipping.\n",
      "WARNING:tensorflow:Early stopping conditioned on metric `val_loss` which is not available. Available metrics are: loss,sparse_categorical_accuracy\n",
      "111/111 [==============================] - 1s 5ms/step - loss: 0.4171 - sparse_categorical_accuracy: 0.8348\n",
      "Epoch 94/200\n",
      "106/111 [===========================>..] - ETA: 0s - loss: 0.4243 - sparse_categorical_accuracy: 0.8176WARNING:tensorflow:Can save best model only with val_loss available, skipping.\n",
      "WARNING:tensorflow:Early stopping conditioned on metric `val_loss` which is not available. Available metrics are: loss,sparse_categorical_accuracy\n",
      "111/111 [==============================] - 1s 5ms/step - loss: 0.4220 - sparse_categorical_accuracy: 0.8178\n",
      "Epoch 95/200\n",
      "106/111 [===========================>..] - ETA: 0s - loss: 0.4483 - sparse_categorical_accuracy: 0.8166WARNING:tensorflow:Can save best model only with val_loss available, skipping.\n",
      "WARNING:tensorflow:Early stopping conditioned on metric `val_loss` which is not available. Available metrics are: loss,sparse_categorical_accuracy\n",
      "111/111 [==============================] - 1s 5ms/step - loss: 0.4499 - sparse_categorical_accuracy: 0.8158\n",
      "Epoch 96/200\n",
      "111/111 [==============================] - ETA: 0s - loss: 0.4324 - sparse_categorical_accuracy: 0.8288- ETA: 0s - loss: 0.3830 - sparse_categorical_accuracWARNING:tensorflow:Can save best model only with val_loss available, skipping.\n",
      "WARNING:tensorflow:Early stopping conditioned on metric `val_loss` which is not available. Available metrics are: loss,sparse_categorical_accuracy\n",
      "111/111 [==============================] - 1s 5ms/step - loss: 0.4324 - sparse_categorical_accuracy: 0.8288\n",
      "Epoch 97/200\n",
      "106/111 [===========================>..] - ETA: 0s - loss: 0.4282 - sparse_categorical_accuracy: 0.8187WARNING:tensorflow:Can save best model only with val_loss available, skipping.\n",
      "WARNING:tensorflow:Early stopping conditioned on metric `val_loss` which is not available. Available metrics are: loss,sparse_categorical_accuracy\n",
      "111/111 [==============================] - 1s 5ms/step - loss: 0.4510 - sparse_categorical_accuracy: 0.8198\n",
      "Epoch 98/200\n",
      "106/111 [===========================>..] - ETA: 0s - loss: 0.4479 - sparse_categorical_accuracy: 0.8354WARNING:tensorflow:Can save best model only with val_loss available, skipping.\n",
      "WARNING:tensorflow:Early stopping conditioned on metric `val_loss` which is not available. Available metrics are: loss,sparse_categorical_accuracy\n",
      "111/111 [==============================] - 1s 5ms/step - loss: 0.4555 - sparse_categorical_accuracy: 0.8278\n",
      "Epoch 99/200\n",
      "102/111 [==========================>...] - ETA: 0s - loss: 0.4332 - sparse_categorical_accuracy: 0.8333WARNING:tensorflow:Can save best model only with val_loss available, skipping.\n",
      "WARNING:tensorflow:Early stopping conditioned on metric `val_loss` which is not available. Available metrics are: loss,sparse_categorical_accuracy\n",
      "111/111 [==============================] - 1s 5ms/step - loss: 0.4350 - sparse_categorical_accuracy: 0.8308\n",
      "Epoch 100/200\n",
      "109/111 [============================>.] - ETA: 0s - loss: 0.4463 - sparse_categorical_accuracy: 0.8175WARNING:tensorflow:Can save best model only with val_loss available, skipping.\n",
      "WARNING:tensorflow:Early stopping conditioned on metric `val_loss` which is not available. Available metrics are: loss,sparse_categorical_accuracy\n",
      "111/111 [==============================] - 1s 5ms/step - loss: 0.4443 - sparse_categorical_accuracy: 0.8188\n",
      "Epoch 101/200\n",
      "106/111 [===========================>..] - ETA: 0s - loss: 0.4424 - sparse_categorical_accuracy: 0.8197WARNING:tensorflow:Can save best model only with val_loss available, skipping.\n",
      "WARNING:tensorflow:Early stopping conditioned on metric `val_loss` which is not available. Available metrics are: loss,sparse_categorical_accuracy\n",
      "111/111 [==============================] - 1s 6ms/step - loss: 0.4393 - sparse_categorical_accuracy: 0.8218\n",
      "Epoch 102/200\n",
      "102/111 [==========================>...] - ETA: 0s - loss: 0.4438 - sparse_categorical_accuracy: 0.8170WARNING:tensorflow:Can save best model only with val_loss available, skipping.\n",
      "WARNING:tensorflow:Early stopping conditioned on metric `val_loss` which is not available. Available metrics are: loss,sparse_categorical_accuracy\n",
      "111/111 [==============================] - 1s 6ms/step - loss: 0.4409 - sparse_categorical_accuracy: 0.8188\n",
      "Epoch 103/200\n",
      "111/111 [==============================] - ETA: 0s - loss: 0.4350 - sparse_categorical_accuracy: 0.8218WARNING:tensorflow:Can save best model only with val_loss available, skipping.\n",
      "WARNING:tensorflow:Early stopping conditioned on metric `val_loss` which is not available. Available metrics are: loss,sparse_categorical_accuracy\n",
      "111/111 [==============================] - 1s 5ms/step - loss: 0.4350 - sparse_categorical_accuracy: 0.8218\n",
      "Epoch 104/200\n",
      "106/111 [===========================>..] - ETA: 0s - loss: 0.4142 - sparse_categorical_accuracy: 0.8187WARNING:tensorflow:Can save best model only with val_loss available, skipping.\n",
      "WARNING:tensorflow:Early stopping conditioned on metric `val_loss` which is not available. Available metrics are: loss,sparse_categorical_accuracy\n",
      "111/111 [==============================] - 1s 5ms/step - loss: 0.4143 - sparse_categorical_accuracy: 0.8168\n",
      "Epoch 105/200\n",
      "102/111 [==========================>...] - ETA: 0s - loss: 0.4432 - sparse_categorical_accuracy: 0.8333WARNING:tensorflow:Can save best model only with val_loss available, skipping.\n",
      "WARNING:tensorflow:Early stopping conditioned on metric `val_loss` which is not available. Available metrics are: loss,sparse_categorical_accuracy\n",
      "111/111 [==============================] - 1s 5ms/step - loss: 0.4368 - sparse_categorical_accuracy: 0.8318\n",
      "Epoch 106/200\n",
      "103/111 [==========================>...] - ETA: 0s - loss: 0.4656 - sparse_categorical_accuracy: 0.8123WARNING:tensorflow:Can save best model only with val_loss available, skipping.\n",
      "WARNING:tensorflow:Early stopping conditioned on metric `val_loss` which is not available. Available metrics are: loss,sparse_categorical_accuracy\n",
      "111/111 [==============================] - 1s 5ms/step - loss: 0.4595 - sparse_categorical_accuracy: 0.8148\n",
      "Epoch 107/200\n",
      "102/111 [==========================>...] - ETA: 0s - loss: 0.4715 - sparse_categorical_accuracy: 0.8159WARNING:tensorflow:Can save best model only with val_loss available, skipping.\n",
      "WARNING:tensorflow:Early stopping conditioned on metric `val_loss` which is not available. Available metrics are: loss,sparse_categorical_accuracy\n",
      "111/111 [==============================] - 1s 5ms/step - loss: 0.4692 - sparse_categorical_accuracy: 0.8188\n",
      "Epoch 108/200\n",
      "107/111 [===========================>..] - ETA: 0s - loss: 0.4615 - sparse_categorical_accuracy: 0.8162WARNING:tensorflow:Can save best model only with val_loss available, skipping.\n",
      "WARNING:tensorflow:Early stopping conditioned on metric `val_loss` which is not available. Available metrics are: loss,sparse_categorical_accuracy\n",
      "111/111 [==============================] - 1s 5ms/step - loss: 0.4599 - sparse_categorical_accuracy: 0.8148\n",
      "Epoch 109/200\n",
      "103/111 [==========================>...] - ETA: 0s - loss: 0.4416 - sparse_categorical_accuracy: 0.8166WARNING:tensorflow:Can save best model only with val_loss available, skipping.\n",
      "WARNING:tensorflow:Early stopping conditioned on metric `val_loss` which is not available. Available metrics are: loss,sparse_categorical_accuracy\n",
      "111/111 [==============================] - 1s 5ms/step - loss: 0.4335 - sparse_categorical_accuracy: 0.8198\n",
      "Epoch 110/200\n",
      "108/111 [============================>.] - ETA: 0s - loss: 0.4214 - sparse_categorical_accuracy: 0.8292WARNING:tensorflow:Can save best model only with val_loss available, skipping.\n",
      "WARNING:tensorflow:Early stopping conditioned on metric `val_loss` which is not available. Available metrics are: loss,sparse_categorical_accuracy\n",
      "111/111 [==============================] - 1s 5ms/step - loss: 0.4226 - sparse_categorical_accuracy: 0.8288\n",
      "Epoch 111/200\n",
      "106/111 [===========================>..] - ETA: 0s - loss: 0.4248 - sparse_categorical_accuracy: 0.8302WARNING:tensorflow:Can save best model only with val_loss available, skipping.\n",
      "WARNING:tensorflow:Early stopping conditioned on metric `val_loss` which is not available. Available metrics are: loss,sparse_categorical_accuracy\n",
      "111/111 [==============================] - 1s 5ms/step - loss: 0.4334 - sparse_categorical_accuracy: 0.8278\n",
      "Epoch 112/200\n",
      "105/111 [===========================>..] - ETA: 0s - loss: 0.4017 - sparse_categorical_accuracy: 0.8307WARNING:tensorflow:Can save best model only with val_loss available, skipping.\n",
      "WARNING:tensorflow:Early stopping conditioned on metric `val_loss` which is not available. Available metrics are: loss,sparse_categorical_accuracy\n",
      "111/111 [==============================] - 1s 5ms/step - loss: 0.4118 - sparse_categorical_accuracy: 0.8278\n",
      "Epoch 113/200\n",
      "109/111 [============================>.] - ETA: 0s - loss: 0.4407 - sparse_categorical_accuracy: 0.8257WARNING:tensorflow:Can save best model only with val_loss available, skipping.\n",
      "WARNING:tensorflow:Early stopping conditioned on metric `val_loss` which is not available. Available metrics are: loss,sparse_categorical_accuracy\n",
      "111/111 [==============================] - 1s 5ms/step - loss: 0.4407 - sparse_categorical_accuracy: 0.8248\n",
      "Epoch 114/200\n",
      "107/111 [===========================>..] - ETA: 0s - loss: 0.4194 - sparse_categorical_accuracy: 0.8245WARNING:tensorflow:Can save best model only with val_loss available, skipping.\n",
      "WARNING:tensorflow:Early stopping conditioned on metric `val_loss` which is not available. Available metrics are: loss,sparse_categorical_accuracy\n",
      "111/111 [==============================] - 1s 5ms/step - loss: 0.4212 - sparse_categorical_accuracy: 0.8218\n",
      "Epoch 115/200\n",
      "105/111 [===========================>..] - ETA: 0s - loss: 0.4374 - sparse_categorical_accuracy: 0.8169WARNING:tensorflow:Can save best model only with val_loss available, skipping.\n",
      "WARNING:tensorflow:Early stopping conditioned on metric `val_loss` which is not available. Available metrics are: loss,sparse_categorical_accuracy\n",
      "111/111 [==============================] - 1s 5ms/step - loss: 0.4317 - sparse_categorical_accuracy: 0.8178\n",
      "Epoch 116/200\n",
      "102/111 [==========================>...] - ETA: 0s - loss: 0.4335 - sparse_categorical_accuracy: 0.8039WARNING:tensorflow:Can save best model only with val_loss available, skipping.\n",
      "WARNING:tensorflow:Early stopping conditioned on metric `val_loss` which is not available. Available metrics are: loss,sparse_categorical_accuracy\n",
      "111/111 [==============================] - 1s 5ms/step - loss: 0.4371 - sparse_categorical_accuracy: 0.8018\n",
      "Epoch 117/200\n",
      "109/111 [============================>.] - ETA: 0s - loss: 0.4051 - sparse_categorical_accuracy: 0.8338WARNING:tensorflow:Can save best model only with val_loss available, skipping.\n",
      "WARNING:tensorflow:Early stopping conditioned on metric `val_loss` which is not available. Available metrics are: loss,sparse_categorical_accuracy\n",
      "111/111 [==============================] - 1s 5ms/step - loss: 0.4044 - sparse_categorical_accuracy: 0.8338\n",
      "Epoch 118/200\n",
      "109/111 [============================>.] - ETA: 0s - loss: 0.4393 - sparse_categorical_accuracy: 0.8114WARNING:tensorflow:Can save best model only with val_loss available, skipping.\n",
      "WARNING:tensorflow:Early stopping conditioned on metric `val_loss` which is not available. Available metrics are: loss,sparse_categorical_accuracy\n",
      "111/111 [==============================] - 1s 7ms/step - loss: 0.4367 - sparse_categorical_accuracy: 0.8118\n",
      "Epoch 119/200\n",
      "108/111 [============================>.] - ETA: 0s - loss: 0.4333 - sparse_categorical_accuracy: 0.8354WARNING:tensorflow:Can save best model only with val_loss available, skipping.\n",
      "WARNING:tensorflow:Early stopping conditioned on metric `val_loss` which is not available. Available metrics are: loss,sparse_categorical_accuracy\n",
      "111/111 [==============================] - 1s 5ms/step - loss: 0.4339 - sparse_categorical_accuracy: 0.8358\n",
      "Epoch 120/200\n",
      "110/111 [============================>.] - ETA: 0s - loss: 0.4236 - sparse_categorical_accuracy: 0.8141WARNING:tensorflow:Can save best model only with val_loss available, skipping.\n",
      "WARNING:tensorflow:Early stopping conditioned on metric `val_loss` which is not available. Available metrics are: loss,sparse_categorical_accuracy\n",
      "111/111 [==============================] - 1s 5ms/step - loss: 0.4217 - sparse_categorical_accuracy: 0.8158\n",
      "Epoch 121/200\n",
      "108/111 [============================>.] - ETA: 0s - loss: 0.4275 - sparse_categorical_accuracy: 0.8179WARNING:tensorflow:Can save best model only with val_loss available, skipping.\n",
      "WARNING:tensorflow:Early stopping conditioned on metric `val_loss` which is not available. Available metrics are: loss,sparse_categorical_accuracy\n",
      "111/111 [==============================] - 1s 6ms/step - loss: 0.4280 - sparse_categorical_accuracy: 0.8188\n",
      "Epoch 122/200\n",
      "110/111 [============================>.] - ETA: 0s - loss: 0.4338 - sparse_categorical_accuracy: 0.8222WARNING:tensorflow:Can save best model only with val_loss available, skipping.\n",
      "WARNING:tensorflow:Early stopping conditioned on metric `val_loss` which is not available. Available metrics are: loss,sparse_categorical_accuracy\n",
      "111/111 [==============================] - 1s 5ms/step - loss: 0.4322 - sparse_categorical_accuracy: 0.8238\n",
      "Epoch 123/200\n",
      "104/111 [===========================>..] - ETA: 0s - loss: 0.4222 - sparse_categorical_accuracy: 0.8216WARNING:tensorflow:Can save best model only with val_loss available, skipping.\n",
      "WARNING:tensorflow:Early stopping conditioned on metric `val_loss` which is not available. Available metrics are: loss,sparse_categorical_accuracy\n",
      "111/111 [==============================] - 1s 5ms/step - loss: 0.4266 - sparse_categorical_accuracy: 0.8168\n",
      "Epoch 124/200\n",
      "106/111 [===========================>..] - ETA: 0s - loss: 0.4536 - sparse_categorical_accuracy: 0.8323WARNING:tensorflow:Can save best model only with val_loss available, skipping.\n",
      "WARNING:tensorflow:Early stopping conditioned on metric `val_loss` which is not available. Available metrics are: loss,sparse_categorical_accuracy\n",
      "111/111 [==============================] - 1s 5ms/step - loss: 0.4552 - sparse_categorical_accuracy: 0.8318\n",
      "Epoch 125/200\n",
      "109/111 [============================>.] - ETA: 0s - loss: 0.4561 - sparse_categorical_accuracy: 0.8186WARNING:tensorflow:Can save best model only with val_loss available, skipping.\n",
      "WARNING:tensorflow:Early stopping conditioned on metric `val_loss` which is not available. Available metrics are: loss,sparse_categorical_accuracy\n",
      "111/111 [==============================] - 1s 5ms/step - loss: 0.4565 - sparse_categorical_accuracy: 0.8158\n",
      "Epoch 126/200\n",
      "111/111 [==============================] - ETA: 0s - loss: 0.4210 - sparse_categorical_accuracy: 0.8148WARNING:tensorflow:Can save best model only with val_loss available, skipping.\n",
      "WARNING:tensorflow:Early stopping conditioned on metric `val_loss` which is not available. Available metrics are: loss,sparse_categorical_accuracy\n",
      "111/111 [==============================] - 1s 5ms/step - loss: 0.4210 - sparse_categorical_accuracy: 0.8148\n",
      "Epoch 127/200\n",
      "103/111 [==========================>...] - ETA: 0s - loss: 0.4360 - sparse_categorical_accuracy: 0.8134WARNING:tensorflow:Can save best model only with val_loss available, skipping.\n",
      "WARNING:tensorflow:Early stopping conditioned on metric `val_loss` which is not available. Available metrics are: loss,sparse_categorical_accuracy\n",
      "111/111 [==============================] - 1s 5ms/step - loss: 0.4387 - sparse_categorical_accuracy: 0.8138\n",
      "Epoch 128/200\n",
      "106/111 [===========================>..] - ETA: 0s - loss: 0.4528 - sparse_categorical_accuracy: 0.8218WARNING:tensorflow:Can save best model only with val_loss available, skipping.\n",
      "WARNING:tensorflow:Early stopping conditioned on metric `val_loss` which is not available. Available metrics are: loss,sparse_categorical_accuracy\n",
      "111/111 [==============================] - 1s 5ms/step - loss: 0.4543 - sparse_categorical_accuracy: 0.8198\n",
      "Epoch 129/200\n",
      "101/111 [==========================>...] - ETA: 0s - loss: 0.4589 - sparse_categorical_accuracy: 0.7899WARNING:tensorflow:Can save best model only with val_loss available, skipping.\n",
      "WARNING:tensorflow:Early stopping conditioned on metric `val_loss` which is not available. Available metrics are: loss,sparse_categorical_accuracy\n",
      "111/111 [==============================] - 1s 5ms/step - loss: 0.4561 - sparse_categorical_accuracy: 0.7968\n",
      "Epoch 130/200\n",
      "109/111 [============================>.] - ETA: 0s - loss: 0.4894 - sparse_categorical_accuracy: 0.8094WARNING:tensorflow:Can save best model only with val_loss available, skipping.\n",
      "WARNING:tensorflow:Early stopping conditioned on metric `val_loss` which is not available. Available metrics are: loss,sparse_categorical_accuracy\n",
      "111/111 [==============================] - 1s 5ms/step - loss: 0.4864 - sparse_categorical_accuracy: 0.8088\n",
      "Epoch 131/200\n",
      "111/111 [==============================] - ETA: 0s - loss: 0.4547 - sparse_categorical_accuracy: 0.8228WARNING:tensorflow:Can save best model only with val_loss available, skipping.\n",
      "WARNING:tensorflow:Early stopping conditioned on metric `val_loss` which is not available. Available metrics are: loss,sparse_categorical_accuracy\n",
      "111/111 [==============================] - 1s 5ms/step - loss: 0.4547 - sparse_categorical_accuracy: 0.8228\n",
      "Epoch 132/200\n",
      "103/111 [==========================>...] - ETA: 0s - loss: 0.4294 - sparse_categorical_accuracy: 0.8112WARNING:tensorflow:Can save best model only with val_loss available, skipping.\n",
      "WARNING:tensorflow:Early stopping conditioned on metric `val_loss` which is not available. Available metrics are: loss,sparse_categorical_accuracy\n",
      "111/111 [==============================] - 1s 5ms/step - loss: 0.4243 - sparse_categorical_accuracy: 0.8148\n",
      "Epoch 133/200\n",
      "104/111 [===========================>..] - ETA: 0s - loss: 0.4392 - sparse_categorical_accuracy: 0.8205WARNING:tensorflow:Can save best model only with val_loss available, skipping.\n",
      "WARNING:tensorflow:Early stopping conditioned on metric `val_loss` which is not available. Available metrics are: loss,sparse_categorical_accuracy\n",
      "111/111 [==============================] - 1s 6ms/step - loss: 0.4334 - sparse_categorical_accuracy: 0.8228\n",
      "Epoch 134/200\n",
      "104/111 [===========================>..] - ETA: 0s - loss: 0.4285 - sparse_categorical_accuracy: 0.8291WARNING:tensorflow:Can save best model only with val_loss available, skipping.\n",
      "WARNING:tensorflow:Early stopping conditioned on metric `val_loss` which is not available. Available metrics are: loss,sparse_categorical_accuracy\n",
      "111/111 [==============================] - 1s 5ms/step - loss: 0.4383 - sparse_categorical_accuracy: 0.8258\n",
      "Epoch 135/200\n",
      "106/111 [===========================>..] - ETA: 0s - loss: 0.4668 - sparse_categorical_accuracy: 0.8176WARNING:tensorflow:Can save best model only with val_loss available, skipping.\n",
      "WARNING:tensorflow:Early stopping conditioned on metric `val_loss` which is not available. Available metrics are: loss,sparse_categorical_accuracy\n",
      "111/111 [==============================] - 1s 5ms/step - loss: 0.4694 - sparse_categorical_accuracy: 0.8158\n",
      "Epoch 136/200\n",
      "101/111 [==========================>...] - ETA: 0s - loss: 0.4387 - sparse_categorical_accuracy: 0.8174WARNING:tensorflow:Can save best model only with val_loss available, skipping.\n",
      "WARNING:tensorflow:Early stopping conditioned on metric `val_loss` which is not available. Available metrics are: loss,sparse_categorical_accuracy\n",
      "111/111 [==============================] - 1s 5ms/step - loss: 0.4366 - sparse_categorical_accuracy: 0.8208\n",
      "Epoch 137/200\n",
      "108/111 [============================>.] - ETA: 0s - loss: 0.4899 - sparse_categorical_accuracy: 0.8056WARNING:tensorflow:Can save best model only with val_loss available, skipping.\n",
      "WARNING:tensorflow:Early stopping conditioned on metric `val_loss` which is not available. Available metrics are: loss,sparse_categorical_accuracy\n",
      "111/111 [==============================] - 1s 5ms/step - loss: 0.4880 - sparse_categorical_accuracy: 0.8068\n",
      "Epoch 138/200\n",
      "107/111 [===========================>..] - ETA: 0s - loss: 0.4033 - sparse_categorical_accuracy: 0.8339WARNING:tensorflow:Can save best model only with val_loss available, skipping.\n",
      "WARNING:tensorflow:Early stopping conditioned on metric `val_loss` which is not available. Available metrics are: loss,sparse_categorical_accuracy\n",
      "111/111 [==============================] - 1s 5ms/step - loss: 0.4018 - sparse_categorical_accuracy: 0.8348\n",
      "Epoch 139/200\n",
      "102/111 [==========================>...] - ETA: 0s - loss: 0.4531 - sparse_categorical_accuracy: 0.8094WARNING:tensorflow:Can save best model only with val_loss available, skipping.\n",
      "WARNING:tensorflow:Early stopping conditioned on metric `val_loss` which is not available. Available metrics are: loss,sparse_categorical_accuracy\n",
      "111/111 [==============================] - 1s 5ms/step - loss: 0.4491 - sparse_categorical_accuracy: 0.8118\n",
      "Epoch 140/200\n",
      "101/111 [==========================>...] - ETA: 0s - loss: 0.4891 - sparse_categorical_accuracy: 0.8196WARNING:tensorflow:Can save best model only with val_loss available, skipping.\n",
      "WARNING:tensorflow:Early stopping conditioned on metric `val_loss` which is not available. Available metrics are: loss,sparse_categorical_accuracy\n",
      "111/111 [==============================] - 1s 5ms/step - loss: 0.4811 - sparse_categorical_accuracy: 0.8178\n",
      "Epoch 141/200\n",
      "107/111 [===========================>..] - ETA: 0s - loss: 0.4374 - sparse_categorical_accuracy: 0.8172WARNING:tensorflow:Can save best model only with val_loss available, skipping.\n",
      "WARNING:tensorflow:Early stopping conditioned on metric `val_loss` which is not available. Available metrics are: loss,sparse_categorical_accuracy\n",
      "111/111 [==============================] - 1s 5ms/step - loss: 0.4349 - sparse_categorical_accuracy: 0.8158\n",
      "Epoch 142/200\n",
      "103/111 [==========================>...] - ETA: 0s - loss: 0.4214 - sparse_categorical_accuracy: 0.8198WARNING:tensorflow:Can save best model only with val_loss available, skipping.\n",
      "WARNING:tensorflow:Early stopping conditioned on metric `val_loss` which is not available. Available metrics are: loss,sparse_categorical_accuracy\n",
      "111/111 [==============================] - 1s 5ms/step - loss: 0.4148 - sparse_categorical_accuracy: 0.8248\n",
      "Epoch 143/200\n",
      "106/111 [===========================>..] - ETA: 0s - loss: 0.4504 - sparse_categorical_accuracy: 0.8176WARNING:tensorflow:Can save best model only with val_loss available, skipping.\n",
      "WARNING:tensorflow:Early stopping conditioned on metric `val_loss` which is not available. Available metrics are: loss,sparse_categorical_accuracy\n",
      "111/111 [==============================] - 1s 5ms/step - loss: 0.4471 - sparse_categorical_accuracy: 0.8198\n",
      "Epoch 144/200\n",
      "110/111 [============================>.] - ETA: 0s - loss: 0.4426 - sparse_categorical_accuracy: 0.8121WARNING:tensorflow:Can save best model only with val_loss available, skipping.\n",
      "WARNING:tensorflow:Early stopping conditioned on metric `val_loss` which is not available. Available metrics are: loss,sparse_categorical_accuracy\n",
      "111/111 [==============================] - 1s 5ms/step - loss: 0.4423 - sparse_categorical_accuracy: 0.8118\n",
      "Epoch 145/200\n",
      "105/111 [===========================>..] - ETA: 0s - loss: 0.4337 - sparse_categorical_accuracy: 0.8317WARNING:tensorflow:Can save best model only with val_loss available, skipping.\n",
      "WARNING:tensorflow:Early stopping conditioned on metric `val_loss` which is not available. Available metrics are: loss,sparse_categorical_accuracy\n",
      "111/111 [==============================] - 1s 5ms/step - loss: 0.4337 - sparse_categorical_accuracy: 0.8288\n",
      "Epoch 146/200\n",
      "102/111 [==========================>...] - ETA: 0s - loss: 0.4158 - sparse_categorical_accuracy: 0.8235WARNING:tensorflow:Can save best model only with val_loss available, skipping.\n",
      "WARNING:tensorflow:Early stopping conditioned on metric `val_loss` which is not available. Available metrics are: loss,sparse_categorical_accuracy\n",
      "111/111 [==============================] - 1s 5ms/step - loss: 0.4261 - sparse_categorical_accuracy: 0.8158\n",
      "Epoch 147/200\n",
      "110/111 [============================>.] - ETA: 0s - loss: 0.4243 - sparse_categorical_accuracy: 0.8273WARNING:tensorflow:Can save best model only with val_loss available, skipping.\n",
      "WARNING:tensorflow:Early stopping conditioned on metric `val_loss` which is not available. Available metrics are: loss,sparse_categorical_accuracy\n",
      "111/111 [==============================] - 1s 6ms/step - loss: 0.4240 - sparse_categorical_accuracy: 0.8268\n",
      "Epoch 148/200\n",
      "101/111 [==========================>...] - ETA: 0s - loss: 0.4602 - sparse_categorical_accuracy: 0.8207WARNING:tensorflow:Can save best model only with val_loss available, skipping.\n",
      "WARNING:tensorflow:Early stopping conditioned on metric `val_loss` which is not available. Available metrics are: loss,sparse_categorical_accuracy\n",
      "111/111 [==============================] - 1s 5ms/step - loss: 0.4559 - sparse_categorical_accuracy: 0.8208\n",
      "Epoch 149/200\n",
      "109/111 [============================>.] - ETA: 0s - loss: 0.4168 - sparse_categorical_accuracy: 0.8257WARNING:tensorflow:Can save best model only with val_loss available, skipping.\n",
      "WARNING:tensorflow:Early stopping conditioned on metric `val_loss` which is not available. Available metrics are: loss,sparse_categorical_accuracy\n",
      "111/111 [==============================] - 1s 5ms/step - loss: 0.4144 - sparse_categorical_accuracy: 0.8268\n",
      "Epoch 150/200\n",
      "103/111 [==========================>...] - ETA: 0s - loss: 0.4527 - sparse_categorical_accuracy: 0.8134WARNING:tensorflow:Can save best model only with val_loss available, skipping.\n",
      "WARNING:tensorflow:Early stopping conditioned on metric `val_loss` which is not available. Available metrics are: loss,sparse_categorical_accuracy\n",
      "111/111 [==============================] - 1s 5ms/step - loss: 0.4577 - sparse_categorical_accuracy: 0.8098\n",
      "Epoch 151/200\n",
      "104/111 [===========================>..] - ETA: 0s - loss: 0.4133 - sparse_categorical_accuracy: 0.8259WARNING:tensorflow:Can save best model only with val_loss available, skipping.\n",
      "WARNING:tensorflow:Early stopping conditioned on metric `val_loss` which is not available. Available metrics are: loss,sparse_categorical_accuracy\n",
      "111/111 [==============================] - 1s 5ms/step - loss: 0.4183 - sparse_categorical_accuracy: 0.8198\n",
      "Epoch 152/200\n",
      "105/111 [===========================>..] - ETA: 0s - loss: 0.4290 - sparse_categorical_accuracy: 0.8222WARNING:tensorflow:Can save best model only with val_loss available, skipping.\n",
      "WARNING:tensorflow:Early stopping conditioned on metric `val_loss` which is not available. Available metrics are: loss,sparse_categorical_accuracy\n",
      "111/111 [==============================] - 1s 5ms/step - loss: 0.4273 - sparse_categorical_accuracy: 0.8198\n",
      "Epoch 153/200\n",
      "104/111 [===========================>..] - ETA: 0s - loss: 0.4342 - sparse_categorical_accuracy: 0.8194WARNING:tensorflow:Can save best model only with val_loss available, skipping.\n",
      "WARNING:tensorflow:Early stopping conditioned on metric `val_loss` which is not available. Available metrics are: loss,sparse_categorical_accuracy\n",
      "111/111 [==============================] - 1s 5ms/step - loss: 0.4229 - sparse_categorical_accuracy: 0.8278\n",
      "Epoch 154/200\n",
      "104/111 [===========================>..] - ETA: 0s - loss: 0.4358 - sparse_categorical_accuracy: 0.8056WARNING:tensorflow:Can save best model only with val_loss available, skipping.\n",
      "WARNING:tensorflow:Early stopping conditioned on metric `val_loss` which is not available. Available metrics are: loss,sparse_categorical_accuracy\n",
      "111/111 [==============================] - 1s 5ms/step - loss: 0.4334 - sparse_categorical_accuracy: 0.8068\n",
      "Epoch 155/200\n",
      "103/111 [==========================>...] - ETA: 0s - loss: 0.3891 - sparse_categorical_accuracy: 0.8360WARNING:tensorflow:Can save best model only with val_loss available, skipping.\n",
      "WARNING:tensorflow:Early stopping conditioned on metric `val_loss` which is not available. Available metrics are: loss,sparse_categorical_accuracy\n",
      "111/111 [==============================] - 1s 5ms/step - loss: 0.4073 - sparse_categorical_accuracy: 0.8338\n",
      "Epoch 156/200\n",
      "108/111 [============================>.] - ETA: 0s - loss: 0.4436 - sparse_categorical_accuracy: 0.8128WARNING:tensorflow:Can save best model only with val_loss available, skipping.\n",
      "WARNING:tensorflow:Early stopping conditioned on metric `val_loss` which is not available. Available metrics are: loss,sparse_categorical_accuracy\n",
      "111/111 [==============================] - 1s 5ms/step - loss: 0.4456 - sparse_categorical_accuracy: 0.8098\n",
      "Epoch 157/200\n",
      "102/111 [==========================>...] - ETA: 0s - loss: 0.4358 - sparse_categorical_accuracy: 0.8214WARNING:tensorflow:Can save best model only with val_loss available, skipping.\n",
      "WARNING:tensorflow:Early stopping conditioned on metric `val_loss` which is not available. Available metrics are: loss,sparse_categorical_accuracy\n",
      "111/111 [==============================] - 1s 5ms/step - loss: 0.4364 - sparse_categorical_accuracy: 0.8188\n",
      "Epoch 158/200\n",
      "107/111 [===========================>..] - ETA: 0s - loss: 0.4921 - sparse_categorical_accuracy: 0.8193WARNING:tensorflow:Can save best model only with val_loss available, skipping.\n",
      "WARNING:tensorflow:Early stopping conditioned on metric `val_loss` which is not available. Available metrics are: loss,sparse_categorical_accuracy\n",
      "111/111 [==============================] - 1s 6ms/step - loss: 0.4865 - sparse_categorical_accuracy: 0.8198\n",
      "Epoch 159/200\n",
      "103/111 [==========================>...] - ETA: 0s - loss: 0.4398 - sparse_categorical_accuracy: 0.8274WARNING:tensorflow:Can save best model only with val_loss available, skipping.\n",
      "WARNING:tensorflow:Early stopping conditioned on metric `val_loss` which is not available. Available metrics are: loss,sparse_categorical_accuracy\n",
      "111/111 [==============================] - 1s 6ms/step - loss: 0.4282 - sparse_categorical_accuracy: 0.8318\n",
      "Epoch 160/200\n",
      "104/111 [===========================>..] - ETA: 0s - loss: 0.4251 - sparse_categorical_accuracy: 0.8226WARNING:tensorflow:Can save best model only with val_loss available, skipping.\n",
      "WARNING:tensorflow:Early stopping conditioned on metric `val_loss` which is not available. Available metrics are: loss,sparse_categorical_accuracy\n",
      "111/111 [==============================] - 1s 6ms/step - loss: 0.4292 - sparse_categorical_accuracy: 0.8218\n",
      "Epoch 161/200\n",
      "109/111 [============================>.] - ETA: 0s - loss: 0.4440 - sparse_categorical_accuracy: 0.8043WARNING:tensorflow:Can save best model only with val_loss available, skipping.\n",
      "WARNING:tensorflow:Early stopping conditioned on metric `val_loss` which is not available. Available metrics are: loss,sparse_categorical_accuracy\n",
      "111/111 [==============================] - 1s 5ms/step - loss: 0.4438 - sparse_categorical_accuracy: 0.8018\n",
      "Epoch 162/200\n",
      "111/111 [==============================] - ETA: 0s - loss: 0.5223 - sparse_categorical_accuracy: 0.8008WARNING:tensorflow:Can save best model only with val_loss available, skipping.\n",
      "WARNING:tensorflow:Early stopping conditioned on metric `val_loss` which is not available. Available metrics are: loss,sparse_categorical_accuracy\n",
      "111/111 [==============================] - 1s 5ms/step - loss: 0.5223 - sparse_categorical_accuracy: 0.8008\n",
      "Epoch 163/200\n",
      "103/111 [==========================>...] - ETA: 0s - loss: 0.4094 - sparse_categorical_accuracy: 0.8425WARNING:tensorflow:Can save best model only with val_loss available, skipping.\n",
      "WARNING:tensorflow:Early stopping conditioned on metric `val_loss` which is not available. Available metrics are: loss,sparse_categorical_accuracy\n",
      "111/111 [==============================] - 1s 5ms/step - loss: 0.4110 - sparse_categorical_accuracy: 0.8388\n",
      "Epoch 164/200\n",
      "102/111 [==========================>...] - ETA: 0s - loss: 0.4799 - sparse_categorical_accuracy: 0.8094WARNING:tensorflow:Can save best model only with val_loss available, skipping.\n",
      "WARNING:tensorflow:Early stopping conditioned on metric `val_loss` which is not available. Available metrics are: loss,sparse_categorical_accuracy\n",
      "111/111 [==============================] - 1s 5ms/step - loss: 0.4784 - sparse_categorical_accuracy: 0.8118\n",
      "Epoch 165/200\n",
      "103/111 [==========================>...] - ETA: 0s - loss: 0.4736 - sparse_categorical_accuracy: 0.8198WARNING:tensorflow:Can save best model only with val_loss available, skipping.\n",
      "WARNING:tensorflow:Early stopping conditioned on metric `val_loss` which is not available. Available metrics are: loss,sparse_categorical_accuracy\n",
      "111/111 [==============================] - 1s 5ms/step - loss: 0.4627 - sparse_categorical_accuracy: 0.8238\n",
      "Epoch 166/200\n",
      "107/111 [===========================>..] - ETA: 0s - loss: 0.4390 - sparse_categorical_accuracy: 0.8172WARNING:tensorflow:Can save best model only with val_loss available, skipping.\n",
      "WARNING:tensorflow:Early stopping conditioned on metric `val_loss` which is not available. Available metrics are: loss,sparse_categorical_accuracy\n",
      "111/111 [==============================] - 1s 5ms/step - loss: 0.4453 - sparse_categorical_accuracy: 0.8128\n",
      "Epoch 167/200\n",
      "108/111 [============================>.] - ETA: 0s - loss: 0.4313 - sparse_categorical_accuracy: 0.8179WARNING:tensorflow:Can save best model only with val_loss available, skipping.\n",
      "WARNING:tensorflow:Early stopping conditioned on metric `val_loss` which is not available. Available metrics are: loss,sparse_categorical_accuracy\n",
      "111/111 [==============================] - 1s 5ms/step - loss: 0.4342 - sparse_categorical_accuracy: 0.8148\n",
      "Epoch 168/200\n",
      "108/111 [============================>.] - ETA: 0s - loss: 0.4513 - sparse_categorical_accuracy: 0.8220WARNING:tensorflow:Can save best model only with val_loss available, skipping.\n",
      "WARNING:tensorflow:Early stopping conditioned on metric `val_loss` which is not available. Available metrics are: loss,sparse_categorical_accuracy\n",
      "111/111 [==============================] - 1s 5ms/step - loss: 0.4468 - sparse_categorical_accuracy: 0.8238\n",
      "Epoch 169/200\n",
      "102/111 [==========================>...] - ETA: 0s - loss: 0.4204 - sparse_categorical_accuracy: 0.8355WARNING:tensorflow:Can save best model only with val_loss available, skipping.\n",
      "WARNING:tensorflow:Early stopping conditioned on metric `val_loss` which is not available. Available metrics are: loss,sparse_categorical_accuracy\n",
      "111/111 [==============================] - 1s 5ms/step - loss: 0.4200 - sparse_categorical_accuracy: 0.8368\n",
      "Epoch 170/200\n",
      "102/111 [==========================>...] - ETA: 0s - loss: 0.4594 - sparse_categorical_accuracy: 0.8007WARNING:tensorflow:Can save best model only with val_loss available, skipping.\n",
      "WARNING:tensorflow:Early stopping conditioned on metric `val_loss` which is not available. Available metrics are: loss,sparse_categorical_accuracy\n",
      "111/111 [==============================] - 1s 5ms/step - loss: 0.4666 - sparse_categorical_accuracy: 0.8018\n",
      "Epoch 171/200\n",
      "103/111 [==========================>...] - ETA: 0s - loss: 0.4348 - sparse_categorical_accuracy: 0.8080WARNING:tensorflow:Can save best model only with val_loss available, skipping.\n",
      "WARNING:tensorflow:Early stopping conditioned on metric `val_loss` which is not available. Available metrics are: loss,sparse_categorical_accuracy\n",
      "111/111 [==============================] - 1s 5ms/step - loss: 0.4286 - sparse_categorical_accuracy: 0.8098\n",
      "Epoch 172/200\n",
      "104/111 [===========================>..] - ETA: 0s - loss: 0.4350 - sparse_categorical_accuracy: 0.8269WARNING:tensorflow:Can save best model only with val_loss available, skipping.\n",
      "WARNING:tensorflow:Early stopping conditioned on metric `val_loss` which is not available. Available metrics are: loss,sparse_categorical_accuracy\n",
      "111/111 [==============================] - 1s 5ms/step - loss: 0.4452 - sparse_categorical_accuracy: 0.8208\n",
      "Epoch 173/200\n",
      "103/111 [==========================>...] - ETA: 0s - loss: 0.4493 - sparse_categorical_accuracy: 0.8188WARNING:tensorflow:Can save best model only with val_loss available, skipping.\n",
      "WARNING:tensorflow:Early stopping conditioned on metric `val_loss` which is not available. Available metrics are: loss,sparse_categorical_accuracy\n",
      "111/111 [==============================] - 1s 7ms/step - loss: 0.4402 - sparse_categorical_accuracy: 0.8218\n",
      "Epoch 174/200\n",
      "111/111 [==============================] - ETA: 0s - loss: 0.4195 - sparse_categorical_accuracy: 0.8128WARNING:tensorflow:Can save best model only with val_loss available, skipping.\n",
      "WARNING:tensorflow:Early stopping conditioned on metric `val_loss` which is not available. Available metrics are: loss,sparse_categorical_accuracy\n",
      "111/111 [==============================] - 1s 5ms/step - loss: 0.4195 - sparse_categorical_accuracy: 0.8128\n",
      "Epoch 175/200\n",
      "107/111 [===========================>..] - ETA: 0s - loss: 0.5478 - sparse_categorical_accuracy: 0.8235WARNING:tensorflow:Can save best model only with val_loss available, skipping.\n",
      "WARNING:tensorflow:Early stopping conditioned on metric `val_loss` which is not available. Available metrics are: loss,sparse_categorical_accuracy\n",
      "111/111 [==============================] - 1s 5ms/step - loss: 0.5534 - sparse_categorical_accuracy: 0.8168\n",
      "Epoch 176/200\n",
      "106/111 [===========================>..] - ETA: 0s - loss: 0.4967 - sparse_categorical_accuracy: 0.8365- ETA: 0s - loss: 0.4078 - sparse_categorical_accuracyWARNING:tensorflow:Can save best model only with val_loss available, skipping.\n",
      "WARNING:tensorflow:Early stopping conditioned on metric `val_loss` which is not available. Available metrics are: loss,sparse_categorical_accuracy\n",
      "111/111 [==============================] - 1s 5ms/step - loss: 0.5020 - sparse_categorical_accuracy: 0.8348\n",
      "Epoch 177/200\n",
      "108/111 [============================>.] - ETA: 0s - loss: 0.4716 - sparse_categorical_accuracy: 0.8004WARNING:tensorflow:Can save best model only with val_loss available, skipping.\n",
      "WARNING:tensorflow:Early stopping conditioned on metric `val_loss` which is not available. Available metrics are: loss,sparse_categorical_accuracy\n",
      "111/111 [==============================] - 1s 5ms/step - loss: 0.4656 - sparse_categorical_accuracy: 0.8038\n",
      "Epoch 178/200\n",
      "105/111 [===========================>..] - ETA: 0s - loss: 0.4362 - sparse_categorical_accuracy: 0.8180WARNING:tensorflow:Can save best model only with val_loss available, skipping.\n",
      "WARNING:tensorflow:Early stopping conditioned on metric `val_loss` which is not available. Available metrics are: loss,sparse_categorical_accuracy\n",
      "111/111 [==============================] - 1s 6ms/step - loss: 0.4401 - sparse_categorical_accuracy: 0.8168\n",
      "Epoch 179/200\n",
      " 39/111 [=========>....................] - ETA: 0s - loss: 0.4882 - sparse_categorical_accuracy: 0.8376WARNING:tensorflow:Your input ran out of data; interrupting training. Make sure that your dataset or generator can generate at least `steps_per_epoch * epochs` batches (in this case, 22200 batches). You may need to use the repeat() function when building your dataset.\n",
      "WARNING:tensorflow:Can save best model only with val_loss available, skipping.\n",
      "WARNING:tensorflow:Early stopping conditioned on metric `val_loss` which is not available. Available metrics are: loss,sparse_categorical_accuracy\n",
      "111/111 [==============================] - 1s 8ms/step - loss: 0.4899 - sparse_categorical_accuracy: 0.8333\n"
     ]
    }
   ],
   "source": [
    "history = model.fit(X, Y, steps_per_epoch = len(X)//batch_size, epochs = epochs, \n",
    "                    callbacks = [checkpoint1, early_stop])"
   ]
  },
  {
   "cell_type": "code",
   "execution_count": 282,
   "id": "0ff1baca-23e4-4438-9e19-2bcee6eac3aa",
   "metadata": {},
   "outputs": [
    {
     "name": "stdout",
     "output_type": "stream",
     "text": [
      "7/7 [==============================] - 0s 4ms/step - loss: 0.4049 - sparse_categorical_accuracy: 0.8227\n"
     ]
    }
   ],
   "source": [
    "results = model.evaluate(X, Y, batch_size=128)"
   ]
  },
  {
   "cell_type": "code",
   "execution_count": 283,
   "id": "4cf8cf72-2799-458d-9a9b-22b8f5eeae1d",
   "metadata": {},
   "outputs": [],
   "source": [
    "previsoes = model.predict(f_test)\n",
    "pred = np.argmax(previsoes, axis = 1)"
   ]
  },
  {
   "cell_type": "code",
   "execution_count": 284,
   "id": "6dd59401-94d9-4446-a029-80210c0c3b7c",
   "metadata": {},
   "outputs": [],
   "source": [
    "submission = pd.DataFrame({\n",
    "        \"PassengerId\": df_test['PassengerId'],\n",
    "        \"Survived\": pred\n",
    "    })\n",
    "submission.to_csv('submissionTensorflow.csv', index=False)"
   ]
  }
 ],
 "metadata": {
  "kernelspec": {
   "display_name": "Python 3 (ipykernel)",
   "language": "python",
   "name": "python3"
  },
  "language_info": {
   "codemirror_mode": {
    "name": "ipython",
    "version": 3
   },
   "file_extension": ".py",
   "mimetype": "text/x-python",
   "name": "python",
   "nbconvert_exporter": "python",
   "pygments_lexer": "ipython3",
   "version": "3.9.12"
  }
 },
 "nbformat": 4,
 "nbformat_minor": 5
}
